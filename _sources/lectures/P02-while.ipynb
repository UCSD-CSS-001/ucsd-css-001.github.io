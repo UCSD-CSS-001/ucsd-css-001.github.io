{
 "cells": [
  {
   "cell_type": "markdown",
   "source": [
    "# P02: While loops\n",
    "\n",
    "## While Loops\n",
    "\n",
    "\n",
    "A **while loop** is a procedure to repeat a piece of code while some condition is still met."
   ],
   "metadata": {
    "collapsed": false,
    "pycharm": {
     "name": "#%% md\n"
    }
   }
  },
  {
   "cell_type": "markdown",
   "source": [
    "`while` loops always have the structure:\n",
    "\n",
    "```python\n",
    "while condition:\n",
    "    # Loop contents\n",
    "```\n",
    "\n",
    "While condition is true, execute the code contents.\n",
    "\n",
    "Repeat until condition is no longer True."
   ],
   "metadata": {
    "collapsed": false
   }
  },
  {
   "cell_type": "markdown",
   "source": [
    "## While Loops"
   ],
   "metadata": {
    "collapsed": false
   }
  },
  {
   "cell_type": "code",
   "execution_count": null,
   "outputs": [],
   "source": [
    "number = 10\n",
    "\n",
    "while number >= 0:\n",
    "    print(number)\n",
    "    number = number - 1"
   ],
   "metadata": {
    "collapsed": false,
    "pycharm": {
     "name": "#%%\n"
    }
   }
  },
  {
   "cell_type": "markdown",
   "source": [
    "### Infinite loops\n",
    "\n",
    "While loops are a great way for beginners to shoot themselves in the foot:\n",
    "it is very easy to introduce a slight bug that causes the while condition to always evaluate to true, and thus the while loop will never stop.  When this happens, you have to stop the python kernel/interpreter, and start over.  For this reason, you should not use while loops unless you have a very good reason to do so.  For-loops are preferable!\n",
    "\n",
    "Examples of while loops that never end:\n",
    "\n",
    "```python\n",
    "number = 10\n",
    "while number >= 0:\n",
    "    print(number)\n",
    "\n",
    "number = number - 1\n",
    "```\n",
    "\n",
    "```python\n",
    "number = 10\n",
    "while number >= 0:\n",
    "    print(number)\n",
    "    number = number + 1\n",
    "```\n",
    "\n",
    "```python\n",
    "number = 0\n",
    "while number <= 0:\n",
    "    print(number)\n",
    "    number = number - 1\n",
    "```\n"
   ],
   "metadata": {
    "collapsed": false,
    "pycharm": {
     "name": "#%% md\n"
    }
   }
  }
 ],
 "metadata": {
  "kernelspec": {
   "display_name": "Python 3",
   "language": "python",
   "name": "python3"
  },
  "language_info": {
   "codemirror_mode": {
    "name": "ipython",
    "version": 2
   },
   "file_extension": ".py",
   "mimetype": "text/x-python",
   "name": "python",
   "nbconvert_exporter": "python",
   "pygments_lexer": "ipython2",
   "version": "2.7.6"
  }
 },
 "nbformat": 4,
 "nbformat_minor": 0
}