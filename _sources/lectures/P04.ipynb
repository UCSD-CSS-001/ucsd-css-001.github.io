{
 "cells": [
  {
   "cell_type": "markdown",
   "metadata": {
    "collapsed": true,
    "pycharm": {
     "name": "#%% md\n"
    }
   },
   "source": [
    "# P04: dictionaries, sets, and files\n",
    "- **Concepts**: ordered vs not, hash\n",
    "- **Python dict, set**: hashable, set, dict, .update(), del\n",
    "- **Python files**: open, close, with open as fp\n",
    "\n",
    "## Concepts\n",
    "\n",
    "### Hashable, immutable\n",
    "\n",
    "- [**Immutable**](https://en.wikipedia.org/wiki/Immutable_object) variables/objects cannot be changed after they are created.  For instance, in Python, a string cannot be modified, it can just be replaced with a new string.  In contrast, a list can be modified: you can add new items to it without creating a new list object.\n",
    "\n",
    "- **Hashable** variables/objects are immutable, and can support the calculation of a [hash](https://en.wikipedia.org/wiki/Hash_function).  This includes integers, floats, strings, tuples, booleans.\n",
    "\n",
    "### Sets\n",
    "\n",
    "### Dictionary: Hash-table / mapping\n",
    "\n",
    "### Files\n",
    "\n",
    "#### Paths\n",
    "\n",
    "#### Formats\n",
    "\n",
    "## Python\n",
    "\n",
    "### Sets\n",
    "\n",
    "Sets are *unordered*, *mutable*, *collections*, of *distinct*, *hashable* elements.\n",
    "\n",
    "In Python sets are like lists in that they:\n",
    " - are *mutable* (so you can change them),\n",
    " - are *collections* of other objects (so you can iterate over them, get their `len()`, check membership with `in`).\n",
    "\n",
    "However, they are unlike lists in that:\n",
    "- they are *unordered* so they cannot be indexed or sliced.\n",
    "- they may contain only *hashable* items (so they cannot contain things like lists, dictionaries, sets).\n",
    "- every item they contain must be *distinct*.\n",
    "\n",
    "Sets are created with `set(vals)` where `vals` is typically a list or some other kind of iterable entity."
   ]
  },
  {
   "cell_type": "code",
   "execution_count": 21,
   "outputs": [
    {
     "name": "stdout",
     "output_type": "stream",
     "text": [
      "{3, 'b', 4, 'a'}\n"
     ]
    }
   ],
   "source": [
    "x = set(['a', 'b', 3, 4])\n",
    "print(x)"
   ],
   "metadata": {
    "collapsed": false,
    "pycharm": {
     "name": "#%%\n"
    }
   }
  },
  {
   "cell_type": "markdown",
   "source": [
    "Sets can be modified with the methods `.add()` or `.remove()`\n"
   ],
   "metadata": {
    "collapsed": false,
    "pycharm": {
     "name": "#%% md\n"
    }
   }
  },
  {
   "cell_type": "code",
   "execution_count": 22,
   "outputs": [
    {
     "name": "stdout",
     "output_type": "stream",
     "text": [
      "{3, 'b', 4, 'a'}\n",
      "{3, 4, 10, 'b', 'a', 'abs'}\n",
      "{3, 4, 10, 'b', 'a', 'abs'}\n"
     ]
    }
   ],
   "source": [
    "print(x)\n",
    "x.add('abs')\n",
    "x.add(10)\n",
    "print(x)\n",
    "\n",
    "x.add(3) # no effect\n",
    "print(x)"
   ],
   "metadata": {
    "collapsed": false,
    "pycharm": {
     "name": "#%%\n"
    }
   }
  },
  {
   "cell_type": "markdown",
   "source": [
    "Note: sets are presented in some kind of order, but that order changes when the set is changed.\n",
    "\n",
    "Note: adding an existing item has no effect, since sets have only disctinct items.\n"
   ],
   "metadata": {
    "collapsed": false
   }
  },
  {
   "cell_type": "code",
   "execution_count": null,
   "outputs": [],
   "source": [
    "print(x)\n",
    "x.remove(5)\n",
    "print(x)"
   ],
   "metadata": {
    "collapsed": false,
    "pycharm": {
     "name": "#%%\n"
    }
   }
  },
  {
   "cell_type": "markdown",
   "source": [
    "Set membership can be evaluated with `in`"
   ],
   "metadata": {
    "collapsed": false
   }
  },
  {
   "cell_type": "code",
   "execution_count": null,
   "outputs": [],
   "source": [
    "6 in x"
   ],
   "metadata": {
    "collapsed": false,
    "pycharm": {
     "name": "#%%\n"
    }
   }
  },
  {
   "cell_type": "markdown",
   "source": [
    "Sets can be iterated over with a `for loop`"
   ],
   "metadata": {
    "collapsed": false
   }
  },
  {
   "cell_type": "code",
   "execution_count": 23,
   "outputs": [
    {
     "name": "stdout",
     "output_type": "stream",
     "text": [
      "3\n",
      "4\n",
      "10\n",
      "b\n",
      "a\n",
      "abs\n"
     ]
    }
   ],
   "source": [
    "for item in x:\n",
    "    print(item)"
   ],
   "metadata": {
    "collapsed": false,
    "pycharm": {
     "name": "#%%\n"
    }
   }
  },
  {
   "cell_type": "markdown",
   "source": [
    "Sets are useful because:\n",
    "2. they are efficient for keeping track of unique things.\n",
    "1. they support *set operations* (union, intersection, difference\n",
    "\n",
    "#### Set operations"
   ],
   "metadata": {
    "collapsed": false
   }
  },
  {
   "cell_type": "code",
   "execution_count": 26,
   "outputs": [
    {
     "name": "stdout",
     "output_type": "stream",
     "text": [
      "{'p', 'd', 'n', 'a'}\n",
      "{'o', 'c', 'g', 'a', 'n'}\n"
     ]
    }
   ],
   "source": [
    "A = set('panda')\n",
    "B = set('conga')\n",
    "print(A)\n",
    "print(B)"
   ],
   "metadata": {
    "collapsed": false,
    "pycharm": {
     "name": "#%%\n"
    }
   }
  },
  {
   "cell_type": "markdown",
   "source": [
    "Set union: items in A or B"
   ],
   "metadata": {
    "collapsed": false
   }
  },
  {
   "cell_type": "code",
   "execution_count": 27,
   "outputs": [
    {
     "name": "stdout",
     "output_type": "stream",
     "text": [
      "{'p', 'o', 'c', 'g', 'a', 'd', 'n'}\n"
     ]
    }
   ],
   "source": [
    "print(A | B)"
   ],
   "metadata": {
    "collapsed": false,
    "pycharm": {
     "name": "#%%\n"
    }
   }
  },
  {
   "cell_type": "markdown",
   "source": [
    "Set intersections: items in A and B"
   ],
   "metadata": {
    "collapsed": false
   }
  },
  {
   "cell_type": "code",
   "execution_count": 28,
   "outputs": [
    {
     "name": "stdout",
     "output_type": "stream",
     "text": [
      "{'n', 'a'}\n"
     ]
    }
   ],
   "source": [
    "print(A & B)"
   ],
   "metadata": {
    "collapsed": false,
    "pycharm": {
     "name": "#%%\n"
    }
   }
  },
  {
   "cell_type": "markdown",
   "source": [
    "Set difference: items in A but not B"
   ],
   "metadata": {
    "collapsed": false
   }
  },
  {
   "cell_type": "code",
   "execution_count": 29,
   "outputs": [
    {
     "name": "stdout",
     "output_type": "stream",
     "text": [
      "{'p', 'd'}\n"
     ]
    }
   ],
   "source": [
    "print(A - B)"
   ],
   "metadata": {
    "collapsed": false,
    "pycharm": {
     "name": "#%%\n"
    }
   }
  },
  {
   "cell_type": "markdown",
   "source": [
    "Set symmetric difference: items in either set but *not both* sets.  (items in union but not in intersection)"
   ],
   "metadata": {
    "collapsed": false
   }
  },
  {
   "cell_type": "code",
   "execution_count": 30,
   "outputs": [
    {
     "name": "stdout",
     "output_type": "stream",
     "text": [
      "{'p', 'o', 'd', 'c', 'g'}\n"
     ]
    }
   ],
   "source": [
    "print(A ^ B)"
   ],
   "metadata": {
    "collapsed": false,
    "pycharm": {
     "name": "#%%\n"
    }
   }
  },
  {
   "cell_type": "markdown",
   "source": [
    "\n",
    "### Dictionaries\n",
    "\n",
    "\n",
    "Dictionaries are *unordered*, *mutable*, *collections*, of *key*-*value* pairs.  They are a mapping from *distinct*, *hashable* keys, onto values.\n",
    "\n",
    "In Python dictionaries are like lists in that they:\n",
    " - are *mutable* (so you can change them),\n",
    " - are *collections* of other objects (so you can iterate over them, get their `len()`, check membership with `in`).\n",
    " - you can get items with square brackets `[]` (but not with integer index)\n",
    "\n",
    "However, they are unlike lists in that:\n",
    "- they are *unordered* so they cannot be indexed with integers or sliced.\n",
    "- the are *mappings* between *distinct*, *hashable* keys, and values.\n",
    "\n",
    "Dictionaries are created with `dict()`, or with `{key:value}` notation."
   ],
   "metadata": {
    "collapsed": false
   }
  },
  {
   "cell_type": "code",
   "execution_count": 53,
   "outputs": [
    {
     "name": "stdout",
     "output_type": "stream",
     "text": [
      "{'CSS2': 'Data/Model Python', 'CSS1': 'Intro Python'}\n"
     ]
    }
   ],
   "source": [
    "courses = dict()\n",
    "courses['CSS2'] = 'Data/Model Python'\n",
    "courses['CSS1'] = 'Intro Python'\n",
    "print(courses)\n",
    "\n",
    "courses = {'CSS2': 'Data/Model Python', 'CSS1': 'Intro Python'}"
   ],
   "metadata": {
    "collapsed": false,
    "pycharm": {
     "name": "#%%\n"
    }
   }
  },
  {
   "cell_type": "markdown",
   "source": [
    "Dictionary elements can be accessed via their keys."
   ],
   "metadata": {
    "collapsed": false
   }
  },
  {
   "cell_type": "code",
   "execution_count": 54,
   "outputs": [
    {
     "name": "stdout",
     "output_type": "stream",
     "text": [
      "Intro Python\n"
     ]
    }
   ],
   "source": [
    "print(courses['CSS1'])"
   ],
   "metadata": {
    "collapsed": false,
    "pycharm": {
     "name": "#%%\n"
    }
   }
  },
  {
   "cell_type": "markdown",
   "source": [
    "Items can be added to dictionaries by assigning to new keys,"
   ],
   "metadata": {
    "collapsed": false
   }
  },
  {
   "cell_type": "code",
   "execution_count": 55,
   "outputs": [
    {
     "name": "stdout",
     "output_type": "stream",
     "text": [
      "{'CSS2': 'Data/Model Python', 'CSS1': 'Intro Python', 'ABB': 'Is this a course?'}\n"
     ]
    }
   ],
   "source": [
    "courses['ABB'] = 'Is this a course?'\n",
    "print(courses)"
   ],
   "metadata": {
    "collapsed": false,
    "pycharm": {
     "name": "#%%\n"
    }
   }
  },
  {
   "cell_type": "markdown",
   "source": [
    "Dictionaries can be updated with `.update()`, which will add new keys, and update the values of existing keys."
   ],
   "metadata": {
    "collapsed": false
   }
  },
  {
   "cell_type": "code",
   "execution_count": 56,
   "outputs": [
    {
     "name": "stdout",
     "output_type": "stream",
     "text": [
      "{'CSS2': 'Data/Model Python', 'CSS1': 'Intro Python', 'ABB': 'this is not a course', 'CSS100': 'Analytic Programming'}\n"
     ]
    }
   ],
   "source": [
    "new_courses = {'ABB': 'this is not a course', 'CSS100':'Analytic Programming'}\n",
    "courses.update(new_courses)\n",
    "print(courses)"
   ],
   "metadata": {
    "collapsed": false,
    "pycharm": {
     "name": "#%%\n"
    }
   }
  },
  {
   "cell_type": "markdown",
   "source": [
    "Elements of dictionaries can be deleted with the `del` keyword:"
   ],
   "metadata": {
    "collapsed": false
   }
  },
  {
   "cell_type": "code",
   "execution_count": 57,
   "outputs": [
    {
     "name": "stdout",
     "output_type": "stream",
     "text": [
      "{'CSS2': 'Data/Model Python', 'CSS1': 'Intro Python', 'CSS100': 'Analytic Programming'}\n"
     ]
    }
   ],
   "source": [
    "del courses['ABB']\n",
    "print(courses)"
   ],
   "metadata": {
    "collapsed": false,
    "pycharm": {
     "name": "#%%\n"
    }
   }
  },
  {
   "cell_type": "markdown",
   "source": [
    "You can check if a key exists in a dictionary with `in`:"
   ],
   "metadata": {
    "collapsed": false
   }
  },
  {
   "cell_type": "code",
   "execution_count": 58,
   "outputs": [
    {
     "name": "stdout",
     "output_type": "stream",
     "text": [
      "True\n",
      "False\n"
     ]
    }
   ],
   "source": [
    "print('CSS1' in courses)\n",
    "print('ABB' in courses)"
   ],
   "metadata": {
    "collapsed": false,
    "pycharm": {
     "name": "#%%\n"
    }
   }
  },
  {
   "cell_type": "markdown",
   "source": [
    "\n",
    "\n",
    "#### Keys, Values, Items\n",
    "\n",
    "You can get (or iterate over) just the keys with `.keys()`."
   ],
   "metadata": {
    "collapsed": false
   }
  },
  {
   "cell_type": "code",
   "execution_count": 59,
   "outputs": [
    {
     "name": "stdout",
     "output_type": "stream",
     "text": [
      "dict_keys(['CSS2', 'CSS1', 'CSS100'])\n",
      "\n",
      "CSS2\n",
      "CSS1\n",
      "CSS100\n"
     ]
    }
   ],
   "source": [
    "print(courses.keys())\n",
    "print('')\n",
    "for k in courses.keys():\n",
    "    print(k)"
   ],
   "metadata": {
    "collapsed": false,
    "pycharm": {
     "name": "#%%\n"
    }
   }
  },
  {
   "cell_type": "markdown",
   "source": [
    "You can get just the values with `.values()`."
   ],
   "metadata": {
    "collapsed": false
   }
  },
  {
   "cell_type": "code",
   "execution_count": 60,
   "outputs": [
    {
     "name": "stdout",
     "output_type": "stream",
     "text": [
      "dict_values(['Data/Model Python', 'Intro Python', 'Analytic Programming'])\n",
      "\n",
      "Data/Model Python\n",
      "Intro Python\n",
      "Analytic Programming\n"
     ]
    }
   ],
   "source": [
    "print(courses.values())\n",
    "print('')\n",
    "for v in courses.values():\n",
    "    print(v)"
   ],
   "metadata": {
    "collapsed": false,
    "pycharm": {
     "name": "#%%\n"
    }
   }
  },
  {
   "cell_type": "markdown",
   "source": [
    "You can get key-value pairs (as tuples) with `.items()`."
   ],
   "metadata": {
    "collapsed": false
   }
  },
  {
   "cell_type": "code",
   "execution_count": 61,
   "outputs": [
    {
     "name": "stdout",
     "output_type": "stream",
     "text": [
      "dict_items([('CSS2', 'Data/Model Python'), ('CSS1', 'Intro Python'), ('CSS100', 'Analytic Programming')])\n",
      "\n",
      "('CSS2', 'Data/Model Python')\n",
      "('CSS1', 'Intro Python')\n",
      "('CSS100', 'Analytic Programming')\n"
     ]
    }
   ],
   "source": [
    "print(courses.items())\n",
    "print('')\n",
    "for pair in courses.items():\n",
    "    print(pair)"
   ],
   "metadata": {
    "collapsed": false,
    "pycharm": {
     "name": "#%%\n"
    }
   }
  },
  {
   "cell_type": "markdown",
   "source": [
    "It is often useful to do assignment unpacking, to unpack the (key,value) tuple into two variables:"
   ],
   "metadata": {
    "collapsed": false
   }
  },
  {
   "cell_type": "code",
   "execution_count": 62,
   "outputs": [
    {
     "name": "stdout",
     "output_type": "stream",
     "text": [
      "Course number CSS2 is titled Data/Model Python\n",
      "Course number CSS1 is titled Intro Python\n",
      "Course number CSS100 is titled Analytic Programming\n"
     ]
    }
   ],
   "source": [
    "for k,v in courses.items():\n",
    "    print(f'Course number {k} is titled {v}')"
   ],
   "metadata": {
    "collapsed": false,
    "pycharm": {
     "name": "#%%\n"
    }
   }
  },
  {
   "cell_type": "markdown",
   "source": [
    "#### Sorting\n",
    "\n",
    "As you saw above, the order of key-value pairs in a dictionary is determined by when they were added.  Often we want to sort the contents either by the keys, or by the values.   In either case, to get a sorted dictionary, we will end up making a new dictionary by inserting key-value pairs in a sorted order.\n",
    "\n",
    "**By keys**"
   ],
   "metadata": {
    "collapsed": false
   }
  },
  {
   "cell_type": "code",
   "execution_count": 63,
   "outputs": [
    {
     "name": "stdout",
     "output_type": "stream",
     "text": [
      "{'CSS2': 'Data/Model Python', 'CSS1': 'Intro Python', 'CSS100': 'Analytic Programming'}\n",
      "{'CSS1': 'Intro Python', 'CSS100': 'Analytic Programming', 'CSS2': 'Data/Model Python'}\n"
     ]
    }
   ],
   "source": [
    "sorted_courses = dict()\n",
    "for k in sorted(courses.keys()):\n",
    "    sorted_courses[k] = courses[k]\n",
    "\n",
    "print(courses)\n",
    "print(sorted_courses)"
   ],
   "metadata": {
    "collapsed": false,
    "pycharm": {
     "name": "#%%\n"
    }
   }
  },
  {
   "cell_type": "markdown",
   "source": [
    "**By values**\n",
    "\n",
    "Sorting by values is a bit tricky -- we can sort the values, but we have no reliable way to figure out which keys were associated with the sorted values.  Consequently, we have to sort the key-value items.  But doing so requires that we can tell the `sorted` function to use the second element of the pair to sort.  This is all doable, but involves either writing an anonymous function (not hard, we just havent covered it yet), or importing a library that creates that anonymous function for us.\n",
    "\n",
    "We will show you how to do this using the `itemgetter` function from the `operator` library"
   ],
   "metadata": {
    "collapsed": false
   }
  },
  {
   "cell_type": "code",
   "execution_count": 64,
   "outputs": [
    {
     "name": "stdout",
     "output_type": "stream",
     "text": [
      "before sorting, items in order of insertion:  \n",
      "('CSS2', 'Data/Model Python')\n",
      "('CSS1', 'Intro Python')\n",
      "('CSS100', 'Analytic Programming')\n",
      "default sorting sorts by first item of tuple:  \n",
      "('CSS1', 'Intro Python')\n",
      "('CSS100', 'Analytic Programming')\n",
      "('CSS2', 'Data/Model Python')\n",
      "sorting by the second item of the tuple with key=itemgetter(1):  \n",
      "('CSS100', 'Analytic Programming')\n",
      "('CSS2', 'Data/Model Python')\n",
      "('CSS1', 'Intro Python')\n"
     ]
    }
   ],
   "source": [
    "from operator import itemgetter # this imports the itemgetter function\n",
    "print(\"before sorting, items in order of insertion:  \")\n",
    "for item in courses.items():\n",
    "    print(item)\n",
    "\n",
    "print(\"default sorting sorts by first element of pair (key):  \")\n",
    "for item in sorted(courses.items()):\n",
    "    print(item)\n",
    "\n",
    "print(\"sorting by the second element (index=1) of the pair with key=itemgetter(1):  \")\n",
    "for item in sorted(courses.items(), key=itemgetter(1)):\n",
    "    print(item)"
   ],
   "metadata": {
    "collapsed": false,
    "pycharm": {
     "name": "#%%\n"
    }
   }
  },
  {
   "cell_type": "markdown",
   "source": [
    "Making a new sorted dictionary:"
   ],
   "metadata": {
    "collapsed": false
   }
  },
  {
   "cell_type": "code",
   "execution_count": 65,
   "outputs": [
    {
     "name": "stdout",
     "output_type": "stream",
     "text": [
      "{'CSS100': 'Analytic Programming', 'CSS2': 'Data/Model Python', 'CSS1': 'Intro Python'}\n"
     ]
    }
   ],
   "source": [
    "courses_by_title = dict()\n",
    "\n",
    "for number,title in sorted(courses.items(), key=itemgetter(1)):\n",
    "    courses_by_title[number] = title\n",
    "\n",
    "print(courses_by_title)"
   ],
   "metadata": {
    "collapsed": false,
    "pycharm": {
     "name": "#%%\n"
    }
   }
  },
  {
   "cell_type": "markdown",
   "source": [
    "Finally, for a very pithy, advanced syntax, we could do it with dictionary comprehension:"
   ],
   "metadata": {
    "collapsed": false
   }
  },
  {
   "cell_type": "code",
   "execution_count": 67,
   "outputs": [
    {
     "name": "stdout",
     "output_type": "stream",
     "text": [
      "{'CSS100': 'Analytic Programming', 'CSS2': 'Data/Model Python', 'CSS1': 'Intro Python'}\n"
     ]
    }
   ],
   "source": [
    "courses_by_title = {k:v for k,v in sorted(courses.items(), key=itemgetter(1))}\n",
    "print(courses_by_title)"
   ],
   "metadata": {
    "collapsed": false,
    "pycharm": {
     "name": "#%%\n"
    }
   }
  },
  {
   "cell_type": "markdown",
   "source": [
    "### Reading files\n",
    "\n",
    "#### Finding a file\n",
    "\n",
    "- Files are stored somewhere in your computer systems hard drive or storage area.\n",
    "\n",
    "- That location is specified via a file **path**.\n",
    "\n",
    "- A file path encodes the location of the file within the directory structure on the computer.\n",
    "\n",
    "- *Absolute* file paths encode the location of the file relative to the root, or base directory of the file system.  So let's say we have a file named `filename.ext` located in `folder2`, which is located inside `evul`, which is inside `Users`, which is in the base (root) directory of the file system.  On a unix machine (such as Mac OS, Linux, etc.) this location is encoded as follows `/Users/evul/folder2/filename.ext` where the slashes (`/`) indicates directories or folders.  Windows machines use the forward slash, so that path would look like `C:\\Users\\evul\\folder2\\filename.ext`.\n",
    "\n",
    "- *Relative* file paths encode the location of the file relative to the current location or path, where the program is running.  So if a program has been launched in the folder `/Users/evul/programs/`, then the relative path to `/Users/evul/folder2/filename.ext` would involve going up one directory in the file tree `..`, then down into `folder2` and getting `filename.ext`.  The full relative path would be `../folder2/filename.ext`.  The key part here is that `..` refers to the parent directory.\n",
    "\n",
    "#### Opening a file\n",
    "\n",
    "- Files are accessed via the `open(file, mode)` command, specifying the (relative or absolute) path to the  file, and the mode with which you want to open it ('r' for read, 'w' for write, 'a' for append, there are [more](https://docs.python.org/3/library/functions.html#open)).\n",
    "\n",
    "- Opening a file creates a file object which can be read from (or written to).  Assuming we are dealing with text files, `file.read()` reads the entire content of the file as one string.  `file.readlines()` reads the entire content of the file as a list of strings, with each element corresponding to one line in the text file.  `file.readline()` reads one line at a time, and is helpful if your file is large, and you do not want to load its entirety into memory.\n",
    "\n",
    "- When you open a file, your operating system is notified that some program is doing something to that file, and it will prevent other changes from being made to that file. Consequently, it is important that you *close* the file after opening it.  In Python, the easiest way to make this that this is done without errors is via the `with` keyword, that creates a temporary context in which the file is open, and then closes the file as soon as all the operations that need to be carried out on the file are completed.\n",
    "\n",
    "To avoid overloading you with options and alternatives, we will presume that all text files are read as follows:"
   ],
   "metadata": {
    "collapsed": false
   }
  },
  {
   "cell_type": "code",
   "execution_count": 68,
   "outputs": [
    {
     "name": "stdout",
     "output_type": "stream",
     "text": [
      "['This is line 1.\\n', 'This is line 2, it contains the following phrase: \"Hello!\"\\n', '\"What?\" is the first word on line 3.\\n', '\\n', '(the line above is blank)\\n', 'This is the last line of the file.']\n"
     ]
    }
   ],
   "source": [
    "with open('../datasets/example.txt', 'r') as fp:\n",
    "    file_contents = fp.readlines()\n",
    "\n",
    "print(file_contents)"
   ],
   "metadata": {
    "collapsed": false,
    "pycharm": {
     "name": "#%%\n"
    }
   }
  },
  {
   "cell_type": "markdown",
   "source": [
    "this creates the variable `file_contents` which contains a list, with each element of that list being a line of the file (here, the file is `example.txt` located in a sibling directory called `datasets`.  Note the escape sequence `'\\n'` in the strings -- these are the *newline* escape character, and is how we encode line breaks inside strings."
   ],
   "metadata": {
    "collapsed": false,
    "pycharm": {
     "name": "#%% md\n"
    }
   }
  }
 ],
 "metadata": {
  "kernelspec": {
   "display_name": "Python 3",
   "language": "python",
   "name": "python3"
  },
  "language_info": {
   "codemirror_mode": {
    "name": "ipython",
    "version": 2
   },
   "file_extension": ".py",
   "mimetype": "text/x-python",
   "name": "python",
   "nbconvert_exporter": "python",
   "pygments_lexer": "ipython2",
   "version": "2.7.6"
  }
 },
 "nbformat": 4,
 "nbformat_minor": 0
}