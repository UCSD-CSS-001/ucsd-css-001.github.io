{
 "cells": [
  {
   "cell_type": "markdown",
   "metadata": {
    "collapsed": true,
    "pycharm": {
     "name": "#%% md\n"
    }
   },
   "source": [
    "# P09: more data: joins and file types\n",
    "\n",
    "## Concepts\n",
    "\n",
    "### File format\n",
    "\n",
    "### Joins\n",
    "\n",
    "\n",
    "## Python\n",
    "\n",
    "\n",
    "### reading different file formats\n",
    "\n",
    "### pandas joins\n",
    "\n",
    "### pandas reshaping\n",
    "\n",
    "\n",
    "\n",
    "\n",
    "\n"
   ]
  }
 ],
 "metadata": {
  "kernelspec": {
   "display_name": "Python 3",
   "language": "python",
   "name": "python3"
  },
  "language_info": {
   "codemirror_mode": {
    "name": "ipython",
    "version": 2
   },
   "file_extension": ".py",
   "mimetype": "text/x-python",
   "name": "python",
   "nbconvert_exporter": "python",
   "pygments_lexer": "ipython2",
   "version": "2.7.6"
  }
 },
 "nbformat": 4,
 "nbformat_minor": 0
}