{
 "cells": [
  {
   "cell_type": "markdown",
   "source": [
    "# P04: dictionaries, sets, and files\n",
    "- **Concepts**: ordered vs not, hash\n",
    "- **Python dict, set**: hashable, set, dict, .update(), del\n",
    "- **Python files**: open, close, with open as fp\n",
    "\n",
    "\n",
    "\n",
    "### Reading files\n",
    "\n",
    "#### Finding a file\n",
    "\n",
    "- Files are stored somewhere in your computer systems hard drive or storage area.\n",
    "\n",
    "- That location is specified via a file **path**.\n",
    "\n",
    "- A file path encodes the location of the file within the directory structure on the computer.\n",
    "\n",
    "- *Absolute* file paths encode the location of the file relative to the root, or base directory of the file system.  So let's say we have a file named `filename.ext` located in `folder2`, which is located inside `evul`, which is inside `Users`, which is in the base (root) directory of the file system.  On a unix machine (such as Mac OS, Linux, etc.) this location is encoded as follows `/Users/evul/folder2/filename.ext` where the slashes (`/`) indicates directories or folders.  Windows machines use the forward slash, so that path would look like `C:\\Users\\evul\\folder2\\filename.ext`.\n",
    "\n",
    "- *Relative* file paths encode the location of the file relative to the current location or path, where the program is running.  So if a program has been launched in the folder `/Users/evul/programs/`, then the relative path to `/Users/evul/folder2/filename.ext` would involve going up one directory in the file tree `..`, then down into `folder2` and getting `filename.ext`.  The full relative path would be `../folder2/filename.ext`.  The key part here is that `..` refers to the parent directory.\n",
    "\n",
    "#### Opening a file\n",
    "\n",
    "- Files are accessed via the `open(file, mode)` command, specifying the (relative or absolute) path to the  file, and the mode with which you want to open it ('r' for read, 'w' for write, 'a' for append, there are [more](https://docs.python.org/3/library/functions.html#open)).\n",
    "\n",
    "- Opening a file creates a file object which can be read from (or written to).  Assuming we are dealing with text files, `file.read()` reads the entire content of the file as one string.  `file.readlines()` reads the entire content of the file as a list of strings, with each element corresponding to one line in the text file.  `file.readline()` reads one line at a time, and is helpful if your file is large, and you do not want to load its entirety into memory.\n",
    "\n",
    "- When you open a file, your operating system is notified that some program is doing something to that file, and it will prevent other changes from being made to that file. Consequently, it is important that you *close* the file after opening it.  In Python, the easiest way to make this that this is done without errors is via the `with` keyword, that creates a temporary context in which the file is open, and then closes the file as soon as all the operations that need to be carried out on the file are completed.\n",
    "\n",
    "To avoid overloading you with options and alternatives, we will presume that all text files are read as follows:"
   ],
   "metadata": {
    "collapsed": false
   }
  },
  {
   "cell_type": "code",
   "execution_count": null,
   "outputs": [],
   "source": [
    "with open('../datasets/example.txt', 'r') as fp:\n",
    "    file_contents = fp.readlines()\n",
    "\n",
    "print(file_contents)"
   ],
   "metadata": {
    "collapsed": false,
    "pycharm": {
     "name": "#%%\n"
    }
   }
  },
  {
   "cell_type": "markdown",
   "source": [
    "this creates the variable `file_contents` which contains a list, with each element of that list being a line of the file (here, the file is `example.txt` located in a sibling directory called `datasets`.  Note the escape sequence `'\\n'` in the strings -- these are the *newline* escape character, and is how we encode line breaks inside strings.\n",
    "\n",
    "\n",
    "\n",
    "\n",
    "\n",
    "## An important aside: File Paths"
   ],
   "metadata": {
    "collapsed": false
   }
  },
  {
   "cell_type": "markdown",
   "source": [
    "<div class=\"alert alert-success\">\n",
    "The specific location of a file or folder on your computer. </div>"
   ],
   "metadata": {
    "collapsed": false
   }
  },
  {
   "cell_type": "markdown",
   "source": [
    "When using a Graphical User Interface (GUI), you click on directories to access subdirectories and finally find the file you're interested in."
   ],
   "metadata": {
    "collapsed": false
   }
  },
  {
   "cell_type": "markdown",
   "source": [
    "When using the command line, you specify a file's path explicitly with text."
   ],
   "metadata": {
    "collapsed": false
   }
  },
  {
   "cell_type": "markdown",
   "source": [
    "### Absolute vs. Relative Paths\n",
    "\n",
    "The two ways to specify the path to your file of interest allow for flexibility in programming."
   ],
   "metadata": {
    "collapsed": false
   }
  },
  {
   "cell_type": "markdown",
   "source": [
    "#### Absolute Paths"
   ],
   "metadata": {
    "collapsed": false
   }
  },
  {
   "cell_type": "markdown",
   "source": [
    "<div class=\"alert alert-success\">\n",
    "<b>Absolute paths</b> specify the <b>full</b> path for a given file system (starting from the root directory).\n",
    "</div>"
   ],
   "metadata": {
    "collapsed": false
   }
  },
  {
   "cell_type": "markdown",
   "source": [
    "**root** specifies the 'highest' directory in the file structure (the start).\n",
    "\n",
    "An absolute file path starts with a slash `/` specifying the root directory.\n"
   ],
   "metadata": {
    "collapsed": false
   }
  },
  {
   "cell_type": "code",
   "execution_count": null,
   "outputs": [],
   "source": [
    "## absolute path\n",
    "## this is specific to my computer\n",
    "## look at the path output above for you computer\n",
    "!ls /Users/shannonellis/Desktop/Teaching/COGS18/Materials"
   ],
   "metadata": {
    "collapsed": false,
    "pycharm": {
     "name": "#%%\n"
    }
   }
  },
  {
   "cell_type": "markdown",
   "source": [
    "#### Relative Paths"
   ],
   "metadata": {
    "collapsed": false
   }
  },
  {
   "cell_type": "markdown",
   "source": [
    "<div class=\"alert alert-success\">\n",
    "<b>Relative paths</b> specify the path to a file from your <b>current working directory</b> (where your computer is working right now).\n",
    "</div>"
   ],
   "metadata": {
    "collapsed": false
   }
  },
  {
   "cell_type": "code",
   "execution_count": null,
   "outputs": [],
   "source": [
    "# remind us of our current working directory\n",
    "!pwd"
   ],
   "metadata": {
    "collapsed": false,
    "pycharm": {
     "name": "#%%\n"
    }
   }
  },
  {
   "cell_type": "code",
   "execution_count": null,
   "outputs": [],
   "source": [
    "# relative path\n",
    "# this is specific to my computer\n",
    "!ls ../../COGS108/Lectures-Sp21"
   ],
   "metadata": {
    "collapsed": false,
    "pycharm": {
     "name": "#%%\n"
    }
   }
  },
  {
   "cell_type": "markdown",
   "source": [
    "- `..` specify you want to move one directory up in your hierarchy\n",
    "- `COGS108/Lectures-Sp21` specifies the path to the directory I want to list files in\n",
    "- each directory is separated with a slash (`/`)"
   ],
   "metadata": {
    "collapsed": false
   }
  },
  {
   "cell_type": "markdown",
   "source": [
    "This **relative** path does _not_ start with a leading slash (b/c it's not an absolute path)."
   ],
   "metadata": {
    "collapsed": false
   }
  },
  {
   "cell_type": "markdown",
   "source": [
    "#### Clicker Question #1\n",
    "\n",
    "Given the following file structure:\n",
    "\n",
    "- `/`\n",
    "    - `scripts/`\n",
    "        - cool_thing.py\n",
    "        - super_cool_thing.py\n",
    "    - `images/`\n",
    "        - image1.png\n",
    "        - image2.png\n",
    "    - `notebooks/`\n",
    "        - 00_intro.ipynb\n",
    "        - 01_variables.ipynb\n",
    "\n",
    "\n",
    "If your current working directory is `notebooks`, what is the **absolute path** to `cool_thing.py`?\n",
    "\n",
    "- A) `/scripts/cool_thing.py`\n",
    "- B) `scripts/cool_thing.py`\n",
    "- C) `cool_thing.py`\n",
    "- D) `../scripts/cool_thing.py`\n",
    "- E) ¯\\\\\\_(ツ)\\_/¯"
   ],
   "metadata": {
    "collapsed": false
   }
  },
  {
   "cell_type": "markdown",
   "source": [
    "#### Clicker Question #2\n",
    "\n",
    "Given the same file structure:\n",
    "\n",
    "- `/`\n",
    "    - `scripts/`\n",
    "        - cool_thing.py\n",
    "        - super_cool_thing.py\n",
    "    - `images/`\n",
    "        - image1.png\n",
    "        - image2.png\n",
    "    - `notebooks/`\n",
    "        - 00_intro.ipynb\n",
    "        - 01_variables.ipynb\n",
    "\n",
    "\n",
    "If your current working directory is `notebooks`, what is the **relative path** to `cool_thing.py`?\n",
    "\n",
    "- A) `/notebooks/../scripts/cool_thing.py`\n",
    "- B) `scripts/cool_thing.py`\n",
    "- C) `/scripts/cool_thing.py`\n",
    "- D) `../scripts/cool_thing.py`\n",
    "- E) ¯\\\\\\_(ツ)\\_/¯"
   ],
   "metadata": {
    "collapsed": false
   }
  },
  {
   "cell_type": "markdown",
   "source": [],
   "metadata": {
    "collapsed": false
   }
  }
 ],
 "metadata": {
  "kernelspec": {
   "display_name": "Python 3",
   "language": "python",
   "name": "python3"
  },
  "language_info": {
   "codemirror_mode": {
    "name": "ipython",
    "version": 2
   },
   "file_extension": ".py",
   "mimetype": "text/x-python",
   "name": "python",
   "nbconvert_exporter": "python",
   "pygments_lexer": "ipython2",
   "version": "2.7.6"
  }
 },
 "nbformat": 4,
 "nbformat_minor": 0
}