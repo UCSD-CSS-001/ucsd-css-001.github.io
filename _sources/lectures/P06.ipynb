{
 "cells": [
  {
   "cell_type": "markdown",
   "metadata": {
    "collapsed": true,
    "pycharm": {
     "name": "#%% md\n"
    }
   },
   "source": [
    "# P06: classes and objects\n",
    "- **Concepts**: classes, objects, OO\n",
    "- **Python classes/objects**: writing, attributes, methods, self, dunder (__str__())\n",
    "\n",
    "## Week 4: data and visualization\n",
    "**Problem Set**: summarize and plot data\n",
    "\n",
    "### p. 7: data frames\n",
    "- **Concepts**: data frame/table, filtering\n",
    "- **Python libraries**: import, as, from .. import .. as ..\n",
    "- **Python pandas**: basics, slicing/indexing: [], .loc[,], .iloc[,],\n",
    "\n",
    "### p. 8: plotting\n",
    "- **Concepts**: visualization, informative scientific graphics,\n",
    "- **Python matplotlib**\n",
    "\n",
    "## Week 5: some data complexities\n",
    "**Problem Set**: Merge, filter, sort, visualize data of different types.\n",
    "\n",
    "### p. 9: joins, file types\n",
    "- **Concepts**: File format\n",
    "- **Python pandas**: joins, csv, json\n",
    "\n",
    "## p. 10: beyond\n",
    "- this day is used as slack in the event that\n",
    "\n",
    "\n",
    "\n",
    "\n",
    "\n",
    "\n",
    "\n",
    "\n",
    "\n"
   ]
  }
 ],
 "metadata": {
  "kernelspec": {
   "display_name": "Python 3",
   "language": "python",
   "name": "python3"
  },
  "language_info": {
   "codemirror_mode": {
    "name": "ipython",
    "version": 2
   },
   "file_extension": ".py",
   "mimetype": "text/x-python",
   "name": "python",
   "nbconvert_exporter": "python",
   "pygments_lexer": "ipython2",
   "version": "2.7.6"
  }
 },
 "nbformat": 4,
 "nbformat_minor": 0
}