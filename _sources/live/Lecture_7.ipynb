{
 "cells": [
  {
   "cell_type": "markdown",
   "id": "similar-receptor",
   "metadata": {},
   "source": [
    "# Classes, Objects, etc.\n",
    "\n",
    "## High level\n",
    "\n",
    "### What is an object?  What is a class?\n",
    "\n",
    "- `type()`"
   ]
  },
  {
   "cell_type": "code",
   "execution_count": 16,
   "id": "foreign-delight",
   "metadata": {},
   "outputs": [
    {
     "data": {
      "text/plain": [
       "str"
      ]
     },
     "execution_count": 16,
     "metadata": {},
     "output_type": "execute_result"
    }
   ],
   "source": [
    "x = 'hello world'\n",
    "type(x)"
   ]
  },
  {
   "cell_type": "code",
   "execution_count": 18,
   "id": "hawaiian-dating",
   "metadata": {},
   "outputs": [
    {
     "data": {
      "text/plain": [
       "'HELLO WORLD'"
      ]
     },
     "execution_count": 18,
     "metadata": {},
     "output_type": "execute_result"
    }
   ],
   "source": [
    "x.upper()"
   ]
  },
  {
   "cell_type": "code",
   "execution_count": 19,
   "id": "brazilian-antique",
   "metadata": {},
   "outputs": [
    {
     "data": {
      "text/plain": [
       "['__add__',\n",
       " '__class__',\n",
       " '__contains__',\n",
       " '__delattr__',\n",
       " '__dir__',\n",
       " '__doc__',\n",
       " '__eq__',\n",
       " '__format__',\n",
       " '__ge__',\n",
       " '__getattribute__',\n",
       " '__getitem__',\n",
       " '__getnewargs__',\n",
       " '__gt__',\n",
       " '__hash__',\n",
       " '__init__',\n",
       " '__init_subclass__',\n",
       " '__iter__',\n",
       " '__le__',\n",
       " '__len__',\n",
       " '__lt__',\n",
       " '__mod__',\n",
       " '__mul__',\n",
       " '__ne__',\n",
       " '__new__',\n",
       " '__reduce__',\n",
       " '__reduce_ex__',\n",
       " '__repr__',\n",
       " '__rmod__',\n",
       " '__rmul__',\n",
       " '__setattr__',\n",
       " '__sizeof__',\n",
       " '__str__',\n",
       " '__subclasshook__',\n",
       " 'capitalize',\n",
       " 'casefold',\n",
       " 'center',\n",
       " 'count',\n",
       " 'encode',\n",
       " 'endswith',\n",
       " 'expandtabs',\n",
       " 'find',\n",
       " 'format',\n",
       " 'format_map',\n",
       " 'index',\n",
       " 'isalnum',\n",
       " 'isalpha',\n",
       " 'isascii',\n",
       " 'isdecimal',\n",
       " 'isdigit',\n",
       " 'isidentifier',\n",
       " 'islower',\n",
       " 'isnumeric',\n",
       " 'isprintable',\n",
       " 'isspace',\n",
       " 'istitle',\n",
       " 'isupper',\n",
       " 'join',\n",
       " 'ljust',\n",
       " 'lower',\n",
       " 'lstrip',\n",
       " 'maketrans',\n",
       " 'partition',\n",
       " 'replace',\n",
       " 'rfind',\n",
       " 'rindex',\n",
       " 'rjust',\n",
       " 'rpartition',\n",
       " 'rsplit',\n",
       " 'rstrip',\n",
       " 'split',\n",
       " 'splitlines',\n",
       " 'startswith',\n",
       " 'strip',\n",
       " 'swapcase',\n",
       " 'title',\n",
       " 'translate',\n",
       " 'upper',\n",
       " 'zfill']"
      ]
     },
     "execution_count": 19,
     "metadata": {},
     "output_type": "execute_result"
    }
   ],
   "source": [
    "dir(x)"
   ]
  },
  {
   "cell_type": "markdown",
   "id": "desperate-interstate",
   "metadata": {},
   "source": [
    "### peeking inside objects\n",
    "\n",
    "- Example: dictionary\n",
    "\n",
    "- `dir()`\n",
    "\n",
    "- `vars()`  (mostly for home-made classes)\n",
    "\n",
    "\n",
    "### Why Object Oriented Programming\n",
    "\n",
    "- aligns with our conception of the stuff we want to work with.\n",
    "\n",
    "- e.g., courses, courses have instructors, courses have students.  each has particular properties, and particular operations we might want to do on them.  organizing our code accordingly makes life easier.\n",
    "\n",
    "## Defining a class"
   ]
  },
  {
   "cell_type": "code",
   "execution_count": 46,
   "id": "extended-wichita",
   "metadata": {},
   "outputs": [],
   "source": [
    "class Person():\n",
    "    def __init__(self, birthyear, name, birthmonth, birthday):\n",
    "        self.birthyear = birthyear\n",
    "        self.name = name\n",
    "        self.birthmonth = birthmonth\n",
    "        self.birthday = birthday\n",
    "    \n",
    "    def getAge(self, year):\n",
    "        return year-self.birthyear\n",
    "    \n",
    "    def summary(self):\n",
    "        return f'{self.name} was born in {self.birthyear}'\n",
    "    \n",
    "    def greet(self, year, month, day):\n",
    "        if month == self.birthmonth and day == self.birthday:\n",
    "            return f'Happy birthday {self.name}, today you are {year-self.birthyear+1} years old!'\n",
    "        else:\n",
    "            return f'Hi {self.name}'\n",
    "\n",
    "ed = Person(1982, 'Ed Vul', 1, 10)\n",
    "alice = Person(1998, 'Alice Aardvark', 2, 12)\n",
    "bob = Person(2004, 'Bob Beaver', 3, 18)\n"
   ]
  },
  {
   "cell_type": "code",
   "execution_count": 45,
   "id": "surgical-accent",
   "metadata": {},
   "outputs": [
    {
     "data": {
      "text/plain": [
       "'Happy birthday Ed Vul, today you are 39 years old!'"
      ]
     },
     "execution_count": 45,
     "metadata": {},
     "output_type": "execute_result"
    }
   ],
   "source": [
    "ed.greet(2020, 1, 10)"
   ]
  },
  {
   "cell_type": "code",
   "execution_count": 41,
   "id": "pacific-jumping",
   "metadata": {},
   "outputs": [
    {
     "data": {
      "text/plain": [
       "'Bob Beaver was born in 2004'"
      ]
     },
     "execution_count": 41,
     "metadata": {},
     "output_type": "execute_result"
    }
   ],
   "source": [
    "bob.summary()"
   ]
  },
  {
   "cell_type": "code",
   "execution_count": 25,
   "id": "korean-utilization",
   "metadata": {},
   "outputs": [
    {
     "data": {
      "text/plain": [
       "__main__.Person"
      ]
     },
     "execution_count": 25,
     "metadata": {},
     "output_type": "execute_result"
    }
   ],
   "source": [
    "type(ed)"
   ]
  },
  {
   "cell_type": "code",
   "execution_count": 26,
   "id": "representative-special",
   "metadata": {},
   "outputs": [
    {
     "data": {
      "text/plain": [
       "{'birthyear': 1982, 'name': 'Ed Vul'}"
      ]
     },
     "execution_count": 26,
     "metadata": {},
     "output_type": "execute_result"
    }
   ],
   "source": [
    "vars(ed)"
   ]
  },
  {
   "cell_type": "code",
   "execution_count": 29,
   "id": "unusual-january",
   "metadata": {},
   "outputs": [
    {
     "data": {
      "text/plain": [
       "['__class__',\n",
       " '__delattr__',\n",
       " '__dict__',\n",
       " '__dir__',\n",
       " '__doc__',\n",
       " '__eq__',\n",
       " '__format__',\n",
       " '__ge__',\n",
       " '__getattribute__',\n",
       " '__gt__',\n",
       " '__hash__',\n",
       " '__init__',\n",
       " '__init_subclass__',\n",
       " '__le__',\n",
       " '__lt__',\n",
       " '__module__',\n",
       " '__ne__',\n",
       " '__new__',\n",
       " '__reduce__',\n",
       " '__reduce_ex__',\n",
       " '__repr__',\n",
       " '__setattr__',\n",
       " '__sizeof__',\n",
       " '__str__',\n",
       " '__subclasshook__',\n",
       " '__weakref__',\n",
       " 'birthyear',\n",
       " 'getAge',\n",
       " 'name',\n",
       " 'summary']"
      ]
     },
     "execution_count": 29,
     "metadata": {},
     "output_type": "execute_result"
    }
   ],
   "source": [
    "dir(ed)"
   ]
  },
  {
   "cell_type": "code",
   "execution_count": 31,
   "id": "wooden-convention",
   "metadata": {},
   "outputs": [
    {
     "data": {
      "text/plain": [
       "49"
      ]
     },
     "execution_count": 31,
     "metadata": {},
     "output_type": "execute_result"
    }
   ],
   "source": [
    "ed.getAge(2031)"
   ]
  },
  {
   "cell_type": "code",
   "execution_count": 32,
   "id": "manual-aircraft",
   "metadata": {},
   "outputs": [
    {
     "data": {
      "text/plain": [
       "'Ed Vul was born in 1982'"
      ]
     },
     "execution_count": 32,
     "metadata": {},
     "output_type": "execute_result"
    }
   ],
   "source": [
    "ed.summary()"
   ]
  },
  {
   "cell_type": "markdown",
   "id": "scenic-making",
   "metadata": {},
   "source": [
    "- class attributes vs instance attributes"
   ]
  },
  {
   "cell_type": "code",
   "execution_count": 70,
   "id": "anticipated-renaissance",
   "metadata": {},
   "outputs": [
    {
     "name": "stdout",
     "output_type": "stream",
     "text": [
      "rover dogface says woofwoof\n",
      "spike dog says woof\n"
     ]
    }
   ],
   "source": [
    "class Dog():\n",
    "    sound = 'woof'\n",
    "    def __init__(self, name):\n",
    "        self.name = name\n",
    "    \n",
    "    def introspect(self):\n",
    "        print(vars(self))\n",
    "        \n",
    "    def speak(self, n):\n",
    "        print(self.name, 'says', self.sound*n)\n",
    "\n",
    "rover = Dog('rover dogface')\n",
    "spike = Dog('spike dog')\n",
    "\n",
    "rover.speak(2)\n",
    "spike.speak(1)\n"
   ]
  },
  {
   "cell_type": "markdown",
   "id": "supported-father",
   "metadata": {},
   "source": [
    "- `__init__()` constructor.\n",
    "\n",
    "- `self` "
   ]
  },
  {
   "cell_type": "code",
   "execution_count": 127,
   "id": "numerical-client",
   "metadata": {},
   "outputs": [],
   "source": [
    "# attributes of a student\n",
    "# student.courses list of completed courses, and their associated units, and grades\n",
    "# student.name \n",
    "# student.id student id\n",
    "# student.enrollment_year\n",
    "\n",
    "# methods of a student\n",
    "# addCourse()  add a course to courses.\n",
    "# getGPA()  get unit-weighted gpa of courses\n",
    "# getStanding(year)   returns freshman, sophomore, junior, senior, supersenior\n",
    "\n",
    "class Student():\n",
    "    def __init__(self, name, student_id, enrollment_year):\n",
    "        self.name = name\n",
    "        self.student_id = student_id\n",
    "        self.enrollment_year = enrollment_year\n",
    "        self.courses = dict()\n",
    "    \n",
    "    \n",
    "    def __repr__(self):\n",
    "        return f'Student({repr(self.name)}, {repr(self.student_id)}, {repr(self.enrollment_year)})'\n",
    "       \n",
    "    \n",
    "    def addCourse(self, course_name, units, grade):\n",
    "        self.courses[course_name] = [units, grade]\n",
    "        \n",
    "    def getGPA(self):\n",
    "        # sum(grade * unit) / sum(unit)\n",
    "        grade_units = 0\n",
    "        units = 0\n",
    "        for k,(u,grade) in self.courses.items():\n",
    "            units += u\n",
    "            grade_units += grade*u\n",
    "        if units == 0:\n",
    "            return None\n",
    "        else:\n",
    "            return grade_units / units\n",
    "        \n",
    "    def getStanding(self, year):\n",
    "        if (year - self.enrollment_year) == 0:\n",
    "            return \"freshman\"\n",
    "        elif (year - self.enrollment_year) == 1:\n",
    "            return \"sophomore\"\n",
    "        elif (year - self.enrollment_year) == 2:\n",
    "            return \"junior\"\n",
    "        elif (year - self.enrollment_year) == 3:\n",
    "            return \"senior\"\n",
    "        elif (year - self.enrollment_year) > 3:\n",
    "            return \"supersenior\"\n",
    "    \n",
    "    def getTranscript(self, year):\n",
    "        print(f'Transcript of {self.name}')\n",
    "        print(f'Enrolled since {self.enrollment_year}')\n",
    "        print(f'Current standing is {self.getStanding(year)}')\n",
    "        for course_name,(units,grade) in self.courses.items():\n",
    "            print(f'{course_name} ({units} units) grade: {grade}')\n",
    "        print(f'Total GPA: {self.getGPA()}')\n",
    "        \n",
    "\n"
   ]
  },
  {
   "cell_type": "code",
   "execution_count": 128,
   "id": "utility-stewart",
   "metadata": {},
   "outputs": [],
   "source": [
    "ed = Student(name = 'Ed Vul', student_id = '1234', enrollment_year = 2019)\n",
    "ed.addCourse('CSS1', 4, 3.33)\n",
    "ed.addCourse('CSS2', 4, 3.67)\n",
    "ed.addCourse('COGS18', 4, 3)\n",
    "ed.addCourse('ECON 5A', 6, 2.67)\n",
    "\n",
    "alice = Student('Alice', '1432', 2018)\n",
    "alice.addCourse('CSS1', 4, 4.0)\n",
    "alice.addCourse('CSS2', 4, 3.337)\n",
    "alice.addCourse('COGS18', 4, 3)\n",
    "alice.addCourse('ECON 5A', 6, 3.67)\n",
    "alice.addCourse('MATH 18', 4, 4)"
   ]
  },
  {
   "cell_type": "code",
   "execution_count": 99,
   "id": "virtual-juvenile",
   "metadata": {},
   "outputs": [
    {
     "data": {
      "text/plain": [
       "3.112222222222222"
      ]
     },
     "execution_count": 99,
     "metadata": {},
     "output_type": "execute_result"
    }
   ],
   "source": [
    "ed.getGPA()"
   ]
  },
  {
   "cell_type": "code",
   "execution_count": 101,
   "id": "sudden-journey",
   "metadata": {},
   "outputs": [
    {
     "name": "stdout",
     "output_type": "stream",
     "text": [
      "Transcript of Alice\n",
      "Enrolled since 2018\n",
      "Current standing is junior\n",
      "CSS1 (4 units) grade: 4.0\n",
      "CSS2 (4 units) grade: 3.337\n",
      "COGS18 (4 units) grade: 3\n",
      "ECON 5A (6 units) grade: 3.67\n",
      "MATH 18 (4 units) grade: 4\n",
      "Total GPA: 3.6076363636363635\n"
     ]
    }
   ],
   "source": [
    "alice.getTranscript(2020)"
   ]
  },
  {
   "cell_type": "code",
   "execution_count": 102,
   "id": "uniform-guidance",
   "metadata": {},
   "outputs": [],
   "source": [
    "ed.addCourse('PSYC 199', 2, 4)"
   ]
  },
  {
   "cell_type": "code",
   "execution_count": 103,
   "id": "united-confidentiality",
   "metadata": {},
   "outputs": [
    {
     "name": "stdout",
     "output_type": "stream",
     "text": [
      "Transcript of Ed Vul\n",
      "Enrolled since 2019\n",
      "Current standing is junior\n",
      "CSS1 (4 units) grade: 3.33\n",
      "CSS2 (4 units) grade: 3.67\n",
      "COGS18 (4 units) grade: 3\n",
      "ECON 5A (6 units) grade: 2.67\n",
      "PSYC 199 (2 units) grade: 4\n",
      "Total GPA: 3.2009999999999996\n"
     ]
    }
   ],
   "source": [
    "ed.getTranscript(2021)"
   ]
  },
  {
   "cell_type": "code",
   "execution_count": null,
   "id": "meaning-orlando",
   "metadata": {},
   "outputs": [],
   "source": []
  },
  {
   "cell_type": "code",
   "execution_count": null,
   "id": "muslim-indiana",
   "metadata": {},
   "outputs": [],
   "source": []
  },
  {
   "cell_type": "code",
   "execution_count": null,
   "id": "furnished-reporter",
   "metadata": {},
   "outputs": [],
   "source": []
  },
  {
   "cell_type": "code",
   "execution_count": null,
   "id": "killing-subject",
   "metadata": {},
   "outputs": [],
   "source": []
  },
  {
   "cell_type": "code",
   "execution_count": 96,
   "id": "directed-hammer",
   "metadata": {},
   "outputs": [
    {
     "data": {
      "text/plain": [
       "{'name': 'Alice',\n",
       " 'student_id': '1432',\n",
       " 'enrollment_year': 2018,\n",
       " 'courses': {'CSS1': [4, 4.0],\n",
       "  'CSS2': [4, 3.337],\n",
       "  'COGS18': [4, 3],\n",
       "  'ECON 5A': [6, 3.67],\n",
       "  'MATH 18': [4, 4]}}"
      ]
     },
     "execution_count": 96,
     "metadata": {},
     "output_type": "execute_result"
    }
   ],
   "source": [
    "vars(alice)"
   ]
  },
  {
   "cell_type": "code",
   "execution_count": null,
   "id": "choice-revision",
   "metadata": {},
   "outputs": [],
   "source": []
  },
  {
   "cell_type": "code",
   "execution_count": null,
   "id": "south-slope",
   "metadata": {},
   "outputs": [],
   "source": []
  },
  {
   "cell_type": "code",
   "execution_count": null,
   "id": "divine-services",
   "metadata": {},
   "outputs": [],
   "source": []
  },
  {
   "cell_type": "code",
   "execution_count": 92,
   "id": "structured-negotiation",
   "metadata": {},
   "outputs": [
    {
     "name": "stdout",
     "output_type": "stream",
     "text": [
      "Transcript of Ed Vul\n",
      "Enrolled since 2019\n",
      "Current standing is sophomore\n",
      "CSS1 (4 units) grade: 3.33\n",
      "CSS2 (4 units) grade: 3.67\n",
      "COGS18 (4 units) grade: 3\n",
      "ECON 5A (6 units) grade: 2.67\n",
      "Total GPA: 3.112222222222222\n"
     ]
    }
   ],
   "source": [
    "ed.getTranscript(2020)"
   ]
  },
  {
   "cell_type": "code",
   "execution_count": 80,
   "id": "parliamentary-employee",
   "metadata": {},
   "outputs": [],
   "source": []
  },
  {
   "cell_type": "code",
   "execution_count": 81,
   "id": "steady-floating",
   "metadata": {},
   "outputs": [],
   "source": [
    "alice.getGPA()"
   ]
  },
  {
   "cell_type": "code",
   "execution_count": 82,
   "id": "popular-royalty",
   "metadata": {},
   "outputs": [
    {
     "data": {
      "text/plain": [
       "{'name': 'Alice', 'student_id': '1432', 'enrollment_year': 2018, 'courses': {}}"
      ]
     },
     "execution_count": 82,
     "metadata": {},
     "output_type": "execute_result"
    }
   ],
   "source": [
    "vars(alice)"
   ]
  },
  {
   "cell_type": "code",
   "execution_count": 89,
   "id": "standing-sunglasses",
   "metadata": {},
   "outputs": [
    {
     "data": {
      "text/plain": [
       "'senior'"
      ]
     },
     "execution_count": 89,
     "metadata": {},
     "output_type": "execute_result"
    }
   ],
   "source": [
    "alice.getStanding(2021)"
   ]
  },
  {
   "cell_type": "markdown",
   "id": "young-signal",
   "metadata": {},
   "source": [
    "### Creating instances\n",
    "\n",
    "### Methods\n",
    "\n",
    "## Everything is an object"
   ]
  },
  {
   "cell_type": "code",
   "execution_count": 109,
   "id": "creative-lebanon",
   "metadata": {},
   "outputs": [
    {
     "data": {
      "text/plain": [
       "1"
      ]
     },
     "execution_count": 109,
     "metadata": {},
     "output_type": "execute_result"
    }
   ],
   "source": [
    "x = 4\n",
    "x.denominator"
   ]
  },
  {
   "cell_type": "code",
   "execution_count": 111,
   "id": "immune-database",
   "metadata": {},
   "outputs": [
    {
     "data": {
      "text/plain": [
       "4"
      ]
     },
     "execution_count": 111,
     "metadata": {},
     "output_type": "execute_result"
    }
   ],
   "source": [
    "x.numerator"
   ]
  },
  {
   "cell_type": "code",
   "execution_count": 113,
   "id": "fresh-season",
   "metadata": {},
   "outputs": [
    {
     "data": {
      "text/plain": [
       "'a b'"
      ]
     },
     "execution_count": 113,
     "metadata": {},
     "output_type": "execute_result"
    }
   ],
   "source": [
    "x = ' '\n",
    "x.join(['a', 'b'])"
   ]
  },
  {
   "cell_type": "code",
   "execution_count": 115,
   "id": "breeding-underwear",
   "metadata": {},
   "outputs": [],
   "source": [
    "x = {'a':3, 'b':4}"
   ]
  },
  {
   "cell_type": "code",
   "execution_count": 121,
   "id": "conservative-maintenance",
   "metadata": {},
   "outputs": [
    {
     "name": "stdout",
     "output_type": "stream",
     "text": [
      "Ed Vul (ID: 1234), (2019), courses: {'CSS1': [4, 3.33], 'CSS2': [4, 3.67], 'COGS18': [4, 3], 'ECON 5A': [6, 2.67]}\n"
     ]
    }
   ],
   "source": [
    "print(ed)"
   ]
  },
  {
   "cell_type": "code",
   "execution_count": 129,
   "id": "close-toilet",
   "metadata": {},
   "outputs": [
    {
     "data": {
      "text/plain": [
       "Student('Ed Vul', '1234', 2019)"
      ]
     },
     "execution_count": 129,
     "metadata": {},
     "output_type": "execute_result"
    }
   ],
   "source": [
    "ed"
   ]
  },
  {
   "cell_type": "code",
   "execution_count": 123,
   "id": "distinct-interface",
   "metadata": {},
   "outputs": [
    {
     "data": {
      "text/plain": [
       "\"{'a': 3, 'b': 4}\""
      ]
     },
     "execution_count": 123,
     "metadata": {},
     "output_type": "execute_result"
    }
   ],
   "source": [
    "repr(x)"
   ]
  },
  {
   "cell_type": "markdown",
   "id": "proper-switzerland",
   "metadata": {},
   "source": [
    "### Dunder methods and duck typing\n",
    "\n",
    "- __repr__()\n",
    "\n",
    "- __add__()\n"
   ]
  },
  {
   "cell_type": "code",
   "execution_count": 144,
   "id": "phantom-butler",
   "metadata": {},
   "outputs": [],
   "source": [
    "class Dog():\n",
    "    def __init__(self, name, weight):\n",
    "        self.name = name\n",
    "        self.weight = weight\n",
    "    \n",
    "    def __repr__(self):\n",
    "        return f'Dog(\"{self.name}\", {self.weight})'\n",
    "    \n",
    "    def speak(self):\n",
    "        if self.weight > 40:\n",
    "            return \"woof\"\n",
    "        else:\n",
    "            return \"arf\"\n",
    "\n",
    "rover = Dog('rover dogface', 50)"
   ]
  },
  {
   "cell_type": "code",
   "execution_count": 147,
   "id": "ceramic-pharmaceutical",
   "metadata": {},
   "outputs": [
    {
     "data": {
      "text/plain": [
       "'45'"
      ]
     },
     "execution_count": 147,
     "metadata": {},
     "output_type": "execute_result"
    }
   ],
   "source": [
    "str(45)"
   ]
  },
  {
   "cell_type": "code",
   "execution_count": 149,
   "id": "fantastic-worker",
   "metadata": {},
   "outputs": [],
   "source": [
    "class Rectangle():\n",
    "    def __init__(self, height, width):\n",
    "        self.height = height\n",
    "        self.width = width\n",
    "    \n",
    "    def __repr__(self):\n",
    "        return f'Rectangle({self.height}, {self.width})'\n",
    "    \n",
    "    def __add__(self, other_rectangle):\n",
    "        return Rectangle(self.height+other_rectangle.height, self.width+other_rectangle.width)\n",
    "    \n",
    "    def area(self):\n",
    "        return self.height*self.width"
   ]
  },
  {
   "cell_type": "code",
   "execution_count": 152,
   "id": "oriental-lightweight",
   "metadata": {},
   "outputs": [
    {
     "data": {
      "text/plain": [
       "Rectangle(14, 23)"
      ]
     },
     "execution_count": 152,
     "metadata": {},
     "output_type": "execute_result"
    }
   ],
   "source": [
    "r1 = Rectangle(4, 3)\n",
    "r2 = Rectangle(10,20)\n",
    "\n",
    "r1 + r2"
   ]
  },
  {
   "cell_type": "code",
   "execution_count": 154,
   "id": "vertical-richards",
   "metadata": {
    "scrolled": true
   },
   "outputs": [
    {
     "data": {
      "text/plain": [
       "['__add__',\n",
       " '__class__',\n",
       " '__contains__',\n",
       " '__delattr__',\n",
       " '__dir__',\n",
       " '__doc__',\n",
       " '__eq__',\n",
       " '__format__',\n",
       " '__ge__',\n",
       " '__getattribute__',\n",
       " '__getitem__',\n",
       " '__getnewargs__',\n",
       " '__gt__',\n",
       " '__hash__',\n",
       " '__init__',\n",
       " '__init_subclass__',\n",
       " '__iter__',\n",
       " '__le__',\n",
       " '__len__',\n",
       " '__lt__',\n",
       " '__mod__',\n",
       " '__mul__',\n",
       " '__ne__',\n",
       " '__new__',\n",
       " '__reduce__',\n",
       " '__reduce_ex__',\n",
       " '__repr__',\n",
       " '__rmod__',\n",
       " '__rmul__',\n",
       " '__setattr__',\n",
       " '__sizeof__',\n",
       " '__str__',\n",
       " '__subclasshook__',\n",
       " 'capitalize',\n",
       " 'casefold',\n",
       " 'center',\n",
       " 'count',\n",
       " 'encode',\n",
       " 'endswith',\n",
       " 'expandtabs',\n",
       " 'find',\n",
       " 'format',\n",
       " 'format_map',\n",
       " 'index',\n",
       " 'isalnum',\n",
       " 'isalpha',\n",
       " 'isascii',\n",
       " 'isdecimal',\n",
       " 'isdigit',\n",
       " 'isidentifier',\n",
       " 'islower',\n",
       " 'isnumeric',\n",
       " 'isprintable',\n",
       " 'isspace',\n",
       " 'istitle',\n",
       " 'isupper',\n",
       " 'join',\n",
       " 'ljust',\n",
       " 'lower',\n",
       " 'lstrip',\n",
       " 'maketrans',\n",
       " 'partition',\n",
       " 'replace',\n",
       " 'rfind',\n",
       " 'rindex',\n",
       " 'rjust',\n",
       " 'rpartition',\n",
       " 'rsplit',\n",
       " 'rstrip',\n",
       " 'split',\n",
       " 'splitlines',\n",
       " 'startswith',\n",
       " 'strip',\n",
       " 'swapcase',\n",
       " 'title',\n",
       " 'translate',\n",
       " 'upper',\n",
       " 'zfill']"
      ]
     },
     "execution_count": 154,
     "metadata": {},
     "output_type": "execute_result"
    }
   ],
   "source": [
    "dir('2345')"
   ]
  },
  {
   "cell_type": "code",
   "execution_count": 156,
   "id": "special-registrar",
   "metadata": {},
   "outputs": [
    {
     "data": {
      "text/plain": [
       "4"
      ]
     },
     "execution_count": 156,
     "metadata": {},
     "output_type": "execute_result"
    }
   ],
   "source": [
    "len('1234')"
   ]
  },
  {
   "cell_type": "code",
   "execution_count": null,
   "id": "peripheral-virginia",
   "metadata": {},
   "outputs": [],
   "source": []
  },
  {
   "cell_type": "markdown",
   "id": "utility-variable",
   "metadata": {},
   "source": [
    "# Practice\n",
    "\n",
    "Class: BankAccount\n",
    "\n",
    "Attributes:  \n",
    "- balance\n",
    "- owner_name\n",
    "- number\n",
    "- type\n",
    "\n",
    "Methods:\n",
    "- deposit\n",
    "- withdraw\n",
    "- getHistory\n"
   ]
  },
  {
   "cell_type": "code",
   "execution_count": 180,
   "id": "occupational-theater",
   "metadata": {},
   "outputs": [],
   "source": [
    "from random import randint\n",
    "\n",
    "class BankAccount():\n",
    "    def __init__(self, owner_name, account_type):\n",
    "        self.owner_name = owner_name\n",
    "        self.account_type = account_type\n",
    "        self.balance = 0\n",
    "        self.number = randint(100, 999)\n",
    "        self.transactions = []\n",
    "        \n",
    "    def deposit(self, amount):\n",
    "        self.balance += amount\n",
    "        self.transactions.append(\"deposit: \" + str(amount))\n",
    "        return True\n",
    "        \n",
    "    def withdraw(self, amount):\n",
    "        if amount <= self.balance:\n",
    "            self.balance -= amount\n",
    "            self.transactions.append(\"withdraw: \" + str(amount))\n",
    "            return True\n",
    "        else:\n",
    "            print(\"Insufficient Funds\")\n",
    "            return False\n",
    "        \n",
    "    def getStatement(self):\n",
    "        print(f'{self.account_type}(#{self.number}) of {self.owner_name} ')\n",
    "        for transaction in self.transactions:\n",
    "            print(transaction)\n",
    "        print(\"Final Balance: \" + str(self.balance) )\n",
    "        return None\n",
    "    "
   ]
  },
  {
   "cell_type": "code",
   "execution_count": 181,
   "id": "domestic-blake",
   "metadata": {},
   "outputs": [
    {
     "name": "stdout",
     "output_type": "stream",
     "text": [
      "checking(#978) of Ed Vul \n",
      "deposit: 1000\n",
      "deposit: 500\n",
      "withdraw: 750\n",
      "withdraw: 75\n",
      "Final Balance: 675\n"
     ]
    }
   ],
   "source": [
    "account = BankAccount('Ed Vul', 'checking')\n",
    "\n",
    "account.deposit(1000)\n",
    "account.deposit(500)\n",
    "account.withdraw(750)\n",
    "account.withdraw(75)\n",
    "\n",
    "account.balance\n",
    "\n",
    "account.getStatement()"
   ]
  },
  {
   "cell_type": "code",
   "execution_count": 182,
   "id": "white-bhutan",
   "metadata": {},
   "outputs": [],
   "source": [
    "account2 = BankAccount('Ed Vul', 'savings')"
   ]
  },
  {
   "cell_type": "code",
   "execution_count": 183,
   "id": "intensive-scale",
   "metadata": {},
   "outputs": [
    {
     "name": "stdout",
     "output_type": "stream",
     "text": [
      "savings(#704) of Ed Vul \n",
      "Final Balance: 0\n"
     ]
    }
   ],
   "source": [
    "account2.getStatement()"
   ]
  },
  {
   "cell_type": "code",
   "execution_count": 184,
   "id": "controversial-chemistry",
   "metadata": {},
   "outputs": [
    {
     "data": {
      "text/plain": [
       "True"
      ]
     },
     "execution_count": 184,
     "metadata": {},
     "output_type": "execute_result"
    }
   ],
   "source": [
    "account2.deposit(88)"
   ]
  },
  {
   "cell_type": "code",
   "execution_count": 185,
   "id": "unknown-linux",
   "metadata": {},
   "outputs": [
    {
     "name": "stdout",
     "output_type": "stream",
     "text": [
      "savings(#704) of Ed Vul \n",
      "deposit: 88\n",
      "Final Balance: 88\n"
     ]
    }
   ],
   "source": [
    "account2.getStatement()"
   ]
  },
  {
   "cell_type": "code",
   "execution_count": null,
   "id": "curious-accent",
   "metadata": {},
   "outputs": [],
   "source": []
  }
 ],
 "metadata": {
  "kernelspec": {
   "display_name": "Python 3",
   "language": "python",
   "name": "python3"
  },
  "language_info": {
   "codemirror_mode": {
    "name": "ipython",
    "version": 3
   },
   "file_extension": ".py",
   "mimetype": "text/x-python",
   "name": "python",
   "nbconvert_exporter": "python",
   "pygments_lexer": "ipython3",
   "version": "3.8.6"
  }
 },
 "nbformat": 4,
 "nbformat_minor": 5
}
