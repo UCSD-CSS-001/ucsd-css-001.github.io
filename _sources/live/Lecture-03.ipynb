{
 "cells": [
  {
   "cell_type": "markdown",
   "id": "adapted-flour",
   "metadata": {},
   "source": [
    "# CSS 1 Lecture 3\n",
    "\n",
    "## Programming\n",
    "\n",
    "- Think about what you want to do before you write code.\n",
    "\n",
    "- Do not *guess* about the *logic* \n",
    "\n",
    "you can guess about the syntax, or function name, but do not guess on logic: there are too many ways to guess wrong, and you are likely to confuse yourself.\n",
    "\n",
    "- write out the procedure in words/comments/pseudocode that you want to do, and then translate to code.\n",
    "\n",
    "- print only what you want to see / check.  Too many print statements will confuse you, and if you leave them in there as you change code, what your code is *doing*, and what you are *printing* might diverge, and that will only cause more confusion.\n",
    "\n",
    "## Notes\n",
    "\n",
    "- open a jupyter notebook as we go through class.\n",
    "\n"
   ]
  },
  {
   "cell_type": "markdown",
   "id": "falling-vermont",
   "metadata": {},
   "source": [
    "# Lists\n",
    "\n",
    "## Collections (vs atomic)"
   ]
  },
  {
   "cell_type": "code",
   "execution_count": 1,
   "id": "bigger-invitation",
   "metadata": {},
   "outputs": [],
   "source": [
    "x = ['a', 3, 'abracadabra', 6.56, [56, 45], None, True, (4, 5, 6), {'a':56}]"
   ]
  },
  {
   "cell_type": "code",
   "execution_count": 2,
   "id": "acting-accuracy",
   "metadata": {},
   "outputs": [
    {
     "name": "stdout",
     "output_type": "stream",
     "text": [
      "['a', 3, 'abracadabra', 6.56, [56, 45], None, True, (4, 5, 6), {'a': 56}]\n"
     ]
    }
   ],
   "source": [
    "print(x)"
   ]
  },
  {
   "cell_type": "markdown",
   "id": "lyric-puppy",
   "metadata": {},
   "source": [
    "### len and in"
   ]
  },
  {
   "cell_type": "code",
   "execution_count": 4,
   "id": "oriental-anchor",
   "metadata": {},
   "outputs": [
    {
     "data": {
      "text/plain": [
       "9"
      ]
     },
     "execution_count": 4,
     "metadata": {},
     "output_type": "execute_result"
    }
   ],
   "source": [
    "len(x)"
   ]
  },
  {
   "cell_type": "code",
   "execution_count": 7,
   "id": "satisfactory-warning",
   "metadata": {},
   "outputs": [
    {
     "data": {
      "text/plain": [
       "True"
      ]
     },
     "execution_count": 7,
     "metadata": {},
     "output_type": "execute_result"
    }
   ],
   "source": [
    "'abracadabra' in x"
   ]
  },
  {
   "cell_type": "markdown",
   "id": "electronic-nation",
   "metadata": {},
   "source": [
    "## Sequence operations:"
   ]
  },
  {
   "cell_type": "code",
   "execution_count": 8,
   "id": "provincial-television",
   "metadata": {},
   "outputs": [
    {
     "data": {
      "text/plain": [
       "['a', 3, 'abracadabra', 6.56, [56, 45], None, True, (4, 5, 6), {'a': 56}]"
      ]
     },
     "execution_count": 8,
     "metadata": {},
     "output_type": "execute_result"
    }
   ],
   "source": [
    "x"
   ]
  },
  {
   "cell_type": "markdown",
   "id": "opening-glenn",
   "metadata": {},
   "source": [
    "### Index\n",
    "\n",
    "- zero indexed"
   ]
  },
  {
   "cell_type": "code",
   "execution_count": 14,
   "id": "stone-tuner",
   "metadata": {},
   "outputs": [
    {
     "data": {
      "text/plain": [
       "True"
      ]
     },
     "execution_count": 14,
     "metadata": {},
     "output_type": "execute_result"
    }
   ],
   "source": [
    "x[6]"
   ]
  },
  {
   "cell_type": "code",
   "execution_count": 19,
   "id": "agricultural-signature",
   "metadata": {},
   "outputs": [
    {
     "name": "stdout",
     "output_type": "stream",
     "text": [
      "['a', 'b', 'c', 'd', 'e', 'f', 'g', 'h', 'i', 'j', 'k', 'l', 'm', 'o', 'n', 'p', 'q', 'r', 's', 't', 'u', 'v', 'w', 'x', 'y', 'z']\n"
     ]
    }
   ],
   "source": [
    "alphabet = list('abcdefghijklmonpqrstuvwxyz')\n",
    "print(alphabet)"
   ]
  },
  {
   "cell_type": "code",
   "execution_count": 21,
   "id": "invalid-skill",
   "metadata": {},
   "outputs": [
    {
     "data": {
      "text/plain": [
       "'e'"
      ]
     },
     "execution_count": 21,
     "metadata": {},
     "output_type": "execute_result"
    }
   ],
   "source": [
    "# index of letter e?\n",
    "alphabet[4]"
   ]
  },
  {
   "cell_type": "code",
   "execution_count": 24,
   "id": "insured-hamburg",
   "metadata": {},
   "outputs": [
    {
     "data": {
      "text/plain": [
       "'z'"
      ]
     },
     "execution_count": 24,
     "metadata": {},
     "output_type": "execute_result"
    }
   ],
   "source": [
    "# letter z?\n",
    "\n",
    "alphabet[25]"
   ]
  },
  {
   "cell_type": "code",
   "execution_count": 29,
   "id": "adverse-april",
   "metadata": {},
   "outputs": [
    {
     "data": {
      "text/plain": [
       "'y'"
      ]
     },
     "execution_count": 29,
     "metadata": {},
     "output_type": "execute_result"
    }
   ],
   "source": [
    "alphabet[len(alphabet) - 2]"
   ]
  },
  {
   "cell_type": "markdown",
   "id": "tired-lawsuit",
   "metadata": {},
   "source": [
    "- negative indexing"
   ]
  },
  {
   "cell_type": "code",
   "execution_count": 31,
   "id": "continental-fancy",
   "metadata": {},
   "outputs": [
    {
     "data": {
      "text/plain": [
       "'y'"
      ]
     },
     "execution_count": 31,
     "metadata": {},
     "output_type": "execute_result"
    }
   ],
   "source": [
    "alphabet[len(alphabet) - 2]"
   ]
  },
  {
   "cell_type": "code",
   "execution_count": 33,
   "id": "spiritual-gardening",
   "metadata": {},
   "outputs": [
    {
     "data": {
      "text/plain": [
       "'y'"
      ]
     },
     "execution_count": 33,
     "metadata": {},
     "output_type": "execute_result"
    }
   ],
   "source": [
    "alphabet[-2] # shorthand for len(alphabet)-2"
   ]
  },
  {
   "cell_type": "code",
   "execution_count": 35,
   "id": "arranged-richardson",
   "metadata": {},
   "outputs": [
    {
     "data": {
      "text/plain": [
       "['a',\n",
       " 'b',\n",
       " 'c',\n",
       " 'd',\n",
       " 'e',\n",
       " 'f',\n",
       " 'g',\n",
       " 'h',\n",
       " 'i',\n",
       " 'j',\n",
       " 'k',\n",
       " 'l',\n",
       " 'm',\n",
       " 'o',\n",
       " 'n',\n",
       " 'p',\n",
       " 'q',\n",
       " 'r',\n",
       " 's',\n",
       " 't',\n",
       " 'u',\n",
       " 'v',\n",
       " 'w',\n",
       " 'x',\n",
       " 'y',\n",
       " 'z']"
      ]
     },
     "execution_count": 35,
     "metadata": {},
     "output_type": "execute_result"
    }
   ],
   "source": [
    "alphabet"
   ]
  },
  {
   "cell_type": "code",
   "execution_count": 37,
   "id": "julian-premiere",
   "metadata": {},
   "outputs": [
    {
     "name": "stdout",
     "output_type": "stream",
     "text": [
      "v\n",
      "v\n"
     ]
    }
   ],
   "source": [
    "# how do we get v from the front, and front the back of the list?\n",
    "print(alphabet[21])\n",
    "print(alphabet[-5])"
   ]
  },
  {
   "cell_type": "markdown",
   "id": "material-sauce",
   "metadata": {},
   "source": [
    "- index"
   ]
  },
  {
   "cell_type": "code",
   "execution_count": 40,
   "id": "opening-norway",
   "metadata": {},
   "outputs": [
    {
     "name": "stdout",
     "output_type": "stream",
     "text": [
      "True\n",
      "21\n"
     ]
    }
   ],
   "source": [
    "print('v' in alphabet)\n",
    "print(alphabet.index('v'))"
   ]
  },
  {
   "cell_type": "code",
   "execution_count": 42,
   "id": "cosmetic-domain",
   "metadata": {},
   "outputs": [
    {
     "ename": "ValueError",
     "evalue": "'abracadadra' is not in list",
     "output_type": "error",
     "traceback": [
      "\u001b[0;31m---------------------------------------------------------------------------\u001b[0m",
      "\u001b[0;31mValueError\u001b[0m                                Traceback (most recent call last)",
      "\u001b[0;32m<ipython-input-42-1a2f392b7ad0>\u001b[0m in \u001b[0;36m<module>\u001b[0;34m\u001b[0m\n\u001b[0;32m----> 1\u001b[0;31m \u001b[0malphabet\u001b[0m\u001b[0;34m.\u001b[0m\u001b[0mindex\u001b[0m\u001b[0;34m(\u001b[0m\u001b[0;34m'abracadadra'\u001b[0m\u001b[0;34m)\u001b[0m\u001b[0;34m\u001b[0m\u001b[0;34m\u001b[0m\u001b[0m\n\u001b[0m",
      "\u001b[0;31mValueError\u001b[0m: 'abracadadra' is not in list"
     ]
    }
   ],
   "source": [
    "alphabet.index('abracadadra')"
   ]
  },
  {
   "cell_type": "code",
   "execution_count": 45,
   "id": "asian-louisiana",
   "metadata": {},
   "outputs": [
    {
     "ename": "TypeError",
     "evalue": "list indices must be integers or slices, not float",
     "output_type": "error",
     "traceback": [
      "\u001b[0;31m---------------------------------------------------------------------------\u001b[0m",
      "\u001b[0;31mTypeError\u001b[0m                                 Traceback (most recent call last)",
      "\u001b[0;32m<ipython-input-45-35859aabefc3>\u001b[0m in \u001b[0;36m<module>\u001b[0;34m\u001b[0m\n\u001b[1;32m      1\u001b[0m \u001b[0;31m# must be an integer\\\u001b[0m\u001b[0;34m\u001b[0m\u001b[0;34m\u001b[0m\u001b[0;34m\u001b[0m\u001b[0m\n\u001b[0;32m----> 2\u001b[0;31m \u001b[0malphabet\u001b[0m\u001b[0;34m[\u001b[0m\u001b[0;36m3.0\u001b[0m\u001b[0;34m]\u001b[0m\u001b[0;34m\u001b[0m\u001b[0;34m\u001b[0m\u001b[0m\n\u001b[0m",
      "\u001b[0;31mTypeError\u001b[0m: list indices must be integers or slices, not float"
     ]
    }
   ],
   "source": [
    "# must be an integer\\\n",
    "alphabet[3.0]\n"
   ]
  },
  {
   "cell_type": "markdown",
   "id": "patient-criterion",
   "metadata": {},
   "source": [
    "### Slicing\n",
    "\n",
    "- make a new list from a subset\n"
   ]
  },
  {
   "cell_type": "code",
   "execution_count": 48,
   "id": "regional-second",
   "metadata": {},
   "outputs": [
    {
     "name": "stdout",
     "output_type": "stream",
     "text": [
      "['a', 'b', 'c', 'd', 'e', 'f', 'g', 'h', 'i', 'j', 'k', 'l', 'm', 'o', 'n', 'p', 'q', 'r', 's', 't', 'u', 'v', 'w', 'x', 'y', 'z']\n"
     ]
    }
   ],
   "source": [
    "print(alphabet)"
   ]
  },
  {
   "cell_type": "code",
   "execution_count": 52,
   "id": "atlantic-calibration",
   "metadata": {},
   "outputs": [
    {
     "data": {
      "text/plain": [
       "['d', 'e', 'f', 'g']"
      ]
     },
     "execution_count": 52,
     "metadata": {},
     "output_type": "execute_result"
    }
   ],
   "source": [
    "[alphabet[3], alphabet[4], alphabet[5], alphabet[6]]"
   ]
  },
  {
   "cell_type": "code",
   "execution_count": 53,
   "id": "motivated-narrow",
   "metadata": {},
   "outputs": [
    {
     "name": "stdout",
     "output_type": "stream",
     "text": [
      "['d', 'e', 'f', 'g']\n"
     ]
    }
   ],
   "source": [
    "newlist = []\n",
    "for index in range(3, 7):\n",
    "    newlist.append(alphabet[index])\n",
    "print(newlist)"
   ]
  },
  {
   "cell_type": "code",
   "execution_count": 55,
   "id": "cordless-serial",
   "metadata": {},
   "outputs": [
    {
     "data": {
      "text/plain": [
       "['d', 'e', 'f', 'g']"
      ]
     },
     "execution_count": 55,
     "metadata": {},
     "output_type": "execute_result"
    }
   ],
   "source": [
    "alphabet[3:7]"
   ]
  },
  {
   "cell_type": "code",
   "execution_count": 56,
   "id": "configured-outdoors",
   "metadata": {},
   "outputs": [
    {
     "data": {
      "text/plain": [
       "['c', 'd', 'e', 'f', 'g']"
      ]
     },
     "execution_count": 56,
     "metadata": {},
     "output_type": "execute_result"
    }
   ],
   "source": [
    "# what will this yield?\n",
    "alphabet[2:7]"
   ]
  },
  {
   "cell_type": "code",
   "execution_count": 58,
   "id": "charming-lewis",
   "metadata": {},
   "outputs": [
    {
     "data": {
      "text/plain": [
       "['u', 'v', 'w']"
      ]
     },
     "execution_count": 58,
     "metadata": {},
     "output_type": "execute_result"
    }
   ],
   "source": [
    "alphabet[20:-3]"
   ]
  },
  {
   "cell_type": "markdown",
   "id": "communist-dubai",
   "metadata": {},
   "source": [
    "- step size"
   ]
  },
  {
   "cell_type": "code",
   "execution_count": 61,
   "id": "physical-labor",
   "metadata": {},
   "outputs": [
    {
     "data": {
      "text/plain": [
       "['a', 'c', 'e']"
      ]
     },
     "execution_count": 61,
     "metadata": {},
     "output_type": "execute_result"
    }
   ],
   "source": [
    "alphabet[0:6:2]"
   ]
  },
  {
   "cell_type": "code",
   "execution_count": 63,
   "id": "special-spotlight",
   "metadata": {},
   "outputs": [
    {
     "name": "stdout",
     "output_type": "stream",
     "text": [
      "0 a\n",
      "2 c\n",
      "4 e\n",
      "6 g\n"
     ]
    }
   ],
   "source": [
    "for index in range(0, 6, 2):\n",
    "    print(index, alphabet[index])"
   ]
  },
  {
   "cell_type": "markdown",
   "id": "statewide-sunday",
   "metadata": {},
   "source": [
    "- reverse slicing bounds"
   ]
  },
  {
   "cell_type": "code",
   "execution_count": 64,
   "id": "australian-athletics",
   "metadata": {},
   "outputs": [
    {
     "data": {
      "text/plain": [
       "['g', 'f', 'e', 'd', 'c', 'b']"
      ]
     },
     "execution_count": 64,
     "metadata": {},
     "output_type": "execute_result"
    }
   ],
   "source": [
    "alphabet[6:0:-1]"
   ]
  },
  {
   "cell_type": "code",
   "execution_count": 66,
   "id": "extra-auckland",
   "metadata": {
    "scrolled": true
   },
   "outputs": [
    {
     "name": "stdout",
     "output_type": "stream",
     "text": [
      "6 g\n",
      "5 f\n",
      "4 e\n",
      "3 d\n",
      "2 c\n",
      "1 b\n"
     ]
    }
   ],
   "source": [
    "for index in range(6, 0, -1):\n",
    "    print(index, alphabet[index])"
   ]
  },
  {
   "cell_type": "code",
   "execution_count": 70,
   "id": "designing-dream",
   "metadata": {},
   "outputs": [
    {
     "data": {
      "text/plain": [
       "['g', 'f', 'e', 'd', 'c', 'b', 'a']"
      ]
     },
     "execution_count": 70,
     "metadata": {},
     "output_type": "execute_result"
    }
   ],
   "source": [
    "alphabet[6::-1]"
   ]
  },
  {
   "cell_type": "code",
   "execution_count": 72,
   "id": "uniform-antibody",
   "metadata": {},
   "outputs": [
    {
     "data": {
      "text/plain": [
       "['a', 'b', 'c']"
      ]
     },
     "execution_count": 72,
     "metadata": {},
     "output_type": "execute_result"
    }
   ],
   "source": [
    "alphabet[:3]   # shortcut for [0:stop:1]"
   ]
  },
  {
   "cell_type": "code",
   "execution_count": 74,
   "id": "unnecessary-edwards",
   "metadata": {},
   "outputs": [
    {
     "data": {
      "text/plain": [
       "['u', 'v', 'w', 'x', 'y', 'z']"
      ]
     },
     "execution_count": 74,
     "metadata": {},
     "output_type": "execute_result"
    }
   ],
   "source": [
    "alphabet[20:]  # shortcut for [start:len(list):1]"
   ]
  },
  {
   "cell_type": "code",
   "execution_count": 77,
   "id": "broadband-board",
   "metadata": {},
   "outputs": [
    {
     "name": "stdout",
     "output_type": "stream",
     "text": [
      "['z', 'y', 'x', 'w', 'v', 'u', 't', 's', 'r', 'q', 'p', 'n', 'o', 'm', 'l', 'k', 'j', 'i', 'h', 'g', 'f', 'e', 'd', 'c', 'b', 'a']\n"
     ]
    }
   ],
   "source": [
    "print(alphabet[::-1])"
   ]
  },
  {
   "cell_type": "markdown",
   "id": "greater-ozone",
   "metadata": {},
   "source": [
    "- [start:stop:step]   stop is not included.  \n",
    "\n",
    "- default start 0 when step is positive, -1 when step is negative  \n",
    "\n",
    "- default stop is len(list) when step is positive, and the thing before 0 when step is negative  \n",
    "\n",
    "- default step is 1"
   ]
  },
  {
   "cell_type": "code",
   "execution_count": 81,
   "id": "dangerous-placement",
   "metadata": {},
   "outputs": [
    {
     "name": "stdout",
     "output_type": "stream",
     "text": [
      "['d', 'e', 'f', 'g', 'h', 'i', 'j', 'k', 'l', 'm', 'o', 'n', 'p', 'q', 'r', 's']\n",
      "['d', 'f', 'h', 'j', 'l', 'o', 'p', 'r']\n",
      "['r', 'p', 'o', 'l', 'j', 'h', 'f', 'd']\n"
     ]
    }
   ],
   "source": [
    "# pull out every second letter between index 3 and index 18 and reverse them.\n",
    "\n",
    "tmp = alphabet[3:19]\n",
    "print(tmp)\n",
    "tmp = tmp[::2]\n",
    "print(tmp)\n",
    "print(tmp[::-1])"
   ]
  },
  {
   "cell_type": "code",
   "execution_count": 84,
   "id": "incorporated-description",
   "metadata": {},
   "outputs": [
    {
     "data": {
      "text/plain": [
       "['r', 'p', 'o', 'l', 'j', 'h', 'f', 'd']"
      ]
     },
     "execution_count": 84,
     "metadata": {},
     "output_type": "execute_result"
    }
   ],
   "source": [
    "alphabet[17:2:-2]  #confusing!"
   ]
  },
  {
   "cell_type": "markdown",
   "id": "abandoned-charge",
   "metadata": {},
   "source": [
    "#### more on range()\n",
    "\n",
    "- same argument as slicing."
   ]
  },
  {
   "cell_type": "markdown",
   "id": "domestic-earthquake",
   "metadata": {},
   "source": [
    "## List methods"
   ]
  },
  {
   "cell_type": "code",
   "execution_count": 86,
   "id": "reduced-validity",
   "metadata": {},
   "outputs": [
    {
     "name": "stdout",
     "output_type": "stream",
     "text": [
      "['This', 'is', 'how', 'we', 'can', 'split', 'a', 'sentence', 'into', 'its', 'component', 'words']\n"
     ]
    }
   ],
   "source": [
    "# \n",
    "sentence = 'This is how we can split a sentence into its component words'.split(' ')\n",
    "print(sentence)"
   ]
  },
  {
   "cell_type": "code",
   "execution_count": 88,
   "id": "applicable-ground",
   "metadata": {},
   "outputs": [
    {
     "data": {
      "text/plain": [
       "['is', 'how', 'we', 'can', 'split', 'a']"
      ]
     },
     "execution_count": 88,
     "metadata": {},
     "output_type": "execute_result"
    }
   ],
   "source": [
    "sentence[1:7]"
   ]
  },
  {
   "cell_type": "code",
   "execution_count": 96,
   "id": "incoming-reputation",
   "metadata": {},
   "outputs": [
    {
     "name": "stdout",
     "output_type": "stream",
     "text": [
      "1\n",
      "6\n"
     ]
    },
    {
     "data": {
      "text/plain": [
       "['is', 'how', 'we', 'can', 'split', 'a']"
      ]
     },
     "execution_count": 96,
     "metadata": {},
     "output_type": "execute_result"
    }
   ],
   "source": [
    "# find index of 'is'\n",
    "# find the index of 'a'\n",
    "# use those to slice\n",
    "\n",
    "# sentence = 'this animal is a puppy'.split(' ')\n",
    "\n",
    "print(sentence.index('is'))\n",
    "print(sentence.index('a'))\n",
    "\n",
    "sentence[sentence.index('is') : sentence.index('a') + 1]"
   ]
  },
  {
   "cell_type": "code",
   "execution_count": 99,
   "id": "turkish-college",
   "metadata": {},
   "outputs": [
    {
     "data": {
      "text/plain": [
       "['is', 'definitely', 'not', 'a']"
      ]
     },
     "execution_count": 99,
     "metadata": {},
     "output_type": "execute_result"
    }
   ],
   "source": [
    "sentence = 'this animal is definitely not a puppy'.split(' ')\n",
    "sentence[sentence.index('is') : sentence.index('a') + 1]"
   ]
  },
  {
   "cell_type": "markdown",
   "id": "national-duncan",
   "metadata": {},
   "source": [
    "### append vs extend"
   ]
  },
  {
   "cell_type": "code",
   "execution_count": 101,
   "id": "floating-ecuador",
   "metadata": {},
   "outputs": [
    {
     "name": "stdout",
     "output_type": "stream",
     "text": [
      "[0, 1, 4, 9, 16, 25, 36, 49, 64, 81, 100, 121, 144, 169, 196, 225, 256, 289, 324, 361]\n"
     ]
    }
   ],
   "source": [
    "newlist = []\n",
    "\n",
    "for i in range(0, 20):\n",
    "    newlist.append(i**2)\n",
    "    \n",
    "print(newlist)"
   ]
  },
  {
   "cell_type": "code",
   "execution_count": 103,
   "id": "empty-shower",
   "metadata": {},
   "outputs": [
    {
     "name": "stdout",
     "output_type": "stream",
     "text": [
      "['this', 'animal', 'is', 'definitely', 'not', 'a', 'puppy']\n",
      "['this', 'animal', 'is', 'definitely', 'not', 'a', 'puppy', 'dog']\n"
     ]
    }
   ],
   "source": [
    "print(sentence)\n",
    "sentence.append('dog')\n",
    "print(sentence)"
   ]
  },
  {
   "cell_type": "code",
   "execution_count": 107,
   "id": "broken-coral",
   "metadata": {},
   "outputs": [
    {
     "name": "stdout",
     "output_type": "stream",
     "text": [
      "['these', 'are', 'the', 'animals', 'that', 'I', 'have:']\n",
      "['these', 'are', 'the', 'animals', 'that', 'I', 'have:', 'dog,', 'cat,', 'fish']\n",
      "fish\n",
      "cat,\n",
      "dog,\n"
     ]
    }
   ],
   "source": [
    "sentence = 'these are the animals that I have:'.split(' ')\n",
    "\n",
    "print(sentence)\n",
    "sentence.append('dog,')\n",
    "sentence.append('cat,')\n",
    "sentence.append('fish')\n",
    "print(sentence)\n",
    "\n",
    "print(sentence[-1])\n",
    "print(sentence[-2])\n",
    "print(sentence[-3])\n"
   ]
  },
  {
   "cell_type": "code",
   "execution_count": 109,
   "id": "progressive-plant",
   "metadata": {},
   "outputs": [
    {
     "name": "stdout",
     "output_type": "stream",
     "text": [
      "['these', 'are', 'the', 'animals', 'that', 'I', 'have:']\n",
      "['these', 'are', 'the', 'animals', 'that', 'I', 'have:', ['dog', 'cat', 'fish']]\n"
     ]
    },
    {
     "data": {
      "text/plain": [
       "['dog', 'cat', 'fish']"
      ]
     },
     "execution_count": 109,
     "metadata": {},
     "output_type": "execute_result"
    }
   ],
   "source": [
    "sentence = 'these are the animals that I have:'.split(' ')\n",
    "\n",
    "print(sentence)\n",
    "sentence.append(['dog', 'cat', 'fish'])\n",
    "print(sentence)\n",
    "\n",
    "sentence[-1]"
   ]
  },
  {
   "cell_type": "code",
   "execution_count": 110,
   "id": "floral-silver",
   "metadata": {},
   "outputs": [
    {
     "name": "stdout",
     "output_type": "stream",
     "text": [
      "['these', 'are', 'the', 'animals', 'that', 'I', 'have:']\n",
      "['these', 'are', 'the', 'animals', 'that', 'I', 'have:', 'dog', 'cat', 'fish']\n",
      "fish\n",
      "cat\n",
      "dog\n"
     ]
    }
   ],
   "source": [
    "sentence = 'these are the animals that I have:'.split(' ')\n",
    "\n",
    "print(sentence)\n",
    "sentence.extend(['dog', 'cat', 'fish'])\n",
    "print(sentence)\n",
    "\n",
    "print(sentence[-1])\n",
    "print(sentence[-2])\n",
    "print(sentence[-3])"
   ]
  },
  {
   "cell_type": "markdown",
   "id": "individual-invitation",
   "metadata": {},
   "source": [
    "### pop and remove"
   ]
  },
  {
   "cell_type": "code",
   "execution_count": 112,
   "id": "theoretical-friendship",
   "metadata": {},
   "outputs": [
    {
     "data": {
      "text/plain": [
       "['these', 'are', 'the', 'animals', 'that', 'I', 'have:', 'dog', 'cat', 'fish']"
      ]
     },
     "execution_count": 112,
     "metadata": {},
     "output_type": "execute_result"
    }
   ],
   "source": [
    "sentence"
   ]
  },
  {
   "cell_type": "code",
   "execution_count": 113,
   "id": "enabling-studio",
   "metadata": {},
   "outputs": [
    {
     "name": "stdout",
     "output_type": "stream",
     "text": [
      "['these', 'are', 'the', 'animals', 'that', 'I', 'have:', 'dog', 'cat', 'fish']\n",
      "['these', 'are', 'animals', 'that', 'I', 'have:', 'dog', 'cat', 'fish']\n"
     ]
    }
   ],
   "source": [
    "print(sentence)\n",
    "sentence.remove('the')\n",
    "print(sentence)"
   ]
  },
  {
   "cell_type": "code",
   "execution_count": 117,
   "id": "legitimate-biodiversity",
   "metadata": {},
   "outputs": [
    {
     "name": "stdout",
     "output_type": "stream",
     "text": [
      "['these', 'are', 'the', 'animals', 'that', 'I', 'have', 'in', 'the', 'garage']\n",
      "['these', 'are', 'animals', 'that', 'I', 'have', 'in', 'the', 'garage']\n"
     ]
    }
   ],
   "source": [
    "sentence =  'these are the animals that I have in the garage'.split(' ')\n",
    "print(sentence)\n",
    "sentence.remove('the')\n",
    "print(sentence)"
   ]
  },
  {
   "cell_type": "code",
   "execution_count": 119,
   "id": "burning-supervisor",
   "metadata": {},
   "outputs": [
    {
     "ename": "ValueError",
     "evalue": "list.remove(x): x not in list",
     "output_type": "error",
     "traceback": [
      "\u001b[0;31m---------------------------------------------------------------------------\u001b[0m",
      "\u001b[0;31mValueError\u001b[0m                                Traceback (most recent call last)",
      "\u001b[0;32m<ipython-input-119-e0eace249f1f>\u001b[0m in \u001b[0;36m<module>\u001b[0;34m\u001b[0m\n\u001b[0;32m----> 1\u001b[0;31m \u001b[0msentence\u001b[0m\u001b[0;34m.\u001b[0m\u001b[0mremove\u001b[0m\u001b[0;34m(\u001b[0m\u001b[0;34m'cobra'\u001b[0m\u001b[0;34m)\u001b[0m\u001b[0;34m\u001b[0m\u001b[0;34m\u001b[0m\u001b[0m\n\u001b[0m",
      "\u001b[0;31mValueError\u001b[0m: list.remove(x): x not in list"
     ]
    }
   ],
   "source": [
    "sentence.remove('cobra')"
   ]
  },
  {
   "cell_type": "code",
   "execution_count": 121,
   "id": "inner-security",
   "metadata": {},
   "outputs": [
    {
     "name": "stdout",
     "output_type": "stream",
     "text": [
      "['these', 'are', 'the', 'animals', 'that', 'I', 'have', 'in', 'the', 'garage']\n",
      "['these', 'are', 'the', 'animals', 'that', 'have', 'in', 'the', 'garage']\n",
      "I\n"
     ]
    }
   ],
   "source": [
    "sentence =  'these are the animals that I have in the garage'.split(' ')\n",
    "print(sentence)\n",
    "item_5 = sentence.pop(5)\n",
    "print(sentence)\n",
    "print(item_5)"
   ]
  },
  {
   "cell_type": "code",
   "execution_count": 123,
   "id": "angry-washer",
   "metadata": {},
   "outputs": [
    {
     "name": "stdout",
     "output_type": "stream",
     "text": [
      "['these', 'are', 'the', 'animals', 'that', 'I', 'have', 'in', 'the', 'garage']\n",
      "['these', 'are', 'the', 'animals', 'that', 'I', 'have', 'in', 'the', 'garage']\n",
      "I\n"
     ]
    }
   ],
   "source": [
    "sentence =  'these are the animals that I have in the garage'.split(' ')\n",
    "print(sentence)\n",
    "item_5 = sentence[5]\n",
    "print(sentence)\n",
    "print(item_5)"
   ]
  },
  {
   "cell_type": "markdown",
   "id": "tender-arbor",
   "metadata": {},
   "source": [
    "- remove: remove by value\n",
    "\n",
    "- pop: remove by index"
   ]
  },
  {
   "cell_type": "code",
   "execution_count": 127,
   "id": "marked-compromise",
   "metadata": {},
   "outputs": [
    {
     "name": "stdout",
     "output_type": "stream",
     "text": [
      "['these', 'are', 'the', 'animals', 'that', 'I', 'have', 'in', 'the', 'garage']\n",
      "['these', 'are', 'the', 'animals', 'that', 'have', 'in', 'the', 'garage']\n",
      "I\n"
     ]
    }
   ],
   "source": [
    "sentence =  'these are the animals that I have in the garage'.split(' ')\n",
    "print(sentence)\n",
    "item_5 = sentence.pop(5)\n",
    "print(sentence)\n",
    "print(item_5)"
   ]
  },
  {
   "cell_type": "code",
   "execution_count": 130,
   "id": "minimal-oracle",
   "metadata": {},
   "outputs": [
    {
     "name": "stdout",
     "output_type": "stream",
     "text": [
      "['these', 'are', 'the', 'animals', 'that', 'I', 'have', 'in', 'the', 'garage']\n"
     ]
    },
    {
     "ename": "ValueError",
     "evalue": "list.remove(x): x not in list",
     "output_type": "error",
     "traceback": [
      "\u001b[0;31m---------------------------------------------------------------------------\u001b[0m",
      "\u001b[0;31mValueError\u001b[0m                                Traceback (most recent call last)",
      "\u001b[0;32m<ipython-input-130-56f5a655c3bd>\u001b[0m in \u001b[0;36m<module>\u001b[0;34m\u001b[0m\n\u001b[1;32m      1\u001b[0m \u001b[0msentence\u001b[0m \u001b[0;34m=\u001b[0m  \u001b[0;34m'these are the animals that I have in the garage'\u001b[0m\u001b[0;34m.\u001b[0m\u001b[0msplit\u001b[0m\u001b[0;34m(\u001b[0m\u001b[0;34m' '\u001b[0m\u001b[0;34m)\u001b[0m\u001b[0;34m\u001b[0m\u001b[0;34m\u001b[0m\u001b[0m\n\u001b[1;32m      2\u001b[0m \u001b[0mprint\u001b[0m\u001b[0;34m(\u001b[0m\u001b[0msentence\u001b[0m\u001b[0;34m)\u001b[0m\u001b[0;34m\u001b[0m\u001b[0;34m\u001b[0m\u001b[0m\n\u001b[0;32m----> 3\u001b[0;31m \u001b[0msentence\u001b[0m\u001b[0;34m.\u001b[0m\u001b[0mremove\u001b[0m\u001b[0;34m(\u001b[0m\u001b[0;34m[\u001b[0m\u001b[0;34m'the'\u001b[0m\u001b[0;34m,\u001b[0m \u001b[0;34m'animals'\u001b[0m\u001b[0;34m]\u001b[0m\u001b[0;34m)\u001b[0m\u001b[0;34m\u001b[0m\u001b[0;34m\u001b[0m\u001b[0m\n\u001b[0m\u001b[1;32m      4\u001b[0m \u001b[0mprint\u001b[0m\u001b[0;34m(\u001b[0m\u001b[0msentence\u001b[0m\u001b[0;34m)\u001b[0m\u001b[0;34m\u001b[0m\u001b[0;34m\u001b[0m\u001b[0m\n",
      "\u001b[0;31mValueError\u001b[0m: list.remove(x): x not in list"
     ]
    }
   ],
   "source": [
    "sentence =  'these are the animals that I have in the garage'.split(' ')\n",
    "print(sentence)\n",
    "sentence.remove(['the', 'animals'])\n",
    "print(sentence)\n"
   ]
  },
  {
   "cell_type": "code",
   "execution_count": 132,
   "id": "tested-brain",
   "metadata": {},
   "outputs": [
    {
     "name": "stdout",
     "output_type": "stream",
     "text": [
      "['these', 'are', 'the', 'animals', 'that', 'I', 'have', 'in', 'the', 'garage']\n",
      "['these', 'animals', 'that', 'I', 'have', 'the', 'garage']\n"
     ]
    }
   ],
   "source": [
    "things_to_remove = ['are', 'the', 'in']\n",
    "sentence =  'these are the animals that I have in the garage'.split(' ')\n",
    "\n",
    "print(sentence)\n",
    "for potato in things_to_remove:\n",
    "    sentence.remove(potato)\n",
    "\n",
    "print(sentence)"
   ]
  },
  {
   "cell_type": "markdown",
   "id": "active-neighbor",
   "metadata": {},
   "source": [
    "### sort vs sorted\n"
   ]
  },
  {
   "cell_type": "code",
   "execution_count": 134,
   "id": "annual-intake",
   "metadata": {},
   "outputs": [
    {
     "name": "stdout",
     "output_type": "stream",
     "text": [
      "['four', 'score', 'and', 'seven', 'years', 'ago', 'our', 'father', 'set', 'forth', 'upon', 'this', 'contintent,', 'with', 'the', 'exlacmation', 'abracadabra']\n"
     ]
    }
   ],
   "source": [
    "words = 'four score and seven years ago our father set forth upon this contintent, with the exlacmation abracadabra'.split(' ')\n",
    "\n",
    "print(words)"
   ]
  },
  {
   "cell_type": "code",
   "execution_count": 144,
   "id": "southern-groove",
   "metadata": {},
   "outputs": [
    {
     "name": "stdout",
     "output_type": "stream",
     "text": [
      "['four', 'score', 'and', 'seven', 'years', 'ago', 'our', 'father', 'set', 'forth', 'upon', 'this', 'contintent,', 'with', 'the', 'exlacmation', 'abracadabra']\n",
      "['abracadabra', 'ago', 'and', 'contintent,', 'exlacmation', 'father', 'forth', 'four', 'our', 'score', 'set', 'seven', 'the', 'this', 'upon', 'with', 'years']\n",
      "['years', 'with', 'upon', 'this', 'the', 'seven', 'set', 'score', 'our', 'four', 'forth', 'father', 'exlacmation', 'contintent,', 'and', 'ago', 'abracadabra']\n"
     ]
    }
   ],
   "source": [
    "print(words)\n",
    "words.sort()\n",
    "print(words)\n",
    "words.sort(reverse=True)\n",
    "print(words)"
   ]
  },
  {
   "cell_type": "code",
   "execution_count": 146,
   "id": "spatial-gregory",
   "metadata": {},
   "outputs": [
    {
     "name": "stdout",
     "output_type": "stream",
     "text": [
      "['four', 'score', 'and', 'seven', 'years', 'ago', 'our', 'father', 'set', 'forth', 'upon', 'this', 'contintent,', 'with', 'the', 'exlacmation', 'abracadabra']\n"
     ]
    }
   ],
   "source": [
    "words = 'four score and seven years ago our father set forth upon this contintent, with the exlacmation abracadabra'.split(' ')\n",
    "\n",
    "print(words)"
   ]
  },
  {
   "cell_type": "code",
   "execution_count": 148,
   "id": "brilliant-bulgaria",
   "metadata": {},
   "outputs": [
    {
     "name": "stdout",
     "output_type": "stream",
     "text": [
      "['four', 'score', 'and', 'seven', 'years', 'ago', 'our', 'father', 'set', 'forth', 'upon', 'this', 'contintent,', 'with', 'the', 'exlacmation', 'abracadabra']\n",
      "['abracadabra', 'ago', 'and', 'contintent,', 'exlacmation', 'father', 'forth', 'four', 'our', 'score', 'set', 'seven', 'the', 'this', 'upon', 'with', 'years']\n",
      "['four', 'score', 'and', 'seven', 'years', 'ago', 'our', 'father', 'set', 'forth', 'upon', 'this', 'contintent,', 'with', 'the', 'exlacmation', 'abracadabra']\n"
     ]
    }
   ],
   "source": [
    "print(words)\n",
    "sorted_list = sorted(words)\n",
    "print(sorted_list)\n",
    "print(words)"
   ]
  },
  {
   "cell_type": "code",
   "execution_count": 153,
   "id": "front-lucas",
   "metadata": {},
   "outputs": [
    {
     "name": "stdout",
     "output_type": "stream",
     "text": [
      "['A', 'big', 'Zebra', 'and', 'a', '.cat', '-foo', '_56', 'Bigger', '57', 'zebra', 'went', 'home']\n",
      "['-foo', '.cat', '57', 'A', 'Bigger', 'Zebra', '_56', 'a', 'and', 'big', 'home', 'went', 'zebra']\n"
     ]
    }
   ],
   "source": [
    "words = 'A big Zebra and a .cat -foo _56 Bigger 57 zebra went home'.split(' ')\n",
    "print(words)\n",
    "print(sorted(words))"
   ]
  },
  {
   "cell_type": "code",
   "execution_count": 157,
   "id": "rubber-bryan",
   "metadata": {},
   "outputs": [
    {
     "data": {
      "text/plain": [
       "37"
      ]
     },
     "execution_count": 157,
     "metadata": {},
     "output_type": "execute_result"
    }
   ],
   "source": [
    "ord('%')"
   ]
  },
  {
   "cell_type": "code",
   "execution_count": 165,
   "id": "similar-paris",
   "metadata": {},
   "outputs": [
    {
     "data": {
      "text/plain": [
       "'a'"
      ]
     },
     "execution_count": 165,
     "metadata": {},
     "output_type": "execute_result"
    }
   ],
   "source": [
    "chr(97)"
   ]
  },
  {
   "cell_type": "code",
   "execution_count": 166,
   "id": "quiet-safety",
   "metadata": {},
   "outputs": [
    {
     "data": {
      "text/plain": [
       "[59, 65, 68, 70, 77]"
      ]
     },
     "execution_count": 166,
     "metadata": {},
     "output_type": "execute_result"
    }
   ],
   "source": [
    "heights = [68, 70, 59, 65, 77]\n",
    "sorted(heights)"
   ]
  },
  {
   "cell_type": "markdown",
   "id": "marked-ethnic",
   "metadata": {},
   "source": [
    "## List vs Tuple"
   ]
  },
  {
   "cell_type": "code",
   "execution_count": 188,
   "id": "sufficient-cream",
   "metadata": {},
   "outputs": [],
   "source": [
    "heights_list = [68, 70, 59, 65, 77] # this is a list\n",
    "heights_tuple = (68, 70, 59, 65, 77) # this is a tuple"
   ]
  },
  {
   "cell_type": "code",
   "execution_count": 189,
   "id": "favorite-ireland",
   "metadata": {},
   "outputs": [
    {
     "name": "stdout",
     "output_type": "stream",
     "text": [
      "[68, 70, 59, 65, 77]\n",
      "(68, 70, 59, 65, 77)\n"
     ]
    }
   ],
   "source": [
    "print(heights_list)\n",
    "print(heights_tuple)"
   ]
  },
  {
   "cell_type": "code",
   "execution_count": 190,
   "id": "subject-train",
   "metadata": {},
   "outputs": [
    {
     "name": "stdout",
     "output_type": "stream",
     "text": [
      "<class 'list'>\n",
      "<class 'tuple'>\n"
     ]
    }
   ],
   "source": [
    "print(type(heights_list))\n",
    "print(type(heights_tuple))"
   ]
  },
  {
   "cell_type": "code",
   "execution_count": 191,
   "id": "amino-academy",
   "metadata": {},
   "outputs": [
    {
     "name": "stdout",
     "output_type": "stream",
     "text": [
      "68\n",
      "70\n",
      "59\n",
      "65\n",
      "77\n"
     ]
    }
   ],
   "source": [
    "for height in heights_tuple:\n",
    "    print(height)"
   ]
  },
  {
   "cell_type": "code",
   "execution_count": 192,
   "id": "hawaiian-portfolio",
   "metadata": {},
   "outputs": [
    {
     "name": "stdout",
     "output_type": "stream",
     "text": [
      "65\n",
      "65\n"
     ]
    }
   ],
   "source": [
    "print(heights_list[3])\n",
    "print(heights_tuple[3])"
   ]
  },
  {
   "cell_type": "code",
   "execution_count": 193,
   "id": "mounted-civilization",
   "metadata": {},
   "outputs": [],
   "source": [
    "heights_list[3] = 78"
   ]
  },
  {
   "cell_type": "code",
   "execution_count": 194,
   "id": "south-orchestra",
   "metadata": {},
   "outputs": [
    {
     "name": "stdout",
     "output_type": "stream",
     "text": [
      "[68, 70, 59, 78, 77]\n"
     ]
    }
   ],
   "source": [
    "print(heights_list)"
   ]
  },
  {
   "cell_type": "code",
   "execution_count": 195,
   "id": "hindu-shoot",
   "metadata": {},
   "outputs": [
    {
     "ename": "TypeError",
     "evalue": "'tuple' object does not support item assignment",
     "output_type": "error",
     "traceback": [
      "\u001b[0;31m---------------------------------------------------------------------------\u001b[0m",
      "\u001b[0;31mTypeError\u001b[0m                                 Traceback (most recent call last)",
      "\u001b[0;32m<ipython-input-195-6b390f9fbaa0>\u001b[0m in \u001b[0;36m<module>\u001b[0;34m\u001b[0m\n\u001b[0;32m----> 1\u001b[0;31m \u001b[0mheights_tuple\u001b[0m\u001b[0;34m[\u001b[0m\u001b[0;36m3\u001b[0m\u001b[0;34m]\u001b[0m \u001b[0;34m=\u001b[0m \u001b[0;36m78\u001b[0m\u001b[0;34m\u001b[0m\u001b[0;34m\u001b[0m\u001b[0m\n\u001b[0m",
      "\u001b[0;31mTypeError\u001b[0m: 'tuple' object does not support item assignment"
     ]
    }
   ],
   "source": [
    "heights_tuple[3] = 78"
   ]
  },
  {
   "cell_type": "code",
   "execution_count": 196,
   "id": "organized-trace",
   "metadata": {},
   "outputs": [],
   "source": [
    "heights_list.append(5)\n",
    "heights_list.pop(3)\n",
    "heights_list.remove(5)\n",
    "heights[0] = 800"
   ]
  },
  {
   "cell_type": "code",
   "execution_count": 197,
   "id": "decimal-personality",
   "metadata": {},
   "outputs": [
    {
     "data": {
      "text/plain": [
       "(68, 70, 59, 65, 77)"
      ]
     },
     "execution_count": 197,
     "metadata": {},
     "output_type": "execute_result"
    }
   ],
   "source": [
    "heights_tuple"
   ]
  },
  {
   "cell_type": "markdown",
   "id": "architectural-shore",
   "metadata": {},
   "source": [
    "Mutable objects (list lists) can be changed in place.\n",
    "\n",
    "Immutable objects (like tuples) can only be reassigned."
   ]
  },
  {
   "cell_type": "code",
   "execution_count": 201,
   "id": "opened-combine",
   "metadata": {},
   "outputs": [],
   "source": [
    "heights_tuple = tuple(sorted(heights_tuple))"
   ]
  },
  {
   "cell_type": "code",
   "execution_count": 204,
   "id": "destroyed-freedom",
   "metadata": {},
   "outputs": [
    {
     "data": {
      "text/plain": [
       "(59, 65, 68, 70, 77)"
      ]
     },
     "execution_count": 204,
     "metadata": {},
     "output_type": "execute_result"
    }
   ],
   "source": [
    "heights_tuple"
   ]
  },
  {
   "cell_type": "markdown",
   "id": "therapeutic-genesis",
   "metadata": {},
   "source": [
    "## example"
   ]
  },
  {
   "cell_type": "code",
   "execution_count": 230,
   "id": "corporate-nothing",
   "metadata": {},
   "outputs": [
    {
     "name": "stdout",
     "output_type": "stream",
     "text": [
      "[78, 91, 55, 56, 38, 92, 89, 46, 87, 68, 49, 81, 39, 77, 75, 37, 59, 50, 43, 84, 48, 85, 58, 52, 91, 55, 78, 88, 74, 56, 42, 79, 85, 53, 72, 67, 65, 55, 75, 77, 95, 87, 92, 83, 43, 77, 79, 50, 91, 69, 66, 61, 76, 36, 54, 94, 47, 71, 39, 89, 94, 47, 44, 71, 82, 40, 54, 89, 41, 42, 58, 72, 49, 65, 74, 89, 62, 60, 36, 69, 38, 95, 87, 40, 49, 94, 75, 59, 47, 92, 74, 52, 47, 38, 65, 71, 40, 66, 93, 52]\n"
     ]
    }
   ],
   "source": [
    "from random import randint\n",
    "\n",
    "heights = [randint(36, 96) for _ in range(100)]\n",
    "\n",
    "print(heights)"
   ]
  },
  {
   "cell_type": "code",
   "execution_count": 223,
   "id": "functioning-lemon",
   "metadata": {},
   "outputs": [
    {
     "name": "stdout",
     "output_type": "stream",
     "text": [
      "[89, 93, 93, 94, 95, 95, 95, 96, 96, 96]\n",
      "[96, 96, 96, 95, 95, 95, 94, 93, 93, 89]\n"
     ]
    }
   ],
   "source": [
    "# how do I get out the 10 tallest heights?\n",
    "\n",
    "# sort first.\n",
    "heights.sort()\n",
    "\n",
    "# way without reversing: \n",
    "print(heights[-10:])\n",
    "\n",
    "# via reversing\n",
    "# how do we reverse?\n",
    "heights.sort(reverse = True)\n",
    "#print(heights)\n",
    "print(heights[0:10])"
   ]
  },
  {
   "cell_type": "code",
   "execution_count": 232,
   "id": "central-salon",
   "metadata": {},
   "outputs": [
    {
     "name": "stdout",
     "output_type": "stream",
     "text": [
      "69\n",
      "potato is in heights\n",
      "65\n",
      "potato is in heights\n",
      "78\n",
      "potato is in heights\n",
      "66\n",
      "potato is in heights\n",
      "160\n"
     ]
    }
   ],
   "source": [
    "# we have a list of heights we *hate* \n",
    "hated_heights = [69, 65, 78, 66, 160]\n",
    "\n",
    "# note: that we might not have a given item\n",
    "\n",
    "for potato in hated_heights:\n",
    "    print(potato)\n",
    "    if potato in heights:\n",
    "        print('potato is in heights')\n",
    "        heights.remove(potato)\n",
    "\n",
    "# this leaves multiples.  oops"
   ]
  },
  {
   "cell_type": "code",
   "execution_count": 238,
   "id": "rough-teacher",
   "metadata": {},
   "outputs": [],
   "source": [
    "\n",
    "heights = [randint(60, 80) for _ in range(100)]"
   ]
  },
  {
   "cell_type": "code",
   "execution_count": 239,
   "id": "moved-proposition",
   "metadata": {},
   "outputs": [
    {
     "name": "stdout",
     "output_type": "stream",
     "text": [
      "69\n",
      "potato is *still* in heights\n",
      "potato is *still* in heights\n",
      "potato is *still* in heights\n",
      "potato is *still* in heights\n",
      "potato is *still* in heights\n",
      "potato is *still* in heights\n",
      "potato is *still* in heights\n",
      "65\n",
      "potato is *still* in heights\n",
      "potato is *still* in heights\n",
      "potato is *still* in heights\n",
      "potato is *still* in heights\n",
      "potato is *still* in heights\n",
      "78\n",
      "potato is *still* in heights\n",
      "potato is *still* in heights\n",
      "potato is *still* in heights\n",
      "potato is *still* in heights\n",
      "66\n",
      "potato is *still* in heights\n",
      "potato is *still* in heights\n",
      "potato is *still* in heights\n",
      "160\n"
     ]
    }
   ],
   "source": [
    "# we have a list of heights we *hate* \n",
    "hated_heights = [69, 65, 78, 66, 160]\n",
    "\n",
    "# note: that we might not have a given item\n",
    "\n",
    "for potato in hated_heights:\n",
    "    print(potato)\n",
    "    while potato in heights:\n",
    "        print('potato is *still* in heights')\n",
    "        heights.remove(potato)\n",
    "\n"
   ]
  },
  {
   "cell_type": "code",
   "execution_count": 243,
   "id": "announced-water",
   "metadata": {},
   "outputs": [
    {
     "name": "stdout",
     "output_type": "stream",
     "text": [
      "[60, 60, 60, 60, 61, 62, 62, 62, 62, 62, 62, 62, 63, 63, 64, 64, 64, 64, 64, 67, 67, 67, 67, 67, 67, 67, 68, 68, 68, 68, 68, 68, 70, 70, 70, 70, 71, 72, 72, 72, 73, 73, 73, 73, 73, 73, 73, 73, 73, 73, 74, 74, 74, 74, 74, 75, 75, 75, 75, 76, 76, 76, 76, 76, 77, 77, 77, 77, 79, 79, 79, 79, 79, 79, 79, 79, 79, 80, 80, 80, 80]\n"
     ]
    }
   ],
   "source": [
    "print(sorted(heights))"
   ]
  },
  {
   "cell_type": "markdown",
   "id": "included-vault",
   "metadata": {},
   "source": [
    "## + for lists"
   ]
  },
  {
   "cell_type": "code",
   "execution_count": 247,
   "id": "valid-complex",
   "metadata": {},
   "outputs": [
    {
     "data": {
      "text/plain": [
       "'abracadabra'"
      ]
     },
     "execution_count": 247,
     "metadata": {},
     "output_type": "execute_result"
    }
   ],
   "source": [
    "'abra' + 'cadabra'"
   ]
  },
  {
   "cell_type": "code",
   "execution_count": 249,
   "id": "marked-schema",
   "metadata": {},
   "outputs": [
    {
     "data": {
      "text/plain": [
       "['a', 'b', 'c', 1, 2, 3]"
      ]
     },
     "execution_count": 249,
     "metadata": {},
     "output_type": "execute_result"
    }
   ],
   "source": [
    "['a', 'b', 'c'] + [1, 2, 3]"
   ]
  },
  {
   "cell_type": "code",
   "execution_count": 252,
   "id": "metallic-antique",
   "metadata": {},
   "outputs": [
    {
     "name": "stdout",
     "output_type": "stream",
     "text": [
      "['a', 'b', 'c', 1, 2, 3]\n"
     ]
    }
   ],
   "source": [
    "x = ['a', 'b', 'c']\n",
    "x.extend([1, 2, 3])\n",
    "print(x)"
   ]
  },
  {
   "cell_type": "markdown",
   "id": "amended-bracelet",
   "metadata": {},
   "source": []
  },
  {
   "cell_type": "markdown",
   "id": "material-baltimore",
   "metadata": {},
   "source": [
    "## Advanced list things\n",
    "\n",
    "### zip and enumerate\n",
    "\n",
    "### list comprehension"
   ]
  },
  {
   "cell_type": "code",
   "execution_count": null,
   "id": "headed-governor",
   "metadata": {},
   "outputs": [],
   "source": []
  }
 ],
 "metadata": {
  "kernelspec": {
   "display_name": "Python 3",
   "language": "python",
   "name": "python3"
  },
  "language_info": {
   "codemirror_mode": {
    "name": "ipython",
    "version": 3
   },
   "file_extension": ".py",
   "mimetype": "text/x-python",
   "name": "python",
   "nbconvert_exporter": "python",
   "pygments_lexer": "ipython3",
   "version": "3.8.6"
  }
 },
 "nbformat": 4,
 "nbformat_minor": 5
}
