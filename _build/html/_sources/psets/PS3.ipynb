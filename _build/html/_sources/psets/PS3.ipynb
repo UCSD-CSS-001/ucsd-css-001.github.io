{
 "cells": [
  {
   "cell_type": "markdown",
   "metadata": {
    "collapsed": true,
    "pycharm": {
     "name": "#%% md\n"
    }
   },
   "source": [
    "# Agent based simulations\n",
    "\n",
    "## ugly solution"
   ]
  },
  {
   "cell_type": "code",
   "execution_count": null,
   "outputs": [],
   "source": [
    "from IPython.display import clear_output\n",
    "import random\n",
    "import time\n",
    "N = 80\n",
    "types = ['x', 'o']\n",
    "K = 10\n",
    "threshold = 0.6\n",
    "positions = [['.' for x in range(K)] for y in range(K)]\n",
    "\n",
    "def display(positions):\n",
    "    for row in positions:\n",
    "        for cell in row:\n",
    "            print(cell, end=' ')\n",
    "        print('')\n",
    "\n",
    "def get_available(positions):\n",
    "    return [(i,j) for i in range(K) for j in range(K) if positions[i][j] == '.']\n",
    "\n",
    "def get_neighbors(i,j):\n",
    "    return [positions[a][b]\n",
    "     for a in range(max(0, i-1), min(K, i+2))\n",
    "     for b in range(max(0, j-1), min(K, j+2))\n",
    "    if not (a==i and b==j) and positions[a][b] != '.']\n",
    "\n",
    "\n",
    "free = get_available(positions)\n",
    "random.shuffle(free)\n",
    "agent_positions = free[:N]\n",
    "agent_types = random.choices(types, k=N)\n",
    "for (i,j),c in zip(agent_positions, agent_types):\n",
    "    positions[i][j] = c\n",
    "\n",
    "display(positions)\n",
    "\n",
    "# update agents\n",
    "def p_same(c, neighbors):\n",
    "    if len(neighbors) == 0:\n",
    "        return 0.5\n",
    "    else:\n",
    "        similar = 0\n",
    "        for n in neighbors:\n",
    "            if n == c:\n",
    "                similar += 1\n",
    "        return similar/len(neighbors)\n",
    "\n",
    "def choose(c, neighbors):\n",
    "    return p_same(c, neighbors) < threshold\n",
    "\n",
    "def calc_segregation(positions):\n",
    "    agents = [(i, j, positions[i][j])\n",
    "     for i in range(K)\n",
    "     for j in range(K)\n",
    "     if positions[i][j] != '.']\n",
    "    n = len(agents)\n",
    "    tot = 0\n",
    "    for i,j,c in agents:\n",
    "        tot += p_same(c, get_neighbors(i,j))\n",
    "    return tot/n\n",
    "\n",
    "timesteps = 30\n",
    "record = [0]*timesteps\n",
    "for timestep in range(timesteps):\n",
    "    moved = False\n",
    "    record[timestep] = calc_segregation(positions)\n",
    "    for i in range(len(agent_types)):\n",
    "        prior_pos = agent_positions[i]\n",
    "        if choose(agent_types[i], get_neighbors(*prior_pos)):\n",
    "            free = get_available(positions)\n",
    "            pos = random.choice(free)\n",
    "            agent_positions[i] = pos\n",
    "            positions[pos[0]][pos[1]] = agent_types[i]\n",
    "            positions[prior_pos[0]][prior_pos[1]] = '.'\n",
    "            moved = True\n",
    "            clear_output(wait=True)\n",
    "            display(positions)\n",
    "\n",
    "print(record)"
   ],
   "metadata": {
    "collapsed": false,
    "pycharm": {
     "name": "#%%\n"
    }
   }
  },
  {
   "cell_type": "markdown",
   "source": [
    "Why is it ugly?\n",
    "\n",
    "well, the agent_position and agent_types lists are totally superfluous.  In effect they just create two places where we need to keep track of stuff.\n",
    "\n",
    "Second, we have no need to ever look at a list of free positions, so why not just make one method that picks a free position, and use it when needed.\n",
    "\n",
    "## better no class solution"
   ],
   "metadata": {
    "collapsed": false,
    "pycharm": {
     "name": "#%% md\n"
    }
   }
  },
  {
   "cell_type": "code",
   "execution_count": 50,
   "outputs": [
    {
     "name": "stdout",
     "output_type": "stream",
     "text": [
      "o o o o . o o o o . \n",
      "o o o o o o o o . o \n",
      ". . o o o o o o o o \n",
      "x x . o o o o o o o \n",
      "x x . o o o . . o o \n",
      "x x . o . x x . o o \n",
      "x x . . x x x x . o \n",
      "x x x x x x x x x . \n",
      "x x . x x x x x . x \n",
      "x . x . x x x x x x \n",
      "[0.45447916666666677, 0.5806101190476192, 0.7289136904761903, 0.7654464285714286, 0.8195089285714283, 0.88125, 0.9401785714285713, 0.9217261904761905, 0.9646726190476187]\n"
     ]
    }
   ],
   "source": [
    "from IPython.display import clear_output\n",
    "import random\n",
    "import time\n",
    "N = 80\n",
    "types = ['x', 'o']\n",
    "K = 10\n",
    "threshold = 0.6\n",
    "positions = [['.' for x in range(K)] for y in range(K)]\n",
    "\n",
    "def display(positions):\n",
    "    for row in positions:\n",
    "        for cell in row:\n",
    "            print(cell, end=' ')\n",
    "        print('')\n",
    "\n",
    "def get_rand_available(positions):\n",
    "    free_positions = [(i,j)\n",
    "     for i in range(K)\n",
    "     for j in range(K)\n",
    "     if positions[i][j] == '.']\n",
    "    return random.choice(free_positions)\n",
    "\n",
    "def get_neighbors(i,j):\n",
    "    return [positions[a][b]\n",
    "     for a in range(max(0, i-1), min(K, i+2))\n",
    "     for b in range(max(0, j-1), min(K, j+2))\n",
    "    if not (a==i and b==j) and positions[a][b] != '.']\n",
    "\n",
    "# initialize\n",
    "for i in range(N):\n",
    "    c = random.choice(types)\n",
    "    i,j = get_rand_available(positions)\n",
    "    positions[i][j] = c\n",
    "\n",
    "display(positions)\n",
    "\n",
    "# update agents\n",
    "def p_same(c, neighbors):\n",
    "    if len(neighbors) == 0:\n",
    "        return 0.5\n",
    "    else:\n",
    "        return neighbors.count(c) / len(neighbors)\n",
    "\n",
    "def choose(c, neighbors):\n",
    "    return p_same(c, neighbors) < threshold\n",
    "\n",
    "def get_agents(positions):\n",
    "    return [(i, j, positions[i][j])\n",
    "     for i in range(K)\n",
    "     for j in range(K)\n",
    "     if positions[i][j] != '.']\n",
    "\n",
    "def calc_segregation(positions):\n",
    "    agents = get_agents(positions)\n",
    "    n = len(agents)\n",
    "    tot = 0\n",
    "    for i,j,c in agents:\n",
    "        tot += p_same(c, get_neighbors(i,j))\n",
    "    return tot/n\n",
    "\n",
    "timesteps = 30\n",
    "record = []\n",
    "moved = True\n",
    "while moved:\n",
    "    moved = False\n",
    "    record.append(calc_segregation(positions))\n",
    "    agents = get_agents(positions)\n",
    "    for i,j,c in agents:\n",
    "        if choose(c, get_neighbors(i,j)):\n",
    "            new_i, new_j = get_rand_available(positions)\n",
    "            positions[new_i][new_j] = c\n",
    "            positions[i][j] = '.'\n",
    "            moved = True\n",
    "            clear_output(wait=True)\n",
    "            display(positions)\n",
    "\n",
    "print(record)"
   ],
   "metadata": {
    "collapsed": false,
    "pycharm": {
     "name": "#%%\n"
    }
   }
  },
  {
   "cell_type": "markdown",
   "source": [
    "This is still a bit suboptimal."
   ],
   "metadata": {
    "collapsed": false
   }
  },
  {
   "cell_type": "code",
   "source": [
    "class agent():\n",
    "    types = ['x', 'o']\n",
    "    def __init__(self, i, j, min_same=0.5, max_same=1):\n",
    "        self.pos = (i, j)\n",
    "        self.type = random.choice(self.types)\n",
    "        self.min_same = min_same\n",
    "        self.max_same = max_same\n",
    "\n",
    "    def choice(self, neighbors):\n",
    "        if len(neighbors) == 0:\n",
    "            return False\n",
    "        else:\n",
    "            p_same = (neighbors.count(self.type) / len(neighbors))\n",
    "            return p_same < self.min_same or p_same > self.max_same\n",
    "\n",
    "class environment():\n",
    "    agents = []\n",
    "    def __init__(self, K, N, min_same=0.5, max_same=1):\n",
    "        self.K = K\n",
    "        self.positions = set([(i,j) for i in range(K) for j in range(K)])\n",
    "        self.agents = [agent(*self.get_position(), min_same, max_same)\n",
    "                       for _ in range(N)]\n",
    "        self.record = [self.summary()]\n",
    "\n",
    "    def __str__(self):\n",
    "        string = ''\n",
    "        a_tuple = {a.pos:a.type for a in self.agents}\n",
    "        for i in range(self.K):\n",
    "            for j in range(self.K):\n",
    "                try:\n",
    "                    string += a_tuple[(i,j)] + ' '\n",
    "                except KeyError:\n",
    "                    string += '. '\n",
    "            string += '\\n'\n",
    "        return string\n",
    "\n",
    "    def get_position(self):\n",
    "        used_positions = set([a.pos for a in self.agents])\n",
    "        return random.choice(list(self.positions - used_positions))\n",
    "\n",
    "    def get_neighbors(self, i, j):\n",
    "        neighborhood = set([(a,b)\n",
    "                             for a in range(max(0, i-1), min(self.K, i+2))\n",
    "                             for b in range(max(0, j-1), min(self.K, j+2))\n",
    "                             if (a,b) != (i,j)])\n",
    "        return [agent.type for agent in self.agents if agent.pos in neighborhood]\n",
    "\n",
    "    def summary(self):\n",
    "        \"\"\"\n",
    "        Return average (across agents) proportion of neighbors of the same type.\n",
    "        \"\"\"\n",
    "        t = 0\n",
    "        n = 0\n",
    "        for agent in self.agents:\n",
    "            neighbors = self.get_neighbors(*agent.pos)\n",
    "            if neighbors:\n",
    "                t += neighbors.count(agent.type) / len(neighbors)\n",
    "                n += 1\n",
    "        return t/n\n",
    "\n",
    "    def step(self):\n",
    "        \"\"\"\n",
    "        simulate one timestep by looping through all agents and moving if they so choose.\n",
    "        :return: True if any agent moved\n",
    "        \"\"\"\n",
    "        moved = False\n",
    "        for agent in self.agents:\n",
    "            if agent.choice(self.get_neighbors(*agent.pos)):\n",
    "                agent.pos = self.get_position()\n",
    "                moved = True\n",
    "        return moved\n",
    "\n",
    "    def simulate(self, fps=True):\n",
    "        if fps:\n",
    "            print(self)\n",
    "        while self.step():\n",
    "            self.record.append(self.summary())\n",
    "            if fps:\n",
    "                time.sleep(1/fps)\n",
    "                clear_output(wait=True)\n",
    "                print(self)\n",
    "\n",
    "e = environment(K=20,N=380, min_same=0.5, max_same=1)\n",
    "e.simulate(30)\n",
    "e.record"
   ],
   "metadata": {
    "collapsed": false,
    "pycharm": {
     "name": "#%%\n"
    }
   },
   "execution_count": 123,
   "outputs": [
    {
     "name": "stdout",
     "output_type": "stream",
     "text": [
      "o o o o o o o o o o o o o o o . x x x x \n",
      "o o x x . o o . o o o o o o x x x x x x \n",
      "o x x x x . . o o o o o o . x x x . x . \n",
      ". x x . x o o o o o o o o . x x . x x . \n",
      ". x x x o o o o o . o o o o x x x x x . \n",
      "x . x o o o o . o o o . o o x x x x x x \n",
      "x x o o o o o . . o o o o o . x x x x x \n",
      "x . o o o o o o o o o o . . o . . . o o \n",
      "x x . . o o o o o o o o o o o o o o o o \n",
      "x x x . . o o o o o o o o o o o o o o . \n",
      "x . x x o o o o . x x . o . x x x x x x \n",
      "o x x x o o o . . x x x x x x x x x x x \n",
      "o o x x x o o o o . x x x x x x x x x x \n",
      "o o x x x x o o x x x . x x x x x . . . \n",
      "o x x x x x o o x x x x x . x x x o o . \n",
      ". x x x x x . x x x x x x x x x o o o o \n",
      ". x x . x x x x x x x x x x . . . o . o \n",
      ". x x x . x x o o . x x x . . o o o o o \n",
      "x x x x x x . o o . x x x x o o o o o . \n",
      "x x x . x x . o o o . x x x o o o o o o \n",
      "\n"
     ]
    },
    {
     "data": {
      "text/plain": "[0.4980460767302875,\n 0.6473242912058706,\n 0.714045252992622,\n 0.7739078757499814,\n 0.82167141338194,\n 0.8522736547078653,\n 0.8588617376775273,\n 0.8670024493050809,\n 0.8744725523014996,\n 0.8828515490357591,\n 0.88149550741656,\n 0.891889199981305,\n 0.8951023464839253,\n 0.8966793002319319,\n 0.8952590830222409,\n 0.8966793002319319,\n 0.9004734446839712]"
     },
     "execution_count": 123,
     "metadata": {},
     "output_type": "execute_result"
    }
   ]
  },
  {
   "cell_type": "markdown",
   "source": [],
   "metadata": {
    "collapsed": false,
    "pycharm": {
     "name": "#%% md\n"
    }
   }
  }
 ],
 "metadata": {
  "kernelspec": {
   "display_name": "Python 3",
   "language": "python",
   "name": "python3"
  },
  "language_info": {
   "codemirror_mode": {
    "name": "ipython",
    "version": 2
   },
   "file_extension": ".py",
   "mimetype": "text/x-python",
   "name": "python",
   "nbconvert_exporter": "python",
   "pygments_lexer": "ipython2",
   "version": "2.7.6"
  }
 },
 "nbformat": 4,
 "nbformat_minor": 0
}