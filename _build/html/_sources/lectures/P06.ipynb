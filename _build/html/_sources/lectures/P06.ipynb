{
 "cells": [
  {
   "cell_type": "markdown",
   "source": [
    "# P06: functions\n",
    "\n",
    "In which we cover:\n",
    "\n",
    "- sets\n",
    "- reading files\n",
    "\n",
    "\n",
    "functions\n",
    "\n",
    "In which we cover functions:\n",
    "\n",
    "- defining functions\n",
    "- calling functions\n",
    "- positional and named arguments\n",
    "- default argument values\n",
    "- variable arguments"
   ],
   "metadata": {
    "collapsed": false
   }
  }
 ],
 "metadata": {
  "kernelspec": {
   "display_name": "Python 3",
   "language": "python",
   "name": "python3"
  },
  "language_info": {
   "codemirror_mode": {
    "name": "ipython",
    "version": 2
   },
   "file_extension": ".py",
   "mimetype": "text/x-python",
   "name": "python",
   "nbconvert_exporter": "python",
   "pygments_lexer": "ipython2",
   "version": "2.7.6"
  }
 },
 "nbformat": 4,
 "nbformat_minor": 0
}