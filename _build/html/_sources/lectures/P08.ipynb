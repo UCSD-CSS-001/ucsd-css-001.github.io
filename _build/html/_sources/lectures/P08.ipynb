{
 "cells": [
  {
   "cell_type": "markdown",
   "metadata": {
    "collapsed": true,
    "pycharm": {
     "name": "#%% md\n"
    }
   },
   "source": [
    "# P08: plotting with matplotlib\n",
    "\n",
    "In which we cover:\n",
    "\n",
    "- visualization\n",
    "- matplotlib\n",
    "\n",
    "## Concepts\n",
    "\n",
    "### Visualization\n",
    "\n",
    "principles\n",
    "\n",
    "canonical types of displays\n",
    "\n",
    "## Python\n",
    "\n",
    "### Matplotlib\n"
   ]
  }
 ],
 "metadata": {
  "kernelspec": {
   "display_name": "Python 3",
   "language": "python",
   "name": "python3"
  },
  "language_info": {
   "codemirror_mode": {
    "name": "ipython",
    "version": 2
   },
   "file_extension": ".py",
   "mimetype": "text/x-python",
   "name": "python",
   "nbconvert_exporter": "python",
   "pygments_lexer": "ipython2",
   "version": "2.7.6"
  }
 },
 "nbformat": 4,
 "nbformat_minor": 0
}