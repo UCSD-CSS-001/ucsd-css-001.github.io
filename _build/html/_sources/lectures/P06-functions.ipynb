{
 "cells": [
  {
   "cell_type": "markdown",
   "source": [
    "# P06: functions\n",
    "- **Concepts**: abstraction, functions, scope, mutable/immutable\n",
    "- **Python functions**: writing, scope, pass by reference implications\n",
    "\n",
    "# Functions I\n",
    "\n",
    "- defining a function\n",
    "    - `def`\n",
    "    - `return`\n",
    "- executing a function\n",
    "    - parameters\n",
    "    - separate namespace"
   ],
   "metadata": {
    "collapsed": false
   }
  },
  {
   "cell_type": "markdown",
   "source": [
    "## Functions\n",
    "\n",
    "<div class=\"alert alert-success\">\n",
    "A function is a re-usable piece of code that performs operations on a specified set of variables, and returns the result.\n",
    "</div>"
   ],
   "metadata": {
    "collapsed": false
   }
  },
  {
   "cell_type": "markdown",
   "source": [
    "Copy + Pasting the same/similar bit of code is to be avoided.\n",
    "\n",
    "**Loops** were one way to avoid this.\n",
    "\n",
    "**Functions** are another!"
   ],
   "metadata": {
    "collapsed": false
   }
  },
  {
   "cell_type": "markdown",
   "source": [
    "## Modular Programming\n",
    "\n",
    "<div class=\"alert alert-success\">\n",
    "Modular programming is an approach to programming that focuses on building programs from indendent modules ('pieces').\n",
    "</div>"
   ],
   "metadata": {
    "collapsed": false
   }
  },
  {
   "cell_type": "markdown",
   "source": [
    "## Functions for Modular Programming"
   ],
   "metadata": {
    "collapsed": false
   }
  },
  {
   "cell_type": "markdown",
   "source": [
    "- Functions allow us to flexibly re-use pieces of code\n",
    "- Each function is independent of every other function, and other pieces of code\n",
    "- Functions are the building blocks of programs, and can be flexibly combined and executed in specified orders\n",
    "    - This allows us to build up arbitrarily complex, well-organized programs"
   ],
   "metadata": {
    "collapsed": false
   }
  },
  {
   "cell_type": "code",
   "execution_count": 1,
   "outputs": [
    {
     "data": {
      "text/plain": "list"
     },
     "execution_count": 1,
     "metadata": {},
     "output_type": "execute_result"
    }
   ],
   "source": [
    "# you've seen functions before\n",
    "# here we use the type() function\n",
    "my_var = [3, 4, 5]\n",
    "type(my_var)"
   ],
   "metadata": {
    "collapsed": false,
    "pycharm": {
     "name": "#%%\n"
    }
   }
  },
  {
   "cell_type": "code",
   "execution_count": 2,
   "outputs": [
    {
     "data": {
      "text/plain": "3"
     },
     "execution_count": 2,
     "metadata": {},
     "output_type": "execute_result"
    }
   ],
   "source": [
    "# the function len() doesn't depend on type()\n",
    "# but they can both be used on the same variable\n",
    "len(my_var)"
   ],
   "metadata": {
    "collapsed": false,
    "pycharm": {
     "name": "#%%\n"
    }
   }
  },
  {
   "cell_type": "markdown",
   "source": [
    "## Function Example I\n",
    "\n",
    "When you use `def` you are creating a **user-defined function**."
   ],
   "metadata": {
    "collapsed": false
   }
  },
  {
   "cell_type": "code",
   "execution_count": null,
   "outputs": [],
   "source": [
    "# define a function: double_value\n",
    "# num is a parameter for the function\n",
    "def double_value(num):\n",
    "\n",
    "    # do some operation\n",
    "    doubled = num + num\n",
    "\n",
    "    # return output from function\n",
    "    return doubled"
   ],
   "metadata": {
    "collapsed": false,
    "pycharm": {
     "name": "#%%\n"
    }
   }
  },
  {
   "cell_type": "code",
   "execution_count": null,
   "outputs": [],
   "source": [
    "# excecute a function by calling function by name\n",
    "# adding input within parentheses\n",
    "double_value(num=6)"
   ],
   "metadata": {
    "collapsed": false,
    "pycharm": {
     "name": "#%%\n"
    }
   }
  },
  {
   "cell_type": "code",
   "execution_count": null,
   "outputs": [],
   "source": [
    "# equivalent function call\n",
    "# without specifying parameter\n",
    "double_value(6)"
   ],
   "metadata": {
    "collapsed": false,
    "pycharm": {
     "name": "#%%\n"
    }
   }
  },
  {
   "cell_type": "markdown",
   "source": [
    "## Function Example II\n",
    "\n",
    "Something _slightly_ more interesting than just adding a value with itself"
   ],
   "metadata": {
    "collapsed": false
   }
  },
  {
   "cell_type": "code",
   "execution_count": null,
   "outputs": [],
   "source": [
    "def add_two_numbers(num1, num2):\n",
    "\n",
    "    # Do some operations on the input variables\n",
    "    answer = num1 + num2\n",
    "\n",
    "    # Return the answer\n",
    "    return answer"
   ],
   "metadata": {
    "collapsed": false,
    "pycharm": {
     "name": "#%%\n"
    }
   }
  },
  {
   "cell_type": "code",
   "execution_count": null,
   "outputs": [],
   "source": [
    "add_two_numbers(1, 2)"
   ],
   "metadata": {
    "collapsed": false,
    "pycharm": {
     "name": "#%%\n"
    }
   }
  },
  {
   "cell_type": "code",
   "execution_count": null,
   "outputs": [],
   "source": [
    "# Execute our function again, on some other inputs\n",
    "output = add_two_numbers(-1, 4)\n",
    "print(output)"
   ],
   "metadata": {
    "collapsed": false,
    "pycharm": {
     "name": "#%%\n"
    }
   }
  },
  {
   "cell_type": "markdown",
   "source": [
    "## Function Example III\n",
    "\n",
    "We aren't limited to a single operation within a function. We can use multiple operations and all of the concepts we've used previously (including loops and conditionals)."
   ],
   "metadata": {
    "collapsed": false
   }
  },
  {
   "cell_type": "code",
   "execution_count": null,
   "outputs": [],
   "source": [
    "# determine if a value is even or odd\n",
    "def even_odd(value):\n",
    "    if (value % 2 == 0):\n",
    "        out = \"even\"\n",
    "    else:\n",
    "        out = \"odd\"\n",
    "\n",
    "    return out"
   ],
   "metadata": {
    "collapsed": false,
    "pycharm": {
     "name": "#%%\n"
    }
   }
  },
  {
   "cell_type": "code",
   "execution_count": null,
   "outputs": [],
   "source": [
    "# Execute our function\n",
    "even_odd(-1)"
   ],
   "metadata": {
    "collapsed": false,
    "pycharm": {
     "name": "#%%\n"
    }
   }
  },
  {
   "cell_type": "markdown",
   "source": [
    "With functions, the logic behind our code no longer requires it to be executed from top to bottom of the notebook.\n",
    "\n",
    "The cost of potential confusion is *definitely* offset by the benefits of writing functions and using modular code."
   ],
   "metadata": {
    "collapsed": false
   }
  },
  {
   "cell_type": "markdown",
   "source": [
    "## Function Properties"
   ],
   "metadata": {
    "collapsed": false
   }
  },
  {
   "cell_type": "markdown",
   "source": [
    "- Functions are defined using `def` followed by `:`, which opens a code-block that comprises the function\n",
    "    - Running code with a `def` block *defines* the function (but does not *execute* it)"
   ],
   "metadata": {
    "collapsed": false
   }
  },
  {
   "cell_type": "markdown",
   "source": [
    "- Functions are *executed* using parentheses - `()`\n",
    "    - This is when the code inside a function is actually run"
   ],
   "metadata": {
    "collapsed": false
   }
  },
  {
   "cell_type": "markdown",
   "source": [
    "- Functions have their own namespace\n",
    "    - They only have access to variables explicitly passed into them"
   ],
   "metadata": {
    "collapsed": false
   }
  },
  {
   "cell_type": "markdown",
   "source": [
    "- Inside a function, there is code that performs operations on the available variables"
   ],
   "metadata": {
    "collapsed": false
   }
  },
  {
   "cell_type": "markdown",
   "source": [
    "- Functions use the special operator `return` to exit the function, passing out any specified variables"
   ],
   "metadata": {
    "collapsed": false
   }
  },
  {
   "cell_type": "markdown",
   "source": [
    "- When you use a function, you can assign the output (whatever is `return`ed) to a variable"
   ],
   "metadata": {
    "collapsed": false
   }
  },
  {
   "cell_type": "markdown",
   "source": [],
   "metadata": {
    "collapsed": false
   }
  },
  {
   "cell_type": "markdown",
   "source": [
    "## Function Namespace I"
   ],
   "metadata": {
    "collapsed": false
   }
  },
  {
   "cell_type": "code",
   "execution_count": null,
   "outputs": [],
   "source": [
    "# Remember, you can check defined variables with `%whos`\n",
    "%whos"
   ],
   "metadata": {
    "collapsed": false,
    "pycharm": {
     "name": "#%%\n"
    }
   }
  },
  {
   "cell_type": "markdown",
   "source": [
    "## Function Namespaces II"
   ],
   "metadata": {
    "collapsed": false
   }
  },
  {
   "cell_type": "code",
   "execution_count": null,
   "outputs": [],
   "source": [
    "# Return a dictionary containing the current scope's local variables.\n",
    "# locals?"
   ],
   "metadata": {
    "collapsed": false,
    "pycharm": {
     "name": "#%%\n"
    }
   }
  },
  {
   "cell_type": "code",
   "execution_count": null,
   "outputs": [],
   "source": [
    "def check_function_namespace(function_input):\n",
    "    # Check what is defined and available inside the function\n",
    "    local_values = locals()\n",
    "\n",
    "    return local_values"
   ],
   "metadata": {
    "collapsed": false,
    "pycharm": {
     "name": "#%%\n"
    }
   }
  },
  {
   "cell_type": "code",
   "execution_count": null,
   "outputs": [],
   "source": [
    "# Functions don't `see` everything\n",
    "check_function_namespace(1)"
   ],
   "metadata": {
    "collapsed": false,
    "pycharm": {
     "name": "#%%\n"
    }
   }
  },
  {
   "cell_type": "code",
   "execution_count": null,
   "outputs": [],
   "source": [
    "# Functions don't `see` everything\n",
    "check_function_namespace(True)"
   ],
   "metadata": {
    "collapsed": false,
    "pycharm": {
     "name": "#%%\n"
    }
   }
  },
  {
   "cell_type": "code",
   "execution_count": null,
   "outputs": [],
   "source": [
    "# using two different inputs to a function\n",
    "def check_function_namespace2(function_input, other_name):\n",
    "    # define a variable within function\n",
    "    new_var = 5\n",
    "\n",
    "    # Check what is defined and available inside the function\n",
    "    local_values = locals()\n",
    "\n",
    "    return local_values"
   ],
   "metadata": {
    "collapsed": false,
    "pycharm": {
     "name": "#%%\n"
    }
   }
  },
  {
   "cell_type": "code",
   "execution_count": null,
   "outputs": [],
   "source": [
    "# returning what each input is storing\n",
    "check_function_namespace2(1, True)"
   ],
   "metadata": {
    "collapsed": false,
    "pycharm": {
     "name": "#%%\n"
    }
   }
  },
  {
   "cell_type": "markdown",
   "source": [
    "## Function Namespaces III\n",
    "\n",
    "Names defined inside a function only exist within the function."
   ],
   "metadata": {
    "collapsed": false
   }
  },
  {
   "cell_type": "code",
   "execution_count": null,
   "outputs": [],
   "source": [
    "# Names used inside a function are independent of those used outside\n",
    "# variables defined outside of functions are global variables\n",
    "# global variables are always available\n",
    "my_var = 'I am a variable'\n",
    "\n",
    "print(check_function_namespace(my_var))\n",
    "\n",
    "print(my_var)"
   ],
   "metadata": {
    "collapsed": false,
    "pycharm": {
     "name": "#%%\n"
    }
   }
  },
  {
   "cell_type": "markdown",
   "source": [
    "### Function - Execution Order"
   ],
   "metadata": {
    "collapsed": false
   }
  },
  {
   "cell_type": "code",
   "execution_count": null,
   "outputs": [],
   "source": [
    "def change_var(my_var):\n",
    "    my_var = 'I am something else'\n",
    "\n",
    "    return my_var"
   ],
   "metadata": {
    "collapsed": false,
    "pycharm": {
     "name": "#%%\n"
    }
   }
  },
  {
   "cell_type": "code",
   "execution_count": null,
   "outputs": [],
   "source": [
    "# my_var in the global namespace\n",
    "my_var"
   ],
   "metadata": {
    "collapsed": false,
    "pycharm": {
     "name": "#%%\n"
    }
   }
  },
  {
   "cell_type": "code",
   "execution_count": null,
   "outputs": [],
   "source": [
    "# my_var within the function\n",
    "change_var(my_var)"
   ],
   "metadata": {
    "collapsed": false,
    "pycharm": {
     "name": "#%%\n"
    }
   }
  },
  {
   "cell_type": "code",
   "execution_count": null,
   "outputs": [],
   "source": [
    "# my_var in the global namespace remains unchanged\n",
    "my_var"
   ],
   "metadata": {
    "collapsed": false,
    "pycharm": {
     "name": "#%%\n"
    }
   }
  },
  {
   "cell_type": "code",
   "execution_count": null,
   "outputs": [],
   "source": [
    "print('Outside, before function: \\t', my_var)\n",
    "print(change_var(my_var))\n",
    "print('Outside, after function: \\t', my_var)\n"
   ],
   "metadata": {
    "collapsed": false,
    "pycharm": {
     "name": "#%%\n"
    }
   }
  },
  {
   "cell_type": "markdown",
   "source": [
    "## pass by assignment\n",
    "\n",
    "Variables in python are passed to functions by *assignment*.\n",
    "\n",
    "Recall that we can assign two names to the same object:"
   ],
   "metadata": {
    "collapsed": false
   }
  },
  {
   "cell_type": "code",
   "execution_count": null,
   "outputs": [],
   "source": [
    "a = 'hello'\n",
    "b = a\n",
    "print(id(a))\n",
    "print(id(b))"
   ],
   "metadata": {
    "collapsed": false,
    "pycharm": {
     "name": "#%%\n"
    }
   }
  },
  {
   "cell_type": "markdown",
   "source": [
    "when we pass something to a function, we are effectively assigning a new (local) name to that same object."
   ],
   "metadata": {
    "collapsed": false,
    "pycharm": {
     "name": "#%% md\n"
    }
   }
  },
  {
   "cell_type": "code",
   "execution_count": 11,
   "outputs": [
    {
     "name": "stdout",
     "output_type": "stream",
     "text": [
      "140448540717168\n",
      "140448540717168\n"
     ]
    }
   ],
   "source": [
    "def func(x):\n",
    "    print(id(x))\n",
    "a = \"hello\"\n",
    "print(id(a))\n",
    "func(a)"
   ],
   "metadata": {
    "collapsed": false,
    "pycharm": {
     "name": "#%%\n"
    }
   }
  },
  {
   "cell_type": "markdown",
   "source": [
    "This is nice, because we don't have to allocate more memory to store a *copy* of that object when we pass it into a function.  However, weird things might happen, depending on what we do to that object.\n"
   ],
   "metadata": {
    "collapsed": false
   }
  },
  {
   "cell_type": "code",
   "execution_count": 13,
   "outputs": [
    {
     "name": "stdout",
     "output_type": "stream",
     "text": [
      "a: hello\n",
      "id of a globally 140448540717168\n",
      "enter function\n",
      "    x: hello\n",
      "    id(x) 140448540717168\n",
      "    x: boo\n",
      "    id(x) 140448118475760\n",
      "exit function\n",
      "a: hello\n",
      "id of a globally 140448540717168\n"
     ]
    }
   ],
   "source": [
    "def func(x):\n",
    "    print('enter function')\n",
    "    print('    x:', x)\n",
    "    print('    id(x)', id(x))\n",
    "    x = 'boo'\n",
    "    print('    x:', x)\n",
    "    print('    id(x)', id(x))\n",
    "    print('exit function')\n",
    "\n",
    "a = \"hello\"\n",
    "print('a:', a)\n",
    "print('id of a globally', id(a))\n",
    "func(a)\n",
    "print('a:', a)\n",
    "print('id of a globally', id(a))"
   ],
   "metadata": {
    "collapsed": false,
    "pycharm": {
     "name": "#%%\n"
    }
   }
  },
  {
   "cell_type": "markdown",
   "source": [
    "So what happened here is that `x` inside the function started off pointing to the same object as `a` globally, but then, when we reassigned a new string to `x`, these two variables pointed to different objects, and the local changes to `x` did not alter the object referred to by the global name `a`.\n",
    "\n",
    "This happens because we *reasigned* a value to `x`.  Some objects we can alter in place, and as a consequence, local changes will also carry over to the global variable.\n",
    "\n"
   ],
   "metadata": {
    "collapsed": false
   }
  },
  {
   "cell_type": "code",
   "execution_count": 14,
   "outputs": [
    {
     "name": "stdout",
     "output_type": "stream",
     "text": [
      "a: ['hello']\n",
      "id of a globally 140448537863552\n",
      "enter function\n",
      "    x: ['hello']\n",
      "    id(x) 140448537863552\n",
      "    x: ['hello', 'boo']\n",
      "    id(x) 140448537863552\n",
      "exit function\n",
      "a: ['hello', 'boo']\n",
      "id of a globally 140448537863552\n"
     ]
    }
   ],
   "source": [
    "def func(x):\n",
    "    print('enter function')\n",
    "    print('    x:', x)\n",
    "    print('    id(x)', id(x))\n",
    "    x.append('boo')\n",
    "    print('    x:', x)\n",
    "    print('    id(x)', id(x))\n",
    "    print('exit function')\n",
    "\n",
    "a = [\"hello\"]\n",
    "print('a:', a)\n",
    "print('id of a globally', id(a))\n",
    "func(a)\n",
    "print('a:', a)\n",
    "print('id of a globally', id(a))"
   ],
   "metadata": {
    "collapsed": false,
    "pycharm": {
     "name": "#%%\n"
    }
   }
  },
  {
   "cell_type": "markdown",
   "source": [
    "Here, we used a list variable, which is *mutable*, and we called a method of that object that mutates that variable in place.  The consequence is that we changed the object, that the global and local variables pointed to, and the changes we made inside the function persisted outside the function.\n",
    "\n",
    "If we instead changed the variable inside the function via reassignment, then those changes would stay local.  (This is a case in which `x += [a]` behaves differently from `x = x + [a]` because the `+=` operator uses an inplace method to append)."
   ],
   "metadata": {
    "collapsed": false,
    "pycharm": {
     "name": "#%% md\n"
    }
   }
  },
  {
   "cell_type": "code",
   "execution_count": 16,
   "outputs": [
    {
     "name": "stdout",
     "output_type": "stream",
     "text": [
      "a: ['hello']\n",
      "id of a globally 140447990865088\n",
      "enter function\n",
      "    x: ['hello']\n",
      "    id(x) 140447990865088\n",
      "    x: ['hello', 'boo']\n",
      "    id(x) 140448537862912\n",
      "exit function\n",
      "a: ['hello']\n",
      "id of a globally 140447990865088\n"
     ]
    }
   ],
   "source": [
    "def func(x):\n",
    "    print('enter function')\n",
    "    print('    x:', x)\n",
    "    print('    id(x)', id(x))\n",
    "    x = x + ['boo']\n",
    "    print('    x:', x)\n",
    "    print('    id(x)', id(x))\n",
    "    print('exit function')\n",
    "\n",
    "a = [\"hello\"]\n",
    "print('a:', a)\n",
    "print('id of a globally', id(a))\n",
    "func(a)\n",
    "print('a:', a)\n",
    "print('id of a globally', id(a))"
   ],
   "metadata": {
    "collapsed": false,
    "pycharm": {
     "name": "#%%\n"
    }
   }
  },
  {
   "cell_type": "markdown",
   "source": [
    "\n",
    "# Functions II\n",
    "\n",
    "- more on user-defined functions\n",
    "    - default values"
   ],
   "metadata": {
    "collapsed": false
   }
  },
  {
   "cell_type": "markdown",
   "source": [
    "\n",
    "## Default Values"
   ],
   "metadata": {
    "collapsed": false
   }
  },
  {
   "cell_type": "markdown",
   "source": [
    "<div class=\"alert alert-success\">\n",
    "Function parameters can also take <b>default values</b>. This makes some parameters optional, as they take a default value if not otherwise specified.\n",
    "</div>"
   ],
   "metadata": {
    "collapsed": false
   }
  },
  {
   "cell_type": "markdown",
   "source": [
    "#### Default Value Functions\n",
    "\n",
    "Specify a default value in a function by doing an assignment within the function definition."
   ],
   "metadata": {
    "collapsed": false
   }
  },
  {
   "cell_type": "code",
   "execution_count": null,
   "outputs": [],
   "source": [
    "# Create a function, that has a default values for a parameter\n",
    "def exponentiate(number, exponent=2):\n",
    "    return number ** exponent"
   ],
   "metadata": {
    "collapsed": false,
    "pycharm": {
     "name": "#%%\n"
    }
   }
  },
  {
   "cell_type": "code",
   "execution_count": null,
   "outputs": [],
   "source": [
    "# Use the function, using default value\n",
    "exponentiate(3)"
   ],
   "metadata": {
    "collapsed": false,
    "pycharm": {
     "name": "#%%\n"
    }
   }
  },
  {
   "cell_type": "code",
   "execution_count": null,
   "outputs": [],
   "source": [
    "# Call the function, over-riding default value with something else\n",
    "# python assumes values are in order of parameters specified in definition\n",
    "exponentiate(2, 3)"
   ],
   "metadata": {
    "collapsed": false,
    "pycharm": {
     "name": "#%%\n"
    }
   }
  },
  {
   "cell_type": "code",
   "execution_count": null,
   "outputs": [],
   "source": [
    "# you can always state this explicitly\n",
    "exponentiate(number=2, exponent=3)"
   ],
   "metadata": {
    "collapsed": false,
    "pycharm": {
     "name": "#%%\n"
    }
   }
  },
  {
   "cell_type": "markdown",
   "source": [
    "## Positional vs. Keyword Arguments"
   ],
   "metadata": {
    "collapsed": false
   }
  },
  {
   "cell_type": "markdown",
   "source": [
    "<div class=\"alert alert-success\">\n",
    "Arguments to a function can be indicated by either position or keyword.\n",
    "</div>"
   ],
   "metadata": {
    "collapsed": false
   }
  },
  {
   "cell_type": "code",
   "execution_count": null,
   "outputs": [],
   "source": [
    "# Positional arguments use the position to infer which argument each value relates to\n",
    "exponentiate(2, 3)"
   ],
   "metadata": {
    "collapsed": false,
    "pycharm": {
     "name": "#%%\n"
    }
   }
  },
  {
   "cell_type": "code",
   "execution_count": null,
   "outputs": [],
   "source": [
    "# Keyword arguments are explicitly named as to which argument each value relates to\n",
    "exponentiate(number=2, exponent=3)"
   ],
   "metadata": {
    "collapsed": false,
    "pycharm": {
     "name": "#%%\n"
    }
   }
  },
  {
   "cell_type": "code",
   "execution_count": null,
   "outputs": [],
   "source": [
    "# discouraging flipping the order of parameters\n",
    "# even if python allows it\n",
    "# avoids confusion for the humans\n",
    "exponentiate(exponent=3, number=2)"
   ],
   "metadata": {
    "collapsed": false,
    "pycharm": {
     "name": "#%%\n"
    }
   }
  },
  {
   "cell_type": "code",
   "execution_count": 3,
   "outputs": [
    {
     "ename": "SyntaxError",
     "evalue": "positional argument follows keyword argument (<ipython-input-3-ac87de317313>, line 3)",
     "output_type": "error",
     "traceback": [
      "\u001B[0;36m  File \u001B[0;32m\"<ipython-input-3-ac87de317313>\"\u001B[0;36m, line \u001B[0;32m3\u001B[0m\n\u001B[0;31m    exponentiate(number=2, 3)\u001B[0m\n\u001B[0m                            ^\u001B[0m\n\u001B[0;31mSyntaxError\u001B[0m\u001B[0;31m:\u001B[0m positional argument follows keyword argument\n"
     ]
    }
   ],
   "source": [
    "# Note: once you have a keyword argument, you can't have other positional arguments afterwards\n",
    "# this cell will produce an error\n",
    "exponentiate(number=2, 3)"
   ],
   "metadata": {
    "collapsed": false,
    "pycharm": {
     "name": "#%%\n"
    }
   }
  },
  {
   "cell_type": "markdown",
   "source": [
    "Reminder, setting a default value for parameters is allowed during function *definition*.\n",
    "\n",
    "(This may look like what we did above, but here we are including a default value for one parameter during function definition. During function *execution*, you can't mix and match using positional vs. keywords)"
   ],
   "metadata": {
    "collapsed": false
   }
  },
  {
   "cell_type": "code",
   "execution_count": 4,
   "outputs": [],
   "source": [
    "def exponentiate(number, exponent=2):\n",
    "    return number ** exponent"
   ],
   "metadata": {
    "collapsed": false,
    "pycharm": {
     "name": "#%%\n"
    }
   }
  },
  {
   "cell_type": "markdown",
   "source": [
    "## Variable arguments\n",
    "\n",
    "You can specify a *variable* number of positional arguments to a function with the special `*` prefix:\n",
    "\n",
    "the function definition `def func(a, b, *vars)` will assign the first (positional) argument to a, the second to b, and all the rest will be elements of the tuple `vars`.\n"
   ],
   "metadata": {
    "collapsed": false
   }
  },
  {
   "cell_type": "code",
   "execution_count": 8,
   "outputs": [
    {
     "name": "stdout",
     "output_type": "stream",
     "text": [
      "a 1\n",
      "b 2\n",
      "vars ()\n",
      "a 1\n",
      "b 2\n",
      "vars ('something else',)\n",
      "a 1\n",
      "b 2\n",
      "vars (3, 4, 'five!')\n"
     ]
    }
   ],
   "source": [
    "def myfunction(a, b, *vars):\n",
    "    print('a', a)\n",
    "    print('b', b)\n",
    "    print('vars', vars)\n",
    "\n",
    "myfunction(1, 2)\n",
    "\n",
    "myfunction(1, 2, 'something else')\n",
    "\n",
    "myfunction(1, 2, 3, 4, 'five!')"
   ],
   "metadata": {
    "collapsed": false,
    "pycharm": {
     "name": "#%%\n"
    }
   }
  },
  {
   "cell_type": "markdown",
   "source": [
    "You can also capture an arbitrary number of *keyword* arguments with the special prefix `**`."
   ],
   "metadata": {
    "collapsed": false
   }
  },
  {
   "cell_type": "code",
   "execution_count": 9,
   "outputs": [
    {
     "name": "stdout",
     "output_type": "stream",
     "text": [
      "a 1\n",
      "b 2\n",
      "kwargs {}\n",
      "a 1\n",
      "b 2\n",
      "kwargs {'x': 4, 'y': 5, 'z': 6}\n"
     ]
    },
    {
     "ename": "TypeError",
     "evalue": "myfunction() takes 2 positional arguments but 3 were given",
     "output_type": "error",
     "traceback": [
      "\u001B[0;31m---------------------------------------------------------------------------\u001B[0m",
      "\u001B[0;31mTypeError\u001B[0m                                 Traceback (most recent call last)",
      "\u001B[0;32m<ipython-input-9-092259bc64ee>\u001B[0m in \u001B[0;36m<module>\u001B[0;34m\u001B[0m\n\u001B[1;32m      9\u001B[0m \u001B[0;34m\u001B[0m\u001B[0m\n\u001B[1;32m     10\u001B[0m \u001B[0;31m# **kwargs does not capture positional arguments!\u001B[0m\u001B[0;34m\u001B[0m\u001B[0;34m\u001B[0m\u001B[0;34m\u001B[0m\u001B[0m\n\u001B[0;32m---> 11\u001B[0;31m \u001B[0mmyfunction\u001B[0m\u001B[0;34m(\u001B[0m\u001B[0;36m1\u001B[0m\u001B[0;34m,\u001B[0m \u001B[0;36m2\u001B[0m\u001B[0;34m,\u001B[0m \u001B[0;36m3\u001B[0m\u001B[0;34m)\u001B[0m\u001B[0;34m\u001B[0m\u001B[0;34m\u001B[0m\u001B[0m\n\u001B[0m\u001B[1;32m     12\u001B[0m \u001B[0;34m\u001B[0m\u001B[0m\n",
      "\u001B[0;31mTypeError\u001B[0m: myfunction() takes 2 positional arguments but 3 were given"
     ]
    }
   ],
   "source": [
    "def myfunction(a, b, **kwargs):\n",
    "    print('a', a)\n",
    "    print('b', b)\n",
    "    print('kwargs', kwargs)\n",
    "\n",
    "myfunction(1, 2)\n",
    "\n",
    "myfunction(1, 2, x=4, y=5, z=6)\n",
    "\n",
    "# **kwargs does not capture positional arguments!\n",
    "myfunction(1, 2, 3)"
   ],
   "metadata": {
    "collapsed": false,
    "pycharm": {
     "name": "#%%\n"
    }
   }
  },
  {
   "cell_type": "markdown",
   "source": [
    "The catch-all function definition is (but you should rarely use this... better to have well defined functions with a specific *signature*."
   ],
   "metadata": {
    "collapsed": false,
    "pycharm": {
     "name": "#%% md\n"
    }
   }
  },
  {
   "cell_type": "code",
   "execution_count": 10,
   "outputs": [
    {
     "name": "stdout",
     "output_type": "stream",
     "text": [
      "args ()\n",
      "kwargs {}\n",
      "args (1, 2)\n",
      "kwargs {'x': 4, 'y': 5, 'z': 6}\n",
      "args (1, 2, 3)\n",
      "kwargs {}\n",
      "args (1, 2, 3)\n",
      "kwargs {'x': 4, 'y': 5, 'z': 6}\n"
     ]
    }
   ],
   "source": [
    "def myfunction(*args, **kwargs):\n",
    "    print('args', args)\n",
    "    print('kwargs',kwargs)\n",
    "\n",
    "\n",
    "print('\\nmyfunction()')\n",
    "myfunction()\n",
    "\n",
    "print('\\nmyfunction(1, 2, x=4, y=5, z=6)')\n",
    "myfunction(1, 2, x=4, y=5, z=6)\n",
    "\n",
    "print('\\nmyfunction(1, 2, 3)')\n",
    "myfunction(1, 2, 3)\n",
    "\n",
    "print('\\nmyfunction(1, 2, 3, x=4, y=5, z=6)')\n",
    "myfunction(1, 2, 3, x=4, y=5, z=6)"
   ],
   "metadata": {
    "collapsed": false,
    "pycharm": {
     "name": "#%%\n"
    }
   }
  },
  {
   "cell_type": "markdown",
   "source": [
    "Note that this definition captures all the positional arguments first, then captures the remaining keyword arguments.  For this reason there may be no positional arguments after a keyword argument."
   ],
   "metadata": {
    "collapsed": false,
    "pycharm": {
     "name": "#%% md\n"
    }
   }
  },
  {
   "cell_type": "code",
   "execution_count": null,
   "outputs": [],
   "source": [
    "myfunction(1, 2, 3, x=4, y=5, z=6, 7)"
   ],
   "metadata": {
    "collapsed": false,
    "pycharm": {
     "name": "#%%\n"
    }
   }
  },
  {
   "cell_type": "markdown",
   "source": [
    "## Function signatures and type annotation\n",
    "\n",
    "Although it is possible to define all functions as a catchall function: `def f(*args, **kwargs):` that would be terrible in practice, because then it is nearly impossible to figure out what kind of input the function expects.  Consequently you ought to define functions in the most restrictive manner possible.  If you expect one argument, define the function accordingly.\n",
    "\n",
    "In Python you can also add type **annotations** to your function definitions.  These are not used directly by the python interpreter, but are often used by the IDE to help you write code.  This is also good practice as it makes it clear what kind of arguments your function expects and returns.\n"
   ],
   "metadata": {
    "collapsed": false,
    "pycharm": {
     "name": "#%% md\n"
    }
   }
  },
  {
   "cell_type": "code",
   "execution_count": null,
   "outputs": [],
   "source": [
    "def transformString(string: str) -> str:\n",
    "    return string.lower()"
   ],
   "metadata": {
    "collapsed": false,
    "pycharm": {
     "name": "#%%\n"
    }
   }
  },
  {
   "cell_type": "markdown",
   "source": [
    "\n",
    "## Functions: Points of Clarification\n",
    "\n",
    "Additional notes included here to clarify points we've already discussed. Not presented in class, but feel free to review and gain additional clarificaiton.\n",
    "\n",
    "1. `def` defines a function\n",
    "2. `function_name()` - parentheses are required to execute a function\n",
    "3. `function_name(input1)` - input parameters are specified within the function parentheses\n",
    "4. `function_name(input1, input2)` - functions can take multiple parameters as inputs\n",
    "    - `input1` and `input2` can then be used within your function when it executes\n",
    "5. To store the output from a function, you'll need a `return` statement"
   ],
   "metadata": {
    "collapsed": false,
    "pycharm": {
     "name": "#%% md\n"
    }
   }
  },
  {
   "cell_type": "markdown",
   "source": [
    "#### For example....\n",
    "\n",
    "If you write a function called `is_odd()` which takes an input `value`,"
   ],
   "metadata": {
    "collapsed": false
   }
  },
  {
   "cell_type": "code",
   "execution_count": 2,
   "outputs": [],
   "source": [
    "def is_odd(value):\n",
    "    if value % 2 != 0:\n",
    "        answer = True\n",
    "    else:\n",
    "        answer = False\n",
    "\n",
    "    return answer"
   ],
   "metadata": {
    "collapsed": false,
    "pycharm": {
     "name": "#%%\n"
    }
   }
  },
  {
   "cell_type": "markdown",
   "source": [
    "to use that function, you would execute `is_odd(value)` ....something like `is_odd(value = 6)`"
   ],
   "metadata": {
    "collapsed": false
   }
  },
  {
   "cell_type": "code",
   "execution_count": null,
   "outputs": [],
   "source": [
    "out = is_odd(6)\n",
    "out"
   ],
   "metadata": {
    "collapsed": false,
    "pycharm": {
     "name": "#%%\n"
    }
   }
  },
  {
   "cell_type": "markdown",
   "source": [
    "Later on, if you wanted to use that function _within another function_ you still have to pass an input to the function."
   ],
   "metadata": {
    "collapsed": false
   }
  },
  {
   "cell_type": "code",
   "execution_count": null,
   "outputs": [],
   "source": [
    "def new_function(my_list):\n",
    "    output = []\n",
    "    for val in my_list:\n",
    "        if is_odd(val):\n",
    "            output.append('yay!')\n",
    "    return output\n"
   ],
   "metadata": {
    "collapsed": false,
    "pycharm": {
     "name": "#%%\n"
    }
   }
  },
  {
   "cell_type": "code",
   "execution_count": null,
   "outputs": [],
   "source": [
    "new_function([1,2,3,4])"
   ],
   "metadata": {
    "collapsed": false,
    "pycharm": {
     "name": "#%%\n"
    }
   }
  }
 ],
 "metadata": {
  "kernelspec": {
   "display_name": "Python 3",
   "language": "python",
   "name": "python3"
  },
  "language_info": {
   "codemirror_mode": {
    "name": "ipython",
    "version": 2
   },
   "file_extension": ".py",
   "mimetype": "text/x-python",
   "name": "python",
   "nbconvert_exporter": "python",
   "pygments_lexer": "ipython2",
   "version": "2.7.6"
  }
 },
 "nbformat": 4,
 "nbformat_minor": 0
}