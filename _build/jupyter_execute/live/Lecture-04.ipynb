{
 "cells": [
  {
   "cell_type": "markdown",
   "id": "through-savage",
   "metadata": {},
   "source": [
    "# Lecture 4: Strings\n",
    "\n",
    "Why deal with strings?\n"
   ]
  },
  {
   "cell_type": "markdown",
   "id": "pressed-stupid",
   "metadata": {},
   "source": [
    "## Making strings\n",
    "\n",
    "different quote types\n",
    "\n",
    "> '   \n",
    "\n",
    "> \"    \n",
    "\n",
    "> \"\"\"  "
   ]
  },
  {
   "cell_type": "code",
   "execution_count": 1,
   "id": "bibliographic-regulation",
   "metadata": {},
   "outputs": [
    {
     "name": "stdout",
     "output_type": "stream",
     "text": [
      "string string string\n"
     ]
    }
   ],
   "source": [
    "x = 'string'\n",
    "y = \"string\"\n",
    "z = \"\"\"string\"\"\"\n",
    "print(x,y,z)"
   ]
  },
  {
   "cell_type": "code",
   "execution_count": 2,
   "id": "eligible-citizenship",
   "metadata": {},
   "outputs": [
    {
     "data": {
      "text/plain": [
       "\"that's great\""
      ]
     },
     "execution_count": 2,
     "metadata": {},
     "output_type": "execute_result"
    }
   ],
   "source": [
    "\"that's great\""
   ]
  },
  {
   "cell_type": "code",
   "execution_count": 3,
   "id": "convertible-telling",
   "metadata": {},
   "outputs": [
    {
     "data": {
      "text/plain": [
       "'john said, \"Hello\"'"
      ]
     },
     "execution_count": 3,
     "metadata": {},
     "output_type": "execute_result"
    }
   ],
   "source": [
    "'john said, \"Hello\"'"
   ]
  },
  {
   "cell_type": "code",
   "execution_count": 4,
   "id": "casual-promotion",
   "metadata": {},
   "outputs": [
    {
     "data": {
      "text/plain": [
       "' \"that\\'s just \\ngreat\" john \\nsaid '"
      ]
     },
     "execution_count": 4,
     "metadata": {},
     "output_type": "execute_result"
    }
   ],
   "source": [
    "\"\"\" \"that's just \n",
    "great\" john \n",
    "said \"\"\""
   ]
  },
  {
   "cell_type": "markdown",
   "id": "accomplished-browse",
   "metadata": {},
   "source": [
    "### Escape sequences"
   ]
  },
  {
   "cell_type": "code",
   "execution_count": 5,
   "id": "polar-pickup",
   "metadata": {},
   "outputs": [
    {
     "name": "stdout",
     "output_type": "stream",
     "text": [
      "Dear students, \n",
      "\n",
      " this is a\ttab, \\  ' \" \n"
     ]
    }
   ],
   "source": [
    "print('Dear students, \\n\\n this is a\\ttab, \\\\  \\' \\\" ')"
   ]
  },
  {
   "cell_type": "markdown",
   "id": "behind-austin",
   "metadata": {},
   "source": [
    "## What is a string anyway? \n",
    "\n",
    "immutable sequence of characters"
   ]
  },
  {
   "cell_type": "markdown",
   "id": "quick-venture",
   "metadata": {},
   "source": [
    "### sequence\n",
    "\n",
    "so indexing and slicing work as for lists"
   ]
  },
  {
   "cell_type": "code",
   "execution_count": 6,
   "id": "respected-democracy",
   "metadata": {},
   "outputs": [],
   "source": [
    "x = \"this is my favorite sentence\""
   ]
  },
  {
   "cell_type": "code",
   "execution_count": 7,
   "id": "historical-nashville",
   "metadata": {},
   "outputs": [
    {
     "data": {
      "text/plain": [
       "'this is my'"
      ]
     },
     "execution_count": 7,
     "metadata": {},
     "output_type": "execute_result"
    }
   ],
   "source": [
    "x[0:10]"
   ]
  },
  {
   "cell_type": "code",
   "execution_count": 8,
   "id": "ancient-sampling",
   "metadata": {},
   "outputs": [
    {
     "name": "stdout",
     "output_type": "stream",
     "text": [
      "t\n",
      "h\n",
      "i\n",
      "s\n",
      " \n",
      "i\n",
      "s\n",
      " \n",
      "m\n",
      "y\n",
      " \n",
      "f\n",
      "a\n",
      "v\n",
      "o\n",
      "r\n",
      "i\n",
      "t\n",
      "e\n",
      " \n",
      "s\n",
      "e\n",
      "n\n",
      "t\n",
      "e\n",
      "n\n",
      "c\n",
      "e\n"
     ]
    }
   ],
   "source": [
    "for character in x:\n",
    "    print(character)"
   ]
  },
  {
   "cell_type": "markdown",
   "id": "laden-diving",
   "metadata": {},
   "source": [
    "### characters \n",
    "\n",
    "Encoding and unicode, ord and chr\n",
    "\n",
    "implications for sorted()"
   ]
  },
  {
   "cell_type": "code",
   "execution_count": 9,
   "id": "accredited-carbon",
   "metadata": {},
   "outputs": [],
   "source": [
    "character = 'a'"
   ]
  },
  {
   "cell_type": "code",
   "execution_count": 10,
   "id": "hollow-findings",
   "metadata": {},
   "outputs": [
    {
     "data": {
      "text/plain": [
       "97"
      ]
     },
     "execution_count": 10,
     "metadata": {},
     "output_type": "execute_result"
    }
   ],
   "source": [
    "ord('a')"
   ]
  },
  {
   "cell_type": "code",
   "execution_count": 11,
   "id": "adjusted-canberra",
   "metadata": {},
   "outputs": [
    {
     "data": {
      "text/plain": [
       "'\\x0c'"
      ]
     },
     "execution_count": 11,
     "metadata": {},
     "output_type": "execute_result"
    }
   ],
   "source": [
    "chr(12)"
   ]
  },
  {
   "cell_type": "code",
   "execution_count": 12,
   "id": "unauthorized-initial",
   "metadata": {},
   "outputs": [
    {
     "name": "stdout",
     "output_type": "stream",
     "text": [
      "10 \n",
      "\n",
      "11 \u000b",
      "\n",
      "12 \f",
      "\n",
      "13 \r\n",
      "14 \u000e\n",
      "15 \u000f\n",
      "16 \u0010\n",
      "17 \u0011\n",
      "18 \u0012\n",
      "19 \u0013\n",
      "20 \u0014\n",
      "21 \u0015\n",
      "22 \u0016\n",
      "23 \u0017\n",
      "24 \u0018\n",
      "25 \u0019\n",
      "26 \u001a\n",
      "27 \u001b\n",
      "28 \u001c",
      "\n",
      "29 \u001d",
      "\n",
      "30 \u001e",
      "\n",
      "31 \u001f\n",
      "32  \n",
      "33 !\n",
      "34 \"\n",
      "35 #\n",
      "36 $\n",
      "37 %\n",
      "38 &\n",
      "39 '\n",
      "40 (\n",
      "41 )\n",
      "42 *\n",
      "43 +\n",
      "44 ,\n",
      "45 -\n",
      "46 .\n",
      "47 /\n",
      "48 0\n",
      "49 1\n",
      "50 2\n",
      "51 3\n",
      "52 4\n",
      "53 5\n",
      "54 6\n",
      "55 7\n",
      "56 8\n",
      "57 9\n",
      "58 :\n",
      "59 ;\n",
      "60 <\n",
      "61 =\n",
      "62 >\n",
      "63 ?\n",
      "64 @\n",
      "65 A\n",
      "66 B\n",
      "67 C\n",
      "68 D\n",
      "69 E\n",
      "70 F\n",
      "71 G\n",
      "72 H\n",
      "73 I\n",
      "74 J\n",
      "75 K\n",
      "76 L\n",
      "77 M\n",
      "78 N\n",
      "79 O\n",
      "80 P\n",
      "81 Q\n",
      "82 R\n",
      "83 S\n",
      "84 T\n",
      "85 U\n",
      "86 V\n",
      "87 W\n",
      "88 X\n",
      "89 Y\n",
      "90 Z\n",
      "91 [\n",
      "92 \\\n",
      "93 ]\n",
      "94 ^\n",
      "95 _\n",
      "96 `\n",
      "97 a\n",
      "98 b\n",
      "99 c\n",
      "100 d\n",
      "101 e\n",
      "102 f\n",
      "103 g\n",
      "104 h\n",
      "105 i\n",
      "106 j\n",
      "107 k\n",
      "108 l\n",
      "109 m\n",
      "110 n\n",
      "111 o\n",
      "112 p\n",
      "113 q\n",
      "114 r\n",
      "115 s\n",
      "116 t\n",
      "117 u\n",
      "118 v\n",
      "119 w\n",
      "120 x\n",
      "121 y\n",
      "122 z\n",
      "123 {\n",
      "124 |\n",
      "125 }\n",
      "126 ~\n",
      "127 \n",
      "128 \n",
      "129 \n",
      "130 \n",
      "131 \n",
      "132 \n",
      "133 ",
      "\n",
      "134 \n",
      "135 \n",
      "136 \n",
      "137 \n",
      "138 \n",
      "139 \n",
      "140 \n",
      "141 \n",
      "142 \n",
      "143 \n",
      "144 \n",
      "145 \n",
      "146 \n",
      "147 \n",
      "148 \n",
      "149 \n",
      "150 \n",
      "151 \n",
      "152 \n",
      "153 \n",
      "154 \n",
      "155 \n",
      "156 \n",
      "157 \n",
      "158 \n",
      "159 \n"
     ]
    }
   ],
   "source": [
    "for i in range(10, 160):\n",
    "    print(i, chr(i))"
   ]
  },
  {
   "cell_type": "code",
   "execution_count": 13,
   "id": "fleet-broad",
   "metadata": {},
   "outputs": [
    {
     "name": "stdout",
     "output_type": "stream",
     "text": [
      "t 116\n",
      "h 104\n",
      "i 105\n",
      "s 115\n",
      "  32\n",
      "i 105\n",
      "s 115\n",
      "  32\n",
      "a 97\n",
      "  32\n",
      "s 115\n",
      "E 69\n",
      "n 110\n",
      "t 116\n",
      "e 101\n",
      "n 110\n",
      "c 99\n",
      "e 101\n"
     ]
    }
   ],
   "source": [
    "x = \"this is a sEntence\"\n",
    "\n",
    "for character in x:\n",
    "    print(character, ord(character))"
   ]
  },
  {
   "cell_type": "code",
   "execution_count": 14,
   "id": "banner-stream",
   "metadata": {},
   "outputs": [
    {
     "data": {
      "text/plain": [
       "[' ',\n",
       " ' ',\n",
       " ' ',\n",
       " 'E',\n",
       " 'a',\n",
       " 'c',\n",
       " 'e',\n",
       " 'e',\n",
       " 'h',\n",
       " 'i',\n",
       " 'i',\n",
       " 'n',\n",
       " 'n',\n",
       " 's',\n",
       " 's',\n",
       " 's',\n",
       " 't',\n",
       " 't']"
      ]
     },
     "execution_count": 14,
     "metadata": {},
     "output_type": "execute_result"
    }
   ],
   "source": [
    "sorted(x)"
   ]
  },
  {
   "cell_type": "code",
   "execution_count": 15,
   "id": "dutch-angola",
   "metadata": {},
   "outputs": [
    {
     "data": {
      "text/plain": [
       "['t',\n",
       " 'h',\n",
       " 'i',\n",
       " 's',\n",
       " ' ',\n",
       " 'i',\n",
       " 's',\n",
       " ' ',\n",
       " 'a',\n",
       " ' ',\n",
       " 's',\n",
       " 'E',\n",
       " 'n',\n",
       " 't',\n",
       " 'e',\n",
       " 'n',\n",
       " 'c',\n",
       " 'e']"
      ]
     },
     "execution_count": 15,
     "metadata": {},
     "output_type": "execute_result"
    }
   ],
   "source": [
    "list(x)"
   ]
  },
  {
   "cell_type": "markdown",
   "id": "african-factor",
   "metadata": {},
   "source": [
    "## Putting variables in strings\n",
    "\n",
    "string concatenation"
   ]
  },
  {
   "cell_type": "code",
   "execution_count": 16,
   "id": "opened-netscape",
   "metadata": {},
   "outputs": [
    {
     "data": {
      "text/plain": [
       "'Hello, my name is Ed and i am 38 years old'"
      ]
     },
     "execution_count": 16,
     "metadata": {},
     "output_type": "execute_result"
    }
   ],
   "source": [
    "name = \"Ed\"\n",
    "age = 38\n",
    "\n",
    "'Hello, my name is ' + name + ' and i am ' + str(age) + ' years old' "
   ]
  },
  {
   "cell_type": "markdown",
   "id": "saved-alloy",
   "metadata": {},
   "source": [
    "### f-strings"
   ]
  },
  {
   "cell_type": "code",
   "execution_count": 17,
   "id": "designed-commitment",
   "metadata": {},
   "outputs": [
    {
     "data": {
      "text/plain": [
       "'Hello, my name is Ed and i am 38 years old'"
      ]
     },
     "execution_count": 17,
     "metadata": {},
     "output_type": "execute_result"
    }
   ],
   "source": [
    "f'Hello, my name is {name} and i am {age} years old' "
   ]
  },
  {
   "cell_type": "code",
   "execution_count": 18,
   "id": "selected-pakistan",
   "metadata": {},
   "outputs": [
    {
     "data": {
      "text/plain": [
       "'Hello, my name is Ed and next year I will be 39'"
      ]
     },
     "execution_count": 18,
     "metadata": {},
     "output_type": "execute_result"
    }
   ],
   "source": [
    "f'Hello, my name is {name} and next year I will be {age + 1}' "
   ]
  },
  {
   "cell_type": "code",
   "execution_count": 19,
   "id": "helpful-minutes",
   "metadata": {},
   "outputs": [
    {
     "data": {
      "text/plain": [
       "\"name='Ed'\""
      ]
     },
     "execution_count": 19,
     "metadata": {},
     "output_type": "execute_result"
    }
   ],
   "source": [
    "f'{name=}'"
   ]
  },
  {
   "cell_type": "code",
   "execution_count": 20,
   "id": "seasonal-senate",
   "metadata": {},
   "outputs": [
    {
     "name": "stdout",
     "output_type": "stream",
     "text": [
      "name='Ed'\n",
      "age=38\n",
      "x='this is a sEntence'\n"
     ]
    }
   ],
   "source": [
    "print(f'{name=}')\n",
    "print(f'{age=}')\n",
    "print(f'{x=}')"
   ]
  },
  {
   "cell_type": "markdown",
   "id": "physical-diversity",
   "metadata": {},
   "source": [
    "## Inspecting string contents"
   ]
  },
  {
   "cell_type": "code",
   "execution_count": 21,
   "id": "average-credits",
   "metadata": {},
   "outputs": [
    {
     "name": "stdout",
     "output_type": "stream",
     "text": [
      "This string contains some numbers: 12345, and some punctuation!\n"
     ]
    }
   ],
   "source": [
    "x = \"This string contains some numbers: 12345, and some punctuation!\"\n",
    "print(x)"
   ]
  },
  {
   "cell_type": "code",
   "execution_count": 22,
   "id": "martial-insertion",
   "metadata": {},
   "outputs": [
    {
     "data": {
      "text/plain": [
       "['__add__',\n",
       " '__class__',\n",
       " '__contains__',\n",
       " '__delattr__',\n",
       " '__dir__',\n",
       " '__doc__',\n",
       " '__eq__',\n",
       " '__format__',\n",
       " '__ge__',\n",
       " '__getattribute__',\n",
       " '__getitem__',\n",
       " '__getnewargs__',\n",
       " '__gt__',\n",
       " '__hash__',\n",
       " '__init__',\n",
       " '__init_subclass__',\n",
       " '__iter__',\n",
       " '__le__',\n",
       " '__len__',\n",
       " '__lt__',\n",
       " '__mod__',\n",
       " '__mul__',\n",
       " '__ne__',\n",
       " '__new__',\n",
       " '__reduce__',\n",
       " '__reduce_ex__',\n",
       " '__repr__',\n",
       " '__rmod__',\n",
       " '__rmul__',\n",
       " '__setattr__',\n",
       " '__sizeof__',\n",
       " '__str__',\n",
       " '__subclasshook__',\n",
       " 'capitalize',\n",
       " 'casefold',\n",
       " 'center',\n",
       " 'count',\n",
       " 'encode',\n",
       " 'endswith',\n",
       " 'expandtabs',\n",
       " 'find',\n",
       " 'format',\n",
       " 'format_map',\n",
       " 'index',\n",
       " 'isalnum',\n",
       " 'isalpha',\n",
       " 'isascii',\n",
       " 'isdecimal',\n",
       " 'isdigit',\n",
       " 'isidentifier',\n",
       " 'islower',\n",
       " 'isnumeric',\n",
       " 'isprintable',\n",
       " 'isspace',\n",
       " 'istitle',\n",
       " 'isupper',\n",
       " 'join',\n",
       " 'ljust',\n",
       " 'lower',\n",
       " 'lstrip',\n",
       " 'maketrans',\n",
       " 'partition',\n",
       " 'replace',\n",
       " 'rfind',\n",
       " 'rindex',\n",
       " 'rjust',\n",
       " 'rpartition',\n",
       " 'rsplit',\n",
       " 'rstrip',\n",
       " 'split',\n",
       " 'splitlines',\n",
       " 'startswith',\n",
       " 'strip',\n",
       " 'swapcase',\n",
       " 'title',\n",
       " 'translate',\n",
       " 'upper',\n",
       " 'zfill']"
      ]
     },
     "execution_count": 22,
     "metadata": {},
     "output_type": "execute_result"
    }
   ],
   "source": [
    "dir(x)"
   ]
  },
  {
   "cell_type": "markdown",
   "id": "typical-founder",
   "metadata": {},
   "source": [
    "### Whole string tests\n",
    "\n",
    "'isalnum', 'isalpha',  'isnumeric',"
   ]
  },
  {
   "cell_type": "code",
   "execution_count": null,
   "id": "demonstrated-thread",
   "metadata": {},
   "outputs": [],
   "source": []
  },
  {
   "cell_type": "code",
   "execution_count": 23,
   "id": "brutal-sandwich",
   "metadata": {},
   "outputs": [
    {
     "data": {
      "text/plain": [
       "True"
      ]
     },
     "execution_count": 23,
     "metadata": {},
     "output_type": "execute_result"
    }
   ],
   "source": [
    "'abcdef'.isalpha()"
   ]
  },
  {
   "cell_type": "code",
   "execution_count": 24,
   "id": "indie-teddy",
   "metadata": {},
   "outputs": [
    {
     "data": {
      "text/plain": [
       "False"
      ]
     },
     "execution_count": 24,
     "metadata": {},
     "output_type": "execute_result"
    }
   ],
   "source": [
    "'abcdef 1234'.isalpha()"
   ]
  },
  {
   "cell_type": "markdown",
   "id": "dress-weight",
   "metadata": {},
   "source": [
    "'islower', 'isupper', 'istitle',"
   ]
  },
  {
   "cell_type": "code",
   "execution_count": 25,
   "id": "handmade-personal",
   "metadata": {},
   "outputs": [
    {
     "data": {
      "text/plain": [
       "False"
      ]
     },
     "execution_count": 25,
     "metadata": {},
     "output_type": "execute_result"
    }
   ],
   "source": [
    "'This Is A title'.istitle()"
   ]
  },
  {
   "cell_type": "markdown",
   "id": "foster-recipient",
   "metadata": {},
   "source": [
    "'isspace', 'isdecimal', 'isdigit', 'isascii',  'isprintable', 'isidentifier'"
   ]
  },
  {
   "cell_type": "code",
   "execution_count": 26,
   "id": "fleet-entrance",
   "metadata": {},
   "outputs": [
    {
     "data": {
      "text/plain": [
       "True"
      ]
     },
     "execution_count": 26,
     "metadata": {},
     "output_type": "execute_result"
    }
   ],
   "source": [
    "'235'.isdecimal()"
   ]
  },
  {
   "cell_type": "markdown",
   "id": "naked-hello",
   "metadata": {},
   "source": [
    "### Substring tests\n",
    "\n",
    "#### in operator"
   ]
  },
  {
   "cell_type": "code",
   "execution_count": 27,
   "id": "antique-minneapolis",
   "metadata": {},
   "outputs": [
    {
     "data": {
      "text/plain": [
       "True"
      ]
     },
     "execution_count": 27,
     "metadata": {},
     "output_type": "execute_result"
    }
   ],
   "source": [
    "'of this class' in 'The instructor of this class is named Ed'"
   ]
  },
  {
   "cell_type": "markdown",
   "id": "present-prairie",
   "metadata": {},
   "source": [
    "#### startswith, endswith, "
   ]
  },
  {
   "cell_type": "code",
   "execution_count": 28,
   "id": "simple-investigation",
   "metadata": {},
   "outputs": [
    {
     "name": "stdout",
     "output_type": "stream",
     "text": [
      "True\n",
      "True\n",
      "False\n"
     ]
    }
   ],
   "source": [
    "filename = 'this-is-a-book.txt'\n",
    "print(filename.endswith('.txt'))\n",
    "print(filename.startswith('this-'))\n",
    "print(filename.startswith('-is-'))"
   ]
  },
  {
   "cell_type": "markdown",
   "id": "posted-governor",
   "metadata": {},
   "source": [
    "### Locating substrings\n",
    "\n",
    "index, find, rindex, rfind"
   ]
  },
  {
   "cell_type": "code",
   "execution_count": 29,
   "id": "patient-priest",
   "metadata": {},
   "outputs": [],
   "source": [
    "string = 'The instructor of this class is named Ed'"
   ]
  },
  {
   "cell_type": "code",
   "execution_count": 30,
   "id": "opposite-disability",
   "metadata": {},
   "outputs": [
    {
     "data": {
      "text/plain": [
       "True"
      ]
     },
     "execution_count": 30,
     "metadata": {},
     "output_type": "execute_result"
    }
   ],
   "source": [
    "'ss' in string"
   ]
  },
  {
   "cell_type": "code",
   "execution_count": 31,
   "id": "tracked-assessment",
   "metadata": {},
   "outputs": [
    {
     "data": {
      "text/plain": [
       "26"
      ]
     },
     "execution_count": 31,
     "metadata": {},
     "output_type": "execute_result"
    }
   ],
   "source": [
    "string.index('ss')"
   ]
  },
  {
   "cell_type": "code",
   "execution_count": 32,
   "id": "consistent-survival",
   "metadata": {},
   "outputs": [
    {
     "data": {
      "text/plain": [
       "'ss'"
      ]
     },
     "execution_count": 32,
     "metadata": {},
     "output_type": "execute_result"
    }
   ],
   "source": [
    "string[26:28]"
   ]
  },
  {
   "cell_type": "code",
   "execution_count": 33,
   "id": "intimate-centre",
   "metadata": {},
   "outputs": [
    {
     "data": {
      "text/plain": [
       "7"
      ]
     },
     "execution_count": 33,
     "metadata": {},
     "output_type": "execute_result"
    }
   ],
   "source": [
    "string.index('t')"
   ]
  },
  {
   "cell_type": "code",
   "execution_count": 34,
   "id": "surface-schedule",
   "metadata": {},
   "outputs": [
    {
     "data": {
      "text/plain": [
       "18"
      ]
     },
     "execution_count": 34,
     "metadata": {},
     "output_type": "execute_result"
    }
   ],
   "source": [
    "string.rindex('t')"
   ]
  },
  {
   "cell_type": "code",
   "execution_count": 35,
   "id": "median-watts",
   "metadata": {},
   "outputs": [
    {
     "data": {
      "text/plain": [
       "18"
      ]
     },
     "execution_count": 35,
     "metadata": {},
     "output_type": "execute_result"
    }
   ],
   "source": [
    "string.rfind('t')"
   ]
  },
  {
   "cell_type": "code",
   "execution_count": 36,
   "id": "secondary-insured",
   "metadata": {},
   "outputs": [
    {
     "ename": "ValueError",
     "evalue": "substring not found",
     "output_type": "error",
     "traceback": [
      "\u001b[0;31m---------------------------------------------------------------------------\u001b[0m",
      "\u001b[0;31mValueError\u001b[0m                                Traceback (most recent call last)",
      "\u001b[0;32m<ipython-input-36-19f7e16b8588>\u001b[0m in \u001b[0;36m<module>\u001b[0;34m\u001b[0m\n\u001b[0;32m----> 1\u001b[0;31m \u001b[0mstring\u001b[0m\u001b[0;34m.\u001b[0m\u001b[0mindex\u001b[0m\u001b[0;34m(\u001b[0m\u001b[0;34m'abracadabra'\u001b[0m\u001b[0;34m)\u001b[0m\u001b[0;34m\u001b[0m\u001b[0;34m\u001b[0m\u001b[0m\n\u001b[0m",
      "\u001b[0;31mValueError\u001b[0m: substring not found"
     ]
    }
   ],
   "source": [
    "string.index('abracadabra')"
   ]
  },
  {
   "cell_type": "code",
   "execution_count": 37,
   "id": "completed-shield",
   "metadata": {},
   "outputs": [
    {
     "data": {
      "text/plain": [
       "-1"
      ]
     },
     "execution_count": 37,
     "metadata": {},
     "output_type": "execute_result"
    }
   ],
   "source": [
    "string.find('abracadabra')"
   ]
  },
  {
   "cell_type": "code",
   "execution_count": 38,
   "id": "ecological-attack",
   "metadata": {},
   "outputs": [
    {
     "data": {
      "text/plain": [
       "'d'"
      ]
     },
     "execution_count": 38,
     "metadata": {},
     "output_type": "execute_result"
    }
   ],
   "source": [
    "string[-1]"
   ]
  },
  {
   "cell_type": "markdown",
   "id": "defined-advantage",
   "metadata": {},
   "source": [
    "### Counting substrings\n",
    "\n",
    "count"
   ]
  },
  {
   "cell_type": "code",
   "execution_count": 39,
   "id": "unlimited-valley",
   "metadata": {},
   "outputs": [
    {
     "data": {
      "text/plain": [
       "0"
      ]
     },
     "execution_count": 39,
     "metadata": {},
     "output_type": "execute_result"
    }
   ],
   "source": [
    "'abracadabra'.count('tomato')"
   ]
  },
  {
   "cell_type": "markdown",
   "id": "suspected-ecuador",
   "metadata": {},
   "source": [
    "## Manipulating strings"
   ]
  },
  {
   "cell_type": "code",
   "execution_count": null,
   "id": "intense-reason",
   "metadata": {},
   "outputs": [],
   "source": []
  },
  {
   "cell_type": "markdown",
   "id": "offensive-pulse",
   "metadata": {},
   "source": [
    "### Altering case\n",
    "\n",
    "- lower\n",
    "- upper\n",
    "- title\n",
    "- capitalize\n",
    "- swapcase\n",
    "- casefold"
   ]
  },
  {
   "cell_type": "code",
   "execution_count": null,
   "id": "satisfied-instruction",
   "metadata": {},
   "outputs": [],
   "source": []
  },
  {
   "cell_type": "code",
   "execution_count": 40,
   "id": "regional-maple",
   "metadata": {},
   "outputs": [
    {
     "data": {
      "text/plain": [
       "'abracadabra'"
      ]
     },
     "execution_count": 40,
     "metadata": {},
     "output_type": "execute_result"
    }
   ],
   "source": [
    "'AbracadabrA'.lower()"
   ]
  },
  {
   "cell_type": "code",
   "execution_count": 41,
   "id": "alternate-fighter",
   "metadata": {},
   "outputs": [
    {
     "name": "stdout",
     "output_type": "stream",
     "text": [
      "This is a List Of LETTERS\n",
      "new_text='this is a list of letters'\n",
      "text='This is a List Of LETTERS'\n"
     ]
    }
   ],
   "source": [
    "text = \"This is a List Of LETTERS\"\n",
    "print(text)\n",
    "new_text = text.lower()\n",
    "print(f'{new_text=}')\n",
    "print(f'{text=}')"
   ]
  },
  {
   "cell_type": "code",
   "execution_count": 42,
   "id": "violent-airplane",
   "metadata": {},
   "outputs": [
    {
     "data": {
      "text/plain": [
       "'this is a list of letters'"
      ]
     },
     "execution_count": 42,
     "metadata": {},
     "output_type": "execute_result"
    }
   ],
   "source": [
    "\"This is a List Of LETTERS\".lower()"
   ]
  },
  {
   "cell_type": "code",
   "execution_count": 43,
   "id": "nearby-messenger",
   "metadata": {},
   "outputs": [
    {
     "data": {
      "text/plain": [
       "'THIS IS A LIST OF LETTERS'"
      ]
     },
     "execution_count": 43,
     "metadata": {},
     "output_type": "execute_result"
    }
   ],
   "source": [
    "\"This is a List Of LETTERS\".upper()"
   ]
  },
  {
   "cell_type": "code",
   "execution_count": 44,
   "id": "welcome-insured",
   "metadata": {},
   "outputs": [
    {
     "data": {
      "text/plain": [
       "'This Is A List Of Letters'"
      ]
     },
     "execution_count": 44,
     "metadata": {},
     "output_type": "execute_result"
    }
   ],
   "source": [
    "\"This is a List Of LETTERS\".title()"
   ]
  },
  {
   "cell_type": "code",
   "execution_count": 45,
   "id": "closing-swift",
   "metadata": {},
   "outputs": [
    {
     "data": {
      "text/plain": [
       "'This is a list of letters'"
      ]
     },
     "execution_count": 45,
     "metadata": {},
     "output_type": "execute_result"
    }
   ],
   "source": [
    "\"This is a List Of LETTERS\".capitalize()"
   ]
  },
  {
   "cell_type": "code",
   "execution_count": 46,
   "id": "continuous-client",
   "metadata": {},
   "outputs": [
    {
     "data": {
      "text/plain": [
       "'tHIS IS A lIST oF letters'"
      ]
     },
     "execution_count": 46,
     "metadata": {},
     "output_type": "execute_result"
    }
   ],
   "source": [
    "\"This is a List Of LETTERS\".swapcase()"
   ]
  },
  {
   "cell_type": "code",
   "execution_count": 47,
   "id": "frequent-wound",
   "metadata": {},
   "outputs": [
    {
     "data": {
      "text/plain": [
       "'this is a list of letters'"
      ]
     },
     "execution_count": 47,
     "metadata": {},
     "output_type": "execute_result"
    }
   ],
   "source": [
    "\"This is a List Of LETTERS\".casefold()"
   ]
  },
  {
   "cell_type": "markdown",
   "id": "empty-correspondence",
   "metadata": {},
   "source": [
    "### replacing substrings"
   ]
  },
  {
   "cell_type": "code",
   "execution_count": 48,
   "id": "encouraging-collar",
   "metadata": {},
   "outputs": [
    {
     "name": "stdout",
     "output_type": "stream",
     "text": [
      "The Unicode Standard has become a success and is implemented in HTML, XML, Java, JavaScript, E-mail, ASP, PHP, etc. The Unicode standard is also supported in many operating systems and all modern browsers.\n"
     ]
    }
   ],
   "source": [
    "text = \"\"\"The Unicode Standard has become a success and is implemented in HTML, XML, Java, JavaScript, E-mail, ASP, PHP, etc. The Unicode standard is also supported in many operating systems and all modern browsers.\"\"\"\n",
    "print(text)"
   ]
  },
  {
   "cell_type": "code",
   "execution_count": 49,
   "id": "democratic-tracy",
   "metadata": {},
   "outputs": [
    {
     "data": {
      "text/plain": [
       "'The Unicode Standard has become a success and is implemented in HTML  XML  Java  JavaScript  E-mail  ASP  PHP  etc. The Unicode standard is also supported in many operating systems and all modern browsers.'"
      ]
     },
     "execution_count": 49,
     "metadata": {},
     "output_type": "execute_result"
    }
   ],
   "source": [
    "text.replace(',', ' ')"
   ]
  },
  {
   "cell_type": "code",
   "execution_count": 50,
   "id": "naughty-amino",
   "metadata": {},
   "outputs": [
    {
     "name": "stdout",
     "output_type": "stream",
     "text": [
      "The Unicode Standard has become a success and is implemented in HTML  XML  Java  JavaScript  E mail  ASP  PHP  etc  The Unicode standard is also supported in many operating systems and all modern browsers \n"
     ]
    }
   ],
   "source": [
    "from string import punctuation\n",
    "\n",
    "for character in punctuation:\n",
    "    text = text.replace(character, ' ')\n",
    "\n",
    "print(text)"
   ]
  },
  {
   "cell_type": "markdown",
   "id": "falling-parking",
   "metadata": {},
   "source": [
    "## String pieces: splitting and joining"
   ]
  },
  {
   "cell_type": "code",
   "execution_count": 51,
   "id": "informal-rwanda",
   "metadata": {},
   "outputs": [
    {
     "name": "stdout",
     "output_type": "stream",
     "text": [
      "the unicode standard has become a success and is implemented in html  xml  java  javascript  e mail  asp  php  etc  the unicode standard is also supported in many operating systems and all modern browsers  34 ^&\n"
     ]
    }
   ],
   "source": [
    "text = text.lower()\n",
    "\n",
    "text = text + ' 34 ^&'\n",
    "print(text)"
   ]
  },
  {
   "cell_type": "code",
   "execution_count": null,
   "id": "expressed-island",
   "metadata": {},
   "outputs": [],
   "source": []
  },
  {
   "cell_type": "markdown",
   "id": "thrown-allah",
   "metadata": {},
   "source": [
    "### separate string into pieces\n",
    "\n",
    "- split, splitlines"
   ]
  },
  {
   "cell_type": "code",
   "execution_count": 52,
   "id": "advanced-aviation",
   "metadata": {},
   "outputs": [
    {
     "name": "stdout",
     "output_type": "stream",
     "text": [
      "['the', 'unicode', 'standard', 'has', 'become', 'a', 'success', 'and', 'is', 'implemented', 'in', 'html', '', 'xml', '', 'java', '', 'javascript', '', 'e', 'mail', '', 'asp', '', 'php', '', 'etc', '', 'the', 'unicode', 'standard', 'is', 'also', 'supported', 'in', 'many', 'operating', 'systems', 'and', 'all', 'modern', 'browsers', '', '34', '^&']\n"
     ]
    },
    {
     "data": {
      "text/plain": [
       "45"
      ]
     },
     "execution_count": 52,
     "metadata": {},
     "output_type": "execute_result"
    }
   ],
   "source": [
    "wordish = text.split(' ')\n",
    "print(wordish)\n",
    "len(wordish)"
   ]
  },
  {
   "cell_type": "code",
   "execution_count": 53,
   "id": "ancient-parish",
   "metadata": {},
   "outputs": [
    {
     "name": "stdout",
     "output_type": "stream",
     "text": [
      "item='the'\n",
      "\t incrementing word_count\n",
      "item='unicode'\n",
      "\t incrementing word_count\n",
      "item='standard'\n",
      "\t incrementing word_count\n",
      "item='has'\n",
      "\t incrementing word_count\n",
      "item='become'\n",
      "\t incrementing word_count\n",
      "item='a'\n",
      "\t incrementing word_count\n",
      "item='success'\n",
      "\t incrementing word_count\n",
      "item='and'\n",
      "\t incrementing word_count\n",
      "item='is'\n",
      "\t incrementing word_count\n",
      "item='implemented'\n",
      "\t incrementing word_count\n",
      "item='in'\n",
      "\t incrementing word_count\n",
      "item='html'\n",
      "\t incrementing word_count\n",
      "item=''\n",
      "item='xml'\n",
      "\t incrementing word_count\n",
      "item=''\n",
      "item='java'\n",
      "\t incrementing word_count\n",
      "item=''\n",
      "item='javascript'\n",
      "\t incrementing word_count\n",
      "item=''\n",
      "item='e'\n",
      "\t incrementing word_count\n",
      "item='mail'\n",
      "\t incrementing word_count\n",
      "item=''\n",
      "item='asp'\n",
      "\t incrementing word_count\n",
      "item=''\n",
      "item='php'\n",
      "\t incrementing word_count\n",
      "item=''\n",
      "item='etc'\n",
      "\t incrementing word_count\n",
      "item=''\n",
      "item='the'\n",
      "\t incrementing word_count\n",
      "item='unicode'\n",
      "\t incrementing word_count\n",
      "item='standard'\n",
      "\t incrementing word_count\n",
      "item='is'\n",
      "\t incrementing word_count\n",
      "item='also'\n",
      "\t incrementing word_count\n",
      "item='supported'\n",
      "\t incrementing word_count\n",
      "item='in'\n",
      "\t incrementing word_count\n",
      "item='many'\n",
      "\t incrementing word_count\n",
      "item='operating'\n",
      "\t incrementing word_count\n",
      "item='systems'\n",
      "\t incrementing word_count\n",
      "item='and'\n",
      "\t incrementing word_count\n",
      "item='all'\n",
      "\t incrementing word_count\n",
      "item='modern'\n",
      "\t incrementing word_count\n",
      "item='browsers'\n",
      "\t incrementing word_count\n",
      "item=''\n",
      "item='34'\n",
      "\t incrementing word_count\n",
      "item='^&'\n",
      "\t incrementing word_count\n",
      "36\n"
     ]
    }
   ],
   "source": [
    "word_count = 0\n",
    "for item in wordish:\n",
    "    print(f'{item=}')\n",
    "    if len(item) > 0:\n",
    "        print('\\t incrementing word_count')\n",
    "        word_count = word_count + 1  # word_count += 1\n",
    "\n",
    "print(word_count)"
   ]
  },
  {
   "cell_type": "code",
   "execution_count": 54,
   "id": "egyptian-speaking",
   "metadata": {},
   "outputs": [
    {
     "data": {
      "text/plain": [
       "['th',\n",
       " 'unicod',\n",
       " 'standard has becom',\n",
       " 'a success and is implemented in html  xml  java  javascript  ',\n",
       " 'mail  asp  php  etc  th',\n",
       " 'unicod',\n",
       " 'standard is also supported in many operating systems and all modern browsers  34 ^&']"
      ]
     },
     "execution_count": 54,
     "metadata": {},
     "output_type": "execute_result"
    }
   ],
   "source": [
    "text.split('e ')"
   ]
  },
  {
   "cell_type": "code",
   "execution_count": 55,
   "id": "behavioral-elements",
   "metadata": {},
   "outputs": [
    {
     "data": {
      "text/plain": [
       "['the unicode standard has become a success and is implemented in html  xml  java  javascript  e mail  asp  php  etc  the unicode standard is also supported in many operating systems and all modern browsers  34 ^&']"
      ]
     },
     "execution_count": 55,
     "metadata": {},
     "output_type": "execute_result"
    }
   ],
   "source": [
    "text.splitlines()"
   ]
  },
  {
   "cell_type": "markdown",
   "id": "cultural-canon",
   "metadata": {},
   "source": [
    "- less useful: partition, rpartition, rsplit"
   ]
  },
  {
   "cell_type": "markdown",
   "id": "instructional-iceland",
   "metadata": {},
   "source": [
    "### combine pieces into one string\n",
    "\n",
    "- join"
   ]
  },
  {
   "cell_type": "code",
   "execution_count": 56,
   "id": "established-lesson",
   "metadata": {},
   "outputs": [
    {
     "data": {
      "text/plain": [
       "\"My favorite foods are: ['taco', 'ice-cream', 'potatoes', 'chameleon']\""
      ]
     },
     "execution_count": 56,
     "metadata": {},
     "output_type": "execute_result"
    }
   ],
   "source": [
    "favorite_foods = ['taco', 'ice-cream', 'potatoes', 'chameleon']\n",
    "\n",
    "f'My favorite foods are: {favorite_foods}'"
   ]
  },
  {
   "cell_type": "code",
   "execution_count": 57,
   "id": "optional-respect",
   "metadata": {},
   "outputs": [
    {
     "data": {
      "text/plain": [
       "'taco, ice-cream, potatoes, chameleon'"
      ]
     },
     "execution_count": 57,
     "metadata": {},
     "output_type": "execute_result"
    }
   ],
   "source": [
    "', '.join(favorite_foods)"
   ]
  },
  {
   "cell_type": "code",
   "execution_count": 58,
   "id": "little-danish",
   "metadata": {},
   "outputs": [
    {
     "data": {
      "text/plain": [
       "'My favorite foods are: taco, ice-cream, potatoes, chameleon'"
      ]
     },
     "execution_count": 58,
     "metadata": {},
     "output_type": "execute_result"
    }
   ],
   "source": [
    "'My favorite foods are: ' + ', '.join(favorite_foods)"
   ]
  },
  {
   "cell_type": "markdown",
   "id": "satellite-merit",
   "metadata": {},
   "source": [
    "## other string stuff we are ignoring"
   ]
  },
  {
   "cell_type": "markdown",
   "id": "governing-adolescent",
   "metadata": {},
   "source": [
    "### spacing/padding\n",
    "\n",
    "Mostly useful for generating nice strings for printing.  Not something we worry about.\n",
    "\n",
    "- center, ljust, rjust\n",
    "- zfill\n",
    "- strip / lstrip / rstrip\n",
    "- expandtabs\n",
    "\n",
    "### c-style formatting\n",
    "\n",
    "we will use f-strings instead.\n",
    "\n",
    "- format, format_map\n",
    "\n",
    "### dealing with string encoding\n",
    "\n",
    "out of scope.\n",
    "\n",
    "- 'encode', 'maketrans','translate',\n",
    "\n",
    "### regular expressions\n",
    "\n",
    "Super useful for finding (and replacing) strings that match certain *patterns*.\n",
    "\n",
    "However, expressing those patterns in ways that capture the usefulness of regular expressions requires learning a whole new syntax, and we will ignore it.\n",
    "\n",
    "If feeling ambitious, read about them here:\n",
    "\n",
    "https://docs.python.org/3/howto/regex.html"
   ]
  },
  {
   "cell_type": "markdown",
   "id": "rough-blast",
   "metadata": {},
   "source": [
    "r index vs index"
   ]
  },
  {
   "cell_type": "code",
   "execution_count": 59,
   "id": "prescribed-priest",
   "metadata": {},
   "outputs": [
    {
     "data": {
      "text/plain": [
       "2"
      ]
     },
     "execution_count": 59,
     "metadata": {},
     "output_type": "execute_result"
    }
   ],
   "source": [
    "x = 'this is a string with some letters in it'\n",
    "\n",
    "x.index('is')"
   ]
  },
  {
   "cell_type": "code",
   "execution_count": 60,
   "id": "acceptable-premises",
   "metadata": {},
   "outputs": [
    {
     "data": {
      "text/plain": [
       "5"
      ]
     },
     "execution_count": 60,
     "metadata": {},
     "output_type": "execute_result"
    }
   ],
   "source": [
    "x.rindex('is')"
   ]
  },
  {
   "cell_type": "code",
   "execution_count": 61,
   "id": "impaired-holmes",
   "metadata": {},
   "outputs": [
    {
     "data": {
      "text/plain": [
       "'this is a string with some letters in it'"
      ]
     },
     "execution_count": 61,
     "metadata": {},
     "output_type": "execute_result"
    }
   ],
   "source": [
    "x"
   ]
  },
  {
   "cell_type": "code",
   "execution_count": 62,
   "id": "alone-immune",
   "metadata": {},
   "outputs": [
    {
     "data": {
      "text/plain": [
       "['this', 'is', 'a', 'string', 'with', 'some', 'letters', 'in', 'it']"
      ]
     },
     "execution_count": 62,
     "metadata": {},
     "output_type": "execute_result"
    }
   ],
   "source": [
    "x.split(' ')"
   ]
  },
  {
   "cell_type": "code",
   "execution_count": 63,
   "id": "statewide-continuity",
   "metadata": {},
   "outputs": [
    {
     "data": {
      "text/plain": [
       "6"
      ]
     },
     "execution_count": 63,
     "metadata": {},
     "output_type": "execute_result"
    }
   ],
   "source": [
    "x.count('t')"
   ]
  },
  {
   "cell_type": "markdown",
   "id": "assigned-resistance",
   "metadata": {},
   "source": [
    "## Sets"
   ]
  },
  {
   "cell_type": "code",
   "execution_count": 64,
   "id": "blocked-minimum",
   "metadata": {},
   "outputs": [],
   "source": [
    "items = {'a', 'b', 'c', 'd'}"
   ]
  },
  {
   "cell_type": "code",
   "execution_count": 65,
   "id": "progressive-franklin",
   "metadata": {},
   "outputs": [
    {
     "data": {
      "text/plain": [
       "{'a', 'b', 'c', 'd'}"
      ]
     },
     "execution_count": 65,
     "metadata": {},
     "output_type": "execute_result"
    }
   ],
   "source": [
    "items"
   ]
  },
  {
   "cell_type": "code",
   "execution_count": 66,
   "id": "cardiovascular-terrain",
   "metadata": {},
   "outputs": [],
   "source": [
    "x = 'this is a sentence'"
   ]
  },
  {
   "cell_type": "code",
   "execution_count": 67,
   "id": "faced-expense",
   "metadata": {},
   "outputs": [
    {
     "data": {
      "text/plain": [
       "{' ', 'a', 'c', 'e', 'h', 'i', 'n', 's', 't'}"
      ]
     },
     "execution_count": 67,
     "metadata": {},
     "output_type": "execute_result"
    }
   ],
   "source": [
    "set(x)"
   ]
  },
  {
   "cell_type": "code",
   "execution_count": 68,
   "id": "defined-appliance",
   "metadata": {},
   "outputs": [],
   "source": [
    "items = {'a', 'b', 'c', 'd'}"
   ]
  },
  {
   "cell_type": "code",
   "execution_count": 69,
   "id": "starting-salem",
   "metadata": {},
   "outputs": [
    {
     "name": "stdout",
     "output_type": "stream",
     "text": [
      "{'c', 'a', 'b', 'd'}\n"
     ]
    }
   ],
   "source": [
    "print(items)"
   ]
  },
  {
   "cell_type": "code",
   "execution_count": 70,
   "id": "northern-sword",
   "metadata": {},
   "outputs": [
    {
     "name": "stdout",
     "output_type": "stream",
     "text": [
      "{'c', 'a', 'b', 'd'}\n",
      "{'a', 'c', 'd', 'b', '5'}\n"
     ]
    }
   ],
   "source": [
    "print(items)\n",
    "items.add('5')\n",
    "print(items)"
   ]
  },
  {
   "cell_type": "code",
   "execution_count": 71,
   "id": "choice-command",
   "metadata": {},
   "outputs": [
    {
     "name": "stdout",
     "output_type": "stream",
     "text": [
      "{'a', 'c', 'd', 'b', '5'}\n",
      "{'a', 'c', 'd', 'b', '5'}\n"
     ]
    }
   ],
   "source": [
    "print(items)\n",
    "items.add('5')\n",
    "print(items)"
   ]
  },
  {
   "cell_type": "code",
   "execution_count": 72,
   "id": "sound-priority",
   "metadata": {},
   "outputs": [
    {
     "name": "stdout",
     "output_type": "stream",
     "text": [
      "{'a', 'c', 'd', 'b', '5'}\n",
      "{'a', '55', 'c', 'd', 'b', '5'}\n"
     ]
    }
   ],
   "source": [
    "print(items)\n",
    "items.add('55')\n",
    "print(items)"
   ]
  },
  {
   "cell_type": "code",
   "execution_count": 73,
   "id": "reduced-mistress",
   "metadata": {},
   "outputs": [
    {
     "data": {
      "text/plain": [
       "11"
      ]
     },
     "execution_count": 73,
     "metadata": {},
     "output_type": "execute_result"
    }
   ],
   "source": [
    "x = 'abracadabra'\n",
    "len(x)"
   ]
  },
  {
   "cell_type": "code",
   "execution_count": 74,
   "id": "pretty-chambers",
   "metadata": {},
   "outputs": [
    {
     "data": {
      "text/plain": [
       "5"
      ]
     },
     "execution_count": 74,
     "metadata": {},
     "output_type": "execute_result"
    }
   ],
   "source": [
    "len(set(x))"
   ]
  },
  {
   "cell_type": "code",
   "execution_count": 75,
   "id": "quarterly-covering",
   "metadata": {},
   "outputs": [],
   "source": [
    "x = 'abracadabra'\n",
    "y = 'supercalifragilisticexpealidiocious'"
   ]
  },
  {
   "cell_type": "code",
   "execution_count": 76,
   "id": "vocal-religion",
   "metadata": {},
   "outputs": [
    {
     "data": {
      "text/plain": [
       "{'a', 'c', 'd', 'r'}"
      ]
     },
     "execution_count": 76,
     "metadata": {},
     "output_type": "execute_result"
    }
   ],
   "source": [
    "set(x) & set(y) # set intersection"
   ]
  },
  {
   "cell_type": "code",
   "execution_count": 77,
   "id": "searching-institution",
   "metadata": {},
   "outputs": [
    {
     "data": {
      "text/plain": [
       "{'b'}"
      ]
     },
     "execution_count": 77,
     "metadata": {},
     "output_type": "execute_result"
    }
   ],
   "source": [
    "set(x) - set(y)"
   ]
  },
  {
   "cell_type": "code",
   "execution_count": 78,
   "id": "anticipated-volunteer",
   "metadata": {},
   "outputs": [
    {
     "data": {
      "text/plain": [
       "{'e', 'f', 'g', 'i', 'l', 'o', 'p', 's', 't', 'u', 'x'}"
      ]
     },
     "execution_count": 78,
     "metadata": {},
     "output_type": "execute_result"
    }
   ],
   "source": [
    "set(y) - set(x)"
   ]
  },
  {
   "cell_type": "code",
   "execution_count": 79,
   "id": "crazy-operator",
   "metadata": {},
   "outputs": [
    {
     "data": {
      "text/plain": [
       "{'a',\n",
       " 'b',\n",
       " 'c',\n",
       " 'd',\n",
       " 'e',\n",
       " 'f',\n",
       " 'g',\n",
       " 'i',\n",
       " 'l',\n",
       " 'o',\n",
       " 'p',\n",
       " 'r',\n",
       " 's',\n",
       " 't',\n",
       " 'u',\n",
       " 'x'}"
      ]
     },
     "execution_count": 79,
     "metadata": {},
     "output_type": "execute_result"
    }
   ],
   "source": [
    "set(x) | set(y) # set union"
   ]
  },
  {
   "cell_type": "code",
   "execution_count": 80,
   "id": "amber-sunday",
   "metadata": {},
   "outputs": [
    {
     "name": "stdout",
     "output_type": "stream",
     "text": [
      "['h', 'j', 'k', 'm', 'n', 'q', 'v', 'w', 'y', 'z']\n"
     ]
    }
   ],
   "source": [
    "# what characters occured in neither x nor y\n",
    "\n",
    "alphabet = 'abcdefghijklmnopqrstuvwxyz'\n",
    "\n",
    "not_in_x_or_y = []\n",
    "\n",
    "for letter in alphabet:\n",
    "    if letter not in x and letter not in y:\n",
    "        not_in_x_or_y.append(letter)\n",
    "\n",
    "print(not_in_x_or_y)"
   ]
  },
  {
   "cell_type": "code",
   "execution_count": 81,
   "id": "known-canal",
   "metadata": {},
   "outputs": [
    {
     "data": {
      "text/plain": [
       "{'h', 'j', 'k', 'm', 'n', 'q', 'v', 'w', 'y', 'z'}"
      ]
     },
     "execution_count": 81,
     "metadata": {},
     "output_type": "execute_result"
    }
   ],
   "source": [
    "set(alphabet) - (set(x) | set(y))"
   ]
  },
  {
   "cell_type": "code",
   "execution_count": 82,
   "id": "hollow-future",
   "metadata": {},
   "outputs": [],
   "source": [
    "text = \"\"\" The Unicode Standard has become a success and is implemented in HTML, XML, Java, JavaScript, E-mail, ASP, PHP, etc. The Unicode standard is also supported in many operating systems and all modern browsers.\n",
    "\n",
    "The Unicode Consortium cooperates with the leading standards development organizations, like ISO, W3C, and ECMA.\n",
    "\"\"\""
   ]
  },
  {
   "cell_type": "code",
   "execution_count": 83,
   "id": "aboriginal-session",
   "metadata": {},
   "outputs": [
    {
     "name": "stdout",
     "output_type": "stream",
     "text": [
      "char='i' text.count(char)=18 curmax_count=0 curmax_char=''\n",
      "Changing max to  18 i\n",
      "char='d' text.count(char)=17 curmax_count=18 curmax_char='i'\n",
      "char='.' text.count(char)=3 curmax_count=18 curmax_char='i'\n",
      "char=' ' text.count(char)=47 curmax_count=18 curmax_char='i'\n",
      "Changing max to  47  \n",
      "char='h' text.count(char)=8 curmax_count=47 curmax_char=' '\n",
      "char='s' text.count(char)=23 curmax_count=47 curmax_char=' '\n",
      "char='o' text.count(char)=17 curmax_count=47 curmax_char=' '\n",
      "char='l' text.count(char)=10 curmax_count=47 curmax_char=' '\n",
      "char='e' text.count(char)=28 curmax_count=47 curmax_char=' '\n",
      "char='j' text.count(char)=2 curmax_count=47 curmax_char=' '\n",
      "char='n' text.count(char)=20 curmax_count=47 curmax_char=' '\n",
      "char='u' text.count(char)=6 curmax_count=47 curmax_char=' '\n",
      "char='b' text.count(char)=2 curmax_count=47 curmax_char=' '\n",
      "char='v' text.count(char)=3 curmax_count=47 curmax_char=' '\n",
      "char='a' text.count(char)=26 curmax_count=47 curmax_char=' '\n",
      "char='3' text.count(char)=1 curmax_count=47 curmax_char=' '\n",
      "char='g' text.count(char)=3 curmax_count=47 curmax_char=' '\n",
      "char='t' text.count(char)=19 curmax_count=47 curmax_char=' '\n",
      "char='p' text.count(char)=10 curmax_count=47 curmax_char=' '\n",
      "char='x' text.count(char)=1 curmax_count=47 curmax_char=' '\n",
      "char='c' text.count(char)=12 curmax_count=47 curmax_char=' '\n",
      "char='-' text.count(char)=1 curmax_count=47 curmax_char=' '\n",
      "char='w' text.count(char)=3 curmax_count=47 curmax_char=' '\n",
      "char='y' text.count(char)=2 curmax_count=47 curmax_char=' '\n",
      "char='k' text.count(char)=1 curmax_count=47 curmax_char=' '\n",
      "char='z' text.count(char)=1 curmax_count=47 curmax_char=' '\n",
      "char='\\n' text.count(char)=3 curmax_count=47 curmax_char=' '\n",
      "char='r' text.count(char)=12 curmax_count=47 curmax_char=' '\n",
      "char=',' text.count(char)=10 curmax_count=47 curmax_char=' '\n",
      "char='m' text.count(char)=12 curmax_count=47 curmax_char=' '\n"
     ]
    }
   ],
   "source": [
    "text = text.lower()\n",
    "\n",
    "characters = list(set(text))\n",
    "\n",
    "curmax_count = 0\n",
    "curmax_char = ''\n",
    "\n",
    "for char in characters:\n",
    "    print(f'{char=} {text.count(char)=} {curmax_count=} {curmax_char=}')\n",
    "    if text.count(char) > curmax_count:\n",
    "        print('Changing max to ', text.count(char), char)\n",
    "        curmax_count = text.count(char)\n",
    "        curmax_char = char\n"
   ]
  },
  {
   "cell_type": "code",
   "execution_count": 84,
   "id": "temporal-wings",
   "metadata": {},
   "outputs": [
    {
     "name": "stdout",
     "output_type": "stream",
     "text": [
      "[18, 17, 3, 47, 8, 23, 17, 10, 28, 2, 20, 6, 2, 3, 26, 1, 3, 19, 10, 1, 12, 1, 3, 2, 1, 1, 3, 12, 10, 12]\n"
     ]
    }
   ],
   "source": [
    "text = text.lower()\n",
    "\n",
    "characters = list(set(text))\n",
    "\n",
    "counts = []\n",
    "\n",
    "for char in characters:\n",
    "    counts.append(text.count(char))\n",
    "\n",
    "print(counts)"
   ]
  },
  {
   "cell_type": "code",
   "execution_count": 85,
   "id": "valued-donna",
   "metadata": {},
   "outputs": [
    {
     "data": {
      "text/plain": [
       "47"
      ]
     },
     "execution_count": 85,
     "metadata": {},
     "output_type": "execute_result"
    }
   ],
   "source": [
    "max(counts)"
   ]
  },
  {
   "cell_type": "code",
   "execution_count": 86,
   "id": "thousand-birthday",
   "metadata": {},
   "outputs": [
    {
     "data": {
      "text/plain": [
       "' '"
      ]
     },
     "execution_count": 86,
     "metadata": {},
     "output_type": "execute_result"
    }
   ],
   "source": [
    "idx = counts.index(max(counts))\n",
    "\n",
    "characters[idx]"
   ]
  },
  {
   "cell_type": "code",
   "execution_count": 87,
   "id": "italian-veteran",
   "metadata": {},
   "outputs": [],
   "source": [
    "from string import ascii_lowercase as alphabet"
   ]
  },
  {
   "cell_type": "code",
   "execution_count": 88,
   "id": "foster-guide",
   "metadata": {},
   "outputs": [
    {
     "data": {
      "text/plain": [
       "'abcdefghijklmnopqrstuvwxyz'"
      ]
     },
     "execution_count": 88,
     "metadata": {},
     "output_type": "execute_result"
    }
   ],
   "source": [
    "alphabet"
   ]
  },
  {
   "cell_type": "code",
   "execution_count": null,
   "id": "after-sheet",
   "metadata": {},
   "outputs": [],
   "source": []
  }
 ],
 "metadata": {
  "kernelspec": {
   "display_name": "Python 3",
   "language": "python",
   "name": "python3"
  },
  "language_info": {
   "codemirror_mode": {
    "name": "ipython",
    "version": 3
   },
   "file_extension": ".py",
   "mimetype": "text/x-python",
   "name": "python",
   "nbconvert_exporter": "python",
   "pygments_lexer": "ipython3",
   "version": "3.8.5"
  }
 },
 "nbformat": 4,
 "nbformat_minor": 5
}