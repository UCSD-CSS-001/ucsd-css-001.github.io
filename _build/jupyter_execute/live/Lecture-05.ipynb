{
 "cells": [
  {
   "cell_type": "markdown",
   "id": "ordinary-people",
   "metadata": {},
   "source": [
    "# Introducing Dictionaries (sometimes called \"hash maps\")"
   ]
  },
  {
   "cell_type": "markdown",
   "id": "graphic-investing",
   "metadata": {},
   "source": [
    "Today, we'll be talking about a very important *data structure* that is more or less universal in coding languages: the dictionary."
   ]
  },
  {
   "cell_type": "markdown",
   "id": "seasonal-headquarters",
   "metadata": {},
   "source": [
    "### What is a dictionary?"
   ]
  },
  {
   "cell_type": "markdown",
   "id": "operational-caribbean",
   "metadata": {},
   "source": [
    "It keeps track of *key-value pairs* (like a word and its definition).\n",
    "\n",
    "Can we just use existing data structures like lists for this? Not really. "
   ]
  },
  {
   "cell_type": "markdown",
   "id": "informational-arkansas",
   "metadata": {},
   "source": [
    "### What are dictionaries useful for?"
   ]
  },
  {
   "cell_type": "markdown",
   "id": "cross-country",
   "metadata": {},
   "source": [
    "You need a dictionary (at least one) for almost any complex coding problem. \n",
    "\n",
    "They show up repeatedly in the rest of our labs and problem sets. \n",
    "\n",
    "Example: password validation"
   ]
  },
  {
   "cell_type": "markdown",
   "id": "flying-suite",
   "metadata": {},
   "source": [
    "### So how do dictionaries work?"
   ]
  },
  {
   "cell_type": "markdown",
   "id": "geographic-spray",
   "metadata": {},
   "source": [
    "Formally, a dictionary in python is:\n",
    "- mutable (you can change it *in place*)\n",
    "- a collection (like a list, it stores things and has attributes like `len`)\n",
    "- *unordered* (IMPORTANT: this has a big effect on how you interact with dictionaries. More on this below.)\n",
    "- defined by a pairing between unique *keys* and their associated *values*"
   ]
  },
  {
   "cell_type": "markdown",
   "id": "catholic-liberal",
   "metadata": {},
   "source": [
    "# Today's Agenda"
   ]
  },
  {
   "cell_type": "markdown",
   "id": "requested-advocacy",
   "metadata": {},
   "source": [
    "1. How to **construct** dictionaries in python\n",
    "\n",
    "2. How to **add new items** to a dictionary\n",
    "\n",
    "3. How to **access** items in a dictionary\n",
    "\n",
    "4. How to **delete** items from a dictionary\n",
    "\n",
    "5. How to **iterate** over items in a dictionary (remember, they're un-ordered)\n",
    "\n",
    "6. How to **sort** a dictionary (sometimes, we need them in order!)"
   ]
  },
  {
   "cell_type": "markdown",
   "id": "egyptian-pipeline",
   "metadata": {},
   "source": [
    "\n",
    "----------------------------------------------------------------------------------------------------------------------\n"
   ]
  },
  {
   "cell_type": "markdown",
   "id": "suited-aerospace",
   "metadata": {},
   "source": [
    "# Constructing dictionaries"
   ]
  },
  {
   "cell_type": "markdown",
   "id": "active-documentary",
   "metadata": {},
   "source": [
    "In python, you can declare a new, empty dictionary, or say what's in it when you declare it."
   ]
  },
  {
   "cell_type": "code",
   "execution_count": 1,
   "id": "genuine-gabriel",
   "metadata": {},
   "outputs": [
    {
     "name": "stdout",
     "output_type": "stream",
     "text": [
      "{}\n",
      "{}\n"
     ]
    }
   ],
   "source": [
    "# Declare a new, empty dictionary\n",
    "birthdays = dict()\n",
    "print(birthdays)\n",
    "\n",
    "birthdays = {}\n",
    "birthday_list = []\n",
    "print(birthdays)"
   ]
  },
  {
   "cell_type": "code",
   "execution_count": 2,
   "id": "reverse-madison",
   "metadata": {},
   "outputs": [
    {
     "name": "stdout",
     "output_type": "stream",
     "text": [
      "{'Erik': '03/21/1991', 'Isabella': '07/14/1992'}\n",
      "2\n"
     ]
    }
   ],
   "source": [
    "# Declare a new dictionary with some stuff in it\n",
    "birthdays = {\n",
    "    'Erik': '03/21/1991',\n",
    "    'Isabella': '07/14/1992'\n",
    "}\n",
    "print(birthdays)\n",
    "print(len(birthdays)) # why is this 2?"
   ]
  },
  {
   "cell_type": "markdown",
   "id": "elementary-colon",
   "metadata": {},
   "source": [
    "# Adding to dictionaries"
   ]
  },
  {
   "cell_type": "markdown",
   "id": "obvious-forty",
   "metadata": {},
   "source": [
    "You can add *new key-value pairs* to dictionaries all at once with `update` or one by one with bracket [...] notation. \n",
    "\n",
    "NOTE: use the same syntax to change existing values in a dictionary."
   ]
  },
  {
   "cell_type": "code",
   "execution_count": 3,
   "id": "established-intake",
   "metadata": {},
   "outputs": [
    {
     "name": "stdout",
     "output_type": "stream",
     "text": [
      "{'Erik': '03/21/1991', 'Isabella': '07/14/1992'}\n",
      "{'Erik': '03/21/1991', 'Isabella': '07/14/1992', 'Deniz': '09/23/2000', 'Elliott': '08/06/2001', 'Kayla': '10/12/2002'}\n"
     ]
    }
   ],
   "source": [
    "# Adding multiple key-value pairs \n",
    "print(birthdays)\n",
    "\n",
    "new_birthdays = {\n",
    "    'Deniz': '09/23/2000',\n",
    "    'Elliott': '08/06/2001',\n",
    "    'Kayla' : '10/12/2002'\n",
    "}\n",
    "birthdays.update(new_birthdays)\n",
    "\n",
    "print(birthdays)"
   ]
  },
  {
   "cell_type": "code",
   "execution_count": 4,
   "id": "proof-member",
   "metadata": {},
   "outputs": [
    {
     "name": "stdout",
     "output_type": "stream",
     "text": [
      "{'Erik': '03/21/1991', 'Isabella': '07/14/1992', 'Deniz': '09/23/2000', 'Elliott': '08/06/2001', 'Kayla': '10/12/2002'}\n",
      "{'Erik': '3/21/1912', 'Isabella': '07/14/1992', 'Deniz': '09/23/2000', 'Elliott': '08/06/2001', 'Kayla': '10/12/2002', 'Talia': '10/16/1998', 'Maricel': '11/26/2000', 'Alexis': '6/27/2000', 'Rachel': '06/15/1999'}\n",
      "9\n"
     ]
    }
   ],
   "source": [
    "print(birthdays)\n",
    "# Adding a single key-value pair (this is more common than the above)\n",
    "# dictionary[key] = value\n",
    "birthdays['Talia'] = '10/16/1998'\n",
    "birthdays['Maricel'] = '11/26/2000'\n",
    "birthdays['Alexis'] = '6/27/2000'\n",
    "birthdays['Rachel'] = '06/15/1999'\n",
    "\n",
    "\n",
    "# Changing a single key-value pair\n",
    "# dictionary[key] = new_value\n",
    "birthdays['Erik'] = '3/21/1912'\n",
    "\n",
    "print(birthdays)\n",
    "print(len(birthdays))"
   ]
  },
  {
   "cell_type": "markdown",
   "id": "modified-cassette",
   "metadata": {},
   "source": [
    "# Accessing items in a dictionary"
   ]
  },
  {
   "cell_type": "markdown",
   "id": "coastal-chile",
   "metadata": {},
   "source": [
    "Access items in a dictionary using the same bracket [...] syntax as you use to add or update items.\n",
    "\n",
    "NOTE: this means you can only get items in a dictionary using the lookup *key*, not the value."
   ]
  },
  {
   "cell_type": "code",
   "execution_count": 5,
   "id": "legislative-investigator",
   "metadata": {},
   "outputs": [
    {
     "name": "stdout",
     "output_type": "stream",
     "text": [
      "07/14/1992\n",
      "Dear Isabella, sorry I missed your birthday on 07/14/1992.\n"
     ]
    }
   ],
   "source": [
    "# Access dictionary values with `dictionary[key]`\n",
    "Isabella_birthday = birthdays['Isabella']\n",
    "print(Isabella_birthday)\n",
    "\n",
    "bday_card = f\"Dear Isabella, sorry I missed your birthday on {Isabella_birthday}.\"\n",
    "print(bday_card)"
   ]
  },
  {
   "cell_type": "markdown",
   "id": "coordinate-interim",
   "metadata": {},
   "source": [
    "When you try to access an item that isn't in a dictionary, python returns a `KeyError`."
   ]
  },
  {
   "cell_type": "code",
   "execution_count": 6,
   "id": "dying-conclusion",
   "metadata": {},
   "outputs": [
    {
     "ename": "KeyError",
     "evalue": "'Ed'",
     "output_type": "error",
     "traceback": [
      "\u001b[0;31m---------------------------------------------------------------------------\u001b[0m",
      "\u001b[0;31mKeyError\u001b[0m                                  Traceback (most recent call last)",
      "\u001b[0;32m<ipython-input-6-74f6d205b294>\u001b[0m in \u001b[0;36m<module>\u001b[0;34m\u001b[0m\n\u001b[0;32m----> 1\u001b[0;31m \u001b[0mbirthdays\u001b[0m\u001b[0;34m[\u001b[0m\u001b[0;34m'Ed'\u001b[0m\u001b[0;34m]\u001b[0m\u001b[0;34m\u001b[0m\u001b[0;34m\u001b[0m\u001b[0m\n\u001b[0m",
      "\u001b[0;31mKeyError\u001b[0m: 'Ed'"
     ]
    }
   ],
   "source": [
    "birthdays['Ed']"
   ]
  },
  {
   "cell_type": "markdown",
   "id": "reverse-legislation",
   "metadata": {},
   "source": [
    "To avoid a `KeyError`, use the `in` operator to check if a key is in the dictionary."
   ]
  },
  {
   "cell_type": "code",
   "execution_count": 7,
   "id": "separate-seller",
   "metadata": {},
   "outputs": [
    {
     "name": "stdout",
     "output_type": "stream",
     "text": [
      "True\n",
      "False\n",
      "3/21/1912\n"
     ]
    }
   ],
   "source": [
    "print('Erik' in birthdays) # What does this return?\n",
    "print('Ed' in birthdays) # What does this return?\n",
    "\n",
    "people = ['Erik', 'Ed']\n",
    "for person in people:\n",
    "    if person in birthdays: # This `in`, a little different from the one above! \n",
    "        print(birthdays[person])"
   ]
  },
  {
   "cell_type": "markdown",
   "id": "periodic-affiliation",
   "metadata": {},
   "source": [
    "### Aside: what's happening when we add or edit key-value pairs in a dictionary? "
   ]
  },
  {
   "cell_type": "markdown",
   "id": "dutch-tsunami",
   "metadata": {},
   "source": [
    "In most coding languages, the *values* in a dictionary or hash map are stored in memory just like a list. \n",
    "\n",
    "The magic is that instead of adding values to the list based on the index you assign to them, a **hash function** converts the key to a unique number and stores the value in the list at the index for that number. This keeps track of key-value pairs because the hash function applied to a particular key will always point to the same place where the value is stored. "
   ]
  },
  {
   "cell_type": "markdown",
   "id": "improving-piece",
   "metadata": {},
   "source": [
    "### Q: What can we use as keys in a dictionary?  "
   ]
  },
  {
   "cell_type": "markdown",
   "id": "greatest-communist",
   "metadata": {},
   "source": [
    "A. Only things that can be *uniquely* \"hashed\". \n",
    "\n",
    "This usually means strings or numbers (even tuples!) but not things like lists (or other dictionaries).\n",
    "\n",
    "This also means **you can't have multiple copies of the same key** in a dictionary.\n",
    "\n",
    "Final point: dictionaries are very flexible!"
   ]
  },
  {
   "cell_type": "code",
   "execution_count": 8,
   "id": "practical-easter",
   "metadata": {},
   "outputs": [
    {
     "name": "stdout",
     "output_type": "stream",
     "text": [
      "{'Erik': '3/21/1912', 'Isabella': '07/14/1992', 'Deniz': '09/23/2000', 'Elliott': '08/06/2001', 'Kayla': '10/12/2002', 'Talia': '10/16/1998', 'Maricel': '11/26/2000', 'Alexis': '6/27/2000', 'Rachel': '06/15/1999', 6.5: 'January 1st'}\n",
      "{'Erik': '3/21/1912', 'Isabella': '07/14/1992', 'Deniz': '09/23/2000', 'Elliott': '08/06/2001', 'Kayla': '10/12/2002', 'Talia': '10/16/1998', 'Maricel': '11/26/2000', 'Alexis': '6/27/2000', 'Rachel': '06/15/1999', 6.5: 'January 1st', ('I am', 'a tuple'): 'January 1st'}\n",
      "{'Erik': 'January 2nd', 'Isabella': '07/14/1992', 'Deniz': '09/23/2000', 'Elliott': '08/06/2001', 'Kayla': '10/12/2002', 'Talia': '10/16/1998', 'Maricel': '11/26/2000', 'Alexis': '6/27/2000', 'Rachel': '06/15/1999', 6.5: 'January 1st', ('I am', 'a tuple'): 'January 1st'}\n"
     ]
    }
   ],
   "source": [
    "birthdays[6.5] = 'January 1st'\n",
    "print(birthdays)\n",
    "\n",
    "birthdays[('I am', 'a tuple')] = 'January 1st'\n",
    "print(birthdays)\n",
    "\n",
    "# Can we add another entry with the same key? No!\n",
    "birthdays['Erik'] = 'January 2nd'\n",
    "print(birthdays)"
   ]
  },
  {
   "cell_type": "code",
   "execution_count": 9,
   "id": "hired-segment",
   "metadata": {},
   "outputs": [
    {
     "ename": "TypeError",
     "evalue": "unhashable type: 'list'",
     "output_type": "error",
     "traceback": [
      "\u001b[0;31m---------------------------------------------------------------------------\u001b[0m",
      "\u001b[0;31mTypeError\u001b[0m                                 Traceback (most recent call last)",
      "\u001b[0;32m<ipython-input-9-5e0cb2eb7954>\u001b[0m in \u001b[0;36m<module>\u001b[0;34m\u001b[0m\n\u001b[0;32m----> 1\u001b[0;31m \u001b[0mbirthdays\u001b[0m\u001b[0;34m[\u001b[0m\u001b[0;34m[\u001b[0m\u001b[0;34m'I am'\u001b[0m\u001b[0;34m,\u001b[0m \u001b[0;34m'a list'\u001b[0m\u001b[0;34m]\u001b[0m\u001b[0;34m]\u001b[0m \u001b[0;34m=\u001b[0m \u001b[0;34m'January 1st'\u001b[0m\u001b[0;34m\u001b[0m\u001b[0;34m\u001b[0m\u001b[0m\n\u001b[0m",
      "\u001b[0;31mTypeError\u001b[0m: unhashable type: 'list'"
     ]
    }
   ],
   "source": [
    "birthdays[['I am', 'a list']] = 'January 1st'"
   ]
  },
  {
   "cell_type": "markdown",
   "id": "challenging-regard",
   "metadata": {},
   "source": [
    "### Q: What can we use as values in a dictionary? "
   ]
  },
  {
   "cell_type": "markdown",
   "id": "above-assistant",
   "metadata": {},
   "source": [
    "A. Almost anything, including other dictionaries!"
   ]
  },
  {
   "cell_type": "code",
   "execution_count": 10,
   "id": "nuclear-judge",
   "metadata": {},
   "outputs": [
    {
     "name": "stdout",
     "output_type": "stream",
     "text": [
      "{'Erik': 'January 2nd', 'Isabella': '07/14/1992', 'Deniz': '09/23/2000', 'Elliott': '08/06/2001', 'Kayla': '10/12/2002', 'Talia': '10/16/1998', 'Maricel': '11/26/2000', 'Alexis': '6/27/2000', 'Rachel': '06/15/1999', 6.5: 'January 1st', ('I am', 'a tuple'): 'January 1st', 'Erik_siblings': ['02/26/1994', '03/31/1999']}\n",
      "{'March': {'Erik': 21}, 'July': {'Isabella': 14, 'Riley': 12}}\n",
      "{'Isabella': 14, 'Riley': 12}\n",
      "12\n",
      "{'March': {'Erik': 21}, 'July': {'Isabella': 14, 'Riley': 12, 'America': 4}}\n"
     ]
    }
   ],
   "source": [
    "# How about a list? sure!\n",
    "birthdays['Erik_siblings'] = ['02/26/1994', '03/31/1999']\n",
    "print(birthdays)\n",
    "\n",
    "# Dictionaries inside dictionaries? sure! \n",
    "birthdays_by_month = {\n",
    "    # key = month, value = another dictionary with key = name, value = day of the month\n",
    "    'March': {\n",
    "        'Erik': 21\n",
    "    },\n",
    "    'July': {\n",
    "        'Isabella': 14,\n",
    "        'Riley': 12\n",
    "    }\n",
    "}\n",
    "print(birthdays_by_month)\n",
    "\n",
    "# Accessing and editing values is the same as before, just with multiple levels of keys\n",
    "print(birthdays_by_month['July']) # {'Isabella': 14, 'Riley': 12}\n",
    "print(birthdays_by_month['July']['Riley']) # 12\n",
    "\n",
    "birthdays_by_month['July']['America'] = 4\n",
    "print(birthdays_by_month)"
   ]
  },
  {
   "cell_type": "markdown",
   "id": "afraid-anaheim",
   "metadata": {},
   "source": [
    "# Deleting items from a dictionary"
   ]
  },
  {
   "cell_type": "markdown",
   "id": "hindu-virtue",
   "metadata": {},
   "source": [
    "Use the `del` operator to delete items from a dictionary. \n",
    "\n",
    "The syntax to say which item you want to delete uses the same bracket [...] notation."
   ]
  },
  {
   "cell_type": "code",
   "execution_count": 11,
   "id": "reflected-evanescence",
   "metadata": {},
   "outputs": [
    {
     "name": "stdout",
     "output_type": "stream",
     "text": [
      "{'Erik': 'January 2nd', 'Isabella': '07/14/1992', 'Deniz': '09/23/2000', 'Elliott': '08/06/2001', 'Kayla': '10/12/2002', 'Talia': '10/16/1998', 'Maricel': '11/26/2000', 'Alexis': '6/27/2000', 'Rachel': '06/15/1999', 6.5: 'January 1st', ('I am', 'a tuple'): 'January 1st', 'Erik_siblings': ['02/26/1994', '03/31/1999']}\n",
      "{'Erik': 'January 2nd', 'Isabella': '07/14/1992', 'Deniz': '09/23/2000', 'Elliott': '08/06/2001', 'Kayla': '10/12/2002', 'Talia': '10/16/1998', 'Maricel': '11/26/2000', 'Alexis': '6/27/2000', 'Rachel': '06/15/1999', 6.5: 'January 1st', ('I am', 'a tuple'): 'January 1st', 'Erik_siblings': ['02/26/1994', '03/31/1999']}\n"
     ]
    }
   ],
   "source": [
    "print(birthdays) # Before deletion\n",
    "\n",
    "# del(birthdays['Erik'], birthdays['Isabella']) # We're saying delete the key and value pair with 6.5 as the key\n",
    "\n",
    "print(birthdays)\n",
    "\n",
    "del birthdays['Kayla']"
   ]
  },
  {
   "cell_type": "markdown",
   "id": "excited-toddler",
   "metadata": {},
   "source": [
    "What happens when you try to delete an item that wasn't in the dictionary in the first place? \n",
    "\n",
    "...take a guess!"
   ]
  },
  {
   "cell_type": "code",
   "execution_count": 12,
   "id": "smoking-scenario",
   "metadata": {},
   "outputs": [],
   "source": [
    "# del birthdays['Ed']\n",
    "\n",
    "if 'Ed' in birthdays:\n",
    "    del birthdays['Ed']"
   ]
  },
  {
   "cell_type": "markdown",
   "id": "tested-metropolitan",
   "metadata": {},
   "source": [
    "\n",
    "----------------------------------------------------------------------------------------------------------------------\n"
   ]
  },
  {
   "cell_type": "markdown",
   "id": "finite-encoding",
   "metadata": {},
   "source": [
    "# Iterating over items in a dictionary"
   ]
  },
  {
   "cell_type": "markdown",
   "id": "athletic-castle",
   "metadata": {},
   "source": [
    "With lists, we say something like `for elem in my_list` or `for i in range(len(my_list))`. \n",
    "\n",
    "With dictionaries, it's a little more complicated. We iterate over the items by a) iterating through the *keys*, b) iterating through the *values* (not super common), or c) iterating through *keys and values* (most common).\n",
    "\n",
    "To illustrate this, we're going to make use of a super common example of dictionaries: keeping track of counts of things."
   ]
  },
  {
   "cell_type": "code",
   "execution_count": 13,
   "id": "postal-principle",
   "metadata": {},
   "outputs": [
    {
     "name": "stdout",
     "output_type": "stream",
     "text": [
      "{'Jan': 0, 'Feb': 0, 'Mar': 0, 'Apr': 0, 'May': 0, 'Jun': 0, 'Jul': 0, 'Aug': 0, 'Sep': 0, 'Oct': 0, 'Nov': 0, 'Dec': 0}\n"
     ]
    }
   ],
   "source": [
    "months = ['Jan', 'Feb', 'Mar', 'Apr', 'May', 'Jun', 'Jul', 'Aug', 'Sep', 'Oct', 'Nov', 'Dec']\n",
    "\n",
    "birthday_months = {} # Declaring my new dictionary\n",
    "\n",
    "# Filling in counts of 0 for each month to initialize my dictionary\n",
    "for month in months:\n",
    "    birthday_months[month] = 0\n",
    "\n",
    "print(birthday_months)"
   ]
  },
  {
   "cell_type": "code",
   "execution_count": 14,
   "id": "intended-listening",
   "metadata": {},
   "outputs": [
    {
     "name": "stdout",
     "output_type": "stream",
     "text": [
      "{'Jan': 2, 'Feb': 0, 'Mar': 0, 'Apr': 0, 'May': 0, 'Jun': 3, 'Jul': 2, 'Aug': 1, 'Sep': 2, 'Oct': 2, 'Nov': 1, 'Dec': 3}\n"
     ]
    }
   ],
   "source": [
    "# Now, we'll fill in the actual counts of birthday months in the class\n",
    "birthday_months['Jan'] = 2\n",
    "birthday_months['Feb'] = 0\n",
    "birthday_months['Mar'] = 0\n",
    "birthday_months['Apr'] = 0\n",
    "birthday_months['May'] = 0\n",
    "birthday_months['Jun'] = 3\n",
    "birthday_months['Jul'] = 2\n",
    "birthday_months['Aug'] = 1\n",
    "birthday_months['Sep'] = 2\n",
    "birthday_months['Oct'] = 2\n",
    "birthday_months['Nov'] = 1\n",
    "birthday_months['Dec'] = 3\n",
    "\n",
    "\n",
    "print(birthday_months)"
   ]
  },
  {
   "cell_type": "markdown",
   "id": "modified-grove",
   "metadata": {},
   "source": [
    "## Which month has the most birthdays??"
   ]
  },
  {
   "cell_type": "markdown",
   "id": "historical-wildlife",
   "metadata": {},
   "source": [
    "### Iterating through dictionary keys "
   ]
  },
  {
   "cell_type": "markdown",
   "id": "rough-quality",
   "metadata": {},
   "source": [
    "Use `.keys()` to fetch the keys in a dictionary. You can iterate through the dictionary keys like a list."
   ]
  },
  {
   "cell_type": "code",
   "execution_count": 15,
   "id": "minor-passport",
   "metadata": {},
   "outputs": [
    {
     "name": "stdout",
     "output_type": "stream",
     "text": [
      "dict_keys(['Jan', 'Feb', 'Mar', 'Apr', 'May', 'Jun', 'Jul', 'Aug', 'Sep', 'Oct', 'Nov', 'Dec'])\n",
      "Jan\n",
      "2\n",
      "Feb\n",
      "0\n",
      "Mar\n",
      "0\n",
      "Apr\n",
      "0\n",
      "May\n",
      "0\n",
      "Jun\n",
      "3\n",
      "Jul\n",
      "2\n",
      "Aug\n",
      "1\n",
      "Sep\n",
      "2\n",
      "Oct\n",
      "2\n",
      "Nov\n",
      "1\n",
      "Dec\n",
      "3\n",
      "Jun\n"
     ]
    }
   ],
   "source": [
    "month_keys = birthday_months.keys() # get the keys from the dictionary\n",
    "print(month_keys)\n",
    "\n",
    "for month in birthday_months.keys(): # iterate through the keys using a for loop\n",
    "    print(month)\n",
    "    print(birthday_months[month])\n",
    "    \n",
    "\n",
    "birthday_max = 0\n",
    "max_month = ''\n",
    "for month in birthday_months.keys():\n",
    "    if birthday_months[month] > birthday_max:\n",
    "        max_month = month\n",
    "        birthday_max = birthday_months[month]\n",
    "\n",
    "print(max_month)"
   ]
  },
  {
   "cell_type": "markdown",
   "id": "arctic-astronomy",
   "metadata": {},
   "source": [
    "### Iterating through dictionary values"
   ]
  },
  {
   "cell_type": "markdown",
   "id": "threaded-roots",
   "metadata": {},
   "source": [
    "Use `.values()` to fetch the values in a dictionary. You can iterate through the values this way \n",
    "(NOTE: this is not very common)."
   ]
  },
  {
   "cell_type": "code",
   "execution_count": 16,
   "id": "careful-saying",
   "metadata": {},
   "outputs": [
    {
     "name": "stdout",
     "output_type": "stream",
     "text": [
      "dict_values([2, 0, 0, 0, 0, 3, 2, 1, 2, 2, 1, 3])\n",
      "2\n",
      "0\n",
      "0\n",
      "0\n",
      "0\n",
      "3\n",
      "2\n",
      "1\n",
      "2\n",
      "2\n",
      "1\n",
      "3\n",
      "<class 'dict_values'>\n",
      "3\n",
      "Jan\n",
      "Feb\n",
      "Mar\n",
      "Apr\n",
      "May\n",
      "Jun\n",
      "Jul\n",
      "Aug\n",
      "Sep\n",
      "Oct\n",
      "Nov\n",
      "Dec\n",
      "Dec\n"
     ]
    }
   ],
   "source": [
    "month_vals = birthday_months.values()\n",
    "print(month_vals)\n",
    "\n",
    "for val in birthday_months.values():\n",
    "    print(val)\n",
    "\n",
    "print(type(birthday_months.values()))\n",
    "max_birthdays = max(birthday_months.values())\n",
    "print(max_birthdays)\n",
    "\n",
    "for month in birthday_months.keys():\n",
    "    print(month)\n",
    "    if birthday_months[month] == max_birthdays:\n",
    "        max_month = month\n",
    "print(max_month)"
   ]
  },
  {
   "cell_type": "markdown",
   "id": "surrounded-integrity",
   "metadata": {},
   "source": [
    "### Iterating through dictionaries using key-value combinations (most common) "
   ]
  },
  {
   "cell_type": "markdown",
   "id": "abstract-entertainment",
   "metadata": {},
   "source": [
    "Use `.items()` to fetch the *key-value pairs* in a dictionary. This lets you iterate over the keys and their corresponding values all at once!"
   ]
  },
  {
   "cell_type": "code",
   "execution_count": 17,
   "id": "right-mouth",
   "metadata": {},
   "outputs": [
    {
     "name": "stdout",
     "output_type": "stream",
     "text": [
      "dict_items([('Jan', 2), ('Feb', 0), ('Mar', 0), ('Apr', 0), ('May', 0), ('Jun', 3), ('Jul', 2), ('Aug', 1), ('Sep', 2), ('Oct', 2), ('Nov', 1), ('Dec', 3)])\n",
      "Jan\n",
      "2\n",
      "Feb\n",
      "0\n",
      "Mar\n",
      "0\n",
      "Apr\n",
      "0\n",
      "May\n",
      "0\n",
      "Jun\n",
      "3\n",
      "Jul\n",
      "2\n",
      "Aug\n",
      "1\n",
      "Sep\n",
      "2\n",
      "Oct\n",
      "2\n",
      "Nov\n",
      "1\n",
      "Dec\n",
      "3\n",
      "Jun\n",
      "3\n"
     ]
    }
   ],
   "source": [
    "key_vals = birthday_months.items()\n",
    "print(key_vals) # NOTE: these are tuples\n",
    "\n",
    "# Iterate through them by declaring the key and the value in the for-loop\n",
    "for key, val in birthday_months.items():\n",
    "    print(key)\n",
    "    print(val)\n",
    "\n",
    "    \n",
    "max_month = ''\n",
    "max_birthdays = 0\n",
    "for month, count in birthday_months.items():\n",
    "    if count > max_birthdays:\n",
    "        max_month = month\n",
    "        max_birthdays = count\n",
    "\n",
    "print(max_month)\n",
    "print(max_birthdays)\n",
    "\n"
   ]
  },
  {
   "cell_type": "markdown",
   "id": "extra-paris",
   "metadata": {},
   "source": [
    "\n",
    "----------------------------------------------------------------------------------------------------------------------\n"
   ]
  },
  {
   "cell_type": "markdown",
   "id": "creative-person",
   "metadata": {},
   "source": [
    "# Sorting items in a dictionary"
   ]
  },
  {
   "cell_type": "markdown",
   "id": "spatial-produce",
   "metadata": {},
   "source": [
    "One common challenge with a dictionary is to identify the smallest or largest values in the dictionary. \n",
    "\n",
    "For example, say we want to know which **3** birthday months have the most birthdays. *How can we do this?*\n",
    "\n",
    "We'll use our old friend `sorted` and a new friend, `itemgetter`."
   ]
  },
  {
   "cell_type": "markdown",
   "id": "collaborative-cisco",
   "metadata": {},
   "source": [
    "### Sorting by keys "
   ]
  },
  {
   "cell_type": "code",
   "execution_count": 18,
   "id": "armed-recipe",
   "metadata": {},
   "outputs": [
    {
     "name": "stdout",
     "output_type": "stream",
     "text": [
      "['Apr', 'Aug', 'Dec', 'Feb', 'Jan', 'Jul', 'Jun', 'Mar', 'May', 'Nov', 'Oct', 'Sep']\n",
      "[('Apr', 0), ('Aug', 1), ('Dec', 3), ('Feb', 0), ('Jan', 2), ('Jul', 2), ('Jun', 3), ('Mar', 0), ('May', 0), ('Nov', 1), ('Oct', 2), ('Sep', 2)]\n",
      "{'Jan': 2, 'Feb': 0, 'Mar': 0, 'Apr': 0, 'May': 0, 'Jun': 3, 'Jul': 2, 'Aug': 1, 'Sep': 2, 'Oct': 2, 'Nov': 1, 'Dec': 3}\n",
      "{'Apr': 0, 'Aug': 1, 'Dec': 3, 'Feb': 0, 'Jan': 2, 'Jul': 2, 'Jun': 3, 'Mar': 0, 'May': 0, 'Nov': 1, 'Oct': 2, 'Sep': 2}\n"
     ]
    }
   ],
   "source": [
    "print(sorted(birthday_months.keys()))\n",
    "print(sorted(birthday_months.items()))\n",
    "\n",
    "\n",
    "birthdays_sorted = {}\n",
    "for month, count in sorted(birthday_months.items()):\n",
    "    birthdays_sorted[month] = count\n",
    "    \n",
    "print(birthday_months)\n",
    "print(birthdays_sorted)"
   ]
  },
  {
   "cell_type": "markdown",
   "id": "beginning-radius",
   "metadata": {},
   "source": [
    "This sorts our keys alphabetically (if keys were numeric, it would be in numeric order, etc.). But that's not what we want!"
   ]
  },
  {
   "cell_type": "markdown",
   "id": "adopted-surfing",
   "metadata": {},
   "source": [
    "### Sorting by values"
   ]
  },
  {
   "cell_type": "markdown",
   "id": "headed-desire",
   "metadata": {},
   "source": [
    "To sort by values, we need to introduce a new tool in our toolbox: the `itemgetter`. \n",
    "\n",
    "We use this to tell python to sort by the *values* in our dictionary, rather than the keys."
   ]
  },
  {
   "cell_type": "code",
   "execution_count": 19,
   "id": "coordinated-transport",
   "metadata": {},
   "outputs": [
    {
     "name": "stdout",
     "output_type": "stream",
     "text": [
      "[('Feb', 0), ('Mar', 0), ('Apr', 0), ('May', 0), ('Aug', 1), ('Nov', 1), ('Jan', 2), ('Jul', 2), ('Sep', 2), ('Oct', 2), ('Jun', 3), ('Dec', 3)]\n",
      "[('Apr', 0), ('Aug', 1), ('Dec', 3), ('Feb', 0), ('Jan', 2), ('Jul', 2), ('Jun', 3), ('Mar', 0), ('May', 0), ('Nov', 1), ('Oct', 2), ('Sep', 2)]\n",
      "[('Jun', 3), ('Dec', 3), ('Jan', 2), ('Jul', 2), ('Sep', 2), ('Oct', 2), ('Aug', 1), ('Nov', 1), ('Feb', 0), ('Mar', 0), ('Apr', 0), ('May', 0)]\n",
      "<class 'list'>\n",
      "('Jun', 3)\n",
      "<class 'tuple'>\n",
      "3\n"
     ]
    }
   ],
   "source": [
    "from operator import itemgetter # this imports the itemgetter function\n",
    "\n",
    "\"\"\"\n",
    "This says: \n",
    "a. sort the items in the dictionary, \n",
    "b. but use the element at index 1 (the second element of our key-value pair) as the basis for sorting\n",
    "\"\"\"\n",
    "print(sorted(birthday_months.items(), key=itemgetter(1))) # this is sorting by value\n",
    "\n",
    "\n",
    "\n",
    "\n",
    "print(sorted(birthday_months.items(), key=itemgetter(0))) # this is the same as sorting by key above\n",
    "\n",
    "\n",
    "\n",
    "\n",
    "\n",
    "\n",
    "\n",
    "\n",
    "\n",
    "\n",
    "# We can sort in the other direction as well with reverse=True (this sorts from high to low)\n",
    "print(sorted(birthday_months.items(), key=itemgetter(1), reverse=True))\n",
    "type(sorted(birthday_months.items(), key=itemgetter(1), reverse=True)) # Note this is a list!\n",
    "\n",
    "sorted_dict = sorted(birthday_months.items(), key=itemgetter(1), reverse=True) # this is a list\n",
    "print(type(sorted_dict))\n",
    "print(sorted_dict[0]) # the first item in the list\n",
    "print(type(sorted_dict[0]))\n",
    "print(sorted_dict[0][1]) # the value at index 1 (second item) from the first item in the list"
   ]
  },
  {
   "cell_type": "code",
   "execution_count": 20,
   "id": "seventh-finland",
   "metadata": {},
   "outputs": [
    {
     "name": "stdout",
     "output_type": "stream",
     "text": [
      "{'Talia': ('10/16/1998', '3:42 AM'), 'Erik': ('3/21/1991', '2:00 AM')}\n",
      "[('Talia', ('10/16/1998', '3:42 AM')), ('Erik', ('3/21/1991', '2:00 AM'))]\n"
     ]
    }
   ],
   "source": [
    "birthday_times = {\n",
    "    'Talia': ('10/16/1998', '3:42 AM'),\n",
    "    'Erik': ('3/21/1991', '2:00 AM')\n",
    "}\n",
    "\n",
    "print(birthday_times)\n",
    "\n",
    "sorted(birthday_times.values())\n",
    "\n",
    "print(sorted(birthday_times.items(), key=itemgetter(1)))\n",
    "\n",
    "\n"
   ]
  },
  {
   "cell_type": "code",
   "execution_count": 21,
   "id": "outdoor-territory",
   "metadata": {},
   "outputs": [
    {
     "name": "stdout",
     "output_type": "stream",
     "text": [
      "[('Apr', 0), ('Aug', 1), ('Dec', 3), ('Feb', 0), ('Jan', 2), ('Jul', 2), ('Jun', 3), ('Mar', 0), ('May', 0), ('Nov', 1), ('Oct', 2), ('Sep', 2)]\n",
      "[('Apr', 0), ('Aug', 1), ('Dec', 3), ('Feb', 0), ('Jan', 2), ('Jul', 2), ('Jun', 3), ('Mar', 0), ('May', 0), ('Nov', 1), ('Oct', 2), ('Sep', 2)]\n",
      "[('Feb', 0), ('Mar', 0), ('Apr', 0), ('May', 0), ('Aug', 1), ('Nov', 1), ('Jan', 2), ('Jul', 2), ('Sep', 2), ('Oct', 2), ('Jun', 3), ('Dec', 3)]\n"
     ]
    }
   ],
   "source": [
    "print(sorted(birthday_months.items()))\n",
    "\n",
    "print(sorted(birthday_months.items(), key=itemgetter(0))) # Use the key (element 0) to sort each item\n",
    "\n",
    "print(sorted(birthday_months.items(), key=itemgetter(1))) # Use the value (element 1) to sort each item"
   ]
  },
  {
   "cell_type": "markdown",
   "id": "civil-colonial",
   "metadata": {},
   "source": [
    "**Using the tools above, what are our top three birthday months?**"
   ]
  },
  {
   "cell_type": "code",
   "execution_count": 22,
   "id": "stylish-armstrong",
   "metadata": {
    "scrolled": true
   },
   "outputs": [
    {
     "name": "stdout",
     "output_type": "stream",
     "text": [
      "['Jun', 'Dec', 'Jan']\n"
     ]
    }
   ],
   "source": [
    "top_3_months = []\n",
    "\n",
    "# Sort the items in the dictionary, by their value, from highest to lowest\n",
    "sorted_months = sorted(birthday_months.items(), key=itemgetter(1), reverse=True)\n",
    "# print(sorted_months)\n",
    "for key, value in sorted_months[0:3]:\n",
    "    top_3_months.append(key) # Add the month\n",
    "\n",
    "print(top_3_months)\n",
    "\n",
    "# for item in sorted_months[0:3]:\n",
    "#     top_3_months.append(item) # Add the month\n",
    "\n",
    "# print(top_3_months)"
   ]
  }
 ],
 "metadata": {
  "kernelspec": {
   "display_name": "Python 3",
   "language": "python",
   "name": "python3"
  },
  "language_info": {
   "codemirror_mode": {
    "name": "ipython",
    "version": 3
   },
   "file_extension": ".py",
   "mimetype": "text/x-python",
   "name": "python",
   "nbconvert_exporter": "python",
   "pygments_lexer": "ipython3",
   "version": "3.8.5"
  }
 },
 "nbformat": 4,
 "nbformat_minor": 5
}