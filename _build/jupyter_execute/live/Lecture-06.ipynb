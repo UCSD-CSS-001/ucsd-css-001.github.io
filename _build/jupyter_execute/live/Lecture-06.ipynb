{
 "cells": [
  {
   "cell_type": "markdown",
   "id": "scientific-sullivan",
   "metadata": {},
   "source": [
    "# Let's put the \"fun\" in functions! 🕺 💃"
   ]
  },
  {
   "cell_type": "markdown",
   "id": "middle-preference",
   "metadata": {},
   "source": [
    "## Today's lecture\n",
    "\n",
    "1. Why we need functions\n",
    "2. What is a function\n",
    "3. How to **construct** a function in python\n",
    "4. How to **call** a function in python\n",
    "5. Extending function definitions: how to make your functions lit 🔥\n",
    "6. Function danger zone: passing by assignment"
   ]
  },
  {
   "cell_type": "markdown",
   "id": "silent-mitchell",
   "metadata": {},
   "source": [
    "# Why we need functions\n",
    "\n",
    "1. To avoid repeating ourselves\n",
    "2. To reduce clutter (clutter makes errors!)"
   ]
  },
  {
   "cell_type": "code",
   "execution_count": 1,
   "id": "following-capital",
   "metadata": {},
   "outputs": [
    {
     "name": "stdout",
     "output_type": "stream",
     "text": [
      "Edward Vul\n",
      "Associate Professor\n",
      "Computational Social Science\n"
     ]
    }
   ],
   "source": [
    "# This code is super repetitive! \n",
    "# Repetitive code takes longer to write, is confusing, and increases your odds of making mistakes along the way\n",
    "\n",
    "\n",
    "name = \"Edward vul#$^&%\"\n",
    "title = \"associate Prof325%.6essor\"\n",
    "course = \"computational so&^%#cial SCiEnce\"\n",
    "\n",
    "\n",
    "# The below removes all non-space and non-alphanumeric characters from name, title, and course\n",
    "# Then it converts name, title, and course to \"title case\"\n",
    "\n",
    "new = ''\n",
    "for c in name:\n",
    "    if c.lower() in ' abcdefghijklmnopqrstuvwxyz':\n",
    "        new += c\n",
    "name = new.title()\n",
    "\n",
    "\n",
    "new = ''\n",
    "for c in title:\n",
    "    if c.lower() in ' abcdefghijklmnopqrstuvwxyz':\n",
    "        new += c\n",
    "title = new.title()\n",
    "\n",
    "\n",
    "\n",
    "new = ''\n",
    "for c in course:\n",
    "    if c.lower() in ' abcdefghijklmnopqrstuvwxyz':\n",
    "        new += c\n",
    "course = new.title()\n",
    "\n",
    "print(name)\n",
    "print(title)\n",
    "print(course)\n",
    "\n"
   ]
  },
  {
   "cell_type": "markdown",
   "id": "metropolitan-spirit",
   "metadata": {},
   "source": [
    "# What is a function?\n",
    "\n",
    "A function solves the problems above by isolating code that performs a particular task. It's like the Container Store for your code. \n",
    "\n",
    "Functions are used to solve problems in virtually all coding languages. Though their syntax differs across languages, they all have most of the same ingredients and are there for the same reasons: to simplify and organize.\n",
    "\n",
    "NOTE: you don't need to understand everything happening below (at first), as long as you appreciate why these functions are improving the code above."
   ]
  },
  {
   "cell_type": "code",
   "execution_count": 2,
   "id": "genetic-peter",
   "metadata": {},
   "outputs": [
    {
     "name": "stdout",
     "output_type": "stream",
     "text": [
      "Edward Vul\n",
      "Associate Professor\n",
      "Computational Social Science\n"
     ]
    }
   ],
   "source": [
    "# This code does the exact same thing as the repetitive code above. But it's much easier to understand!\n",
    "\n",
    "name = \"Edward vul#$^&%\"\n",
    "title = \"associate Prof325%.6essor\"\n",
    "course = \"computational so&^%#cial SCiEnce\"\n",
    "\n",
    "# This is our new function!\n",
    "def cleanString(string):\n",
    "    new = ''\n",
    "    for c in string:\n",
    "        if c.lower() in ' abcdefghijklmnopqrstuvwxyz':\n",
    "            new += c\n",
    "    string = new.title()\n",
    "    return string\n",
    "\n",
    "\n",
    "\n",
    "name = cleanString(name)\n",
    "title = cleanString(title)\n",
    "course = cleanString(course)\n",
    "\n",
    "\n",
    "print(name)\n",
    "print(title)\n",
    "print(course)\n",
    "\n"
   ]
  },
  {
   "cell_type": "markdown",
   "id": "chicken-sperm",
   "metadata": {},
   "source": [
    "\n",
    "\n",
    "----------------------------------------------------------------------------------------------------------------------\n",
    "\n"
   ]
  },
  {
   "cell_type": "markdown",
   "id": "athletic-warrior",
   "metadata": {},
   "source": [
    "# How to construct a function in python"
   ]
  },
  {
   "cell_type": "markdown",
   "id": "considerable-imagination",
   "metadata": {},
   "source": [
    "## Recipe for a python function\n",
    "\n",
    "**Ingredients**\n",
    "\n",
    "- `def` tells python that you're declaring a function (it's short for \"define\")\n",
    "- `my_function` or some other **name**: that's how the rest of your code will \"call\" the function. NOTE: there's a lot more to say about naming but your function name should say exactly what your function *does*. The python style guide recommends underscores and lowercase.\n",
    "- `()` and `:` at the end of the function name: the parentheses `()` are where you declare any *parameters* your function needs (more on this later) and the colon `:` is similar to when we use it in for loops. It tells python that everything after that is part of your function.\n",
    "- `return`: this is where your function gives you back the thing it has organized for you. NOTE: not all functions have a `return` (it's not required like the colon `:`), but in practice, most functions will return something."
   ]
  },
  {
   "cell_type": "code",
   "execution_count": 3,
   "id": "noted-reading",
   "metadata": {},
   "outputs": [
    {
     "name": "stdout",
     "output_type": "stream",
     "text": [
      "Hello, world\n"
     ]
    }
   ],
   "source": [
    "# Here's an example using all the ingredients above\n",
    "# This function returns the string \"Hello world\"\n",
    "\n",
    "def get_hello_world_string():\n",
    "    my_str = \"Hello, world\"\n",
    "    return my_str\n",
    "\n",
    "print(get_hello_world_string())"
   ]
  },
  {
   "cell_type": "code",
   "execution_count": 4,
   "id": "medical-affair",
   "metadata": {},
   "outputs": [
    {
     "name": "stdout",
     "output_type": "stream",
     "text": [
      "Hello, world\n",
      "<class 'str'>\n",
      "yello, world\n"
     ]
    }
   ],
   "source": [
    "# When I call the function above, I get back the string \"Hello, world\"\n",
    "foo = get_hello_world_string()\n",
    "\n",
    "print(foo)\n",
    "print(type(foo))\n",
    "foo = foo.replace('H', 'y')\n",
    "print(foo)"
   ]
  },
  {
   "cell_type": "markdown",
   "id": "modern-failure",
   "metadata": {},
   "source": [
    "**Here's a more complicated example of life in Function Land.**\n",
    "\n",
    "Instead of just returning a string, the function below reads in a series of data files from an online experiment. It processes that data, removes stuff it doesn't need, and saves the data to a dictionary.\n",
    "The function returns the dictionary with all the experimental data in it.\n",
    "\n",
    "NOTE: you don't need to understand what's happening below, this is just to illustrate what a function like `get_hello_world_string` above looks like in more realistic settings. \n",
    "\n",
    "Here, you can see all the same ingredients as in the example above, just with more additional seasoning (incl. familiar characters like `for` loops and `split`)"
   ]
  },
  {
   "cell_type": "code",
   "execution_count": 5,
   "id": "cardiovascular-flesh",
   "metadata": {},
   "outputs": [],
   "source": [
    "def get_data():\n",
    "    data_path = \"rps/data\" # path to data files\n",
    "    files = [f for f in listdir(data_path) if f.endswith(\".json\")]\n",
    "    files.sort()\n",
    "    # read JSON file contents and add data to all_data dict\n",
    "    all_data = dict()\n",
    "    for f in files:\n",
    "        with io.open(join(data_path, f), \"r\", encoding = \"utf-8\", errors = \"ignore\") as readfile:\n",
    "            f_split = f.split(\"_\")\n",
    "            client_id = f_split[0]\n",
    "            if client_id[-4:] in [\"f99a\"]:\n",
    "                continue\n",
    "            trial = f_split[1].split(\".\")[0]\n",
    "            content = readfile.read()\n",
    "            parsed_data = json.loads(content)\n",
    "            all_data[\"client_\" + client_id][\"trial_\" + trial] = parsed_data\n",
    "\n",
    "    return all_data"
   ]
  },
  {
   "cell_type": "markdown",
   "id": "protected-cycling",
   "metadata": {},
   "source": [
    "## Adding parameters to your functions\n",
    "\n",
    "Often, we use functions to manipulate variables like dictionaries that exist *outside* the function. Or, we want to be able to use the function in a few different ways to avoid writing repetitive (but slightly different) code. \n",
    "\n",
    "For this, we need **parameters** in our functions. A parameter is a variable you \"pass into\" your function to allow your function to \"access\" it during its execution. In other words, it's an object or a piece of information your function needs in order to do its job.\n",
    "\n",
    "In python functions, you declare your parameters inside the parentheses `()` at the beginning of your function declaration.\n",
    "\n",
    "**You should pass in parameters for *any* information the function is going to need to execute.**"
   ]
  },
  {
   "cell_type": "code",
   "execution_count": 6,
   "id": "alleged-arthritis",
   "metadata": {},
   "outputs": [],
   "source": [
    "# Here's an example of a function that needs parameters in order to avoid repetitive code\n",
    "# The parameters are `numerator` and `denominator` inside the parentheses\n",
    "\n",
    "def safe_divide(numerator, denominator):\n",
    "    if denominator != 0 and isinstance(numerator, (int, float)) and isinstance(denominator, (int, float)):\n",
    "        return numerator / denominator\n",
    "    else:\n",
    "        return None\n"
   ]
  },
  {
   "cell_type": "markdown",
   "id": "tamil-mississippi",
   "metadata": {},
   "source": [
    "Note, the function above has **more than one** `return` statement. That's A-okay! \n",
    "\n",
    "Functions can return different things under different conditions. That's part of what makes them useful."
   ]
  },
  {
   "cell_type": "code",
   "execution_count": 7,
   "id": "thick-disclosure",
   "metadata": {},
   "outputs": [
    {
     "name": "stdout",
     "output_type": "stream",
     "text": [
      "0.4\n",
      "2.5\n",
      "None\n",
      "None\n"
     ]
    },
    {
     "ename": "ZeroDivisionError",
     "evalue": "division by zero",
     "output_type": "error",
     "traceback": [
      "\u001b[0;31m---------------------------------------------------------------------------\u001b[0m",
      "\u001b[0;31mZeroDivisionError\u001b[0m                         Traceback (most recent call last)",
      "\u001b[0;32m<ipython-input-7-e473bbdb916f>\u001b[0m in \u001b[0;36m<module>\u001b[0;34m\u001b[0m\n\u001b[1;32m      7\u001b[0m \u001b[0;34m\u001b[0m\u001b[0m\n\u001b[1;32m      8\u001b[0m \u001b[0;31m# And, if I'm calling this function in lots of places, I don't have to worry about division errors\u001b[0m\u001b[0;34m\u001b[0m\u001b[0;34m\u001b[0m\u001b[0;34m\u001b[0m\u001b[0m\n\u001b[0;32m----> 9\u001b[0;31m \u001b[0mprint\u001b[0m\u001b[0;34m(\u001b[0m\u001b[0;36m5\u001b[0m \u001b[0;34m/\u001b[0m \u001b[0;36m0\u001b[0m\u001b[0;34m)\u001b[0m\u001b[0;34m\u001b[0m\u001b[0;34m\u001b[0m\u001b[0m\n\u001b[0m",
      "\u001b[0;31mZeroDivisionError\u001b[0m: division by zero"
     ]
    }
   ],
   "source": [
    "# Now, I can use the function above to divide any set of numbers by passing those numbers in as parameters\n",
    "# This avoids repetitive code! \n",
    "print(safe_divide(2, 5))\n",
    "print(safe_divide(5, 2))\n",
    "print(safe_divide(5, 0))\n",
    "print(safe_divide(2, '2'))\n",
    "\n",
    "# And, if I'm calling this function in lots of places, I don't have to worry about division errors\n",
    "print(5 / 0)"
   ]
  },
  {
   "cell_type": "markdown",
   "id": "saving-argentina",
   "metadata": {},
   "source": [
    "\n",
    "\n",
    "----------------------------------------------------------------------------------------------------------------------\n",
    "\n"
   ]
  },
  {
   "cell_type": "markdown",
   "id": "bridal-relationship",
   "metadata": {},
   "source": [
    "## How to call a function in python "
   ]
  },
  {
   "cell_type": "markdown",
   "id": "removable-westminster",
   "metadata": {},
   "source": [
    "You've already seen this in the examples above, but here we'll walk through it explicitly.\n",
    "\n",
    "To execute a function in python, you call the function's name with parentheses `()` afterwards.\n",
    "\n",
    "NOTE: if the function returns a variable (a string, a dictionary, etc.), you need to declare a variable that stores the value that the function is returning for you."
   ]
  },
  {
   "cell_type": "code",
   "execution_count": 8,
   "id": "acknowledged-metabolism",
   "metadata": {},
   "outputs": [
    {
     "name": "stdout",
     "output_type": "stream",
     "text": [
      "Hello, world\n",
      "Hello, students\n"
     ]
    }
   ],
   "source": [
    "# Same fxn as above\n",
    "def get_hello_world_string():\n",
    "    return \"Hello, world\"\n",
    "\n",
    "\n",
    "# Bad: this calls the function, but there's no variable to store the string that gets returned\n",
    "get_hello_world_string()\n",
    "\n",
    "# Good: this calls the function and stores the string that gets returned by it in a variable called `greeting`\n",
    "greeting = get_hello_world_string()\n",
    "print(greeting)\n",
    "\n",
    "# That way you can do other stuff with the return value\n",
    "greeting = greeting.replace('world', 'students')\n",
    "# greeting = 7\n",
    "print(greeting)"
   ]
  },
  {
   "cell_type": "markdown",
   "id": "canadian-trainer",
   "metadata": {},
   "source": [
    "**WARNING:** if you don't include the parentheses `()` when you call the function, python thinks you're asking for the function itself, rather than trying to execute it."
   ]
  },
  {
   "cell_type": "code",
   "execution_count": 9,
   "id": "chronic-fighter",
   "metadata": {},
   "outputs": [
    {
     "name": "stdout",
     "output_type": "stream",
     "text": [
      "<function get_hello_world_string at 0x7fde68226ee0>\n"
     ]
    }
   ],
   "source": [
    "# Bad: no parentheses\n",
    "greeting = get_hello_world_string\n",
    "\n",
    "# Watch what happens when we print\n",
    "print(greeting)"
   ]
  },
  {
   "cell_type": "markdown",
   "id": "saved-things",
   "metadata": {},
   "source": [
    "### Calling functions with parameters\n",
    "\n",
    "When the function expects parameters, you need to include those inside the parentheses `(param1, param2)` when you call the function."
   ]
  },
  {
   "cell_type": "code",
   "execution_count": 10,
   "id": "raising-continent",
   "metadata": {},
   "outputs": [
    {
     "name": "stdout",
     "output_type": "stream",
     "text": [
      "3.1415929203539825\n"
     ]
    },
    {
     "ename": "TypeError",
     "evalue": "safe_divide() missing 2 required positional arguments: 'numerator' and 'denominator'",
     "output_type": "error",
     "traceback": [
      "\u001b[0;31m---------------------------------------------------------------------------\u001b[0m",
      "\u001b[0;31mTypeError\u001b[0m                                 Traceback (most recent call last)",
      "\u001b[0;32m<ipython-input-10-26b084c4bbf0>\u001b[0m in \u001b[0;36m<module>\u001b[0;34m\u001b[0m\n\u001b[1;32m      7\u001b[0m \u001b[0;34m\u001b[0m\u001b[0m\n\u001b[1;32m      8\u001b[0m \u001b[0;31m# Bad: when you don't include parameters in your function call, python has a meltdown\u001b[0m\u001b[0;34m\u001b[0m\u001b[0;34m\u001b[0m\u001b[0;34m\u001b[0m\u001b[0m\n\u001b[0;32m----> 9\u001b[0;31m \u001b[0mpi_approx\u001b[0m \u001b[0;34m=\u001b[0m \u001b[0msafe_divide\u001b[0m\u001b[0;34m(\u001b[0m\u001b[0;34m)\u001b[0m\u001b[0;34m\u001b[0m\u001b[0;34m\u001b[0m\u001b[0m\n\u001b[0m",
      "\u001b[0;31mTypeError\u001b[0m: safe_divide() missing 2 required positional arguments: 'numerator' and 'denominator'"
     ]
    }
   ],
   "source": [
    "# Good: including parameters inside the parentheses\n",
    "pi_approx = safe_divide(355, 113)\n",
    "print(pi_approx) \n",
    "# # Fun fact: 355/113 is the best rational approximation of pi with a denominator less than 30,000!\n",
    "\n",
    "\n",
    "\n",
    "# Bad: when you don't include parameters in your function call, python has a meltdown\n",
    "pi_approx = safe_divide()"
   ]
  },
  {
   "cell_type": "markdown",
   "id": "acquired-reception",
   "metadata": {},
   "source": [
    "### Using parameter names in your function call\n",
    "\n",
    "In addition to the above, you can also use the parameter names themselves when you call a function. \n",
    "\n",
    "*Why do this?* It means you don't have to worry about the order of the parameters in the function call."
   ]
  },
  {
   "cell_type": "code",
   "execution_count": 11,
   "id": "explicit-greenhouse",
   "metadata": {},
   "outputs": [
    {
     "name": "stdout",
     "output_type": "stream",
     "text": [
      "3.1415929203539825\n",
      "0.3183098591549296\n",
      "\n",
      "\n",
      "\n",
      "3.1415929203539825\n",
      "3.1415929203539825\n",
      "\n",
      "\n",
      "\n",
      "[('c', 3), ('b', 2), ('a', 1)]\n"
     ]
    },
    {
     "ename": "TypeError",
     "evalue": "sorted expected 1 argument, got 3",
     "output_type": "error",
     "traceback": [
      "\u001b[0;31m---------------------------------------------------------------------------\u001b[0m",
      "\u001b[0;31mTypeError\u001b[0m                                 Traceback (most recent call last)",
      "\u001b[0;32m<ipython-input-11-3ddc26c47f9c>\u001b[0m in \u001b[0;36m<module>\u001b[0;34m\u001b[0m\n\u001b[1;32m     26\u001b[0m \u001b[0mmy_sorted_map\u001b[0m \u001b[0;34m=\u001b[0m \u001b[0msorted\u001b[0m\u001b[0;34m(\u001b[0m\u001b[0mmy_map\u001b[0m\u001b[0;34m.\u001b[0m\u001b[0mitems\u001b[0m\u001b[0;34m(\u001b[0m\u001b[0;34m)\u001b[0m\u001b[0;34m,\u001b[0m \u001b[0mkey\u001b[0m\u001b[0;34m=\u001b[0m\u001b[0mitemgetter\u001b[0m\u001b[0;34m(\u001b[0m\u001b[0;36m1\u001b[0m\u001b[0;34m)\u001b[0m\u001b[0;34m,\u001b[0m \u001b[0mreverse\u001b[0m\u001b[0;34m=\u001b[0m\u001b[0;32mTrue\u001b[0m\u001b[0;34m)\u001b[0m\u001b[0;34m\u001b[0m\u001b[0;34m\u001b[0m\u001b[0m\n\u001b[1;32m     27\u001b[0m \u001b[0mprint\u001b[0m\u001b[0;34m(\u001b[0m\u001b[0mmy_sorted_map\u001b[0m\u001b[0;34m)\u001b[0m\u001b[0;34m\u001b[0m\u001b[0;34m\u001b[0m\u001b[0m\n\u001b[0;32m---> 28\u001b[0;31m \u001b[0mmy_sorted_map\u001b[0m \u001b[0;34m=\u001b[0m \u001b[0msorted\u001b[0m\u001b[0;34m(\u001b[0m\u001b[0mmy_map\u001b[0m\u001b[0;34m.\u001b[0m\u001b[0mitems\u001b[0m\u001b[0;34m(\u001b[0m\u001b[0;34m)\u001b[0m\u001b[0;34m,\u001b[0m \u001b[0mitemgetter\u001b[0m\u001b[0;34m(\u001b[0m\u001b[0;36m1\u001b[0m\u001b[0;34m)\u001b[0m\u001b[0;34m,\u001b[0m \u001b[0;32mTrue\u001b[0m\u001b[0;34m)\u001b[0m\u001b[0;34m\u001b[0m\u001b[0;34m\u001b[0m\u001b[0m\n\u001b[0m",
      "\u001b[0;31mTypeError\u001b[0m: sorted expected 1 argument, got 3"
     ]
    }
   ],
   "source": [
    "# When I don't include the parameter names, python assigns them in the order that matches the function \"declaration\"\n",
    "yes_pi = safe_divide(355, 113)\n",
    "no_pi = safe_divide(113, 355)\n",
    "# The above will give me two different values because of the order of the parameters in the function calls\n",
    "print(yes_pi)\n",
    "print(no_pi)\n",
    "print('\\n\\n')\n",
    "\n",
    "\n",
    "# The below avoids this problem by using the parameter names inside the function call. \n",
    "# Now, the order of the paramters doesn't matter!\n",
    "more_pi = safe_divide(numerator=355, denominator=113)\n",
    "also_pi = safe_divide(denominator=113, numerator=355)\n",
    "print(more_pi)\n",
    "print(also_pi)\n",
    "print('\\n\\n')\n",
    "\n",
    "\n",
    "# But, be careful. If you include the parameter names in the function call, they need to match exactly!\n",
    "# error_pi = safe_divide(numerator=355, denom=113)\n",
    "\n",
    "\n",
    "# Use parameter names when it's helpful for you or another person looking at your code later\n",
    "from operator import itemgetter\n",
    "my_map = {'a': 1, 'b': 2, 'c': 3}\n",
    "my_sorted_map = sorted(my_map.items(), key=itemgetter(1), reverse=True)\n",
    "print(my_sorted_map)\n",
    "my_sorted_map = sorted(my_map.items(), itemgetter(1), True)"
   ]
  },
  {
   "cell_type": "markdown",
   "id": "daily-pilot",
   "metadata": {},
   "source": [
    "\n",
    "\n",
    "----------------------------------------------------------------------------------------------------------------------\n",
    "\n"
   ]
  },
  {
   "cell_type": "markdown",
   "id": "standing-tracy",
   "metadata": {},
   "source": [
    "# Extending function definitions\n",
    "\n",
    "Now that you've got the basics, there are two additional things you might need when declaring functions: **parameter defaults** and **variable arguments**."
   ]
  },
  {
   "cell_type": "markdown",
   "id": "precious-reception",
   "metadata": {},
   "source": [
    "## Adding defaults to your parameters\n",
    "\n",
    "A **default value** is the value that python assigns to your *function parameters* if the function call doesn't include a value for that parameter.\n",
    "\n",
    "*Why do this?*\n",
    "- Assigning default values for your parameters lets somebody call your function without having to know what all the parameters do. \n",
    "- It's also useful when your function *usually* runs in a certain way and the parameters are just there for extra flexibility.\n",
    "\n",
    "**To include a default parameter value, use `=` after the parameter in your function declaration.**"
   ]
  },
  {
   "cell_type": "code",
   "execution_count": 12,
   "id": "turned-durham",
   "metadata": {},
   "outputs": [
    {
     "name": "stdout",
     "output_type": "stream",
     "text": [
      "9\n",
      "8\n"
     ]
    }
   ],
   "source": [
    "\"\"\"\n",
    "In the function below, we return base^exp.\n",
    "However, the most common case of raising a number to an exponent is squaring it.\n",
    "So we set the DEFAULT VALUE for the `exp` parameter to be 2.\n",
    "\"\"\"\n",
    "def power(base, exp=2):\n",
    "    return base ** exp\n",
    "\n",
    "\n",
    "# Now when I call the `power` function, I only need to provide the `base` parameter. \n",
    "print(power(3)) # when I don't provide an `exp` parameter value, the `power` function uses the default of 2\n",
    "\n",
    "\n",
    "# But, I can still call this function just like any other with a `base` AND an `exp` parameter value.\n",
    "print(power(2, 3)) # when I provide both parameters, the `power` function uses the values I gave it and ignores the default\n",
    "\n",
    "\n",
    "# print(power(2, base=2))"
   ]
  },
  {
   "cell_type": "markdown",
   "id": "stable-skill",
   "metadata": {},
   "source": [
    "## Adding variable arguments\n",
    "\n",
    "A parameter with a **variable number of arguments** lets you declare functions that take in an arbitrary number of parameter values. \n",
    "\n",
    "*Why do this?*\n",
    "- This isn't *super common*, but it can be useful when you're writing a function that may operate over an unspecified number of values or items\n",
    "\n",
    "**To include a variable argument parameter, use `*` before the parameter name in your function declaration**"
   ]
  },
  {
   "cell_type": "code",
   "execution_count": 13,
   "id": "missing-miller",
   "metadata": {},
   "outputs": [
    {
     "name": "stdout",
     "output_type": "stream",
     "text": [
      "hello hi I'm a dog I follow you everywher please pet me\n"
     ]
    }
   ],
   "source": [
    "# Here's an example of a function you've seen already that uses this\n",
    "print('hello', 'hi', 'I\\'m a dog', 'I follow you everywher', 'please pet me')\n"
   ]
  },
  {
   "cell_type": "code",
   "execution_count": 14,
   "id": "sticky-irrigation",
   "metadata": {},
   "outputs": [
    {
     "name": "stdout",
     "output_type": "stream",
     "text": [
      "2\n",
      "3\n",
      "100\n",
      "None\n",
      "\n",
      "\n",
      "\n",
      "1601\n",
      "1601\n"
     ]
    },
    {
     "ename": "TypeError",
     "evalue": "'>' not supported between instances of 'NoneType' and 'int'",
     "output_type": "error",
     "traceback": [
      "\u001b[0;31m---------------------------------------------------------------------------\u001b[0m",
      "\u001b[0;31mTypeError\u001b[0m                                 Traceback (most recent call last)",
      "\u001b[0;32m<ipython-input-14-be158947f363>\u001b[0m in \u001b[0;36m<module>\u001b[0;34m\u001b[0m\n\u001b[1;32m     24\u001b[0m \u001b[0mprint\u001b[0m\u001b[0;34m(\u001b[0m\u001b[0msafe_max\u001b[0m\u001b[0;34m(\u001b[0m\u001b[0;36m1600\u001b[0m\u001b[0;34m,\u001b[0m \u001b[0;36m1601\u001b[0m\u001b[0;34m,\u001b[0m \u001b[0;32mNone\u001b[0m\u001b[0;34m)\u001b[0m\u001b[0;34m)\u001b[0m\u001b[0;34m\u001b[0m\u001b[0;34m\u001b[0m\u001b[0m\n\u001b[1;32m     25\u001b[0m \u001b[0mprint\u001b[0m\u001b[0;34m(\u001b[0m\u001b[0msafe_max\u001b[0m\u001b[0;34m(\u001b[0m\u001b[0;36m1600\u001b[0m\u001b[0;34m,\u001b[0m \u001b[0;36m1601\u001b[0m\u001b[0;34m,\u001b[0m \u001b[0;34m'c'\u001b[0m\u001b[0;34m)\u001b[0m\u001b[0;34m)\u001b[0m\u001b[0;34m\u001b[0m\u001b[0;34m\u001b[0m\u001b[0m\n\u001b[0;32m---> 26\u001b[0;31m \u001b[0mprint\u001b[0m\u001b[0;34m(\u001b[0m\u001b[0mmax\u001b[0m\u001b[0;34m(\u001b[0m\u001b[0;36m1600\u001b[0m\u001b[0;34m,\u001b[0m \u001b[0;36m1601\u001b[0m\u001b[0;34m,\u001b[0m \u001b[0;32mNone\u001b[0m\u001b[0;34m)\u001b[0m\u001b[0;34m)\u001b[0m\u001b[0;34m\u001b[0m\u001b[0;34m\u001b[0m\u001b[0m\n\u001b[0m",
      "\u001b[0;31mTypeError\u001b[0m: '>' not supported between instances of 'NoneType' and 'int'"
     ]
    }
   ],
   "source": [
    "\"\"\"\n",
    "In the function below, we find the maximum value among a set of 0 or more *args\n",
    "We check that each element in *args is actually a number and ignore it if it isn't\n",
    "\"\"\"\n",
    "def safe_max(*args):\n",
    "    max_val = float('-inf')\n",
    "    if args:\n",
    "        for arg in args: # NOTE we can iterate over the *args values just like a list! Neat!\n",
    "            if isinstance(arg, (int, float)) and arg > max_val:\n",
    "                max_val = arg\n",
    "        return max_val\n",
    "    else:\n",
    "        return None\n",
    "\n",
    "\n",
    "# Now, I can call the safe_max function with any number of different parameter values passed in\n",
    "print(safe_max(2))\n",
    "print(safe_max(2, 3))\n",
    "print(safe_max(2, 3, 5, -10, 100))\n",
    "print(safe_max())\n",
    "print('\\n\\n')\n",
    "\n",
    "# I can even pass in nonsense values because of the checks in my function, which is better than the default `max`\n",
    "print(safe_max(1600, 1601, None))\n",
    "print(safe_max(1600, 1601, 'c'))\n",
    "print(max(1600, 1601, None))"
   ]
  },
  {
   "cell_type": "markdown",
   "id": "personal-description",
   "metadata": {},
   "source": [
    "**NOTE:** Variable argument parameters aren't the only way to pass in multiple things. You can also just pass in whole lists or dictionaries as parameters for similar effect (example below)."
   ]
  },
  {
   "cell_type": "code",
   "execution_count": 15,
   "id": "single-serve",
   "metadata": {},
   "outputs": [
    {
     "name": "stdout",
     "output_type": "stream",
     "text": [
      "{'sagittarius': 3, 'gemini': 2, 'leo': 2, 'cancer': 1, 'aquarius': 1}\n",
      "{'sagittarius': 3, 'gemini': 2, 'leo': 2, 'cancer': 1, 'aquarius': 1}\n"
     ]
    }
   ],
   "source": [
    "\n",
    "\n",
    "def get_dictionary_max(input_dict):\n",
    "    return dict(sorted(input_dict.items(), key=itemgetter(1), reverse=True))\n",
    "\n",
    "\n",
    "\n",
    "count_dict = {\n",
    "    'cancer': 1,\n",
    "    'aquarius': 1,\n",
    "    'gemini': 2,\n",
    "    'leo': 2,\n",
    "    'sagittarius': 3\n",
    "}\n",
    "\n",
    "# Here, we're passing in the whole dictionary as a parameter. This is super common.\n",
    "sorted_counts = get_dictionary_max(count_dict)\n",
    "print(sorted_counts)\n",
    "\n",
    "# Here, we're actually constructing the dictionary when we call the function! \n",
    "# This is not super common but it's an option.\n",
    "sorted_counts = get_dictionary_max(\n",
    "    {\n",
    "        'cancer': 1,\n",
    "        'aquarius': 1,\n",
    "        'gemini': 2,\n",
    "        'leo': 2,\n",
    "        'sagittarius': 3\n",
    "    }\n",
    ")\n",
    "print(sorted_counts)\n",
    "\n",
    "\n",
    "\n"
   ]
  },
  {
   "cell_type": "code",
   "execution_count": null,
   "id": "strategic-laundry",
   "metadata": {},
   "outputs": [],
   "source": []
  },
  {
   "cell_type": "markdown",
   "id": "complex-canon",
   "metadata": {},
   "source": [
    "\n",
    "\n",
    "----------------------------------------------------------------------------------------------------------------------\n",
    "\n"
   ]
  },
  {
   "cell_type": "markdown",
   "id": "included-immunology",
   "metadata": {},
   "source": [
    "# 🚨 Function Danger Zone: passing by assignment 🚨"
   ]
  },
  {
   "cell_type": "markdown",
   "id": "cooked-youth",
   "metadata": {},
   "source": [
    "### Quick aside: are function parameters the same as variables outside the function?\n",
    "\n",
    "Most coding languages make a distinction between passing variables **by reference** and passing variables **by value**.\n",
    "- Passing variables by reference means you pass *that exact variable* into the function. Any changes to the variable inside the function change the variable everywhere.\n",
    "- Passing variables by value means you pass *the value of that variable* into the function, essentially making a copy of the variable. Any changes to the variable inside the function only change the copy, but not the variable itself.\n",
    "\n",
    "*So what does python do?*\n",
    "- python actually takes a third course, called passing variables **by assignment**. There's a nice explanation of how this works at the link below. \n",
    "- All you need to know is that changes to variables inside functions will typically change the variable *everywhere* if the variable is *mutable* and will only change it *inside the function* if it's *immutable*.\n",
    "\n",
    "passing by assigment: https://medium.com/school-of-code/passing-by-assignment-in-python-7c829a2df10a"
   ]
  },
  {
   "cell_type": "markdown",
   "id": "together-zealand",
   "metadata": {},
   "source": [
    "To see this in action, take a look at the below. "
   ]
  },
  {
   "cell_type": "code",
   "execution_count": 16,
   "id": "beginning-winner",
   "metadata": {},
   "outputs": [
    {
     "name": "stdout",
     "output_type": "stream",
     "text": [
      "24\n",
      "12\n"
     ]
    }
   ],
   "source": [
    "# What will the two print statements below print out (what numbers)?\n",
    "\n",
    "a = 12\n",
    "\n",
    "def fun(x):\n",
    "    x += a\n",
    "    print(x)\n",
    "\n",
    "\n",
    "fun(a)\n",
    "\n",
    "print(a)"
   ]
  },
  {
   "cell_type": "markdown",
   "id": "iraqi-preparation",
   "metadata": {},
   "source": [
    "In the function above, the parameter `x` essentially gets a *copy* of `a`. Changes to `x` inside the function **do not** change `a`. This is what passing by value looks like."
   ]
  },
  {
   "cell_type": "code",
   "execution_count": 17,
   "id": "conventional-gardening",
   "metadata": {},
   "outputs": [
    {
     "name": "stdout",
     "output_type": "stream",
     "text": [
      "[12, 3]\n",
      "[12, 3]\n"
     ]
    }
   ],
   "source": [
    "# What will the two print statements below print out?\n",
    "\n",
    "a = [12]\n",
    "\n",
    "def fun(x):\n",
    "    x.append(3)\n",
    "#     x[0] += 3 # same idea\n",
    "    print(x)\n",
    "\n",
    "\n",
    "fun(a)\n",
    "\n",
    "print(a)"
   ]
  },
  {
   "cell_type": "markdown",
   "id": "lesser-economics",
   "metadata": {},
   "source": [
    "The function above is really similar to the first one, but now, changes to the parameter `x` inside the function **do** change `a`. This is what passing by reference looks like.\n",
    "\n",
    "The difference is that since lists are **mutable**, they behave like passing by reference. Since the int in the first function is **immutable**, passing it to a function is more like passing by value."
   ]
  },
  {
   "cell_type": "markdown",
   "id": "universal-fellowship",
   "metadata": {},
   "source": [
    "To see how tricky this stuff can be, take a look at the function below. *What do you think will happen?*"
   ]
  },
  {
   "cell_type": "code",
   "execution_count": 18,
   "id": "explicit-consciousness",
   "metadata": {},
   "outputs": [
    {
     "name": "stdout",
     "output_type": "stream",
     "text": [
      "12 36\n"
     ]
    }
   ],
   "source": [
    "# What will this print statement say?\n",
    "a = 12\n",
    "\n",
    "def fun(x):\n",
    "    x += 2*a\n",
    "    print(a, x)\n",
    "\n",
    "fun(a)"
   ]
  },
  {
   "cell_type": "markdown",
   "id": "shaped-institute",
   "metadata": {},
   "source": [
    "*What about this one?*"
   ]
  },
  {
   "cell_type": "code",
   "execution_count": 19,
   "id": "prompt-breast",
   "metadata": {},
   "outputs": [
    {
     "ename": "UnboundLocalError",
     "evalue": "local variable 'a' referenced before assignment",
     "output_type": "error",
     "traceback": [
      "\u001b[0;31m---------------------------------------------------------------------------\u001b[0m",
      "\u001b[0;31mUnboundLocalError\u001b[0m                         Traceback (most recent call last)",
      "\u001b[0;32m<ipython-input-19-29aaf8915424>\u001b[0m in \u001b[0;36m<module>\u001b[0;34m\u001b[0m\n\u001b[1;32m      6\u001b[0m     \u001b[0mprint\u001b[0m\u001b[0;34m(\u001b[0m\u001b[0ma\u001b[0m\u001b[0;34m,\u001b[0m \u001b[0mx\u001b[0m\u001b[0;34m)\u001b[0m\u001b[0;34m\u001b[0m\u001b[0;34m\u001b[0m\u001b[0m\n\u001b[1;32m      7\u001b[0m \u001b[0;34m\u001b[0m\u001b[0m\n\u001b[0;32m----> 8\u001b[0;31m \u001b[0mfun\u001b[0m\u001b[0;34m(\u001b[0m\u001b[0ma\u001b[0m\u001b[0;34m)\u001b[0m\u001b[0;34m\u001b[0m\u001b[0;34m\u001b[0m\u001b[0m\n\u001b[0m",
      "\u001b[0;32m<ipython-input-19-29aaf8915424>\u001b[0m in \u001b[0;36mfun\u001b[0;34m(x)\u001b[0m\n\u001b[1;32m      3\u001b[0m \u001b[0;34m\u001b[0m\u001b[0m\n\u001b[1;32m      4\u001b[0m \u001b[0;32mdef\u001b[0m \u001b[0mfun\u001b[0m\u001b[0;34m(\u001b[0m\u001b[0mx\u001b[0m\u001b[0;34m)\u001b[0m\u001b[0;34m:\u001b[0m\u001b[0;34m\u001b[0m\u001b[0;34m\u001b[0m\u001b[0m\n\u001b[0;32m----> 5\u001b[0;31m     \u001b[0ma\u001b[0m \u001b[0;34m+=\u001b[0m \u001b[0;36m2\u001b[0m\u001b[0;34m*\u001b[0m\u001b[0mx\u001b[0m\u001b[0;34m\u001b[0m\u001b[0;34m\u001b[0m\u001b[0m\n\u001b[0m\u001b[1;32m      6\u001b[0m     \u001b[0mprint\u001b[0m\u001b[0;34m(\u001b[0m\u001b[0ma\u001b[0m\u001b[0;34m,\u001b[0m \u001b[0mx\u001b[0m\u001b[0;34m)\u001b[0m\u001b[0;34m\u001b[0m\u001b[0;34m\u001b[0m\u001b[0m\n\u001b[1;32m      7\u001b[0m \u001b[0;34m\u001b[0m\u001b[0m\n",
      "\u001b[0;31mUnboundLocalError\u001b[0m: local variable 'a' referenced before assignment"
     ]
    }
   ],
   "source": [
    "# What will this print statement say?\n",
    "a = 12\n",
    "\n",
    "def fun(x):\n",
    "    a += 2*x\n",
    "    print(a, x)\n",
    "\n",
    "fun(a)"
   ]
  },
  {
   "cell_type": "markdown",
   "id": "wound-mission",
   "metadata": {},
   "source": [
    "This is really similar to the function above it! *Why did this one have a problem?*\n",
    "\n",
    "In this case, python doesn't think we're talking about the `a` outside the function when we try to assign it a value inside the function. Spooky. "
   ]
  },
  {
   "cell_type": "markdown",
   "id": "young-connectivity",
   "metadata": {},
   "source": [
    "# Don't Panic!\n",
    "\n",
    "There's a pretty easy solution to the brain teasers above.\n",
    "\n",
    "1. When you **write a new function**, *return a variable* that stores the object the function changed.\n",
    "2. When you **call a function**, declare a variable that you assign to whatever the function returns.\n",
    "3. Don't use **global variables** inside functions. Any information that the function needs should be passed in as a parameter!\n",
    "\n",
    "If you do the above, calling functions on strings and lists and any other object will all look about the same. This will take care of 90% of the problems introduced by the code above. The rest you'll learn as you go :)"
   ]
  }
 ],
 "metadata": {
  "kernelspec": {
   "display_name": "Python 3",
   "language": "python",
   "name": "python3"
  },
  "language_info": {
   "codemirror_mode": {
    "name": "ipython",
    "version": 3
   },
   "file_extension": ".py",
   "mimetype": "text/x-python",
   "name": "python",
   "nbconvert_exporter": "python",
   "pygments_lexer": "ipython3",
   "version": "3.8.5"
  }
 },
 "nbformat": 4,
 "nbformat_minor": 5
}