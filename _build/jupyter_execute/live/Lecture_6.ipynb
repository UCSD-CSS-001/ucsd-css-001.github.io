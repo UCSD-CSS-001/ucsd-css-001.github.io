{
 "cells": [
  {
   "cell_type": "markdown",
   "id": "waiting-center",
   "metadata": {},
   "source": [
    "# functions\n",
    "\n",
    "## why write functions / procedures?\n",
    "\n",
    "DRY principle"
   ]
  },
  {
   "cell_type": "code",
   "execution_count": 1,
   "id": "large-harvard",
   "metadata": {},
   "outputs": [
    {
     "name": "stdout",
     "output_type": "stream",
     "text": [
      "Edward Vul\n",
      "Associate Profffessor\n",
      "Computational Social Science\n"
     ]
    }
   ],
   "source": [
    "name = \"Edward vul#$^&%\"\n",
    "title = \"associate Prof325Ffessor\"\n",
    "course = \"computational so&^%#cial SCiEnce\"\n",
    "\n",
    "# convert it title case\n",
    "# remove all non-space and non-alphanumeric characters\n",
    "\n",
    "new = ''\n",
    "for c in name:\n",
    "    if c.lower() in ' abcdefghijklmnopqrstuvwxyz':\n",
    "        new += c\n",
    "name = new.title()\n",
    "\n",
    "\n",
    "new = ''\n",
    "for c in title:\n",
    "    if c.lower() in ' abcdefghijklmnopqrstuvwxyz':\n",
    "        new += c\n",
    "title = new.title()\n",
    "\n",
    "\n",
    "\n",
    "new = ''\n",
    "for c in course:\n",
    "    if c.lower() in ' abcdefghijklmnopqrstuvwxyz':\n",
    "        new += c\n",
    "course = new.title()\n",
    "\n",
    "print(name)\n",
    "print(title)\n",
    "print(course)\n",
    "\n"
   ]
  },
  {
   "cell_type": "code",
   "execution_count": 2,
   "id": "together-easter",
   "metadata": {},
   "outputs": [
    {
     "name": "stdout",
     "output_type": "stream",
     "text": [
      "Edward Vul\n",
      "Associate Profffessor\n",
      "Computational Social Science\n"
     ]
    }
   ],
   "source": [
    "name = \"Edward vul#$^&%\"\n",
    "title = \"associate Prof325Ffessor\"\n",
    "course = \"computational so&^%#cial SCiEnce\"\n",
    "\n",
    "list_of_vars = [name, title, course]\n",
    "for i in range(len(list_of_vars)):\n",
    "    new = ''\n",
    "    for c in list_of_vars[i]:\n",
    "        if c.lower() in ' abcdefghijklmnopqrstuvwxyz':\n",
    "            new += c\n",
    "    list_of_vars[i] = new.title()\n",
    "\n",
    "name, title, course = list_of_vars\n",
    "\n",
    "print(name)\n",
    "print(title)\n",
    "print(course)\n",
    "\n",
    "ta = \"Jiaying *(#$%^*$&^*&^ Xu)\"\n"
   ]
  },
  {
   "cell_type": "code",
   "execution_count": 3,
   "id": "simplified-magazine",
   "metadata": {},
   "outputs": [
    {
     "name": "stdout",
     "output_type": "stream",
     "text": [
      "Edward Vul\n",
      "Associate Profffessor\n",
      "Computational Social Science\n",
      "Jiaying  Xu\n"
     ]
    }
   ],
   "source": [
    "name = \"Edward vul#$^&%\"\n",
    "title = \"associate Prof325Ffessor\"\n",
    "course = \"computational so&^%#cial SCiEnce\"\n",
    "\n",
    "def cleanString(string):\n",
    "    new = ''\n",
    "    for c in string:\n",
    "        if c.lower() in ' abcdefghijklmnopqrstuvwxyz':\n",
    "            new += c\n",
    "    string = new.title()\n",
    "    return string\n",
    "\n",
    "name = cleanString(name)\n",
    "title = cleanString(title)\n",
    "course = cleanString(course)\n",
    "\n",
    "\n",
    "print(name)\n",
    "print(title)\n",
    "print(course)\n",
    "\n",
    "ta = \"Jiaying *(#$%^*$&^*&^ Xu)\"\n",
    "\n",
    "ta = cleanString(ta)\n",
    "print(ta)\n"
   ]
  },
  {
   "cell_type": "markdown",
   "id": "tropical-doctor",
   "metadata": {},
   "source": [
    "## function basics\n",
    "\n",
    "### def function():"
   ]
  },
  {
   "cell_type": "code",
   "execution_count": 4,
   "id": "hourly-mouse",
   "metadata": {},
   "outputs": [
    {
     "name": "stdout",
     "output_type": "stream",
     "text": [
      "first line\n",
      "Cheers,\n",
      "Edward Vul\n",
      "Associate Professor of Psychology\n",
      "Director Computational Social Science\n",
      "Hello\n",
      "Cheers,\n",
      "Edward Vul\n",
      "Associate Professor of Psychology\n",
      "Director Computational Social Science\n"
     ]
    }
   ],
   "source": [
    "def printSignature():\n",
    "    print(\"Cheers,\")\n",
    "    print(\"Edward Vul\")\n",
    "    print(\"Associate Professor of Psychology\")\n",
    "    print(\"Director Computational Social Science\")\n",
    "\n",
    "\n",
    "print('first line')\n",
    "\n",
    "printSignature()\n",
    "\n",
    "print('Hello')\n",
    "\n",
    "printSignature()\n"
   ]
  },
  {
   "cell_type": "markdown",
   "id": "extreme-croatia",
   "metadata": {},
   "source": [
    "### arguments"
   ]
  },
  {
   "cell_type": "code",
   "execution_count": 5,
   "id": "connected-intro",
   "metadata": {},
   "outputs": [
    {
     "name": "stdout",
     "output_type": "stream",
     "text": [
      "Best,\n",
      "Edward Vul\n",
      "Associate Professor of Psychology\n",
      "Director Computational Social Science\n",
      "Cheers,\n",
      "Edward Vul\n",
      "Associate Professor of Psychology\n",
      "Director Computational Social Science\n",
      "Adios,\n",
      "Edward Vul\n",
      "Associate Professor of Psychology\n",
      "Director Computational Social Science\n"
     ]
    }
   ],
   "source": [
    "def printSignature(message):\n",
    "    print(message)\n",
    "    print(\"Edward Vul\")\n",
    "    print(\"Associate Professor of Psychology\")\n",
    "    print(\"Director Computational Social Science\")\n",
    "    \n",
    "printSignature(\"Best,\")\n",
    "\n",
    "printSignature(\"Cheers,\")\n",
    "\n",
    "printSignature(\"Adios,\")"
   ]
  },
  {
   "cell_type": "code",
   "execution_count": 6,
   "id": "damaged-oriental",
   "metadata": {},
   "outputs": [
    {
     "name": "stdout",
     "output_type": "stream",
     "text": [
      "20\n",
      "120\n"
     ]
    }
   ],
   "source": [
    "def multiply(num1, num2):\n",
    "    print(num1*num2)\n",
    "    \n",
    "multiply(4, 5)\n",
    "multiply(12, 10)"
   ]
  },
  {
   "cell_type": "code",
   "execution_count": 7,
   "id": "dated-phase",
   "metadata": {},
   "outputs": [
    {
     "ename": "TypeError",
     "evalue": "multiply() missing 1 required positional argument: 'num2'",
     "output_type": "error",
     "traceback": [
      "\u001b[0;31m---------------------------------------------------------------------------\u001b[0m",
      "\u001b[0;31mTypeError\u001b[0m                                 Traceback (most recent call last)",
      "\u001b[0;32m<ipython-input-7-87a7db51ed68>\u001b[0m in \u001b[0;36m<module>\u001b[0;34m\u001b[0m\n\u001b[0;32m----> 1\u001b[0;31m \u001b[0mmultiply\u001b[0m\u001b[0;34m(\u001b[0m\u001b[0;36m4\u001b[0m\u001b[0;34m)\u001b[0m\u001b[0;34m\u001b[0m\u001b[0;34m\u001b[0m\u001b[0m\n\u001b[0m",
      "\u001b[0;31mTypeError\u001b[0m: multiply() missing 1 required positional argument: 'num2'"
     ]
    }
   ],
   "source": [
    "multiply(4)"
   ]
  },
  {
   "cell_type": "markdown",
   "id": "electoral-complex",
   "metadata": {},
   "source": [
    "### position and keyword"
   ]
  },
  {
   "cell_type": "code",
   "execution_count": 8,
   "id": "introductory-corrections",
   "metadata": {},
   "outputs": [
    {
     "name": "stdout",
     "output_type": "stream",
     "text": [
      "9\n",
      "8\n",
      "9\n"
     ]
    }
   ],
   "source": [
    "def exponentiate(base, exponent):\n",
    "    print(base ** exponent)\n",
    "    \n",
    "exponentiate(3, 2)\n",
    "# base=3\n",
    "# exponent=2\n",
    "# print(base ** exponent)\n",
    "exponentiate(2, 3)\n",
    "exponentiate(exponent = 2, base = 3)"
   ]
  },
  {
   "cell_type": "markdown",
   "id": "nasty-african",
   "metadata": {},
   "source": [
    "### reading through function calls\n",
    "\n",
    "### return.\n"
   ]
  },
  {
   "cell_type": "code",
   "execution_count": 9,
   "id": "cheap-thompson",
   "metadata": {},
   "outputs": [
    {
     "name": "stdout",
     "output_type": "stream",
     "text": [
      "HGJSKFGHSDFasfg\n"
     ]
    }
   ],
   "source": [
    "def cleanString(string):\n",
    "    # remove all non space and non alphabetic characters.\n",
    "    new = ''\n",
    "    for c in string:\n",
    "        if c.lower() in ' abcdefghijklmnopqrstuvwxyz':\n",
    "            new += c\n",
    "    return new\n",
    "\n",
    "new_string = cleanString('HGJSKFGH7&^%&S^%DFasfg')\n",
    "\n",
    "print(new_string)\n"
   ]
  },
  {
   "cell_type": "code",
   "execution_count": 10,
   "id": "embedded-chain",
   "metadata": {},
   "outputs": [
    {
     "name": "stdout",
     "output_type": "stream",
     "text": [
      "HGJSKFGHSDFasfg\n"
     ]
    }
   ],
   "source": [
    "print(new_string)"
   ]
  },
  {
   "cell_type": "markdown",
   "id": "collectible-bulgaria",
   "metadata": {},
   "source": [
    "- def to define a function()\n",
    "- function(argument1, argument2, ...)\n",
    "- return X yields X "
   ]
  },
  {
   "cell_type": "markdown",
   "id": "following-technical",
   "metadata": {},
   "source": [
    "## function subtleties\n",
    "\n",
    "## variable scope"
   ]
  },
  {
   "cell_type": "code",
   "execution_count": 11,
   "id": "fourth-fourth",
   "metadata": {},
   "outputs": [
    {
     "name": "stdout",
     "output_type": "stream",
     "text": [
      "{'a': 4, 'b': 5}\n",
      "9\n"
     ]
    }
   ],
   "source": [
    "a = 3\n",
    "\n",
    "def add(a,b):\n",
    "    print(locals())\n",
    "    print(a+b)\n",
    "\n",
    "add(4,5)\n"
   ]
  },
  {
   "cell_type": "code",
   "execution_count": 12,
   "id": "secret-edmonton",
   "metadata": {},
   "outputs": [
    {
     "name": "stdout",
     "output_type": "stream",
     "text": [
      "8\n"
     ]
    }
   ],
   "source": [
    "a = 3\n",
    "x = 10\n",
    "\n",
    "def add(x,b):\n",
    "    #print(locals())\n",
    "    print(a+b)\n",
    "\n",
    "add(4,5)"
   ]
  },
  {
   "cell_type": "code",
   "execution_count": 13,
   "id": "opposite-pakistan",
   "metadata": {},
   "outputs": [
    {
     "name": "stdout",
     "output_type": "stream",
     "text": [
      "14\n",
      "3\n"
     ]
    }
   ],
   "source": [
    "a = 3\n",
    "\n",
    "def add(x,b):\n",
    "    a = x + b\n",
    "    #print(locals())\n",
    "    print(a+b)\n",
    "\n",
    "add(4,5)\n",
    "print(a)"
   ]
  },
  {
   "cell_type": "code",
   "execution_count": 14,
   "id": "individual-software",
   "metadata": {},
   "outputs": [
    {
     "ename": "UnboundLocalError",
     "evalue": "local variable 'a' referenced before assignment",
     "output_type": "error",
     "traceback": [
      "\u001b[0;31m---------------------------------------------------------------------------\u001b[0m",
      "\u001b[0;31mUnboundLocalError\u001b[0m                         Traceback (most recent call last)",
      "\u001b[0;32m<ipython-input-14-d9ff09847a1d>\u001b[0m in \u001b[0;36m<module>\u001b[0;34m\u001b[0m\n\u001b[1;32m      7\u001b[0m     \u001b[0mprint\u001b[0m\u001b[0;34m(\u001b[0m\u001b[0ma\u001b[0m\u001b[0;34m+\u001b[0m\u001b[0mb\u001b[0m\u001b[0;34m)\u001b[0m\u001b[0;34m\u001b[0m\u001b[0;34m\u001b[0m\u001b[0m\n\u001b[1;32m      8\u001b[0m \u001b[0;34m\u001b[0m\u001b[0m\n\u001b[0;32m----> 9\u001b[0;31m \u001b[0madd\u001b[0m\u001b[0;34m(\u001b[0m\u001b[0;36m4\u001b[0m\u001b[0;34m,\u001b[0m\u001b[0;36m3\u001b[0m\u001b[0;34m)\u001b[0m\u001b[0;34m\u001b[0m\u001b[0;34m\u001b[0m\u001b[0m\n\u001b[0m\u001b[1;32m     10\u001b[0m \u001b[0mprint\u001b[0m\u001b[0;34m(\u001b[0m\u001b[0ma\u001b[0m\u001b[0;34m)\u001b[0m\u001b[0;34m\u001b[0m\u001b[0;34m\u001b[0m\u001b[0m\n",
      "\u001b[0;32m<ipython-input-14-d9ff09847a1d>\u001b[0m in \u001b[0;36madd\u001b[0;34m(x, b)\u001b[0m\n\u001b[1;32m      2\u001b[0m \u001b[0;34m\u001b[0m\u001b[0m\n\u001b[1;32m      3\u001b[0m \u001b[0;32mdef\u001b[0m \u001b[0madd\u001b[0m\u001b[0;34m(\u001b[0m\u001b[0mx\u001b[0m\u001b[0;34m,\u001b[0m\u001b[0mb\u001b[0m\u001b[0;34m)\u001b[0m\u001b[0;34m:\u001b[0m\u001b[0;34m\u001b[0m\u001b[0;34m\u001b[0m\u001b[0m\n\u001b[0;32m----> 4\u001b[0;31m     \u001b[0mprint\u001b[0m\u001b[0;34m(\u001b[0m\u001b[0ma\u001b[0m\u001b[0;34m)\u001b[0m\u001b[0;34m\u001b[0m\u001b[0;34m\u001b[0m\u001b[0m\n\u001b[0m\u001b[1;32m      5\u001b[0m     \u001b[0ma\u001b[0m \u001b[0;34m=\u001b[0m \u001b[0mx\u001b[0m \u001b[0;34m+\u001b[0m \u001b[0mb\u001b[0m\u001b[0;34m\u001b[0m\u001b[0;34m\u001b[0m\u001b[0m\n\u001b[1;32m      6\u001b[0m     \u001b[0;31m#print(locals())\u001b[0m\u001b[0;34m\u001b[0m\u001b[0;34m\u001b[0m\u001b[0;34m\u001b[0m\u001b[0m\n",
      "\u001b[0;31mUnboundLocalError\u001b[0m: local variable 'a' referenced before assignment"
     ]
    }
   ],
   "source": [
    "a = 3\n",
    "\n",
    "def add(x,b):\n",
    "    print(a)\n",
    "    a = x + b\n",
    "    #print(locals())\n",
    "    print(a+b)\n",
    "\n",
    "add(4,3)\n",
    "print(a)"
   ]
  },
  {
   "cell_type": "code",
   "execution_count": 15,
   "id": "democratic-canberra",
   "metadata": {},
   "outputs": [
    {
     "name": "stdout",
     "output_type": "stream",
     "text": [
      "10\n"
     ]
    }
   ],
   "source": [
    "def add(a,b):\n",
    "    a = a + b\n",
    "    print(a+b)\n",
    "\n",
    "add(4,3)"
   ]
  },
  {
   "cell_type": "markdown",
   "id": "excited-multimedia",
   "metadata": {},
   "source": [
    "### Local vs global variables\n",
    "\n",
    "- access vs assignment vs access and assignment\n",
    "\n",
    "- Better just not rely on globals, even though you can access them.\n",
    "\n",
    "### pass by assignment\n",
    "\n",
    "- implications for mutable and immutable objects"
   ]
  },
  {
   "cell_type": "code",
   "execution_count": 16,
   "id": "plastic-punch",
   "metadata": {},
   "outputs": [
    {
     "name": "stdout",
     "output_type": "stream",
     "text": [
      "12\n",
      "23\n",
      "12\n"
     ]
    }
   ],
   "source": [
    "a = 12\n",
    "\n",
    "def fun(x):\n",
    "    print(x)\n",
    "    x = 23\n",
    "    print(x)\n",
    "\n",
    "fun(a)\n",
    "print(a)"
   ]
  },
  {
   "cell_type": "code",
   "execution_count": 17,
   "id": "classical-alberta",
   "metadata": {},
   "outputs": [
    {
     "name": "stdout",
     "output_type": "stream",
     "text": [
      "outside function a: 12\n",
      "outside function id(a): 4368353984\n",
      "inside function x: 12\n",
      "inside function id(x): 4368353984\n",
      "inside function x: 23\n",
      "inside function id(x): 4368354336\n",
      "outside function a: 12\n",
      "outside function id(a): 4368353984\n"
     ]
    }
   ],
   "source": [
    "a = 12\n",
    "\n",
    "def fun(x):\n",
    "    print('inside function x:', x)\n",
    "    print('inside function id(x):', id(x))\n",
    "    x = 23\n",
    "    print('inside function x:', x)\n",
    "    print('inside function id(x):', id(x))\n",
    "    \n",
    "\n",
    "print('outside function a:', a)\n",
    "print('outside function id(a):', id(a))\n",
    "fun(a)\n",
    "print('outside function a:', a)\n",
    "print('outside function id(a):', id(a))"
   ]
  },
  {
   "cell_type": "code",
   "execution_count": 18,
   "id": "jewish-mercury",
   "metadata": {},
   "outputs": [
    {
     "name": "stdout",
     "output_type": "stream",
     "text": [
      "[1, 2, 3]\n",
      "[1, 2, 3]\n",
      "[1, 2, 3, 4]\n",
      "[1, 2, 3, 4]\n",
      "140574012753920\n",
      "140574012753920\n",
      "burrito\n",
      "[1, 2, 3, 4]\n",
      "140574012753920\n",
      "140574013515312\n"
     ]
    }
   ],
   "source": [
    "a = [1, 2, 3]\n",
    "b = a\n",
    "print(a)\n",
    "print(b)\n",
    "b.append(4)\n",
    "print(b)\n",
    "print(a)\n",
    "print(id(a))\n",
    "print(id(b))\n",
    "b = 'burrito'\n",
    "print(b)\n",
    "print(a)\n",
    "print(id(a))\n",
    "print(id(b))\n"
   ]
  },
  {
   "cell_type": "code",
   "execution_count": 19,
   "id": "ambient-earthquake",
   "metadata": {},
   "outputs": [
    {
     "name": "stdout",
     "output_type": "stream",
     "text": [
      "outside function a [1, 2, 3]\n",
      "inside function x :  [1, 2, 3]\n",
      "inside function x:  [1, 2, 3, 4]\n",
      "outside function a [1, 2, 3, 4]\n"
     ]
    }
   ],
   "source": [
    "a = [1, 2, 3]\n",
    "\n",
    "def fun(x):\n",
    "    print('inside function x : ',  x)\n",
    "    x.append(4)\n",
    "    print('inside function x: ',  x)\n",
    "\n",
    "print('outside function a', a)\n",
    "fun(a)\n",
    "print('outside function a', a)\n"
   ]
  },
  {
   "cell_type": "markdown",
   "id": "informative-lawyer",
   "metadata": {},
   "source": [
    "## arguments\n",
    "\n",
    "\n",
    "### default values"
   ]
  },
  {
   "cell_type": "code",
   "execution_count": 20,
   "id": "dutch-performer",
   "metadata": {},
   "outputs": [
    {
     "name": "stdout",
     "output_type": "stream",
     "text": [
      "calculating 5 * 3**2\n"
     ]
    },
    {
     "data": {
      "text/plain": [
       "45"
      ]
     },
     "execution_count": 20,
     "metadata": {},
     "output_type": "execute_result"
    }
   ],
   "source": [
    "def calculate(base, exponent, multiplier, verbose=False):\n",
    "    #\"multiplier * base ** exponent\"\n",
    "    if verbose:\n",
    "        print(f'calculating {multiplier} * {base}**{exponent}')\n",
    "    return(multiplier * base ** exponent)\n",
    "\n",
    "calculate(3, 2, 5)\n",
    "# we assign base=3, exponent=2, multiplier=5\n",
    "# default assignment verbose=False\n",
    "\n",
    "\n",
    "calculate(3, 2, 5, True)\n",
    "# we assign base=3, exponent=2, multiplier=5, verbose=True\n",
    "# default assignment does nothing\n"
   ]
  },
  {
   "cell_type": "markdown",
   "id": "cosmetic-blade",
   "metadata": {},
   "source": [
    "### variable number of arguments"
   ]
  },
  {
   "cell_type": "code",
   "execution_count": 21,
   "id": "ready-deficit",
   "metadata": {},
   "outputs": [
    {
     "name": "stdout",
     "output_type": "stream",
     "text": [
      "{'nums': (1, 2, 3, 4, 56, 6, 7, 89, 678, 45, 457, 346, 456, 45, 457, 45, 4)}\n"
     ]
    },
    {
     "ename": "TypeError",
     "evalue": "can only concatenate list (not \"str\") to list",
     "output_type": "error",
     "traceback": [
      "\u001b[0;31m---------------------------------------------------------------------------\u001b[0m",
      "\u001b[0;31mTypeError\u001b[0m                                 Traceback (most recent call last)",
      "\u001b[0;32m<ipython-input-21-4fa6540d18f1>\u001b[0m in \u001b[0;36m<module>\u001b[0;34m\u001b[0m\n\u001b[1;32m      3\u001b[0m     \u001b[0;32mreturn\u001b[0m \u001b[0ma\u001b[0m\u001b[0;34m+\u001b[0m\u001b[0mb\u001b[0m\u001b[0;34m+\u001b[0m\u001b[0msum\u001b[0m\u001b[0;34m(\u001b[0m\u001b[0mnums\u001b[0m\u001b[0;34m)\u001b[0m\u001b[0;34m+\u001b[0m\u001b[0mc\u001b[0m\u001b[0;34m\u001b[0m\u001b[0;34m\u001b[0m\u001b[0m\n\u001b[1;32m      4\u001b[0m \u001b[0;34m\u001b[0m\u001b[0m\n\u001b[0;32m----> 5\u001b[0;31m \u001b[0maddNumbers\u001b[0m\u001b[0;34m(\u001b[0m\u001b[0;36m1\u001b[0m\u001b[0;34m,\u001b[0m \u001b[0;36m2\u001b[0m\u001b[0;34m,\u001b[0m \u001b[0;36m3\u001b[0m\u001b[0;34m,\u001b[0m \u001b[0;36m4\u001b[0m\u001b[0;34m,\u001b[0m \u001b[0;36m56\u001b[0m\u001b[0;34m,\u001b[0m \u001b[0;36m6\u001b[0m\u001b[0;34m,\u001b[0m\u001b[0;36m7\u001b[0m\u001b[0;34m,\u001b[0m \u001b[0;36m89\u001b[0m\u001b[0;34m,\u001b[0m\u001b[0;36m678\u001b[0m\u001b[0;34m,\u001b[0m \u001b[0;36m45\u001b[0m\u001b[0;34m,\u001b[0m \u001b[0;36m457\u001b[0m\u001b[0;34m,\u001b[0m \u001b[0;36m346\u001b[0m\u001b[0;34m,\u001b[0m \u001b[0;36m456\u001b[0m\u001b[0;34m,\u001b[0m \u001b[0;36m45\u001b[0m\u001b[0;34m,\u001b[0m \u001b[0;36m457\u001b[0m\u001b[0;34m,\u001b[0m \u001b[0;36m45\u001b[0m\u001b[0;34m,\u001b[0m \u001b[0;36m4\u001b[0m\u001b[0;34m)\u001b[0m\u001b[0;34m\u001b[0m\u001b[0;34m\u001b[0m\u001b[0m\n\u001b[0m",
      "\u001b[0;32m<ipython-input-21-4fa6540d18f1>\u001b[0m in \u001b[0;36maddNumbers\u001b[0;34m(*nums)\u001b[0m\n\u001b[1;32m      1\u001b[0m \u001b[0;32mdef\u001b[0m \u001b[0maddNumbers\u001b[0m\u001b[0;34m(\u001b[0m\u001b[0;34m*\u001b[0m\u001b[0mnums\u001b[0m\u001b[0;34m)\u001b[0m\u001b[0;34m:\u001b[0m\u001b[0;34m\u001b[0m\u001b[0;34m\u001b[0m\u001b[0m\n\u001b[1;32m      2\u001b[0m     \u001b[0mprint\u001b[0m\u001b[0;34m(\u001b[0m\u001b[0mlocals\u001b[0m\u001b[0;34m(\u001b[0m\u001b[0;34m)\u001b[0m\u001b[0;34m)\u001b[0m\u001b[0;34m\u001b[0m\u001b[0;34m\u001b[0m\u001b[0m\n\u001b[0;32m----> 3\u001b[0;31m     \u001b[0;32mreturn\u001b[0m \u001b[0ma\u001b[0m\u001b[0;34m+\u001b[0m\u001b[0mb\u001b[0m\u001b[0;34m+\u001b[0m\u001b[0msum\u001b[0m\u001b[0;34m(\u001b[0m\u001b[0mnums\u001b[0m\u001b[0;34m)\u001b[0m\u001b[0;34m+\u001b[0m\u001b[0mc\u001b[0m\u001b[0;34m\u001b[0m\u001b[0;34m\u001b[0m\u001b[0m\n\u001b[0m\u001b[1;32m      4\u001b[0m \u001b[0;34m\u001b[0m\u001b[0m\n\u001b[1;32m      5\u001b[0m \u001b[0maddNumbers\u001b[0m\u001b[0;34m(\u001b[0m\u001b[0;36m1\u001b[0m\u001b[0;34m,\u001b[0m \u001b[0;36m2\u001b[0m\u001b[0;34m,\u001b[0m \u001b[0;36m3\u001b[0m\u001b[0;34m,\u001b[0m \u001b[0;36m4\u001b[0m\u001b[0;34m,\u001b[0m \u001b[0;36m56\u001b[0m\u001b[0;34m,\u001b[0m \u001b[0;36m6\u001b[0m\u001b[0;34m,\u001b[0m\u001b[0;36m7\u001b[0m\u001b[0;34m,\u001b[0m \u001b[0;36m89\u001b[0m\u001b[0;34m,\u001b[0m\u001b[0;36m678\u001b[0m\u001b[0;34m,\u001b[0m \u001b[0;36m45\u001b[0m\u001b[0;34m,\u001b[0m \u001b[0;36m457\u001b[0m\u001b[0;34m,\u001b[0m \u001b[0;36m346\u001b[0m\u001b[0;34m,\u001b[0m \u001b[0;36m456\u001b[0m\u001b[0;34m,\u001b[0m \u001b[0;36m45\u001b[0m\u001b[0;34m,\u001b[0m \u001b[0;36m457\u001b[0m\u001b[0;34m,\u001b[0m \u001b[0;36m45\u001b[0m\u001b[0;34m,\u001b[0m \u001b[0;36m4\u001b[0m\u001b[0;34m)\u001b[0m\u001b[0;34m\u001b[0m\u001b[0;34m\u001b[0m\u001b[0m\n",
      "\u001b[0;31mTypeError\u001b[0m: can only concatenate list (not \"str\") to list"
     ]
    }
   ],
   "source": [
    "def addNumbers(*nums):\n",
    "    print(locals())\n",
    "    return a+b+sum(nums)+c\n",
    "\n",
    "addNumbers(1, 2, 3, 4, 56, 6,7, 89,678, 45, 457, 346, 456, 45, 457, 45, 4)\n"
   ]
  },
  {
   "cell_type": "markdown",
   "id": "hispanic-offense",
   "metadata": {},
   "source": [
    "### variable number of keyword arguments."
   ]
  },
  {
   "cell_type": "code",
   "execution_count": 22,
   "id": "alpine-breeding",
   "metadata": {},
   "outputs": [
    {
     "name": "stdout",
     "output_type": "stream",
     "text": [
      "{'required_positional': 1, 'required_keyword': 10, 'args': (2, 3), 'kwargs': {'a': 5, 'b': 6, 'c': 7}}\n"
     ]
    }
   ],
   "source": [
    "def allthearguments(required_positional, *args, required_keyword, **kwargs):\n",
    "    print(locals())\n",
    "    \n",
    "allthearguments(1, 2, 3, a=5, b=6, c=7, required_keyword=10)\n"
   ]
  },
  {
   "cell_type": "markdown",
   "id": "developmental-contents",
   "metadata": {},
   "source": [
    "## docstring"
   ]
  },
  {
   "cell_type": "code",
   "execution_count": 23,
   "id": "broad-particular",
   "metadata": {},
   "outputs": [],
   "source": [
    "def calculate(base, exponent, multiplier, verbose=False):\n",
    "    \"\"\"\n",
    "    returns multiplier * base ** exponent \n",
    "    \n",
    "    optional verbose argument prints things out as it goes\n",
    "    \"\"\"\n",
    "    if verbose:\n",
    "        print(f'calculating {multiplier} * {base}**{exponent}')\n",
    "    return(multiplier * base ** exponent)"
   ]
  },
  {
   "cell_type": "code",
   "execution_count": 24,
   "id": "perceived-berkeley",
   "metadata": {},
   "outputs": [],
   "source": [
    "?allthearguments"
   ]
  },
  {
   "cell_type": "markdown",
   "id": "rough-stockholm",
   "metadata": {},
   "source": [
    "## type annotation\n",
    "\n"
   ]
  },
  {
   "cell_type": "code",
   "execution_count": 25,
   "id": "presidential-wallet",
   "metadata": {},
   "outputs": [],
   "source": [
    "def repeatString(string: str, multiplier: int) -> str:\n",
    "    \"\"\"\n",
    "    returns string*multiplier\n",
    "    \"\"\"\n",
    "    return string * multiplier"
   ]
  },
  {
   "cell_type": "code",
   "execution_count": 26,
   "id": "nonprofit-supervisor",
   "metadata": {},
   "outputs": [
    {
     "data": {
      "text/plain": [
       "'aaaa'"
      ]
     },
     "execution_count": 26,
     "metadata": {},
     "output_type": "execute_result"
    }
   ],
   "source": [
    "repeatString('a', 4)"
   ]
  },
  {
   "cell_type": "code",
   "execution_count": 27,
   "id": "endangered-correction",
   "metadata": {},
   "outputs": [],
   "source": [
    "?repeatString"
   ]
  },
  {
   "cell_type": "code",
   "execution_count": 28,
   "id": "aquatic-fishing",
   "metadata": {},
   "outputs": [
    {
     "data": {
      "text/plain": [
       "15"
      ]
     },
     "execution_count": 28,
     "metadata": {},
     "output_type": "execute_result"
    }
   ],
   "source": [
    "# write a function that returns the range of the list: max(list) - min(list)\n",
    "\n",
    "def rangeOfList(lst):\n",
    "    return max(lst) - min(lst)\n",
    "\n",
    "rangeOfList([5, 20, 5, 7])\n"
   ]
  },
  {
   "cell_type": "code",
   "execution_count": null,
   "id": "equal-iraqi",
   "metadata": {},
   "outputs": [],
   "source": []
  }
 ],
 "metadata": {
  "kernelspec": {
   "display_name": "Python 3",
   "language": "python",
   "name": "python3"
  },
  "language_info": {
   "codemirror_mode": {
    "name": "ipython",
    "version": 3
   },
   "file_extension": ".py",
   "mimetype": "text/x-python",
   "name": "python",
   "nbconvert_exporter": "python",
   "pygments_lexer": "ipython3",
   "version": "3.8.5"
  }
 },
 "nbformat": 4,
 "nbformat_minor": 5
}