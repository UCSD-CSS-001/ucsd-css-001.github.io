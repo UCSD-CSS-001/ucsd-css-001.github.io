{
 "cells": [
  {
   "cell_type": "markdown",
   "id": "minor-beach",
   "metadata": {},
   "source": [
    "# Dictionaries\n"
   ]
  },
  {
   "cell_type": "code",
   "execution_count": 1,
   "id": "wrong-purpose",
   "metadata": {},
   "outputs": [],
   "source": [
    "lst = [1, 2, 3, 4, 'abra']\n"
   ]
  },
  {
   "cell_type": "code",
   "execution_count": 2,
   "id": "mighty-harassment",
   "metadata": {},
   "outputs": [
    {
     "data": {
      "text/plain": [
       "'abra'"
      ]
     },
     "execution_count": 2,
     "metadata": {},
     "output_type": "execute_result"
    }
   ],
   "source": [
    "lst[-1]"
   ]
  },
  {
   "cell_type": "code",
   "execution_count": null,
   "id": "suburban-cheat",
   "metadata": {},
   "outputs": [],
   "source": []
  },
  {
   "cell_type": "markdown",
   "id": "mexican-dominican",
   "metadata": {},
   "source": [
    "## Making a dictionary"
   ]
  },
  {
   "cell_type": "code",
   "execution_count": 3,
   "id": "temporal-river",
   "metadata": {},
   "outputs": [],
   "source": [
    "dictionary = {'x':4, 'ed':'instructor', 3:'fish'}"
   ]
  },
  {
   "cell_type": "code",
   "execution_count": 4,
   "id": "hispanic-proposition",
   "metadata": {},
   "outputs": [
    {
     "name": "stdout",
     "output_type": "stream",
     "text": [
      "{'x': 4, 'ed': 'instructor', 3: 'fish'}\n"
     ]
    }
   ],
   "source": [
    "print(dictionary)"
   ]
  },
  {
   "cell_type": "code",
   "execution_count": 5,
   "id": "promising-drawing",
   "metadata": {},
   "outputs": [
    {
     "data": {
      "text/plain": [
       "3"
      ]
     },
     "execution_count": 5,
     "metadata": {},
     "output_type": "execute_result"
    }
   ],
   "source": [
    "len(dictionary)"
   ]
  },
  {
   "cell_type": "code",
   "execution_count": 6,
   "id": "recent-health",
   "metadata": {},
   "outputs": [
    {
     "data": {
      "text/plain": [
       "4"
      ]
     },
     "execution_count": 6,
     "metadata": {},
     "output_type": "execute_result"
    }
   ],
   "source": [
    "dictionary['x']"
   ]
  },
  {
   "cell_type": "code",
   "execution_count": 7,
   "id": "nutritional-oxide",
   "metadata": {},
   "outputs": [
    {
     "data": {
      "text/plain": [
       "'fish'"
      ]
     },
     "execution_count": 7,
     "metadata": {},
     "output_type": "execute_result"
    }
   ],
   "source": [
    "dictionary[3]"
   ]
  },
  {
   "cell_type": "code",
   "execution_count": 8,
   "id": "meaning-failure",
   "metadata": {},
   "outputs": [
    {
     "name": "stdout",
     "output_type": "stream",
     "text": [
      "{}\n",
      "{'vul': 'last name'}\n"
     ]
    }
   ],
   "source": [
    "lookup = dict()\n",
    "print(lookup)\n",
    "lookup['vul'] = 'last name'\n",
    "print(lookup)"
   ]
  },
  {
   "cell_type": "markdown",
   "id": "diagnostic-intersection",
   "metadata": {},
   "source": [
    "### What can be a key?"
   ]
  },
  {
   "cell_type": "code",
   "execution_count": 9,
   "id": "directed-process",
   "metadata": {},
   "outputs": [
    {
     "name": "stdout",
     "output_type": "stream",
     "text": [
      "{}\n"
     ]
    }
   ],
   "source": [
    "lookup = dict()\n",
    "print(lookup)"
   ]
  },
  {
   "cell_type": "code",
   "execution_count": 10,
   "id": "pharmaceutical-living",
   "metadata": {},
   "outputs": [
    {
     "name": "stdout",
     "output_type": "stream",
     "text": [
      "{'instructor': 'ed vul'}\n"
     ]
    }
   ],
   "source": [
    "lookup['instructor'] = 'ed vul'\n",
    "print(lookup)"
   ]
  },
  {
   "cell_type": "code",
   "execution_count": 11,
   "id": "biblical-seattle",
   "metadata": {},
   "outputs": [
    {
     "name": "stdout",
     "output_type": "stream",
     "text": [
      "{'instructor': 'ed vul', 5000: 'five thousand'}\n"
     ]
    }
   ],
   "source": [
    "lookup[5000] = 'five thousand'\n",
    "print(lookup)"
   ]
  },
  {
   "cell_type": "code",
   "execution_count": 12,
   "id": "genetic-drink",
   "metadata": {
    "scrolled": true
   },
   "outputs": [
    {
     "ename": "TypeError",
     "evalue": "unhashable type: 'list'",
     "output_type": "error",
     "traceback": [
      "\u001b[0;31m---------------------------------------------------------------------------\u001b[0m",
      "\u001b[0;31mTypeError\u001b[0m                                 Traceback (most recent call last)",
      "\u001b[0;32m<ipython-input-12-63aad34274c1>\u001b[0m in \u001b[0;36m<module>\u001b[0;34m\u001b[0m\n\u001b[1;32m      1\u001b[0m \u001b[0mkey\u001b[0m \u001b[0;34m=\u001b[0m \u001b[0;34m[\u001b[0m\u001b[0;36m2\u001b[0m\u001b[0;34m,\u001b[0m \u001b[0;36m3\u001b[0m\u001b[0;34m]\u001b[0m\u001b[0;34m\u001b[0m\u001b[0;34m\u001b[0m\u001b[0m\n\u001b[0;32m----> 2\u001b[0;31m \u001b[0mlookup\u001b[0m\u001b[0;34m[\u001b[0m\u001b[0mkey\u001b[0m\u001b[0;34m]\u001b[0m \u001b[0;34m=\u001b[0m \u001b[0;34m'a list'\u001b[0m\u001b[0;34m\u001b[0m\u001b[0;34m\u001b[0m\u001b[0m\n\u001b[0m\u001b[1;32m      3\u001b[0m \u001b[0mprint\u001b[0m\u001b[0;34m(\u001b[0m\u001b[0mlookup\u001b[0m\u001b[0;34m)\u001b[0m\u001b[0;34m\u001b[0m\u001b[0;34m\u001b[0m\u001b[0m\n",
      "\u001b[0;31mTypeError\u001b[0m: unhashable type: 'list'"
     ]
    }
   ],
   "source": [
    "key = [2, 3]\n",
    "lookup[key] = 'a list'\n",
    "print(lookup)"
   ]
  },
  {
   "cell_type": "code",
   "execution_count": 13,
   "id": "ready-mistake",
   "metadata": {},
   "outputs": [
    {
     "name": "stdout",
     "output_type": "stream",
     "text": [
      "[4, 3]\n"
     ]
    }
   ],
   "source": [
    "key[0] = 4\n",
    "print(key)"
   ]
  },
  {
   "cell_type": "code",
   "execution_count": 14,
   "id": "impressed-fight",
   "metadata": {},
   "outputs": [
    {
     "name": "stdout",
     "output_type": "stream",
     "text": [
      "140716440087104\n",
      "140716440087104\n",
      "other_variable=[5, 2, 3]\n",
      "list_variable=[5, 2, 3]\n",
      "140716440087104\n",
      "140716440087104\n"
     ]
    }
   ],
   "source": [
    "list_variable = [1, 2, 3]\n",
    "print(id(list_variable))\n",
    "other_variable = list_variable\n",
    "print(id(other_variable))\n",
    "other_variable[0] = 5\n",
    "print(f'{other_variable=}')\n",
    "print(f'{list_variable=}')\n",
    "print(id(list_variable))\n",
    "print(id(other_variable))\n"
   ]
  },
  {
   "cell_type": "code",
   "execution_count": 15,
   "id": "animal-court",
   "metadata": {},
   "outputs": [
    {
     "name": "stdout",
     "output_type": "stream",
     "text": [
      "140716440713264\n",
      "140716440713264\n",
      "fdward\n",
      "edward\n",
      "140716440713264\n",
      "140716440713456\n"
     ]
    }
   ],
   "source": [
    "s = 'edward'\n",
    "print(id(s))\n",
    "other_s = s\n",
    "print(id(other_s))\n",
    "other_s = other_s.replace('e', 'f')\n",
    "print(other_s)\n",
    "print(s)\n",
    "print(id(s))\n",
    "print(id(other_s))\n"
   ]
  },
  {
   "cell_type": "markdown",
   "id": "enormous-frontier",
   "metadata": {},
   "source": [
    "### mutability?  lists vs tuples."
   ]
  },
  {
   "cell_type": "code",
   "execution_count": 16,
   "id": "reserved-finder",
   "metadata": {},
   "outputs": [
    {
     "ename": "TypeError",
     "evalue": "'tuple' object does not support item assignment",
     "output_type": "error",
     "traceback": [
      "\u001b[0;31m---------------------------------------------------------------------------\u001b[0m",
      "\u001b[0;31mTypeError\u001b[0m                                 Traceback (most recent call last)",
      "\u001b[0;32m<ipython-input-16-062be5c0046f>\u001b[0m in \u001b[0;36m<module>\u001b[0;34m\u001b[0m\n\u001b[1;32m      3\u001b[0m \u001b[0mtuple_item\u001b[0m\u001b[0;34m[\u001b[0m\u001b[0;36m0\u001b[0m\u001b[0;34m]\u001b[0m\u001b[0;34m\u001b[0m\u001b[0;34m\u001b[0m\u001b[0m\n\u001b[1;32m      4\u001b[0m \u001b[0;34m\u001b[0m\u001b[0m\n\u001b[0;32m----> 5\u001b[0;31m \u001b[0mtuple_item\u001b[0m\u001b[0;34m[\u001b[0m\u001b[0;36m0\u001b[0m\u001b[0;34m]\u001b[0m \u001b[0;34m=\u001b[0m \u001b[0;36m4\u001b[0m\u001b[0;34m\u001b[0m\u001b[0;34m\u001b[0m\u001b[0m\n\u001b[0m",
      "\u001b[0;31mTypeError\u001b[0m: 'tuple' object does not support item assignment"
     ]
    }
   ],
   "source": [
    "tuple_item = (3, 4, 5)\n",
    "len(tuple_item)\n",
    "tuple_item[0]\n",
    "\n",
    "tuple_item[0] = 4\n"
   ]
  },
  {
   "cell_type": "code",
   "execution_count": 17,
   "id": "grave-arena",
   "metadata": {},
   "outputs": [
    {
     "name": "stdout",
     "output_type": "stream",
     "text": [
      "{'instructor': 'ed vul', 5000: 'five thousand', (2, 3): 'tuple key'}\n"
     ]
    }
   ],
   "source": [
    "key  = (2, 3)\n",
    "lookup[key] = 'tuple key'\n",
    "print(lookup)"
   ]
  },
  {
   "cell_type": "code",
   "execution_count": 18,
   "id": "sought-secretariat",
   "metadata": {},
   "outputs": [
    {
     "data": {
      "text/plain": [
       "(1, 2, 3)"
      ]
     },
     "execution_count": 18,
     "metadata": {},
     "output_type": "execute_result"
    }
   ],
   "source": [
    "tuple([1, 2, 3])"
   ]
  },
  {
   "cell_type": "markdown",
   "id": "quality-share",
   "metadata": {},
   "source": [
    "## Checking if key exists"
   ]
  },
  {
   "cell_type": "code",
   "execution_count": 19,
   "id": "hearing-hands",
   "metadata": {},
   "outputs": [
    {
     "name": "stdout",
     "output_type": "stream",
     "text": [
      "{'instructor': 'ed vul', 'ta': 'jiaying xu', 'website': 'http://ucsd-css-001.github.io'}\n"
     ]
    }
   ],
   "source": [
    "course = dict()\n",
    "course['instructor'] = 'ed vul'\n",
    "course['ta'] = 'jiaying xu'\n",
    "course['website'] = 'http://ucsd-css-001.github.io'\n",
    "\n",
    "print(course)"
   ]
  },
  {
   "cell_type": "code",
   "execution_count": 20,
   "id": "lasting-russia",
   "metadata": {},
   "outputs": [
    {
     "data": {
      "text/plain": [
       "False"
      ]
     },
     "execution_count": 20,
     "metadata": {},
     "output_type": "execute_result"
    }
   ],
   "source": [
    "'TA' in course"
   ]
  },
  {
   "cell_type": "markdown",
   "id": "patent-terrain",
   "metadata": {},
   "source": [
    "## iterating over dictionary keys, values, items\n"
   ]
  },
  {
   "cell_type": "code",
   "execution_count": 21,
   "id": "weekly-sudan",
   "metadata": {},
   "outputs": [
    {
     "name": "stdout",
     "output_type": "stream",
     "text": [
      "key:  instructor\n",
      "value: ed vul\n",
      "key:  ta\n",
      "value: jiaying xu\n",
      "key:  website\n",
      "value: http://ucsd-css-001.github.io\n"
     ]
    }
   ],
   "source": [
    "for key in course.keys():\n",
    "    print(\"key: \", key)\n",
    "    print(\"value:\", course[key])\n"
   ]
  },
  {
   "cell_type": "code",
   "execution_count": 22,
   "id": "curious-memphis",
   "metadata": {},
   "outputs": [
    {
     "name": "stdout",
     "output_type": "stream",
     "text": [
      "value: ed vul\n",
      "value: jiaying xu\n",
      "value: http://ucsd-css-001.github.io\n"
     ]
    }
   ],
   "source": [
    "for value in course.values():\n",
    "    print(\"value:\" , value)\n"
   ]
  },
  {
   "cell_type": "code",
   "execution_count": 23,
   "id": "divided-arnold",
   "metadata": {},
   "outputs": [
    {
     "name": "stdout",
     "output_type": "stream",
     "text": [
      "('instructor', 'ed vul')\n",
      "key:  instructor\n",
      "value:  ed vul\n",
      "('ta', 'jiaying xu')\n",
      "key:  ta\n",
      "value:  jiaying xu\n",
      "('website', 'http://ucsd-css-001.github.io')\n",
      "key:  website\n",
      "value:  http://ucsd-css-001.github.io\n"
     ]
    }
   ],
   "source": [
    "for item in course.items():\n",
    "    print(item)\n",
    "    print(\"key: \", item[0])\n",
    "    print(\"value: \", item[1])"
   ]
  },
  {
   "cell_type": "markdown",
   "id": "eight-consortium",
   "metadata": {},
   "source": [
    "### assignment unpacking"
   ]
  },
  {
   "cell_type": "code",
   "execution_count": 24,
   "id": "compliant-paste",
   "metadata": {},
   "outputs": [
    {
     "name": "stdout",
     "output_type": "stream",
     "text": [
      "('instructor', 'ed vul')\n"
     ]
    }
   ],
   "source": [
    "pair = ('instructor', 'ed vul')\n",
    "print(pair)"
   ]
  },
  {
   "cell_type": "code",
   "execution_count": 25,
   "id": "chemical-parts",
   "metadata": {},
   "outputs": [
    {
     "name": "stdout",
     "output_type": "stream",
     "text": [
      "instructor\n",
      "ed vul\n"
     ]
    }
   ],
   "source": [
    "key = pair[0]\n",
    "value = pair[1]\n",
    "print(key)\n",
    "print(value)"
   ]
  },
  {
   "cell_type": "code",
   "execution_count": 26,
   "id": "selected-pepper",
   "metadata": {},
   "outputs": [
    {
     "name": "stdout",
     "output_type": "stream",
     "text": [
      "key:  instructor\n",
      "value:  ed vul\n",
      "key:  ta\n",
      "value:  jiaying xu\n",
      "key:  website\n",
      "value:  http://ucsd-css-001.github.io\n"
     ]
    }
   ],
   "source": [
    "for item in course.items():\n",
    "    key = item[0]\n",
    "    value = item[1]\n",
    "    print(\"key: \", key)\n",
    "    print(\"value: \", value)"
   ]
  },
  {
   "cell_type": "code",
   "execution_count": 27,
   "id": "raising-artist",
   "metadata": {},
   "outputs": [
    {
     "name": "stdout",
     "output_type": "stream",
     "text": [
      "instructor\n",
      "ed vul\n"
     ]
    }
   ],
   "source": [
    "pair = ('instructor', 'ed vul')\n",
    "key, value = pair\n",
    "print(key)\n",
    "print(value)"
   ]
  },
  {
   "cell_type": "code",
   "execution_count": 28,
   "id": "secondary-surprise",
   "metadata": {},
   "outputs": [
    {
     "name": "stdout",
     "output_type": "stream",
     "text": [
      "key:  instructor\n",
      "value:  ed vul\n",
      "key:  ta\n",
      "value:  jiaying xu\n",
      "key:  website\n",
      "value:  http://ucsd-css-001.github.io\n"
     ]
    }
   ],
   "source": [
    "for key, value in course.items():\n",
    "    print(\"key: \", key)\n",
    "    print(\"value: \", value)"
   ]
  },
  {
   "cell_type": "markdown",
   "id": "julian-personality",
   "metadata": {},
   "source": [
    "## updating a dictionary"
   ]
  },
  {
   "cell_type": "code",
   "execution_count": 29,
   "id": "subsequent-murder",
   "metadata": {},
   "outputs": [
    {
     "name": "stdout",
     "output_type": "stream",
     "text": [
      "{'instructor': 'ed vul', 'ta': 'jiaying xu', 'website': 'http://ucsd-css-001.github.io'}\n"
     ]
    }
   ],
   "source": [
    "course = dict()\n",
    "course['instructor'] = 'ed vul'\n",
    "course['ta'] = 'jiaying xu'\n",
    "course['website'] = 'http://ucsd-css-001.github.io'\n",
    "\n",
    "print(course)"
   ]
  },
  {
   "cell_type": "code",
   "execution_count": 30,
   "id": "billion-array",
   "metadata": {},
   "outputs": [
    {
     "name": "stdout",
     "output_type": "stream",
     "text": [
      "{'datahub': 'https://datahub.ucsd.edu/user/evul/notebooks/Live%20Lectures/Lecture%205.ipynb', 'instructor': 'edward vul', 'email': 'evul@ucsd.edu'}\n"
     ]
    }
   ],
   "source": [
    "more_course = {'datahub':'https://datahub.ucsd.edu/user/evul/notebooks/Live%20Lectures/Lecture%205.ipynb',\n",
    "              'instructor':'edward vul',\n",
    "              'email':'evul@ucsd.edu'}\n",
    "print(more_course)"
   ]
  },
  {
   "cell_type": "code",
   "execution_count": 31,
   "id": "republican-antigua",
   "metadata": {},
   "outputs": [
    {
     "name": "stdout",
     "output_type": "stream",
     "text": [
      "{'instructor': 'edward vul', 'ta': 'jiaying xu', 'website': 'http://ucsd-css-001.github.io', 'datahub': 'https://datahub.ucsd.edu/user/evul/notebooks/Live%20Lectures/Lecture%205.ipynb', 'email': 'evul@ucsd.edu'}\n"
     ]
    }
   ],
   "source": [
    "course.update(more_course)\n",
    "print(course)"
   ]
  },
  {
   "cell_type": "markdown",
   "id": "continuous-acrobat",
   "metadata": {},
   "source": [
    "## deleting items from a dictionary"
   ]
  },
  {
   "cell_type": "code",
   "execution_count": 32,
   "id": "heard-hawaiian",
   "metadata": {},
   "outputs": [
    {
     "data": {
      "text/plain": [
       "{'instructor': 'edward vul',\n",
       " 'ta': 'jiaying xu',\n",
       " 'website': 'http://ucsd-css-001.github.io',\n",
       " 'datahub': 'https://datahub.ucsd.edu/user/evul/notebooks/Live%20Lectures/Lecture%205.ipynb'}"
      ]
     },
     "execution_count": 32,
     "metadata": {},
     "output_type": "execute_result"
    }
   ],
   "source": [
    "course['email'] = 'test'\n",
    "del course['email']\n",
    "course"
   ]
  },
  {
   "cell_type": "markdown",
   "id": "cordless-dancing",
   "metadata": {},
   "source": [
    "## Using a dictionary to count\n"
   ]
  },
  {
   "cell_type": "code",
   "execution_count": 33,
   "id": "incoming-broad",
   "metadata": {},
   "outputs": [],
   "source": [
    "from random import randint\n",
    "\n",
    "integers = [randint(10, 20) for _ in range(100)]"
   ]
  },
  {
   "cell_type": "code",
   "execution_count": 34,
   "id": "signal-prediction",
   "metadata": {},
   "outputs": [
    {
     "name": "stdout",
     "output_type": "stream",
     "text": [
      "this loop:\n",
      "n: 12\n",
      "this loop:\n",
      "n: 19\n",
      "this loop:\n",
      "n: 13\n",
      "this loop:\n",
      "n: 14\n",
      "this loop:\n",
      "n: 10\n",
      "this loop:\n",
      "n: 14\n",
      "this loop:\n",
      "n: 18\n",
      "this loop:\n",
      "n: 20\n",
      "incrementing counter\n",
      "this loop:\n",
      "n: 10\n",
      "this loop:\n",
      "n: 12\n",
      "this loop:\n",
      "n: 13\n",
      "this loop:\n",
      "n: 12\n",
      "this loop:\n",
      "n: 10\n",
      "this loop:\n",
      "n: 12\n",
      "this loop:\n",
      "n: 20\n",
      "incrementing counter\n",
      "this loop:\n",
      "n: 20\n",
      "incrementing counter\n",
      "this loop:\n",
      "n: 10\n",
      "this loop:\n",
      "n: 20\n",
      "incrementing counter\n",
      "this loop:\n",
      "n: 10\n",
      "this loop:\n",
      "n: 16\n",
      "this loop:\n",
      "n: 19\n",
      "this loop:\n",
      "n: 17\n",
      "this loop:\n",
      "n: 20\n",
      "incrementing counter\n",
      "this loop:\n",
      "n: 10\n",
      "this loop:\n",
      "n: 13\n",
      "this loop:\n",
      "n: 11\n",
      "this loop:\n",
      "n: 12\n",
      "this loop:\n",
      "n: 10\n",
      "this loop:\n",
      "n: 13\n",
      "this loop:\n",
      "n: 18\n",
      "this loop:\n",
      "n: 18\n",
      "this loop:\n",
      "n: 10\n",
      "this loop:\n",
      "n: 19\n",
      "this loop:\n",
      "n: 12\n",
      "this loop:\n",
      "n: 19\n",
      "this loop:\n",
      "n: 20\n",
      "incrementing counter\n",
      "this loop:\n",
      "n: 10\n",
      "this loop:\n",
      "n: 14\n",
      "this loop:\n",
      "n: 20\n",
      "incrementing counter\n",
      "this loop:\n",
      "n: 10\n",
      "this loop:\n",
      "n: 19\n",
      "this loop:\n",
      "n: 17\n",
      "this loop:\n",
      "n: 10\n",
      "this loop:\n",
      "n: 18\n",
      "this loop:\n",
      "n: 20\n",
      "incrementing counter\n",
      "this loop:\n",
      "n: 14\n",
      "this loop:\n",
      "n: 12\n",
      "this loop:\n",
      "n: 15\n",
      "this loop:\n",
      "n: 18\n",
      "this loop:\n",
      "n: 14\n",
      "this loop:\n",
      "n: 12\n",
      "this loop:\n",
      "n: 14\n",
      "this loop:\n",
      "n: 14\n",
      "this loop:\n",
      "n: 18\n",
      "this loop:\n",
      "n: 10\n",
      "this loop:\n",
      "n: 17\n",
      "this loop:\n",
      "n: 19\n",
      "this loop:\n",
      "n: 16\n",
      "this loop:\n",
      "n: 18\n",
      "this loop:\n",
      "n: 20\n",
      "incrementing counter\n",
      "this loop:\n",
      "n: 20\n",
      "incrementing counter\n",
      "this loop:\n",
      "n: 17\n",
      "this loop:\n",
      "n: 15\n",
      "this loop:\n",
      "n: 10\n",
      "this loop:\n",
      "n: 12\n",
      "this loop:\n",
      "n: 20\n",
      "incrementing counter\n",
      "this loop:\n",
      "n: 13\n",
      "this loop:\n",
      "n: 16\n",
      "this loop:\n",
      "n: 13\n",
      "this loop:\n",
      "n: 18\n",
      "this loop:\n",
      "n: 19\n",
      "this loop:\n",
      "n: 20\n",
      "incrementing counter\n",
      "this loop:\n",
      "n: 17\n",
      "this loop:\n",
      "n: 12\n",
      "this loop:\n",
      "n: 16\n",
      "this loop:\n",
      "n: 14\n",
      "this loop:\n",
      "n: 16\n",
      "this loop:\n",
      "n: 16\n",
      "this loop:\n",
      "n: 20\n",
      "incrementing counter\n",
      "this loop:\n",
      "n: 16\n",
      "this loop:\n",
      "n: 14\n",
      "this loop:\n",
      "n: 18\n",
      "this loop:\n",
      "n: 18\n",
      "this loop:\n",
      "n: 18\n",
      "this loop:\n",
      "n: 11\n",
      "this loop:\n",
      "n: 16\n",
      "this loop:\n",
      "n: 18\n",
      "this loop:\n",
      "n: 18\n",
      "this loop:\n",
      "n: 18\n",
      "this loop:\n",
      "n: 14\n",
      "this loop:\n",
      "n: 14\n",
      "this loop:\n",
      "n: 15\n",
      "this loop:\n",
      "n: 12\n",
      "this loop:\n",
      "n: 19\n",
      "this loop:\n",
      "n: 19\n",
      "this loop:\n",
      "n: 13\n",
      "this loop:\n",
      "n: 12\n",
      "this loop:\n",
      "n: 18\n",
      "this loop:\n",
      "n: 15\n",
      "this loop:\n",
      "n: 11\n",
      "13\n"
     ]
    }
   ],
   "source": [
    "# how do we count integers?\n",
    "\n",
    "int_counts = dict()\n",
    "n_of_20 = 0\n",
    "\n",
    "for n in integers:\n",
    "    print('this loop:')\n",
    "    print('n:', n)\n",
    "    if n == 20:\n",
    "        print('incrementing counter')\n",
    "        n_of_20 += 1\n",
    "\n",
    "print(n_of_20)"
   ]
  },
  {
   "cell_type": "code",
   "execution_count": 35,
   "id": "touched-stockholm",
   "metadata": {},
   "outputs": [
    {
     "name": "stdout",
     "output_type": "stream",
     "text": [
      "{12: 12, 19: 9, 13: 7, 14: 11, 10: 13, 18: 15, 20: 13, 16: 8, 17: 5, 11: 3, 15: 4}\n"
     ]
    }
   ],
   "source": [
    "# how do we count integers?\n",
    "\n",
    "int_counts = dict()\n",
    "\n",
    "\n",
    "for n in integers:\n",
    "    #print('this loop:')\n",
    "    #print('n:', n)\n",
    "    if n not in int_counts:\n",
    "        #print(\"making a new key entry\")\n",
    "        int_counts[n] = 0\n",
    "    int_counts[n] = int_counts[n] + 1\n",
    "\n",
    "print(int_counts)"
   ]
  },
  {
   "cell_type": "code",
   "execution_count": null,
   "id": "liable-gnome",
   "metadata": {},
   "outputs": [],
   "source": []
  },
  {
   "cell_type": "code",
   "execution_count": 36,
   "id": "authorized-infection",
   "metadata": {},
   "outputs": [
    {
     "name": "stdout",
     "output_type": "stream",
     "text": [
      "{12: 12, 19: 9, 13: 7, 14: 11, 10: 13, 18: 15, 20: 13, 16: 8, 17: 5, 11: 3, 15: 4}\n"
     ]
    }
   ],
   "source": [
    "print(int_counts)"
   ]
  },
  {
   "cell_type": "code",
   "execution_count": 37,
   "id": "foster-european",
   "metadata": {},
   "outputs": [
    {
     "name": "stdout",
     "output_type": "stream",
     "text": [
      "{12: 12, 19: 9, 13: 7, 14: 11, 10: 13, 18: 15, 20: 13, 16: 8, 17: 5, 11: 3, 15: 4}\n"
     ]
    }
   ],
   "source": [
    "int_counts = dict()\n",
    "\n",
    "for n in integers:\n",
    "    if n not in int_counts:\n",
    "        int_counts[n] = 0\n",
    "    int_counts[n] = int_counts[n] + 1\n",
    "\n",
    "print(int_counts)"
   ]
  },
  {
   "cell_type": "markdown",
   "id": "manufactured-pontiac",
   "metadata": {},
   "source": [
    "## sorting a dictionary"
   ]
  },
  {
   "cell_type": "code",
   "execution_count": 38,
   "id": "hindu-religious",
   "metadata": {},
   "outputs": [
    {
     "data": {
      "text/plain": [
       "{12: 12,\n",
       " 19: 9,\n",
       " 13: 7,\n",
       " 14: 11,\n",
       " 10: 13,\n",
       " 18: 15,\n",
       " 20: 13,\n",
       " 16: 8,\n",
       " 17: 5,\n",
       " 11: 3,\n",
       " 15: 4}"
      ]
     },
     "execution_count": 38,
     "metadata": {},
     "output_type": "execute_result"
    }
   ],
   "source": [
    "int_counts"
   ]
  },
  {
   "cell_type": "code",
   "execution_count": 39,
   "id": "severe-beads",
   "metadata": {},
   "outputs": [
    {
     "name": "stdout",
     "output_type": "stream",
     "text": [
      "10 13\n",
      "11 3\n",
      "12 12\n",
      "13 7\n",
      "14 11\n",
      "15 4\n",
      "16 8\n",
      "17 5\n",
      "18 15\n",
      "19 9\n",
      "20 13\n"
     ]
    }
   ],
   "source": [
    "for key in sorted(int_counts.keys()):\n",
    "    print(key, int_counts[key])"
   ]
  },
  {
   "cell_type": "code",
   "execution_count": 40,
   "id": "agricultural-drove",
   "metadata": {},
   "outputs": [
    {
     "data": {
      "text/plain": [
       "[3, 4, 5, 7, 8, 9, 11, 12, 13, 13, 15]"
      ]
     },
     "execution_count": 40,
     "metadata": {},
     "output_type": "execute_result"
    }
   ],
   "source": [
    "sorted(int_counts.values())"
   ]
  },
  {
   "cell_type": "code",
   "execution_count": 41,
   "id": "recovered-variation",
   "metadata": {},
   "outputs": [
    {
     "name": "stdout",
     "output_type": "stream",
     "text": [
      "(12, 12)\n",
      "12\n",
      "(19, 9)\n",
      "9\n",
      "(13, 7)\n",
      "7\n",
      "(14, 11)\n",
      "11\n",
      "(10, 13)\n",
      "13\n",
      "(18, 15)\n",
      "15\n",
      "(20, 13)\n",
      "13\n",
      "(16, 8)\n",
      "8\n",
      "(17, 5)\n",
      "5\n",
      "(11, 3)\n",
      "3\n",
      "(15, 4)\n",
      "4\n"
     ]
    }
   ],
   "source": [
    "from operator import itemgetter\n",
    "\n",
    "fn = itemgetter(1)\n",
    "\n",
    "for item in int_counts.items():\n",
    "    print(item)\n",
    "    print(fn(item))"
   ]
  },
  {
   "cell_type": "code",
   "execution_count": 42,
   "id": "directed-arena",
   "metadata": {},
   "outputs": [
    {
     "data": {
      "text/plain": [
       "[(18, 15),\n",
       " (10, 13),\n",
       " (20, 13),\n",
       " (12, 12),\n",
       " (14, 11),\n",
       " (19, 9),\n",
       " (16, 8),\n",
       " (13, 7),\n",
       " (17, 5),\n",
       " (15, 4),\n",
       " (11, 3)]"
      ]
     },
     "execution_count": 42,
     "metadata": {},
     "output_type": "execute_result"
    }
   ],
   "source": [
    "sorted(int_counts.items(), key = itemgetter(1), reverse=True)"
   ]
  },
  {
   "cell_type": "code",
   "execution_count": 43,
   "id": "orange-ethiopia",
   "metadata": {},
   "outputs": [
    {
     "name": "stdout",
     "output_type": "stream",
     "text": [
      "18 15\n",
      "10 13\n",
      "20 13\n",
      "12 12\n",
      "14 11\n",
      "19 9\n",
      "16 8\n",
      "13 7\n",
      "17 5\n",
      "15 4\n",
      "11 3\n"
     ]
    }
   ],
   "source": [
    "for k,v in sorted(int_counts.items(), key = itemgetter(1), reverse=True):\n",
    "    print(k, v)\n"
   ]
  },
  {
   "cell_type": "code",
   "execution_count": 44,
   "id": "fifth-conservative",
   "metadata": {},
   "outputs": [],
   "source": [
    "sentence = \"This course develops computational thinking practices and skills critical for defining, describing and analyzing social science problems using a computational approach. Students will learn to program in Python in the context of computational social science problems.\""
   ]
  },
  {
   "cell_type": "code",
   "execution_count": 45,
   "id": "victorian-allen",
   "metadata": {},
   "outputs": [
    {
     "name": "stdout",
     "output_type": "stream",
     "text": [
      "This course develops computational thinking practices and skills critical for defining, describing and analyzing social science problems using a computational approach. Students will learn to program in Python in the context of computational social science problems.\n"
     ]
    }
   ],
   "source": [
    "print(sentence)"
   ]
  },
  {
   "cell_type": "code",
   "execution_count": 46,
   "id": "bigger-mustang",
   "metadata": {},
   "outputs": [],
   "source": [
    "# goal is to count letters.\n",
    "\n",
    "# make a new dictionary to keep track of the count of each letter.\n",
    "# keys will be letters.  values will be counts.\n",
    "letter_count = dict()\n",
    "\n",
    "# loop over all characters in the sentence\n",
    "for character in sentence:\n",
    "    # print(character)\n",
    "    character = character.lower()\n",
    "    # check if the character is a letter\n",
    "    if character.isalpha():\n",
    "        #print(\"its a letter!\")\n",
    "        if character not in letter_count:\n",
    "            #print(\"make a new key\")\n",
    "            letter_count[character] = 0\n",
    "        letter_count[character] = letter_count[character] + 1"
   ]
  },
  {
   "cell_type": "code",
   "execution_count": null,
   "id": "disturbed-vertex",
   "metadata": {},
   "outputs": [],
   "source": []
  },
  {
   "cell_type": "code",
   "execution_count": null,
   "id": "found-boxing",
   "metadata": {},
   "outputs": [],
   "source": []
  },
  {
   "cell_type": "code",
   "execution_count": 47,
   "id": "increased-friendly",
   "metadata": {},
   "outputs": [
    {
     "data": {
      "text/plain": [
       "{'t': 17,\n",
       " 'h': 5,\n",
       " 'i': 23,\n",
       " 's': 16,\n",
       " 'c': 17,\n",
       " 'o': 19,\n",
       " 'u': 6,\n",
       " 'r': 11,\n",
       " 'e': 16,\n",
       " 'd': 6,\n",
       " 'v': 1,\n",
       " 'l': 15,\n",
       " 'p': 11,\n",
       " 'm': 6,\n",
       " 'a': 19,\n",
       " 'n': 21,\n",
       " 'k': 2,\n",
       " 'g': 6,\n",
       " 'f': 3,\n",
       " 'b': 3,\n",
       " 'y': 2,\n",
       " 'z': 1,\n",
       " 'w': 1,\n",
       " 'x': 1}"
      ]
     },
     "execution_count": 47,
     "metadata": {},
     "output_type": "execute_result"
    }
   ],
   "source": [
    "letter_count"
   ]
  },
  {
   "cell_type": "code",
   "execution_count": 48,
   "id": "conditional-synthetic",
   "metadata": {},
   "outputs": [
    {
     "data": {
      "text/plain": [
       "24"
      ]
     },
     "execution_count": 48,
     "metadata": {},
     "output_type": "execute_result"
    }
   ],
   "source": [
    "len(letter_count)"
   ]
  },
  {
   "cell_type": "code",
   "execution_count": 49,
   "id": "scientific-glory",
   "metadata": {},
   "outputs": [
    {
     "name": "stdout",
     "output_type": "stream",
     "text": [
      "a 19\n",
      "b 3\n",
      "c 17\n",
      "d 6\n",
      "e 16\n",
      "f 3\n",
      "g 6\n",
      "h 5\n",
      "i 23\n",
      "k 2\n",
      "l 15\n",
      "m 6\n",
      "n 21\n",
      "o 19\n",
      "p 11\n",
      "r 11\n",
      "s 16\n",
      "t 17\n",
      "u 6\n",
      "v 1\n",
      "w 1\n",
      "x 1\n",
      "y 2\n",
      "z 1\n"
     ]
    }
   ],
   "source": [
    "for key in sorted(letter_count.keys()):\n",
    "    print(key, letter_count[key])"
   ]
  },
  {
   "cell_type": "code",
   "execution_count": 50,
   "id": "approved-father",
   "metadata": {},
   "outputs": [],
   "source": [
    "# what is the most frequent letter?\n",
    "\n",
    "most_frequent = ''\n",
    "max_count = 0\n",
    "for key,value in letter_count.items():\n",
    "    if value > max_count:\n",
    "        # current value is higher than previously seen maximum\n",
    "        max_count = value\n",
    "        most_frequent = key"
   ]
  },
  {
   "cell_type": "code",
   "execution_count": 51,
   "id": "equal-finish",
   "metadata": {},
   "outputs": [
    {
     "name": "stdout",
     "output_type": "stream",
     "text": [
      "i 23\n"
     ]
    }
   ],
   "source": [
    "print(most_frequent, max_count)"
   ]
  },
  {
   "cell_type": "code",
   "execution_count": 52,
   "id": "indonesian-adrian",
   "metadata": {},
   "outputs": [
    {
     "name": "stdout",
     "output_type": "stream",
     "text": [
      "['j', 'q']\n"
     ]
    }
   ],
   "source": [
    "# which letters never occurred?\n",
    "# which letters do not appear as a key in letter_count\n",
    "\n",
    "missing = []\n",
    "letters = 'abcdefghijklmnopqrstuvwxyz'\n",
    "# run a for loop to see if the values are or are not in the letters variable\n",
    "for letter in letters:\n",
    "    #print(letter)\n",
    "    if letter not in letter_count:\n",
    "        missing.append(letter)\n",
    "\n",
    "print(missing)"
   ]
  },
  {
   "cell_type": "code",
   "execution_count": 53,
   "id": "color-trader",
   "metadata": {},
   "outputs": [],
   "source": [
    "del letter_count['a']"
   ]
  },
  {
   "cell_type": "code",
   "execution_count": 54,
   "id": "defined-portugal",
   "metadata": {},
   "outputs": [
    {
     "name": "stdout",
     "output_type": "stream",
     "text": [
      "b 3\n",
      "c 17\n",
      "d 6\n",
      "e 16\n",
      "f 3\n",
      "g 6\n",
      "h 5\n",
      "i 23\n",
      "k 2\n",
      "l 15\n",
      "m 6\n",
      "n 21\n",
      "o 19\n",
      "p 11\n",
      "r 11\n",
      "s 16\n",
      "t 17\n",
      "u 6\n",
      "v 1\n",
      "w 1\n",
      "x 1\n",
      "y 2\n",
      "z 1\n"
     ]
    }
   ],
   "source": [
    "for key in sorted(letter_count.keys()):\n",
    "    print(key, letter_count[key])"
   ]
  },
  {
   "cell_type": "code",
   "execution_count": 55,
   "id": "surprising-fairy",
   "metadata": {},
   "outputs": [
    {
     "name": "stdout",
     "output_type": "stream",
     "text": [
      "i 23\n",
      "n 21\n",
      "o 19\n",
      "t 17\n",
      "c 17\n",
      "s 16\n",
      "e 16\n",
      "l 15\n",
      "r 11\n",
      "p 11\n",
      "u 6\n",
      "d 6\n",
      "m 6\n",
      "g 6\n",
      "h 5\n",
      "f 3\n",
      "b 3\n",
      "k 2\n",
      "y 2\n",
      "v 1\n",
      "z 1\n",
      "w 1\n",
      "x 1\n"
     ]
    }
   ],
   "source": [
    "# print the list of letters from most to least common.\n",
    "\n",
    "top_5 = []\n",
    "\n",
    "for key,value in sorted(letter_count.items(), key=itemgetter(1), reverse=True):\n",
    "    print(key, value)"
   ]
  },
  {
   "cell_type": "code",
   "execution_count": 56,
   "id": "distinct-certification",
   "metadata": {},
   "outputs": [
    {
     "name": "stdout",
     "output_type": "stream",
     "text": [
      "['i', 'n', 'o', 't', 'c']\n"
     ]
    }
   ],
   "source": [
    "# get list of top 5 most frequent letters\n",
    "\n",
    "top_5 = []\n",
    "\n",
    "i = 0\n",
    "for key,value in sorted(letter_count.items(), key=itemgetter(1), reverse=True):\n",
    "    if i < 5:\n",
    "        top_5.append(key)\n",
    "        i += 1\n",
    "\n",
    "print(top_5)\n",
    "\n"
   ]
  },
  {
   "cell_type": "code",
   "execution_count": 57,
   "id": "tough-ordering",
   "metadata": {},
   "outputs": [
    {
     "name": "stdout",
     "output_type": "stream",
     "text": [
      "['i', 'n', 'o', 't', 'c']\n"
     ]
    }
   ],
   "source": [
    "# get list of top 5 most frequent letters\n",
    "\n",
    "top_5 = []\n",
    "\n",
    "sorted_items = sorted(letter_count.items(), key=itemgetter(1), reverse=True)\n",
    "for key,value in sorted_items[0:5]:\n",
    "    top_5.append(key)\n",
    "\n",
    "print(top_5)"
   ]
  },
  {
   "cell_type": "markdown",
   "id": "absolute-guide",
   "metadata": {},
   "source": [
    "## Problem set questions"
   ]
  },
  {
   "cell_type": "code",
   "execution_count": null,
   "id": "numeric-plumbing",
   "metadata": {},
   "outputs": [],
   "source": []
  }
 ],
 "metadata": {
  "kernelspec": {
   "display_name": "Python 3",
   "language": "python",
   "name": "python3"
  },
  "language_info": {
   "codemirror_mode": {
    "name": "ipython",
    "version": 3
   },
   "file_extension": ".py",
   "mimetype": "text/x-python",
   "name": "python",
   "nbconvert_exporter": "python",
   "pygments_lexer": "ipython3",
   "version": "3.8.5"
  }
 },
 "nbformat": 4,
 "nbformat_minor": 5
}