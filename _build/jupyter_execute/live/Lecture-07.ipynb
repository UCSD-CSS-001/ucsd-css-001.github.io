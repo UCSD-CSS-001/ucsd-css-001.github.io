{
 "cells": [
  {
   "cell_type": "markdown",
   "id": "aerial-council",
   "metadata": {},
   "source": [
    "# Lecture 7: Objects and classes"
   ]
  },
  {
   "cell_type": "markdown",
   "id": "subsequent-packet",
   "metadata": {},
   "source": [
    "## Why objects?\n",
    "\n",
    "Data and methods are often conceptually bundled.  Consider something as simple as a date.  How should we represent/store it?  How do we want to use it?"
   ]
  },
  {
   "cell_type": "code",
   "execution_count": 1,
   "id": "chemical-alpha",
   "metadata": {},
   "outputs": [],
   "source": [
    "today = \"August 24, 2021\"\n",
    "today = (2021, 8, 24)\n",
    "today = {'year': 2021, 'month': 8, 'day': 24}\n",
    "today = 2021*365 + 8*30 + 24\n",
    "today_year = 2021\n",
    "today_month = 8\n",
    "today_day = 24"
   ]
  },
  {
   "cell_type": "code",
   "execution_count": 2,
   "id": "yellow-archive",
   "metadata": {},
   "outputs": [
    {
     "ename": "IndentationError",
     "evalue": "expected an indented block (<ipython-input-2-7a63242ef4a5>, line 7)",
     "output_type": "error",
     "traceback": [
      "\u001b[0;36m  File \u001b[0;32m\"<ipython-input-2-7a63242ef4a5>\"\u001b[0;36m, line \u001b[0;32m7\u001b[0m\n\u001b[0;31m    def date_print_american():\u001b[0m\n\u001b[0m    ^\u001b[0m\n\u001b[0;31mIndentationError\u001b[0m\u001b[0;31m:\u001b[0m expected an indented block\n"
     ]
    }
   ],
   "source": [
    "# print it nicely?\n",
    "# print it in different formats.  2021-08-24, 08/24/2021, 24/8/2021\n",
    "# subtraction.  how many days between today and new year?\n",
    "\n",
    "def date_print_words():\n",
    "    \n",
    "def date_print_american():\n",
    "\n",
    "def date_print_rest():\n",
    "\n",
    "def date_subtract():"
   ]
  },
  {
   "cell_type": "code",
   "execution_count": 3,
   "id": "suburban-graphics",
   "metadata": {},
   "outputs": [],
   "source": [
    "from datetime import date\n",
    "\n",
    "today = date(2021, 8, 24)"
   ]
  },
  {
   "cell_type": "code",
   "execution_count": 4,
   "id": "dependent-field",
   "metadata": {},
   "outputs": [
    {
     "data": {
      "text/plain": [
       "'2021-08-24'"
      ]
     },
     "execution_count": 4,
     "metadata": {},
     "output_type": "execute_result"
    }
   ],
   "source": [
    "today.isoformat()"
   ]
  },
  {
   "cell_type": "code",
   "execution_count": 5,
   "id": "backed-belly",
   "metadata": {},
   "outputs": [
    {
     "data": {
      "text/plain": [
       "['__add__',\n",
       " '__class__',\n",
       " '__delattr__',\n",
       " '__dir__',\n",
       " '__doc__',\n",
       " '__eq__',\n",
       " '__format__',\n",
       " '__ge__',\n",
       " '__getattribute__',\n",
       " '__gt__',\n",
       " '__hash__',\n",
       " '__init__',\n",
       " '__init_subclass__',\n",
       " '__le__',\n",
       " '__lt__',\n",
       " '__ne__',\n",
       " '__new__',\n",
       " '__radd__',\n",
       " '__reduce__',\n",
       " '__reduce_ex__',\n",
       " '__repr__',\n",
       " '__rsub__',\n",
       " '__setattr__',\n",
       " '__sizeof__',\n",
       " '__str__',\n",
       " '__sub__',\n",
       " '__subclasshook__',\n",
       " 'ctime',\n",
       " 'day',\n",
       " 'fromisocalendar',\n",
       " 'fromisoformat',\n",
       " 'fromordinal',\n",
       " 'fromtimestamp',\n",
       " 'isocalendar',\n",
       " 'isoformat',\n",
       " 'isoweekday',\n",
       " 'max',\n",
       " 'min',\n",
       " 'month',\n",
       " 'replace',\n",
       " 'resolution',\n",
       " 'strftime',\n",
       " 'timetuple',\n",
       " 'today',\n",
       " 'toordinal',\n",
       " 'weekday',\n",
       " 'year']"
      ]
     },
     "execution_count": 5,
     "metadata": {},
     "output_type": "execute_result"
    }
   ],
   "source": [
    "dir(today)"
   ]
  },
  {
   "cell_type": "markdown",
   "id": "threaded-hunter",
   "metadata": {},
   "source": [
    "**objects are bundles of related attributes (data) and methods (functions)**"
   ]
  },
  {
   "cell_type": "markdown",
   "id": "opponent-makeup",
   "metadata": {},
   "source": [
    "## Defining classes, creating instances\n",
    "\n",
    "### Defining classes\n",
    "\n",
    "**a class is an object template.**"
   ]
  },
  {
   "cell_type": "code",
   "execution_count": 6,
   "id": "blind-heaven",
   "metadata": {},
   "outputs": [],
   "source": [
    "class UselessObject:\n",
    "    x = 10\n",
    "    def print(self):\n",
    "        print('my value of x is: ', self.x)"
   ]
  },
  {
   "cell_type": "code",
   "execution_count": 7,
   "id": "minor-casting",
   "metadata": {},
   "outputs": [],
   "source": [
    "useless_1 = UselessObject()\n",
    "useless_2 = UselessObject()"
   ]
  },
  {
   "cell_type": "code",
   "execution_count": 8,
   "id": "neural-progress",
   "metadata": {},
   "outputs": [
    {
     "ename": "TypeError",
     "evalue": "print() takes 1 positional argument but 2 were given",
     "output_type": "error",
     "traceback": [
      "\u001b[0;31m---------------------------------------------------------------------------\u001b[0m",
      "\u001b[0;31mTypeError\u001b[0m                                 Traceback (most recent call last)",
      "\u001b[0;32m<ipython-input-8-f2d7b452bf32>\u001b[0m in \u001b[0;36m<module>\u001b[0;34m\u001b[0m\n\u001b[0;32m----> 1\u001b[0;31m \u001b[0museless_1\u001b[0m\u001b[0;34m.\u001b[0m\u001b[0mprint\u001b[0m\u001b[0;34m(\u001b[0m\u001b[0;36m4\u001b[0m\u001b[0;34m)\u001b[0m\u001b[0;34m\u001b[0m\u001b[0;34m\u001b[0m\u001b[0m\n\u001b[0m",
      "\u001b[0;31mTypeError\u001b[0m: print() takes 1 positional argument but 2 were given"
     ]
    }
   ],
   "source": [
    "useless_1.print(4)"
   ]
  },
  {
   "cell_type": "markdown",
   "id": "classified-courtesy",
   "metadata": {},
   "source": [
    "#### class attributes\n",
    "\n",
    "#### class methods \n",
    "\n",
    "**all class methods have `self` as the first argument**.  `self` is never *explicitly* passed in a method call, but is inserted implicitly.  This can yield confusing error messages."
   ]
  },
  {
   "cell_type": "markdown",
   "id": "general-providence",
   "metadata": {},
   "source": [
    "### Instances, constructor, and self\n",
    "\n",
    "#### __init__\n",
    "\n",
    "**the `__init__` method is the *constructor*, setting up instance attributes**"
   ]
  },
  {
   "cell_type": "code",
   "execution_count": 9,
   "id": "controlled-slovak",
   "metadata": {},
   "outputs": [],
   "source": [
    "class Dog:\n",
    "    def __init__(self, name, weight):\n",
    "        self.name = name\n",
    "        self.weight = weight\n",
    "    \n",
    "    def speak(self):\n",
    "        print(f'Hi, my name is {self.name}, ' + \n",
    "              f'and I weight {self.weight} lbs')"
   ]
  },
  {
   "cell_type": "code",
   "execution_count": 10,
   "id": "identical-sodium",
   "metadata": {},
   "outputs": [],
   "source": [
    "dog1 = Dog('rover', 67)\n",
    "dog2 = Dog('sparky', 15)\n"
   ]
  },
  {
   "cell_type": "code",
   "execution_count": 11,
   "id": "placed-desktop",
   "metadata": {},
   "outputs": [
    {
     "data": {
      "text/plain": [
       "'sparky'"
      ]
     },
     "execution_count": 11,
     "metadata": {},
     "output_type": "execute_result"
    }
   ],
   "source": [
    "dog2.name"
   ]
  },
  {
   "cell_type": "code",
   "execution_count": 12,
   "id": "short-arkansas",
   "metadata": {},
   "outputs": [
    {
     "name": "stdout",
     "output_type": "stream",
     "text": [
      "Hi, my name is rover, and I weight 67 lbs\n"
     ]
    }
   ],
   "source": [
    "dog1.speak()"
   ]
  },
  {
   "cell_type": "code",
   "execution_count": 13,
   "id": "institutional-rabbit",
   "metadata": {},
   "outputs": [
    {
     "name": "stdout",
     "output_type": "stream",
     "text": [
      "Hi, my name is sparky, and I weight 15 lbs\n"
     ]
    }
   ],
   "source": [
    "dog2.speak()"
   ]
  },
  {
   "cell_type": "code",
   "execution_count": 14,
   "id": "exposed-oklahoma",
   "metadata": {},
   "outputs": [
    {
     "name": "stdout",
     "output_type": "stream",
     "text": [
      "Hi, my name is foo, and I weight 67 lbs\n",
      "Hi, my name is sparky, and I weight 15 lbs\n"
     ]
    }
   ],
   "source": [
    "dog1.name = 'foo'\n",
    "\n",
    "dog1.speak()\n",
    "dog2.speak()"
   ]
  },
  {
   "cell_type": "markdown",
   "id": "brazilian-display",
   "metadata": {},
   "source": [
    "#### instances\n",
    "\n",
    "**an instance of a class is a specific object made from that class template**\n",
    "\n",
    "#### self\n",
    "\n",
    "**`self` is the conventional name assigned to the first class method argument, which always points to the instance itself** \n",
    "\n",
    "Why do we need `self`?"
   ]
  },
  {
   "cell_type": "code",
   "execution_count": 15,
   "id": "third-minister",
   "metadata": {},
   "outputs": [],
   "source": [
    "class Student:\n",
    "    # name\n",
    "    # id\n",
    "    # year of enrollment\n",
    "    # course_history: dictionary of classes.\n",
    "    def __init__(self, name, student_id, enrollment_year):\n",
    "        self.name = name\n",
    "        self.student_id = student_id\n",
    "        self.enrollment_year = enrollment_year\n",
    "        self.course_history = dict()\n",
    "    \n",
    "    def take_course(self, course_name, course_grade):\n",
    "        self.course_history[course_name] = course_grade\n",
    "    \n",
    "    def gpa(self):\n",
    "        grades = self.course_history.values()\n",
    "        if len(grades) > 0:\n",
    "            return sum(grades) / len(grades)\n",
    "        else:\n",
    "            return None\n",
    "    "
   ]
  },
  {
   "cell_type": "code",
   "execution_count": 16,
   "id": "coral-doubt",
   "metadata": {},
   "outputs": [
    {
     "name": "stdout",
     "output_type": "stream",
     "text": [
      "ed vul a0156474 {}\n"
     ]
    }
   ],
   "source": [
    "student1 = Student('ed vul', 'a0156474', 2010)\n",
    "print(student1.name, student1.student_id, student1.course_history)"
   ]
  },
  {
   "cell_type": "code",
   "execution_count": 17,
   "id": "activated-pittsburgh",
   "metadata": {},
   "outputs": [],
   "source": [
    "student1.take_course('css1', 2.8)\n",
    "student1.take_course('css2', 3.5)\n",
    "student1.take_course('psyc1', 4.0)\n",
    "student1.take_course('econ1', 4.0)\n",
    "student1.take_course('cogs1', 4.0)"
   ]
  },
  {
   "cell_type": "code",
   "execution_count": 18,
   "id": "severe-practitioner",
   "metadata": {},
   "outputs": [],
   "source": [
    "x = [1, 2, 3]\n",
    "x.append(4)"
   ]
  },
  {
   "cell_type": "code",
   "execution_count": 19,
   "id": "infinite-gazette",
   "metadata": {},
   "outputs": [
    {
     "data": {
      "text/plain": [
       "{'css1': 2.8, 'css2': 3.5, 'psyc1': 4.0, 'econ1': 4.0, 'cogs1': 4.0}"
      ]
     },
     "execution_count": 19,
     "metadata": {},
     "output_type": "execute_result"
    }
   ],
   "source": [
    "student1.course_history"
   ]
  },
  {
   "cell_type": "code",
   "execution_count": 20,
   "id": "victorian-reference",
   "metadata": {},
   "outputs": [
    {
     "data": {
      "text/plain": [
       "3.66"
      ]
     },
     "execution_count": 20,
     "metadata": {},
     "output_type": "execute_result"
    }
   ],
   "source": [
    "student1.gpa()"
   ]
  },
  {
   "cell_type": "code",
   "execution_count": 21,
   "id": "revolutionary-alliance",
   "metadata": {},
   "outputs": [],
   "source": [
    "student2 = Student('erik', '8', 2018)\n",
    "\n",
    "student2.take_course('css1', 2.8)\n",
    "student2.take_course('css2', 2.4)\n",
    "student2.take_course('econ3', 3.4)\n",
    "student2.take_course('econ5', 4.4)\n",
    "student2.take_course('econ100', 100.4)"
   ]
  },
  {
   "cell_type": "code",
   "execution_count": 22,
   "id": "missing-victorian",
   "metadata": {},
   "outputs": [
    {
     "data": {
      "text/plain": [
       "22.68"
      ]
     },
     "execution_count": 22,
     "metadata": {},
     "output_type": "execute_result"
    }
   ],
   "source": [
    "student2.gpa()"
   ]
  },
  {
   "cell_type": "code",
   "execution_count": null,
   "id": "stock-split",
   "metadata": {},
   "outputs": [],
   "source": []
  },
  {
   "cell_type": "code",
   "execution_count": 23,
   "id": "convinced-northeast",
   "metadata": {},
   "outputs": [
    {
     "ename": "SyntaxError",
     "evalue": "unexpected EOF while parsing (<ipython-input-23-a807f1716908>, line 6)",
     "output_type": "error",
     "traceback": [
      "\u001b[0;36m  File \u001b[0;32m\"<ipython-input-23-a807f1716908>\"\u001b[0;36m, line \u001b[0;32m6\u001b[0m\n\u001b[0;31m    def gpa(course_history):\u001b[0m\n\u001b[0m                            ^\u001b[0m\n\u001b[0;31mSyntaxError\u001b[0m\u001b[0;31m:\u001b[0m unexpected EOF while parsing\n"
     ]
    }
   ],
   "source": [
    "student1_name\n",
    "student1_id\n",
    "student1_enrollment_year\n",
    "student1_course_history\n",
    "\n",
    "def gpa(course_history):\n"
   ]
  },
  {
   "cell_type": "code",
   "execution_count": null,
   "id": "broke-light",
   "metadata": {},
   "outputs": [],
   "source": []
  },
  {
   "cell_type": "code",
   "execution_count": 24,
   "id": "pressed-mining",
   "metadata": {},
   "outputs": [],
   "source": [
    "students = [Student('ed', 'id34', 2010), \n",
    "            Student('erik', 'id61234', 2018)]"
   ]
  },
  {
   "cell_type": "code",
   "execution_count": 25,
   "id": "renewable-vancouver",
   "metadata": {},
   "outputs": [],
   "source": [
    "for student in students:\n",
    "    student.take_course('psyc1', 3.5)"
   ]
  },
  {
   "cell_type": "code",
   "execution_count": 26,
   "id": "happy-component",
   "metadata": {},
   "outputs": [
    {
     "name": "stdout",
     "output_type": "stream",
     "text": [
      "ed 3.5\n",
      "erik 3.5\n"
     ]
    }
   ],
   "source": [
    "for student in students:\n",
    "    print(student.name, student.course_history['psyc1'])\n"
   ]
  },
  {
   "cell_type": "code",
   "execution_count": 27,
   "id": "chronic-andorra",
   "metadata": {},
   "outputs": [],
   "source": [
    "# bank account class\n",
    "# attributes?  number, balance, name\n",
    "# methods?  withdraw, deposit, statement\n",
    "\n",
    "from random import randint\n",
    "\n",
    "class BankAccount:\n",
    "    def __init__(self, name):\n",
    "        self.name = name\n",
    "        self.balance = 0\n",
    "        self.number = str(randint(10**9, 10**10-1))\n",
    "        self.transactions = []\n",
    "    \n",
    "    def deposit(self, amount):\n",
    "        \"\"\"takes amount and adds to balance\"\"\"\n",
    "        \n",
    "        if amount > 0:\n",
    "            # add amount to balance\n",
    "            self.balance += amount\n",
    "            self.transactions.append(['deposit',amount])\n",
    "        else:\n",
    "            print(\"Can only deposit positive money\")\n",
    "    \n",
    "    def withdraw(self, amount):\n",
    "        \"\"\"subtracts amount from balance...\"\"\"\n",
    "        if amount > self.balance:\n",
    "            print(\"insufficient funds\")\n",
    "        else:\n",
    "            self.balance -= amount\n",
    "            self.transactions.append(['withdraw',amount])\n",
    "    \n",
    "    def statement(self):\n",
    "        summary = f'Bank Account # {self.number}\\n' + \\\n",
    "               f'Owner: {self.name}\\n' + \\\n",
    "               f'Balance: {self.balance}'\n",
    "        transaction_history = ''\n",
    "        for transaction in self.transactions:\n",
    "            transaction_history += f'\\n {transaction[0]} {transaction[1]}'\n",
    "            \n",
    "        return(summary + transaction_history)\n"
   ]
  },
  {
   "cell_type": "code",
   "execution_count": 28,
   "id": "silver-airline",
   "metadata": {},
   "outputs": [
    {
     "name": "stdout",
     "output_type": "stream",
     "text": [
      "100\n",
      "0\n"
     ]
    }
   ],
   "source": [
    "checking = BankAccount('ed vul')\n",
    "savings = BankAccount('erik')\n",
    "checking.deposit(100)\n",
    "print(checking.balance)\n",
    "print(savings.balance)\n"
   ]
  },
  {
   "cell_type": "code",
   "execution_count": 29,
   "id": "crazy-airfare",
   "metadata": {},
   "outputs": [
    {
     "data": {
      "text/plain": [
       "0"
      ]
     },
     "execution_count": 29,
     "metadata": {},
     "output_type": "execute_result"
    }
   ],
   "source": [
    "savings.balance"
   ]
  },
  {
   "cell_type": "code",
   "execution_count": 30,
   "id": "japanese-billy",
   "metadata": {},
   "outputs": [
    {
     "name": "stdout",
     "output_type": "stream",
     "text": [
      "checking.name='ed vul', checking.number='5242442666', checking.balance=100\n"
     ]
    }
   ],
   "source": [
    "print(f'{checking.name=}, {checking.number=}, {checking.balance=}')"
   ]
  },
  {
   "cell_type": "code",
   "execution_count": 31,
   "id": "collected-julian",
   "metadata": {},
   "outputs": [
    {
     "name": "stdout",
     "output_type": "stream",
     "text": [
      "checking.name='ed vul', checking.balance=200\n",
      "checking.name='ed vul', checking.balance=180\n",
      "checking.name='ed vul', checking.balance=160\n",
      "checking.name='ed vul', checking.balance=140\n",
      "checking.name='ed vul', checking.balance=340\n",
      "checking.name='ed vul', checking.balance=100\n",
      "checking.name='ed vul', checking.balance=400\n",
      "insufficient funds\n",
      "checking.name='ed vul', checking.balance=400\n"
     ]
    }
   ],
   "source": [
    "checking.deposit(100)\n",
    "print(f'{checking.name=}, {checking.balance=}')\n",
    "checking.withdraw(20)\n",
    "print(f'{checking.name=}, {checking.balance=}')\n",
    "checking.withdraw(20)\n",
    "print(f'{checking.name=}, {checking.balance=}')\n",
    "checking.withdraw(20)\n",
    "print(f'{checking.name=}, {checking.balance=}')\n",
    "checking.deposit(200)\n",
    "print(f'{checking.name=}, {checking.balance=}')\n",
    "checking.withdraw(240)\n",
    "print(f'{checking.name=}, {checking.balance=}')\n",
    "checking.deposit(300)\n",
    "print(f'{checking.name=}, {checking.balance=}')\n",
    "checking.withdraw(500)\n",
    "print(f'{checking.name=}, {checking.balance=}')"
   ]
  },
  {
   "cell_type": "code",
   "execution_count": 32,
   "id": "aging-entrepreneur",
   "metadata": {},
   "outputs": [
    {
     "name": "stdout",
     "output_type": "stream",
     "text": [
      "Bank Account # 5242442666\n",
      "Owner: ed vul\n",
      "Balance: 400\n",
      " deposit 100\n",
      " deposit 100\n",
      " withdraw 20\n",
      " withdraw 20\n",
      " withdraw 20\n",
      " deposit 200\n",
      " withdraw 240\n",
      " deposit 300\n"
     ]
    }
   ],
   "source": [
    "print(checking.statement())"
   ]
  },
  {
   "cell_type": "markdown",
   "id": "controlled-differential",
   "metadata": {},
   "source": [
    "### Summary\n",
    "\n",
    "object: bundle of attributes and methods\n",
    "\n",
    "class: is a template\n",
    "\n",
    "instance of a class: "
   ]
  },
  {
   "cell_type": "markdown",
   "id": "cultural-maple",
   "metadata": {},
   "source": [
    "## Advanced \n",
    "\n",
    "### Everything in Python is an object\n",
    "\n",
    "`dir`"
   ]
  },
  {
   "cell_type": "code",
   "execution_count": 33,
   "id": "devoted-shareware",
   "metadata": {},
   "outputs": [
    {
     "data": {
      "text/plain": [
       "True"
      ]
     },
     "execution_count": 33,
     "metadata": {},
     "output_type": "execute_result"
    }
   ],
   "source": [
    "isinstance(BankAccount, object)"
   ]
  },
  {
   "cell_type": "code",
   "execution_count": 34,
   "id": "distant-commonwealth",
   "metadata": {},
   "outputs": [
    {
     "data": {
      "text/plain": [
       "['__add__',\n",
       " '__class__',\n",
       " '__contains__',\n",
       " '__delattr__',\n",
       " '__delitem__',\n",
       " '__dir__',\n",
       " '__doc__',\n",
       " '__eq__',\n",
       " '__format__',\n",
       " '__ge__',\n",
       " '__getattribute__',\n",
       " '__getitem__',\n",
       " '__gt__',\n",
       " '__hash__',\n",
       " '__iadd__',\n",
       " '__imul__',\n",
       " '__init__',\n",
       " '__init_subclass__',\n",
       " '__iter__',\n",
       " '__le__',\n",
       " '__len__',\n",
       " '__lt__',\n",
       " '__mul__',\n",
       " '__ne__',\n",
       " '__new__',\n",
       " '__reduce__',\n",
       " '__reduce_ex__',\n",
       " '__repr__',\n",
       " '__reversed__',\n",
       " '__rmul__',\n",
       " '__setattr__',\n",
       " '__setitem__',\n",
       " '__sizeof__',\n",
       " '__str__',\n",
       " '__subclasshook__',\n",
       " 'append',\n",
       " 'clear',\n",
       " 'copy',\n",
       " 'count',\n",
       " 'extend',\n",
       " 'index',\n",
       " 'insert',\n",
       " 'pop',\n",
       " 'remove',\n",
       " 'reverse',\n",
       " 'sort']"
      ]
     },
     "execution_count": 34,
     "metadata": {},
     "output_type": "execute_result"
    }
   ],
   "source": [
    "dir([1, 2, 3])"
   ]
  },
  {
   "cell_type": "code",
   "execution_count": 35,
   "id": "choice-music",
   "metadata": {},
   "outputs": [
    {
     "name": "stdout",
     "output_type": "stream",
     "text": [
      "[1, 2, 3, 100] [4, 5, 6]\n"
     ]
    }
   ],
   "source": [
    "x = [1, 2, 3]\n",
    "y = [4, 5, 6]\n",
    "x.append(100)\n",
    "print(x, y)"
   ]
  },
  {
   "cell_type": "markdown",
   "id": "wanted-houston",
   "metadata": {},
   "source": [
    "### class attributes vs instance attributes\n",
    "\n",
    "- again, difference between mutable and immutable, like local vs global variables in functions\n",
    "\n",
    "- if it will change, it should probably be an instance attribute."
   ]
  },
  {
   "cell_type": "markdown",
   "id": "thick-latest",
   "metadata": {},
   "source": [
    "### Double underscore methods"
   ]
  },
  {
   "cell_type": "code",
   "execution_count": 36,
   "id": "settled-review",
   "metadata": {},
   "outputs": [],
   "source": [
    "class Dog:\n",
    "    def __init__(self, name, weight):\n",
    "        self.name = name\n",
    "        self.weight = weight\n",
    "    \n",
    "    def __repr__(self):\n",
    "        return f'Dog(\"{self.name}\", {self.weight})'\n",
    "    \n",
    "    def __add__(self, other_dog):\n",
    "        return [Dog('puppy1', 5), Dog('puppy2', 10)]\n",
    "        \n",
    "    def speak(self):\n",
    "        print('woof')"
   ]
  },
  {
   "cell_type": "code",
   "execution_count": 37,
   "id": "sealed-native",
   "metadata": {},
   "outputs": [
    {
     "name": "stdout",
     "output_type": "stream",
     "text": [
      "puppy1\n",
      "puppy2\n"
     ]
    }
   ],
   "source": [
    "dog1  = Dog('rover', 66)\n",
    "dog2 = Dog('sparky', 15)\n",
    "puppies = dog1 + dog2\n",
    "for pup in puppies:\n",
    "    print(pup.name)"
   ]
  },
  {
   "cell_type": "code",
   "execution_count": 38,
   "id": "pretty-booth",
   "metadata": {},
   "outputs": [
    {
     "data": {
      "text/plain": [
       "Dog(\"rover\", 66)"
      ]
     },
     "execution_count": 38,
     "metadata": {},
     "output_type": "execute_result"
    }
   ],
   "source": [
    "dog1"
   ]
  },
  {
   "cell_type": "code",
   "execution_count": 39,
   "id": "oriented-commission",
   "metadata": {},
   "outputs": [],
   "source": [
    "x = [1, 2, 3, 4]"
   ]
  },
  {
   "cell_type": "code",
   "execution_count": 40,
   "id": "instrumental-accused",
   "metadata": {},
   "outputs": [
    {
     "data": {
      "text/plain": [
       "'dog1=Dog(\"rover\", 66)'"
      ]
     },
     "execution_count": 40,
     "metadata": {},
     "output_type": "execute_result"
    }
   ],
   "source": [
    "f'{dog1=}'"
   ]
  },
  {
   "cell_type": "code",
   "execution_count": 41,
   "id": "copyrighted-eclipse",
   "metadata": {},
   "outputs": [
    {
     "data": {
      "text/plain": [
       "'Dog(\"rover\", 66)'"
      ]
     },
     "execution_count": 41,
     "metadata": {},
     "output_type": "execute_result"
    }
   ],
   "source": [
    "str(dog1)"
   ]
  },
  {
   "cell_type": "code",
   "execution_count": 42,
   "id": "romance-relations",
   "metadata": {},
   "outputs": [
    {
     "data": {
      "text/plain": [
       "[1, 2, 3, 4, 5, 6]"
      ]
     },
     "execution_count": 42,
     "metadata": {},
     "output_type": "execute_result"
    }
   ],
   "source": [
    "x = [1, 2, 3]\n",
    "x + [4, 5, 6]"
   ]
  },
  {
   "cell_type": "code",
   "execution_count": 43,
   "id": "cardiac-denial",
   "metadata": {},
   "outputs": [
    {
     "data": {
      "text/plain": [
       "['__add__',\n",
       " '__class__',\n",
       " '__contains__',\n",
       " '__delattr__',\n",
       " '__delitem__',\n",
       " '__dir__',\n",
       " '__doc__',\n",
       " '__eq__',\n",
       " '__format__',\n",
       " '__ge__',\n",
       " '__getattribute__',\n",
       " '__getitem__',\n",
       " '__gt__',\n",
       " '__hash__',\n",
       " '__iadd__',\n",
       " '__imul__',\n",
       " '__init__',\n",
       " '__init_subclass__',\n",
       " '__iter__',\n",
       " '__le__',\n",
       " '__len__',\n",
       " '__lt__',\n",
       " '__mul__',\n",
       " '__ne__',\n",
       " '__new__',\n",
       " '__reduce__',\n",
       " '__reduce_ex__',\n",
       " '__repr__',\n",
       " '__reversed__',\n",
       " '__rmul__',\n",
       " '__setattr__',\n",
       " '__setitem__',\n",
       " '__sizeof__',\n",
       " '__str__',\n",
       " '__subclasshook__',\n",
       " 'append',\n",
       " 'clear',\n",
       " 'copy',\n",
       " 'count',\n",
       " 'extend',\n",
       " 'index',\n",
       " 'insert',\n",
       " 'pop',\n",
       " 'remove',\n",
       " 'reverse',\n",
       " 'sort']"
      ]
     },
     "execution_count": 43,
     "metadata": {},
     "output_type": "execute_result"
    }
   ],
   "source": [
    "dir(x)"
   ]
  },
  {
   "cell_type": "markdown",
   "id": "indirect-statistics",
   "metadata": {},
   "source": [
    "### Duck typing\n",
    "\n",
    "if it quacks like a duck..."
   ]
  },
  {
   "cell_type": "code",
   "execution_count": 44,
   "id": "junior-lighting",
   "metadata": {},
   "outputs": [],
   "source": [
    "class Brood:\n",
    "    def __init__(self, names):\n",
    "        self.puppies = []\n",
    "        for name in names:\n",
    "            self.puppies.append(Dog(name, 5))\n",
    "            \n",
    "    def __iter__(self):\n",
    "        self.n = 0\n",
    "        return self\n",
    "    \n",
    "    def __next__(self):\n",
    "        if self.n < len(self.puppies):\n",
    "            self.n += 1\n",
    "            return self.puppies[self.n-1]\n",
    "        else:\n",
    "            raise StopIteration\n",
    "            \n",
    "        \n",
    "    \n",
    "    "
   ]
  },
  {
   "cell_type": "code",
   "execution_count": 45,
   "id": "removed-pavilion",
   "metadata": {},
   "outputs": [],
   "source": [
    "group = Brood(['alice', 'bob', 'carol', 'dave'])"
   ]
  },
  {
   "cell_type": "code",
   "execution_count": 46,
   "id": "devoted-moisture",
   "metadata": {},
   "outputs": [
    {
     "name": "stdout",
     "output_type": "stream",
     "text": [
      "alice\n",
      "bob\n",
      "carol\n",
      "dave\n"
     ]
    }
   ],
   "source": [
    "for puppy in group:\n",
    "    print(puppy.name)"
   ]
  },
  {
   "cell_type": "markdown",
   "id": "introductory-albuquerque",
   "metadata": {},
   "source": [
    "### Inheritance"
   ]
  },
  {
   "cell_type": "code",
   "execution_count": 47,
   "id": "resistant-british",
   "metadata": {},
   "outputs": [],
   "source": [
    "class Rectangle:\n",
    "    def __init__(self, height, width):\n",
    "        self.height = height\n",
    "        self.width = width\n",
    "    \n",
    "    def area(self):\n",
    "        return self.height * self.width\n",
    "    \n",
    "    def perimeter(self):\n",
    "        return 2*(self.height + self.width)\n",
    "\n",
    "class Square(Rectangle):\n",
    "    def __init__(self, side_length):\n",
    "        super().__init__(height=side_length, width=side_length)\n",
    "\n",
    "class Cube(Square):\n",
    "    def __init__(self, side_length):\n",
    "        super().__init__(side_length=side_length)\n",
    "        self.depth = side_length\n",
    "    \n",
    "    def volume(self):\n",
    "        return self.area() * self.depth\n",
    "    "
   ]
  },
  {
   "cell_type": "code",
   "execution_count": 48,
   "id": "empty-recording",
   "metadata": {},
   "outputs": [
    {
     "data": {
      "text/plain": [
       "216"
      ]
     },
     "execution_count": 48,
     "metadata": {},
     "output_type": "execute_result"
    }
   ],
   "source": [
    "obj = Cube(6)\n",
    "obj.volume()"
   ]
  },
  {
   "cell_type": "code",
   "execution_count": null,
   "id": "dying-organization",
   "metadata": {},
   "outputs": [],
   "source": []
  },
  {
   "cell_type": "code",
   "execution_count": 49,
   "id": "thirty-middle",
   "metadata": {},
   "outputs": [
    {
     "data": {
      "text/plain": [
       "80"
      ]
     },
     "execution_count": 49,
     "metadata": {},
     "output_type": "execute_result"
    }
   ],
   "source": [
    "table = Rectangle(4,20)\n",
    "table.area()"
   ]
  },
  {
   "cell_type": "code",
   "execution_count": 50,
   "id": "false-train",
   "metadata": {},
   "outputs": [],
   "source": [
    "another_table = Square(5)"
   ]
  },
  {
   "cell_type": "code",
   "execution_count": 51,
   "id": "formed-dryer",
   "metadata": {},
   "outputs": [
    {
     "data": {
      "text/plain": [
       "25"
      ]
     },
     "execution_count": 51,
     "metadata": {},
     "output_type": "execute_result"
    }
   ],
   "source": [
    "another_table.area()"
   ]
  },
  {
   "cell_type": "code",
   "execution_count": 52,
   "id": "welcome-macintosh",
   "metadata": {},
   "outputs": [
    {
     "data": {
      "text/plain": [
       "20"
      ]
     },
     "execution_count": 52,
     "metadata": {},
     "output_type": "execute_result"
    }
   ],
   "source": [
    "another_table.perimeter()"
   ]
  },
  {
   "cell_type": "code",
   "execution_count": null,
   "id": "developing-association",
   "metadata": {},
   "outputs": [],
   "source": []
  },
  {
   "cell_type": "code",
   "execution_count": null,
   "id": "continuous-impression",
   "metadata": {},
   "outputs": [],
   "source": []
  },
  {
   "cell_type": "code",
   "execution_count": null,
   "id": "indonesian-railway",
   "metadata": {},
   "outputs": [],
   "source": []
  },
  {
   "cell_type": "code",
   "execution_count": null,
   "id": "typical-africa",
   "metadata": {},
   "outputs": [],
   "source": []
  },
  {
   "cell_type": "markdown",
   "id": "breeding-nancy",
   "metadata": {},
   "source": [
    "## Summary\n",
    "\n",
    "**object** - a data structure that contains some data elements (called *attributes*) and some functions to interact with those data (called *methods*).  this design structure allows us to bundle all the relevant attributes and methods of a particular entity together, rather than storing them in a bunch of disjointed functions/variables.  e.g., `today = date(2021, 8, 24)`, `today` is an object that contains month, day, year, and methods for dealing with that date, like printing it in various formats, asking about the weekday, adding/subtracting, etc.\n",
    "\n",
    "**class** - a template for creating objects of a certain type.  All objects of a given type are *instances* of the class.  e.g., the class definition of `date` specifies what kinds of information any given *instance* of date ought to contain (year, month, day), and the methods for interacting with those values.  \n",
    "\n",
    "**instance** of a class - a specific object that is a member of a class.  `today` is an instance of the `date` class.  Every instance has its own values for the attributes of a class.  For example, after we define `today = date(2021, 8, 24)` and `new_year = date(2021, 12, 31)`, `today` and `new_year` are both *instances* of the `date` class, so they both have a year, month, and day attribute (and a bunch of associated methods), however the values of those attributes are different, because those objects represent different dates.\n",
    "\n",
    "**attributes** - are variables that store the properties of an object instance.  All instances of a class have the same attributes, but different values for those attributes. `today` and `new_year` both have the attributes year, month, and day; however the values of those attributes differ between the two instances, because those objects represent different dates.\n",
    "\n",
    "**methods** - are functions that are part of an object, and are typically used to interact with the attributes of the objet somehow (e.g., by printing a nicely formatted date string, given the attributes of a particular date object).  Methods are defined when defining the object class.  \n",
    "\n",
    "**constructor** - the `__init__()` method of a class, which is called when we create a new instance of that class, and is responsible for setting all the relevant instance attributes.\n",
    "\n",
    "## Advanced concepts\n",
    "\n",
    "**object-oriented programming** - an approach to programming that places a priority on defining and using objects, so as to more effectively compartmentalize data and methods.  Python is a particularly pure case, because *everything* is an object.\n",
    "\n",
    "**inheritance** - classes may be defined as specific case (subclass) of some other *parent* class (or super class), and will thus *inherit* the methods and attributes of the parent.  For instance, a `square` class might be a subclass of `rectangle` and might inherit methods such as `get_area()` which returns `self.height * self.width`.  \n",
    "\n",
    "**double underscore methods** - in Python, the double underscore methods of a class (such as `__init__`, or `__str__`, or `__add__`, etc.) define what common operations like `str(x)` or `x + y` do for members of that class.  This allows the same surface operations, to do different, class-appropriate things for objects of different types.\n",
    "\n",
    "**type** - the *interface* of an object, describing what kinds of things can be done with members of that class, and what those operations do.  For instance `+` does different things to string types than integer types.  `*` is allowed for the combination of string and integer, but not string and float, etc. \n",
    "\n",
    "**duck typing** - the double underscore methods define whether an object can behave as a certain type -- if it quacks like a duck, then its a duck; it doesnt matter whether it was explicitly defined as being an instance of some duck super class.  For instance, an *iterable* type is something that you can iterate over (i.e., do the `for i in x` iteration operation).  In python, any object is iterable so long as it has defined `__iter__` and `__next__` methods."
   ]
  },
  {
   "cell_type": "code",
   "execution_count": null,
   "id": "educated-hungary",
   "metadata": {},
   "outputs": [],
   "source": []
  }
 ],
 "metadata": {
  "kernelspec": {
   "display_name": "Python 3",
   "language": "python",
   "name": "python3"
  },
  "language_info": {
   "codemirror_mode": {
    "name": "ipython",
    "version": 3
   },
   "file_extension": ".py",
   "mimetype": "text/x-python",
   "name": "python",
   "nbconvert_exporter": "python",
   "pygments_lexer": "ipython3",
   "version": "3.8.5"
  }
 },
 "nbformat": 4,
 "nbformat_minor": 5
}