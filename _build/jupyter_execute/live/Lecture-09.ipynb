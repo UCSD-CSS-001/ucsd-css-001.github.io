{
 "cells": [
  {
   "cell_type": "markdown",
   "id": "western-flush",
   "metadata": {},
   "source": [
    "# Lecture 9: Plotting and Matplotlib\n",
    "\n",
    "## Graphs and visualization\n",
    "\n",
    "Data analysis starts with looking at data, and ends with communicating your results. Both of these are done most effectively with graphs.\n",
    "\n",
    "There are many skills associated with making graphs and visualizations:\n",
    "\n",
    "0. figuring out *what* to plot to answer a question.\n",
    "\n",
    "1. transforming data to expose the variables you want to plot\n",
    "\n",
    "2. choosing the right kind of plot for the data / question.\n",
    "\n",
    "3. instructing a computer to make the plot you want.\n",
    "\n",
    "4. making the plot interpretable, and appealing\n",
    "\n",
    "We focus on 3 here."
   ]
  },
  {
   "cell_type": "markdown",
   "id": "flying-rough",
   "metadata": {},
   "source": [
    "## Our data\n",
    "\n",
    "[gapminder](https://www.gapminder.org/tools/#$chart-type=bubbles&url=v1)"
   ]
  },
  {
   "cell_type": "code",
   "execution_count": 1,
   "id": "altered-excellence",
   "metadata": {},
   "outputs": [],
   "source": [
    "import pandas as pd\n",
    "import matplotlib.pyplot as plt"
   ]
  },
  {
   "cell_type": "code",
   "execution_count": 2,
   "id": "failing-significance",
   "metadata": {},
   "outputs": [],
   "source": [
    "data_url = 'https://raw.githubusercontent.com/UCSD-CSS-001/ucsd-css-001.github.io/main/live/gapminder.csv'\n",
    "gapminder = pd.read_csv(data_url).drop(columns = 'Unnamed: 0')"
   ]
  },
  {
   "cell_type": "code",
   "execution_count": 3,
   "id": "perceived-receptor",
   "metadata": {},
   "outputs": [
    {
     "data": {
      "text/html": [
       "<div>\n",
       "<style scoped>\n",
       "    .dataframe tbody tr th:only-of-type {\n",
       "        vertical-align: middle;\n",
       "    }\n",
       "\n",
       "    .dataframe tbody tr th {\n",
       "        vertical-align: top;\n",
       "    }\n",
       "\n",
       "    .dataframe thead th {\n",
       "        text-align: right;\n",
       "    }\n",
       "</style>\n",
       "<table border=\"1\" class=\"dataframe\">\n",
       "  <thead>\n",
       "    <tr style=\"text-align: right;\">\n",
       "      <th></th>\n",
       "      <th>country</th>\n",
       "      <th>continent</th>\n",
       "      <th>year</th>\n",
       "      <th>lifeExp</th>\n",
       "      <th>pop</th>\n",
       "      <th>gdpPercap</th>\n",
       "    </tr>\n",
       "  </thead>\n",
       "  <tbody>\n",
       "    <tr>\n",
       "      <th>0</th>\n",
       "      <td>Afghanistan</td>\n",
       "      <td>Asia</td>\n",
       "      <td>1952</td>\n",
       "      <td>28.801</td>\n",
       "      <td>8425333</td>\n",
       "      <td>779.445314</td>\n",
       "    </tr>\n",
       "    <tr>\n",
       "      <th>1</th>\n",
       "      <td>Afghanistan</td>\n",
       "      <td>Asia</td>\n",
       "      <td>1957</td>\n",
       "      <td>30.332</td>\n",
       "      <td>9240934</td>\n",
       "      <td>820.853030</td>\n",
       "    </tr>\n",
       "    <tr>\n",
       "      <th>2</th>\n",
       "      <td>Afghanistan</td>\n",
       "      <td>Asia</td>\n",
       "      <td>1962</td>\n",
       "      <td>31.997</td>\n",
       "      <td>10267083</td>\n",
       "      <td>853.100710</td>\n",
       "    </tr>\n",
       "    <tr>\n",
       "      <th>3</th>\n",
       "      <td>Afghanistan</td>\n",
       "      <td>Asia</td>\n",
       "      <td>1967</td>\n",
       "      <td>34.020</td>\n",
       "      <td>11537966</td>\n",
       "      <td>836.197138</td>\n",
       "    </tr>\n",
       "    <tr>\n",
       "      <th>4</th>\n",
       "      <td>Afghanistan</td>\n",
       "      <td>Asia</td>\n",
       "      <td>1972</td>\n",
       "      <td>36.088</td>\n",
       "      <td>13079460</td>\n",
       "      <td>739.981106</td>\n",
       "    </tr>\n",
       "    <tr>\n",
       "      <th>...</th>\n",
       "      <td>...</td>\n",
       "      <td>...</td>\n",
       "      <td>...</td>\n",
       "      <td>...</td>\n",
       "      <td>...</td>\n",
       "      <td>...</td>\n",
       "    </tr>\n",
       "    <tr>\n",
       "      <th>1699</th>\n",
       "      <td>Zimbabwe</td>\n",
       "      <td>Africa</td>\n",
       "      <td>1987</td>\n",
       "      <td>62.351</td>\n",
       "      <td>9216418</td>\n",
       "      <td>706.157306</td>\n",
       "    </tr>\n",
       "    <tr>\n",
       "      <th>1700</th>\n",
       "      <td>Zimbabwe</td>\n",
       "      <td>Africa</td>\n",
       "      <td>1992</td>\n",
       "      <td>60.377</td>\n",
       "      <td>10704340</td>\n",
       "      <td>693.420786</td>\n",
       "    </tr>\n",
       "    <tr>\n",
       "      <th>1701</th>\n",
       "      <td>Zimbabwe</td>\n",
       "      <td>Africa</td>\n",
       "      <td>1997</td>\n",
       "      <td>46.809</td>\n",
       "      <td>11404948</td>\n",
       "      <td>792.449960</td>\n",
       "    </tr>\n",
       "    <tr>\n",
       "      <th>1702</th>\n",
       "      <td>Zimbabwe</td>\n",
       "      <td>Africa</td>\n",
       "      <td>2002</td>\n",
       "      <td>39.989</td>\n",
       "      <td>11926563</td>\n",
       "      <td>672.038623</td>\n",
       "    </tr>\n",
       "    <tr>\n",
       "      <th>1703</th>\n",
       "      <td>Zimbabwe</td>\n",
       "      <td>Africa</td>\n",
       "      <td>2007</td>\n",
       "      <td>43.487</td>\n",
       "      <td>12311143</td>\n",
       "      <td>469.709298</td>\n",
       "    </tr>\n",
       "  </tbody>\n",
       "</table>\n",
       "<p>1704 rows × 6 columns</p>\n",
       "</div>"
      ],
      "text/plain": [
       "          country continent  year  lifeExp       pop   gdpPercap\n",
       "0     Afghanistan      Asia  1952   28.801   8425333  779.445314\n",
       "1     Afghanistan      Asia  1957   30.332   9240934  820.853030\n",
       "2     Afghanistan      Asia  1962   31.997  10267083  853.100710\n",
       "3     Afghanistan      Asia  1967   34.020  11537966  836.197138\n",
       "4     Afghanistan      Asia  1972   36.088  13079460  739.981106\n",
       "...           ...       ...   ...      ...       ...         ...\n",
       "1699     Zimbabwe    Africa  1987   62.351   9216418  706.157306\n",
       "1700     Zimbabwe    Africa  1992   60.377  10704340  693.420786\n",
       "1701     Zimbabwe    Africa  1997   46.809  11404948  792.449960\n",
       "1702     Zimbabwe    Africa  2002   39.989  11926563  672.038623\n",
       "1703     Zimbabwe    Africa  2007   43.487  12311143  469.709298\n",
       "\n",
       "[1704 rows x 6 columns]"
      ]
     },
     "execution_count": 3,
     "metadata": {},
     "output_type": "execute_result"
    }
   ],
   "source": [
    "gapminder"
   ]
  },
  {
   "cell_type": "code",
   "execution_count": 4,
   "id": "corrected-healthcare",
   "metadata": {},
   "outputs": [
    {
     "data": {
      "text/html": [
       "<div>\n",
       "<style scoped>\n",
       "    .dataframe tbody tr th:only-of-type {\n",
       "        vertical-align: middle;\n",
       "    }\n",
       "\n",
       "    .dataframe tbody tr th {\n",
       "        vertical-align: top;\n",
       "    }\n",
       "\n",
       "    .dataframe thead th {\n",
       "        text-align: right;\n",
       "    }\n",
       "</style>\n",
       "<table border=\"1\" class=\"dataframe\">\n",
       "  <thead>\n",
       "    <tr style=\"text-align: right;\">\n",
       "      <th></th>\n",
       "      <th>continent</th>\n",
       "      <th>total_population</th>\n",
       "    </tr>\n",
       "  </thead>\n",
       "  <tbody>\n",
       "    <tr>\n",
       "      <th>0</th>\n",
       "      <td>Africa</td>\n",
       "      <td>929539692</td>\n",
       "    </tr>\n",
       "    <tr>\n",
       "      <th>1</th>\n",
       "      <td>Americas</td>\n",
       "      <td>898871184</td>\n",
       "    </tr>\n",
       "    <tr>\n",
       "      <th>2</th>\n",
       "      <td>Asia</td>\n",
       "      <td>3811953827</td>\n",
       "    </tr>\n",
       "    <tr>\n",
       "      <th>3</th>\n",
       "      <td>Europe</td>\n",
       "      <td>586098529</td>\n",
       "    </tr>\n",
       "    <tr>\n",
       "      <th>4</th>\n",
       "      <td>Oceania</td>\n",
       "      <td>24549947</td>\n",
       "    </tr>\n",
       "  </tbody>\n",
       "</table>\n",
       "</div>"
      ],
      "text/plain": [
       "  continent  total_population\n",
       "0    Africa         929539692\n",
       "1  Americas         898871184\n",
       "2      Asia        3811953827\n",
       "3    Europe         586098529\n",
       "4   Oceania          24549947"
      ]
     },
     "execution_count": 4,
     "metadata": {},
     "output_type": "execute_result"
    }
   ],
   "source": [
    "continents = (gapminder[gapminder['year']==2007]\n",
    "              .groupby('continent')\n",
    "              .agg(total_population = ('pop', 'sum'))\n",
    "              .reset_index())\n",
    "continents"
   ]
  },
  {
   "cell_type": "code",
   "execution_count": 5,
   "id": "suburban-manitoba",
   "metadata": {},
   "outputs": [
    {
     "data": {
      "text/plain": [
       "<BarContainer object of 5 artists>"
      ]
     },
     "execution_count": 5,
     "metadata": {},
     "output_type": "execute_result"
    },
    {
     "data": {
      "image/png": "[encoded data removed]",
      "text/plain": [
       "<Figure size 432x288 with 1 Axes>"
      ]
     },
     "metadata": {
      "filenames": {
       "image/png": "/Users/evul/g.evul.ucsd/TEACHING/CSS/UCSD-CSS-001/ucsd-css-001.github.io/_build/jupyter_execute/live/Lecture-09_6_1.png"
      },
      "needs_background": "light"
     },
     "output_type": "display_data"
    }
   ],
   "source": [
    "plt.bar(continents['continent'], continents['total_population'])"
   ]
  },
  {
   "cell_type": "code",
   "execution_count": 6,
   "id": "previous-report",
   "metadata": {},
   "outputs": [
    {
     "data": {
      "text/plain": [
       "<BarContainer object of 5 artists>"
      ]
     },
     "execution_count": 6,
     "metadata": {},
     "output_type": "execute_result"
    },
    {
     "data": {
      "image/png": "[encoded data removed]",
      "text/plain": [
       "<Figure size 432x288 with 1 Axes>"
      ]
     },
     "metadata": {
      "filenames": {
       "image/png": "/Users/evul/g.evul.ucsd/TEACHING/CSS/UCSD-CSS-001/ucsd-css-001.github.io/_build/jupyter_execute/live/Lecture-09_7_1.png"
      },
      "needs_background": "light"
     },
     "output_type": "display_data"
    }
   ],
   "source": [
    "plt.barh(continents['continent'], continents['total_population'])"
   ]
  },
  {
   "cell_type": "code",
   "execution_count": 7,
   "id": "generous-storage",
   "metadata": {},
   "outputs": [
    {
     "data": {
      "text/plain": [
       "[<matplotlib.lines.Line2D at 0x7f8b3add3880>]"
      ]
     },
     "execution_count": 7,
     "metadata": {},
     "output_type": "execute_result"
    },
    {
     "data": {
      "image/png": "[encoded data removed]",
      "text/plain": [
       "<Figure size 432x288 with 1 Axes>"
      ]
     },
     "metadata": {
      "filenames": {
       "image/png": "/Users/evul/g.evul.ucsd/TEACHING/CSS/UCSD-CSS-001/ucsd-css-001.github.io/_build/jupyter_execute/live/Lecture-09_8_1.png"
      },
      "needs_background": "light"
     },
     "output_type": "display_data"
    }
   ],
   "source": [
    "plt.plot(continents['continent'], continents['total_population'])"
   ]
  },
  {
   "cell_type": "code",
   "execution_count": 8,
   "id": "irish-external",
   "metadata": {},
   "outputs": [
    {
     "data": {
      "text/plain": [
       "<matplotlib.collections.PathCollection at 0x7f8b184d8370>"
      ]
     },
     "execution_count": 8,
     "metadata": {},
     "output_type": "execute_result"
    },
    {
     "data": {
      "image/png": "[encoded data removed]",
      "text/plain": [
       "<Figure size 432x288 with 1 Axes>"
      ]
     },
     "metadata": {
      "filenames": {
       "image/png": "/Users/evul/g.evul.ucsd/TEACHING/CSS/UCSD-CSS-001/ucsd-css-001.github.io/_build/jupyter_execute/live/Lecture-09_9_1.png"
      },
      "needs_background": "light"
     },
     "output_type": "display_data"
    }
   ],
   "source": [
    "plt.scatter(continents['continent'], continents['total_population'])"
   ]
  },
  {
   "cell_type": "markdown",
   "id": "corrected-wyoming",
   "metadata": {},
   "source": [
    "## Conventions\n",
    "\n",
    "> Learn the rules like a pro, so you can break them like an artist. \n",
    "> \n",
    "> -- *Pablo Picasso*\n",
    "\n",
    "\n",
    "#### Numbers vs Categories\n",
    "\n",
    "#### Distribution vs mean \"as a function of\"\n"
   ]
  },
  {
   "cell_type": "markdown",
   "id": "taken-momentum",
   "metadata": {},
   "source": [
    "### Histogram\n",
    "\n",
    "Show the *distribution* of some variable, which values are more or less common?"
   ]
  },
  {
   "cell_type": "code",
   "execution_count": 9,
   "id": "smoking-remark",
   "metadata": {},
   "outputs": [
    {
     "data": {
      "image/png": "[encoded data removed]",
      "text/plain": [
       "<Figure size 432x288 with 1 Axes>"
      ]
     },
     "metadata": {
      "filenames": {
       "image/png": "/Users/evul/g.evul.ucsd/TEACHING/CSS/UCSD-CSS-001/ucsd-css-001.github.io/_build/jupyter_execute/live/Lecture-09_12_0.png"
      },
      "needs_background": "light"
     },
     "output_type": "display_data"
    }
   ],
   "source": [
    "_ = plt.hist(gapminder['lifeExp'])"
   ]
  },
  {
   "cell_type": "markdown",
   "id": "affected-murray",
   "metadata": {},
   "source": [
    "- What's with the `_ = `?\n",
    "- Desperately needed: axis labels!  Title!\n",
    "- Tweaks: bins, color"
   ]
  },
  {
   "cell_type": "code",
   "execution_count": 10,
   "id": "binding-liberia",
   "metadata": {},
   "outputs": [
    {
     "data": {
      "image/png": "[encoded data removed]",
      "text/plain": [
       "<Figure size 432x288 with 1 Axes>"
      ]
     },
     "metadata": {
      "filenames": {
       "image/png": "/Users/evul/g.evul.ucsd/TEACHING/CSS/UCSD-CSS-001/ucsd-css-001.github.io/_build/jupyter_execute/live/Lecture-09_14_0.png"
      },
      "needs_background": "light"
     },
     "output_type": "display_data"
    }
   ],
   "source": [
    "_ = plt.hist(gapminder['lifeExp'], \n",
    "             bins=range(20, 90, 5), \n",
    "             color='navy')\n",
    "_ = plt.xlabel('life expectancy (years)')\n",
    "_ = plt.ylabel('Count (country-years)')\n",
    "_ = plt.title('Life expectancy distribution')"
   ]
  },
  {
   "cell_type": "code",
   "execution_count": 11,
   "id": "wrapped-horizon",
   "metadata": {},
   "outputs": [
    {
     "data": {
      "image/png": "[encoded data removed]",
      "text/plain": [
       "<Figure size 432x288 with 1 Axes>"
      ]
     },
     "metadata": {
      "filenames": {
       "image/png": "/Users/evul/g.evul.ucsd/TEACHING/CSS/UCSD-CSS-001/ucsd-css-001.github.io/_build/jupyter_execute/live/Lecture-09_15_0.png"
      },
      "needs_background": "light"
     },
     "output_type": "display_data"
    }
   ],
   "source": [
    "_ = plt.hist(gapminder['continent'])\n",
    "_ = plt.xlabel('continent')\n",
    "_ = plt.ylabel('Count country-years')"
   ]
  },
  {
   "cell_type": "code",
   "execution_count": 12,
   "id": "funky-identifier",
   "metadata": {},
   "outputs": [],
   "source": [
    "?plt.hist"
   ]
  },
  {
   "cell_type": "markdown",
   "id": "hungry-bibliography",
   "metadata": {},
   "source": [
    "### Bar chart\n",
    "\n",
    "How does life expectancy differ by continent?\n",
    "\n",
    "{numerical variable} ~ {categorical}  -> bar plot \n",
    "\n",
    "category on the x axis, number on the y axis.  \n",
    "and we get 1 number per category.\n",
    "\n",
    "Mean life expectancy, in 2007, by continent\n"
   ]
  },
  {
   "cell_type": "code",
   "execution_count": 13,
   "id": "fitted-compatibility",
   "metadata": {},
   "outputs": [
    {
     "data": {
      "image/png": "[encoded data removed]",
      "text/plain": [
       "<Figure size 432x288 with 1 Axes>"
      ]
     },
     "metadata": {
      "filenames": {
       "image/png": "/Users/evul/g.evul.ucsd/TEACHING/CSS/UCSD-CSS-001/ucsd-css-001.github.io/_build/jupyter_execute/live/Lecture-09_18_0.png"
      },
      "needs_background": "light"
     },
     "output_type": "display_data"
    }
   ],
   "source": [
    "## pick just 2007\n",
    "## group by continent\n",
    "## calculate mean life expectancy per group\n",
    "continent_summary = (gapminder[gapminder['year'] == 2007]\n",
    " .groupby('continent')\n",
    " .agg(mean_life_expectancy = ('lifeExp', 'mean'))\n",
    " .reset_index())\n",
    "\n",
    "## make a bar plot\n",
    "_ = plt.bar(continent_summary['continent'], \n",
    "            continent_summary['mean_life_expectancy'],\n",
    "           color = 'gold',\n",
    "           edgecolor = 'navy')\n",
    "## label stuff!\n",
    "_ = plt.xlabel('continent')\n",
    "_ = plt.ylabel('mean life expectancy (years)')\n",
    "\n",
    "# print the mean value above each bar\n",
    "for (c, le) in zip(continent_summary['continent'], \n",
    "            continent_summary['mean_life_expectancy']):\n",
    "    _ = plt.text(c,le-5,f'{le:0.0f}', ha='center')\n"
   ]
  },
  {
   "cell_type": "code",
   "execution_count": 14,
   "id": "virgin-instrumentation",
   "metadata": {},
   "outputs": [
    {
     "data": {
      "text/plain": [
       "'2.82'"
      ]
     },
     "execution_count": 14,
     "metadata": {},
     "output_type": "execute_result"
    }
   ],
   "source": [
    "x = 2.8234567890\n",
    "f'{x :0.2f}'"
   ]
  },
  {
   "cell_type": "markdown",
   "id": "acknowledged-pastor",
   "metadata": {},
   "source": [
    "### Line plot\n",
    "\n",
    "How has average life expectancy changed from 1952 to 2007?\n",
    "\n",
    "{number} ~ {number} -> line plot\n",
    "\n",
    "Mean life expectancy, by year."
   ]
  },
  {
   "cell_type": "code",
   "execution_count": 15,
   "id": "apart-meditation",
   "metadata": {},
   "outputs": [
    {
     "data": {
      "image/png": "[encoded data removed]",
      "text/plain": [
       "<Figure size 432x288 with 1 Axes>"
      ]
     },
     "metadata": {
      "filenames": {
       "image/png": "/Users/evul/g.evul.ucsd/TEACHING/CSS/UCSD-CSS-001/ucsd-css-001.github.io/_build/jupyter_execute/live/Lecture-09_21_0.png"
      },
      "needs_background": "light"
     },
     "output_type": "display_data"
    }
   ],
   "source": [
    "## group by year\n",
    "## calculate mean life expectancy per group\n",
    "\n",
    "year_summary = (gapminder\n",
    "    .groupby('year')\n",
    "    .agg(life_expectancy = ('lifeExp', 'mean'))\n",
    "    .reset_index())\n",
    "\n",
    "## make a line plot\n",
    "\n",
    "_ = plt.plot(year_summary['year'], \n",
    "             year_summary['life_expectancy'],\n",
    "            'ko-',\n",
    "            color = 'blue',\n",
    "            markersize = 5,\n",
    "            linewidth = 1)\n",
    "\n",
    "## label stuff!\n",
    "_ = plt.xlabel('year')\n",
    "_ = plt.ylabel('mean life expectancy (years)')"
   ]
  },
  {
   "cell_type": "code",
   "execution_count": 16,
   "id": "portable-wyoming",
   "metadata": {},
   "outputs": [],
   "source": [
    "?plt.plot"
   ]
  },
  {
   "cell_type": "markdown",
   "id": "expensive-carter",
   "metadata": {},
   "source": [
    "### Scatter plot\n",
    "\n",
    "How does the *distribution* of life expectancies across African countries vary by year?\n",
    "\n",
    "distribution of two number -> scatterplot"
   ]
  },
  {
   "cell_type": "code",
   "execution_count": 17,
   "id": "remarkable-detection",
   "metadata": {},
   "outputs": [
    {
     "data": {
      "image/png": "[encoded data removed]",
      "text/plain": [
       "<Figure size 432x288 with 1 Axes>"
      ]
     },
     "metadata": {
      "filenames": {
       "image/png": "/Users/evul/g.evul.ucsd/TEACHING/CSS/UCSD-CSS-001/ucsd-css-001.github.io/_build/jupyter_execute/live/Lecture-09_24_0.png"
      },
      "needs_background": "light"
     },
     "output_type": "display_data"
    }
   ],
   "source": [
    "import numpy as np\n",
    "\n",
    "## filter out African countries\n",
    "africa = gapminder[gapminder['continent'] == 'Africa']\n",
    "## plot scatter plot of lifeExp ~ year\n",
    "\n",
    "# alpha like\n",
    "# _ = plt.scatter(africa['year'], \n",
    "#                 africa['lifeExp'],\n",
    "#                alpha = 0.1,\n",
    "#                s=200)\n",
    "\n",
    "_ = plt.scatter(africa['year'] + np.random.random(len(africa))*2-1, \n",
    "                africa['lifeExp'],\n",
    "               s=1)\n",
    "_ = plt.xlabel('year (with jitter)')\n",
    "_ = plt.ylabel('life expectancy')\n",
    "_ = plt.title('Life Expectancy for African Countries')\n",
    "\n",
    "\n",
    "## make sure it is legible!  (alpha, size, jitter)\n",
    "## label stuff!"
   ]
  },
  {
   "cell_type": "markdown",
   "id": "silent-interview",
   "metadata": {},
   "source": [
    "## Complexities\n",
    "\n",
    "- Using logarithms\n",
    "\n",
    "$3^2$"
   ]
  },
  {
   "cell_type": "code",
   "execution_count": 18,
   "id": "cheap-canvas",
   "metadata": {},
   "outputs": [
    {
     "name": "stdout",
     "output_type": "stream",
     "text": [
      "(3 ** 4)=81\n",
      "math.log(81, 3)=4.0\n"
     ]
    }
   ],
   "source": [
    "import math\n",
    "print(f'{(3 ** 4)=}')  # 1 * 3 * 3 * 3 * 3\n",
    "print(f'{math.log(81, 3)=}')"
   ]
  },
  {
   "cell_type": "code",
   "execution_count": 19,
   "id": "incredible-above",
   "metadata": {},
   "outputs": [
    {
     "name": "stdout",
     "output_type": "stream",
     "text": [
      "1000\n"
     ]
    },
    {
     "data": {
      "text/plain": [
       "6.477121254719663"
      ]
     },
     "execution_count": 19,
     "metadata": {},
     "output_type": "execute_result"
    }
   ],
   "source": [
    "from numpy import log10\n",
    "\n",
    "print(10 ** 3)\n",
    "log10(3000000)"
   ]
  },
  {
   "cell_type": "code",
   "execution_count": 20,
   "id": "relative-playing",
   "metadata": {},
   "outputs": [
    {
     "data": {
      "image/png": "[encoded data removed]",
      "text/plain": [
       "<Figure size 432x288 with 1 Axes>"
      ]
     },
     "metadata": {
      "filenames": {
       "image/png": "/Users/evul/g.evul.ucsd/TEACHING/CSS/UCSD-CSS-001/ucsd-css-001.github.io/_build/jupyter_execute/live/Lecture-09_28_0.png"
      },
      "needs_background": "light"
     },
     "output_type": "display_data"
    }
   ],
   "source": [
    "_ = plt.hist(log10(gapminder['gdpPercap']))\n",
    "_ = plt.xlabel('log10(gdp per capita)')"
   ]
  },
  {
   "cell_type": "code",
   "execution_count": 21,
   "id": "conceptual-pointer",
   "metadata": {},
   "outputs": [
    {
     "data": {
      "image/png": "[encoded data removed]",
      "text/plain": [
       "<Figure size 432x288 with 1 Axes>"
      ]
     },
     "metadata": {
      "filenames": {
       "image/png": "/Users/evul/g.evul.ucsd/TEACHING/CSS/UCSD-CSS-001/ucsd-css-001.github.io/_build/jupyter_execute/live/Lecture-09_29_0.png"
      },
      "needs_background": "light"
     },
     "output_type": "display_data"
    }
   ],
   "source": [
    "_ = plt.hist(log10(gapminder['pop']))\n",
    "_ = plt.xlabel('log10(Population)')"
   ]
  },
  {
   "cell_type": "code",
   "execution_count": 22,
   "id": "sexual-wales",
   "metadata": {},
   "outputs": [
    {
     "data": {
      "image/png": "[encoded data removed]",
      "text/plain": [
       "<Figure size 432x288 with 1 Axes>"
      ]
     },
     "metadata": {
      "filenames": {
       "image/png": "/Users/evul/g.evul.ucsd/TEACHING/CSS/UCSD-CSS-001/ucsd-css-001.github.io/_build/jupyter_execute/live/Lecture-09_30_0.png"
      },
      "needs_background": "light"
     },
     "output_type": "display_data"
    }
   ],
   "source": [
    "_ = plt.hist(gapminder['pop'])\n",
    "_ = plt.xlabel('log10(Population)')"
   ]
  },
  {
   "cell_type": "code",
   "execution_count": 23,
   "id": "moving-officer",
   "metadata": {},
   "outputs": [
    {
     "data": {
      "image/png": "[encoded data removed]",
      "text/plain": [
       "<Figure size 432x288 with 1 Axes>"
      ]
     },
     "metadata": {
      "filenames": {
       "image/png": "/Users/evul/g.evul.ucsd/TEACHING/CSS/UCSD-CSS-001/ucsd-css-001.github.io/_build/jupyter_execute/live/Lecture-09_31_0.png"
      },
      "needs_background": "light"
     },
     "output_type": "display_data"
    }
   ],
   "source": [
    "_ = plt.hist(gapminder['pop'], bins = 10**np.linspace(4, 10, 20))\n",
    "_ = plt.xlabel('log10(Population)')\n",
    "_ = plt.xscale('log')"
   ]
  },
  {
   "cell_type": "code",
   "execution_count": 24,
   "id": "developing-bathroom",
   "metadata": {},
   "outputs": [
    {
     "data": {
      "text/html": [
       "<div>\n",
       "<style scoped>\n",
       "    .dataframe tbody tr th:only-of-type {\n",
       "        vertical-align: middle;\n",
       "    }\n",
       "\n",
       "    .dataframe tbody tr th {\n",
       "        vertical-align: top;\n",
       "    }\n",
       "\n",
       "    .dataframe thead th {\n",
       "        text-align: right;\n",
       "    }\n",
       "</style>\n",
       "<table border=\"1\" class=\"dataframe\">\n",
       "  <thead>\n",
       "    <tr style=\"text-align: right;\">\n",
       "      <th></th>\n",
       "      <th>country</th>\n",
       "      <th>continent</th>\n",
       "      <th>year</th>\n",
       "      <th>lifeExp</th>\n",
       "      <th>pop</th>\n",
       "      <th>gdpPercap</th>\n",
       "    </tr>\n",
       "  </thead>\n",
       "  <tbody>\n",
       "    <tr>\n",
       "      <th>0</th>\n",
       "      <td>Afghanistan</td>\n",
       "      <td>Asia</td>\n",
       "      <td>1952</td>\n",
       "      <td>28.801</td>\n",
       "      <td>8425333</td>\n",
       "      <td>779.445314</td>\n",
       "    </tr>\n",
       "    <tr>\n",
       "      <th>1</th>\n",
       "      <td>Afghanistan</td>\n",
       "      <td>Asia</td>\n",
       "      <td>1957</td>\n",
       "      <td>30.332</td>\n",
       "      <td>9240934</td>\n",
       "      <td>820.853030</td>\n",
       "    </tr>\n",
       "    <tr>\n",
       "      <th>2</th>\n",
       "      <td>Afghanistan</td>\n",
       "      <td>Asia</td>\n",
       "      <td>1962</td>\n",
       "      <td>31.997</td>\n",
       "      <td>10267083</td>\n",
       "      <td>853.100710</td>\n",
       "    </tr>\n",
       "    <tr>\n",
       "      <th>3</th>\n",
       "      <td>Afghanistan</td>\n",
       "      <td>Asia</td>\n",
       "      <td>1967</td>\n",
       "      <td>34.020</td>\n",
       "      <td>11537966</td>\n",
       "      <td>836.197138</td>\n",
       "    </tr>\n",
       "    <tr>\n",
       "      <th>4</th>\n",
       "      <td>Afghanistan</td>\n",
       "      <td>Asia</td>\n",
       "      <td>1972</td>\n",
       "      <td>36.088</td>\n",
       "      <td>13079460</td>\n",
       "      <td>739.981106</td>\n",
       "    </tr>\n",
       "    <tr>\n",
       "      <th>...</th>\n",
       "      <td>...</td>\n",
       "      <td>...</td>\n",
       "      <td>...</td>\n",
       "      <td>...</td>\n",
       "      <td>...</td>\n",
       "      <td>...</td>\n",
       "    </tr>\n",
       "    <tr>\n",
       "      <th>1699</th>\n",
       "      <td>Zimbabwe</td>\n",
       "      <td>Africa</td>\n",
       "      <td>1987</td>\n",
       "      <td>62.351</td>\n",
       "      <td>9216418</td>\n",
       "      <td>706.157306</td>\n",
       "    </tr>\n",
       "    <tr>\n",
       "      <th>1700</th>\n",
       "      <td>Zimbabwe</td>\n",
       "      <td>Africa</td>\n",
       "      <td>1992</td>\n",
       "      <td>60.377</td>\n",
       "      <td>10704340</td>\n",
       "      <td>693.420786</td>\n",
       "    </tr>\n",
       "    <tr>\n",
       "      <th>1701</th>\n",
       "      <td>Zimbabwe</td>\n",
       "      <td>Africa</td>\n",
       "      <td>1997</td>\n",
       "      <td>46.809</td>\n",
       "      <td>11404948</td>\n",
       "      <td>792.449960</td>\n",
       "    </tr>\n",
       "    <tr>\n",
       "      <th>1702</th>\n",
       "      <td>Zimbabwe</td>\n",
       "      <td>Africa</td>\n",
       "      <td>2002</td>\n",
       "      <td>39.989</td>\n",
       "      <td>11926563</td>\n",
       "      <td>672.038623</td>\n",
       "    </tr>\n",
       "    <tr>\n",
       "      <th>1703</th>\n",
       "      <td>Zimbabwe</td>\n",
       "      <td>Africa</td>\n",
       "      <td>2007</td>\n",
       "      <td>43.487</td>\n",
       "      <td>12311143</td>\n",
       "      <td>469.709298</td>\n",
       "    </tr>\n",
       "  </tbody>\n",
       "</table>\n",
       "<p>1704 rows × 6 columns</p>\n",
       "</div>"
      ],
      "text/plain": [
       "          country continent  year  lifeExp       pop   gdpPercap\n",
       "0     Afghanistan      Asia  1952   28.801   8425333  779.445314\n",
       "1     Afghanistan      Asia  1957   30.332   9240934  820.853030\n",
       "2     Afghanistan      Asia  1962   31.997  10267083  853.100710\n",
       "3     Afghanistan      Asia  1967   34.020  11537966  836.197138\n",
       "4     Afghanistan      Asia  1972   36.088  13079460  739.981106\n",
       "...           ...       ...   ...      ...       ...         ...\n",
       "1699     Zimbabwe    Africa  1987   62.351   9216418  706.157306\n",
       "1700     Zimbabwe    Africa  1992   60.377  10704340  693.420786\n",
       "1701     Zimbabwe    Africa  1997   46.809  11404948  792.449960\n",
       "1702     Zimbabwe    Africa  2002   39.989  11926563  672.038623\n",
       "1703     Zimbabwe    Africa  2007   43.487  12311143  469.709298\n",
       "\n",
       "[1704 rows x 6 columns]"
      ]
     },
     "execution_count": 24,
     "metadata": {},
     "output_type": "execute_result"
    }
   ],
   "source": [
    "gapminder"
   ]
  },
  {
   "cell_type": "markdown",
   "id": "specific-article",
   "metadata": {},
   "source": [
    "- Varying color and size"
   ]
  },
  {
   "cell_type": "code",
   "execution_count": 25,
   "id": "stretch-grace",
   "metadata": {},
   "outputs": [
    {
     "data": {
      "image/png": "[encoded data removed]",
      "text/plain": [
       "<Figure size 432x288 with 1 Axes>"
      ]
     },
     "metadata": {
      "filenames": {
       "image/png": "/Users/evul/g.evul.ucsd/TEACHING/CSS/UCSD-CSS-001/ucsd-css-001.github.io/_build/jupyter_execute/live/Lecture-09_34_0.png"
      },
      "needs_background": "light"
     },
     "output_type": "display_data"
    }
   ],
   "source": [
    "year_2007 = gapminder[gapminder['year']==2007]\n",
    "_ = plt.scatter(year_2007['gdpPercap'], year_2007['lifeExp'])\n",
    "_ = plt.xscale('log')\n",
    "_ = plt.xlabel('gdp per capita (log scale)')\n",
    "_ = plt.ylabel('life expectancy')\n",
    "\n",
    "# color code by continent\n",
    "# sale size by population"
   ]
  },
  {
   "cell_type": "code",
   "execution_count": 26,
   "id": "international-edition",
   "metadata": {},
   "outputs": [
    {
     "data": {
      "image/png": "[encoded data removed]",
      "text/plain": [
       "<Figure size 432x288 with 1 Axes>"
      ]
     },
     "metadata": {
      "filenames": {
       "image/png": "/Users/evul/g.evul.ucsd/TEACHING/CSS/UCSD-CSS-001/ucsd-css-001.github.io/_build/jupyter_execute/live/Lecture-09_35_0.png"
      },
      "needs_background": "light"
     },
     "output_type": "display_data"
    }
   ],
   "source": [
    "year_2007 = gapminder[gapminder['year']==2007]\n",
    "\n",
    "colors = {'Asia': 'red',\n",
    "          'Europe' : 'gold',\n",
    "           'Americas':'chartreuse',\n",
    "           'Africa':'teal',\n",
    "            'Oceania':'navy'}\n",
    "\n",
    "_ = plt.scatter(year_2007['gdpPercap'], \n",
    "                year_2007['lifeExp'],\n",
    "                s = year_2007['pop']/1e6,\n",
    "                c = year_2007['continent'].map(colors),\n",
    "                alpha = 0.5)\n",
    "_ = plt.xscale('log')\n",
    "_ = plt.xlabel('gdp per capita (log scale)')\n",
    "_ = plt.ylabel('life expectancy')\n",
    "\n",
    "# color code by continent\n",
    "# sale size by population"
   ]
  },
  {
   "cell_type": "markdown",
   "id": "affected-great",
   "metadata": {},
   "source": [
    "### Conventions\n",
    "\n",
    "**Distribution of Number** -> histogram, with number on x, counts on y\n",
    "\n",
    "**Distribution of Category** -> histogram, with category on x, counts on y\n",
    "\n",
    "**Number as a function of Category** -> bar chart, category on x, mean number on y\n",
    "\n",
    "**Number as a function of Number** -> scatter plot (y~x) or line plot (mean(y) ~ x)\n",
    "\n",
    "**Number as a function of Number + Category** -> scatter plot or line plot with color varying by category.\n",
    "\n",
    "**Number as a function of Number + Number** -> if it doesnt matter much: bubble chart.  If it matters a lot, considering binning into categories.\n",
    "\n"
   ]
  },
  {
   "cell_type": "code",
   "execution_count": null,
   "id": "accessible-clearing",
   "metadata": {},
   "outputs": [],
   "source": []
  }
 ],
 "metadata": {
  "kernelspec": {
   "display_name": "Python 3",
   "language": "python",
   "name": "python3"
  },
  "language_info": {
   "codemirror_mode": {
    "name": "ipython",
    "version": 3
   },
   "file_extension": ".py",
   "mimetype": "text/x-python",
   "name": "python",
   "nbconvert_exporter": "python",
   "pygments_lexer": "ipython3",
   "version": "3.8.5"
  }
 },
 "nbformat": 4,
 "nbformat_minor": 5
}