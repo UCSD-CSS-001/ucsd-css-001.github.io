{
 "cells": [
  {
   "cell_type": "markdown",
   "metadata": {
    "id": "4ErJ_4wJ2lIh"
   },
   "source": [
    "# In class code for 01112021\n",
    "* in, not in operator\n",
    "* slicing lists"
   ]
  },
  {
   "cell_type": "markdown",
   "metadata": {
    "id": "bMDrXi5sT-Vo"
   },
   "source": [
    "## The in operator (and not in)\n",
    "* also mixed types in a list\n",
    "* boolean (True/False)"
   ]
  },
  {
   "cell_type": "code",
   "execution_count": 1,
   "metadata": {
    "colab": {
     "base_uri": "https://localhost:8080/"
    },
    "id": "VHempJJ4cjeL",
    "outputId": "2d7454e9-a47e-4abf-eb82-b32c298d2ca9"
   },
   "outputs": [
    {
     "name": "stdout",
     "output_type": "stream",
     "text": [
      "[18, 'john', 'Kexin', 24]\n",
      "True\n",
      "False\n"
     ]
    }
   ],
   "source": [
    "a_lst = [18, 'john', 'Kexin', 24]\n",
    "print(a_lst)\n",
    "\n",
    "print(18 in a_lst)\n",
    "print('john' not in a_lst)"
   ]
  },
  {
   "cell_type": "markdown",
   "metadata": {
    "id": "eZqCyupk4Cm3"
   },
   "source": [
    "## Slicing (indexing into lists)\n",
    "* use range to make a list of numbers!\n",
    "* start, stop, non-inclusive"
   ]
  },
  {
   "cell_type": "code",
   "execution_count": 2,
   "metadata": {
    "colab": {
     "base_uri": "https://localhost:8080/"
    },
    "id": "61SkPlBS4JTB",
    "outputId": "c9076959-ee07-4df8-fb27-feaf87af21af"
   },
   "outputs": [
    {
     "name": "stdout",
     "output_type": "stream",
     "text": [
      "[0, 1, 2]\n"
     ]
    }
   ],
   "source": [
    "x = list(range(0,15)) \n",
    "\n",
    "# pull the first three numbers - non inclusive!\n",
    "print(x[0:3])"
   ]
  },
  {
   "cell_type": "code",
   "execution_count": 3,
   "metadata": {
    "colab": {
     "base_uri": "https://localhost:8080/"
    },
    "id": "n1wZ6dVUxDoI",
    "outputId": "4565f1e8-71b7-4060-b7fd-c64db9a3afef"
   },
   "outputs": [
    {
     "name": "stdout",
     "output_type": "stream",
     "text": [
      "[0, 1, 2]\n"
     ]
    }
   ],
   "source": [
    "# same thing\n",
    "print(x[:3])"
   ]
  },
  {
   "cell_type": "code",
   "execution_count": 4,
   "metadata": {
    "colab": {
     "base_uri": "https://localhost:8080/"
    },
    "id": "qs_mvk2uxFMS",
    "outputId": "b7c5ea3e-674f-4d69-d2b5-09a81b8e78c4"
   },
   "outputs": [
    {
     "name": "stdout",
     "output_type": "stream",
     "text": [
      "[2, 3, 4, 5, 6, 7, 8, 9]\n"
     ]
    }
   ],
   "source": [
    "# 3rd to end\n",
    "print(x[2:10])"
   ]
  },
  {
   "cell_type": "markdown",
   "metadata": {
    "id": "YX_9pU7MxjFp"
   },
   "source": [
    "### start, stop, step...non-inclusive\n",
    "* can make the start and stop explicit, or can just use : if you want it all..."
   ]
  },
  {
   "cell_type": "code",
   "execution_count": 5,
   "metadata": {
    "colab": {
     "base_uri": "https://localhost:8080/"
    },
    "id": "A8HIwJHoxH25",
    "outputId": "ce05dfc5-3bbc-40a6-f7fe-439176ba16c9"
   },
   "outputs": [
    {
     "name": "stdout",
     "output_type": "stream",
     "text": [
      "[0, 2, 4, 6, 8, 10, 12, 14]\n"
     ]
    }
   ],
   "source": [
    "# stepping through list of numbers - every other\n",
    "print(x[0:15:2])"
   ]
  },
  {
   "cell_type": "code",
   "execution_count": 6,
   "metadata": {
    "colab": {
     "base_uri": "https://localhost:8080/"
    },
    "id": "agszX3HrxJCh",
    "outputId": "3d28cf43-71ac-499f-f2e9-53230a41e22a"
   },
   "outputs": [
    {
     "name": "stdout",
     "output_type": "stream",
     "text": [
      "[0, 2, 4, 6, 8, 10, 12, 14]\n"
     ]
    }
   ],
   "source": [
    "# same thing (start at begin of list, go to the end, step size of 2)\n",
    "print(x[::2])\n",
    "# print(x[4::2]) # specify just the start, go till end\n",
    "# print(x[:11:2]) # specify just the stop, start at first element. "
   ]
  },
  {
   "cell_type": "markdown",
   "metadata": {
    "id": "cZEw-329yF2c"
   },
   "source": [
    "### Entire list, step size of -1, starting at the end\n",
    "* this reverses the list!\n"
   ]
  },
  {
   "cell_type": "code",
   "execution_count": 7,
   "metadata": {
    "colab": {
     "base_uri": "https://localhost:8080/"
    },
    "id": "VLOP7ruzxKRJ",
    "outputId": "39f04c26-4059-46e4-cbb9-bace197c6bce"
   },
   "outputs": [
    {
     "name": "stdout",
     "output_type": "stream",
     "text": [
      "[14, 13, 12, 11, 10, 9, 8, 7, 6, 5, 4, 3, 2, 1, 0]\n"
     ]
    }
   ],
   "source": [
    "print(x[::-1])"
   ]
  },
  {
   "cell_type": "code",
   "execution_count": 8,
   "metadata": {
    "colab": {
     "base_uri": "https://localhost:8080/"
    },
    "id": "-q4EQDNRxPNl",
    "outputId": "9bcb3a51-d92d-4f5f-ebfe-73ac24fb2b33"
   },
   "outputs": [
    {
     "name": "stdout",
     "output_type": "stream",
     "text": [
      "[14, 12, 10, 8, 6, 4, 2, 0]\n"
     ]
    }
   ],
   "source": [
    "# step based on counting from the end\n",
    "print(x[::-2])"
   ]
  },
  {
   "cell_type": "markdown",
   "metadata": {
    "id": "RUE4VKGlT2-a"
   },
   "source": [
    "## For loops\n",
    "* repeat an operation or set of operations a specified number of times \n",
    "* iterate over items in a sequence (e.g. a string, a list, etc)\n",
    "* syntax can be read: for each item in a sequence, do:\n",
    "* indentation"
   ]
  },
  {
   "cell_type": "code",
   "execution_count": 9,
   "metadata": {
    "id": "7JZPqO7kYSuV"
   },
   "outputs": [
    {
     "name": "stdout",
     "output_type": "stream",
     "text": [
      "f\n",
      "u\n",
      "n\n",
      "n\n",
      "y\n",
      " \n",
      "t\n",
      "h\n",
      "i\n",
      "n\n",
      "g\n",
      "s\n",
      " \n",
      "h\n",
      "a\n",
      "p\n",
      "p\n",
      "e\n",
      "n\n"
     ]
    }
   ],
   "source": [
    "# iterate over characters in a string\n",
    "for each_letter in 'funny things happen':\n",
    "  print(each_letter)\n",
    "  #print(each_letter.upper())\n",
    "\n",
    "#print(each_letter)"
   ]
  },
  {
   "cell_type": "markdown",
   "metadata": {
    "id": "-FKespeTyTJo"
   },
   "source": [
    "### Loop over elements in a list"
   ]
  },
  {
   "cell_type": "code",
   "execution_count": 10,
   "metadata": {
    "id": "Tz4eLFKLvHwc"
   },
   "outputs": [
    {
     "name": "stdout",
     "output_type": "stream",
     "text": [
      "pauline\n",
      "zhentao\n",
      "mariela\n"
     ]
    }
   ],
   "source": [
    "names = ['pauline', 'zhentao', 'mariela']\n",
    "\n",
    "for name in names:\n",
    "  print(name)"
   ]
  },
  {
   "cell_type": "markdown",
   "metadata": {
    "id": "zV4UwqkDZbS6"
   },
   "source": [
    "### Apply a method to each item in a list"
   ]
  },
  {
   "cell_type": "code",
   "execution_count": 11,
   "metadata": {
    "id": "r4xWXrFNN7sc"
   },
   "outputs": [
    {
     "name": "stdout",
     "output_type": "stream",
     "text": [
      "Courtney\n",
      "Ayoung\n",
      "Madison\n"
     ]
    }
   ],
   "source": [
    "names = ['courtney', 'ayoung', 'madison']\n",
    "\n",
    "for name in names:\n",
    "  # print each name in title format\n",
    "  print(name.title())"
   ]
  },
  {
   "cell_type": "markdown",
   "metadata": {
    "id": "loqF3_mdwIBi"
   },
   "source": [
    "### Generate an \"iterable\" set of numbers using the 'range' function"
   ]
  },
  {
   "cell_type": "code",
   "execution_count": 12,
   "metadata": {
    "id": "YCLlFZiKwpkC"
   },
   "outputs": [
    {
     "name": "stdout",
     "output_type": "stream",
     "text": [
      "0\n",
      "5\n",
      "1\n",
      "15\n",
      "2\n",
      "25\n",
      "3\n",
      "35\n",
      "4\n",
      "45\n"
     ]
    }
   ],
   "source": [
    "for i in range(0,5):\n",
    "  print(i)\n",
    "\n",
    "  print((i*10)+5)"
   ]
  },
  {
   "cell_type": "markdown",
   "metadata": {
    "id": "IA4ZVzRDyyrU"
   },
   "source": [
    "### Can use for other purposes as well\n",
    "* fill up a list with numbers, after doing some operation on the numbers\n",
    "* Introduce the 'append' method for list objects"
   ]
  },
  {
   "cell_type": "code",
   "execution_count": 13,
   "metadata": {
    "id": "QAHFiRvZy5J8"
   },
   "outputs": [
    {
     "name": "stdout",
     "output_type": "stream",
     "text": [
      "range(0, 6)\n",
      "[0, 1, 4, 9, 16, 25]\n"
     ]
    }
   ],
   "source": [
    "lst_squares = []\n",
    "nums = range(0,6)\n",
    "\n",
    "print(nums)\n",
    "\n",
    "for number in nums:\n",
    "  lst_squares.append(number**2)\n",
    "  \n",
    "print(lst_squares)"
   ]
  },
  {
   "cell_type": "markdown",
   "metadata": {
    "id": "pSafi0oq0U87"
   },
   "source": [
    "### Use nested for loops to operate over all elements in multiple lists\n",
    "* in this example we'll make two lists of numbers and then will multiply every element of the first array with every element of the second array. "
   ]
  },
  {
   "cell_type": "code",
   "execution_count": 14,
   "metadata": {
    "id": "UtvWQNKtIJoD"
   },
   "outputs": [
    {
     "name": "stdout",
     "output_type": "stream",
     "text": [
      "0 10 Product: 0\n",
      "0 11 Product: 0\n",
      "0 12 Product: 0\n",
      "0 13 Product: 0\n",
      "0 14 Product: 0\n",
      "1 10 Product: 10\n",
      "1 11 Product: 11\n",
      "1 12 Product: 12\n",
      "1 13 Product: 13\n",
      "1 14 Product: 14\n",
      "2 10 Product: 20\n",
      "2 11 Product: 22\n",
      "2 12 Product: 24\n",
      "2 13 Product: 26\n",
      "2 14 Product: 28\n",
      "3 10 Product: 30\n",
      "3 11 Product: 33\n",
      "3 12 Product: 36\n",
      "3 13 Product: 39\n",
      "3 14 Product: 42\n",
      "4 10 Product: 40\n",
      "4 11 Product: 44\n",
      "4 12 Product: 48\n",
      "4 13 Product: 52\n",
      "4 14 Product: 56\n"
     ]
    }
   ],
   "source": [
    "x = list(range(0,5))\n",
    "y = list(range(10,15))\n",
    "\n",
    "for num1 in x:\n",
    "  for num2 in y:\n",
    "    print(str(num1), str(num2), 'Product:', str(num1 * num2))"
   ]
  },
  {
   "cell_type": "markdown",
   "metadata": {
    "id": "qyBR8yGJ97HW"
   },
   "source": [
    "### Another example of an embedded loop...\n",
    "* introduction to += operator"
   ]
  },
  {
   "cell_type": "code",
   "execution_count": 15,
   "metadata": {
    "id": "ApN41ZMCm0vN"
   },
   "outputs": [
    {
     "name": "stdout",
     "output_type": "stream",
     "text": [
      "[0, 1, 2]\n",
      "[0, 1, 2]\n",
      "9\n"
     ]
    }
   ],
   "source": [
    "# use embedded loops to go over multiple lists (or sequences of numbers, whatever)\n",
    "x = list(range(0,3))\n",
    "y = list(range(0,3))\n",
    "\n",
    "print(x)\n",
    "print(y)\n",
    "\n",
    "out = 0\n",
    "for i in x:\n",
    "  for j in y:\n",
    "    # assign after summing current value with RHS\n",
    "    out += (i*j)\n",
    "    \n",
    "print(out)"
   ]
  },
  {
   "cell_type": "markdown",
   "metadata": {
    "id": "mOAjkckzCPVf"
   },
   "source": [
    "### Use a list of numbers to index into another list \n",
    "* can change the order of the list by changing the range\n",
    "* this is often useful when you only want to loop over a subset of an array"
   ]
  },
  {
   "cell_type": "code",
   "execution_count": 16,
   "metadata": {
    "colab": {
     "base_uri": "https://localhost:8080/"
    },
    "id": "soopPeG36ucM",
    "outputId": "26305dd6-3df5-40d4-bc63-80e43425934f"
   },
   "outputs": [
    {
     "name": "stdout",
     "output_type": "stream",
     "text": [
      "sabina\n",
      "valeria\n",
      "cho-chang\n"
     ]
    }
   ],
   "source": [
    "# make a range of numbers\n",
    "x = range(0,3)\n",
    "x = range(2,-1,-1) # remember that range starts at the first value, but does not include the stop value (so stops at 0 in this case!)\n",
    "\n",
    "# make a list of names\n",
    "names = ['cho-chang', 'valeria', 'sabina']\n",
    "\n",
    "for num in x:\n",
    "  # using our range of numbers to index into another list\n",
    "  print(names[num])"
   ]
  }
 ],
 "metadata": {
  "colab": {
   "collapsed_sections": [],
   "name": "TutorialCode_01112021_Part2.ipynb",
   "provenance": []
  },
  "kernelspec": {
   "display_name": "Python 3",
   "name": "python3"
  },
  "language_info": {
   "codemirror_mode": {
    "name": "ipython",
    "version": 3
   },
   "file_extension": ".py",
   "mimetype": "text/x-python",
   "name": "python",
   "nbconvert_exporter": "python",
   "pygments_lexer": "ipython3",
   "version": "3.8.5"
  }
 },
 "nbformat": 4,
 "nbformat_minor": 0
}