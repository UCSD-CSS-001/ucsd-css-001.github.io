{
 "cells": [
  {
   "cell_type": "markdown",
   "metadata": {
    "id": "0Zpl7pt2it4i"
   },
   "source": [
    "\r\n",
    "# InClass 01112021 - variable names, lists, slicing, for loops"
   ]
  },
  {
   "cell_type": "markdown",
   "metadata": {
    "id": "zKN5d6trizTc"
   },
   "source": [
    "## A few notes about legal variable names\n",
    "* A variable cannot start with a number.\n",
    "* Variables are case-sensitive (MyVar and myvar and myVar are all different!)\n",
    "* A variable has to start with a letter or an underscore\n",
    "* A variable can only contain letters, numbers, and underscores\n"
   ]
  },
  {
   "cell_type": "code",
   "execution_count": 1,
   "metadata": {
    "id": "SWpbgeQfi2wS"
   },
   "outputs": [
    {
     "name": "stdout",
     "output_type": "stream",
     "text": [
      "10\n",
      "100\n"
     ]
    }
   ],
   "source": [
    "# these two variables might be pronounced the same, but they are different! \n",
    "# python respects capitalization...so the cap \"V\" in the second makes it a \n",
    "# totally different object than the first variable\n",
    "myvar = 10\n",
    "myVar = 100\n",
    "print(myvar)\n",
    "print(myVar)"
   ]
  },
  {
   "cell_type": "markdown",
   "metadata": {
    "id": "3BNmtJk5zL_z"
   },
   "source": [
    "### can't start with a number"
   ]
  },
  {
   "cell_type": "code",
   "execution_count": 2,
   "metadata": {
    "id": "I6YEL6Ohjeds"
   },
   "outputs": [
    {
     "ename": "SyntaxError",
     "evalue": "invalid syntax (<ipython-input-2-51bb9eeee5b3>, line 1)",
     "output_type": "error",
     "traceback": [
      "\u001b[0;36m  File \u001b[0;32m\"<ipython-input-2-51bb9eeee5b3>\"\u001b[0;36m, line \u001b[0;32m1\u001b[0m\n\u001b[0;31m    1var = 10\u001b[0m\n\u001b[0m     ^\u001b[0m\n\u001b[0;31mSyntaxError\u001b[0m\u001b[0;31m:\u001b[0m invalid syntax\n"
     ]
    }
   ],
   "source": [
    "1var = 10"
   ]
  },
  {
   "cell_type": "markdown",
   "metadata": {
    "id": "ETr3xrIjEWig"
   },
   "source": [
    "## Lists - a collection that is ordered and changeable and allows duplicate members."
   ]
  },
  {
   "cell_type": "code",
   "execution_count": 3,
   "metadata": {
    "colab": {
     "base_uri": "https://localhost:8080/"
    },
    "id": "NUVxUCKAimIr",
    "outputId": "7ea7823d-3344-471a-81ac-a04fd7586537"
   },
   "outputs": [
    {
     "name": "stdout",
     "output_type": "stream",
     "text": [
      "john\n"
     ]
    }
   ],
   "source": [
    "# this is a single string object, like we did last week \n",
    "\n",
    "a_str = 'john'\n",
    "print(a_str)"
   ]
  },
  {
   "cell_type": "code",
   "execution_count": 4,
   "metadata": {
    "colab": {
     "base_uri": "https://localhost:8080/"
    },
    "id": "V7KsBZ1L_qIy",
    "outputId": "c0dad5f5-a798-4ea7-9eea-c4eda4ef99e8"
   },
   "outputs": [
    {
     "name": "stdout",
     "output_type": "stream",
     "text": [
      "bob\n",
      "sunyoung\n"
     ]
    }
   ],
   "source": [
    "# introduction to lists - in this case a list of strings!\n",
    "names = ['bob', 'vy', 'sunyoung', 'maggie']\n",
    "\n",
    "# we start indexing with 0!!!\n",
    "# so this is the first name\n",
    "print(names[0])\n",
    "\n",
    "# this is the 3rd name...etc\n",
    "print(names[2])"
   ]
  },
  {
   "cell_type": "markdown",
   "metadata": {
    "id": "LhFMXWIz82eO"
   },
   "source": [
    "#### If you want to find the last element in a list and you don't know how long the list is, then just start indexing from the end.\n",
    "* -1 is the last element\n",
    "* -3 is the third to last, etc."
   ]
  },
  {
   "cell_type": "code",
   "execution_count": 5,
   "metadata": {
    "colab": {
     "base_uri": "https://localhost:8080/"
    },
    "id": "vhJcl_IQ9CZZ",
    "outputId": "e18c88e7-cc44-41fd-e2e1-e56d723ea050"
   },
   "outputs": [
    {
     "name": "stdout",
     "output_type": "stream",
     "text": [
      "maggie\n",
      "vy\n"
     ]
    }
   ],
   "source": [
    "print(names[-1])\n",
    "print(names[-3])"
   ]
  },
  {
   "cell_type": "markdown",
   "metadata": {
    "id": "vTG4qEdwK6Da"
   },
   "source": [
    "## you can also make a list using a bunch of str variables"
   ]
  },
  {
   "cell_type": "code",
   "execution_count": 6,
   "metadata": {
    "colab": {
     "base_uri": "https://localhost:8080/"
    },
    "id": "J99Jr6zOipO-",
    "outputId": "802db921-b1d4-4bc9-c94e-fff69a8abeab"
   },
   "outputs": [
    {
     "name": "stdout",
     "output_type": "stream",
     "text": [
      "vy\n"
     ]
    }
   ],
   "source": [
    "str1 = 'bob'\n",
    "str2 = 'vy'\n",
    "str3 = 'sunyoung'\n",
    "names = [str1, str2, str3]\n",
    "print(names[1])\n",
    "\n",
    "# this is handy if you later want to re-use the same variables to make another list\n",
    "names2 = [str3, str2, str1]"
   ]
  },
  {
   "cell_type": "markdown",
   "metadata": {
    "id": "aQjO_TeMkM6V"
   },
   "source": [
    "## sorting a list\n",
    "* sort() is a **method** - or a function that is specifically associated with this object type\n",
    "* the sort method modifies the list\n",
    "* there is also a \"sorted\" function that does not modify the list...instead, you assign the output of the sorted function to another variable (another list)"
   ]
  },
  {
   "cell_type": "code",
   "execution_count": 7,
   "metadata": {
    "colab": {
     "base_uri": "https://localhost:8080/"
    },
    "id": "M8RB7fPyAyqz",
    "outputId": "4ccdbceb-e3c0-46e7-fded-bb6a83f60eea"
   },
   "outputs": [
    {
     "name": "stdout",
     "output_type": "stream",
     "text": [
      "['ford', 'honda', 'toyota']\n"
     ]
    }
   ],
   "source": [
    "names = ['toyota', 'ford', 'honda']\n",
    "\n",
    "# perm sort a list in alpha order\n",
    "# this will alter 'names' (can't undo)\n",
    "names.sort()\n",
    "print(names)"
   ]
  },
  {
   "cell_type": "markdown",
   "metadata": {
    "id": "DJd8eNRsibe9"
   },
   "source": [
    "### sort without modifying using the sorted function\n",
    "* note that sorted is a general use **function** that can be used across multiple object types, not just for lists"
   ]
  },
  {
   "cell_type": "code",
   "execution_count": 8,
   "metadata": {
    "colab": {
     "base_uri": "https://localhost:8080/"
    },
    "id": "ljf2lIOgihP5",
    "outputId": "e9f62c42-dcf2-483d-be5b-c3cc1ba4a96c"
   },
   "outputs": [
    {
     "name": "stdout",
     "output_type": "stream",
     "text": [
      "['john', 'maggie', 'sunyoung', 'vy']\n",
      "['john', 'vy', 'sunyoung', 'maggie']\n"
     ]
    }
   ],
   "source": [
    "names = ['john', 'vy', 'sunyoung', 'maggie']\n",
    "# sort without modifying\n",
    "print(sorted(names))\n",
    "print(names)"
   ]
  },
  {
   "cell_type": "markdown",
   "metadata": {
    "id": "PM0GOfpbkl4Y"
   },
   "source": [
    "## Remove (delete) an item from a list"
   ]
  },
  {
   "cell_type": "code",
   "execution_count": 9,
   "metadata": {
    "id": "aLIciuPtBoNn"
   },
   "outputs": [
    {
     "name": "stdout",
     "output_type": "stream",
     "text": [
      "['john', 'vy', 'sunyoung', 'maggie']\n",
      "['vy', 'sunyoung', 'maggie']\n"
     ]
    }
   ],
   "source": [
    "# redefine names list\n",
    "names = ['john', 'vy', 'sunyoung', 'maggie']\n",
    "\n",
    "print(names)\n",
    "\n",
    "# remove items from a list\n",
    "# remove first item...\n",
    "del names[0]\n",
    "print(names)"
   ]
  },
  {
   "cell_type": "markdown",
   "metadata": {
    "id": "c96oxnL1kgyE"
   },
   "source": [
    "## Pop an item from a list and assign to another variable"
   ]
  },
  {
   "cell_type": "code",
   "execution_count": 10,
   "metadata": {
    "colab": {
     "base_uri": "https://localhost:8080/"
    },
    "id": "2xOwl4jXkjgx",
    "outputId": "ac539338-e054-4395-92c3-d737fe17a2cf"
   },
   "outputs": [
    {
     "name": "stdout",
     "output_type": "stream",
     "text": [
      "maggie\n",
      "['john', 'vy', 'sunyoung']\n"
     ]
    }
   ],
   "source": [
    "# redefine names list\n",
    "names = ['john', 'vy', 'sunyoung', 'maggie']\n",
    "\n",
    "# pop an item - can also pass index to pop() method (e.g. pop(1))\n",
    "last_name = names.pop()\n",
    "print(last_name)\n",
    "\n",
    "print(names)"
   ]
  },
  {
   "cell_type": "markdown",
   "metadata": {
    "id": "6V7q_DkslcHt"
   },
   "source": [
    "## Quick intro to 'range' function \n",
    "* Create a sequence of numbers\n",
    "* non-inclusive of stop value"
   ]
  },
  {
   "cell_type": "code",
   "execution_count": 11,
   "metadata": {
    "colab": {
     "base_uri": "https://localhost:8080/"
    },
    "id": "0Rr8bxX8lkfp",
    "outputId": "61e9fc63-a1a8-41b8-c91a-ca61ac99b05d"
   },
   "outputs": [
    {
     "name": "stdout",
     "output_type": "stream",
     "text": [
      "14\n"
     ]
    }
   ],
   "source": [
    "x = range(0,15)\n",
    "print(x[-1])"
   ]
  },
  {
   "cell_type": "markdown",
   "metadata": {
    "id": "UvbCny6Vl3EY"
   },
   "source": [
    "### Make a list using the range function..."
   ]
  },
  {
   "cell_type": "code",
   "execution_count": 12,
   "metadata": {
    "colab": {
     "base_uri": "https://localhost:8080/"
    },
    "id": "YMuQEgwlltDe",
    "outputId": "53aab3ab-71c8-4288-a331-30b46612a183"
   },
   "outputs": [
    {
     "name": "stdout",
     "output_type": "stream",
     "text": [
      "[0, 1, 2, 3, 4, 5, 6, 7, 8, 9, 10, 11, 12, 13, 14]\n"
     ]
    }
   ],
   "source": [
    "# 0-14 (non inclusive of the last number!)\n",
    "x = list(range(0,15))\n",
    "print(x)"
   ]
  },
  {
   "cell_type": "markdown",
   "metadata": {
    "id": "uHuPuaTo9_Lf"
   },
   "source": [
    "### Start value, stop value, step value\n",
    "* make a sequence that increments/decrements at a specified step size"
   ]
  },
  {
   "cell_type": "code",
   "execution_count": 13,
   "metadata": {
    "colab": {
     "base_uri": "https://localhost:8080/"
    },
    "id": "M7dxYedLxlG8",
    "outputId": "b2d59e1d-29f7-4a37-9eb6-4a5b007794e2"
   },
   "outputs": [
    {
     "name": "stdout",
     "output_type": "stream",
     "text": [
      "[0, 20, 40, 60, 80]\n",
      "[30, 20, 10]\n"
     ]
    }
   ],
   "source": [
    "skip_num = list(range(0,100,20))\n",
    "print(skip_num)\n",
    "\n",
    "skip_num = list(range(30,0,-10))\n",
    "print(skip_num)"
   ]
  }
 ],
 "metadata": {
  "colab": {
   "collapsed_sections": [],
   "name": "TutorialCode_01112021_Part1.ipynb",
   "provenance": []
  },
  "kernelspec": {
   "display_name": "Python 3",
   "name": "python3"
  },
  "language_info": {
   "codemirror_mode": {
    "name": "ipython",
    "version": 3
   },
   "file_extension": ".py",
   "mimetype": "text/x-python",
   "name": "python",
   "nbconvert_exporter": "python",
   "pygments_lexer": "ipython3",
   "version": "3.8.5"
  }
 },
 "nbformat": 4,
 "nbformat_minor": 0
}