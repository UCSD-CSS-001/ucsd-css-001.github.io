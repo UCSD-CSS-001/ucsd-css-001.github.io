{
 "cells": [
  {
   "cell_type": "markdown",
   "metadata": {
    "id": "lWAvJB32RwYu"
   },
   "source": [
    "# Try...catch statements, intro to functions"
   ]
  },
  {
   "cell_type": "markdown",
   "metadata": {
    "id": "XIp2uatDBu4N"
   },
   "source": [
    "# try, except, finally, else\n",
    "* handle errors gracefully\n",
    "* try something, if it works then fine, but if not then print a user friendly message explaining what went wrong. "
   ]
  },
  {
   "cell_type": "code",
   "execution_count": 1,
   "metadata": {
    "id": "ft6Fs25AB5yj"
   },
   "outputs": [
    {
     "ename": "NameError",
     "evalue": "name 'y' is not defined",
     "output_type": "error",
     "traceback": [
      "\u001b[0;31m---------------------------------------------------------------------------\u001b[0m",
      "\u001b[0;31mNameError\u001b[0m                                 Traceback (most recent call last)",
      "\u001b[0;32m<ipython-input-1-d9183e048de3>\u001b[0m in \u001b[0;36m<module>\u001b[0;34m\u001b[0m\n\u001b[0;32m----> 1\u001b[0;31m \u001b[0mprint\u001b[0m\u001b[0;34m(\u001b[0m\u001b[0my\u001b[0m\u001b[0;34m)\u001b[0m\u001b[0;34m\u001b[0m\u001b[0;34m\u001b[0m\u001b[0m\n\u001b[0m",
      "\u001b[0;31mNameError\u001b[0m: name 'y' is not defined"
     ]
    }
   ],
   "source": [
    "print(y)"
   ]
  },
  {
   "cell_type": "code",
   "execution_count": 2,
   "metadata": {
    "id": "2aa9MkY8CDP9"
   },
   "outputs": [
    {
     "name": "stdout",
     "output_type": "stream",
     "text": [
      "y is not a thing, why are you trying to print it???\n"
     ]
    }
   ],
   "source": [
    "try: \n",
    "  print(y)\n",
    " \n",
    "except: \n",
    "  print('y is not a thing, why are you trying to print it???')"
   ]
  },
  {
   "cell_type": "markdown",
   "metadata": {
    "id": "Q3Bv8re1GKks"
   },
   "source": [
    "### You can also catch specific errors to provide even more specific feedback about what happened. \n",
    "* same general structure, just with specific messages"
   ]
  },
  {
   "cell_type": "code",
   "execution_count": 3,
   "metadata": {
    "id": "m29sodEdCab8"
   },
   "outputs": [
    {
     "name": "stdout",
     "output_type": "stream",
     "text": [
      "y is not defined\n"
     ]
    }
   ],
   "source": [
    "try: \n",
    "  print(y)\n",
    "  \n",
    "# if its a name error (like something not yet defined)\n",
    "except NameError: \n",
    "  print('y is not defined')\n",
    "  \n",
    "#  if anything else bad happened, do this...\n",
    "except: \n",
    "  print('some error happened, not a name error')"
   ]
  },
  {
   "cell_type": "markdown",
   "metadata": {
    "id": "LiALnSUFLbXb"
   },
   "source": [
    "## Else statement attached to try...will execute if the statements in the \"try\" block complete without error"
   ]
  },
  {
   "cell_type": "code",
   "execution_count": 4,
   "metadata": {
    "id": "bebnZVuVLh97"
   },
   "outputs": [
    {
     "name": "stdout",
     "output_type": "stream",
     "text": [
      "10\n",
      "20\n"
     ]
    }
   ],
   "source": [
    "# actually define y first so you don't get a name error\n",
    "y = 10\n",
    "\n",
    "try: \n",
    "  print(y)\n",
    "  \n",
    "# if its a name error (like something not yet defined)\n",
    "except NameError: \n",
    "  print('y is not defined')\n",
    "  \n",
    "#  if anything else bad happened, do this...\n",
    "except: \n",
    "  print('some error happened, not a name error')\n",
    "\n",
    "# because the try block will execute without error, the statements in this\n",
    "# else block will execute as well...\n",
    "else:\n",
    "  x = y+10\n",
    "  print(x)"
   ]
  },
  {
   "cell_type": "markdown",
   "metadata": {
    "id": "UaTMzjNJG41t"
   },
   "source": [
    "### Can catch multiple types of errors..."
   ]
  },
  {
   "cell_type": "code",
   "execution_count": 5,
   "metadata": {
    "id": "fJAuPDsWG8ce"
   },
   "outputs": [
    {
     "ename": "NameError",
     "evalue": "name 'z' is not defined",
     "output_type": "error",
     "traceback": [
      "\u001b[0;31m---------------------------------------------------------------------------\u001b[0m",
      "\u001b[0;31mNameError\u001b[0m                                 Traceback (most recent call last)",
      "\u001b[0;32m<ipython-input-5-e1021e1007e1>\u001b[0m in \u001b[0;36m<module>\u001b[0;34m\u001b[0m\n\u001b[1;32m      7\u001b[0m \u001b[0;32mtry\u001b[0m\u001b[0;34m:\u001b[0m\u001b[0;34m\u001b[0m\u001b[0;34m\u001b[0m\u001b[0m\n\u001b[1;32m      8\u001b[0m   \u001b[0;31m#print(x * y)\u001b[0m\u001b[0;34m\u001b[0m\u001b[0;34m\u001b[0m\u001b[0;34m\u001b[0m\u001b[0m\n\u001b[0;32m----> 9\u001b[0;31m   \u001b[0mprint\u001b[0m\u001b[0;34m(\u001b[0m\u001b[0mz\u001b[0m\u001b[0;34m/\u001b[0m\u001b[0mw\u001b[0m\u001b[0;34m)\u001b[0m\u001b[0;34m\u001b[0m\u001b[0;34m\u001b[0m\u001b[0m\n\u001b[0m\u001b[1;32m     10\u001b[0m \u001b[0;34m\u001b[0m\u001b[0m\n\u001b[1;32m     11\u001b[0m \u001b[0;32mexcept\u001b[0m \u001b[0;34m(\u001b[0m\u001b[0mTypeError\u001b[0m\u001b[0;34m)\u001b[0m\u001b[0;34m:\u001b[0m\u001b[0;34m\u001b[0m\u001b[0;34m\u001b[0m\u001b[0m\n",
      "\u001b[0;31mNameError\u001b[0m: name 'z' is not defined"
     ]
    }
   ],
   "source": [
    "y = '27'\n",
    "x = '10'\n",
    "\n",
    "# z = 10\n",
    "# w = 0\n",
    "\n",
    "try:\n",
    "  #print(x * y)\n",
    "  print(z/w)\n",
    "\n",
    "except (TypeError):\n",
    "  print('TypeError')\n",
    "    \n",
    "except (ZeroDivisionError):\n",
    "  print('ZeroDiv Error')"
   ]
  },
  {
   "cell_type": "markdown",
   "metadata": {
    "id": "noDSYdDsJgyD"
   },
   "source": [
    "### Finally executes regardless of try/except outcome"
   ]
  },
  {
   "cell_type": "code",
   "execution_count": 6,
   "metadata": {
    "id": "bqN0UuBPC1Re"
   },
   "outputs": [
    {
     "name": "stdout",
     "output_type": "stream",
     "text": [
      "y throws a name error\n",
      "you finished the try-except code block\n"
     ]
    }
   ],
   "source": [
    "x = 'john'\n",
    "try: \n",
    "  print(z)\n",
    "  \n",
    "except NameError: \n",
    "  print('y throws a name error')\n",
    "  \n",
    "finally: \n",
    "  print('you finished the try-except code block')"
   ]
  },
  {
   "cell_type": "markdown",
   "metadata": {
    "id": "z4vs9s_VCBnN"
   },
   "source": [
    "## functions...\n",
    "* write a chunk of reusable code for operations that you will perform repeatedly in the context of a given application. \n",
    "* always include information about what the function does, and what the input/output parameters are!\n",
    "  * \"docstring\"\n"
   ]
  },
  {
   "cell_type": "code",
   "execution_count": 7,
   "metadata": {
    "id": "s-ISre-7AoRr"
   },
   "outputs": [],
   "source": [
    "def print_msg(msg,postfix):\n",
    "  \"\"\"a simple little function to print a msg \n",
    "  \n",
    "  inputs: \n",
    "  msg = what you want to say at the start of msg\n",
    "  postfix = what you want the msg to end with\n",
    "  \"\"\"\n",
    "  print(msg, postfix)\n"
   ]
  },
  {
   "cell_type": "code",
   "execution_count": 8,
   "metadata": {
    "id": "8d3mMaAWA1Sf"
   },
   "outputs": [],
   "source": [
    "print_msg?\n"
   ]
  },
  {
   "cell_type": "code",
   "execution_count": 9,
   "metadata": {
    "colab": {
     "base_uri": "https://localhost:8080/"
    },
    "id": "MeSf88ogJ8gb",
    "outputId": "35e92354-5b10-4ac6-e5e2-ddcc866a1c7a"
   },
   "outputs": [
    {
     "name": "stdout",
     "output_type": "stream",
     "text": [
      "my name is john\n"
     ]
    }
   ],
   "source": [
    "print_msg('my name is','john')"
   ]
  },
  {
   "cell_type": "markdown",
   "metadata": {
    "id": "9uw9gbI0Pl1M"
   },
   "source": [
    "### positional arguments vs keyword arguments"
   ]
  },
  {
   "cell_type": "code",
   "execution_count": 10,
   "metadata": {
    "id": "tAqPwNhPBnJK"
   },
   "outputs": [
    {
     "name": "stdout",
     "output_type": "stream",
     "text": [
      "john my name is\n"
     ]
    }
   ],
   "source": [
    "print_msg('john','my name is')"
   ]
  },
  {
   "cell_type": "code",
   "execution_count": 11,
   "metadata": {
    "id": "vToH9PeuBnc2"
   },
   "outputs": [
    {
     "name": "stdout",
     "output_type": "stream",
     "text": [
      "my name is john\n"
     ]
    }
   ],
   "source": [
    "print_msg(postfix='john',msg='my name is')"
   ]
  },
  {
   "cell_type": "markdown",
   "metadata": {
    "id": "2AaSUhYbHiwO"
   },
   "source": [
    "## return values\n",
    "* have your function return a value after performing some computation"
   ]
  },
  {
   "cell_type": "code",
   "execution_count": 12,
   "metadata": {
    "id": "lfeE_5zHHk5y"
   },
   "outputs": [],
   "source": [
    "def add_two(x):\n",
    "  \"\"\" a function to add 2\n",
    "\n",
    "  input: integer \n",
    "  output: that integer + 2\n",
    "  \"\"\"\n",
    "  x = x + 2\n",
    "  return x"
   ]
  },
  {
   "cell_type": "code",
   "execution_count": 13,
   "metadata": {
    "id": "Gf-Z3ICBHqdW"
   },
   "outputs": [
    {
     "data": {
      "text/plain": [
       "12"
      ]
     },
     "execution_count": 13,
     "metadata": {},
     "output_type": "execute_result"
    }
   ],
   "source": [
    "add_two(10)"
   ]
  },
  {
   "cell_type": "code",
   "execution_count": 14,
   "metadata": {
    "id": "ytLELcZ6yQcX"
   },
   "outputs": [],
   "source": [
    "def add_two(x,y):\n",
    "  x = x + 2\n",
    "  y = y + 2\n",
    "  return x,y"
   ]
  },
  {
   "cell_type": "code",
   "execution_count": 15,
   "metadata": {
    "id": "IMJulUhZ2J3O"
   },
   "outputs": [
    {
     "data": {
      "text/plain": [
       "12"
      ]
     },
     "execution_count": 15,
     "metadata": {},
     "output_type": "execute_result"
    }
   ],
   "source": [
    "### multiple return values. \n",
    "val = add_two(10,12)\n",
    "type(val)\n",
    "val[0]"
   ]
  },
  {
   "cell_type": "markdown",
   "metadata": {
    "id": "qL5GvLuPBkNi"
   },
   "source": [
    "## If a variable is defined within a function, then it is in the local namespace - it is created when the function is called and then destroyed after the function returns. Variables created outside of functions are in the global namespace and can be accessed from any cell in the notebook. "
   ]
  },
  {
   "cell_type": "code",
   "execution_count": 16,
   "metadata": {
    "id": "H7mym8JQ3e4v"
   },
   "outputs": [],
   "source": [
    "# define a variable in the local namespace of the function\n",
    "def minus_two(x):\n",
    "  # z is a local variable - does not exist outside of function\n",
    "  z = x - 2 \n",
    "  return z"
   ]
  },
  {
   "cell_type": "code",
   "execution_count": 17,
   "metadata": {
    "id": "f8mS6Mf7yrSM"
   },
   "outputs": [
    {
     "name": "stdout",
     "output_type": "stream",
     "text": [
      "0\n",
      "error\n"
     ]
    }
   ],
   "source": [
    "print(minus_two(2))\n",
    "\n",
    "try:\n",
    "  print(z)\n",
    "\n",
    "except: \n",
    "  print('error')"
   ]
  },
  {
   "cell_type": "markdown",
   "metadata": {
    "id": "ezYz15alywJz"
   },
   "source": [
    "### So notice that things like the sort method will modify the list, even though its \"local\" to the function\n",
    "* this is because the list was defined in the **global** namespace, so if you modify it within the function, you will also modify it in the global namespace\n"
   ]
  },
  {
   "cell_type": "code",
   "execution_count": 18,
   "metadata": {
    "id": "jmzDXtlsCqQx"
   },
   "outputs": [],
   "source": [
    "def sort_list(in_list):\n",
    "  in_list.sort()"
   ]
  },
  {
   "cell_type": "code",
   "execution_count": 19,
   "metadata": {
    "id": "77wmP4_XCiH_"
   },
   "outputs": [
    {
     "name": "stdout",
     "output_type": "stream",
     "text": [
      "['ella', 'jack', 'john']\n"
     ]
    }
   ],
   "source": [
    "my_list = ['john', 'ella', 'jack']\n",
    "sort_list(my_list)\n",
    "print(my_list)\n",
    "\n",
    "# note - we don't return anything here...the list is modified internally by the\n",
    "# function"
   ]
  },
  {
   "cell_type": "markdown",
   "metadata": {
    "id": "gvukAB_yzIcW"
   },
   "source": [
    "### But if you used sorted() (or something else that doesn't perm modify the list) then you would need to return the sorted value"
   ]
  },
  {
   "cell_type": "code",
   "execution_count": 20,
   "metadata": {
    "id": "LYTeZX7P2vCQ"
   },
   "outputs": [],
   "source": [
    "def new_sorted_list(in_list):\n",
    "  sort_list = sorted(in_list)\n",
    "  return sort_list"
   ]
  },
  {
   "cell_type": "code",
   "execution_count": 21,
   "metadata": {
    "id": "jsgRObWpAQYs"
   },
   "outputs": [
    {
     "name": "stdout",
     "output_type": "stream",
     "text": [
      "['john', 'ella', 'jack']\n",
      "['ella', 'jack', 'john']\n"
     ]
    }
   ],
   "source": [
    "my_list = ['john', 'ella', 'jack']\n",
    "s_my_list = new_sorted_list(my_list)\n",
    "print(my_list)\n",
    "print(s_my_list)"
   ]
  },
  {
   "cell_type": "markdown",
   "metadata": {
    "id": "5uVIxsjvEaK6"
   },
   "source": [
    "## Make a function that allows variable length argument list using the *args special syntax"
   ]
  },
  {
   "cell_type": "code",
   "execution_count": 22,
   "metadata": {
    "id": "0RqPCUjHApCm"
   },
   "outputs": [],
   "source": [
    "# compute the cumulative product of a list of numbers\n",
    "def mult(*numbers):\n",
    "  z = 1 # why initializing to 1???\n",
    "  for num in numbers:\n",
    "    z *= num\n",
    "\n",
    "  return z"
   ]
  },
  {
   "cell_type": "code",
   "execution_count": 23,
   "metadata": {
    "colab": {
     "base_uri": "https://localhost:8080/"
    },
    "id": "PtTUkcqlAxja",
    "outputId": "e2e54abe-d974-45a0-9726-dd7a66e411b7"
   },
   "outputs": [
    {
     "data": {
      "text/plain": [
       "60000"
      ]
     },
     "execution_count": 23,
     "metadata": {},
     "output_type": "execute_result"
    }
   ],
   "source": [
    "mult(10,20,30,10)"
   ]
  },
  {
   "cell_type": "code",
   "execution_count": 24,
   "metadata": {
    "id": "4xKs9UFD-ENE"
   },
   "outputs": [],
   "source": [
    "# compute mean across a list of numbers - and list can be as long as you'd like!\n",
    "def comp_avg(*nums_to_avg):\n",
    "  \"\"\"compute mean across a list of numbers\"\"\"\n",
    "  avg = sum(nums_to_avg)/len(nums_to_avg)\n",
    "  return avg"
   ]
  },
  {
   "cell_type": "markdown",
   "metadata": {
    "id": "OwYHaLt7B-Lz"
   },
   "source": [
    "### two ways to call...pass in vals directly\n"
   ]
  },
  {
   "cell_type": "code",
   "execution_count": 25,
   "metadata": {
    "id": "osQG1Rx_AAgT"
   },
   "outputs": [
    {
     "data": {
      "text/plain": [
       "30.0"
      ]
     },
     "execution_count": 25,
     "metadata": {},
     "output_type": "execute_result"
    }
   ],
   "source": [
    "comp_avg(10,20,30,40,50)"
   ]
  },
  {
   "cell_type": "markdown",
   "metadata": {
    "id": "A_zAmhxeB6hM"
   },
   "source": [
    "### or pass in a list...use the *"
   ]
  },
  {
   "cell_type": "code",
   "execution_count": 26,
   "metadata": {
    "id": "Wi2_Qyif-kUn"
   },
   "outputs": [
    {
     "data": {
      "text/plain": [
       "30.0"
      ]
     },
     "execution_count": 26,
     "metadata": {},
     "output_type": "execute_result"
    }
   ],
   "source": [
    "nums = [10,20,30,40,50]\n",
    "comp_avg(*nums)"
   ]
  },
  {
   "cell_type": "markdown",
   "metadata": {
    "id": "owZE7UttSDlL"
   },
   "source": [
    "## Bonus stuff about using while loops..."
   ]
  },
  {
   "cell_type": "code",
   "execution_count": 27,
   "metadata": {
    "id": "aARsWT_uAyzP"
   },
   "outputs": [
    {
     "ename": "StdinNotImplementedError",
     "evalue": "raw_input was called, but this frontend does not support input requests.",
     "output_type": "error",
     "traceback": [
      "\u001b[0;31m---------------------------------------------------------------------------\u001b[0m",
      "\u001b[0;31mStdinNotImplementedError\u001b[0m                  Traceback (most recent call last)",
      "\u001b[0;32m<ipython-input-27-437400cbab58>\u001b[0m in \u001b[0;36m<module>\u001b[0;34m\u001b[0m\n\u001b[1;32m      5\u001b[0m \u001b[0;34m\u001b[0m\u001b[0m\n\u001b[1;32m      6\u001b[0m \u001b[0;32mwhile\u001b[0m \u001b[0;32mTrue\u001b[0m\u001b[0;34m:\u001b[0m\u001b[0;34m\u001b[0m\u001b[0;34m\u001b[0m\u001b[0m\n\u001b[0;32m----> 7\u001b[0;31m   \u001b[0mname\u001b[0m \u001b[0;34m=\u001b[0m \u001b[0minput\u001b[0m\u001b[0;34m(\u001b[0m\u001b[0;34m'What is your name: '\u001b[0m\u001b[0;34m)\u001b[0m\u001b[0;34m\u001b[0m\u001b[0;34m\u001b[0m\u001b[0m\n\u001b[0m\u001b[1;32m      8\u001b[0m   \u001b[0mfood\u001b[0m \u001b[0;34m=\u001b[0m \u001b[0minput\u001b[0m\u001b[0;34m(\u001b[0m\u001b[0;34m'What is your fav food: '\u001b[0m\u001b[0;34m)\u001b[0m\u001b[0;34m\u001b[0m\u001b[0;34m\u001b[0m\u001b[0m\n\u001b[1;32m      9\u001b[0m \u001b[0;34m\u001b[0m\u001b[0m\n",
      "\u001b[0;32m/opt/homebrew/anaconda3/lib/python3.8/site-packages/ipykernel/kernelbase.py\u001b[0m in \u001b[0;36mraw_input\u001b[0;34m(self, prompt)\u001b[0m\n\u001b[1;32m    855\u001b[0m         \"\"\"\n\u001b[1;32m    856\u001b[0m         \u001b[0;32mif\u001b[0m \u001b[0;32mnot\u001b[0m \u001b[0mself\u001b[0m\u001b[0;34m.\u001b[0m\u001b[0m_allow_stdin\u001b[0m\u001b[0;34m:\u001b[0m\u001b[0;34m\u001b[0m\u001b[0;34m\u001b[0m\u001b[0m\n\u001b[0;32m--> 857\u001b[0;31m             raise StdinNotImplementedError(\n\u001b[0m\u001b[1;32m    858\u001b[0m                 \u001b[0;34m\"raw_input was called, but this frontend does not support input requests.\"\u001b[0m\u001b[0;34m\u001b[0m\u001b[0;34m\u001b[0m\u001b[0m\n\u001b[1;32m    859\u001b[0m             )\n",
      "\u001b[0;31mStdinNotImplementedError\u001b[0m: raw_input was called, but this frontend does not support input requests."
     ]
    }
   ],
   "source": [
    "# fill up a dictionary with key, value pairs. \n",
    "\n",
    "# initialize the dictionary\n",
    "fav_food = {}\n",
    "\n",
    "while True:\n",
    "  name = input('What is your name: ')\n",
    "  food = input('What is your fav food: ')\n",
    "  \n",
    "  fav_food[name] = food\n",
    "  \n",
    "  more = input('Enter any more name/food pairs[y/n]? ')\n",
    "  if more == 'n':\n",
    "    break\n",
    "    \n",
    "for name, food in fav_food.items():\n",
    "  print(name, 'likes', food)"
   ]
  },
  {
   "cell_type": "code",
   "execution_count": 28,
   "metadata": {
    "id": "ddWUPEPz9HcT"
   },
   "outputs": [
    {
     "ename": "StdinNotImplementedError",
     "evalue": "raw_input was called, but this frontend does not support input requests.",
     "output_type": "error",
     "traceback": [
      "\u001b[0;31m---------------------------------------------------------------------------\u001b[0m",
      "\u001b[0;31mStdinNotImplementedError\u001b[0m                  Traceback (most recent call last)",
      "\u001b[0;32m<ipython-input-28-f31acd2caae3>\u001b[0m in \u001b[0;36m<module>\u001b[0;34m\u001b[0m\n\u001b[1;32m      3\u001b[0m \u001b[0;34m\u001b[0m\u001b[0m\n\u001b[1;32m      4\u001b[0m \u001b[0;32mwhile\u001b[0m \u001b[0;32mTrue\u001b[0m\u001b[0;34m:\u001b[0m\u001b[0;34m\u001b[0m\u001b[0;34m\u001b[0m\u001b[0m\n\u001b[0;32m----> 5\u001b[0;31m   \u001b[0mstim_trigger\u001b[0m \u001b[0;34m=\u001b[0m \u001b[0minput\u001b[0m\u001b[0;34m(\u001b[0m\u001b[0;34m'Start stimus presentation[y/n] '\u001b[0m\u001b[0;34m)\u001b[0m\u001b[0;34m\u001b[0m\u001b[0;34m\u001b[0m\u001b[0m\n\u001b[0m\u001b[1;32m      6\u001b[0m \u001b[0;34m\u001b[0m\u001b[0m\n\u001b[1;32m      7\u001b[0m   \u001b[0;32mif\u001b[0m \u001b[0mstim_trigger\u001b[0m \u001b[0;34m==\u001b[0m \u001b[0;34m'y'\u001b[0m\u001b[0;34m:\u001b[0m\u001b[0;34m\u001b[0m\u001b[0;34m\u001b[0m\u001b[0m\n",
      "\u001b[0;32m/opt/homebrew/anaconda3/lib/python3.8/site-packages/ipykernel/kernelbase.py\u001b[0m in \u001b[0;36mraw_input\u001b[0;34m(self, prompt)\u001b[0m\n\u001b[1;32m    855\u001b[0m         \"\"\"\n\u001b[1;32m    856\u001b[0m         \u001b[0;32mif\u001b[0m \u001b[0;32mnot\u001b[0m \u001b[0mself\u001b[0m\u001b[0;34m.\u001b[0m\u001b[0m_allow_stdin\u001b[0m\u001b[0;34m:\u001b[0m\u001b[0;34m\u001b[0m\u001b[0;34m\u001b[0m\u001b[0m\n\u001b[0;32m--> 857\u001b[0;31m             raise StdinNotImplementedError(\n\u001b[0m\u001b[1;32m    858\u001b[0m                 \u001b[0;34m\"raw_input was called, but this frontend does not support input requests.\"\u001b[0m\u001b[0;34m\u001b[0m\u001b[0;34m\u001b[0m\u001b[0m\n\u001b[1;32m    859\u001b[0m             )\n",
      "\u001b[0;31mStdinNotImplementedError\u001b[0m: raw_input was called, but this frontend does not support input requests."
     ]
    }
   ],
   "source": [
    "# more relevant example for experiments \n",
    "stim_trigger = ''\n",
    "\n",
    "while True:\n",
    "  stim_trigger = input('Start stimus presentation[y/n] ')\n",
    "  \n",
    "  if stim_trigger == 'y':\n",
    "    print('starting experiment')\n",
    "    break\n",
    "  elif stim_trigger == 'n':\n",
    "    print('what? you want to start...')\n",
    "  else:\n",
    "    print('answer only y or n')\n",
    "    \n",
    "print('this is where the stimulus presentation code would go')"
   ]
  }
 ],
 "metadata": {
  "colab": {
   "collapsed_sections": [],
   "name": "TutorialCode_02012021_Part2.ipynb",
   "provenance": []
  },
  "kernelspec": {
   "display_name": "Python 3",
   "name": "python3"
  },
  "language_info": {
   "codemirror_mode": {
    "name": "ipython",
    "version": 3
   },
   "file_extension": ".py",
   "mimetype": "text/x-python",
   "name": "python",
   "nbconvert_exporter": "python",
   "pygments_lexer": "ipython3",
   "version": "3.8.5"
  }
 },
 "nbformat": 4,
 "nbformat_minor": 0
}