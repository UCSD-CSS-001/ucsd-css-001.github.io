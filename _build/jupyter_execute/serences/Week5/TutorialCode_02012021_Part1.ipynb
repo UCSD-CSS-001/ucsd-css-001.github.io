{
 "cells": [
  {
   "cell_type": "markdown",
   "metadata": {
    "id": "7TZbYEPQ7sVP"
   },
   "source": [
    "# Gather simple user input, while loops, try...catch statements, and introduction to importing modules"
   ]
  },
  {
   "cell_type": "markdown",
   "metadata": {
    "id": "wDpgVXgSeg_A"
   },
   "source": [
    "# Input() function...\n",
    "* Get user input from a prompt\n",
    "* Can do some basic formatting..."
   ]
  },
  {
   "cell_type": "code",
   "execution_count": 1,
   "metadata": {
    "id": "bzis9DhSxcho"
   },
   "outputs": [
    {
     "ename": "StdinNotImplementedError",
     "evalue": "raw_input was called, but this frontend does not support input requests.",
     "output_type": "error",
     "traceback": [
      "\u001b[0;31m---------------------------------------------------------------------------\u001b[0m",
      "\u001b[0;31mStdinNotImplementedError\u001b[0m                  Traceback (most recent call last)",
      "\u001b[0;32m<ipython-input-1-ae73e98e25ef>\u001b[0m in \u001b[0;36m<module>\u001b[0;34m\u001b[0m\n\u001b[0;32m----> 1\u001b[0;31m \u001b[0mname\u001b[0m \u001b[0;34m=\u001b[0m \u001b[0minput\u001b[0m\u001b[0;34m(\u001b[0m\u001b[0;34m'What is your name? '\u001b[0m\u001b[0;34m)\u001b[0m\u001b[0;34m\u001b[0m\u001b[0;34m\u001b[0m\u001b[0m\n\u001b[0m\u001b[1;32m      2\u001b[0m \u001b[0mprint\u001b[0m\u001b[0;34m(\u001b[0m\u001b[0mname\u001b[0m\u001b[0;34m)\u001b[0m\u001b[0;34m\u001b[0m\u001b[0;34m\u001b[0m\u001b[0m\n",
      "\u001b[0;32m/opt/homebrew/anaconda3/lib/python3.8/site-packages/ipykernel/kernelbase.py\u001b[0m in \u001b[0;36mraw_input\u001b[0;34m(self, prompt)\u001b[0m\n\u001b[1;32m    855\u001b[0m         \"\"\"\n\u001b[1;32m    856\u001b[0m         \u001b[0;32mif\u001b[0m \u001b[0;32mnot\u001b[0m \u001b[0mself\u001b[0m\u001b[0;34m.\u001b[0m\u001b[0m_allow_stdin\u001b[0m\u001b[0;34m:\u001b[0m\u001b[0;34m\u001b[0m\u001b[0;34m\u001b[0m\u001b[0m\n\u001b[0;32m--> 857\u001b[0;31m             raise StdinNotImplementedError(\n\u001b[0m\u001b[1;32m    858\u001b[0m                 \u001b[0;34m\"raw_input was called, but this frontend does not support input requests.\"\u001b[0m\u001b[0;34m\u001b[0m\u001b[0;34m\u001b[0m\u001b[0m\n\u001b[1;32m    859\u001b[0m             )\n",
      "\u001b[0;31mStdinNotImplementedError\u001b[0m: raw_input was called, but this frontend does not support input requests."
     ]
    }
   ],
   "source": [
    "name = input('What is your name? ')\n",
    "print(name)"
   ]
  },
  {
   "cell_type": "markdown",
   "metadata": {
    "id": "vzkcwo689NVt"
   },
   "source": [
    "## Use of the 'sep' keyword in the print statement to determine what character goes in between phrases"
   ]
  },
  {
   "cell_type": "code",
   "execution_count": null,
   "metadata": {
    "id": "5XKHq5iu1Hms"
   },
   "outputs": [],
   "source": [
    "name = input('What is your name? ')\n",
    "age = input('What is your age? ')\n",
    "print(name, 'is', age, 'years old', sep=' ')\n",
    "print(name, age, sep=':')"
   ]
  },
  {
   "cell_type": "markdown",
   "metadata": {
    "id": "qnrxy7IgEy_6"
   },
   "source": [
    "## Dealing with numeric input (which is a string by default)....\n",
    "* Best practice: don't just cast the str as an int because a user might input the wrong kind of data...or your data set might have a field that is miscoded (i.e. you encounter a name instead of a number)\n",
    "* Better practice is to first test to see if a variable is a viable number, and if so, then deal with it..."
   ]
  },
  {
   "cell_type": "markdown",
   "metadata": {
    "id": "PBECfmhGDiNN"
   },
   "source": [
    "#### note that input returns a string object, even if the input is a number\n"
   ]
  },
  {
   "cell_type": "code",
   "execution_count": null,
   "metadata": {
    "id": "sdm3AOVXDY-D"
   },
   "outputs": [],
   "source": [
    "type(age)"
   ]
  },
  {
   "cell_type": "code",
   "execution_count": null,
   "metadata": {
    "id": "uu0g-YVcFts7"
   },
   "outputs": [],
   "source": [
    "# first a bad example...this will go wrong if the user enters a non-numeric value\n",
    "age = int(input('How old are you?'))\n",
    "type(age)"
   ]
  },
  {
   "cell_type": "code",
   "execution_count": null,
   "metadata": {
    "id": "hkC35V_A23q8"
   },
   "outputs": [],
   "source": [
    "# a more robust way to deal with input\n",
    "age = input('How old are you? ')\n",
    "if age.isdigit():\n",
    "  print('You are', age, 'years old')\n",
    "else:\n",
    "  print('user input error!')"
   ]
  },
  {
   "cell_type": "markdown",
   "metadata": {
    "id": "iNS_plwnXtAb"
   },
   "source": [
    "## **import** statement to gain access to more functionality\n",
    "* a module contains python classes or just functions\n",
    "* a class defines the functionality of an object\n",
    "* similar to #include header_file in C/C++ (if people are familiar with that)\n",
    "* or setting a path to a toolbox in Matlab\n",
    "* allows you to bring in a 'module' that supports specialized functionality (e.g. special math functions, etc)\n",
    "* also allows for expanding the functionality of python - anyone can write a module to support new applications\n",
    "* for the moment just a simple example...will build on this in the coming classes"
   ]
  },
  {
   "cell_type": "code",
   "execution_count": null,
   "metadata": {
    "id": "czImnX3LXx-t"
   },
   "outputs": [],
   "source": [
    "# simple example\n",
    "import math\n",
    "print(math.pi)"
   ]
  },
  {
   "cell_type": "code",
   "execution_count": null,
   "metadata": {
    "id": "sup2HlBub0_U"
   },
   "outputs": [],
   "source": [
    "# little more complex...cos method\n",
    "print(math.cos(math.pi))"
   ]
  },
  {
   "cell_type": "markdown",
   "metadata": {
    "id": "PmZqVKbn5gkX"
   },
   "source": [
    "## While loop syntax\n",
    "* if you know exactly how many times you want to do something, then you can use a for loop\n",
    "* if you don't know how many times you need to repeat something, then use while statement"
   ]
  },
  {
   "cell_type": "markdown",
   "metadata": {
    "id": "LJm2_hTQclj4"
   },
   "source": [
    "#### Let's try some while loops, and we'll also import the \"random\" module, which has functionality to generate random numbers based on different distributions (uniform, gaussian, etc). \n",
    "* random.random will generate random numbers from a uniform distribution over the interval [0,1]"
   ]
  },
  {
   "cell_type": "code",
   "execution_count": null,
   "metadata": {
    "id": "qRRcGpv4iZ8g"
   },
   "outputs": [],
   "source": [
    "# import the entire random module\n",
    "import random"
   ]
  },
  {
   "cell_type": "code",
   "execution_count": null,
   "metadata": {
    "id": "gAKDL4P-5kci"
   },
   "outputs": [],
   "source": [
    "for i in range(0,6):\n",
    "  # random.random will return a number between 0 and 1\n",
    "  if random.random()<=.5:\n",
    "    print('heads')\n",
    "  else:\n",
    "    print('tails')"
   ]
  },
  {
   "cell_type": "code",
   "execution_count": null,
   "metadata": {
    "id": "iiKtaCKE6uar"
   },
   "outputs": [],
   "source": [
    "x = random.random()\n",
    "\n",
    "# draw random numbers, print, and repeat until we get a draw >= .7\n",
    "while x<.95:\n",
    "  x = random.random()\n",
    "  print(x)"
   ]
  },
  {
   "cell_type": "markdown",
   "metadata": {
    "id": "BQC2LfBPjhB-"
   },
   "source": [
    "## Another example that will ask for user input until an appropriate value is provided - uses a boolean flag to keep looping until valid user input if provided..."
   ]
  },
  {
   "cell_type": "code",
   "execution_count": null,
   "metadata": {
    "colab": {
     "base_uri": "https://localhost:8080/"
    },
    "id": "lUK-OUtJK1zl",
    "outputId": "3030547d-33d2-4911-b011-10088c8b445a"
   },
   "outputs": [
    {
     "name": "stdout",
     "output_type": "stream",
     "text": [
      "What is your age? r3\n",
      "User input error - please enter a valid integer\n",
      "What is your age? rr\n",
      "User input error - please enter a valid integer\n",
      "What is your age? tt\n",
      "User input error - please enter a valid integer\n",
      "What is your age? 4t\n",
      "User input error - please enter a valid integer\n",
      "What is your age? 44\n",
      "You will be 54 in 10 years!\n"
     ]
    }
   ],
   "source": [
    "get_input = True\n",
    "\n",
    "while get_input:\n",
    "  age = input('What is your age? ')\n",
    "\n",
    "  if age.isdigit():\n",
    "    age = int(age)\n",
    "    print('You will be', age + 10, 'in 10 years!')\n",
    "    get_input = False\n",
    "    \n",
    "  else:\n",
    "    print('User input error - please enter a valid integer')"
   ]
  },
  {
   "cell_type": "markdown",
   "metadata": {
    "id": "OH_miVsybwzJ"
   },
   "source": [
    "## While loops and the 'break' statement to exit\n",
    "* An alternate means of stopping, or 'breaking out' of a while loop"
   ]
  },
  {
   "cell_type": "code",
   "execution_count": null,
   "metadata": {
    "colab": {
     "base_uri": "https://localhost:8080/"
    },
    "id": "d5jDzHkBb6_Z",
    "outputId": "7deed465-25eb-46f0-8f21-eeec0b3b2592"
   },
   "outputs": [
    {
     "name": "stdout",
     "output_type": "stream",
     "text": [
      "How old are you? 34 v\n",
      "please enter a valid age!\n",
      "How old are you? sdfa\n",
      "please enter a valid age!\n",
      "How old are you? 12\n",
      "your age is: 12\n"
     ]
    }
   ],
   "source": [
    "while True:\n",
    "  age = input('How old are you? ')\n",
    "\n",
    "  if age.isdigit():\n",
    "    print('your age is:', age)\n",
    "    break\n",
    "\n",
    "  else:\n",
    "    print('please enter a valid age!')\n"
   ]
  }
 ],
 "metadata": {
  "colab": {
   "collapsed_sections": [],
   "name": "TutorialCode_02012021_Part1.ipynb",
   "provenance": []
  },
  "kernelspec": {
   "display_name": "Python 3",
   "name": "python3"
  },
  "language_info": {
   "codemirror_mode": {
    "name": "ipython",
    "version": 3
   },
   "file_extension": ".py",
   "mimetype": "text/x-python",
   "name": "python",
   "nbconvert_exporter": "python",
   "pygments_lexer": "ipython3",
   "version": "3.8.5"
  }
 },
 "nbformat": 4,
 "nbformat_minor": 0
}