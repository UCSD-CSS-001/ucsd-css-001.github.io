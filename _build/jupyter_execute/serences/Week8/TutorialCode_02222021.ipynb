{
 "cells": [
  {
   "cell_type": "markdown",
   "metadata": {
    "id": "Xj9467MOP3qn"
   },
   "source": [
    "## Basic data structures - start with Series then build up to DataFrames\n",
    "\n",
    "[Pandas quick start guide for Series](https://pandas.pydata.org/pandas-docs/stable/dsintro.html#series)\n",
    "\n",
    "* A **Series** is a 1D array that can hold any type of data (numeric types, non-numeric, Python objects and so forth).\n",
    "    * Each entry is **labeled** with an index that is used to keep track of what each entry is, and can be used to lookup the value corresponding to each index during analysis (remember keys in dictionaries? similar idea)\n",
    "    * These labels are fixed - they will always index the same value unless you explicitly break that link.\n",
    "    * The list of labels that forms the index can either be declared upon series creation or, by default, it will range from 0 to len(data)-1.\n",
    "        * If you're going to use Pandas to organize your data, specifying usable and informative labels is a good idea because that's one of the main advantages of organizing your data in this manner\n",
    "        \n",
    "\n",
    "**Warning**. Pandas will allow you to specify non-unique labels. This can be ok for operations that don't rely on indexing by label. However, operations that do rely on unique labels for indexing may lead to unexpected problems so in general its good practice to use unique labels!\n"
   ]
  },
  {
   "cell_type": "markdown",
   "metadata": {
    "id": "rfoyifY6P3qo"
   },
   "source": [
    "## Import Pandas and random"
   ]
  },
  {
   "cell_type": "code",
   "execution_count": 1,
   "metadata": {
    "id": "vb5enlUrP3qp"
   },
   "outputs": [],
   "source": [
    "# import a generic pandas object and also a few specific functions that we'll use\n",
    "import pandas as pd\n",
    "import random as random"
   ]
  },
  {
   "cell_type": "markdown",
   "metadata": {
    "id": "KZdF7oqJP3qt"
   },
   "source": [
    "## Create a series of data stored in a list, and then make a set of index labels"
   ]
  },
  {
   "cell_type": "code",
   "execution_count": 2,
   "metadata": {
    "colab": {
     "base_uri": "https://localhost:8080/"
    },
    "id": "Kx3RdPn6P3qu",
    "outputId": "d105f529-0c5a-408a-b106-12fb423da91f"
   },
   "outputs": [
    {
     "name": "stdout",
     "output_type": "stream",
     "text": [
      "[7, 5, 7, 10, 9, 3, 3, 1, 6, 10, 1, 3]\n"
     ]
    }
   ],
   "source": [
    "# For this simulation, lets have 12 subjects, and some data\n",
    "# generated psuedo-randomly from a uniform distribution\n",
    "N = 12\n",
    "\n",
    "# generate N random numbers\n",
    "data=[]\n",
    "for i in range(N):\n",
    "  data.append(random.randint(1,10))\n",
    "\n",
    "# have a look\n",
    "print(data)"
   ]
  },
  {
   "cell_type": "markdown",
   "metadata": {
    "id": "FQa7_0r2sjuu"
   },
   "source": [
    "## Make a list of subject names for use as index labels\n"
   ]
  },
  {
   "cell_type": "code",
   "execution_count": 3,
   "metadata": {
    "colab": {
     "base_uri": "https://localhost:8080/"
    },
    "id": "dgIppzM6r4pZ",
    "outputId": "001d27c3-c8c8-4cc7-8f8b-0de18913a116"
   },
   "outputs": [
    {
     "name": "stdout",
     "output_type": "stream",
     "text": [
      "Index labels:  ['Sub0', 'Sub1', 'Sub2', 'Sub3', 'Sub4', 'Sub5', 'Sub6', 'Sub7', 'Sub8', 'Sub9', 'Sub10', 'Sub11'] \n",
      "\n"
     ]
    }
   ],
   "source": [
    "label_prefix = 'Sub'\n",
    "index=[]\n",
    "for n in range(0,N):\n",
    "    index.append(label_prefix+str(n))    \n",
    "    \n",
    "# print our list of index labels\n",
    "print('Index labels: ', index, '\\n')"
   ]
  },
  {
   "cell_type": "markdown",
   "metadata": {
    "id": "9koBP1iushfV"
   },
   "source": [
    "## Then make our Pandas Series by passing in our data array and our index labels"
   ]
  },
  {
   "cell_type": "code",
   "execution_count": 4,
   "metadata": {
    "id": "yuuHwjk2sgCS"
   },
   "outputs": [
    {
     "name": "stdout",
     "output_type": "stream",
     "text": [
      "Sub0      7\n",
      "Sub1      5\n",
      "Sub2      7\n",
      "Sub3     10\n",
      "Sub4      9\n",
      "Sub5      3\n",
      "Sub6      3\n",
      "Sub7      1\n",
      "Sub8      6\n",
      "Sub9     10\n",
      "Sub10     1\n",
      "Sub11     3\n",
      "dtype: int64\n"
     ]
    }
   ],
   "source": [
    "s = pd.Series(data, index=index)\n",
    "print(s)"
   ]
  },
  {
   "cell_type": "markdown",
   "metadata": {
    "id": "zGYKoEjtP3qx"
   },
   "source": [
    "## Note that each subject is now a field in the series and can be used to retrieve the corresponding value...there are a few ways to do this\n",
    "* can access by number\n",
    "* can access by field\n",
    "* can access by index label"
   ]
  },
  {
   "cell_type": "code",
   "execution_count": 5,
   "metadata": {
    "id": "1l0YTipdrw8w"
   },
   "outputs": [
    {
     "name": "stdout",
     "output_type": "stream",
     "text": [
      "7\n"
     ]
    }
   ],
   "source": [
    "print(s[0])"
   ]
  },
  {
   "cell_type": "code",
   "execution_count": 6,
   "metadata": {
    "id": "kyD1RV9bP3qy"
   },
   "outputs": [
    {
     "name": "stdout",
     "output_type": "stream",
     "text": [
      "3\n"
     ]
    }
   ],
   "source": [
    "# access by field\n",
    "print(s.Sub11)"
   ]
  },
  {
   "cell_type": "code",
   "execution_count": 7,
   "metadata": {
    "id": "hHJNy5wBw3Sj"
   },
   "outputs": [
    {
     "name": "stdout",
     "output_type": "stream",
     "text": [
      "7\n"
     ]
    }
   ],
   "source": [
    "# access by index label\n",
    "print(s['Sub0'])"
   ]
  },
  {
   "cell_type": "markdown",
   "metadata": {
    "id": "7mKM9zZaP3q1"
   },
   "source": [
    "## Can also use labels to check for membership or to index over labels"
   ]
  },
  {
   "cell_type": "code",
   "execution_count": 8,
   "metadata": {
    "id": "uytQJM2GP3q2"
   },
   "outputs": [
    {
     "name": "stdout",
     "output_type": "stream",
     "text": [
      "True\n"
     ]
    }
   ],
   "source": [
    "# check for membership\n",
    "print('Sub11' in s) "
   ]
  },
  {
   "cell_type": "markdown",
   "metadata": {
    "id": "kD6MHIw1t_0r"
   },
   "source": [
    "#### iterate over index labels\n"
   ]
  },
  {
   "cell_type": "code",
   "execution_count": 9,
   "metadata": {
    "id": "Hd2Na95xt7Cs"
   },
   "outputs": [
    {
     "name": "stdout",
     "output_type": "stream",
     "text": [
      "Sub0\n",
      "Sub1\n",
      "Sub2\n",
      "Sub3\n",
      "Sub4\n",
      "Sub5\n",
      "Sub6\n",
      "Sub7\n",
      "Sub8\n",
      "Sub9\n",
      "Sub10\n",
      "Sub11\n"
     ]
    }
   ],
   "source": [
    "for i in s.index:\n",
    "  print(i)"
   ]
  },
  {
   "cell_type": "markdown",
   "metadata": {
    "id": "0a_7wQSlt9yR"
   },
   "source": [
    "#### iterate over values..."
   ]
  },
  {
   "cell_type": "code",
   "execution_count": 10,
   "metadata": {
    "id": "lItQQN-1t8lq"
   },
   "outputs": [
    {
     "name": "stdout",
     "output_type": "stream",
     "text": [
      "7\n",
      "5\n",
      "7\n",
      "10\n",
      "9\n",
      "3\n",
      "3\n",
      "1\n",
      "6\n",
      "10\n",
      "1\n",
      "3\n"
     ]
    }
   ],
   "source": [
    "for v in s.values:\n",
    "  print(v)   "
   ]
  },
  {
   "cell_type": "code",
   "execution_count": 11,
   "metadata": {
    "id": "7KlYA_dKP3q5"
   },
   "outputs": [
    {
     "name": "stdout",
     "output_type": "stream",
     "text": [
      "7\n",
      "5\n",
      "7\n",
      "10\n",
      "9\n",
      "3\n",
      "3\n",
      "1\n",
      "6\n",
      "10\n",
      "1\n",
      "3\n"
     ]
    }
   ],
   "source": [
    "# can also get to the values more directly like this:\n",
    "for d in s:\n",
    "  print(d)"
   ]
  },
  {
   "cell_type": "markdown",
   "metadata": {
    "id": "apgdqfvHP3q7"
   },
   "source": [
    "## Cover a few other optional (but important) parameters of the pd.Series call\n",
    "* dtype - default is to infer the data type (int32, float64, str, etc) based on the values in data\n",
    "    * However, can also explicitly declare the data\n",
    "    * This can be good if you want to, for example, re-cast the data to save space or to make types compatible\n",
    "    * But this may also have important negative consequences if not done thoughtfully!\n"
   ]
  },
  {
   "cell_type": "markdown",
   "metadata": {
    "id": "teTds80oP3rC"
   },
   "source": [
    "#### Example: change from int to str\n",
    "* Note that the dtype of series 's' is now an 'object'. This is the Pandas version of a Python 'str'\n"
   ]
  },
  {
   "cell_type": "markdown",
   "metadata": {
    "id": "UwLgLe0vfd95"
   },
   "source": [
    "## Make up some data and corresponding labels to play with"
   ]
  },
  {
   "cell_type": "code",
   "execution_count": 12,
   "metadata": {
    "id": "NkR7OzFglJds"
   },
   "outputs": [],
   "source": [
    "data = [10, 23, 88, 43, 29]\n",
    "labels = [0,1,2,3,4]"
   ]
  },
  {
   "cell_type": "code",
   "execution_count": 13,
   "metadata": {
    "id": "PMdUhFX0P3rC"
   },
   "outputs": [
    {
     "name": "stdout",
     "output_type": "stream",
     "text": [
      "True\n"
     ]
    }
   ],
   "source": [
    "# make a series with the data array from above, but this time make it a str\n",
    "# instead of the inferred int64 type\n",
    "s = pd.Series(data, index=labels, dtype='str')\n",
    "\n",
    "# we're now\n",
    "# all set to do a bunch of str operations without having to deal with   \n",
    "# recasting each time we interact with the values in s\n",
    "print(s[0]=='10')"
   ]
  },
  {
   "cell_type": "markdown",
   "metadata": {
    "id": "DcXJdmizQUgs"
   },
   "source": [
    "### Re-make our series as int64 before moving on because we'll want them to be ints for the next several cells. \n",
    "\n",
    "\n"
   ]
  },
  {
   "cell_type": "code",
   "execution_count": 14,
   "metadata": {
    "id": "We4cwONzm4qY"
   },
   "outputs": [],
   "source": [
    "s = pd.Series(data, index=labels, dtype='int64')"
   ]
  },
  {
   "cell_type": "markdown",
   "metadata": {
    "id": "p99msXG-P3rX"
   },
   "source": [
    "## Slicing a Pandas series\n",
    "* start, stop, step notation from lists..."
   ]
  },
  {
   "cell_type": "code",
   "execution_count": 15,
   "metadata": {
    "id": "tdozOwATP3rZ"
   },
   "outputs": [
    {
     "name": "stdout",
     "output_type": "stream",
     "text": [
      "0    10\n",
      "1    23\n",
      "2    88\n",
      "dtype: int64\n"
     ]
    }
   ],
   "source": [
    "# first 3 values - notice that you get the label along with the values\n",
    "print(s[:3])"
   ]
  },
  {
   "cell_type": "code",
   "execution_count": 16,
   "metadata": {
    "id": "GlXOxiuYzOgx"
   },
   "outputs": [
    {
     "data": {
      "text/plain": [
       "2    88\n",
       "3    43\n",
       "dtype: int64"
      ]
     },
     "execution_count": 16,
     "metadata": {},
     "output_type": "execute_result"
    }
   ],
   "source": [
    "s[2:-1]    # 3rd entry to len(s)-1"
   ]
  },
  {
   "cell_type": "code",
   "execution_count": 17,
   "metadata": {
    "id": "vNV4G8xsQk4K"
   },
   "outputs": [
    {
     "data": {
      "text/plain": [
       "4    29\n",
       "3    43\n",
       "2    88\n",
       "1    23\n",
       "0    10\n",
       "dtype: int64"
      ]
     },
     "execution_count": 17,
     "metadata": {},
     "output_type": "execute_result"
    }
   ],
   "source": [
    "# reverse, etc\n",
    "s[::-1]"
   ]
  },
  {
   "cell_type": "code",
   "execution_count": 18,
   "metadata": {
    "id": "uIguJ9d7QqBd"
   },
   "outputs": [
    {
     "data": {
      "text/plain": [
       "0    10\n",
       "2    88\n",
       "4    29\n",
       "dtype: int64"
      ]
     },
     "execution_count": 18,
     "metadata": {},
     "output_type": "execute_result"
    }
   ],
   "source": [
    "# every other, etc\n",
    "s[::2]"
   ]
  },
  {
   "cell_type": "markdown",
   "metadata": {
    "id": "a5nWjbXvzSro"
   },
   "source": [
    "### Another example using more advanced slicing...\n",
    "* this is super handy when cleaning data to exclude outliers!\n"
   ]
  },
  {
   "cell_type": "code",
   "execution_count": 19,
   "metadata": {
    "id": "Y2_QXICSzRO4"
   },
   "outputs": [
    {
     "data": {
      "text/plain": [
       "1    23\n",
       "2    88\n",
       "3    43\n",
       "4    29\n",
       "dtype: int64"
      ]
     },
     "execution_count": 19,
     "metadata": {},
     "output_type": "execute_result"
    }
   ],
   "source": [
    "s[s>=20]    #all entries greater than or equal to 30"
   ]
  },
  {
   "cell_type": "markdown",
   "metadata": {
    "id": "JaHzCjSamluu"
   },
   "source": [
    "### Find values within a range"
   ]
  },
  {
   "cell_type": "code",
   "execution_count": 20,
   "metadata": {
    "id": "KHz8EhndRLo0"
   },
   "outputs": [
    {
     "data": {
      "text/plain": [
       "1    23\n",
       "3    43\n",
       "4    29\n",
       "dtype: int64"
      ]
     },
     "execution_count": 20,
     "metadata": {},
     "output_type": "execute_result"
    }
   ],
   "source": [
    "s[(s>=20) & (s<=45)]"
   ]
  },
  {
   "cell_type": "markdown",
   "metadata": {
    "id": "yVlAJqrqKtN5"
   },
   "source": [
    "### There is also the 'between' method to find values within a range \n",
    "* the 'between' method will return True/False depending on whether each entry falls in between the bounds. \n",
    "* can then use that index to find values within a range!"
   ]
  },
  {
   "cell_type": "code",
   "execution_count": 21,
   "metadata": {
    "id": "WCyFDsqMKJp5"
   },
   "outputs": [
    {
     "data": {
      "text/plain": [
       "3    43\n",
       "4    29\n",
       "dtype: int64"
      ]
     },
     "execution_count": 21,
     "metadata": {},
     "output_type": "execute_result"
    }
   ],
   "source": [
    "ind = s.between(23, 45, inclusive=False)\n",
    "s[ind]"
   ]
  },
  {
   "cell_type": "markdown",
   "metadata": {
    "id": "h-qgfvr2P3rU"
   },
   "source": [
    "## Series objects have many built in operations\n",
    "[list of attributes and methods](https://pandas.pydata.org/pandas-docs/version/0.23.4/generated/pandas.Series.html)"
   ]
  },
  {
   "cell_type": "code",
   "execution_count": 22,
   "metadata": {
    "id": "OCM4_3vuy113"
   },
   "outputs": [],
   "source": [
    "# shouldn't need to re-run, but make sure that you've got int64 data here (and \n",
    "# not str)\n",
    "s = pd.Series(data, index=labels, dtype='int64')"
   ]
  },
  {
   "cell_type": "code",
   "execution_count": 23,
   "metadata": {
    "id": "m1eVd91SP3rV"
   },
   "outputs": [
    {
     "name": "stdout",
     "output_type": "stream",
     "text": [
      "Data Type:  int64\n"
     ]
    }
   ],
   "source": [
    "# attributes\n",
    "print('Data Type: ', s.dtype)"
   ]
  },
  {
   "cell_type": "code",
   "execution_count": 24,
   "metadata": {
    "id": "yGrb7yfMz2tX"
   },
   "outputs": [
    {
     "name": "stdout",
     "output_type": "stream",
     "text": [
      "Mean:  38.6  Std: 30.05494967555261 Max:  88\n"
     ]
    }
   ],
   "source": [
    "# basic methods\n",
    "print('Mean: ', s.mean(), ' Std:', s.std(), 'Max: ', s.max())"
   ]
  },
  {
   "cell_type": "code",
   "execution_count": 25,
   "metadata": {
    "id": "pQv0rOk6z4jc"
   },
   "outputs": [
    {
     "name": "stdout",
     "output_type": "stream",
     "text": [
      "Diff:  0     NaN\n",
      "1    13.0\n",
      "2    65.0\n",
      "3   -45.0\n",
      "4   -14.0\n",
      "dtype: float64\n"
     ]
    }
   ],
   "source": [
    "# numerical derivative\n",
    "print('Diff: ', s.diff())"
   ]
  },
  {
   "cell_type": "markdown",
   "metadata": {
    "id": "Gr5XIXKwRfv5"
   },
   "source": [
    "## Find the mean of all values that fall within a range...\n",
    "* can also apply other methods to compute std, etc after filtering"
   ]
  },
  {
   "cell_type": "code",
   "execution_count": 26,
   "metadata": {
    "colab": {
     "base_uri": "https://localhost:8080/",
     "height": 165
    },
    "id": "_fW8v7h_RkK9",
    "outputId": "6a2faeb1-73d4-4d2f-af2f-2eeaefb082d3"
   },
   "outputs": [
    {
     "data": {
      "text/plain": [
       "26.25"
      ]
     },
     "execution_count": 26,
     "metadata": {},
     "output_type": "execute_result"
    }
   ],
   "source": [
    "s[(s>=10) & (s<=45)].mean()"
   ]
  }
 ],
 "metadata": {
  "colab": {
   "collapsed_sections": [],
   "name": "TutorialCode_02222021.ipynb",
   "provenance": []
  },
  "kernelspec": {
   "display_name": "Python 3",
   "language": "python",
   "name": "python3"
  },
  "language_info": {
   "codemirror_mode": {
    "name": "ipython",
    "version": 3
   },
   "file_extension": ".py",
   "mimetype": "text/x-python",
   "name": "python",
   "nbconvert_exporter": "python",
   "pygments_lexer": "ipython3",
   "version": "3.8.5"
  }
 },
 "nbformat": 4,
 "nbformat_minor": 1
}