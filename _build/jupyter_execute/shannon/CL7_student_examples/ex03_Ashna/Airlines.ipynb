{
 "cells": [
  {
   "cell_type": "markdown",
   "metadata": {},
   "source": [
    "### Module Import"
   ]
  },
  {
   "cell_type": "code",
   "execution_count": 1,
   "metadata": {},
   "outputs": [
    {
     "name": "stdout",
     "output_type": "stream",
     "text": [
      "Bob is flying on Delta airlines. The seat number is 7A in business class.\n",
      "Sally is flying on Southwest airlines. The seat number is 1B in first class.\n",
      "Ashley is flying on United airlines. The seat number is 34A in economy class.\n",
      "Josh is flying on Emirates airlines. The seat number is 17C in economy class.\n"
     ]
    }
   ],
   "source": [
    "import airline as air\n",
    "\n",
    "group = []\n",
    "Aticket = air.PlaneTicket('Bob', 'Delta', 'business', '7A', 'Barbados')\n",
    "Bticket = air.PlaneTicket('Sally', 'Southwest', 'first', '1B', 'Seattle')\n",
    "Cticket = air.PlaneTicket('Ashley', 'United', 'economy', '34A', 'New York')\n",
    "Dticket = air.PlaneTicket('Josh', 'Emirates', 'economy', '17C', 'Dubai')\n",
    "group.extend([Aticket, Bticket, Cticket ,Dticket])\n",
    "\n",
    "air.group_tickets(group)"
   ]
  },
  {
   "cell_type": "code",
   "execution_count": 2,
   "metadata": {},
   "outputs": [
    {
     "name": "stdout",
     "output_type": "stream",
     "text": [
      "Bob is flying to Barbados.\n",
      "Sally is flying to Seattle.\n",
      "Ashley is flying to New York.\n",
      "Josh is flying to Dubai.\n"
     ]
    }
   ],
   "source": [
    "air.group_destination(group)"
   ]
  },
  {
   "cell_type": "markdown",
   "metadata": {},
   "source": [
    "### Script Execution"
   ]
  },
  {
   "cell_type": "code",
   "execution_count": 3,
   "metadata": {},
   "outputs": [
    {
     "name": "stdout",
     "output_type": "stream",
     "text": [
      "Ashna is flying on Southwest airlines. The seat number is 3A in business class.\r\n"
     ]
    }
   ],
   "source": [
    "!python new_airline.py"
   ]
  }
 ],
 "metadata": {
  "kernelspec": {
   "display_name": "Python 3",
   "language": "python",
   "name": "python3"
  },
  "language_info": {
   "codemirror_mode": {
    "name": "ipython",
    "version": 3
   },
   "file_extension": ".py",
   "mimetype": "text/x-python",
   "name": "python",
   "nbconvert_exporter": "python",
   "pygments_lexer": "ipython3",
   "version": "3.8.5"
  }
 },
 "nbformat": 4,
 "nbformat_minor": 4
}