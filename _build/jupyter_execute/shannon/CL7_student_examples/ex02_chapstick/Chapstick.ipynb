{
 "cells": [
  {
   "cell_type": "markdown",
   "metadata": {},
   "source": [
    "### Module Import"
   ]
  },
  {
   "cell_type": "code",
   "execution_count": 1,
   "metadata": {},
   "outputs": [
    {
     "name": "stdout",
     "output_type": "stream",
     "text": [
      "The best chapstick is a brand with 92 total uses\n",
      "good brand chapstick has been used 1 times.\n",
      "You have 75 uses left\n",
      "good brand chapstick has been used 2 times.\n",
      "You have 74 uses left\n",
      "good brand chapstick has been used 3 times.\n",
      "You have 73 uses left\n",
      "good brand chapstick has been used 4 times.\n",
      "You have 72 uses left\n",
      "good brand chapstick has been used 5 times.\n",
      "You have 71 uses left\n",
      "good brand chapstick has been used 6 times.\n",
      "You have 70 uses left\n",
      "good brand chapstick has been used 7 times.\n",
      "You have 69 uses left\n",
      "good brand chapstick has been used 8 times.\n",
      "You have 68 uses left\n",
      "good brand chapstick has been used 9 times.\n",
      "You have 67 uses left\n",
      "good brand chapstick has been used 10 times.\n",
      "You have 66 uses left\n",
      "good brand chapstick has been used 11 times.\n",
      "You have 65 uses left\n",
      "good brand chapstick has been used 12 times.\n",
      "You have 64 uses left\n",
      "good brand chapstick has been used 13 times.\n",
      "You have 63 uses left\n",
      "good brand chapstick has been used 14 times.\n",
      "You have 62 uses left\n",
      "good brand chapstick has been used 15 times.\n",
      "You have 61 uses left\n",
      "good brand chapstick has been used 16 times.\n",
      "You have 60 uses left\n",
      "good brand chapstick has been used 17 times.\n",
      "You have 59 uses left\n",
      "good brand chapstick has been used 18 times.\n",
      "You have 58 uses left\n",
      "good brand chapstick has been used 19 times.\n",
      "You have 57 uses left\n",
      "good brand chapstick has been used 20 times.\n",
      "You have 56 uses left\n"
     ]
    }
   ],
   "source": [
    "import YOLO as chap\n",
    "\n",
    "a = [chap.Chapstick('a brand'), chap.Chapstick('b brand'), \n",
    "     chap.Chapstick('c brand'), chap.Chapstick('d brand')]\n",
    "\n",
    "chap.rate_chapsticks(a)\n",
    "\n",
    "b = chap.Chapstick('good brand')\n",
    "chap.use_alot_of_chapstick(b)"
   ]
  }
 ],
 "metadata": {
  "kernelspec": {
   "display_name": "Python 3",
   "language": "python",
   "name": "python3"
  },
  "language_info": {
   "codemirror_mode": {
    "name": "ipython",
    "version": 3
   },
   "file_extension": ".py",
   "mimetype": "text/x-python",
   "name": "python",
   "nbconvert_exporter": "python",
   "pygments_lexer": "ipython3",
   "version": "3.8.5"
  }
 },
 "nbformat": 4,
 "nbformat_minor": 4
}