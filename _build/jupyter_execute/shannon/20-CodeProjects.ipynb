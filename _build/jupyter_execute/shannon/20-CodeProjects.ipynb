{
 "cells": [
  {
   "cell_type": "markdown",
   "metadata": {
    "slideshow": {
     "slide_type": "slide"
    }
   },
   "source": [
    "**Course Announcements**\n",
    "\n",
    "Due Dates:\n",
    "- A5 due Monday (5/31)\n",
    "- Final Project/Exam (Fri 6/11 at 11:59 PM)\n",
    "    - Exam: will have >= 48h to complete\n",
    "\n",
    "Notes:\n",
    "- Please fill out your CAPEs (+1% if >=85% response rate)\n",
    "- No lecture/OH on Monday (Memorial Day)\n",
    "- No OH for staff during Finals Week (Prof Ellis will have some; details TBD)"
   ]
  },
  {
   "cell_type": "markdown",
   "metadata": {
    "slideshow": {
     "slide_type": "notes"
    }
   },
   "source": [
    "**Q&A**\n",
    "\n",
    "Q: Is doing/getting the extra credit on the project required for A+ in the class?  \n",
    "A: Nope! Not required. If you do the project and have a score that earns an A+, you'll get an A+ in the class."
   ]
  },
  {
   "cell_type": "markdown",
   "metadata": {
    "slideshow": {
     "slide_type": "slide"
    }
   },
   "source": [
    "# Code Projects\n",
    "\n",
    "- modular design\n",
    "- minimal viable product\n",
    "- test-driven development\n",
    "- rapid prototyping\n",
    "- project organization\n",
    "- refactoring\n",
    "- code review"
   ]
  },
  {
   "cell_type": "markdown",
   "metadata": {
    "slideshow": {
     "slide_type": "slide"
    }
   },
   "source": [
    "## Project Check-In\n"
   ]
  },
  {
   "cell_type": "markdown",
   "metadata": {
    "slideshow": {
     "slide_type": "slide"
    }
   },
   "source": [
    "### Modular Design"
   ]
  },
  {
   "cell_type": "markdown",
   "metadata": {
    "slideshow": {
     "slide_type": "-"
    }
   },
   "source": [
    "<div class=\"alert alert-success\">\n",
    "Modular design, like modular programming, is the approach of designing and building things as independent modules. \n",
    "</div>"
   ]
  },
  {
   "cell_type": "markdown",
   "metadata": {
    "slideshow": {
     "slide_type": "slide"
    }
   },
   "source": [
    "### Minimal Viable Product"
   ]
  },
  {
   "cell_type": "markdown",
   "metadata": {
    "slideshow": {
     "slide_type": "-"
    }
   },
   "source": [
    "<div class=\"alert alert-success\">\n",
    "A 'minimal viable product' is a product that contains the minimum amount of implemented features to use the code product - no more, no less.</div>"
   ]
  },
  {
   "cell_type": "markdown",
   "metadata": {
    "slideshow": {
     "slide_type": "slide"
    }
   },
   "source": [
    "### Test-Driven Development"
   ]
  },
  {
   "cell_type": "markdown",
   "metadata": {
    "slideshow": {
     "slide_type": "-"
    }
   },
   "source": [
    "<div class=\"alert alert-success\">\n",
    "Writing the tests as soon as you have a plan & before you've written the code.\n",
    "</div>"
   ]
  },
  {
   "cell_type": "markdown",
   "metadata": {
    "slideshow": {
     "slide_type": "slide"
    }
   },
   "source": [
    "### Rapid Prototyping"
   ]
  },
  {
   "cell_type": "markdown",
   "metadata": {
    "slideshow": {
     "slide_type": "-"
    }
   },
   "source": [
    "<div class=\"alert alert-success\">\n",
    "Rapid prototyping is an approach for developing things in which you work on minimal prototypes and iterate on them quickly. \n",
    "</div>"
   ]
  },
  {
   "cell_type": "markdown",
   "metadata": {
    "slideshow": {
     "slide_type": "-"
    }
   },
   "source": [
    "#### Some examples\n",
    "\n",
    "- Chatbot: start and end a chat\n",
    "- Data Analysis: read a dataset in, make a basic plot\n",
    "- Car Inventory: object with method that adds a car to the Inventory\n",
    "- Artificial Agents: simple bot moves around randomly"
   ]
  },
  {
   "cell_type": "markdown",
   "metadata": {
    "slideshow": {
     "slide_type": "slide"
    }
   },
   "source": [
    "## Project Organization"
   ]
  },
  {
   "cell_type": "markdown",
   "metadata": {
    "collapsed": true,
    "slideshow": {
     "slide_type": "-"
    }
   },
   "source": [
    "- **Notebooks**: good for interactive development\n",
    "    - For when seeing the inputs and outputs of code running needs to be seen start to finish\n",
    "    - file ends in `.ipynb`\n",
    "- **Modules**: for storing mature Python code, that you can import\n",
    "    - you don't *use* the functions in there, just define them\n",
    "    - file ends in `.py`\n",
    "- **Scripts**: a Python file for executing a particular task\n",
    "    - this takes an input and does something start to finish\n",
    "    - file ends in `.py`"
   ]
  },
  {
   "cell_type": "markdown",
   "metadata": {
    "slideshow": {
     "slide_type": "slide"
    }
   },
   "source": [
    "### Project Workflow"
   ]
  },
  {
   "cell_type": "markdown",
   "metadata": {
    "collapsed": true,
    "slideshow": {
     "slide_type": "-"
    }
   },
   "source": [
    "Typical project workflow:\n",
    "\n",
    "- Develop plan and write tests\n",
    "- Develop code interactively in a Jupyter notebook/text editor\n",
    "- As functions & classes become mature, move them to Python files that you then `import`\n",
    "    - As you do so, go back through them to check for code style, add documentation, and run your code tests\n",
    "- At the end of a project, (maybe) write a standalone script that runs the project"
   ]
  },
  {
   "cell_type": "markdown",
   "metadata": {
    "slideshow": {
     "slide_type": "slide"
    }
   },
   "source": [
    "#### Project Notes\n",
    "\n",
    "1. Design and write tests\n",
    "2. Write some code\n",
    "2. Test to make sure it works\n",
    "3. Check code style (naming, spacing, etc.)\n",
    "4. Add documentation\n",
    "5. Move to module (if necessary)\n",
    "6. Run all tests"
   ]
  },
  {
   "cell_type": "markdown",
   "metadata": {
    "slideshow": {
     "slide_type": "slide"
    }
   },
   "source": [
    "### Project Design\n",
    "\n",
    "- Idea: atbash encryption: return the capitalized, reverse alphabetical letter for each character in the input string\n",
    "\n",
    "- Design:\n",
    "    - `atbash_encrypt()` : take input string and retrun atbash encrypted string\n",
    "        - inputs: `input_string` \n",
    "        - returns: `atbash_string`\n",
    "    - `atbash_decrypt()` : take encrypted string and decrypt using atbash\n",
    "        - inputs: `atbash_string`\n",
    "        - returns: `decrypted_string`\n",
    "    - `atbash_wrapper()` : does either of the above, as specified with input parameter\n",
    "        - inputs: `input_string`, `method` (either 'encrypt' or 'decrypt', default: 'encrypt')\n",
    "        - returns `output_string`"
   ]
  },
  {
   "cell_type": "markdown",
   "metadata": {
    "slideshow": {
     "slide_type": "slide"
    }
   },
   "source": [
    "### Adding Unit Tests"
   ]
  },
  {
   "cell_type": "code",
   "execution_count": 1,
   "metadata": {
    "slideshow": {
     "slide_type": "-"
    }
   },
   "outputs": [],
   "source": [
    "def test_atbash_encrypt():\n",
    "    assert callable(atbash_encrypt)\n",
    "    assert isinstance(atbash_encrypt('hello'), str)\n",
    "    assert atbash_encrypt('HELLO') == 'SVOOL'\n",
    "    assert atbash_encrypt('hello') == 'SVOOL'\n",
    "    \n",
    "def test_atbash_decrypt():\n",
    "    assert callable(atbash_decrypt)\n",
    "    assert isinstance(atbash_decrypt('hello'), str)\n",
    "    assert atbash_decrypt('SVOOL') == 'HELLO'\n",
    "    assert atbash_decrypt('svool') == 'HELLO'\n",
    "\n",
    "def test_atbash_wrapper():\n",
    "    assert callable(atbash_wrapper)\n",
    "    assert isinstance(atbash_wrapper('hello', method='encrypt'), str)\n",
    "    assert atbash_wrapper('hello', method='encrypt') == 'SVOOL'\n",
    "    assert atbash_wrapper('HELLO', method='encrypt') == 'SVOOL'\n",
    "    assert atbash_wrapper('SVOOL', method='decrypt') == 'HELLO'\n",
    "    assert atbash_wrapper('svool', method='decrypt') == 'HELLO'\n",
    "    assert atbash_wrapper('svool', method='blargh') == \"method should be either 'decrypt' or 'encrypt'\""
   ]
  },
  {
   "cell_type": "markdown",
   "metadata": {
    "slideshow": {
     "slide_type": "fragment"
    }
   },
   "source": [
    "...move to test file\n",
    "\n",
    "...will uncomment as I write the code/functions"
   ]
  },
  {
   "cell_type": "markdown",
   "metadata": {
    "slideshow": {
     "slide_type": "slide"
    }
   },
   "source": [
    "### Writing Code"
   ]
  },
  {
   "cell_type": "markdown",
   "metadata": {
    "slideshow": {
     "slide_type": "-"
    }
   },
   "source": [
    "#### `atbash_encrypt`"
   ]
  },
  {
   "cell_type": "code",
   "execution_count": 2,
   "metadata": {
    "slideshow": {
     "slide_type": "-"
    }
   },
   "outputs": [],
   "source": [
    "def atbash_encrypt(input_string):\n",
    "    alpha = 'ABCDEFGHIJKLMNOPQRSTUVWXYZ'\n",
    "    reverse_alpha = 'ZYXWVUTSRQPONMLKJIHGFEDCBA'\n",
    "\n",
    "    atbash_string = ''\n",
    "\n",
    "    for char in input_string:\n",
    "        char = char.upper()\n",
    "        if char in alpha:\n",
    "            position = alpha.find(char)\n",
    "            atbash_string += reverse_alpha[position]\n",
    "        else:\n",
    "            atbash_string = None\n",
    "            break\n",
    "        \n",
    "    return atbash_string"
   ]
  },
  {
   "cell_type": "code",
   "execution_count": 3,
   "metadata": {
    "scrolled": true
   },
   "outputs": [
    {
     "name": "stdout",
     "output_type": "stream",
     "text": [
      "None\n"
     ]
    }
   ],
   "source": [
    "output = atbash_encrypt('Hello!')\n",
    "print(output)"
   ]
  },
  {
   "cell_type": "code",
   "execution_count": 4,
   "metadata": {
    "scrolled": true
   },
   "outputs": [
    {
     "data": {
      "text/plain": [
       "'ZYX'"
      ]
     },
     "execution_count": 4,
     "metadata": {},
     "output_type": "execute_result"
    }
   ],
   "source": [
    "# smoke test\n",
    "atbash_encrypt('abc')"
   ]
  },
  {
   "cell_type": "markdown",
   "metadata": {
    "slideshow": {
     "slide_type": "slide"
    }
   },
   "source": [
    "### Moving to a module...\n",
    "\n",
    "- consider imports at the top"
   ]
  },
  {
   "cell_type": "markdown",
   "metadata": {
    "slideshow": {
     "slide_type": "-"
    }
   },
   "source": [
    "Note on `imports`: If you want to be able to use modules (imports) within a module/script, be sure to import it at the top. This applies to test files as well."
   ]
  },
  {
   "cell_type": "code",
   "execution_count": 5,
   "metadata": {},
   "outputs": [
    {
     "name": "stdout",
     "output_type": "stream",
     "text": [
      "************* Module atbash.py\r\n",
      "atbash.py:1:0: F0001: No module named atbash.py (fatal)\r\n",
      "\u001b[0m"
     ]
    }
   ],
   "source": [
    "!pylint atbash.py"
   ]
  },
  {
   "cell_type": "code",
   "execution_count": 6,
   "metadata": {
    "scrolled": false,
    "slideshow": {
     "slide_type": "fragment"
    }
   },
   "outputs": [
    {
     "name": "stdout",
     "output_type": "stream",
     "text": [
      "\u001b[1m============================= test session starts ==============================\u001b[0m\r\n",
      "platform darwin -- Python 3.8.5, pytest-6.1.1, py-1.9.0, pluggy-0.13.1\r\n",
      "rootdir: /Users/evul/g.evul.ucsd/TEACHING/CSS/UCSD-CSS-001/ucsd-css-001.github.io/shannon\r\n",
      "plugins: anyio-3.0.1\r\n",
      "\u001b[1mcollecting ... \u001b[0m\u001b[1m\r",
      "collected 0 items                                                              \u001b[0m\r\n",
      "\r\n",
      "\u001b[33m============================ \u001b[33mno tests ran\u001b[0m\u001b[33m in 0.01s\u001b[0m\u001b[33m =============================\u001b[0m\r\n",
      "\u001b[31mERROR: file or directory not found: test_atbash.py\r\n",
      "\u001b[0m\r\n"
     ]
    }
   ],
   "source": [
    "!pytest test_atbash.py"
   ]
  },
  {
   "cell_type": "markdown",
   "metadata": {
    "slideshow": {
     "slide_type": "slide"
    }
   },
   "source": [
    "#### `atbash_decrypt`"
   ]
  },
  {
   "cell_type": "code",
   "execution_count": 7,
   "metadata": {
    "slideshow": {
     "slide_type": "-"
    }
   },
   "outputs": [],
   "source": [
    "# reminder: consider code style! \n",
    "def atbash_decrypt(atbash_string):    \n",
    "    ALPHA='ABCDEFGHIJKLMNOPQRSTUVWXYZ'\n",
    "    REVERSEALPHA='ZYXWVUTSRQPONMLKJIHGFEDCBA'\n",
    "    atbash_string=atbash_string.upper()\n",
    "    decrypted_string=''\n",
    "    for l in atbash_string:\n",
    "        if l in REVERSEALPHA:\n",
    "            letterindex=REVERSEALPHA.find(l)\n",
    "            decrypted_string=decrypted_string+ALPHA [letterindex]\n",
    "        else: decrypted_string=decrypted_string+l\n",
    "    return decrypted_string"
   ]
  },
  {
   "cell_type": "code",
   "execution_count": 8,
   "metadata": {},
   "outputs": [
    {
     "data": {
      "text/plain": [
       "'HELLO'"
      ]
     },
     "execution_count": 8,
     "metadata": {},
     "output_type": "execute_result"
    }
   ],
   "source": [
    "# smoke test\n",
    "atbash_decrypt('SVOOL')"
   ]
  },
  {
   "cell_type": "code",
   "execution_count": 9,
   "metadata": {},
   "outputs": [],
   "source": [
    "# doesn't handle non-letters correctly"
   ]
  },
  {
   "cell_type": "code",
   "execution_count": 10,
   "metadata": {},
   "outputs": [
    {
     "name": "stdout",
     "output_type": "stream",
     "text": [
      "************* Module atbash.py\r\n",
      "atbash.py:1:0: F0001: No module named atbash.py (fatal)\r\n",
      "\u001b[0m"
     ]
    }
   ],
   "source": [
    "!pylint atbash.py"
   ]
  },
  {
   "cell_type": "code",
   "execution_count": 11,
   "metadata": {},
   "outputs": [
    {
     "name": "stdout",
     "output_type": "stream",
     "text": [
      "************* Module atbash.py\r\n",
      "atbash.py:1:0: F0001: No module named atbash.py (fatal)\r\n"
     ]
    },
    {
     "name": "stdout",
     "output_type": "stream",
     "text": [
      "\u001b[0m"
     ]
    }
   ],
   "source": [
    "!pylint atbash.py"
   ]
  },
  {
   "cell_type": "code",
   "execution_count": 12,
   "metadata": {
    "scrolled": true
   },
   "outputs": [
    {
     "name": "stdout",
     "output_type": "stream",
     "text": [
      "\u001b[1m============================= test session starts ==============================\u001b[0m\r\n",
      "platform darwin -- Python 3.8.5, pytest-6.1.1, py-1.9.0, pluggy-0.13.1\r\n"
     ]
    },
    {
     "name": "stdout",
     "output_type": "stream",
     "text": [
      "rootdir: /Users/evul/g.evul.ucsd/TEACHING/CSS/UCSD-CSS-001/ucsd-css-001.github.io/shannon\r\n",
      "plugins: anyio-3.0.1\r\n",
      "\u001b[1mcollecting ... \u001b[0m\u001b[1m\r",
      "collected 0 items                                                              \u001b[0m\r\n",
      "\r\n",
      "\u001b[33m============================ \u001b[33mno tests ran\u001b[0m\u001b[33m in 0.01s\u001b[0m\u001b[33m =============================\u001b[0m\r\n",
      "\u001b[31mERROR: file or directory not found: test_atbash.py\r\n",
      "\u001b[0m\r\n"
     ]
    }
   ],
   "source": [
    "!pytest test_atbash.py"
   ]
  },
  {
   "cell_type": "code",
   "execution_count": 13,
   "metadata": {
    "slideshow": {
     "slide_type": "fragment"
    }
   },
   "outputs": [
    {
     "ename": "ModuleNotFoundError",
     "evalue": "No module named 'atbash'",
     "output_type": "error",
     "traceback": [
      "\u001b[0;31m---------------------------------------------------------------------------\u001b[0m",
      "\u001b[0;31mModuleNotFoundError\u001b[0m                       Traceback (most recent call last)",
      "\u001b[0;32m<ipython-input-13-e96c0f13da68>\u001b[0m in \u001b[0;36m<module>\u001b[0;34m\u001b[0m\n\u001b[1;32m      1\u001b[0m \u001b[0;31m# import our module and use it\u001b[0m\u001b[0;34m\u001b[0m\u001b[0;34m\u001b[0m\u001b[0;34m\u001b[0m\u001b[0m\n\u001b[0;32m----> 2\u001b[0;31m \u001b[0;32mimport\u001b[0m \u001b[0matbash\u001b[0m \u001b[0;32mas\u001b[0m \u001b[0mab\u001b[0m\u001b[0;34m\u001b[0m\u001b[0;34m\u001b[0m\u001b[0m\n\u001b[0m",
      "\u001b[0;31mModuleNotFoundError\u001b[0m: No module named 'atbash'"
     ]
    }
   ],
   "source": [
    "# import our module and use it\n",
    "import atbash as ab"
   ]
  },
  {
   "cell_type": "code",
   "execution_count": 14,
   "metadata": {
    "slideshow": {
     "slide_type": "-"
    }
   },
   "outputs": [
    {
     "ename": "NameError",
     "evalue": "name 'ab' is not defined",
     "output_type": "error",
     "traceback": [
      "\u001b[0;31m---------------------------------------------------------------------------\u001b[0m",
      "\u001b[0;31mNameError\u001b[0m                                 Traceback (most recent call last)",
      "\u001b[0;32m<ipython-input-14-8f17d91891c4>\u001b[0m in \u001b[0;36m<module>\u001b[0;34m\u001b[0m\n\u001b[0;32m----> 1\u001b[0;31m \u001b[0mab\u001b[0m\u001b[0;34m.\u001b[0m\u001b[0matbash_encrypt\u001b[0m\u001b[0;34m(\u001b[0m\u001b[0;34m'hello'\u001b[0m\u001b[0;34m)\u001b[0m\u001b[0;34m\u001b[0m\u001b[0;34m\u001b[0m\u001b[0m\n\u001b[0m\u001b[1;32m      2\u001b[0m \u001b[0mab\u001b[0m\u001b[0;34m.\u001b[0m\u001b[0matbash_decrypt\u001b[0m\u001b[0;34m(\u001b[0m\u001b[0;34m'svool'\u001b[0m\u001b[0;34m)\u001b[0m\u001b[0;34m\u001b[0m\u001b[0;34m\u001b[0m\u001b[0m\n",
      "\u001b[0;31mNameError\u001b[0m: name 'ab' is not defined"
     ]
    }
   ],
   "source": [
    "ab.atbash_encrypt('hello')\n",
    "ab.atbash_decrypt('svool')"
   ]
  },
  {
   "cell_type": "markdown",
   "metadata": {
    "slideshow": {
     "slide_type": "slide"
    }
   },
   "source": [
    "#### `atbash_wrapper`"
   ]
  },
  {
   "cell_type": "code",
   "execution_count": 15,
   "metadata": {
    "slideshow": {
     "slide_type": "-"
    }
   },
   "outputs": [],
   "source": [
    "def atbash_wrapper(input_string, method='encrypt'):\n",
    "    \n",
    "    if method == 'encrypt':\n",
    "        output_string = atbash_encrypt(input_string)\n",
    "    elif method == 'decrypt':\n",
    "        output_string = atbash_decrypt(input_string)\n",
    "    else:\n",
    "        output_string = \"method should be either 'decrypt' or 'encrypt'\"\n",
    "    \n",
    "    return output_string"
   ]
  },
  {
   "cell_type": "code",
   "execution_count": 16,
   "metadata": {},
   "outputs": [
    {
     "data": {
      "text/plain": [
       "'SVOOL'"
      ]
     },
     "execution_count": 16,
     "metadata": {},
     "output_type": "execute_result"
    }
   ],
   "source": [
    "# smoke test\n",
    "atbash_wrapper('hello')"
   ]
  },
  {
   "cell_type": "code",
   "execution_count": 17,
   "metadata": {
    "scrolled": true
   },
   "outputs": [
    {
     "name": "stdout",
     "output_type": "stream",
     "text": [
      "\u001b[1m============================= test session starts ==============================\u001b[0m\r\n",
      "platform darwin -- Python 3.8.5, pytest-6.1.1, py-1.9.0, pluggy-0.13.1\r\n",
      "rootdir: /Users/evul/g.evul.ucsd/TEACHING/CSS/UCSD-CSS-001/ucsd-css-001.github.io/shannon\r\n",
      "plugins: anyio-3.0.1\r\n",
      "\u001b[1mcollecting ... \u001b[0m\u001b[1m\r",
      "collected 0 items                                                              \u001b[0m\r\n",
      "\r\n",
      "\u001b[33m============================ \u001b[33mno tests ran\u001b[0m\u001b[33m in 0.01s\u001b[0m\u001b[33m =============================\u001b[0m\r\n",
      "\u001b[31mERROR: file or directory not found: test_atbash.py\r\n",
      "\u001b[0m\r\n"
     ]
    }
   ],
   "source": [
    "!pytest test_atbash.py"
   ]
  },
  {
   "cell_type": "markdown",
   "metadata": {
    "slideshow": {
     "slide_type": "slide"
    }
   },
   "source": [
    "### Documentation\n",
    "\n",
    "- Code in final project/exam requires:\n",
    "    - numpy-style docstrings\n",
    "    - code comments"
   ]
  },
  {
   "cell_type": "markdown",
   "metadata": {
    "slideshow": {
     "slide_type": "slide"
    }
   },
   "source": [
    "### Putting it all together"
   ]
  },
  {
   "cell_type": "code",
   "execution_count": 18,
   "metadata": {},
   "outputs": [
    {
     "ename": "ModuleNotFoundError",
     "evalue": "No module named 'atbash'",
     "output_type": "error",
     "traceback": [
      "\u001b[0;31m---------------------------------------------------------------------------\u001b[0m",
      "\u001b[0;31mModuleNotFoundError\u001b[0m                       Traceback (most recent call last)",
      "\u001b[0;32m<ipython-input-18-1c1dfd201bec>\u001b[0m in \u001b[0;36m<module>\u001b[0;34m\u001b[0m\n\u001b[0;32m----> 1\u001b[0;31m \u001b[0;32mfrom\u001b[0m \u001b[0matbash\u001b[0m \u001b[0;32mimport\u001b[0m \u001b[0matbash_wrapper\u001b[0m\u001b[0;34m\u001b[0m\u001b[0;34m\u001b[0m\u001b[0m\n\u001b[0m",
      "\u001b[0;31mModuleNotFoundError\u001b[0m: No module named 'atbash'"
     ]
    }
   ],
   "source": [
    "from atbash import atbash_wrapper"
   ]
  },
  {
   "cell_type": "code",
   "execution_count": 19,
   "metadata": {},
   "outputs": [
    {
     "data": {
      "text/plain": [
       "'SVOOL'"
      ]
     },
     "execution_count": 19,
     "metadata": {},
     "output_type": "execute_result"
    }
   ],
   "source": [
    "# use wrapper to encrypt by default\n",
    "atbash_wrapper('hello')"
   ]
  },
  {
   "cell_type": "code",
   "execution_count": 20,
   "metadata": {},
   "outputs": [
    {
     "data": {
      "text/plain": [
       "'HELLO'"
      ]
     },
     "execution_count": 20,
     "metadata": {},
     "output_type": "execute_result"
    }
   ],
   "source": [
    "# wrapper also does decryption\n",
    "atbash_wrapper('svool', method='decrypt')"
   ]
  },
  {
   "cell_type": "code",
   "execution_count": 21,
   "metadata": {},
   "outputs": [
    {
     "data": {
      "text/plain": [
       "\"method should be either 'decrypt' or 'encrypt'\""
      ]
     },
     "execution_count": 21,
     "metadata": {},
     "output_type": "execute_result"
    }
   ],
   "source": [
    "# returns string when non-method provided\n",
    "atbash_wrapper('hello', method='blargh')"
   ]
  },
  {
   "cell_type": "markdown",
   "metadata": {
    "slideshow": {
     "slide_type": "slide"
    }
   },
   "source": [
    "**atbash improvement**"
   ]
  },
  {
   "cell_type": "code",
   "execution_count": 22,
   "metadata": {},
   "outputs": [
    {
     "ename": "ModuleNotFoundError",
     "evalue": "No module named 'atbash'",
     "output_type": "error",
     "traceback": [
      "\u001b[0;31m---------------------------------------------------------------------------\u001b[0m",
      "\u001b[0;31mModuleNotFoundError\u001b[0m                       Traceback (most recent call last)",
      "\u001b[0;32m<ipython-input-22-24f6c9b00d8c>\u001b[0m in \u001b[0;36m<module>\u001b[0;34m\u001b[0m\n\u001b[0;32m----> 1\u001b[0;31m \u001b[0;32mimport\u001b[0m \u001b[0matbash\u001b[0m \u001b[0;32mas\u001b[0m \u001b[0mab\u001b[0m\u001b[0;34m\u001b[0m\u001b[0;34m\u001b[0m\u001b[0m\n\u001b[0m",
      "\u001b[0;31mModuleNotFoundError\u001b[0m: No module named 'atbash'"
     ]
    }
   ],
   "source": [
    "import atbash as ab"
   ]
  },
  {
   "cell_type": "code",
   "execution_count": 23,
   "metadata": {},
   "outputs": [
    {
     "ename": "NameError",
     "evalue": "name 'ab' is not defined",
     "output_type": "error",
     "traceback": [
      "\u001b[0;31m---------------------------------------------------------------------------\u001b[0m",
      "\u001b[0;31mNameError\u001b[0m                                 Traceback (most recent call last)",
      "\u001b[0;32m<ipython-input-23-d8a03b062734>\u001b[0m in \u001b[0;36m<module>\u001b[0;34m\u001b[0m\n\u001b[0;32m----> 1\u001b[0;31m \u001b[0mab\u001b[0m\u001b[0;34m.\u001b[0m\u001b[0matbash_encrypt\u001b[0m\u001b[0;34m(\u001b[0m\u001b[0;34m'hello'\u001b[0m\u001b[0;34m)\u001b[0m\u001b[0;34m\u001b[0m\u001b[0;34m\u001b[0m\u001b[0m\n\u001b[0m",
      "\u001b[0;31mNameError\u001b[0m: name 'ab' is not defined"
     ]
    }
   ],
   "source": [
    "ab.atbash_encrypt('hello')"
   ]
  },
  {
   "cell_type": "code",
   "execution_count": 24,
   "metadata": {},
   "outputs": [
    {
     "ename": "NameError",
     "evalue": "name 'ab' is not defined",
     "output_type": "error",
     "traceback": [
      "\u001b[0;31m---------------------------------------------------------------------------\u001b[0m",
      "\u001b[0;31mNameError\u001b[0m                                 Traceback (most recent call last)",
      "\u001b[0;32m<ipython-input-24-784ee544bac9>\u001b[0m in \u001b[0;36m<module>\u001b[0;34m\u001b[0m\n\u001b[0;32m----> 1\u001b[0;31m \u001b[0mab\u001b[0m\u001b[0;34m.\u001b[0m\u001b[0matbash_decrypt\u001b[0m\u001b[0;34m(\u001b[0m\u001b[0;34m'hello'\u001b[0m\u001b[0;34m)\u001b[0m\u001b[0;34m\u001b[0m\u001b[0;34m\u001b[0m\u001b[0m\n\u001b[0m",
      "\u001b[0;31mNameError\u001b[0m: name 'ab' is not defined"
     ]
    }
   ],
   "source": [
    "ab.atbash_decrypt('hello')"
   ]
  },
  {
   "cell_type": "markdown",
   "metadata": {
    "slideshow": {
     "slide_type": "slide"
    }
   },
   "source": [
    "### Refactoring"
   ]
  },
  {
   "cell_type": "markdown",
   "metadata": {
    "slideshow": {
     "slide_type": "fragment"
    }
   },
   "source": [
    "<div class=\"alert alert-success\">\n",
    "Refactoring is the process of restructuring existing computer code, without changing its external behaviour. \n",
    "</div>"
   ]
  },
  {
   "cell_type": "markdown",
   "metadata": {
    "slideshow": {
     "slide_type": "fragment"
    }
   },
   "source": [
    "Think of this as restructuring and final edits on your essay. "
   ]
  },
  {
   "cell_type": "markdown",
   "metadata": {
    "slideshow": {
     "slide_type": "fragment"
    }
   },
   "source": [
    "**Nesting Functions** - If you have a whole bunch of functions, if statements, and for/while loops together within a single function, you probably want (need?) to refactor."
   ]
  },
  {
   "cell_type": "markdown",
   "metadata": {
    "slideshow": {
     "slide_type": "fragment"
    }
   },
   "source": [
    "Clean functions accomplish a **single task**!"
   ]
  },
  {
   "cell_type": "markdown",
   "metadata": {
    "slideshow": {
     "slide_type": "fragment"
    }
   },
   "source": [
    "**DRY**: Don't Repeat Yourself"
   ]
  },
  {
   "cell_type": "markdown",
   "metadata": {
    "slideshow": {
     "slide_type": "slide"
    }
   },
   "source": [
    "#### Refactoring Example: Chatbot"
   ]
  },
  {
   "cell_type": "code",
   "execution_count": 25,
   "metadata": {
    "slideshow": {
     "slide_type": "-"
    }
   },
   "outputs": [],
   "source": [
    "import random \n",
    "\n",
    "def have_a_chat():\n",
    "    \"\"\"Main function to run our chatbot.\"\"\"\n",
    "    \n",
    "    chat = True\n",
    "\n",
    "    while chat:\n",
    "\n",
    "        # Get a message from the user\n",
    "        msg = input('INPUT :\\t')\n",
    "        out_msg = None\n",
    "        \n",
    "        # Check if the input is a question\n",
    "        input_string = msg\n",
    "        if '?' in input_string:\n",
    "            question = True\n",
    "        else:\n",
    "            question = False\n",
    "\n",
    "        # Check for an end msg \n",
    "        if 'quit' in input_string:\n",
    "            out_msg = 'Bye!'\n",
    "            chat = False\n",
    "            \n",
    "        # If we don't have an output yet, but the input was a question, \n",
    "        # return msg related to it being a question\n",
    "        if not out_msg and question:\n",
    "            out_msg = \"I'm too shy to answer questions. What do you want to talk about?\"\n",
    "\n",
    "        # Catch-all to say something if msg not caught & processed so far\n",
    "        if not out_msg:\n",
    "            out_msg = random.choice(['Good.', 'Okay', 'Huh?', 'Yeah!', 'Thanks!'])\n",
    "\n",
    "        print('OUTPUT:', out_msg)"
   ]
  },
  {
   "cell_type": "code",
   "execution_count": 26,
   "metadata": {
    "scrolled": true,
    "slideshow": {
     "slide_type": "fragment"
    }
   },
   "outputs": [
    {
     "ename": "StdinNotImplementedError",
     "evalue": "raw_input was called, but this frontend does not support input requests.",
     "output_type": "error",
     "traceback": [
      "\u001b[0;31m---------------------------------------------------------------------------\u001b[0m",
      "\u001b[0;31mStdinNotImplementedError\u001b[0m                  Traceback (most recent call last)",
      "\u001b[0;32m<ipython-input-26-30841f51815c>\u001b[0m in \u001b[0;36m<module>\u001b[0;34m\u001b[0m\n\u001b[0;32m----> 1\u001b[0;31m \u001b[0mhave_a_chat\u001b[0m\u001b[0;34m(\u001b[0m\u001b[0;34m)\u001b[0m\u001b[0;34m\u001b[0m\u001b[0;34m\u001b[0m\u001b[0m\n\u001b[0m",
      "\u001b[0;32m<ipython-input-25-06b9e4568919>\u001b[0m in \u001b[0;36mhave_a_chat\u001b[0;34m()\u001b[0m\n\u001b[1;32m      9\u001b[0m \u001b[0;34m\u001b[0m\u001b[0m\n\u001b[1;32m     10\u001b[0m         \u001b[0;31m# Get a message from the user\u001b[0m\u001b[0;34m\u001b[0m\u001b[0;34m\u001b[0m\u001b[0;34m\u001b[0m\u001b[0m\n\u001b[0;32m---> 11\u001b[0;31m         \u001b[0mmsg\u001b[0m \u001b[0;34m=\u001b[0m \u001b[0minput\u001b[0m\u001b[0;34m(\u001b[0m\u001b[0;34m'INPUT :\\t'\u001b[0m\u001b[0;34m)\u001b[0m\u001b[0;34m\u001b[0m\u001b[0;34m\u001b[0m\u001b[0m\n\u001b[0m\u001b[1;32m     12\u001b[0m         \u001b[0mout_msg\u001b[0m \u001b[0;34m=\u001b[0m \u001b[0;32mNone\u001b[0m\u001b[0;34m\u001b[0m\u001b[0;34m\u001b[0m\u001b[0m\n\u001b[1;32m     13\u001b[0m \u001b[0;34m\u001b[0m\u001b[0m\n",
      "\u001b[0;32m/opt/homebrew/anaconda3/lib/python3.8/site-packages/ipykernel/kernelbase.py\u001b[0m in \u001b[0;36mraw_input\u001b[0;34m(self, prompt)\u001b[0m\n\u001b[1;32m    855\u001b[0m         \"\"\"\n\u001b[1;32m    856\u001b[0m         \u001b[0;32mif\u001b[0m \u001b[0;32mnot\u001b[0m \u001b[0mself\u001b[0m\u001b[0;34m.\u001b[0m\u001b[0m_allow_stdin\u001b[0m\u001b[0;34m:\u001b[0m\u001b[0;34m\u001b[0m\u001b[0;34m\u001b[0m\u001b[0m\n\u001b[0;32m--> 857\u001b[0;31m             raise StdinNotImplementedError(\n\u001b[0m\u001b[1;32m    858\u001b[0m                 \u001b[0;34m\"raw_input was called, but this frontend does not support input requests.\"\u001b[0m\u001b[0;34m\u001b[0m\u001b[0;34m\u001b[0m\u001b[0m\n\u001b[1;32m    859\u001b[0m             )\n",
      "\u001b[0;31mStdinNotImplementedError\u001b[0m: raw_input was called, but this frontend does not support input requests."
     ]
    }
   ],
   "source": [
    "have_a_chat()"
   ]
  },
  {
   "cell_type": "markdown",
   "metadata": {
    "slideshow": {
     "slide_type": "slide"
    }
   },
   "source": [
    "#### Refactored Example: Chatbot"
   ]
  },
  {
   "cell_type": "markdown",
   "metadata": {
    "slideshow": {
     "slide_type": "-"
    }
   },
   "source": [
    "What this function does:\n",
    "\n",
    "1. takes an input\n",
    "2. checks if input is a question\n",
    "3. checks if input is supposed to end the chat\n",
    "4. return appropriate response if question, end chat, or other\n",
    "\n",
    "That's four different things! Functions should do a single thing..."
   ]
  },
  {
   "cell_type": "code",
   "execution_count": 27,
   "metadata": {
    "slideshow": {
     "slide_type": "fragment"
    }
   },
   "outputs": [],
   "source": [
    "def get_input():\n",
    "    \"\"\"ask user for an input message\"\"\"\n",
    "    \n",
    "    msg = input('INPUT :\\t')\n",
    "    out_msg = None\n",
    "    \n",
    "    return msg, out_msg"
   ]
  },
  {
   "cell_type": "code",
   "execution_count": 28,
   "metadata": {
    "slideshow": {
     "slide_type": "fragment"
    }
   },
   "outputs": [],
   "source": [
    "def is_question(input_string):\n",
    "    \"\"\"determine if input from user is a question\"\"\"\n",
    "    \n",
    "    if '?' in input_string:\n",
    "        output = True\n",
    "    else:\n",
    "        output = False\n",
    "    \n",
    "    return output"
   ]
  },
  {
   "cell_type": "code",
   "execution_count": 29,
   "metadata": {
    "slideshow": {
     "slide_type": "fragment"
    }
   },
   "outputs": [],
   "source": [
    "def end_chat(input_list):\n",
    "    \"\"\"identify if user says 'quit' in input and end chat\"\"\"\n",
    "    \n",
    "    if 'quit' in input_list:\n",
    "        output = 'Bye'\n",
    "        chat = False\n",
    "    else:\n",
    "        output = None\n",
    "        chat = True\n",
    "        \n",
    "    return output, chat"
   ]
  },
  {
   "cell_type": "code",
   "execution_count": 30,
   "metadata": {
    "slideshow": {
     "slide_type": "fragment"
    }
   },
   "outputs": [],
   "source": [
    "def return_message(out_msg, question):\n",
    "    \"\"\"generic responses for the chatbot to return\"\"\"\n",
    "        \n",
    "    # If we don't have an output yet, but the input was a question, \n",
    "    # return msg related to it being a question\n",
    "    if not out_msg and question:\n",
    "        out_msg = \"I'm too shy to answer questions. What do you want to talk about?\"\n",
    "\n",
    "    # Catch-all to say something if msg not caught & processed so far\n",
    "    if not out_msg:\n",
    "        out_msg = random.choice(['Good.', 'Okay', 'Huh?', 'Yeah!', 'Thanks!'])\n",
    "        \n",
    "    return out_msg"
   ]
  },
  {
   "cell_type": "code",
   "execution_count": 31,
   "metadata": {
    "slideshow": {
     "slide_type": "fragment"
    }
   },
   "outputs": [],
   "source": [
    "def have_a_chat():\n",
    "    \"\"\"Main function to run our chatbot.\"\"\"\n",
    "    \n",
    "    chat = True\n",
    "\n",
    "    while chat:\n",
    "\n",
    "        # Get input message from the user\n",
    "        msg, out_msg = get_input()\n",
    "        \n",
    "        # Check if the input is a question\n",
    "        question = is_question(msg)\n",
    "         \n",
    "        # Check for an end msg \n",
    "        out_msg, chat = end_chat(msg)\n",
    "       \n",
    "        # specify what to return\n",
    "        out_msg = return_message(out_msg = out_msg, question = question)\n",
    "        \n",
    "        print('OUTPUT:', out_msg)"
   ]
  },
  {
   "cell_type": "code",
   "execution_count": 32,
   "metadata": {
    "scrolled": false,
    "slideshow": {
     "slide_type": "fragment"
    }
   },
   "outputs": [
    {
     "ename": "StdinNotImplementedError",
     "evalue": "raw_input was called, but this frontend does not support input requests.",
     "output_type": "error",
     "traceback": [
      "\u001b[0;31m---------------------------------------------------------------------------\u001b[0m",
      "\u001b[0;31mStdinNotImplementedError\u001b[0m                  Traceback (most recent call last)",
      "\u001b[0;32m<ipython-input-32-73ebfa68de1f>\u001b[0m in \u001b[0;36m<module>\u001b[0;34m\u001b[0m\n\u001b[0;32m----> 1\u001b[0;31m \u001b[0mhave_a_chat\u001b[0m\u001b[0;34m(\u001b[0m\u001b[0;34m)\u001b[0m\u001b[0;34m\u001b[0m\u001b[0;34m\u001b[0m\u001b[0m\n\u001b[0m",
      "\u001b[0;32m<ipython-input-31-61ba7a229deb>\u001b[0m in \u001b[0;36mhave_a_chat\u001b[0;34m()\u001b[0m\n\u001b[1;32m      7\u001b[0m \u001b[0;34m\u001b[0m\u001b[0m\n\u001b[1;32m      8\u001b[0m         \u001b[0;31m# Get input message from the user\u001b[0m\u001b[0;34m\u001b[0m\u001b[0;34m\u001b[0m\u001b[0;34m\u001b[0m\u001b[0m\n\u001b[0;32m----> 9\u001b[0;31m         \u001b[0mmsg\u001b[0m\u001b[0;34m,\u001b[0m \u001b[0mout_msg\u001b[0m \u001b[0;34m=\u001b[0m \u001b[0mget_input\u001b[0m\u001b[0;34m(\u001b[0m\u001b[0;34m)\u001b[0m\u001b[0;34m\u001b[0m\u001b[0;34m\u001b[0m\u001b[0m\n\u001b[0m\u001b[1;32m     10\u001b[0m \u001b[0;34m\u001b[0m\u001b[0m\n\u001b[1;32m     11\u001b[0m         \u001b[0;31m# Check if the input is a question\u001b[0m\u001b[0;34m\u001b[0m\u001b[0;34m\u001b[0m\u001b[0;34m\u001b[0m\u001b[0m\n",
      "\u001b[0;32m<ipython-input-27-52a595a574ba>\u001b[0m in \u001b[0;36mget_input\u001b[0;34m()\u001b[0m\n\u001b[1;32m      2\u001b[0m     \u001b[0;34m\"\"\"ask user for an input message\"\"\"\u001b[0m\u001b[0;34m\u001b[0m\u001b[0;34m\u001b[0m\u001b[0m\n\u001b[1;32m      3\u001b[0m \u001b[0;34m\u001b[0m\u001b[0m\n\u001b[0;32m----> 4\u001b[0;31m     \u001b[0mmsg\u001b[0m \u001b[0;34m=\u001b[0m \u001b[0minput\u001b[0m\u001b[0;34m(\u001b[0m\u001b[0;34m'INPUT :\\t'\u001b[0m\u001b[0;34m)\u001b[0m\u001b[0;34m\u001b[0m\u001b[0;34m\u001b[0m\u001b[0m\n\u001b[0m\u001b[1;32m      5\u001b[0m     \u001b[0mout_msg\u001b[0m \u001b[0;34m=\u001b[0m \u001b[0;32mNone\u001b[0m\u001b[0;34m\u001b[0m\u001b[0;34m\u001b[0m\u001b[0m\n\u001b[1;32m      6\u001b[0m \u001b[0;34m\u001b[0m\u001b[0m\n",
      "\u001b[0;32m/opt/homebrew/anaconda3/lib/python3.8/site-packages/ipykernel/kernelbase.py\u001b[0m in \u001b[0;36mraw_input\u001b[0;34m(self, prompt)\u001b[0m\n\u001b[1;32m    855\u001b[0m         \"\"\"\n\u001b[1;32m    856\u001b[0m         \u001b[0;32mif\u001b[0m \u001b[0;32mnot\u001b[0m \u001b[0mself\u001b[0m\u001b[0;34m.\u001b[0m\u001b[0m_allow_stdin\u001b[0m\u001b[0;34m:\u001b[0m\u001b[0;34m\u001b[0m\u001b[0;34m\u001b[0m\u001b[0m\n\u001b[0;32m--> 857\u001b[0;31m             raise StdinNotImplementedError(\n\u001b[0m\u001b[1;32m    858\u001b[0m                 \u001b[0;34m\"raw_input was called, but this frontend does not support input requests.\"\u001b[0m\u001b[0;34m\u001b[0m\u001b[0;34m\u001b[0m\u001b[0m\n\u001b[1;32m    859\u001b[0m             )\n",
      "\u001b[0;31mStdinNotImplementedError\u001b[0m: raw_input was called, but this frontend does not support input requests."
     ]
    }
   ],
   "source": [
    "have_a_chat()  "
   ]
  },
  {
   "cell_type": "markdown",
   "metadata": {
    "slideshow": {
     "slide_type": "slide"
    }
   },
   "source": [
    "## Code Review"
   ]
  },
  {
   "cell_type": "markdown",
   "metadata": {
    "slideshow": {
     "slide_type": "fragment"
    }
   },
   "source": [
    "<div class=\"alert alert-success\">\n",
    "Code reviews is a process for systematically reviewing someone else's code. \n",
    "</div>"
   ]
  },
  {
   "cell_type": "markdown",
   "metadata": {
    "slideshow": {
     "slide_type": "fragment"
    }
   },
   "source": [
    "This is what you'll have the chance to do in coding lab next week!"
   ]
  }
 ],
 "metadata": {
  "celltoolbar": "Slideshow",
  "kernelspec": {
   "display_name": "Python 3",
   "language": "python",
   "name": "python3"
  },
  "language_info": {
   "codemirror_mode": {
    "name": "ipython",
    "version": 3
   },
   "file_extension": ".py",
   "mimetype": "text/x-python",
   "name": "python",
   "nbconvert_exporter": "python",
   "pygments_lexer": "ipython3",
   "version": "3.8.5"
  },
  "rise": {
   "scroll": true
  }
 },
 "nbformat": 4,
 "nbformat_minor": 2
}