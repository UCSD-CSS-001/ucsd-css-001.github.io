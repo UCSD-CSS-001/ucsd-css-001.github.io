{
 "cells": [
  {
   "cell_type": "markdown",
   "metadata": {},
   "source": [
    "# Social networks\n",
    "\n",
    "## Want to really learn about this?\n",
    "\n",
    "http://networksciencebook.com/\n",
    "\n",
    "\n",
    "## First, lets make a small social network\n",
    "\n",
    "### step 1: make a set of nodes (people)"
   ]
  },
  {
   "cell_type": "code",
   "execution_count": 1,
   "metadata": {},
   "outputs": [],
   "source": [
    "import random\n",
    "from math import log"
   ]
  },
  {
   "cell_type": "code",
   "execution_count": 2,
   "metadata": {},
   "outputs": [],
   "source": [
    "n = 10\n",
    "p = 1.1*(log(n)/n)"
   ]
  },
  {
   "cell_type": "code",
   "execution_count": 3,
   "metadata": {},
   "outputs": [],
   "source": [
    "import random\n",
    "\n",
    "with open(\"../datasets/first_names.txt\", \"r\") as f:\n",
    "    names = f.read().splitlines()\n",
    "\n",
    "names = sorted(random.sample(names, k=n))"
   ]
  },
  {
   "cell_type": "code",
   "execution_count": 4,
   "metadata": {},
   "outputs": [
    {
     "name": "stdout",
     "output_type": "stream",
     "text": [
      "['Adon', 'Brielle', 'Demont', 'Eliane', 'Jaime', 'Kensey', 'Maria', 'Nichalos', 'Susanne', 'Talbot']\n"
     ]
    }
   ],
   "source": [
    "print(names)"
   ]
  },
  {
   "cell_type": "markdown",
   "metadata": {},
   "source": [
    "### step 2: make edges\n",
    "\n",
    "Here we will define an Erdős-Rényi graph (ER graph) random graph, where each pair of people has some probability $p$ of having a connection."
   ]
  },
  {
   "cell_type": "code",
   "execution_count": 5,
   "metadata": {},
   "outputs": [],
   "source": [
    "edges = dict(zip(names, [[] for i in range(n)]))\n",
    "\n",
    "for i in range(n-1):\n",
    "    for j in range(i+1,n):\n",
    "        if random.random() < p:\n",
    "            # edge exists, add symmetrically\n",
    "            edges[names[i]].append(names[j])\n",
    "            edges[names[j]] += [names[i]]"
   ]
  },
  {
   "cell_type": "code",
   "execution_count": 6,
   "metadata": {},
   "outputs": [
    {
     "name": "stdout",
     "output_type": "stream",
     "text": [
      "Adon       ['Brielle', 'Eliane']\n",
      "Brielle    ['Adon', 'Eliane', 'Nichalos', 'Susanne', 'Talbot']\n",
      "Demont     ['Nichalos']\n",
      "Eliane     ['Adon', 'Brielle', 'Nichalos', 'Susanne', 'Talbot']\n",
      "Jaime      ['Nichalos', 'Talbot']\n",
      "Kensey     ['Nichalos', 'Susanne']\n",
      "Maria      ['Susanne', 'Talbot']\n",
      "Nichalos   ['Brielle', 'Demont', 'Eliane', 'Jaime', 'Kensey', 'Susanne', 'Talbot']\n",
      "Susanne    ['Brielle', 'Eliane', 'Kensey', 'Maria', 'Nichalos']\n",
      "Talbot     ['Brielle', 'Eliane', 'Jaime', 'Maria', 'Nichalos']\n"
     ]
    }
   ],
   "source": [
    "for k,v in edges.items():\n",
    "    print(f'{k:10}', v)"
   ]
  },
  {
   "cell_type": "markdown",
   "metadata": {},
   "source": [
    "## Basic effects\n",
    "\n",
    "### Your friends have more friends than you.\n"
   ]
  },
  {
   "cell_type": "code",
   "execution_count": 7,
   "metadata": {},
   "outputs": [
    {
     "name": "stdout",
     "output_type": "stream",
     "text": [
      "Adon       has 2 friends with an average of 5.00 friends each\n",
      "Brielle    has 5 friends with an average of 4.80 friends each\n",
      "Demont     has 1 friends with an average of 7.00 friends each\n",
      "Eliane     has 5 friends with an average of 4.80 friends each\n",
      "Jaime      has 2 friends with an average of 6.00 friends each\n",
      "Kensey     has 2 friends with an average of 6.00 friends each\n",
      "Maria      has 2 friends with an average of 5.00 friends each\n",
      "Nichalos   has 7 friends with an average of 3.57 friends each\n",
      "Susanne    has 5 friends with an average of 4.20 friends each\n",
      "Talbot     has 5 friends with an average of 4.20 friends each\n",
      "\n",
      "People have 1.46 fewer friends than the average number of friends their friends have\n"
     ]
    }
   ],
   "source": [
    "def mean(lst):  # could also `from statistics import mean`, but this is a bit faster, and thats all we need\n",
    "    return(sum(lst)/len(lst))\n",
    "\n",
    "nff_m_nf = []\n",
    "for person,friends in edges.items():\n",
    "    n_friends = len(friends)\n",
    "    print(f'{person:10} has {n_friends} friends ', end='')\n",
    "    if(n_friends > 0):\n",
    "        n_friends_per_friend = [len(edges[fr]) for fr in friends]\n",
    "        print(f'with an average of {mean(n_friends_per_friend):.2f} friends each', end='')\n",
    "        nff_m_nf.append(mean(n_friends_per_friend) - n_friends)\n",
    "    print('')\n",
    "            \n",
    "\n",
    "print(f'\\nPeople have {mean(nff_m_nf):.2f} fewer friends than the average number of friends their friends have')"
   ]
  },
  {
   "cell_type": "markdown",
   "metadata": {},
   "source": [
    "### Connectivity\n",
    "\n",
    "One basic property of graphs is connectivity: is everyone in the graph connected to everyone else?  Let's figure out if our social graph is connected.  (This is Dijkstra's algorithm)"
   ]
  },
  {
   "cell_type": "code",
   "execution_count": 8,
   "metadata": {},
   "outputs": [],
   "source": [
    "can_reach = dict()\n",
    "\n",
    "for person in names:\n",
    "    can_reach[person] = {person:0}\n",
    "    stack = [person] \n",
    "    while stack:\n",
    "        friend = stack.pop(0) # pop from front to do breadth first search \n",
    "        # using set difference to find friends of friend who \n",
    "        # we have not already seen (which would make them included in can_reach[person])\n",
    "        new_friends = set(edges[friend]).difference(can_reach[person])\n",
    "        # add new friends to stack.\n",
    "        stack.extend(new_friends)\n",
    "        # calculate steps to new friends\n",
    "        steps = can_reach[person][friend] + 1\n",
    "        # add to can_reach[person] via dict.update and dict comprehension\n",
    "        can_reach[person].update({f:steps for f in new_friends})"
   ]
  },
  {
   "cell_type": "code",
   "execution_count": 9,
   "metadata": {},
   "outputs": [
    {
     "name": "stdout",
     "output_type": "stream",
     "text": [
      "Adon       can reach 10/10\n",
      "Brielle    can reach 10/10\n",
      "Demont     can reach 10/10\n",
      "Eliane     can reach 10/10\n",
      "Jaime      can reach 10/10\n",
      "Kensey     can reach 10/10\n",
      "Maria      can reach 10/10\n",
      "Nichalos   can reach 10/10\n",
      "Susanne    can reach 10/10\n",
      "Talbot     can reach 10/10\n"
     ]
    }
   ],
   "source": [
    "for k,v in can_reach.items():\n",
    "    print(f'{k:10} can reach {len(v)}/{n}')"
   ]
  },
  {
   "cell_type": "code",
   "execution_count": 10,
   "metadata": {},
   "outputs": [
    {
     "name": "stdout",
     "output_type": "stream",
     "text": [
      "Adon       {'Adon': 0, 'Brielle': 1, 'Eliane': 1, 'Susanne': 2, 'Nichalos': 2, 'Talbot': 2, 'Maria': 3, 'Kensey': 3, 'Jaime': 3, 'Demont': 3}\n",
      "Brielle    {'Brielle': 0, 'Susanne': 1, 'Eliane': 1, 'Nichalos': 1, 'Talbot': 1, 'Adon': 1, 'Maria': 2, 'Kensey': 2, 'Jaime': 2, 'Demont': 2}\n",
      "Demont     {'Demont': 0, 'Nichalos': 1, 'Jaime': 2, 'Kensey': 2, 'Susanne': 2, 'Eliane': 2, 'Brielle': 2, 'Talbot': 2, 'Maria': 3, 'Adon': 3}\n",
      "Eliane     {'Eliane': 0, 'Susanne': 1, 'Nichalos': 1, 'Brielle': 1, 'Talbot': 1, 'Adon': 1, 'Maria': 2, 'Kensey': 2, 'Jaime': 2, 'Demont': 2}\n",
      "Jaime      {'Jaime': 0, 'Nichalos': 1, 'Talbot': 1, 'Kensey': 2, 'Susanne': 2, 'Eliane': 2, 'Brielle': 2, 'Demont': 2, 'Maria': 2, 'Adon': 3}\n",
      "Kensey     {'Kensey': 0, 'Nichalos': 1, 'Susanne': 1, 'Jaime': 2, 'Eliane': 2, 'Demont': 2, 'Brielle': 2, 'Talbot': 2, 'Maria': 2, 'Adon': 3}\n",
      "Maria      {'Maria': 0, 'Susanne': 1, 'Talbot': 1, 'Nichalos': 2, 'Brielle': 2, 'Kensey': 2, 'Eliane': 2, 'Jaime': 2, 'Demont': 3, 'Adon': 3}\n",
      "Nichalos   {'Nichalos': 0, 'Jaime': 1, 'Kensey': 1, 'Susanne': 1, 'Eliane': 1, 'Demont': 1, 'Brielle': 1, 'Talbot': 1, 'Maria': 2, 'Adon': 2}\n",
      "Susanne    {'Susanne': 0, 'Kensey': 1, 'Maria': 1, 'Eliane': 1, 'Nichalos': 1, 'Brielle': 1, 'Talbot': 2, 'Adon': 2, 'Jaime': 2, 'Demont': 2}\n",
      "Talbot     {'Talbot': 0, 'Jaime': 1, 'Maria': 1, 'Eliane': 1, 'Nichalos': 1, 'Brielle': 1, 'Susanne': 2, 'Adon': 2, 'Demont': 2, 'Kensey': 2}\n"
     ]
    }
   ],
   "source": [
    "for k,v in can_reach.items():\n",
    "    print(f'{k:10}', v)"
   ]
  },
  {
   "cell_type": "markdown",
   "metadata": {},
   "source": [
    "## Small world\n",
    "\n",
    "Milgram did a neat experiment, which has captivated folks' imagination: we are more collected than we think.\n",
    "\n",
    "Let's get our expectations squared away: here we have N people, each with an average of $N p$ friends.  $p$ is fairly small, like 0.05.  So we have 100 people, each with about 5 friends, on average.  If we pick a random pair of people, how long is the path between them?\n",
    "\n",
    "The small world network phenomenon is that for many different types of networks, the average shortest path is proportional to log(n) where n is the number of nodes.\n",
    "\n",
    "Let's calculate our average shortest path."
   ]
  },
  {
   "cell_type": "code",
   "execution_count": 11,
   "metadata": {},
   "outputs": [
    {
     "data": {
      "text/plain": [
       "1.711111111111111"
      ]
     },
     "execution_count": 11,
     "metadata": {},
     "output_type": "execute_result"
    }
   ],
   "source": [
    "n_connected = 0\n",
    "sum_min_path = 0\n",
    "\n",
    "for i in range(n-1):\n",
    "    for j in range(i+1, n):\n",
    "        if names[j] in can_reach[names[i]]: # path exists from i to j\n",
    "            sum_min_path += can_reach[names[i]][names[j]] # min path from i to j\n",
    "            n_connected += 1 \n",
    "\n",
    "# this is average min path among *connected* people.  disconnected pairs do not contribute.\n",
    "sum_min_path / n_connected"
   ]
  },
  {
   "cell_type": "markdown",
   "metadata": {},
   "source": [
    "Such small world phenomena arise in many types of networks.  In fact, to avoid such a property, we must consider networks that are very regular, like a lattice, or a ring.  Such networks do arise, when we consider connections that are more stratified, such as the network defined by the relation \"went to high school with\", or \"shook hands with\" (when considering people in the past, and in the future).  "
   ]
  },
  {
   "cell_type": "markdown",
   "metadata": {},
   "source": [
    "## Clustering / cliquishness\n",
    "\n",
    "The degree of clustering or cliquishness of a social network amounts to asking whether friends of friends are likely to be friends.  We will calculate this as the proportion of triads that are close.\n"
   ]
  },
  {
   "cell_type": "code",
   "execution_count": 12,
   "metadata": {},
   "outputs": [
    {
     "name": "stdout",
     "output_type": "stream",
     "text": [
      "p=0.2532843602293451 mean=0.5925925925925927\n"
     ]
    }
   ],
   "source": [
    "person_clustering = []\n",
    "for person,friends in edges.items():\n",
    "    k = len(friends)\n",
    "    if k < 2:\n",
    "        person_clustering += [None]\n",
    "    else:\n",
    "        n_triads = 0\n",
    "        n_possible = 0\n",
    "        for i in range(k-1):\n",
    "            for j in range(i+1,k):\n",
    "                n_possible += 1\n",
    "                if friends[j] in edges[friends[i]]:\n",
    "                    n_triads += 1\n",
    "        person_clustering += [n_triads / n_possible]\n",
    "\n",
    "print(f'{p=} mean={mean([c for c in person_clustering if c is not None])}')\n"
   ]
  },
  {
   "cell_type": "markdown",
   "metadata": {},
   "source": [
    "So with the random graph, we have no clustering -- pairs of people who share a friend are no more likely to be friends than average.  "
   ]
  },
  {
   "cell_type": "markdown",
   "metadata": {},
   "source": [
    "## Different types of network\n",
    "\n",
    "### lattice networks\n",
    "\n",
    "The premise of lattice networks is that all people have an underlying location, and people are connected only to those people they are close to.  There are many subtle variations of this: What is the location on?  Most simply, it would be a ring, but it could be a 2d space, or something more complicated.  How does the presence of edges decrease with distance?  Perhaps each node is connected to the closest k nodes?  Perhaps the probability of connection decreases with distance?  etc.  While these are important distinctions, lets not worry about it."
   ]
  },
  {
   "cell_type": "code",
   "execution_count": 13,
   "metadata": {},
   "outputs": [],
   "source": [
    "max_dist = 2  # degree = max_dist*2\n",
    "\n",
    "edges = dict(zip(names, [[] for i in range(n)]))\n",
    "\n",
    "for i in range(n-1):\n",
    "    for j in range(i+1,n):\n",
    "        distance = min((i-j)%n, (j-i)%n)  # distance along ring defined by index from 0 to n-1 (alphabetical order)\n",
    "        if distance <= max_dist:\n",
    "            edges[names[i]].append(names[j])\n",
    "            edges[names[j]] += [names[i]]"
   ]
  },
  {
   "cell_type": "code",
   "execution_count": 14,
   "metadata": {},
   "outputs": [
    {
     "name": "stdout",
     "output_type": "stream",
     "text": [
      "Adon       ['Brielle', 'Demont', 'Susanne', 'Talbot']\n",
      "Brielle    ['Adon', 'Demont', 'Eliane', 'Talbot']\n",
      "Demont     ['Adon', 'Brielle', 'Eliane', 'Jaime']\n",
      "Eliane     ['Brielle', 'Demont', 'Jaime', 'Kensey']\n",
      "Jaime      ['Demont', 'Eliane', 'Kensey', 'Maria']\n",
      "Kensey     ['Eliane', 'Jaime', 'Maria', 'Nichalos']\n",
      "Maria      ['Jaime', 'Kensey', 'Nichalos', 'Susanne']\n",
      "Nichalos   ['Kensey', 'Maria', 'Susanne', 'Talbot']\n",
      "Susanne    ['Adon', 'Maria', 'Nichalos', 'Talbot']\n",
      "Talbot     ['Adon', 'Brielle', 'Nichalos', 'Susanne']\n"
     ]
    }
   ],
   "source": [
    "for k,v in edges.items():\n",
    "    print(f'{k:10}', v)"
   ]
  },
  {
   "cell_type": "markdown",
   "metadata": {},
   "source": [
    "### Watts-Strogatz perturbed ring networks\n",
    "\n",
    "Watts & Strogatz showed that lattice networks (of the sort we defined above) can gain small world properties with a very small number of randomly rewired edges, which create long-distance ties:"
   ]
  },
  {
   "cell_type": "code",
   "execution_count": 15,
   "metadata": {},
   "outputs": [],
   "source": [
    "n_perturbations = 4\n",
    "\n",
    "for name in random.sample(names, n_perturbations):\n",
    "    old_name = random.choice(edges[name])\n",
    "    new_name = random.choice(names)\n",
    "    # remove previous edges\n",
    "    edges[name].remove(old_name)\n",
    "    edges[old_name].remove(name)\n",
    "    # add new edges\n",
    "    edges[name].append(new_name)\n",
    "    edges[new_name].append(name)"
   ]
  },
  {
   "cell_type": "markdown",
   "metadata": {},
   "source": [
    "### Barabasi-Albert scale-free networks\n",
    "\n",
    "Scale free networks are defined by their power-law degree distribution: most nodes have very few edges and a few nodes have very many edges.  This describes lots of social networks, such as twitter followers: most people have very few followers, and a small number of accounts have millions of followers.\n",
    "\n",
    "Barabasi & Albert described an algorithm for generating such scale-free networks.\n",
    "\n",
    "This is a preferential attachment model"
   ]
  },
  {
   "cell_type": "code",
   "execution_count": 16,
   "metadata": {},
   "outputs": [
    {
     "name": "stdout",
     "output_type": "stream",
     "text": [
      "      Adon 5\n",
      "    Demont 5\n",
      "   Brielle 4\n",
      "    Eliane 3\n",
      "     Maria 3\n",
      "     Jaime 2\n",
      "    Kensey 2\n",
      "  Nichalos 2\n",
      "   Susanne 2\n",
      "    Talbot 2\n"
     ]
    }
   ],
   "source": [
    "edges = dict(zip(names, [[] for i in range(n)]))\n",
    "\n",
    "m0 = 5 # number of initial nodes\n",
    "m = 2 # new edges per node\n",
    "\n",
    "# initialize with connected graph of m0 nodes (here... ring lattice)\n",
    "for i in range(m0):\n",
    "    j = (i-1) % m0\n",
    "    edges[names[i]].append(names[j])\n",
    "    edges[names[j]].append(names[i])\n",
    "\n",
    "# add new nodes, each with m preferential attachment.\n",
    "for i in range(m0, n):\n",
    "    degree = {k:len(v) for k,v in edges.items() if len(v)>0}\n",
    "    j = 0\n",
    "    while j < m:\n",
    "        target = random.choices([x for x in degree], weights=[v for k,v in degree.items()], k = 1)[0]\n",
    "        edges[names[i]].append(target)\n",
    "        edges[target].append(names[i])\n",
    "        degree.pop(target)\n",
    "        j += 1\n",
    "\n",
    "        \n",
    "for k,v in sorted(edges.items(), key=lambda item: -len(item[1])):\n",
    "    print(f'{k:>10} {len(v)}')\n",
    "\n"
   ]
  },
  {
   "cell_type": "code",
   "execution_count": 17,
   "metadata": {},
   "outputs": [
    {
     "data": {
      "text/plain": [
       "dict_keys(['Brielle', 'Eliane', 'Jaime', 'Kensey', 'Maria', 'Nichalos', 'Susanne'])"
      ]
     },
     "execution_count": 17,
     "metadata": {},
     "output_type": "execute_result"
    }
   ],
   "source": [
    "degree.keys()\n"
   ]
  },
  {
   "cell_type": "code",
   "execution_count": null,
   "metadata": {},
   "outputs": [],
   "source": []
  }
 ],
 "metadata": {
  "kernelspec": {
   "display_name": "Python 3",
   "language": "python",
   "name": "python3"
  },
  "language_info": {
   "codemirror_mode": {
    "name": "ipython",
    "version": 3
   },
   "file_extension": ".py",
   "mimetype": "text/x-python",
   "name": "python",
   "nbconvert_exporter": "python",
   "pygments_lexer": "ipython3",
   "version": "3.8.5"
  }
 },
 "nbformat": 4,
 "nbformat_minor": 4
}