{
 "cells": [
  {
   "cell_type": "markdown",
   "metadata": {
    "id": "5sWRSLkpJExq"
   },
   "source": [
    "# P09: Intro to NumPy\n",
    "\n",
    "* NumPy is the main scientific computing package for Python - it allows you to easily work with large arrays of data and supports functionality for many common operations (including linear algebra)\n",
    "\n",
    "* All about doing computations on large data sets all at once - can do many many things without looping! Much more effecient\n",
    "\n",
    "-  [based on this numpy quickstart guide](https://docs.scipy.org/doc/numpy/user/quickstart.html)\n",
    "\n",
    "-  [NumPy main page](http://www.numpy.org/)\n",
    "\n",
    "- [NumPY and SciPy doc page](https://docs.scipy.org/doc/)"
   ]
  },
  {
   "cell_type": "code",
   "execution_count": 1,
   "metadata": {
    "id": "sD2uLYMEJExs"
   },
   "outputs": [],
   "source": [
    "# import numpy and other stuff for this tutorial\n",
    "import numpy as np\n",
    "\n",
    "# import a specific function from NumPy cause we'll use it a lot\n",
    "from numpy import pi\n",
    "\n",
    "# functionality for plotting\n",
    "import matplotlib.pyplot as plt"
   ]
  },
  {
   "cell_type": "markdown",
   "metadata": {
    "id": "D3LPdpS7JExw"
   },
   "source": [
    "## Initialize array and a few basic operations\n",
    "* np.arange method works just like the built in range function\n",
    "* the interval includes `start` but excludes `stop`, overall interval [start...stop-1]\n"
   ]
  },
  {
   "cell_type": "code",
   "execution_count": 2,
   "metadata": {
    "colab": {
     "base_uri": "https://localhost:8080/"
    },
    "id": "nGcWqQ0GJExy",
    "outputId": "786d87b8-e0cf-4427-ae94-fed942aaae79"
   },
   "outputs": [
    {
     "name": "stdout",
     "output_type": "stream",
     "text": [
      "[0 1 2 3 4 5 6 7 8 9]\n"
     ]
    },
    {
     "data": {
      "text/plain": [
       "(10,)"
      ]
     },
     "execution_count": 2,
     "metadata": {},
     "output_type": "execute_result"
    }
   ],
   "source": [
    "# set up an array and figure out shape...  \n",
    "my_array = np.arange(10)      \n",
    "print(my_array)\n",
    "\n",
    "# note that its 1D (a vector...)\n",
    "my_array.shape"
   ]
  },
  {
   "cell_type": "code",
   "execution_count": 3,
   "metadata": {
    "id": "yenW-06dSPSM"
   },
   "outputs": [
    {
     "name": "stdout",
     "output_type": "stream",
     "text": [
      "[ 0  5 10 15 20 25]\n"
     ]
    }
   ],
   "source": [
    "# can specify start, stop and step\n",
    "seq_array = np.arange(0,30,5)     # start, stop (stop at < X), step size\n",
    "print(seq_array)\n",
    "# note that 30 is not in there..."
   ]
  },
  {
   "cell_type": "markdown",
   "metadata": {
    "id": "HBKswFFWu-9U"
   },
   "source": [
    "## Reshape array - in this case a 1D vector to a 2D matrix\n"
   ]
  },
  {
   "cell_type": "code",
   "execution_count": 4,
   "metadata": {
    "id": "pppXNWMtJEx6",
    "scrolled": true
   },
   "outputs": [
    {
     "name": "stdout",
     "output_type": "stream",
     "text": [
      "(6, 6)\n",
      "[[ 0  1  2  3  4  5]\n",
      " [ 6  7  8  9 10 11]\n",
      " [12 13 14 15 16 17]\n",
      " [18 19 20 21 22 23]\n",
      " [24 25 26 27 28 29]\n",
      " [30 31 32 33 34 35]]\n"
     ]
    }
   ],
   "source": [
    "my_array = np.arange(36)\n",
    "my_array = my_array.reshape(6,6)    # 3,12,  9,4\n",
    "print(my_array.shape)   \n",
    "print(my_array)\n",
    "# why is (6,6) and (12,3) ok but (5,5) not ok? "
   ]
  },
  {
   "cell_type": "markdown",
   "metadata": {
    "id": "E4drIeJZBsw_"
   },
   "source": [
    "## Reshape array - more than 2D\n",
    "* 1D, 2D, ND arrays\n",
    "* Notice how the dims stack on top of each other! "
   ]
  },
  {
   "cell_type": "code",
   "execution_count": 5,
   "metadata": {
    "id": "eczmXn493m99"
   },
   "outputs": [
    {
     "name": "stdout",
     "output_type": "stream",
     "text": [
      "[[[ 0  1  2  3]\n",
      "  [ 4  5  6  7]\n",
      "  [ 8  9 10 11]\n",
      "  [12 13 14 15]\n",
      "  [16 17 18 19]]\n",
      "\n",
      " [[20 21 22 23]\n",
      "  [24 25 26 27]\n",
      "  [28 29 30 31]\n",
      "  [32 33 34 35]\n",
      "  [36 37 38 39]]\n",
      "\n",
      " [[40 41 42 43]\n",
      "  [44 45 46 47]\n",
      "  [48 49 50 51]\n",
      "  [52 53 54 55]\n",
      "  [56 57 58 59]]\n",
      "\n",
      " [[60 61 62 63]\n",
      "  [64 65 66 67]\n",
      "  [68 69 70 71]\n",
      "  [72 73 74 75]\n",
      "  [76 77 78 79]]\n",
      "\n",
      " [[80 81 82 83]\n",
      "  [84 85 86 87]\n",
      "  [88 89 90 91]\n",
      "  [92 93 94 95]\n",
      "  [96 97 98 99]]]\n"
     ]
    }
   ],
   "source": [
    "my_array = np.arange(100)\n",
    "my_array = my_array.reshape(5,5,4)   # 2,5,10\n",
    "my_array.shape   \n",
    "print(my_array)\n",
    "\n",
    "# NOTICE how the dims stack on top of each other! there are 5, 5x4 matrices"
   ]
  },
  {
   "cell_type": "markdown",
   "metadata": {
    "id": "UuthWANqJEyT"
   },
   "source": [
    "## Allocate arrays of zeros, ones or rand to reserve the memory before filling up later \n",
    "* Handy when you know what size you need, but you're not ready to fill it up yet...saves you from dynamically resizing the matrix during analysis, which is VERY,VERY slow (e.g. the 'append' method)"
   ]
  },
  {
   "cell_type": "code",
   "execution_count": 6,
   "metadata": {
    "id": "XytNN_BOJEyV"
   },
   "outputs": [
    {
     "name": "stdout",
     "output_type": "stream",
     "text": [
      "[[0. 0. 0. 0.]\n",
      " [0. 0. 0. 0.]\n",
      " [0. 0. 0. 0.]]\n"
     ]
    },
    {
     "data": {
      "text/plain": [
       "dtype('float64')"
      ]
     },
     "execution_count": 6,
     "metadata": {},
     "output_type": "execute_result"
    }
   ],
   "source": [
    "# note the () around the dims because here we're specifying as a tuple...\n",
    "# default type is float64...can also pass in a list\n",
    "arr = np.zeros( (3,4) )   \n",
    "print(arr)\n",
    "arr.dtype"
   ]
  },
  {
   "cell_type": "markdown",
   "metadata": {
    "id": "_XZOD4VLvbK8"
   },
   "source": [
    "### Init an array of ones\n",
    "* Can use this method to init an array of any value...see next cell below"
   ]
  },
  {
   "cell_type": "code",
   "execution_count": 7,
   "metadata": {
    "id": "h_bqMfUCJEyX"
   },
   "outputs": [
    {
     "name": "stdout",
     "output_type": "stream",
     "text": [
      "[[[1. 1. 1. 1.]\n",
      "  [1. 1. 1. 1.]\n",
      "  [1. 1. 1. 1.]\n",
      "  [1. 1. 1. 1.]]\n",
      "\n",
      " [[1. 1. 1. 1.]\n",
      "  [1. 1. 1. 1.]\n",
      "  [1. 1. 1. 1.]\n",
      "  [1. 1. 1. 1.]]\n",
      "\n",
      " [[1. 1. 1. 1.]\n",
      "  [1. 1. 1. 1.]\n",
      "  [1. 1. 1. 1.]\n",
      "  [1. 1. 1. 1.]]\n",
      "\n",
      " [[1. 1. 1. 1.]\n",
      "  [1. 1. 1. 1.]\n",
      "  [1. 1. 1. 1.]\n",
      "  [1. 1. 1. 1.]]]\n"
     ]
    }
   ],
   "source": [
    "# ones\n",
    "# note the 3D output below...4, 4x4 squares of floating point 1s...\n",
    "arr = np.ones( (4,4,4) )\n",
    "print(arr)"
   ]
  },
  {
   "cell_type": "markdown",
   "metadata": {
    "id": "sbwUoxMovWQ4"
   },
   "source": [
    "### What if you want to initialize an array of 10s?\n"
   ]
  },
  {
   "cell_type": "code",
   "execution_count": 8,
   "metadata": {
    "id": "3RgOIZocuVlW"
   },
   "outputs": [
    {
     "name": "stdout",
     "output_type": "stream",
     "text": [
      "[[[10. 10. 10. 10.]\n",
      "  [10. 10. 10. 10.]\n",
      "  [10. 10. 10. 10.]\n",
      "  [10. 10. 10. 10.]]\n",
      "\n",
      " [[10. 10. 10. 10.]\n",
      "  [10. 10. 10. 10.]\n",
      "  [10. 10. 10. 10.]\n",
      "  [10. 10. 10. 10.]]\n",
      "\n",
      " [[10. 10. 10. 10.]\n",
      "  [10. 10. 10. 10.]\n",
      "  [10. 10. 10. 10.]\n",
      "  [10. 10. 10. 10.]]\n",
      "\n",
      " [[10. 10. 10. 10.]\n",
      "  [10. 10. 10. 10.]\n",
      "  [10. 10. 10. 10.]\n",
      "  [10. 10. 10. 10.]]]\n"
     ]
    }
   ],
   "source": [
    "arr = np.ones( (4,4,4) ) * 10\n",
    "print(arr)"
   ]
  },
  {
   "cell_type": "markdown",
   "metadata": {
    "id": "BW43neyaZog7"
   },
   "source": [
    "## Random numbers - generate all at once as opposed to looping like we did earlier in the class"
   ]
  },
  {
   "cell_type": "code",
   "execution_count": 9,
   "metadata": {
    "colab": {
     "base_uri": "https://localhost:8080/"
    },
    "id": "qq23t0aEZtr3",
    "outputId": "1183ebad-d4e3-4596-d1d6-f2d05de1b9bc"
   },
   "outputs": [
    {
     "name": "stdout",
     "output_type": "stream",
     "text": [
      "[[0.44641626 0.58859782 0.77603544 0.28115959]\n",
      " [0.78071366 0.2796471  0.63270426 0.7201253 ]\n",
      " [0.2318062  0.00347654 0.89150387 0.56721201]\n",
      " [0.93510149 0.95112364 0.97054665 0.60036315]\n",
      " [0.98083677 0.356807   0.93856945 0.16744974]]\n"
     ]
    }
   ],
   "source": [
    "arr = np.random.random( (5,4) )\n",
    "print(arr)"
   ]
  },
  {
   "cell_type": "markdown",
   "metadata": {
    "id": "9n730vuQveu8"
   },
   "source": [
    "## Empty\n",
    "* Because you're not initializing to a specific value (like zeros), can by marginally faster when allocating a large array\n",
    "* However, this is a bit dangerous because exact values in an 'empty' array are based on current state of memory and can vary...\n",
    "* Need to make sure that you are overwriting ALL of the values and that you remember that the values are NOT 0!!! (or 1)"
   ]
  },
  {
   "cell_type": "code",
   "execution_count": 10,
   "metadata": {
    "id": "90pmx7PzJEyb"
   },
   "outputs": [
    {
     "name": "stdout",
     "output_type": "stream",
     "text": [
      "[[-2.00000000e+000  3.11108212e+231]\n",
      " [ 1.73059687e-077  2.82466759e-309]]\n"
     ]
    }
   ],
   "source": [
    "# and empty...not really 'empty' but initialized with varible output determined \n",
    "# by current state of memory\n",
    "arr = np.empty( (2,2) )\n",
    "print(arr)"
   ]
  },
  {
   "cell_type": "markdown",
   "metadata": {
    "id": "0SMLQ41cvgXU"
   },
   "source": [
    "## Fill up an array at init with any value, include NaNs! (very handy for error checking!)"
   ]
  },
  {
   "cell_type": "code",
   "execution_count": 11,
   "metadata": {
    "id": "eys3c2oFuffi"
   },
   "outputs": [
    {
     "name": "stdout",
     "output_type": "stream",
     "text": [
      "[[nan nan]\n",
      " [nan nan]]\n"
     ]
    }
   ],
   "source": [
    "# an alternate way to initialize an array with arbitrary values\n",
    "# note that 'full' will guess best data type given init value\n",
    "arr = np.full( (2,2), np.nan)\n",
    "print(arr)"
   ]
  },
  {
   "cell_type": "markdown",
   "metadata": {
    "id": "KzTT3uTOJEyB"
   },
   "source": [
    "## Data type, size, other attributes of numpy arrays..."
   ]
  },
  {
   "cell_type": "code",
   "execution_count": 12,
   "metadata": {
    "id": "G2G0GXDjJEyC"
   },
   "outputs": [
    {
     "name": "stdout",
     "output_type": "stream",
     "text": [
      "Dims of data: 3\n",
      "Name of data type: int64\n",
      "Size of each element (bytes): 8\n",
      "Total number of elements in array: 100\n"
     ]
    }
   ],
   "source": [
    "print('Dims of data:', my_array.ndim)         # number of dims\n",
    "print('Name of data type:', my_array.dtype)   # name of data type (float, int32, int64 etc)\n",
    "print('Size of each element (bytes):', my_array.itemsize)          # size of each element in bytes\n",
    "print('Total number of elements in array:', my_array.size)         # total number of elements in array"
   ]
  },
  {
   "cell_type": "markdown",
   "metadata": {
    "id": "cZV5wJLiSwVJ"
   },
   "source": [
    "## Infer data types upon array creation\n",
    "* Use np.array to initialize an array and fill it with numbers\n",
    "* Can use lists or tuples (or any array-like input of numerical values)\n",
    "* Can specify data type upon array creation...complex, float32, float64, int32, uint32 (unsigned int32), etc"
   ]
  },
  {
   "cell_type": "code",
   "execution_count": 13,
   "metadata": {
    "id": "rkMMQeB0JEyG"
   },
   "outputs": [
    {
     "data": {
      "text/plain": [
       "dtype('float64')"
      ]
     },
     "execution_count": 13,
     "metadata": {},
     "output_type": "execute_result"
    }
   ],
   "source": [
    "# will infer data type based on input values...here we have 1 float so the whole thing is float\n",
    "float_array = np.array([1.2,2,3])  \n",
    "float_array.dtype             # or np.dtype"
   ]
  },
  {
   "cell_type": "markdown",
   "metadata": {
    "id": "_h_-KWZNJEyN"
   },
   "source": [
    "### Can also specify type upon array creation\n",
    "* What happens if you initialize with floating point numbers but you declare an int data type?\n",
    "* e.g. type casting upon array creation, as we discussed with pandas\n",
    "* doesn't round, it truncates!"
   ]
  },
  {
   "cell_type": "code",
   "execution_count": 14,
   "metadata": {
    "id": "ArCaRVLxJEyO"
   },
   "outputs": [
    {
     "data": {
      "text/plain": [
       "array([1, 7], dtype=int32)"
      ]
     },
     "execution_count": 14,
     "metadata": {},
     "output_type": "execute_result"
    }
   ],
   "source": [
    "int_array = np.array([1.1,7.5], dtype = 'int32')   \n",
    "int_array\n",
    "\n",
    "# truncation of floats...be careful"
   ]
  },
  {
   "cell_type": "markdown",
   "metadata": {
    "id": "2RzEEvoeJEy8"
   },
   "source": [
    "## Numpy Part II: Simple elementwise arithmetic operations like + and - work on corresponding elements of arrays.\n",
    "* MASSIVE speed up over looping!"
   ]
  },
  {
   "cell_type": "code",
   "execution_count": 15,
   "metadata": {
    "id": "9PsFIl3XBsyQ"
   },
   "outputs": [],
   "source": [
    "# set up two sets of data...\n",
    "N = 1000\n",
    "x = np.arange(0,N)\n",
    "y = np.sin(x)"
   ]
  },
  {
   "cell_type": "markdown",
   "metadata": {
    "id": "Kd4IOeaOBsyT"
   },
   "source": [
    "### First add each element of x with the corresponding element of y using the old method..."
   ]
  },
  {
   "cell_type": "code",
   "execution_count": 16,
   "metadata": {
    "colab": {
     "base_uri": "https://localhost:8080/"
    },
    "id": "WG0dXdI_BsyU",
    "outputId": "5bf59d8e-08cf-4bf8-d960-e8e8c885bb80"
   },
   "outputs": [
    {
     "name": "stdout",
     "output_type": "stream",
     "text": [
      "1.87 ms ± 9.74 µs per loop (mean ± std. dev. of 7 runs, 1000 loops each)\n"
     ]
    }
   ],
   "source": [
    "sum_lst = []\n",
    "%timeit for i in range(N): sum_lst.append(x[i] + y[i])"
   ]
  },
  {
   "cell_type": "markdown",
   "metadata": {
    "id": "lmJqK9IKBsyW"
   },
   "source": [
    "### Now do it the numpy way...it goes much much faster!\n",
    "* often goes from milliseconds to microseconds"
   ]
  },
  {
   "cell_type": "code",
   "execution_count": 17,
   "metadata": {
    "colab": {
     "base_uri": "https://localhost:8080/"
    },
    "id": "OqJyvUa3JEy9",
    "outputId": "e4bd7468-2833-43ad-a881-2550a59c6b42"
   },
   "outputs": [
    {
     "name": "stdout",
     "output_type": "stream",
     "text": [
      "1.33 µs ± 2.73 ns per loop (mean ± std. dev. of 7 runs, 1000000 loops each)\n"
     ]
    }
   ],
   "source": [
    "%timeit sum_lst = x + y"
   ]
  },
  {
   "cell_type": "markdown",
   "metadata": {
    "id": "NQUxNYcBJEzH"
   },
   "source": [
    "## Unary operations implemented as methods of the ndarray class"
   ]
  },
  {
   "cell_type": "code",
   "execution_count": 18,
   "metadata": {
    "id": "mXSKiAKdJEzI"
   },
   "outputs": [
    {
     "name": "stdout",
     "output_type": "stream",
     "text": [
      "45\n",
      "[ 5  7  9 11 13]\n",
      "[10 35]\n",
      "[ 5  7  9 11 13]\n",
      "4.5\n"
     ]
    }
   ],
   "source": [
    "# note the method chain...\n",
    "x = np.arange(10).reshape(2,5)   # 2 x 5 matrix\n",
    "\n",
    "print(x.sum())                   # sum of all elements\n",
    "print(x.sum(axis=0))             # sum of each column (across 1st dim)\n",
    "print(x.sum(axis=1))             # sum of each row (across 2nd dim)\n",
    "print(x.sum(0))                  # don't need the axis arg, can just specify\n",
    "print(x.mean())"
   ]
  },
  {
   "cell_type": "markdown",
   "metadata": {
    "id": "p4V2YuvtJEzU"
   },
   "source": [
    "## Slicing..."
   ]
  },
  {
   "cell_type": "code",
   "execution_count": 19,
   "metadata": {
    "id": "J6FZ_5u7b7lX"
   },
   "outputs": [
    {
     "name": "stdout",
     "output_type": "stream",
     "text": [
      "[0. 1. 2. 3. 4. 5. 6. 7. 8. 9.]\n",
      "[100. 100. 100.]\n"
     ]
    }
   ],
   "source": [
    "# create a 1d array\n",
    "x = np.linspace(0,9,10)\n",
    "print(x)\n",
    "x[1]                     # just the second entry, remember 0 based indexing\n",
    "\n",
    "# specific start and stop points (exclusive)\n",
    "x[0:2]                   # the first and second entries in the array, so N>=0 and N<2 (note the < upper bound - not inclusive)\n",
    "\n",
    "# assign the 2nd - 4th element to 100 (index 1,2,3)\n",
    "x[1:4] = 100               \n",
    "print(x[1:4])\n"
   ]
  },
  {
   "cell_type": "markdown",
   "metadata": {
    "id": "qiMxn6S3rJTd"
   },
   "source": [
    "### Step through a ndarray - similar to a list"
   ]
  },
  {
   "cell_type": "code",
   "execution_count": 20,
   "metadata": {
    "id": "U0DYIDs5Bsyn"
   },
   "outputs": [
    {
     "name": "stdout",
     "output_type": "stream",
     "text": [
      "[  0. 100.   4.   6.]\n",
      "[  9.   8.   7.   6.   5.   4. 100. 100. 100.   0.]\n"
     ]
    }
   ],
   "source": [
    "# start, stop, step interval\n",
    "print(x[0:8:2])\n",
    "\n",
    "# reverse x\n",
    "print(x[::-1])"
   ]
  },
  {
   "cell_type": "markdown",
   "metadata": {
    "id": "Fd_dFqkQb7li"
   },
   "source": [
    "## Multidimentional array indexing, slicing etc"
   ]
  },
  {
   "cell_type": "code",
   "execution_count": 21,
   "metadata": {
    "colab": {
     "base_uri": "https://localhost:8080/"
    },
    "id": "rmS19cX1b7lj",
    "outputId": "75177693-d370-430d-f1ae-7e1aa940b1f0"
   },
   "outputs": [
    {
     "name": "stdout",
     "output_type": "stream",
     "text": [
      "[[ 7.  8. 10.  8.  8.]\n",
      " [ 3.  6.  2.  1.  2.]\n",
      " [ 3.  9.  6.  5.  4.]\n",
      " [ 3.  8.  1.  3.  2.]\n",
      " [ 5.  3.  2.  9.  1.]\n",
      " [ 1.  3.  6.  1.  9.]\n",
      " [ 6.  4. 10.  9.  9.]\n",
      " [ 3.  0.  7.  5.  4.]\n",
      " [ 6.  9.  5.  4.  5.]\n",
      " [ 3.  3.  9.  0.  4.]]\n",
      "last row:  [3. 3. 9. 0. 4.]\n",
      "last column:  [8. 2. 4. 2. 1. 9. 9. 4. 5. 4.]\n",
      "last entry:  4.0\n"
     ]
    }
   ],
   "source": [
    "# generate a matrix of uniformly distributed random numbers over 0:10\n",
    "x = np.round(np.random.random((10,5))*10)  \n",
    "print(x)\n",
    "\n",
    "x[0,0]     # first row, first column\n",
    "x[2,3]     # third row, 4th column\n",
    "\n",
    "x[:, 3]    # all entries in the 4th column \n",
    "x[3, :]    # all entries in the 4th row\n",
    "x[0:2, 4]  # first two entries of the 5th column\n",
    "x[6, 2:4]  # 7th row, 3rd and 4th entries. \n",
    "\n",
    "# if not all dims specified then missing values are considered complete slices\n",
    "# these three ways of writing all do the same thing...\n",
    "x[6]       \n",
    "x[6,]\n",
    "x[6,:]\n",
    "\n",
    "# tricks...\n",
    "print('last row: ', x[-1,:])     # last row\n",
    "print('last column: ', x[:,-1])  # last column\n",
    "print('last entry: ', x[-1,-1])  # last value"
   ]
  },
  {
   "cell_type": "markdown",
   "metadata": {
    "id": "34C4-Jhgb7lm"
   },
   "source": [
    "## Pull out subsets of rows and columns"
   ]
  },
  {
   "cell_type": "code",
   "execution_count": 22,
   "metadata": {
    "id": "N1PhyAAbb7ln"
   },
   "outputs": [
    {
     "name": "stdout",
     "output_type": "stream",
     "text": [
      "[[0.96839314 0.44528471 0.03082751]\n",
      " [0.05369719 0.11398778 0.44991492]\n",
      " [0.52486147 0.28391756 0.58813709]\n",
      " [0.89474918 0.84582619 0.4803415 ]]\n",
      "\n",
      " [[0.96839314 0.44528471 0.03082751]\n",
      " [0.05369719 0.11398778 0.44991492]]\n",
      "\n",
      " [[0.52486147 0.28391756 0.58813709]\n",
      " [0.89474918 0.84582619 0.4803415 ]]\n",
      "\n",
      " [0.96839314 0.05369719]\n",
      "\n",
      " [[0.28391756 0.58813709]\n",
      " [0.84582619 0.4803415 ]]\n"
     ]
    }
   ],
   "source": [
    "# generate a matrix of random numbers over 0-1\n",
    "x = np.random.rand(4,3) \n",
    "print(x)\n",
    "\n",
    "# first two rows - note that you don't have to specify the 2nd dim - and note that \n",
    "# '2' here means rows 0 and 1 (not 0 through 2!)\n",
    "y = x[:2] \n",
    "print('\\n', y)\n",
    "\n",
    "# can also take the last two rows...in the same manner...in this case rows 3 and 4\n",
    "y = x[2:] \n",
    "print('\\n', y)\n",
    "\n",
    "# first two rows, 1st column\n",
    "y = x[:2,0] \n",
    "print('\\n', y)\n",
    "\n",
    "# rows 3 - end, columns 2 - end\n",
    "y = x[2:,1:]\n",
    "print('\\n', y)"
   ]
  },
  {
   "cell_type": "markdown",
   "metadata": {
    "id": "pQyROZNOb7lq"
   },
   "source": [
    "\n",
    "## Important - slicing an array and re-assigning the output creates a view of the data, not a copy! \n",
    "* Recall that a 'view' is when two variables are both referencing the same data in memory\n",
    "* Because both variables are referencing the same data, changing one variable will also change the other...\n"
   ]
  },
  {
   "cell_type": "markdown",
   "metadata": {
    "id": "iRYMim5AvD2u"
   },
   "source": [
    "### Init an array to demonstrate...in this case a 3x2 array"
   ]
  },
  {
   "cell_type": "code",
   "execution_count": 23,
   "metadata": {
    "colab": {
     "base_uri": "https://localhost:8080/",
     "height": 88
    },
    "id": "IzLJNy6vb7ls",
    "outputId": "ceb56685-bcaf-46d3-b4a4-3923385f0369"
   },
   "outputs": [
    {
     "name": "stdout",
     "output_type": "stream",
     "text": [
      "Initial values in x:\n",
      " [[2 4]\n",
      " [6 7]\n",
      " [5 4]]\n"
     ]
    }
   ],
   "source": [
    "x = np.array([ [2,4], [6,7], [5,4] ])\n",
    "print('Initial values in x:\\n', x)"
   ]
  },
  {
   "cell_type": "markdown",
   "metadata": {
    "id": "95JuFbYnvurn"
   },
   "source": [
    "### Then reassign all values in the 3rd row of x to a new variable z\n",
    "* z will be a 'view' of the data in the 3rd row of x"
   ]
  },
  {
   "cell_type": "code",
   "execution_count": 24,
   "metadata": {
    "colab": {
     "base_uri": "https://localhost:8080/",
     "height": 35
    },
    "id": "KCFUm-ZuuThI",
    "outputId": "19488f62-3b42-4944-db73-74f80e386dff"
   },
   "outputs": [
    {
     "name": "stdout",
     "output_type": "stream",
     "text": [
      "Shape of z: (2,) Values in z: [5 4]\n"
     ]
    }
   ],
   "source": [
    "z = x[2,]\n",
    "print('Shape of z:', z.shape, 'Values in z:', z)"
   ]
  },
  {
   "cell_type": "markdown",
   "metadata": {
    "id": "4YzPf6sAv8Ht"
   },
   "source": [
    "### Now change all values in z to 100 (or whatever you want)\n",
    "* use the syntax z[:], which indicates \"all values in z\"\n",
    "* if you change data in z it will also change the corresponding elements in x because z references the same data (or chunk of memory) "
   ]
  },
  {
   "cell_type": "code",
   "execution_count": 25,
   "metadata": {
    "colab": {
     "base_uri": "https://localhost:8080/",
     "height": 35
    },
    "id": "QvVuQmljuUyn",
    "outputId": "8462aa64-219a-4bbb-eba1-6eb1888f40de"
   },
   "outputs": [
    {
     "name": "stdout",
     "output_type": "stream",
     "text": [
      "New values in z: [100 100]\n"
     ]
    }
   ],
   "source": [
    "z[:]=100\n",
    "print('New values in z:', z)"
   ]
  },
  {
   "cell_type": "markdown",
   "metadata": {
    "id": "dBWrdrwnwR0Y"
   },
   "source": [
    "### Notice that x has now changed even though you never directly changed it!\n"
   ]
  },
  {
   "cell_type": "code",
   "execution_count": 26,
   "metadata": {
    "colab": {
     "base_uri": "https://localhost:8080/",
     "height": 88
    },
    "id": "iWpzIB9zuWKt",
    "outputId": "01e40def-9830-47c9-d19e-2d7398faaf91"
   },
   "outputs": [
    {
     "name": "stdout",
     "output_type": "stream",
     "text": [
      "x also changed!!!\n",
      " [[  2   4]\n",
      " [  6   7]\n",
      " [100 100]]\n"
     ]
    }
   ],
   "source": [
    "print('x also changed!!!\\n', x)"
   ]
  },
  {
   "cell_type": "markdown",
   "metadata": {
    "id": "sy12XhXHwdVZ"
   },
   "source": [
    "## If you want two independent variables that do not reference the same data, use the copy method"
   ]
  },
  {
   "cell_type": "code",
   "execution_count": 27,
   "metadata": {
    "colab": {
     "base_uri": "https://localhost:8080/",
     "height": 70
    },
    "id": "XyiBEpMRyJ84",
    "outputId": "c995a48c-e902-468b-b41a-4bee6d92c007"
   },
   "outputs": [
    {
     "name": "stdout",
     "output_type": "stream",
     "text": [
      "[[2 4]\n",
      " [6 7]\n",
      " [5 4]]\n"
     ]
    }
   ],
   "source": [
    "# re-initialize x\n",
    "x = np.array([ [2,4], [6,7], [5,4] ])\n",
    "\n",
    "# make a copy\n",
    "z = x[2,].copy()\n",
    "\n",
    "# now you can modify z\n",
    "z[:] = 100\n",
    "\n",
    "# and it won't change x\n",
    "print(x)"
   ]
  },
  {
   "cell_type": "markdown",
   "metadata": {
    "id": "jRqZWLrytZiC"
   },
   "source": [
    "## Logical indexing. \n",
    "* Just like with Pandas, we in NumPy we use '&' for  comparisons instead of 'and' and 'or'\n"
   ]
  },
  {
   "cell_type": "code",
   "execution_count": 28,
   "metadata": {
    "id": "9IyzlEVUWGsD"
   },
   "outputs": [
    {
     "name": "stdout",
     "output_type": "stream",
     "text": [
      "[4 5 6]\n"
     ]
    }
   ],
   "source": [
    "# using logical indexing to grab out subsets of data...\n",
    "x = np.arange(0,10)\n",
    "y = x[(x>3) & (x<7)]\n",
    "print(y)"
   ]
  },
  {
   "cell_type": "markdown",
   "metadata": {
    "id": "gxnvy6HTb7lw"
   },
   "source": [
    "## Fancy indexing...using arrays to index arrays - used all the time in data analysis...\n",
    "* Fancy indexing always makes a COPY of the data (unlike normal slicing which creates a view)!!!\n"
   ]
  },
  {
   "cell_type": "code",
   "execution_count": 29,
   "metadata": {
    "colab": {
     "base_uri": "https://localhost:8080/",
     "height": 105
    },
    "id": "bvcLDFGtb7lx",
    "outputId": "d5748afc-a45c-48a9-d909-b24e7ebd1a4c"
   },
   "outputs": [
    {
     "name": "stdout",
     "output_type": "stream",
     "text": [
      "[[0.86192083 0.53454066 0.23038754 0.68472688]\n",
      " [0.97537347 0.56734332 0.54103559 0.8607483 ]\n",
      " [0.13353761 0.20434622 0.3753845  0.02520431]]\n",
      "\n",
      " x indexed at tuple y:  0.025204310902670723\n"
     ]
    }
   ],
   "source": [
    "# define an array to play around with...\n",
    "x = np.random.rand(3,4)\n",
    "\n",
    "# define another array (a tuple) to use as an index into the first array\n",
    "y = (2,3)\n",
    "\n",
    "# index  \n",
    "print(x)\n",
    "print('\\n x indexed at tuple y: ', x[y])"
   ]
  },
  {
   "cell_type": "markdown",
   "metadata": {
    "id": "gWRiFJ8R3ewr"
   },
   "source": [
    "## Can use fancy indexing to extract elements in a particular order\n"
   ]
  },
  {
   "cell_type": "code",
   "execution_count": 30,
   "metadata": {
    "id": "iCP8C5a8b7l1"
   },
   "outputs": [
    {
     "name": "stdout",
     "output_type": "stream",
     "text": [
      "[[0.86192083 0.53454066 0.23038754 0.68472688]\n",
      " [0.97537347 0.56734332 0.54103559 0.8607483 ]\n",
      " [0.13353761 0.20434622 0.3753845  0.02520431]]\n"
     ]
    },
    {
     "data": {
      "text/plain": [
       "array([[0.53454066, 0.23038754, 0.86192083],\n",
       "       [0.56734332, 0.54103559, 0.97537347],\n",
       "       [0.20434622, 0.3753845 , 0.13353761]])"
      ]
     },
     "execution_count": 30,
     "metadata": {},
     "output_type": "execute_result"
    }
   ],
   "source": [
    "print(x)\n",
    "\n",
    "# this will extract the 3rd row, then the 2nd row, then the first row\n",
    "x[[2,1,0]]\n",
    "\n",
    "# and this will extract all rows from the 2nd, 3rd and then 1st column. \n",
    "x[:,[1,2,0]]"
   ]
  },
  {
   "cell_type": "markdown",
   "metadata": {
    "id": "PtEb3Q5H3j8t"
   },
   "source": [
    "## Or can pass in multiple arrays...will return a 1D array corresponding to each array [1,1] and [2,2] in this case"
   ]
  },
  {
   "cell_type": "code",
   "execution_count": 31,
   "metadata": {
    "id": "8W9vSsacb7l7"
   },
   "outputs": [
    {
     "name": "stdout",
     "output_type": "stream",
     "text": [
      "[[0.86192083 0.53454066 0.23038754 0.68472688]\n",
      " [0.97537347 0.56734332 0.54103559 0.8607483 ]\n",
      " [0.13353761 0.20434622 0.3753845  0.02520431]]\n"
     ]
    },
    {
     "data": {
      "text/plain": [
       "array([0.56734332, 0.3753845 ])"
      ]
     },
     "execution_count": 31,
     "metadata": {},
     "output_type": "execute_result"
    }
   ],
   "source": [
    "print(x)\n",
    "x[[1,2],[1,2]]"
   ]
  }
 ],
 "metadata": {
  "colab": {
   "collapsed_sections": [],
   "name": "TutorialCode_03082021.ipynb",
   "provenance": []
  },
  "kernelspec": {
   "display_name": "Python 3 (ipykernel)",
   "language": "python",
   "name": "python3"
  },
  "language_info": {
   "codemirror_mode": {
    "name": "ipython",
    "version": 3
   },
   "file_extension": ".py",
   "mimetype": "text/x-python",
   "name": "python",
   "nbconvert_exporter": "python",
   "pygments_lexer": "ipython3",
   "version": "3.9.7"
  }
 },
 "nbformat": 4,
 "nbformat_minor": 1
}