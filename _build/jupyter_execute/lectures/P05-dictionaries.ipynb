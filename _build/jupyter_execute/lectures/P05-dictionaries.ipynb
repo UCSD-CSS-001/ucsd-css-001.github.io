{
 "cells": [
  {
   "cell_type": "markdown",
   "metadata": {
    "collapsed": false
   },
   "source": [
    "# P04: dictionaries, sets, and files\n",
    "- **Concepts**: ordered vs not, hash\n",
    "- **Python dict, set**: hashable, set, dict, .update(), del\n",
    "- **Python files**: open, close, with open as fp\n",
    "\n",
    "## Concepts\n",
    "\n",
    "### Hashable, immutable\n",
    "\n",
    "- [**Immutable**](https://en.wikipedia.org/wiki/Immutable_object) variables/objects cannot be changed after they are created.  For instance, in Python, a string cannot be modified, it can just be replaced with a new string.  In contrast, a list can be modified: you can add new items to it without creating a new list object.\n",
    "\n",
    "- **Hashable** variables/objects are immutable, and can support the calculation of a [hash](https://en.wikipedia.org/wiki/Hash_function).  This includes integers, floats, strings, tuples, booleans.\n",
    "\n",
    "### Sets\n",
    "\n",
    "### Dictionary: Hash-table / mapping\n",
    "\n",
    "### Files\n",
    "\n",
    "#### Paths\n",
    "\n",
    "#### Formats\n",
    "\n",
    "## Python\n"
   ]
  },
  {
   "cell_type": "markdown",
   "metadata": {
    "collapsed": false
   },
   "source": [
    "\n",
    "### Dictionaries\n",
    "\n",
    "\n",
    "Dictionaries are *unordered*, *mutable*, *collections*, of *key*-*value* pairs.  They are a mapping from *distinct*, *hashable* keys, onto values.\n",
    "\n",
    "In Python dictionaries are like lists in that they:\n",
    " - are *mutable* (so you can change them),\n",
    " - are *collections* of other objects (so you can iterate over them, get their `len()`, check membership with `in`).\n",
    " - you can get items with square brackets `[]` (but not with integer index)\n",
    "\n",
    "However, they are unlike lists in that:\n",
    "- they are *unordered* so they cannot be indexed with integers or sliced.\n",
    "- the are *mappings* between *distinct*, *hashable* keys, and values.\n",
    "\n",
    "Dictionaries are created with `dict()`, or with `{key:value}` notation."
   ]
  },
  {
   "cell_type": "code",
   "execution_count": 1,
   "metadata": {
    "collapsed": false,
    "pycharm": {
     "name": "#%%\n"
    }
   },
   "outputs": [
    {
     "name": "stdout",
     "output_type": "stream",
     "text": [
      "{'CSS2': 'Data/Model Python', 'CSS1': 'Intro Python'}\n"
     ]
    }
   ],
   "source": [
    "courses = dict()\n",
    "courses['CSS2'] = 'Data/Model Python'\n",
    "courses['CSS1'] = 'Intro Python'\n",
    "print(courses)\n",
    "\n",
    "courses = {'CSS2': 'Data/Model Python', 'CSS1': 'Intro Python'}"
   ]
  },
  {
   "cell_type": "markdown",
   "metadata": {
    "collapsed": false
   },
   "source": [
    "Dictionary elements can be accessed via their keys."
   ]
  },
  {
   "cell_type": "code",
   "execution_count": 2,
   "metadata": {
    "collapsed": false,
    "pycharm": {
     "name": "#%%\n"
    }
   },
   "outputs": [
    {
     "name": "stdout",
     "output_type": "stream",
     "text": [
      "Intro Python\n"
     ]
    }
   ],
   "source": [
    "print(courses['CSS1'])"
   ]
  },
  {
   "cell_type": "markdown",
   "metadata": {
    "collapsed": false
   },
   "source": [
    "Items can be added to dictionaries by assigning to new keys,"
   ]
  },
  {
   "cell_type": "code",
   "execution_count": 3,
   "metadata": {
    "collapsed": false,
    "pycharm": {
     "name": "#%%\n"
    }
   },
   "outputs": [
    {
     "name": "stdout",
     "output_type": "stream",
     "text": [
      "{'CSS2': 'Data/Model Python', 'CSS1': 'Intro Python', 'ABB': 'Is this a course?'}\n"
     ]
    }
   ],
   "source": [
    "courses['ABB'] = 'Is this a course?'\n",
    "print(courses)"
   ]
  },
  {
   "cell_type": "markdown",
   "metadata": {
    "collapsed": false
   },
   "source": [
    "Dictionaries can be updated with `.update()`, which will add new keys, and update the values of existing keys."
   ]
  },
  {
   "cell_type": "code",
   "execution_count": 4,
   "metadata": {
    "collapsed": false,
    "pycharm": {
     "name": "#%%\n"
    }
   },
   "outputs": [
    {
     "name": "stdout",
     "output_type": "stream",
     "text": [
      "{'CSS2': 'Data/Model Python', 'CSS1': 'Intro Python', 'ABB': 'this is not a course', 'CSS100': 'Analytic Programming'}\n"
     ]
    }
   ],
   "source": [
    "new_courses = {'ABB': 'this is not a course', 'CSS100':'Analytic Programming'}\n",
    "courses.update(new_courses)\n",
    "print(courses)"
   ]
  },
  {
   "cell_type": "markdown",
   "metadata": {
    "collapsed": false
   },
   "source": [
    "Elements of dictionaries can be deleted with the `del` keyword:"
   ]
  },
  {
   "cell_type": "code",
   "execution_count": 5,
   "metadata": {
    "collapsed": false,
    "pycharm": {
     "name": "#%%\n"
    }
   },
   "outputs": [
    {
     "name": "stdout",
     "output_type": "stream",
     "text": [
      "{'CSS2': 'Data/Model Python', 'CSS1': 'Intro Python', 'CSS100': 'Analytic Programming'}\n"
     ]
    }
   ],
   "source": [
    "del courses['ABB']\n",
    "print(courses)"
   ]
  },
  {
   "cell_type": "markdown",
   "metadata": {
    "collapsed": false
   },
   "source": [
    "You can check if a key exists in a dictionary with `in`:"
   ]
  },
  {
   "cell_type": "code",
   "execution_count": 6,
   "metadata": {
    "collapsed": false,
    "pycharm": {
     "name": "#%%\n"
    }
   },
   "outputs": [
    {
     "name": "stdout",
     "output_type": "stream",
     "text": [
      "True\n",
      "False\n"
     ]
    }
   ],
   "source": [
    "print('CSS1' in courses)\n",
    "print('ABB' in courses)"
   ]
  },
  {
   "cell_type": "markdown",
   "metadata": {
    "collapsed": false
   },
   "source": [
    "\n",
    "\n",
    "#### Keys, Values, Items\n",
    "\n",
    "You can get (or iterate over) just the keys with `.keys()`."
   ]
  },
  {
   "cell_type": "code",
   "execution_count": 7,
   "metadata": {
    "collapsed": false,
    "pycharm": {
     "name": "#%%\n"
    }
   },
   "outputs": [
    {
     "name": "stdout",
     "output_type": "stream",
     "text": [
      "dict_keys(['CSS2', 'CSS1', 'CSS100'])\n",
      "\n",
      "CSS2\n",
      "CSS1\n",
      "CSS100\n"
     ]
    }
   ],
   "source": [
    "print(courses.keys())\n",
    "print('')\n",
    "for k in courses.keys():\n",
    "    print(k)"
   ]
  },
  {
   "cell_type": "markdown",
   "metadata": {
    "collapsed": false
   },
   "source": [
    "You can get just the values with `.values()`."
   ]
  },
  {
   "cell_type": "code",
   "execution_count": 8,
   "metadata": {
    "collapsed": false,
    "pycharm": {
     "name": "#%%\n"
    }
   },
   "outputs": [
    {
     "name": "stdout",
     "output_type": "stream",
     "text": [
      "dict_values(['Data/Model Python', 'Intro Python', 'Analytic Programming'])\n",
      "\n",
      "Data/Model Python\n",
      "Intro Python\n",
      "Analytic Programming\n"
     ]
    }
   ],
   "source": [
    "print(courses.values())\n",
    "print('')\n",
    "for v in courses.values():\n",
    "    print(v)"
   ]
  },
  {
   "cell_type": "markdown",
   "metadata": {
    "collapsed": false
   },
   "source": [
    "You can get key-value pairs (as tuples) with `.items()`."
   ]
  },
  {
   "cell_type": "code",
   "execution_count": 9,
   "metadata": {
    "collapsed": false,
    "pycharm": {
     "name": "#%%\n"
    }
   },
   "outputs": [
    {
     "name": "stdout",
     "output_type": "stream",
     "text": [
      "dict_items([('CSS2', 'Data/Model Python'), ('CSS1', 'Intro Python'), ('CSS100', 'Analytic Programming')])\n",
      "\n",
      "('CSS2', 'Data/Model Python')\n",
      "('CSS1', 'Intro Python')\n",
      "('CSS100', 'Analytic Programming')\n"
     ]
    }
   ],
   "source": [
    "print(courses.items())\n",
    "print('')\n",
    "for pair in courses.items():\n",
    "    print(pair)"
   ]
  },
  {
   "cell_type": "markdown",
   "metadata": {
    "collapsed": false
   },
   "source": [
    "It is often useful to do assignment unpacking, to unpack the (key,value) tuple into two variables:"
   ]
  },
  {
   "cell_type": "code",
   "execution_count": 10,
   "metadata": {
    "collapsed": false,
    "pycharm": {
     "name": "#%%\n"
    }
   },
   "outputs": [
    {
     "name": "stdout",
     "output_type": "stream",
     "text": [
      "Course number CSS2 is titled Data/Model Python\n",
      "Course number CSS1 is titled Intro Python\n",
      "Course number CSS100 is titled Analytic Programming\n"
     ]
    }
   ],
   "source": [
    "for k,v in courses.items():\n",
    "    print(f'Course number {k} is titled {v}')"
   ]
  },
  {
   "cell_type": "markdown",
   "metadata": {
    "collapsed": false
   },
   "source": [
    "#### Sorting\n",
    "\n",
    "As you saw above, the order of key-value pairs in a dictionary is determined by when they were added.  Often we want to sort the contents either by the keys, or by the values.   In either case, to get a sorted dictionary, we will end up making a new dictionary by inserting key-value pairs in a sorted order.\n",
    "\n",
    "**By keys**"
   ]
  },
  {
   "cell_type": "code",
   "execution_count": 11,
   "metadata": {
    "collapsed": false,
    "pycharm": {
     "name": "#%%\n"
    }
   },
   "outputs": [
    {
     "name": "stdout",
     "output_type": "stream",
     "text": [
      "{'CSS2': 'Data/Model Python', 'CSS1': 'Intro Python', 'CSS100': 'Analytic Programming'}\n",
      "{'CSS1': 'Intro Python', 'CSS100': 'Analytic Programming', 'CSS2': 'Data/Model Python'}\n"
     ]
    }
   ],
   "source": [
    "sorted_courses = dict()\n",
    "for k in sorted(courses.keys()):\n",
    "    sorted_courses[k] = courses[k]\n",
    "\n",
    "print(courses)\n",
    "print(sorted_courses)"
   ]
  },
  {
   "cell_type": "markdown",
   "metadata": {
    "collapsed": false
   },
   "source": [
    "**By values**\n",
    "\n",
    "Sorting by values is a bit tricky -- we can sort the values, but we have no reliable way to figure out which keys were associated with the sorted values.  Consequently, we have to sort the key-value items.  But doing so requires that we can tell the `sorted` function to use the second element of the pair to sort.  This is all doable, but involves either writing an anonymous function (not hard, we just havent covered it yet), or importing a library that creates that anonymous function for us.\n",
    "\n",
    "We will show you how to do this using the `itemgetter` function from the `operator` library"
   ]
  },
  {
   "cell_type": "code",
   "execution_count": 12,
   "metadata": {
    "collapsed": false,
    "pycharm": {
     "name": "#%%\n"
    }
   },
   "outputs": [
    {
     "name": "stdout",
     "output_type": "stream",
     "text": [
      "before sorting, items in order of insertion:  \n",
      "('CSS2', 'Data/Model Python')\n",
      "('CSS1', 'Intro Python')\n",
      "('CSS100', 'Analytic Programming')\n",
      "default sorting sorts by first element of pair (key):  \n",
      "('CSS1', 'Intro Python')\n",
      "('CSS100', 'Analytic Programming')\n",
      "('CSS2', 'Data/Model Python')\n",
      "sorting by the second element (index=1) of the pair with key=itemgetter(1):  \n",
      "('CSS100', 'Analytic Programming')\n",
      "('CSS2', 'Data/Model Python')\n",
      "('CSS1', 'Intro Python')\n"
     ]
    }
   ],
   "source": [
    "from operator import itemgetter # this imports the itemgetter function\n",
    "print(\"before sorting, items in order of insertion:  \")\n",
    "for item in courses.items():\n",
    "    print(item)\n",
    "\n",
    "print(\"default sorting sorts by first element of pair (key):  \")\n",
    "for item in sorted(courses.items()):\n",
    "    print(item)\n",
    "\n",
    "print(\"sorting by the second element (index=1) of the pair with key=itemgetter(1):  \")\n",
    "for item in sorted(courses.items(), key=itemgetter(1)):\n",
    "    print(item)"
   ]
  },
  {
   "cell_type": "markdown",
   "metadata": {
    "collapsed": false
   },
   "source": [
    "Making a new sorted dictionary:"
   ]
  },
  {
   "cell_type": "code",
   "execution_count": 13,
   "metadata": {
    "collapsed": false,
    "pycharm": {
     "name": "#%%\n"
    }
   },
   "outputs": [
    {
     "name": "stdout",
     "output_type": "stream",
     "text": [
      "{'CSS100': 'Analytic Programming', 'CSS2': 'Data/Model Python', 'CSS1': 'Intro Python'}\n"
     ]
    }
   ],
   "source": [
    "courses_by_title = dict()\n",
    "\n",
    "for number,title in sorted(courses.items(), key=itemgetter(1)):\n",
    "    courses_by_title[number] = title\n",
    "\n",
    "print(courses_by_title)"
   ]
  },
  {
   "cell_type": "markdown",
   "metadata": {
    "collapsed": false
   },
   "source": [
    "Finally, for a very pithy, advanced syntax, we could do it with dictionary comprehension:"
   ]
  },
  {
   "cell_type": "code",
   "execution_count": 14,
   "metadata": {
    "collapsed": false,
    "pycharm": {
     "name": "#%%\n"
    }
   },
   "outputs": [
    {
     "name": "stdout",
     "output_type": "stream",
     "text": [
      "{'CSS100': 'Analytic Programming', 'CSS2': 'Data/Model Python', 'CSS1': 'Intro Python'}\n"
     ]
    }
   ],
   "source": [
    "courses_by_title = {k:v for k,v in sorted(courses.items(), key=itemgetter(1))}\n",
    "print(courses_by_title)"
   ]
  },
  {
   "cell_type": "markdown",
   "metadata": {
    "collapsed": false
   },
   "source": []
  }
 ],
 "metadata": {
  "kernelspec": {
   "display_name": "Python 3",
   "language": "python",
   "name": "python3"
  },
  "language_info": {
   "codemirror_mode": {
    "name": "ipython",
    "version": 3
   },
   "file_extension": ".py",
   "mimetype": "text/x-python",
   "name": "python",
   "nbconvert_exporter": "python",
   "pygments_lexer": "ipython3",
   "version": "3.8.5"
  }
 },
 "nbformat": 4,
 "nbformat_minor": 0
}