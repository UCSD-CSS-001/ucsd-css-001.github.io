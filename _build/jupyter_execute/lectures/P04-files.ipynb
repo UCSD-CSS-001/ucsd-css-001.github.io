{
 "cells": [
  {
   "cell_type": "markdown",
   "metadata": {},
   "source": [
    "# P04: Reading and writing files\n",
    "- **Python files**: open, close, with open as fp\n",
    "\n",
    "\n",
    "## Reading files\n",
    "\n",
    "### Finding a file\n",
    "\n",
    "- Files are stored somewhere in your computer systems hard drive or storage area.\n",
    "\n",
    "- That location is specified via a file **path**.\n",
    "\n",
    "- A file path encodes the location of the file within the directory structure on the computer.\n",
    "\n",
    "- *Absolute* file paths encode the location of the file relative to the root, or base directory of the file system.  So let's say we have a file named `filename.ext` located in `folder2`, which is located inside `jserences`, which is inside `Users`, which is in the base (root) directory of the file system.  On a unix machine (such as Mac OS, Linux, etc.) this location is encoded as follows `/Users/jserences/folder2/filename.ext` where the slashes (`/`) indicates directories or folders. Windows machines use the forward slash `\\`, so that path would look something like `C:\\Users\\jserences\\folder2\\filename.ext`.\n",
    "\n",
    "- *Relative* file paths encode the location of the file relative to the current location or path, where the program is running. So if a program has been launched in the folder `/Users/jserences/programs/`, then the relative path to `/Users/jserences/folder2/filename.ext` would involve going up one directory in the file tree using the `..` syntax, then down into `folder2` and getting `filename.ext`.  The full relative path would be `../folder2/filename.ext`.  The key part here is that `..` move you up one level in the directory tree **relative** to the the current working directory. Basically `..` is like pressing the `back` arrow on a 'Finder' window when you're moving around using the mouse and the windows provided by your operating system.\n",
    "\n",
    "### Opening a file\n",
    "\n",
    "- Files are accessed via the `open(file, mode)` command, specifying the (relative or absolute) path to the  file, and the mode with which you want to open it ('r' for read, 'w' for write, 'a' for append, there are [more](https://docs.python.org/3/library/functions.html#open)).\n",
    "\n",
    "- Opening a file creates a file object which can be read from (or written to, or appended to, depending on what mode you used to open it).  \n",
    "    - Assuming we are dealing with text files, `file.read()` reads the entire content of the file as one string. \n",
    "    - `file.readlines()` reads the entire content of the file as a list of strings, with each element corresponding to one line in the text file.  \n",
    "    - `file.readline()` reads one line at a time, and is helpful if your file is large, and you do not want to load its entirety into memory.\n",
    "\n",
    "- When you open a file, your operating system is notified that some program is doing something to that file, and it will prevent other changes from being made to that file. Consequently, it is important that you *close* the file after opening it.  In Python, the easiest way to make this that this is done without errors is via the `with` keyword, that creates a temporary context in which the file is open, and then closes the file as soon as all the operations that need to be carried out on the file are completed. Bad things can happen if you do not close the file, so make sure you're careful with this (the file might get corrupted, you might find that nothing was written to the file, etc). "
   ]
  },
  {
   "cell_type": "markdown",
   "metadata": {},
   "source": [
    "## File Paths"
   ]
  },
  {
   "cell_type": "markdown",
   "metadata": {},
   "source": [
    "The specific location of a file or folder on your computer."
   ]
  },
  {
   "cell_type": "markdown",
   "metadata": {},
   "source": [
    "When using a Graphical User Interface (GUI), you click on directories to access subdirectories and finally find the file you're interested in."
   ]
  },
  {
   "cell_type": "markdown",
   "metadata": {},
   "source": [
    "When using the command line, you specify a file's path explicitly with text."
   ]
  },
  {
   "cell_type": "markdown",
   "metadata": {},
   "source": [
    "### Absolute vs. Relative Paths\n",
    "\n",
    "The two ways to specify the path to your file of interest allow for flexibility in programming."
   ]
  },
  {
   "cell_type": "markdown",
   "metadata": {},
   "source": [
    "#### Absolute Paths"
   ]
  },
  {
   "cell_type": "markdown",
   "metadata": {},
   "source": [
    "Absolute paths specify the full path for a given file system (starting from the root directory)."
   ]
  },
  {
   "cell_type": "markdown",
   "metadata": {},
   "source": [
    "**root** specifies the 'highest' directory in the file structure (the start).\n",
    "\n",
    "An absolute file path starts with a slash `/` specifying the root directory.\n"
   ]
  },
  {
   "cell_type": "code",
   "execution_count": 1,
   "metadata": {
    "pycharm": {
     "name": "#%%\n"
    }
   },
   "outputs": [
    {
     "name": "stdout",
     "output_type": "stream",
     "text": [
      "\u001b[34meLife\u001b[m\u001b[m/\r\n"
     ]
    }
   ],
   "source": [
    "## absolute path\n",
    "## this is specific to my computer\n",
    "## look at the path output above for you computer\n",
    "%ls '/Users/johnserences/Dropbox/My Papers/Editorial/'"
   ]
  },
  {
   "cell_type": "markdown",
   "metadata": {},
   "source": [
    "#### Relative Paths"
   ]
  },
  {
   "cell_type": "markdown",
   "metadata": {},
   "source": [
    "**Relative paths** specify the path to a file from your **current working directory** (where your computer is working right now).\n"
   ]
  },
  {
   "cell_type": "code",
   "execution_count": 2,
   "metadata": {
    "pycharm": {
     "name": "#%%\n"
    }
   },
   "outputs": [
    {
     "data": {
      "text/plain": [
       "'/Users/johnserences/Documents/GitHub/ucsd-css-001.github.io/lectures'"
      ]
     },
     "execution_count": 2,
     "metadata": {},
     "output_type": "execute_result"
    }
   ],
   "source": [
    "# remind us of our current working directory\n",
    "%pwd"
   ]
  },
  {
   "cell_type": "code",
   "execution_count": 3,
   "metadata": {
    "pycharm": {
     "name": "#%%\n"
    }
   },
   "outputs": [
    {
     "name": "stdout",
     "output_type": "stream",
     "text": [
      "ls: ../../Lectures: No such file or directory\r\n"
     ]
    }
   ],
   "source": [
    "# relative path\n",
    "# this is specific to my computer\n",
    "%ls ../../Lectures"
   ]
  },
  {
   "cell_type": "markdown",
   "metadata": {},
   "source": [
    "- `..` specify you want to move one directory up in your hierarchy - here I am moving up two levels with the `../../` syntax\n",
    "- `Lectures` specifies the path to the directory I want to list files in\n",
    "- each directory is separated with a slash (`/`)"
   ]
  },
  {
   "cell_type": "markdown",
   "metadata": {},
   "source": [
    "This **relative** path does _not_ start with a leading slash (b/c it's not an absolute path)."
   ]
  },
  {
   "cell_type": "markdown",
   "metadata": {},
   "source": [
    "## Opening and interacting with files!\n",
    "* Using the `with` method of opening files will ensure that they are closed properly when you are done with them...\n",
    "* This will create a file object `f` (although you can name it whatever you'd like)\n",
    "* You can then use the file object `f` to write stuff to the file using `f.write()`"
   ]
  },
  {
   "cell_type": "markdown",
   "metadata": {},
   "source": [
    "### Open a file for writing, and just write some text to it using the f-string method we learned last time..."
   ]
  },
  {
   "cell_type": "code",
   "execution_count": 4,
   "metadata": {
    "pycharm": {
     "name": "#%%\n"
    }
   },
   "outputs": [],
   "source": [
    "with open('test.txt', 'w') as f:\n",
    "    for i in range(0, 11):\n",
    "        # include the \\n newline character.\n",
    "        # its like pressing the `enter` key at the end of each line\n",
    "        f.write(f'This is the {i}th line of the file\\n')"
   ]
  },
  {
   "cell_type": "markdown",
   "metadata": {},
   "source": [
    "Note the escape sequence `'\\n'` in the strings -- these are the *newline* escape character, and is how we encode line breaks inside strings."
   ]
  },
  {
   "cell_type": "markdown",
   "metadata": {},
   "source": [
    "### You can use the built in magic `%pycat` to view the contents of the file. "
   ]
  },
  {
   "cell_type": "code",
   "execution_count": 5,
   "metadata": {},
   "outputs": [],
   "source": [
    "%pycat test.txt"
   ]
  },
  {
   "cell_type": "markdown",
   "metadata": {},
   "source": [
    "### Open a file for reading...\n",
    "* `f.read()` will read in a fixed number of elements...where `f.read(x)` will read in `x` elements\n",
    "* if not parameters are passed to `f.read()` then it will read the entire file! be careful with this if you're dealing with super big files!\n",
    "* `f.readline()` will read in one line at a time (and it knows how to find the end of each line because its looking for the the `\\n` newline escape character...that's why it is so important to include the `\\n` in your files when you write them...makes it way easier to deal with when reading the data back in. \n",
    "* `f.readlines()` will read in the entire file and will store each line as a string that is an entry in a list..."
   ]
  },
  {
   "cell_type": "markdown",
   "metadata": {},
   "source": [
    "#### `f.read()`"
   ]
  },
  {
   "cell_type": "code",
   "execution_count": 6,
   "metadata": {},
   "outputs": [
    {
     "name": "stdout",
     "output_type": "stream",
     "text": [
      "This is the 0th line of the file\n",
      "This is the 1th line of the file\n",
      "This is the 2th line of the file\n",
      "This is the 3th line of the file\n",
      "This is the 4th line of the file\n",
      "This is the 5th line of the file\n",
      "This is the 6th line of the file\n",
      "This is the 7th line of the file\n",
      "This is the 8th line of the file\n",
      "This is the 9th line of the file\n",
      "This is the 10th line of the file\n",
      "\n"
     ]
    }
   ],
   "source": [
    "# open our file for reading...\n",
    "with open('test.txt', 'r') as f:\n",
    "    # read the entire file...\n",
    "    out = f.read()\n",
    "    \n",
    "# print it out\n",
    "print(out)"
   ]
  },
  {
   "cell_type": "markdown",
   "metadata": {},
   "source": [
    "#### This time use `f.read() but specify a fixed number of elements to read (instead of the entire file). "
   ]
  },
  {
   "cell_type": "code",
   "execution_count": 7,
   "metadata": {},
   "outputs": [
    {
     "name": "stdout",
     "output_type": "stream",
     "text": [
      "This is th\n"
     ]
    }
   ],
   "source": [
    "# make a variable to determine how many elements to read.\n",
    "num_elements_to_read = 10\n",
    "\n",
    "# open our file for reading...\n",
    "with open('test.txt', 'r') as f:\n",
    "    # This time just read in a set number of elements\n",
    "    out = f.read(num_elements_to_read)\n",
    "    \n",
    "# print it out - note that there are \n",
    "# num_elements_to_read characters (including spaces)\n",
    "print(out)"
   ]
  },
  {
   "cell_type": "markdown",
   "metadata": {},
   "source": [
    "### `f.readline` - read one line"
   ]
  },
  {
   "cell_type": "code",
   "execution_count": 8,
   "metadata": {},
   "outputs": [
    {
     "name": "stdout",
     "output_type": "stream",
     "text": [
      "This is the 0th line of the file\n",
      "\n"
     ]
    }
   ],
   "source": [
    "# open our file for reading...\n",
    "with open('test.txt', 'r') as f:\n",
    "    # read a line from the file\n",
    "    out = f.readline()\n",
    "    \n",
    "# print it out\n",
    "print(out)"
   ]
  },
  {
   "cell_type": "markdown",
   "metadata": {},
   "source": [
    "#### Side note, but sorta related to `f.readline()`...if you want to loop over lines, one at a time, use a for loop like this:"
   ]
  },
  {
   "cell_type": "code",
   "execution_count": 9,
   "metadata": {},
   "outputs": [
    {
     "name": "stdout",
     "output_type": "stream",
     "text": [
      "This is the 0th line of the file\n",
      "This is the 1th line of the file\n",
      "This is the 2th line of the file\n",
      "This is the 3th line of the file\n",
      "This is the 4th line of the file\n",
      "This is the 5th line of the file\n",
      "This is the 6th line of the file\n",
      "This is the 7th line of the file\n",
      "This is the 8th line of the file\n",
      "This is the 9th line of the file\n",
      "This is the 10th line of the file\n"
     ]
    }
   ],
   "source": [
    "# open our file for reading...\n",
    "with open('test.txt', 'r') as f:\n",
    "    # read in line by line...\n",
    "    for line in f:\n",
    "        print(line, end=\"\")\n",
    "        # end = \"\" tells the `print` statement not to end each \n",
    "        # line with a '\\n' because there is already a '\\n' character\n",
    "        # at the end of each line because that is how we wrote it out...\n"
   ]
  },
  {
   "cell_type": "markdown",
   "metadata": {},
   "source": [
    "### `f.readlines()` - read entire file into a list of strings, where each string is a line from the file. "
   ]
  },
  {
   "cell_type": "code",
   "execution_count": 10,
   "metadata": {},
   "outputs": [
    {
     "name": "stdout",
     "output_type": "stream",
     "text": [
      "['This is the 0th line of the file\\n', 'This is the 1th line of the file\\n', 'This is the 2th line of the file\\n', 'This is the 3th line of the file\\n', 'This is the 4th line of the file\\n', 'This is the 5th line of the file\\n', 'This is the 6th line of the file\\n', 'This is the 7th line of the file\\n', 'This is the 8th line of the file\\n', 'This is the 9th line of the file\\n', 'This is the 10th line of the file\\n']\n",
      "\n",
      "Slicing the list to grab a subset of the strings...\n",
      "\n",
      "['This is the 2th line of the file\\n', 'This is the 3th line of the file\\n']\n"
     ]
    }
   ],
   "source": [
    "# open our file for reading...\n",
    "with open('test.txt', 'r') as f:\n",
    "    # read the entire file...with each line \n",
    "    # returned as a string in a list\n",
    "    out = f.readlines()\n",
    "    \n",
    "# print the list of strings\n",
    "print(out)\n",
    "\n",
    "# because `out` is now a list, \n",
    "# you can index/slice to find specific \n",
    "# elements\n",
    "print('\\nSlicing the list to grab a subset of the strings...\\n')\n",
    "print(out[2:4])"
   ]
  },
  {
   "cell_type": "markdown",
   "metadata": {},
   "source": [
    "## Working with files once they have been read in...\n",
    "\n",
    "### Find a target string and then keep the next N lines of text\n",
    "* Here we will read in txt from a book (Frankenstein by Mary Wollstonecraft (Godwin) Shelley)\n",
    "* We'll then search for a specific string in the book...in this case we'll look for the first sentence of Chapter 5\n",
    "* We'll use `.readlines()` to read the book into a list, where each line of text from the book is an entry in the list (and remember, `.readlines()` is parsing the text based on where the `'\\n'` (newline) characters are). \n",
    "* Then we'll get rid of everything else in the book except for the few lines at the start of Chapter 5\n",
    "* I will show you two methods...one using a counter that we initialize, and one using the `enumerate` method that allows you to have a counter in a `for` loop that is initialized and incremented automatically. \n",
    "* I'll also show you the `break` syntax for a `for` loop. `break` allows you to exit the loop if a certain condition is met. In this case, we will exit the loop when we find the text that we're looking for!\n",
    "* Last - there are many ways to do this task...so don't feel constrained by this approach when you're working on the problem set..."
   ]
  },
  {
   "cell_type": "code",
   "execution_count": 11,
   "metadata": {},
   "outputs": [
    {
     "name": "stdout",
     "output_type": "stream",
     "text": [
      "['It was on a dreary night of November that I beheld the accomplishment\\n', 'of my toils. With an anxiety that almost amounted to agony, I\\n', 'collected the instruments of life around me, that I might infuse a\\n', 'spark of being into the lifeless thing that lay at my feet. It was\\n', 'already one in the morning; the rain pattered dismally against the\\n', 'panes, and my candle was nearly burnt out, when, by the glimmer of the\\n', 'half-extinguished light, I saw the dull yellow eye of the creature\\n', 'open; it breathed hard, and a convulsive motion agitated its limbs.\\n', '\\n', 'How can I describe my emotions at this catastrophe, or how delineate\\n', 'the wretch whom with such infinite pains and care I had endeavoured to\\n', 'form? His limbs were in proportion, and I had selected his features as\\n', 'beautiful. Beautiful! Great God! His yellow skin scarcely covered\\n', 'the work of muscles and arteries beneath; his hair was of a lustrous\\n', 'black, and flowing; his teeth of a pearly whiteness; but these\\n', 'luxuriances only formed a more horrid contrast with his watery eyes,\\n', 'that seemed almost of the same colour as the dun-white sockets in which\\n', 'they were set, his shrivelled complexion and straight black lips.\\n', '\\n', 'The different accidents of life are not so changeable as the feelings\\n', 'of human nature. I had worked hard for nearly two years, for the sole\\n', 'purpose of infusing life into an inanimate body. For this I had\\n', 'deprived myself of rest and health. I had desired it with an ardour\\n', 'that far exceeded moderation; but now that I had finished, the beauty\\n', 'of the dream vanished, and breathless horror and disgust filled my\\n', 'heart. Unable to endure the aspect of the being I had created, I\\n', 'rushed out of the room and continued a long time traversing my\\n', 'bed-chamber, unable to compose my mind to sleep. At length lassitude\\n', 'succeeded to the tumult I had before endured, and I threw myself on the\\n', 'bed in my clothes, endeavouring to seek a few moments of forgetfulness.\\n', 'But it was in vain; I slept, indeed, but I was disturbed by the wildest\\n', 'dreams. I thought I saw Elizabeth, in the bloom of health, walking in\\n', 'the streets of Ingolstadt. Delighted and surprised, I embraced her,\\n', 'but as I imprinted the first kiss on her lips, they became livid with\\n', 'the hue of death; her features appeared to change, and I thought that I\\n', 'held the corpse of my dead mother in my arms; a shroud enveloped her\\n', 'form, and I saw the grave-worms crawling in the folds of the flannel.\\n', 'I started from my sleep with horror; a cold dew covered my forehead, my\\n', 'teeth chattered, and every limb became convulsed; when, by the dim and\\n', 'yellow light of the moon, as it forced its way through the window\\n', 'shutters, I beheld the wretch—the miserable monster whom I had\\n', 'created. He held up the curtain of the bed; and his eyes, if eyes they\\n', 'may be called, were fixed on me. His jaws opened, and he muttered some\\n', 'inarticulate sounds, while a grin wrinkled his cheeks. He might have\\n', 'spoken, but I did not hear; one hand was stretched out, seemingly to\\n', 'detain me, but I escaped and rushed downstairs. I took refuge in the\\n', 'courtyard belonging to the house which I inhabited, where I remained\\n', 'during the rest of the night, walking up and down in the greatest\\n', 'agitation, listening attentively, catching and fearing each sound as if\\n', 'it were to announce the approach of the demoniacal corpse to which I\\n']\n"
     ]
    }
   ],
   "source": [
    "# open our file for reading...\n",
    "with open('frankenstein.txt', 'r') as f:\n",
    "    # read the entire file...with each line \n",
    "    # returned as a string in a list\n",
    "    # we'll call the list 'book'\n",
    "    book = f.readlines()\n",
    "\n",
    "# now we can search the book for the text that we want, \n",
    "# which in this case is the first sentence of Chapter 5, which \n",
    "# starts with the string 'It was on a dreary night' \n",
    "search_target = 'It was on a dreary night'\n",
    "\n",
    "# how many lines of text do we want to keep \n",
    "# after we find the search target?\n",
    "keep_lines = 50\n",
    "\n",
    "# initialize a counter (int object)\n",
    "cnt = 0\n",
    "\n",
    "# loop over each line in the book\n",
    "for line in book:\n",
    "    \n",
    "    # test to see if the current line has search_target in it\n",
    "    if search_target in line:\n",
    "        # grab the line where chapter 5 starts\n",
    "        start_index = cnt\n",
    "        \n",
    "        # exit the for loop by calling 'break'\n",
    "        break\n",
    "        \n",
    "    # if the current line does not have our search_target\n",
    "    # then we'll increment the counter to keep track of how\n",
    "    # many lines we've read...\n",
    "    else:\n",
    "        cnt += 1\n",
    "        \n",
    "# now use slicing to just keep the first keep_lines lines \n",
    "# after the search_target\n",
    "book = book[start_index:start_index + keep_lines]\n",
    "\n",
    "print(book)\n",
    "\n",
    "# Related to ps3, Q1: How would you do the slicing if you \n",
    "# wanted to keep **all** of the text in the book after search_target?\n",
    "# And how would do the slicing if you wanted to keep all of the text\n",
    "# after the search_target while excluding the line that contained the \n",
    "# search_target? "
   ]
  },
  {
   "cell_type": "markdown",
   "metadata": {},
   "source": [
    "### Find a target string and then keep the next N lines of text but this time use `enumerate`\n",
    "* See [here](https://realpython.com/python-enumerate/) for a nice explanation..."
   ]
  },
  {
   "cell_type": "code",
   "execution_count": 12,
   "metadata": {},
   "outputs": [
    {
     "name": "stdout",
     "output_type": "stream",
     "text": [
      "['It was on a dreary night of November that I beheld the accomplishment\\n', 'of my toils. With an anxiety that almost amounted to agony, I\\n', 'collected the instruments of life around me, that I might infuse a\\n', 'spark of being into the lifeless thing that lay at my feet. It was\\n', 'already one in the morning; the rain pattered dismally against the\\n', 'panes, and my candle was nearly burnt out, when, by the glimmer of the\\n', 'half-extinguished light, I saw the dull yellow eye of the creature\\n', 'open; it breathed hard, and a convulsive motion agitated its limbs.\\n', '\\n', 'How can I describe my emotions at this catastrophe, or how delineate\\n', 'the wretch whom with such infinite pains and care I had endeavoured to\\n', 'form? His limbs were in proportion, and I had selected his features as\\n', 'beautiful. Beautiful! Great God! His yellow skin scarcely covered\\n', 'the work of muscles and arteries beneath; his hair was of a lustrous\\n', 'black, and flowing; his teeth of a pearly whiteness; but these\\n', 'luxuriances only formed a more horrid contrast with his watery eyes,\\n', 'that seemed almost of the same colour as the dun-white sockets in which\\n', 'they were set, his shrivelled complexion and straight black lips.\\n', '\\n', 'The different accidents of life are not so changeable as the feelings\\n', 'of human nature. I had worked hard for nearly two years, for the sole\\n', 'purpose of infusing life into an inanimate body. For this I had\\n', 'deprived myself of rest and health. I had desired it with an ardour\\n', 'that far exceeded moderation; but now that I had finished, the beauty\\n', 'of the dream vanished, and breathless horror and disgust filled my\\n', 'heart. Unable to endure the aspect of the being I had created, I\\n', 'rushed out of the room and continued a long time traversing my\\n', 'bed-chamber, unable to compose my mind to sleep. At length lassitude\\n', 'succeeded to the tumult I had before endured, and I threw myself on the\\n', 'bed in my clothes, endeavouring to seek a few moments of forgetfulness.\\n', 'But it was in vain; I slept, indeed, but I was disturbed by the wildest\\n', 'dreams. I thought I saw Elizabeth, in the bloom of health, walking in\\n', 'the streets of Ingolstadt. Delighted and surprised, I embraced her,\\n', 'but as I imprinted the first kiss on her lips, they became livid with\\n', 'the hue of death; her features appeared to change, and I thought that I\\n', 'held the corpse of my dead mother in my arms; a shroud enveloped her\\n', 'form, and I saw the grave-worms crawling in the folds of the flannel.\\n', 'I started from my sleep with horror; a cold dew covered my forehead, my\\n', 'teeth chattered, and every limb became convulsed; when, by the dim and\\n', 'yellow light of the moon, as it forced its way through the window\\n', 'shutters, I beheld the wretch—the miserable monster whom I had\\n', 'created. He held up the curtain of the bed; and his eyes, if eyes they\\n', 'may be called, were fixed on me. His jaws opened, and he muttered some\\n', 'inarticulate sounds, while a grin wrinkled his cheeks. He might have\\n', 'spoken, but I did not hear; one hand was stretched out, seemingly to\\n', 'detain me, but I escaped and rushed downstairs. I took refuge in the\\n', 'courtyard belonging to the house which I inhabited, where I remained\\n', 'during the rest of the night, walking up and down in the greatest\\n', 'agitation, listening attentively, catching and fearing each sound as if\\n', 'it were to announce the approach of the demoniacal corpse to which I\\n']\n"
     ]
    }
   ],
   "source": [
    "# open our file for reading...\n",
    "with open('frankenstein.txt', 'r') as f:\n",
    "    # read the entire file...with each line \n",
    "    # returned as a string in a list\n",
    "    # we'll call the list 'book'\n",
    "    book = f.readlines()\n",
    "\n",
    "# now we can search the book for the text that we want, \n",
    "# which in this case is the first sentence of Chapter 5, which \n",
    "# starts with the string 'It was on a dreary night' \n",
    "search_target = 'It was on a dreary night'\n",
    "\n",
    "# how many lines of text do we want to keep \n",
    "# after we find the search target?\n",
    "keep_lines = 50\n",
    "\n",
    "# loop over each line in the book using enumerate\n",
    "# enumerate will automatically create and increment a counter \n",
    "# that we'll call 'cnt' and it will give you each line\n",
    "# in the book just like a normal for loop. \n",
    "for cnt, line in enumerate(book):\n",
    "    \n",
    "    # test to see if the current line has search_target in it\n",
    "    if search_target in line:\n",
    "        # grab the line where chapter 5 starts\n",
    "        start_index = cnt\n",
    "        \n",
    "        # exit the loop by calling 'break'\n",
    "        break\n",
    "        \n",
    "\n",
    "# now use slicing to just keep the first keep_lines lines \n",
    "# after the search_target\n",
    "book = book[start_index:start_index + keep_lines]\n",
    "\n",
    "print(book)\n",
    "\n",
    "# Related to ps3, Q1: How would you do the slicing if you \n",
    "# wanted to keep **all** of the text in the book after search_target?\n",
    "# And how would do the slicing if you wanted to keep all of the text\n",
    "# after the search_target while excluding the line that contained the \n",
    "# search_target? "
   ]
  },
  {
   "cell_type": "markdown",
   "metadata": {},
   "source": [
    "### Counting words in text...\n",
    "* Here we can count the occurence of each word in the book (or in the part of the book that you have left after slicing the book list in the code cell above). \n",
    "* Notice that there are some empty strings `''` in the list that we need to deal with (i.e. things that are not words, so we need to check for these so they don't get counted). We can do that in a few ways that I'll write out below. \n",
    "* Our general algorithm here will be: \n",
    "    * convert the list to a string to make it easier to clean\n",
    "    * remove the newline characters using the `.replace()` method (and if you are working with a string that has other stuff in it that you don't want you can define a string with all the unwanted characters and loop over each_letter in that string to `.replace()` each unwanted character using a `for` loop). \n",
    "    * convert back to a list\n",
    "    * initialize an empty dictionary\n",
    "    * loop over all unique words in the book - use `set` to get the unique words\n",
    "        * in this loop check to make sure we're not considering the empty strings `''`\n",
    "    * whenever we find a real word, create a new `key:value` pair in a dictionary with the word as the `key` and an initial value of `0`\n",
    "    * Now that the dictionary is set up and we have one key for each unique word, we can loop over **all** the words in the book, including repeated words, and increment the `value` associated with each `key`"
   ]
  },
  {
   "cell_type": "code",
   "execution_count": 13,
   "metadata": {},
   "outputs": [
    {
     "name": "stdout",
     "output_type": "stream",
     "text": [
      "{'delineate': 1, 'when,': 2, 'seemingly': 1, 'luxuriances': 1, 'these': 1, 'elizabeth,': 1, 'colour': 1, 'agitation,': 1, 'was': 7, 'exceeded': 1, 'dismally': 1, 'threw': 1, 'far': 1, 'bed-chamber,': 1, 'moderation;': 1, 'length': 1, 'it': 7, 'were': 4, 'ingolstadt.': 1, 'horror;': 1, 'lips,': 1, 'way': 1, 'succeeded': 1, 'enveloped': 1, 'bloom': 1, 'grin': 1, 'continued': 1, 'sounds,': 1, 'appeared': 1, 'straight': 1, 'did': 1, 'work': 1, 'in': 11, 'now': 1, 'formed': 1, 'hard,': 1, 'before': 1, 'inarticulate': 1, 'myself': 2, 'can': 1, 'heart.': 1, 'form,': 1, 'indeed,': 1, 'arms;': 1, 'wildest': 1, 'dreams.': 1, 'years,': 1, 'house': 1, 'slept,': 1, 'escaped': 1, 'breathed': 1, 'out': 1, 'how': 2, 'nature.': 1, 'flannel.': 1, 'shroud': 1, 'change,': 1, 'dead': 1, 'aspect': 1, 'lustrous': 1, 'embraced': 1, 'bed;': 1, 'kiss': 1, 'worked': 1, 'rest': 2, 'lay': 1, 'moments': 1, 'his': 10, 'by': 3, 'during': 1, 'room': 1, 'on': 4, 'not': 2, 'are': 1, 'endure': 1, 'candle': 1, 'pains': 1, 'demoniacal': 1, 'pearly': 1, 'announce': 1, 'inhabited,': 1, 'agony,': 1, 'changeable': 1, 'deprived': 1, 'chattered,': 1, 'proportion,': 1, 'attentively,': 1, 'contrast': 1, 'breathless': 1, 'seek': 1, 'convulsed;': 1, 'hear;': 1, 'endeavouring': 1, 'panes,': 1, 'tumult': 1, 'november': 1, 'burnt': 1, 'already': 1, 'amounted': 1, 'had': 9, 'same': 1, 'be': 1, 'took': 1, 'or': 1, 'dull': 1, 'glimmer': 1, 'horror': 1, 'her': 3, 'infusing': 1, 'being': 2, 'death;': 1, 'collected': 1, 'of': 27, 'dream': 1, 'few': 1, 'teeth': 2, 'compose': 1, 'vain;': 1, 'at': 3, 'approach': 1, 'for': 3, 'delighted': 1, 'cold': 1, 'beauty': 1, 'first': 1, 'selected': 1, 'every': 1, 'catastrophe,': 1, 'flowing;': 1, 'limbs.': 1, 'care': 1, 'scarcely': 1, 'hair': 1, 'god!': 1, 'different': 1, 'seemed': 1, 'shutters,': 1, 'mind': 1, 'feelings': 1, 'anxiety': 1, 'out,': 2, 'may': 1, 'light,': 1, 'moon,': 1, 'features': 2, 'limb': 1, 'rain': 1, 'a': 11, 'an': 3, 'saw': 3, 'thing': 1, 'my': 13, 'livid': 1, 'he': 3, 'i': 33, 'became': 2, 'listening': 1, 'which': 3, 'endured,': 1, 'hue': 1, 'unable': 2, 'accomplishment': 1, 'muscles': 1, 'light': 1, 'skin': 1, 'against': 1, 'cheeks.': 1, 'creature': 1, 'that': 8, 'forgetfulness.': 1, 'covered': 2, 'each': 1, 'bed': 1, 'filled': 1, 'where': 1, 'me.': 1, 'greatest': 1, 'instruments': 1, 'vanished,': 1, 'infinite': 1, 'thought': 2, 'beneath;': 1, 'yellow': 3, 'grave-worms': 1, 'eyes,': 2, 'endeavoured': 1, 'set,': 1, 'night,': 1, 'jaws': 1, 'rushed': 2, 'with': 6, 'half-extinguished': 1, 'miserable': 1, 'beautiful!': 1, 'hand': 1, 'refuge': 1, 'body.': 1, 'inanimate': 1, 'wretch': 1, 'held': 2, 'dun-white': 1, 'created,': 1, 'life': 3, 'beheld': 2, 'surprised,': 1, 'mother': 1, 'into': 2, 'purpose': 1, 'desired': 1, 'accidents': 1, 'sound': 1, 'dew': 1, 'beautiful.': 1, 'and': 22, 'disgust': 1, 'infuse': 1, 'so': 1, 'black,': 1, 'courtyard': 1, 'its': 2, 'health.': 1, 'clothes,': 1, 'some': 1, 'arteries': 1, 'disturbed': 1, 'down': 1, 'sleep': 1, 'watery': 1, 'horrid': 1, 'convulsive': 1, 'whom': 2, 'fearing': 1, 'toils.': 1, 'spark': 1, 'have': 1, 'black': 1, 'created.': 1, 'lips.': 1, 'pattered': 1, 'might': 2, 'her,': 1, 'as': 6, 'almost': 2, 'traversing': 1, 'fixed': 1, 'sole': 1, 'downstairs.': 1, 'lifeless': 1, 'night': 1, 'describe': 1, 'remained': 1, 'this': 2, 'open;': 1, 'nearly': 2, 'eyes': 1, 'window': 1, 'stretched': 1, 'folds': 1, 'form?': 1, 'they': 3, 'agitated': 1, 'complexion': 1, 'spoken,': 1, 'streets': 1, 'muttered': 1, 'sleep.': 1, 'up': 2, 'curtain': 1, 'time': 1, 'crawling': 1, 'such': 1, 'through': 1, 'dim': 1, 'dreary': 1, 'long': 1, 'shrivelled': 1, 'one': 2, 'belonging': 1, 'forced': 1, 'emotions': 1, 'sockets': 1, 'morning;': 1, 'only': 1, 'if': 2, 'eye': 1, 'started': 1, 'motion': 1, 'wretch—the': 1, 'limbs': 1, 'detain': 1, 'more': 1, 'finished,': 1, 'two': 1, 'ardour': 1, 'great': 1, 'imprinted': 1, 'but': 7, 'corpse': 2, 'catching': 1, 'the': 46, 'whiteness;': 1, 'wrinkled': 1, 'hard': 1, 'while': 1, 'feet.': 1, 'forehead,': 1, 'from': 1, 'monster': 1, 'lassitude': 1, 'to': 12, 'called,': 1, 'around': 1, 'human': 1, 'walking': 2, 'opened,': 1, 'me,': 2, 'health,': 1}\n"
     ]
    }
   ],
   "source": [
    "# turn the book list into a string to make it easier to remove things we don't want (like newline \n",
    "# characters)\n",
    "book_str = ''.join(book)\n",
    "\n",
    "# convert to lower case\n",
    "book_str = book_str.lower()\n",
    "\n",
    "# clean out the newline characters\n",
    "book_str = book_str.replace('\\n', ' ')\n",
    "\n",
    "# turn back into a list based on the location of spaces\n",
    "book_lst_clean = book_str.split(' ')\n",
    "\n",
    "# init a dictionary with a key for each unique \n",
    "# word, and 0 for the starting count\n",
    "wc = {}\n",
    "for w in set(book_lst_clean):\n",
    "    # because there are some empty strings in our list\n",
    "    # we can check here and we'll skip them \n",
    "    if w != '':\n",
    "        wc[w] = 0\n",
    "\n",
    "# now loop over **all** words in the book, even the repeated words\n",
    "# and count them up!\n",
    "for w in book_lst_clean:\n",
    "    if w != '':\n",
    "        wc[w] += 1\n",
    "\n",
    "# have a look at the dictionary...\n",
    "print(wc)"
   ]
  },
  {
   "cell_type": "markdown",
   "metadata": {},
   "source": [
    "### A slightly more compact way to count all the words in text using just one `for` loop\n",
    "* This might be easier to understand (or it might be harder) so just writing it out in case it helps...\n",
    "* I am using the `continue` statement (see below)...\n",
    "* Note that there are several other ways you could achieve the same result, so long as you are checking to make sure that the current word is not an empty string `''` somehow"
   ]
  },
  {
   "cell_type": "code",
   "execution_count": 14,
   "metadata": {},
   "outputs": [
    {
     "name": "stdout",
     "output_type": "stream",
     "text": [
      "{'it': 7, 'was': 7, 'on': 4, 'a': 11, 'dreary': 1, 'night': 1, 'of': 27, 'november': 1, 'that': 8, 'i': 33, 'beheld': 2, 'the': 46, 'accomplishment': 1, 'my': 13, 'toils.': 1, 'with': 6, 'an': 3, 'anxiety': 1, 'almost': 2, 'amounted': 1, 'to': 12, 'agony,': 1, 'collected': 1, 'instruments': 1, 'life': 3, 'around': 1, 'me,': 2, 'might': 2, 'infuse': 1, 'spark': 1, 'being': 2, 'into': 2, 'lifeless': 1, 'thing': 1, 'lay': 1, 'at': 3, 'feet.': 1, 'already': 1, 'one': 2, 'in': 11, 'morning;': 1, 'rain': 1, 'pattered': 1, 'dismally': 1, 'against': 1, 'panes,': 1, 'and': 22, 'candle': 1, 'nearly': 2, 'burnt': 1, 'out,': 2, 'when,': 2, 'by': 3, 'glimmer': 1, 'half-extinguished': 1, 'light,': 1, 'saw': 3, 'dull': 1, 'yellow': 3, 'eye': 1, 'creature': 1, 'open;': 1, 'breathed': 1, 'hard,': 1, 'convulsive': 1, 'motion': 1, 'agitated': 1, 'its': 2, 'limbs.': 1, 'how': 2, 'can': 1, 'describe': 1, 'emotions': 1, 'this': 2, 'catastrophe,': 1, 'or': 1, 'delineate': 1, 'wretch': 1, 'whom': 2, 'such': 1, 'infinite': 1, 'pains': 1, 'care': 1, 'had': 9, 'endeavoured': 1, 'form?': 1, 'his': 10, 'limbs': 1, 'were': 4, 'proportion,': 1, 'selected': 1, 'features': 2, 'as': 6, 'beautiful.': 1, 'beautiful!': 1, 'great': 1, 'god!': 1, 'skin': 1, 'scarcely': 1, 'covered': 2, 'work': 1, 'muscles': 1, 'arteries': 1, 'beneath;': 1, 'hair': 1, 'lustrous': 1, 'black,': 1, 'flowing;': 1, 'teeth': 2, 'pearly': 1, 'whiteness;': 1, 'but': 7, 'these': 1, 'luxuriances': 1, 'only': 1, 'formed': 1, 'more': 1, 'horrid': 1, 'contrast': 1, 'watery': 1, 'eyes,': 2, 'seemed': 1, 'same': 1, 'colour': 1, 'dun-white': 1, 'sockets': 1, 'which': 3, 'they': 3, 'set,': 1, 'shrivelled': 1, 'complexion': 1, 'straight': 1, 'black': 1, 'lips.': 1, 'different': 1, 'accidents': 1, 'are': 1, 'not': 2, 'so': 1, 'changeable': 1, 'feelings': 1, 'human': 1, 'nature.': 1, 'worked': 1, 'hard': 1, 'for': 3, 'two': 1, 'years,': 1, 'sole': 1, 'purpose': 1, 'infusing': 1, 'inanimate': 1, 'body.': 1, 'deprived': 1, 'myself': 2, 'rest': 2, 'health.': 1, 'desired': 1, 'ardour': 1, 'far': 1, 'exceeded': 1, 'moderation;': 1, 'now': 1, 'finished,': 1, 'beauty': 1, 'dream': 1, 'vanished,': 1, 'breathless': 1, 'horror': 1, 'disgust': 1, 'filled': 1, 'heart.': 1, 'unable': 2, 'endure': 1, 'aspect': 1, 'created,': 1, 'rushed': 2, 'out': 1, 'room': 1, 'continued': 1, 'long': 1, 'time': 1, 'traversing': 1, 'bed-chamber,': 1, 'compose': 1, 'mind': 1, 'sleep.': 1, 'length': 1, 'lassitude': 1, 'succeeded': 1, 'tumult': 1, 'before': 1, 'endured,': 1, 'threw': 1, 'bed': 1, 'clothes,': 1, 'endeavouring': 1, 'seek': 1, 'few': 1, 'moments': 1, 'forgetfulness.': 1, 'vain;': 1, 'slept,': 1, 'indeed,': 1, 'disturbed': 1, 'wildest': 1, 'dreams.': 1, 'thought': 2, 'elizabeth,': 1, 'bloom': 1, 'health,': 1, 'walking': 2, 'streets': 1, 'ingolstadt.': 1, 'delighted': 1, 'surprised,': 1, 'embraced': 1, 'her,': 1, 'imprinted': 1, 'first': 1, 'kiss': 1, 'her': 3, 'lips,': 1, 'became': 2, 'livid': 1, 'hue': 1, 'death;': 1, 'appeared': 1, 'change,': 1, 'held': 2, 'corpse': 2, 'dead': 1, 'mother': 1, 'arms;': 1, 'shroud': 1, 'enveloped': 1, 'form,': 1, 'grave-worms': 1, 'crawling': 1, 'folds': 1, 'flannel.': 1, 'started': 1, 'from': 1, 'sleep': 1, 'horror;': 1, 'cold': 1, 'dew': 1, 'forehead,': 1, 'chattered,': 1, 'every': 1, 'limb': 1, 'convulsed;': 1, 'dim': 1, 'light': 1, 'moon,': 1, 'forced': 1, 'way': 1, 'through': 1, 'window': 1, 'shutters,': 1, 'wretch—the': 1, 'miserable': 1, 'monster': 1, 'created.': 1, 'he': 3, 'up': 2, 'curtain': 1, 'bed;': 1, 'if': 2, 'eyes': 1, 'may': 1, 'be': 1, 'called,': 1, 'fixed': 1, 'me.': 1, 'jaws': 1, 'opened,': 1, 'muttered': 1, 'some': 1, 'inarticulate': 1, 'sounds,': 1, 'while': 1, 'grin': 1, 'wrinkled': 1, 'cheeks.': 1, 'have': 1, 'spoken,': 1, 'did': 1, 'hear;': 1, 'hand': 1, 'stretched': 1, 'seemingly': 1, 'detain': 1, 'escaped': 1, 'downstairs.': 1, 'took': 1, 'refuge': 1, 'courtyard': 1, 'belonging': 1, 'house': 1, 'inhabited,': 1, 'where': 1, 'remained': 1, 'during': 1, 'night,': 1, 'down': 1, 'greatest': 1, 'agitation,': 1, 'listening': 1, 'attentively,': 1, 'catching': 1, 'fearing': 1, 'each': 1, 'sound': 1, 'announce': 1, 'approach': 1, 'demoniacal': 1}\n"
     ]
    }
   ],
   "source": [
    "# turn the book list into a string to make it easier to remove things we don't want (like newline \n",
    "# characters)\n",
    "book_str = ''.join(book)\n",
    "\n",
    "# convert to lower case\n",
    "book_str = book_str.lower()\n",
    "\n",
    "# clean out the newline characters\n",
    "book_str = book_str.replace('\\n', ' ')\n",
    "\n",
    "# turn back into a list based on the location of spaces\n",
    "book_lst_clean = book_str.split(' ')\n",
    "\n",
    "# init an empty dictionary\n",
    "wc = {}   # or you can use dict()\n",
    "\n",
    "# now loop over **all** words in the book, even the repeated words\n",
    "# and count them up!\n",
    "for w in book_lst_clean:\n",
    "    \n",
    "    # if w is not a word (i.e. it is an empty string)\n",
    "    # then continue, where continue means \"go back to the \n",
    "    # top of the for loop and skip the rest of the code in\n",
    "    # the loop\"\n",
    "    if not w:\n",
    "        continue\n",
    "    \n",
    "    # if w is a word, and its not already in our dictionary\n",
    "    # then make a new key and assign a value of 0\n",
    "    if w not in wc:\n",
    "        wc[w] = 0\n",
    "    \n",
    "    # increment a counter each time the word w appears...\n",
    "    # note that you only get to this line of code if w\n",
    "    # is indeed a word (the if not w: continue\n",
    "    # line above will prevent you from getting here if w is\n",
    "    # not a word)\n",
    "    wc[w] += 1\n",
    "\n",
    "# have a look at the dictionary...\n",
    "print(wc)"
   ]
  },
  {
   "cell_type": "markdown",
   "metadata": {},
   "source": [
    "### Find the most common word in text. \n",
    "* To find the most common word, you can loop over our word count dictionary (`wc`, defined above)\n",
    "* Basic approach: \n",
    "    * Initialize a counter (lets call it `max_count`) to `0`\n",
    "    * Loop over `key:value` pairs in `wc` using the `.items()` method\n",
    "    * If the current `value` exceeds `max_count`, then update `max_count` with that value and also store the current `key`"
   ]
  },
  {
   "cell_type": "code",
   "execution_count": 15,
   "metadata": {},
   "outputs": [
    {
     "name": "stdout",
     "output_type": "stream",
     "text": [
      "The most common word is \"the\", it occured 46 times\n"
     ]
    }
   ],
   "source": [
    "# init max_count to 0\n",
    "max_count = 0\n",
    "\n",
    "# loop over the key:value pairs in wc\n",
    "for k,v in wc.items():\n",
    "    \n",
    "    # if the current value exceeds the previous value of \n",
    "    # max_count, then reassign max_count to the current value\n",
    "    # and save the associated key (which is the actual word)\n",
    "    if v > max_count:\n",
    "        max_count = v\n",
    "        most_common_word = k\n",
    "        \n",
    "print(f'The most common word is \"{most_common_word}\", it occured {max_count} times')\n",
    "    "
   ]
  }
 ],
 "metadata": {
  "kernelspec": {
   "display_name": "Python 3 (ipykernel)",
   "language": "python",
   "name": "python3"
  },
  "language_info": {
   "codemirror_mode": {
    "name": "ipython",
    "version": 3
   },
   "file_extension": ".py",
   "mimetype": "text/x-python",
   "name": "python",
   "nbconvert_exporter": "python",
   "pygments_lexer": "ipython3",
   "version": "3.9.7"
  }
 },
 "nbformat": 4,
 "nbformat_minor": 1
}