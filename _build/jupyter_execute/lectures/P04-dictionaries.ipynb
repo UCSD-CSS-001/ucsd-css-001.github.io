{
 "cells": [
  {
   "cell_type": "markdown",
   "metadata": {
    "collapsed": false
   },
   "source": [
    "# P04: dictionaries, sets, and files\n",
    "- **Concepts**: ordered vs not, hash\n",
    "- **Python dict, set**: hashable, set, dict, .update(), del\n",
    "- **Python files**: open, close, with open as fp\n",
    "\n",
    "## Concepts\n",
    "\n",
    "### Hashable, immutable\n",
    "\n",
    "- [**Immutable**](https://en.wikipedia.org/wiki/Immutable_object) variables/objects cannot be changed after they are created.  For instance, in Python, a string cannot be modified, it can just be replaced with a new string.  In contrast, a list can be modified: you can add new items to it without creating a new list object.\n",
    "\n",
    "- **Hashable** variables/objects are immutable, and can support the calculation of a [hash](https://en.wikipedia.org/wiki/Hash_function).  This includes integers, floats, strings, tuples, booleans.\n",
    "\n",
    "### Sets\n",
    "\n",
    "### Dictionary: Hash-table / mapping\n",
    "\n",
    "### Files\n",
    "\n",
    "#### Paths\n",
    "\n",
    "#### Formats\n",
    "\n",
    "## Python\n"
   ]
  },
  {
   "cell_type": "markdown",
   "metadata": {
    "collapsed": false
   },
   "source": [
    "\n",
    "### Dictionaries\n",
    "\n",
    "\n",
    "Dictionaries are *unordered*, *mutable*, *collections*, of *key*-*value* pairs.  They are a mapping from *distinct*, *hashable* keys, onto values.\n",
    "\n",
    "In Python dictionaries are like lists in that they:\n",
    " - are *mutable* (so you can change them),\n",
    " - are *collections* of other objects (so you can iterate over them, get their `len()`, check membership with `in`).\n",
    " - you can get items with square brackets `[]` (but not with integer index)\n",
    "\n",
    "However, they are unlike lists in that:\n",
    "- they are *unordered* so they cannot be indexed with integers or sliced.\n",
    "- the are *mappings* between *distinct*, *hashable* keys, and values.\n",
    "\n",
    "Dictionaries are created with `dict()`, or with `{key:value}` notation."
   ]
  },
  {
   "cell_type": "code",
   "execution_count": 1,
   "metadata": {
    "collapsed": false,
    "pycharm": {
     "name": "#%%\n"
    }
   },
   "outputs": [
    {
     "name": "stdout",
     "output_type": "stream",
     "text": [
      "{'CSS2': 'Data/Model Python', 'CSS1': 'Intro Python'}\n"
     ]
    }
   ],
   "source": [
    "courses = dict()\n",
    "courses['CSS2'] = 'Data/Model Python'\n",
    "courses['CSS1'] = 'Intro Python'\n",
    "print(courses)\n",
    "\n",
    "courses = {'CSS2': 'Data/Model Python', 'CSS1': 'Intro Python'}"
   ]
  },
  {
   "cell_type": "markdown",
   "metadata": {
    "collapsed": false
   },
   "source": [
    "Dictionary elements can be accessed via their keys."
   ]
  },
  {
   "cell_type": "code",
   "execution_count": 2,
   "metadata": {
    "collapsed": false,
    "pycharm": {
     "name": "#%%\n"
    }
   },
   "outputs": [
    {
     "name": "stdout",
     "output_type": "stream",
     "text": [
      "Intro Python\n"
     ]
    }
   ],
   "source": [
    "print(courses['CSS1'])"
   ]
  },
  {
   "cell_type": "markdown",
   "metadata": {
    "collapsed": false
   },
   "source": [
    "Items can be added to dictionaries by assigning to new keys,"
   ]
  },
  {
   "cell_type": "code",
   "execution_count": 3,
   "metadata": {
    "collapsed": false,
    "pycharm": {
     "name": "#%%\n"
    }
   },
   "outputs": [
    {
     "name": "stdout",
     "output_type": "stream",
     "text": [
      "{'CSS2': 'Data/Model Python', 'CSS1': 'Intro Python', 'ABB': 'Is this a course?'}\n"
     ]
    }
   ],
   "source": [
    "courses['ABB'] = 'Is this a course?'\n",
    "print(courses)"
   ]
  },
  {
   "cell_type": "markdown",
   "metadata": {
    "collapsed": false
   },
   "source": [
    "Dictionaries can be updated with `.update()`, which will add new keys, and update the values of existing keys."
   ]
  },
  {
   "cell_type": "code",
   "execution_count": 4,
   "metadata": {
    "collapsed": false,
    "pycharm": {
     "name": "#%%\n"
    }
   },
   "outputs": [
    {
     "name": "stdout",
     "output_type": "stream",
     "text": [
      "{'CSS2': 'Data/Model Python', 'CSS1': 'Intro Python', 'ABB': 'this is not a course', 'CSS100': 'Analytic Programming'}\n"
     ]
    }
   ],
   "source": [
    "new_courses = {'ABB': 'this is not a course', 'CSS100':'Analytic Programming'}\n",
    "courses.update(new_courses)\n",
    "print(courses)"
   ]
  },
  {
   "cell_type": "markdown",
   "metadata": {
    "collapsed": false
   },
   "source": [
    "Elements of dictionaries can be deleted with the `del` keyword:"
   ]
  },
  {
   "cell_type": "code",
   "execution_count": 5,
   "metadata": {
    "collapsed": false,
    "pycharm": {
     "name": "#%%\n"
    }
   },
   "outputs": [
    {
     "name": "stdout",
     "output_type": "stream",
     "text": [
      "{'CSS2': 'Data/Model Python', 'CSS1': 'Intro Python', 'CSS100': 'Analytic Programming'}\n"
     ]
    }
   ],
   "source": [
    "del courses['ABB']\n",
    "print(courses)"
   ]
  },
  {
   "cell_type": "markdown",
   "metadata": {
    "collapsed": false
   },
   "source": [
    "You can check if a key exists in a dictionary with `in`:"
   ]
  },
  {
   "cell_type": "code",
   "execution_count": 6,
   "metadata": {
    "collapsed": false,
    "pycharm": {
     "name": "#%%\n"
    }
   },
   "outputs": [
    {
     "name": "stdout",
     "output_type": "stream",
     "text": [
      "True\n",
      "False\n"
     ]
    }
   ],
   "source": [
    "print('CSS1' in courses)\n",
    "print('ABB' in courses)"
   ]
  },
  {
   "cell_type": "markdown",
   "metadata": {
    "collapsed": false
   },
   "source": [
    "\n",
    "\n",
    "#### Keys, Values, Items\n",
    "\n",
    "You can get (or iterate over) just the keys with `.keys()`."
   ]
  },
  {
   "cell_type": "code",
   "execution_count": 7,
   "metadata": {
    "collapsed": false,
    "pycharm": {
     "name": "#%%\n"
    }
   },
   "outputs": [
    {
     "name": "stdout",
     "output_type": "stream",
     "text": [
      "dict_keys(['CSS2', 'CSS1', 'CSS100'])\n",
      "\n",
      "CSS2\n",
      "CSS1\n",
      "CSS100\n"
     ]
    }
   ],
   "source": [
    "print(courses.keys())\n",
    "print('')\n",
    "for k in courses.keys():\n",
    "    print(k)"
   ]
  },
  {
   "cell_type": "markdown",
   "metadata": {
    "collapsed": false
   },
   "source": [
    "You can get just the values with `.values()`."
   ]
  },
  {
   "cell_type": "code",
   "execution_count": 8,
   "metadata": {
    "collapsed": false,
    "pycharm": {
     "name": "#%%\n"
    }
   },
   "outputs": [
    {
     "name": "stdout",
     "output_type": "stream",
     "text": [
      "dict_values(['Data/Model Python', 'Intro Python', 'Analytic Programming'])\n",
      "\n",
      "Data/Model Python\n",
      "Intro Python\n",
      "Analytic Programming\n"
     ]
    }
   ],
   "source": [
    "print(courses.values())\n",
    "print('')\n",
    "for v in courses.values():\n",
    "    print(v)"
   ]
  },
  {
   "cell_type": "markdown",
   "metadata": {
    "collapsed": false
   },
   "source": [
    "You can get key-value pairs (as tuples) with `.items()`."
   ]
  },
  {
   "cell_type": "code",
   "execution_count": 9,
   "metadata": {
    "collapsed": false,
    "pycharm": {
     "name": "#%%\n"
    }
   },
   "outputs": [
    {
     "name": "stdout",
     "output_type": "stream",
     "text": [
      "dict_items([('CSS2', 'Data/Model Python'), ('CSS1', 'Intro Python'), ('CSS100', 'Analytic Programming')])\n",
      "\n",
      "('CSS2', 'Data/Model Python')\n",
      "('CSS1', 'Intro Python')\n",
      "('CSS100', 'Analytic Programming')\n"
     ]
    }
   ],
   "source": [
    "print(courses.items())\n",
    "print('')\n",
    "for pair in courses.items():\n",
    "    print(pair)"
   ]
  },
  {
   "cell_type": "markdown",
   "metadata": {
    "collapsed": false
   },
   "source": [
    "It is often useful to do assignment unpacking, to unpack the (key,value) tuple into two variables:"
   ]
  },
  {
   "cell_type": "code",
   "execution_count": 10,
   "metadata": {
    "collapsed": false,
    "pycharm": {
     "name": "#%%\n"
    }
   },
   "outputs": [
    {
     "name": "stdout",
     "output_type": "stream",
     "text": [
      "Course number CSS2 is titled Data/Model Python\n",
      "Course number CSS1 is titled Intro Python\n",
      "Course number CSS100 is titled Analytic Programming\n"
     ]
    }
   ],
   "source": [
    "for k,v in courses.items():\n",
    "    print(f'Course number {k} is titled {v}')"
   ]
  },
  {
   "cell_type": "markdown",
   "metadata": {
    "collapsed": false
   },
   "source": [
    "#### Sorting\n",
    "\n",
    "As you saw above, the order of key-value pairs in a dictionary is determined by when they were added.  Often we want to sort the contents either by the keys, or by the values.   In either case, to get a sorted dictionary, we will end up making a new dictionary by inserting key-value pairs in a sorted order.\n",
    "\n",
    "**By keys**"
   ]
  },
  {
   "cell_type": "code",
   "execution_count": 11,
   "metadata": {
    "collapsed": false,
    "pycharm": {
     "name": "#%%\n"
    }
   },
   "outputs": [
    {
     "name": "stdout",
     "output_type": "stream",
     "text": [
      "{'CSS2': 'Data/Model Python', 'CSS1': 'Intro Python', 'CSS100': 'Analytic Programming'}\n",
      "{'CSS1': 'Intro Python', 'CSS100': 'Analytic Programming', 'CSS2': 'Data/Model Python'}\n"
     ]
    }
   ],
   "source": [
    "sorted_courses = dict()\n",
    "for k in sorted(courses.keys()):\n",
    "    sorted_courses[k] = courses[k]\n",
    "\n",
    "print(courses)\n",
    "print(sorted_courses)"
   ]
  },
  {
   "cell_type": "markdown",
   "metadata": {
    "collapsed": false
   },
   "source": [
    "**By values**\n",
    "\n",
    "Sorting by values is a bit tricky -- we can sort the values, but we have no reliable way to figure out which keys were associated with the sorted values.  Consequently, we have to sort the key-value items.  But doing so requires that we can tell the `sorted` function to use the second element of the pair to sort.  This is all doable, but involves either writing an anonymous function (not hard, we just havent covered it yet), or importing a library that creates that anonymous function for us.\n",
    "\n",
    "We will show you how to do this using the `itemgetter` function from the `operator` library"
   ]
  },
  {
   "cell_type": "code",
   "execution_count": 12,
   "metadata": {
    "collapsed": false,
    "pycharm": {
     "name": "#%%\n"
    }
   },
   "outputs": [
    {
     "name": "stdout",
     "output_type": "stream",
     "text": [
      "before sorting, items in order of insertion:  \n",
      "('CSS2', 'Data/Model Python')\n",
      "('CSS1', 'Intro Python')\n",
      "('CSS100', 'Analytic Programming')\n",
      "default sorting sorts by first element of pair (key):  \n",
      "('CSS1', 'Intro Python')\n",
      "('CSS100', 'Analytic Programming')\n",
      "('CSS2', 'Data/Model Python')\n",
      "sorting by the second element (index=1) of the pair with key=itemgetter(1):  \n",
      "('CSS100', 'Analytic Programming')\n",
      "('CSS2', 'Data/Model Python')\n",
      "('CSS1', 'Intro Python')\n"
     ]
    }
   ],
   "source": [
    "from operator import itemgetter # this imports the itemgetter function\n",
    "print(\"before sorting, items in order of insertion:  \")\n",
    "for item in courses.items():\n",
    "    print(item)\n",
    "\n",
    "print(\"default sorting sorts by first element of pair (key):  \")\n",
    "for item in sorted(courses.items()):\n",
    "    print(item)\n",
    "\n",
    "print(\"sorting by the second element (index=1) of the pair with key=itemgetter(1):  \")\n",
    "for item in sorted(courses.items(), key=itemgetter(1)):\n",
    "    print(item)"
   ]
  },
  {
   "cell_type": "markdown",
   "metadata": {
    "collapsed": false
   },
   "source": [
    "Making a new sorted dictionary:"
   ]
  },
  {
   "cell_type": "code",
   "execution_count": 13,
   "metadata": {
    "collapsed": false,
    "pycharm": {
     "name": "#%%\n"
    }
   },
   "outputs": [
    {
     "name": "stdout",
     "output_type": "stream",
     "text": [
      "{'CSS100': 'Analytic Programming', 'CSS2': 'Data/Model Python', 'CSS1': 'Intro Python'}\n"
     ]
    }
   ],
   "source": [
    "courses_by_title = dict()\n",
    "\n",
    "for number,title in sorted(courses.items(), key=itemgetter(1)):\n",
    "    courses_by_title[number] = title\n",
    "\n",
    "print(courses_by_title)"
   ]
  },
  {
   "cell_type": "markdown",
   "metadata": {
    "collapsed": false
   },
   "source": [
    "Finally, for a very pithy, advanced syntax, we could do it with dictionary comprehension:"
   ]
  },
  {
   "cell_type": "code",
   "execution_count": 14,
   "metadata": {
    "collapsed": false,
    "pycharm": {
     "name": "#%%\n"
    }
   },
   "outputs": [
    {
     "name": "stdout",
     "output_type": "stream",
     "text": [
      "{'CSS100': 'Analytic Programming', 'CSS2': 'Data/Model Python', 'CSS1': 'Intro Python'}\n"
     ]
    }
   ],
   "source": [
    "courses_by_title = {k:v for k,v in sorted(courses.items(), key=itemgetter(1))}\n",
    "print(courses_by_title)"
   ]
  },
  {
   "cell_type": "markdown",
   "metadata": {
    "collapsed": false
   },
   "source": [
    "\n",
    "\n",
    "## Dictionaries\n"
   ]
  },
  {
   "cell_type": "markdown",
   "metadata": {
    "collapsed": false
   },
   "source": [
    "<div class=\"alert alert-success\">\n",
    "A dictionary is mutable collection of items, that can be of mixed-type, that are stored as key-value pairs.\n",
    "</div>"
   ]
  },
  {
   "cell_type": "markdown",
   "metadata": {
    "collapsed": false
   },
   "source": [
    "### Dictionaries as Key-Value Collections"
   ]
  },
  {
   "cell_type": "code",
   "execution_count": 15,
   "metadata": {
    "collapsed": false,
    "pycharm": {
     "name": "#%%\n"
    }
   },
   "outputs": [],
   "source": [
    "# Create a dictionary\n",
    "dictionary = {'key_1' : 'value_1', 'key_2' : 'value_2'}"
   ]
  },
  {
   "cell_type": "code",
   "execution_count": 16,
   "metadata": {
    "collapsed": false,
    "pycharm": {
     "name": "#%%\n"
    }
   },
   "outputs": [
    {
     "name": "stdout",
     "output_type": "stream",
     "text": [
      "{'key_1': 'value_1', 'key_2': 'value_2'}\n"
     ]
    }
   ],
   "source": [
    "# Check the contents of the dictionary\n",
    "print(dictionary)"
   ]
  },
  {
   "cell_type": "code",
   "execution_count": 17,
   "metadata": {
    "collapsed": false,
    "pycharm": {
     "name": "#%%\n"
    }
   },
   "outputs": [
    {
     "data": {
      "text/plain": [
       "dict"
      ]
     },
     "execution_count": 17,
     "metadata": {},
     "output_type": "execute_result"
    }
   ],
   "source": [
    "# Check the type of the dictionary\n",
    "type(dictionary)"
   ]
  },
  {
   "cell_type": "code",
   "execution_count": 18,
   "metadata": {
    "collapsed": false,
    "pycharm": {
     "name": "#%%\n"
    }
   },
   "outputs": [
    {
     "data": {
      "text/plain": [
       "2"
      ]
     },
     "execution_count": 18,
     "metadata": {},
     "output_type": "execute_result"
    }
   ],
   "source": [
    "# Dictionaries also have a length\n",
    "# length refers to how many pairs there are\n",
    "len(dictionary)"
   ]
  },
  {
   "cell_type": "markdown",
   "metadata": {
    "collapsed": false
   },
   "source": [
    "### Dictionaries: Indexing & Looping"
   ]
  },
  {
   "cell_type": "code",
   "execution_count": 19,
   "metadata": {
    "collapsed": false,
    "pycharm": {
     "name": "#%%\n"
    }
   },
   "outputs": [
    {
     "data": {
      "text/plain": [
       "'value_1'"
      ]
     },
     "execution_count": 19,
     "metadata": {},
     "output_type": "execute_result"
    }
   ],
   "source": [
    "# Dictionaries are indexed using their keys\n",
    "dictionary['key_1']"
   ]
  },
  {
   "cell_type": "code",
   "execution_count": 20,
   "metadata": {
    "collapsed": false,
    "pycharm": {
     "name": "#%%\n"
    }
   },
   "outputs": [
    {
     "name": "stdout",
     "output_type": "stream",
     "text": [
      "Loop Iteration\n",
      "\tKey:\t key_1\n",
      "\tValue:\t value_1\n",
      "Loop Iteration\n",
      "\tKey:\t key_2\n",
      "\tValue:\t value_2\n"
     ]
    }
   ],
   "source": [
    "# Loop over a dictionary loops across the keys\n",
    "#   Inside the loop, you can use the key to access the associated value\n",
    "for item in dictionary:\n",
    "    print('Loop Iteration')\n",
    "    print('\\tKey:\\t', item)\n",
    "    print('\\tValue:\\t', dictionary[item])"
   ]
  },
  {
   "cell_type": "code",
   "execution_count": 21,
   "metadata": {
    "collapsed": false,
    "pycharm": {
     "name": "#%%\n"
    }
   },
   "outputs": [
    {
     "name": "stdout",
     "output_type": "stream",
     "text": [
      "Loop Iteration\n",
      "\tKey:\t key_1\n",
      "\tValue:\t value_1\n",
      "Loop Iteration\n",
      "\tKey:\t key_2\n",
      "\tValue:\t value_2\n"
     ]
    }
   ],
   "source": [
    "# another approach that you will find if you Google\n",
    "for key, val in dictionary.items():\n",
    "    print('Loop Iteration')\n",
    "    print('\\tKey:\\t', key)\n",
    "    print('\\tValue:\\t', val)"
   ]
  },
  {
   "cell_type": "markdown",
   "metadata": {
    "collapsed": false
   },
   "source": [
    "#### Clicker Question #1\n",
    "\n",
    "Which of the following would create a dictionary of length 3?\n",
    "\n",
    "- A) `{'Student_1' : 97, 'Student_2'}`\n",
    "- B) `{'Student_1', 'Student_2', 'Student_3'}`\n",
    "- C) `['Student_1' : 97, 'Student_2': 88, 'Student_3' : 91]`\n",
    "- D) `{'Student_1' : 97, 'Student_2': 88, 'Student_3' : 91}`\n",
    "- E) `('Student_1' : 97, 'Student_2': 88, 'Student_3' : 91)`\n"
   ]
  },
  {
   "cell_type": "markdown",
   "metadata": {
    "collapsed": false
   },
   "source": [
    "#### Clicker Question #2\n",
    "\n",
    "Fill in the '---' in the code below to return the value stored in the second key."
   ]
  },
  {
   "cell_type": "code",
   "execution_count": 22,
   "metadata": {
    "collapsed": false,
    "pycharm": {
     "name": "#%%\n"
    }
   },
   "outputs": [
    {
     "data": {
      "text/plain": [
       "68"
      ]
     },
     "execution_count": 22,
     "metadata": {},
     "output_type": "execute_result"
    }
   ],
   "source": [
    "height_dict = {'height_1' : 60, 'height_2': 68, 'height_3' : 65, 'height_4' : 72}\n",
    "height_dict['height_2']"
   ]
  },
  {
   "cell_type": "markdown",
   "metadata": {
    "collapsed": false
   },
   "source": [
    "- A) I did it\n",
    "- B) I think I did it...\n",
    "- C) I tried and am stuck\n",
    "- D) No clue where to start..."
   ]
  },
  {
   "cell_type": "markdown",
   "metadata": {
    "collapsed": false
   },
   "source": [
    "### Example Dictionaries"
   ]
  },
  {
   "cell_type": "code",
   "execution_count": 23,
   "metadata": {
    "collapsed": false,
    "pycharm": {
     "name": "#%%\n"
    }
   },
   "outputs": [
    {
     "data": {
      "text/plain": [
       "{'Betty Jennings': 'bjennings@eniac.org',\n",
       " 'Ada Lovelace': 'ada@analyticengine.com',\n",
       " 'Alan Turing': 'aturing@thebomb.gov',\n",
       " 'Grace Hopper': 'ghopper@navy.usa'}"
      ]
     },
     "execution_count": 23,
     "metadata": {},
     "output_type": "execute_result"
    }
   ],
   "source": [
    "student_emails = {\n",
    "    'Betty Jennings' : 'bjennings@eniac.org',\n",
    "    'Ada Lovelace' : 'ada@analyticengine.com',\n",
    "    'Alan Turing' : 'aturing@thebomb.gov',\n",
    "    'Grace Hopper' : 'ghopper@navy.usa'\n",
    "}\n",
    "\n",
    "student_emails"
   ]
  },
  {
   "cell_type": "code",
   "execution_count": 24,
   "metadata": {
    "collapsed": false,
    "pycharm": {
     "name": "#%%\n"
    }
   },
   "outputs": [
    {
     "data": {
      "text/plain": [
       "{'A1234': True, 'A5678': False, 'A9123': True}"
      ]
     },
     "execution_count": 24,
     "metadata": {},
     "output_type": "execute_result"
    }
   ],
   "source": [
    "completed_coding_lab = {\n",
    "    'A1234' : True,\n",
    "    'A5678' : False,\n",
    "    'A9123' : True\n",
    "}\n",
    "\n",
    "completed_coding_lab"
   ]
  },
  {
   "cell_type": "code",
   "execution_count": 25,
   "metadata": {
    "collapsed": false,
    "pycharm": {
     "name": "#%%\n"
    }
   },
   "outputs": [
    {
     "data": {
      "text/plain": [
       "{True: [1, 2, 3], False: None}"
      ]
     },
     "execution_count": 25,
     "metadata": {},
     "output_type": "execute_result"
    }
   ],
   "source": [
    "mixed_types = {\n",
    "    True  : [1, 2, 3],\n",
    "    False : None\n",
    "}\n",
    "\n",
    "mixed_types"
   ]
  },
  {
   "cell_type": "markdown",
   "metadata": {
    "collapsed": false
   },
   "source": [
    "#### Clicker Question #3\n",
    "\n",
    "Write the code that would create a dictionary `car` that stores values about your dream car's `make`, `model`, and `year`.\n",
    "\n",
    "- A) I did it\n",
    "- B) I think I did it...\n",
    "- C) I tried and am stuck\n",
    "- D) No clue where to start..."
   ]
  },
  {
   "cell_type": "code",
   "execution_count": 26,
   "metadata": {
    "collapsed": false,
    "pycharm": {
     "name": "#%%\n"
    }
   },
   "outputs": [
    {
     "data": {
      "text/plain": [
       "{'make': 'Hyundai', 'model': 'Santa Fe', 'year': 2017}"
      ]
     },
     "execution_count": 26,
     "metadata": {},
     "output_type": "execute_result"
    }
   ],
   "source": [
    "# YOUR CODE HERE\n",
    "car = {'make':'Hyundai',\n",
    "       'model':'Santa Fe',\n",
    "       'year':2017}\n",
    "car"
   ]
  },
  {
   "cell_type": "markdown",
   "metadata": {
    "collapsed": false
   },
   "source": [
    "### Dictionaries are mutable\n",
    "\n",
    "This means that dictionaries, once created, values *can* be updated."
   ]
  },
  {
   "cell_type": "code",
   "execution_count": 27,
   "metadata": {
    "collapsed": false,
    "pycharm": {
     "name": "#%%\n"
    }
   },
   "outputs": [
    {
     "data": {
      "text/plain": [
       "{'A1234': True, 'A5678': False, 'A9123': True}"
      ]
     },
     "execution_count": 27,
     "metadata": {},
     "output_type": "execute_result"
    }
   ],
   "source": [
    "# remember what dictionary we created above\n",
    "completed_coding_lab"
   ]
  },
  {
   "cell_type": "code",
   "execution_count": 28,
   "metadata": {
    "collapsed": false,
    "pycharm": {
     "name": "#%%\n"
    }
   },
   "outputs": [
    {
     "data": {
      "text/plain": [
       "{'A1234': True, 'A5678': True, 'A9123': True}"
      ]
     },
     "execution_count": 28,
     "metadata": {},
     "output_type": "execute_result"
    }
   ],
   "source": [
    "# change value of specified key\n",
    "completed_coding_lab['A5678'] = True\n",
    "completed_coding_lab"
   ]
  },
  {
   "cell_type": "markdown",
   "metadata": {
    "collapsed": false
   },
   "source": [
    "Because dictionaries are mutable, key-value pairs can also be removed from the dictionary using `del`."
   ]
  },
  {
   "cell_type": "code",
   "execution_count": 29,
   "metadata": {
    "collapsed": false,
    "pycharm": {
     "name": "#%%\n"
    }
   },
   "outputs": [
    {
     "name": "stdout",
     "output_type": "stream",
     "text": [
      "{'A1234': True, 'A5678': True, 'A9123': True}\n"
     ]
    },
    {
     "data": {
      "text/plain": [
       "3"
      ]
     },
     "execution_count": 29,
     "metadata": {},
     "output_type": "execute_result"
    }
   ],
   "source": [
    "print(completed_coding_lab)\n",
    "len(completed_coding_lab)"
   ]
  },
  {
   "cell_type": "code",
   "execution_count": 30,
   "metadata": {
    "collapsed": false,
    "pycharm": {
     "name": "#%%\n"
    }
   },
   "outputs": [
    {
     "name": "stdout",
     "output_type": "stream",
     "text": [
      "{'A1234': True, 'A9123': True}\n"
     ]
    },
    {
     "data": {
      "text/plain": [
       "2"
      ]
     },
     "execution_count": 30,
     "metadata": {},
     "output_type": "execute_result"
    }
   ],
   "source": [
    "## remove key-value pair using del\n",
    "del completed_coding_lab['A5678']\n",
    "\n",
    "print(completed_coding_lab)\n",
    "len(completed_coding_lab)"
   ]
  },
  {
   "cell_type": "markdown",
   "metadata": {
    "collapsed": false
   },
   "source": [
    "### Dictionaries and operators\n",
    "\n",
    "The operators we've discussed previously can be used when working with dictionaries.\n",
    "\n",
    "To determine if a specified key is present in a dictionary we can use the `in` operator:"
   ]
  },
  {
   "cell_type": "code",
   "execution_count": 31,
   "metadata": {
    "collapsed": false,
    "pycharm": {
     "name": "#%%\n"
    }
   },
   "outputs": [
    {
     "name": "stdout",
     "output_type": "stream",
     "text": [
      "Yes, that student is in this class\n"
     ]
    }
   ],
   "source": [
    "if 'A1234' in completed_coding_lab:\n",
    "    print('Yes, that student is in this class')"
   ]
  },
  {
   "cell_type": "markdown",
   "metadata": {
    "collapsed": false
   },
   "source": [
    "### Additional Dictionary Properties\n",
    "\n",
    "- Only one value per key. No duplicate keys allowed.\n",
    "    - If duplicate keys specified during assignment, the last assignment wins."
   ]
  },
  {
   "cell_type": "code",
   "execution_count": 32,
   "metadata": {
    "collapsed": false,
    "pycharm": {
     "name": "#%%\n"
    }
   },
   "outputs": [
    {
     "data": {
      "text/plain": [
       "{'Student': 91}"
      ]
     },
     "execution_count": 32,
     "metadata": {},
     "output_type": "execute_result"
    }
   ],
   "source": [
    "# Last duplicate key assigned wins\n",
    "{'Student' : 97, 'Student': 88, 'Student' : 91}"
   ]
  },
  {
   "cell_type": "markdown",
   "metadata": {
    "collapsed": false
   },
   "source": [
    "- **keys** must be of an immutable type (string, tuple, integer, float, etc)\n",
    "- Note: **values** can be of any type"
   ]
  },
  {
   "cell_type": "code",
   "execution_count": 33,
   "metadata": {
    "collapsed": false,
    "pycharm": {
     "name": "#%%\n"
    }
   },
   "outputs": [
    {
     "ename": "TypeError",
     "evalue": "unhashable type: 'list'",
     "output_type": "error",
     "traceback": [
      "\u001b[0;31m---------------------------------------------------------------------------\u001b[0m",
      "\u001b[0;31mTypeError\u001b[0m                                 Traceback (most recent call last)",
      "\u001b[0;32m<ipython-input-33-27b11708f095>\u001b[0m in \u001b[0;36m<module>\u001b[0;34m\u001b[0m\n\u001b[1;32m      1\u001b[0m \u001b[0;31m# lists are not allowed as key types\u001b[0m\u001b[0;34m\u001b[0m\u001b[0;34m\u001b[0m\u001b[0;34m\u001b[0m\u001b[0m\n\u001b[1;32m      2\u001b[0m \u001b[0;31m# this code will produce an error\u001b[0m\u001b[0;34m\u001b[0m\u001b[0;34m\u001b[0m\u001b[0;34m\u001b[0m\u001b[0m\n\u001b[0;32m----> 3\u001b[0;31m \u001b[0;34m{\u001b[0m\u001b[0;34m[\u001b[0m\u001b[0;34m'Student'\u001b[0m\u001b[0;34m]\u001b[0m \u001b[0;34m:\u001b[0m \u001b[0;36m97\u001b[0m\u001b[0;34m}\u001b[0m\u001b[0;34m\u001b[0m\u001b[0;34m\u001b[0m\u001b[0m\n\u001b[0m",
      "\u001b[0;31mTypeError\u001b[0m: unhashable type: 'list'"
     ]
    }
   ],
   "source": [
    "# lists are not allowed as key types\n",
    "# this code will produce an error\n",
    "{['Student'] : 97}"
   ]
  },
  {
   "cell_type": "markdown",
   "metadata": {
    "collapsed": false
   },
   "source": [
    "- Dictionary keys are case sensitive.\n"
   ]
  },
  {
   "cell_type": "code",
   "execution_count": null,
   "metadata": {
    "collapsed": false,
    "pycharm": {
     "name": "#%%\n"
    }
   },
   "outputs": [],
   "source": [
    "{'Student' : 97, 'student': 88, 'STUDENT' : 91}"
   ]
  },
  {
   "cell_type": "markdown",
   "metadata": {
    "collapsed": false
   },
   "source": [
    "#### Clicker Question #4\n",
    "\n",
    "Why does the following code produce an error?"
   ]
  },
  {
   "cell_type": "code",
   "execution_count": null,
   "metadata": {
    "collapsed": false,
    "pycharm": {
     "name": "#%%\n"
    }
   },
   "outputs": [],
   "source": [
    "student_emails = {\n",
    "    'Betty Jennings' : 'bjennings@eniac.org',\n",
    "    'Ada Lovelace' : ['ada@analyticengine.com'],\n",
    "    'Ada Lovelace' : 'aturing@thebomb.gov',\n",
    "    'Grace Hopper' : 'ghopper@navy.usa'\n",
    "}"
   ]
  },
  {
   "cell_type": "code",
   "execution_count": null,
   "metadata": {
    "collapsed": false,
    "pycharm": {
     "name": "#%%\n"
    }
   },
   "outputs": [],
   "source": [
    "student_emails"
   ]
  },
  {
   "cell_type": "markdown",
   "metadata": {
    "collapsed": false
   },
   "source": [
    "- A) duplicate keys\n",
    "- B) mutable key specified\n",
    "- C) keys are case sensitive\n",
    "- D) mutable value specified\n",
    "- E) ¯\\\\\\_(ツ)\\_/¯"
   ]
  },
  {
   "cell_type": "markdown",
   "metadata": {
    "collapsed": false,
    "pycharm": {
     "name": "#%% md\n"
    }
   },
   "source": []
  }
 ],
 "metadata": {
  "kernelspec": {
   "display_name": "Python 3",
   "language": "python",
   "name": "python3"
  },
  "language_info": {
   "codemirror_mode": {
    "name": "ipython",
    "version": 3
   },
   "file_extension": ".py",
   "mimetype": "text/x-python",
   "name": "python",
   "nbconvert_exporter": "python",
   "pygments_lexer": "ipython3",
   "version": "3.8.5"
  }
 },
 "nbformat": 4,
 "nbformat_minor": 0
}