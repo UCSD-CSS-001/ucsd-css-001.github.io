{
 "cells": [
  {
   "cell_type": "markdown",
   "id": "arabic-morocco",
   "metadata": {},
   "source": [
    "# P07: Pandas Series and DataFrames"
   ]
  },
  {
   "cell_type": "markdown",
   "id": "existing-correspondence",
   "metadata": {},
   "source": [
    "## Quick review of modules\n",
    "\n",
    "[pypi.org](pypi.org) has 324k packages.  From web servers, to machine learning frameworks, to video games, to bitcoin wallets, to recipe managers, to astronomy databases, etc.\n",
    "\n",
    "There are millions of different classes, functions, constants, in these packages.\n",
    "\n",
    "1. we can't load them all in memory\n",
    "\n",
    "2. we can't ask someone writing the next python library to do X to check all other previous libraries to make sure no one has used the class names they have in mind.\n",
    "\n",
    "Modules create namespaces, and modules manage what is loaded into memory."
   ]
  },
  {
   "cell_type": "code",
   "execution_count": 1,
   "id": "residential-buddy",
   "metadata": {},
   "outputs": [],
   "source": [
    "# import numpy as np, then use np.method to interface with methods\n",
    "import numpy as np"
   ]
  },
  {
   "cell_type": "code",
   "execution_count": 2,
   "id": "developmental-ethiopia",
   "metadata": {},
   "outputs": [
    {
     "data": {
      "text/plain": [
       "6.0"
      ]
     },
     "execution_count": 2,
     "metadata": {},
     "output_type": "execute_result"
    }
   ],
   "source": [
    "np.mean([9,4,5])"
   ]
  },
  {
   "cell_type": "code",
   "execution_count": 3,
   "id": "0148195e",
   "metadata": {},
   "outputs": [],
   "source": [
    "# import certain functions from a module\n",
    "from statistics import stdev"
   ]
  },
  {
   "cell_type": "code",
   "execution_count": 4,
   "id": "02ea70f1",
   "metadata": {},
   "outputs": [
    {
     "data": {
      "text/plain": [
       "2.6457513110645907"
      ]
     },
     "execution_count": 4,
     "metadata": {},
     "output_type": "execute_result"
    }
   ],
   "source": [
    "stdev([9,4,5])"
   ]
  },
  {
   "cell_type": "markdown",
   "id": "drawn-heather",
   "metadata": {},
   "source": [
    "## Import Pandas!\n",
    "\n",
    "* DataFrames are an excellent choice if you're dealing with mixed data types\n",
    "* Think of them as excel spreadsheets - can have columns of numbers, strings, etc\n",
    "* Powerful built in methods for summarizing and analyzing data\n",
    "* Powerful built in methods for cleaning data (removing outliers, missing values, and so forth)\n",
    "* When importing pandas, always use `pd` unless you have a good reason to do otherwise"
   ]
  },
  {
   "cell_type": "markdown",
   "id": "9166bf23",
   "metadata": {},
   "source": [
    "### Pandas Series\n",
    "\n",
    "[Pandas quick start guide for Series](https://pandas.pydata.org/pandas-docs/stable/dsintro.html#series)\n",
    "\n",
    "* A **Series** is a 1D array that can hold any type of data (numeric types, non-numeric, Python objects and so forth). Think excel spreadsheet with one column. \n",
    "* Each entry is **labeled** with an index that is used to keep track of what each entry is, and the label can be used to lookup the value corresponding to each index during analysis (remember keys in dictionaries? similar idea)\n",
    "* These labels are fixed - they will always index the same value unless you explicitly break that link.\n",
    "* The list of labels that forms the index can either be declared upon series creation or, by default, it will range from 0 to len(data)-1.\n",
    "    * If you're going to use Pandas to organize your data, specifying usable and informative labels is a good idea because that's one of the main advantages over other data types like lists"
   ]
  },
  {
   "cell_type": "markdown",
   "id": "ad5567b3",
   "metadata": {},
   "source": [
    "### Pandas DataFrames\n",
    "\n",
    "[Pandas quick start guide for DataFrames](https://pandas.pydata.org/pandas-docs/stable/dsintro.html#dataframe)\n",
    "\n",
    "* A DataFrame (DF) is a labeled data struture that can be thought of as a 2D extension of the Series objects (think excel spreadsheet with more than one column)\n",
    "* A dataframe can accept many types of input, multiple Series, a dictionary of 1D arrays, another DF, etc.\n",
    "* Like a Series, DFs contain data values and their corresponding labels. However, because we're now dealing with a 2D structure, we call the **row labels the index argument** and the **column labels the column argument**. "
   ]
  },
  {
   "cell_type": "code",
   "execution_count": 5,
   "id": "relative-ribbon",
   "metadata": {},
   "outputs": [],
   "source": [
    "import pandas as pd"
   ]
  },
  {
   "cell_type": "markdown",
   "id": "rental-district",
   "metadata": {},
   "source": [
    "### Why tabular data?\n",
    "* Suppose you want to store and analyze data about multiple attributes/variables like the height and weight of different people\n",
    "* We could make three lists: one for the names, one for the heights, and one for the weights\n",
    "* Then when we analyze the data, we'd know that `names[0]` corresponds to `heights[0]` and `weights[0]`...but that is pretty clunky and hard to keep track of..."
   ]
  },
  {
   "cell_type": "code",
   "execution_count": 6,
   "id": "transparent-frame",
   "metadata": {},
   "outputs": [],
   "source": [
    "names = ['john', 'sourabh', 'purva', 'pulkit','panayu']\n",
    "heights = [68, 70, 67, 72, 64]\n",
    "weight = [180, 170, 150, 200, 145]"
   ]
  },
  {
   "cell_type": "code",
   "execution_count": 7,
   "id": "consistent-injury",
   "metadata": {},
   "outputs": [
    {
     "name": "stdout",
     "output_type": "stream",
     "text": [
      "Name: john, Height: 68, Weight 180\n"
     ]
    }
   ],
   "source": [
    "print(f'Name: {names[0]}, Height: {heights[0]}, Weight {weight[0]}')"
   ]
  },
  {
   "cell_type": "markdown",
   "id": "0ba83351",
   "metadata": {},
   "source": [
    "### A much more effecient approach is to store all of our data in a single dataframe\n",
    "* This will allow us to easily access all attributes associated with each person via the index arguments\n",
    "* And each attribute will be stored as a single pandas series (column) in the resulting dataframe"
   ]
  },
  {
   "cell_type": "code",
   "execution_count": 8,
   "id": "martial-porter",
   "metadata": {},
   "outputs": [],
   "source": [
    "df = pd.DataFrame({'name':names, \n",
    "                   'height':heights, \n",
    "                   'weight': weight})"
   ]
  },
  {
   "cell_type": "code",
   "execution_count": 9,
   "id": "focused-bruce",
   "metadata": {},
   "outputs": [
    {
     "data": {
      "text/html": [
       "<div>\n",
       "<style scoped>\n",
       "    .dataframe tbody tr th:only-of-type {\n",
       "        vertical-align: middle;\n",
       "    }\n",
       "\n",
       "    .dataframe tbody tr th {\n",
       "        vertical-align: top;\n",
       "    }\n",
       "\n",
       "    .dataframe thead th {\n",
       "        text-align: right;\n",
       "    }\n",
       "</style>\n",
       "<table border=\"1\" class=\"dataframe\">\n",
       "  <thead>\n",
       "    <tr style=\"text-align: right;\">\n",
       "      <th></th>\n",
       "      <th>name</th>\n",
       "      <th>height</th>\n",
       "      <th>weight</th>\n",
       "    </tr>\n",
       "  </thead>\n",
       "  <tbody>\n",
       "    <tr>\n",
       "      <th>0</th>\n",
       "      <td>john</td>\n",
       "      <td>68</td>\n",
       "      <td>180</td>\n",
       "    </tr>\n",
       "    <tr>\n",
       "      <th>1</th>\n",
       "      <td>sourabh</td>\n",
       "      <td>70</td>\n",
       "      <td>170</td>\n",
       "    </tr>\n",
       "    <tr>\n",
       "      <th>2</th>\n",
       "      <td>purva</td>\n",
       "      <td>67</td>\n",
       "      <td>150</td>\n",
       "    </tr>\n",
       "    <tr>\n",
       "      <th>3</th>\n",
       "      <td>pulkit</td>\n",
       "      <td>72</td>\n",
       "      <td>200</td>\n",
       "    </tr>\n",
       "    <tr>\n",
       "      <th>4</th>\n",
       "      <td>panayu</td>\n",
       "      <td>64</td>\n",
       "      <td>145</td>\n",
       "    </tr>\n",
       "  </tbody>\n",
       "</table>\n",
       "</div>"
      ],
      "text/plain": [
       "      name  height  weight\n",
       "0     john      68     180\n",
       "1  sourabh      70     170\n",
       "2    purva      67     150\n",
       "3   pulkit      72     200\n",
       "4   panayu      64     145"
      ]
     },
     "execution_count": 9,
     "metadata": {},
     "output_type": "execute_result"
    }
   ],
   "source": [
    "df"
   ]
  },
  {
   "cell_type": "markdown",
   "id": "58b24cb0",
   "metadata": {},
   "source": [
    "### A (potentially) more useful way\n",
    "* Note that pandas generated a default list of row labels that go from 0:N-1 where N is the number of rows\n",
    "* However, we can also specify more useful row names using the `index` keyword upon dataframe creation "
   ]
  },
  {
   "cell_type": "code",
   "execution_count": 10,
   "id": "825b65f0",
   "metadata": {},
   "outputs": [],
   "source": [
    "df = pd.DataFrame({'height':heights, \n",
    "                   'weight': weight}, index=names)"
   ]
  },
  {
   "cell_type": "code",
   "execution_count": 11,
   "id": "0153d8ef",
   "metadata": {},
   "outputs": [
    {
     "data": {
      "text/html": [
       "<div>\n",
       "<style scoped>\n",
       "    .dataframe tbody tr th:only-of-type {\n",
       "        vertical-align: middle;\n",
       "    }\n",
       "\n",
       "    .dataframe tbody tr th {\n",
       "        vertical-align: top;\n",
       "    }\n",
       "\n",
       "    .dataframe thead th {\n",
       "        text-align: right;\n",
       "    }\n",
       "</style>\n",
       "<table border=\"1\" class=\"dataframe\">\n",
       "  <thead>\n",
       "    <tr style=\"text-align: right;\">\n",
       "      <th></th>\n",
       "      <th>height</th>\n",
       "      <th>weight</th>\n",
       "    </tr>\n",
       "  </thead>\n",
       "  <tbody>\n",
       "    <tr>\n",
       "      <th>john</th>\n",
       "      <td>68</td>\n",
       "      <td>180</td>\n",
       "    </tr>\n",
       "    <tr>\n",
       "      <th>sourabh</th>\n",
       "      <td>70</td>\n",
       "      <td>170</td>\n",
       "    </tr>\n",
       "    <tr>\n",
       "      <th>purva</th>\n",
       "      <td>67</td>\n",
       "      <td>150</td>\n",
       "    </tr>\n",
       "    <tr>\n",
       "      <th>pulkit</th>\n",
       "      <td>72</td>\n",
       "      <td>200</td>\n",
       "    </tr>\n",
       "    <tr>\n",
       "      <th>panayu</th>\n",
       "      <td>64</td>\n",
       "      <td>145</td>\n",
       "    </tr>\n",
       "  </tbody>\n",
       "</table>\n",
       "</div>"
      ],
      "text/plain": [
       "         height  weight\n",
       "john         68     180\n",
       "sourabh      70     170\n",
       "purva        67     150\n",
       "pulkit       72     200\n",
       "panayu       64     145"
      ]
     },
     "execution_count": 11,
     "metadata": {},
     "output_type": "execute_result"
    }
   ],
   "source": [
    "df"
   ]
  },
  {
   "cell_type": "markdown",
   "id": "81fbcd7d",
   "metadata": {},
   "source": [
    "## Basic indexing: Columns\n",
    "* First do it using the column names\n",
    "* This works much like you use keys to index into a dictionary\n",
    "* Notice that the index arguments (row labels) stay 'attached' to the column that we ask for..."
   ]
  },
  {
   "cell_type": "code",
   "execution_count": 12,
   "id": "334c02ec",
   "metadata": {},
   "outputs": [
    {
     "data": {
      "text/plain": [
       "john       68\n",
       "sourabh    70\n",
       "purva      67\n",
       "pulkit     72\n",
       "panayu     64\n",
       "Name: height, dtype: int64"
      ]
     },
     "execution_count": 12,
     "metadata": {},
     "output_type": "execute_result"
    }
   ],
   "source": [
    "df['height']"
   ]
  },
  {
   "cell_type": "code",
   "execution_count": 13,
   "id": "8b252ef4",
   "metadata": {},
   "outputs": [
    {
     "data": {
      "text/plain": [
       "john       180\n",
       "sourabh    170\n",
       "Name: weight, dtype: int64"
      ]
     },
     "execution_count": 13,
     "metadata": {},
     "output_type": "execute_result"
    }
   ],
   "source": [
    "# weight of just the first two people...\n",
    "df['weight'][0:2]"
   ]
  },
  {
   "cell_type": "markdown",
   "id": "0092b50f",
   "metadata": {},
   "source": [
    "### Can index using the `.field` syntax"
   ]
  },
  {
   "cell_type": "code",
   "execution_count": 14,
   "id": "1c6c0cd7",
   "metadata": {},
   "outputs": [
    {
     "data": {
      "text/plain": [
       "john       68\n",
       "sourabh    70\n",
       "Name: height, dtype: int64"
      ]
     },
     "execution_count": 14,
     "metadata": {},
     "output_type": "execute_result"
    }
   ],
   "source": [
    "df.height[0:2]"
   ]
  },
  {
   "cell_type": "code",
   "execution_count": 15,
   "id": "930fb83b",
   "metadata": {},
   "outputs": [
    {
     "data": {
      "text/plain": [
       "panayu     145\n",
       "pulkit     200\n",
       "purva      150\n",
       "sourabh    170\n",
       "john       180\n",
       "Name: weight, dtype: int64"
      ]
     },
     "execution_count": 15,
     "metadata": {},
     "output_type": "execute_result"
    }
   ],
   "source": [
    "# reverse (just like with a list...)\n",
    "df.weight[::-1]"
   ]
  },
  {
   "cell_type": "markdown",
   "id": "e18d6f3d",
   "metadata": {},
   "source": [
    "## Basic Indexing: Rows\n",
    "* Can also index based on row labels\n",
    "* This is a bit more complex as there are several methods that make use of either the actual label or the order of entry in the dataframe...\n",
    "    * Use df.loc to select a row by its label name\n",
    "        * Contrary to usual slicing conventions with lists, both the start and the stop indices are included when using the DF.LOC option...see below for demo. This makes sense because you're indexing by label name, not by a zero-based integer index. \n",
    "    * Use df.iloc to select a row by its integer location (from 0 to length-1 of the axis)\n",
    "* You can use booleans to select a set of rows that satisfy some condition (logical indexing)"
   ]
  },
  {
   "cell_type": "code",
   "execution_count": 16,
   "id": "dcd9f5d4",
   "metadata": {},
   "outputs": [
    {
     "data": {
      "text/html": [
       "<div>\n",
       "<style scoped>\n",
       "    .dataframe tbody tr th:only-of-type {\n",
       "        vertical-align: middle;\n",
       "    }\n",
       "\n",
       "    .dataframe tbody tr th {\n",
       "        vertical-align: top;\n",
       "    }\n",
       "\n",
       "    .dataframe thead th {\n",
       "        text-align: right;\n",
       "    }\n",
       "</style>\n",
       "<table border=\"1\" class=\"dataframe\">\n",
       "  <thead>\n",
       "    <tr style=\"text-align: right;\">\n",
       "      <th></th>\n",
       "      <th>height</th>\n",
       "      <th>weight</th>\n",
       "    </tr>\n",
       "  </thead>\n",
       "  <tbody>\n",
       "    <tr>\n",
       "      <th>john</th>\n",
       "      <td>68</td>\n",
       "      <td>180</td>\n",
       "    </tr>\n",
       "    <tr>\n",
       "      <th>sourabh</th>\n",
       "      <td>70</td>\n",
       "      <td>170</td>\n",
       "    </tr>\n",
       "    <tr>\n",
       "      <th>purva</th>\n",
       "      <td>67</td>\n",
       "      <td>150</td>\n",
       "    </tr>\n",
       "    <tr>\n",
       "      <th>pulkit</th>\n",
       "      <td>72</td>\n",
       "      <td>200</td>\n",
       "    </tr>\n",
       "  </tbody>\n",
       "</table>\n",
       "</div>"
      ],
      "text/plain": [
       "         height  weight\n",
       "john         68     180\n",
       "sourabh      70     170\n",
       "purva        67     150\n",
       "pulkit       72     200"
      ]
     },
     "execution_count": 16,
     "metadata": {},
     "output_type": "execute_result"
    }
   ],
   "source": [
    "# index by row label\n",
    "df.loc['john':'pulkit']"
   ]
  },
  {
   "cell_type": "code",
   "execution_count": 17,
   "id": "200e1b1a",
   "metadata": {},
   "outputs": [
    {
     "data": {
      "text/html": [
       "<div>\n",
       "<style scoped>\n",
       "    .dataframe tbody tr th:only-of-type {\n",
       "        vertical-align: middle;\n",
       "    }\n",
       "\n",
       "    .dataframe tbody tr th {\n",
       "        vertical-align: top;\n",
       "    }\n",
       "\n",
       "    .dataframe thead th {\n",
       "        text-align: right;\n",
       "    }\n",
       "</style>\n",
       "<table border=\"1\" class=\"dataframe\">\n",
       "  <thead>\n",
       "    <tr style=\"text-align: right;\">\n",
       "      <th></th>\n",
       "      <th>height</th>\n",
       "      <th>weight</th>\n",
       "    </tr>\n",
       "  </thead>\n",
       "  <tbody>\n",
       "  </tbody>\n",
       "</table>\n",
       "</div>"
      ],
      "text/plain": [
       "Empty DataFrame\n",
       "Columns: [height, weight]\n",
       "Index: []"
      ]
     },
     "execution_count": 17,
     "metadata": {},
     "output_type": "execute_result"
    }
   ],
   "source": [
    "# but this won't return anything because pulkit comes after john...\n",
    "df.loc['pulkit':'john']"
   ]
  },
  {
   "cell_type": "markdown",
   "id": "9ee4c90a",
   "metadata": {},
   "source": [
    "### `iloc`\n",
    "* index by position in dataframe - works just like normal indexing of a list/tuple"
   ]
  },
  {
   "cell_type": "code",
   "execution_count": 18,
   "id": "75f9bbc8",
   "metadata": {},
   "outputs": [
    {
     "data": {
      "text/html": [
       "<div>\n",
       "<style scoped>\n",
       "    .dataframe tbody tr th:only-of-type {\n",
       "        vertical-align: middle;\n",
       "    }\n",
       "\n",
       "    .dataframe tbody tr th {\n",
       "        vertical-align: top;\n",
       "    }\n",
       "\n",
       "    .dataframe thead th {\n",
       "        text-align: right;\n",
       "    }\n",
       "</style>\n",
       "<table border=\"1\" class=\"dataframe\">\n",
       "  <thead>\n",
       "    <tr style=\"text-align: right;\">\n",
       "      <th></th>\n",
       "      <th>height</th>\n",
       "      <th>weight</th>\n",
       "    </tr>\n",
       "  </thead>\n",
       "  <tbody>\n",
       "    <tr>\n",
       "      <th>john</th>\n",
       "      <td>68</td>\n",
       "      <td>180</td>\n",
       "    </tr>\n",
       "    <tr>\n",
       "      <th>sourabh</th>\n",
       "      <td>70</td>\n",
       "      <td>170</td>\n",
       "    </tr>\n",
       "    <tr>\n",
       "      <th>purva</th>\n",
       "      <td>67</td>\n",
       "      <td>150</td>\n",
       "    </tr>\n",
       "  </tbody>\n",
       "</table>\n",
       "</div>"
      ],
      "text/plain": [
       "         height  weight\n",
       "john         68     180\n",
       "sourabh      70     170\n",
       "purva        67     150"
      ]
     },
     "execution_count": 18,
     "metadata": {},
     "output_type": "execute_result"
    }
   ],
   "source": [
    "# first three people\n",
    "df.iloc[0:3]"
   ]
  },
  {
   "cell_type": "code",
   "execution_count": 19,
   "id": "52be4650",
   "metadata": {},
   "outputs": [
    {
     "data": {
      "text/html": [
       "<div>\n",
       "<style scoped>\n",
       "    .dataframe tbody tr th:only-of-type {\n",
       "        vertical-align: middle;\n",
       "    }\n",
       "\n",
       "    .dataframe tbody tr th {\n",
       "        vertical-align: top;\n",
       "    }\n",
       "\n",
       "    .dataframe thead th {\n",
       "        text-align: right;\n",
       "    }\n",
       "</style>\n",
       "<table border=\"1\" class=\"dataframe\">\n",
       "  <thead>\n",
       "    <tr style=\"text-align: right;\">\n",
       "      <th></th>\n",
       "      <th>height</th>\n",
       "      <th>weight</th>\n",
       "    </tr>\n",
       "  </thead>\n",
       "  <tbody>\n",
       "    <tr>\n",
       "      <th>panayu</th>\n",
       "      <td>64</td>\n",
       "      <td>145</td>\n",
       "    </tr>\n",
       "    <tr>\n",
       "      <th>pulkit</th>\n",
       "      <td>72</td>\n",
       "      <td>200</td>\n",
       "    </tr>\n",
       "    <tr>\n",
       "      <th>purva</th>\n",
       "      <td>67</td>\n",
       "      <td>150</td>\n",
       "    </tr>\n",
       "    <tr>\n",
       "      <th>sourabh</th>\n",
       "      <td>70</td>\n",
       "      <td>170</td>\n",
       "    </tr>\n",
       "    <tr>\n",
       "      <th>john</th>\n",
       "      <td>68</td>\n",
       "      <td>180</td>\n",
       "    </tr>\n",
       "  </tbody>\n",
       "</table>\n",
       "</div>"
      ],
      "text/plain": [
       "         height  weight\n",
       "panayu       64     145\n",
       "pulkit       72     200\n",
       "purva        67     150\n",
       "sourabh      70     170\n",
       "john         68     180"
      ]
     },
     "execution_count": 19,
     "metadata": {},
     "output_type": "execute_result"
    }
   ],
   "source": [
    "# reverse...\n",
    "df.iloc[::-1]"
   ]
  },
  {
   "cell_type": "markdown",
   "id": "wrapped-mistake",
   "metadata": {},
   "source": [
    "## Loading csv files using `read_csv()`\n",
    "\n",
    "* Here we will use the mcd-menu.csv file to create a dataframe, which you can download here:\n",
    "\n",
    "* [mcd-menu.csv](https://github.com/UCSD-CSS-001/ucsd-css-001.github.io/tree/main/datasets)\n",
    "\n",
    "* Can also find file on slack and on canvas\n",
    "\n",
    "* Note that here, I am intentionally using default indices (the numbers 0:N-1) so we don't have to do so much typing...you'll see. "
   ]
  },
  {
   "cell_type": "code",
   "execution_count": 20,
   "id": "potential-calgary",
   "metadata": {},
   "outputs": [
    {
     "ename": "FileNotFoundError",
     "evalue": "[Errno 2] No such file or directory: 'mcd-menu.csv'",
     "output_type": "error",
     "traceback": [
      "\u001b[0;31m---------------------------------------------------------------------------\u001b[0m",
      "\u001b[0;31mFileNotFoundError\u001b[0m                         Traceback (most recent call last)",
      "\u001b[0;32m/var/folders/8y/scw4yk6d3g99kqbs49wp8q3r0000gn/T/ipykernel_48230/1871108690.py\u001b[0m in \u001b[0;36m<module>\u001b[0;34m\u001b[0m\n\u001b[0;32m----> 1\u001b[0;31m \u001b[0mmcd\u001b[0m \u001b[0;34m=\u001b[0m \u001b[0mpd\u001b[0m\u001b[0;34m.\u001b[0m\u001b[0mread_csv\u001b[0m\u001b[0;34m(\u001b[0m\u001b[0;34m'mcd-menu.csv'\u001b[0m\u001b[0;34m)\u001b[0m\u001b[0;34m\u001b[0m\u001b[0;34m\u001b[0m\u001b[0m\n\u001b[0m",
      "\u001b[0;32m~/opt/anaconda3/lib/python3.9/site-packages/pandas/util/_decorators.py\u001b[0m in \u001b[0;36mwrapper\u001b[0;34m(*args, **kwargs)\u001b[0m\n\u001b[1;32m    309\u001b[0m                     \u001b[0mstacklevel\u001b[0m\u001b[0;34m=\u001b[0m\u001b[0mstacklevel\u001b[0m\u001b[0;34m,\u001b[0m\u001b[0;34m\u001b[0m\u001b[0;34m\u001b[0m\u001b[0m\n\u001b[1;32m    310\u001b[0m                 )\n\u001b[0;32m--> 311\u001b[0;31m             \u001b[0;32mreturn\u001b[0m \u001b[0mfunc\u001b[0m\u001b[0;34m(\u001b[0m\u001b[0;34m*\u001b[0m\u001b[0margs\u001b[0m\u001b[0;34m,\u001b[0m \u001b[0;34m**\u001b[0m\u001b[0mkwargs\u001b[0m\u001b[0;34m)\u001b[0m\u001b[0;34m\u001b[0m\u001b[0;34m\u001b[0m\u001b[0m\n\u001b[0m\u001b[1;32m    312\u001b[0m \u001b[0;34m\u001b[0m\u001b[0m\n\u001b[1;32m    313\u001b[0m         \u001b[0;32mreturn\u001b[0m \u001b[0mwrapper\u001b[0m\u001b[0;34m\u001b[0m\u001b[0;34m\u001b[0m\u001b[0m\n",
      "\u001b[0;32m~/opt/anaconda3/lib/python3.9/site-packages/pandas/io/parsers/readers.py\u001b[0m in \u001b[0;36mread_csv\u001b[0;34m(filepath_or_buffer, sep, delimiter, header, names, index_col, usecols, squeeze, prefix, mangle_dupe_cols, dtype, engine, converters, true_values, false_values, skipinitialspace, skiprows, skipfooter, nrows, na_values, keep_default_na, na_filter, verbose, skip_blank_lines, parse_dates, infer_datetime_format, keep_date_col, date_parser, dayfirst, cache_dates, iterator, chunksize, compression, thousands, decimal, lineterminator, quotechar, quoting, doublequote, escapechar, comment, encoding, encoding_errors, dialect, error_bad_lines, warn_bad_lines, on_bad_lines, delim_whitespace, low_memory, memory_map, float_precision, storage_options)\u001b[0m\n\u001b[1;32m    584\u001b[0m     \u001b[0mkwds\u001b[0m\u001b[0;34m.\u001b[0m\u001b[0mupdate\u001b[0m\u001b[0;34m(\u001b[0m\u001b[0mkwds_defaults\u001b[0m\u001b[0;34m)\u001b[0m\u001b[0;34m\u001b[0m\u001b[0;34m\u001b[0m\u001b[0m\n\u001b[1;32m    585\u001b[0m \u001b[0;34m\u001b[0m\u001b[0m\n\u001b[0;32m--> 586\u001b[0;31m     \u001b[0;32mreturn\u001b[0m \u001b[0m_read\u001b[0m\u001b[0;34m(\u001b[0m\u001b[0mfilepath_or_buffer\u001b[0m\u001b[0;34m,\u001b[0m \u001b[0mkwds\u001b[0m\u001b[0;34m)\u001b[0m\u001b[0;34m\u001b[0m\u001b[0;34m\u001b[0m\u001b[0m\n\u001b[0m\u001b[1;32m    587\u001b[0m \u001b[0;34m\u001b[0m\u001b[0m\n\u001b[1;32m    588\u001b[0m \u001b[0;34m\u001b[0m\u001b[0m\n",
      "\u001b[0;32m~/opt/anaconda3/lib/python3.9/site-packages/pandas/io/parsers/readers.py\u001b[0m in \u001b[0;36m_read\u001b[0;34m(filepath_or_buffer, kwds)\u001b[0m\n\u001b[1;32m    480\u001b[0m \u001b[0;34m\u001b[0m\u001b[0m\n\u001b[1;32m    481\u001b[0m     \u001b[0;31m# Create the parser.\u001b[0m\u001b[0;34m\u001b[0m\u001b[0;34m\u001b[0m\u001b[0m\n\u001b[0;32m--> 482\u001b[0;31m     \u001b[0mparser\u001b[0m \u001b[0;34m=\u001b[0m \u001b[0mTextFileReader\u001b[0m\u001b[0;34m(\u001b[0m\u001b[0mfilepath_or_buffer\u001b[0m\u001b[0;34m,\u001b[0m \u001b[0;34m**\u001b[0m\u001b[0mkwds\u001b[0m\u001b[0;34m)\u001b[0m\u001b[0;34m\u001b[0m\u001b[0;34m\u001b[0m\u001b[0m\n\u001b[0m\u001b[1;32m    483\u001b[0m \u001b[0;34m\u001b[0m\u001b[0m\n\u001b[1;32m    484\u001b[0m     \u001b[0;32mif\u001b[0m \u001b[0mchunksize\u001b[0m \u001b[0;32mor\u001b[0m \u001b[0miterator\u001b[0m\u001b[0;34m:\u001b[0m\u001b[0;34m\u001b[0m\u001b[0;34m\u001b[0m\u001b[0m\n",
      "\u001b[0;32m~/opt/anaconda3/lib/python3.9/site-packages/pandas/io/parsers/readers.py\u001b[0m in \u001b[0;36m__init__\u001b[0;34m(self, f, engine, **kwds)\u001b[0m\n\u001b[1;32m    809\u001b[0m             \u001b[0mself\u001b[0m\u001b[0;34m.\u001b[0m\u001b[0moptions\u001b[0m\u001b[0;34m[\u001b[0m\u001b[0;34m\"has_index_names\"\u001b[0m\u001b[0;34m]\u001b[0m \u001b[0;34m=\u001b[0m \u001b[0mkwds\u001b[0m\u001b[0;34m[\u001b[0m\u001b[0;34m\"has_index_names\"\u001b[0m\u001b[0;34m]\u001b[0m\u001b[0;34m\u001b[0m\u001b[0;34m\u001b[0m\u001b[0m\n\u001b[1;32m    810\u001b[0m \u001b[0;34m\u001b[0m\u001b[0m\n\u001b[0;32m--> 811\u001b[0;31m         \u001b[0mself\u001b[0m\u001b[0;34m.\u001b[0m\u001b[0m_engine\u001b[0m \u001b[0;34m=\u001b[0m \u001b[0mself\u001b[0m\u001b[0;34m.\u001b[0m\u001b[0m_make_engine\u001b[0m\u001b[0;34m(\u001b[0m\u001b[0mself\u001b[0m\u001b[0;34m.\u001b[0m\u001b[0mengine\u001b[0m\u001b[0;34m)\u001b[0m\u001b[0;34m\u001b[0m\u001b[0;34m\u001b[0m\u001b[0m\n\u001b[0m\u001b[1;32m    812\u001b[0m \u001b[0;34m\u001b[0m\u001b[0m\n\u001b[1;32m    813\u001b[0m     \u001b[0;32mdef\u001b[0m \u001b[0mclose\u001b[0m\u001b[0;34m(\u001b[0m\u001b[0mself\u001b[0m\u001b[0;34m)\u001b[0m\u001b[0;34m:\u001b[0m\u001b[0;34m\u001b[0m\u001b[0;34m\u001b[0m\u001b[0m\n",
      "\u001b[0;32m~/opt/anaconda3/lib/python3.9/site-packages/pandas/io/parsers/readers.py\u001b[0m in \u001b[0;36m_make_engine\u001b[0;34m(self, engine)\u001b[0m\n\u001b[1;32m   1038\u001b[0m             )\n\u001b[1;32m   1039\u001b[0m         \u001b[0;31m# error: Too many arguments for \"ParserBase\"\u001b[0m\u001b[0;34m\u001b[0m\u001b[0;34m\u001b[0m\u001b[0m\n\u001b[0;32m-> 1040\u001b[0;31m         \u001b[0;32mreturn\u001b[0m \u001b[0mmapping\u001b[0m\u001b[0;34m[\u001b[0m\u001b[0mengine\u001b[0m\u001b[0;34m]\u001b[0m\u001b[0;34m(\u001b[0m\u001b[0mself\u001b[0m\u001b[0;34m.\u001b[0m\u001b[0mf\u001b[0m\u001b[0;34m,\u001b[0m \u001b[0;34m**\u001b[0m\u001b[0mself\u001b[0m\u001b[0;34m.\u001b[0m\u001b[0moptions\u001b[0m\u001b[0;34m)\u001b[0m  \u001b[0;31m# type: ignore[call-arg]\u001b[0m\u001b[0;34m\u001b[0m\u001b[0;34m\u001b[0m\u001b[0m\n\u001b[0m\u001b[1;32m   1041\u001b[0m \u001b[0;34m\u001b[0m\u001b[0m\n\u001b[1;32m   1042\u001b[0m     \u001b[0;32mdef\u001b[0m \u001b[0m_failover_to_python\u001b[0m\u001b[0;34m(\u001b[0m\u001b[0mself\u001b[0m\u001b[0;34m)\u001b[0m\u001b[0;34m:\u001b[0m\u001b[0;34m\u001b[0m\u001b[0;34m\u001b[0m\u001b[0m\n",
      "\u001b[0;32m~/opt/anaconda3/lib/python3.9/site-packages/pandas/io/parsers/c_parser_wrapper.py\u001b[0m in \u001b[0;36m__init__\u001b[0;34m(self, src, **kwds)\u001b[0m\n\u001b[1;32m     49\u001b[0m \u001b[0;34m\u001b[0m\u001b[0m\n\u001b[1;32m     50\u001b[0m         \u001b[0;31m# open handles\u001b[0m\u001b[0;34m\u001b[0m\u001b[0;34m\u001b[0m\u001b[0m\n\u001b[0;32m---> 51\u001b[0;31m         \u001b[0mself\u001b[0m\u001b[0;34m.\u001b[0m\u001b[0m_open_handles\u001b[0m\u001b[0;34m(\u001b[0m\u001b[0msrc\u001b[0m\u001b[0;34m,\u001b[0m \u001b[0mkwds\u001b[0m\u001b[0;34m)\u001b[0m\u001b[0;34m\u001b[0m\u001b[0;34m\u001b[0m\u001b[0m\n\u001b[0m\u001b[1;32m     52\u001b[0m         \u001b[0;32massert\u001b[0m \u001b[0mself\u001b[0m\u001b[0;34m.\u001b[0m\u001b[0mhandles\u001b[0m \u001b[0;32mis\u001b[0m \u001b[0;32mnot\u001b[0m \u001b[0;32mNone\u001b[0m\u001b[0;34m\u001b[0m\u001b[0;34m\u001b[0m\u001b[0m\n\u001b[1;32m     53\u001b[0m \u001b[0;34m\u001b[0m\u001b[0m\n",
      "\u001b[0;32m~/opt/anaconda3/lib/python3.9/site-packages/pandas/io/parsers/base_parser.py\u001b[0m in \u001b[0;36m_open_handles\u001b[0;34m(self, src, kwds)\u001b[0m\n\u001b[1;32m    220\u001b[0m         \u001b[0mLet\u001b[0m \u001b[0mthe\u001b[0m \u001b[0mreaders\u001b[0m \u001b[0mopen\u001b[0m \u001b[0mIOHandles\u001b[0m \u001b[0mafter\u001b[0m \u001b[0mthey\u001b[0m \u001b[0mare\u001b[0m \u001b[0mdone\u001b[0m \u001b[0;32mwith\u001b[0m \u001b[0mtheir\u001b[0m \u001b[0mpotential\u001b[0m \u001b[0mraises\u001b[0m\u001b[0;34m.\u001b[0m\u001b[0;34m\u001b[0m\u001b[0;34m\u001b[0m\u001b[0m\n\u001b[1;32m    221\u001b[0m         \"\"\"\n\u001b[0;32m--> 222\u001b[0;31m         self.handles = get_handle(\n\u001b[0m\u001b[1;32m    223\u001b[0m             \u001b[0msrc\u001b[0m\u001b[0;34m,\u001b[0m\u001b[0;34m\u001b[0m\u001b[0;34m\u001b[0m\u001b[0m\n\u001b[1;32m    224\u001b[0m             \u001b[0;34m\"r\"\u001b[0m\u001b[0;34m,\u001b[0m\u001b[0;34m\u001b[0m\u001b[0;34m\u001b[0m\u001b[0m\n",
      "\u001b[0;32m~/opt/anaconda3/lib/python3.9/site-packages/pandas/io/common.py\u001b[0m in \u001b[0;36mget_handle\u001b[0;34m(path_or_buf, mode, encoding, compression, memory_map, is_text, errors, storage_options)\u001b[0m\n\u001b[1;32m    700\u001b[0m         \u001b[0;32mif\u001b[0m \u001b[0mioargs\u001b[0m\u001b[0;34m.\u001b[0m\u001b[0mencoding\u001b[0m \u001b[0;32mand\u001b[0m \u001b[0;34m\"b\"\u001b[0m \u001b[0;32mnot\u001b[0m \u001b[0;32min\u001b[0m \u001b[0mioargs\u001b[0m\u001b[0;34m.\u001b[0m\u001b[0mmode\u001b[0m\u001b[0;34m:\u001b[0m\u001b[0;34m\u001b[0m\u001b[0;34m\u001b[0m\u001b[0m\n\u001b[1;32m    701\u001b[0m             \u001b[0;31m# Encoding\u001b[0m\u001b[0;34m\u001b[0m\u001b[0;34m\u001b[0m\u001b[0m\n\u001b[0;32m--> 702\u001b[0;31m             handle = open(\n\u001b[0m\u001b[1;32m    703\u001b[0m                 \u001b[0mhandle\u001b[0m\u001b[0;34m,\u001b[0m\u001b[0;34m\u001b[0m\u001b[0;34m\u001b[0m\u001b[0m\n\u001b[1;32m    704\u001b[0m                 \u001b[0mioargs\u001b[0m\u001b[0;34m.\u001b[0m\u001b[0mmode\u001b[0m\u001b[0;34m,\u001b[0m\u001b[0;34m\u001b[0m\u001b[0;34m\u001b[0m\u001b[0m\n",
      "\u001b[0;31mFileNotFoundError\u001b[0m: [Errno 2] No such file or directory: 'mcd-menu.csv'"
     ]
    }
   ],
   "source": [
    "mcd = pd.read_csv('mcd-menu.csv')"
   ]
  },
  {
   "cell_type": "code",
   "execution_count": 21,
   "id": "norman-germany",
   "metadata": {},
   "outputs": [
    {
     "ename": "NameError",
     "evalue": "name 'mcd' is not defined",
     "output_type": "error",
     "traceback": [
      "\u001b[0;31m---------------------------------------------------------------------------\u001b[0m",
      "\u001b[0;31mNameError\u001b[0m                                 Traceback (most recent call last)",
      "\u001b[0;32m/var/folders/8y/scw4yk6d3g99kqbs49wp8q3r0000gn/T/ipykernel_48230/2824704473.py\u001b[0m in \u001b[0;36m<module>\u001b[0;34m\u001b[0m\n\u001b[0;32m----> 1\u001b[0;31m \u001b[0mmcd\u001b[0m\u001b[0;34m\u001b[0m\u001b[0;34m\u001b[0m\u001b[0m\n\u001b[0m",
      "\u001b[0;31mNameError\u001b[0m: name 'mcd' is not defined"
     ]
    }
   ],
   "source": [
    "mcd"
   ]
  },
  {
   "cell_type": "markdown",
   "id": "auburn-ministry",
   "metadata": {},
   "source": [
    "## DataFrame operations"
   ]
  },
  {
   "cell_type": "markdown",
   "id": "6ba0c445",
   "metadata": {},
   "source": [
    "### Get basic information about the shape of the dataframe and the contents"
   ]
  },
  {
   "cell_type": "code",
   "execution_count": 22,
   "id": "awful-protest",
   "metadata": {},
   "outputs": [
    {
     "ename": "NameError",
     "evalue": "name 'mcd' is not defined",
     "output_type": "error",
     "traceback": [
      "\u001b[0;31m---------------------------------------------------------------------------\u001b[0m",
      "\u001b[0;31mNameError\u001b[0m                                 Traceback (most recent call last)",
      "\u001b[0;32m/var/folders/8y/scw4yk6d3g99kqbs49wp8q3r0000gn/T/ipykernel_48230/3026718514.py\u001b[0m in \u001b[0;36m<module>\u001b[0;34m\u001b[0m\n\u001b[1;32m      1\u001b[0m \u001b[0;31m# shape - rows by columns, so 260 rows, and 24 columns of data per row\u001b[0m\u001b[0;34m\u001b[0m\u001b[0;34m\u001b[0m\u001b[0m\n\u001b[0;32m----> 2\u001b[0;31m \u001b[0mmcd\u001b[0m\u001b[0;34m.\u001b[0m\u001b[0mshape\u001b[0m\u001b[0;34m\u001b[0m\u001b[0;34m\u001b[0m\u001b[0m\n\u001b[0m",
      "\u001b[0;31mNameError\u001b[0m: name 'mcd' is not defined"
     ]
    }
   ],
   "source": [
    "# shape - rows by columns, so 260 rows, and 24 columns of data per row\n",
    "mcd.shape"
   ]
  },
  {
   "cell_type": "code",
   "execution_count": 23,
   "id": "respective-recycling",
   "metadata": {},
   "outputs": [
    {
     "ename": "NameError",
     "evalue": "name 'mcd' is not defined",
     "output_type": "error",
     "traceback": [
      "\u001b[0;31m---------------------------------------------------------------------------\u001b[0m",
      "\u001b[0;31mNameError\u001b[0m                                 Traceback (most recent call last)",
      "\u001b[0;32m/var/folders/8y/scw4yk6d3g99kqbs49wp8q3r0000gn/T/ipykernel_48230/3069896211.py\u001b[0m in \u001b[0;36m<module>\u001b[0;34m\u001b[0m\n\u001b[1;32m      1\u001b[0m \u001b[0;31m# turn the column names into a list...\u001b[0m\u001b[0;34m\u001b[0m\u001b[0;34m\u001b[0m\u001b[0m\n\u001b[0;32m----> 2\u001b[0;31m \u001b[0mlist\u001b[0m\u001b[0;34m(\u001b[0m\u001b[0mmcd\u001b[0m\u001b[0;34m.\u001b[0m\u001b[0mcolumns\u001b[0m\u001b[0;34m)\u001b[0m\u001b[0;34m\u001b[0m\u001b[0;34m\u001b[0m\u001b[0m\n\u001b[0m\u001b[1;32m      3\u001b[0m \u001b[0;34m\u001b[0m\u001b[0m\n\u001b[1;32m      4\u001b[0m \u001b[0;31m# can also do: list(mcd.index) but the index is just default numbers here so not super interesting.\u001b[0m\u001b[0;34m\u001b[0m\u001b[0;34m\u001b[0m\u001b[0m\n",
      "\u001b[0;31mNameError\u001b[0m: name 'mcd' is not defined"
     ]
    }
   ],
   "source": [
    "# turn the column names into a list...\n",
    "list(mcd.columns)\n",
    "\n",
    "# can also do: list(mcd.index) but the index is just default numbers here so not super interesting. "
   ]
  },
  {
   "cell_type": "markdown",
   "id": "returning-probe",
   "metadata": {},
   "source": [
    "### head and tail\n",
    "* see the first few rows of dataframe (`head`) or the last few (`tail`)\n",
    "* `head` and `tail` also take optional inputs to specify exactly how many rows you want to view\n",
    "* this is super useful to do when you first create a dataframe to make sure that everything looks right..."
   ]
  },
  {
   "cell_type": "code",
   "execution_count": 24,
   "id": "residential-hollywood",
   "metadata": {},
   "outputs": [
    {
     "ename": "NameError",
     "evalue": "name 'mcd' is not defined",
     "output_type": "error",
     "traceback": [
      "\u001b[0;31m---------------------------------------------------------------------------\u001b[0m",
      "\u001b[0;31mNameError\u001b[0m                                 Traceback (most recent call last)",
      "\u001b[0;32m/var/folders/8y/scw4yk6d3g99kqbs49wp8q3r0000gn/T/ipykernel_48230/2371304279.py\u001b[0m in \u001b[0;36m<module>\u001b[0;34m\u001b[0m\n\u001b[1;32m      1\u001b[0m \u001b[0;31m# first 3 rows\u001b[0m\u001b[0;34m\u001b[0m\u001b[0;34m\u001b[0m\u001b[0m\n\u001b[0;32m----> 2\u001b[0;31m \u001b[0mmcd\u001b[0m\u001b[0;34m.\u001b[0m\u001b[0mhead\u001b[0m\u001b[0;34m(\u001b[0m\u001b[0;36m3\u001b[0m\u001b[0;34m)\u001b[0m\u001b[0;34m\u001b[0m\u001b[0;34m\u001b[0m\u001b[0m\n\u001b[0m",
      "\u001b[0;31mNameError\u001b[0m: name 'mcd' is not defined"
     ]
    }
   ],
   "source": [
    "# first 3 rows\n",
    "mcd.head(3)"
   ]
  },
  {
   "cell_type": "code",
   "execution_count": 25,
   "id": "4ee7bf0c",
   "metadata": {},
   "outputs": [
    {
     "ename": "NameError",
     "evalue": "name 'mcd' is not defined",
     "output_type": "error",
     "traceback": [
      "\u001b[0;31m---------------------------------------------------------------------------\u001b[0m",
      "\u001b[0;31mNameError\u001b[0m                                 Traceback (most recent call last)",
      "\u001b[0;32m/var/folders/8y/scw4yk6d3g99kqbs49wp8q3r0000gn/T/ipykernel_48230/2091651908.py\u001b[0m in \u001b[0;36m<module>\u001b[0;34m\u001b[0m\n\u001b[1;32m      1\u001b[0m \u001b[0;31m# last 5 rows..\u001b[0m\u001b[0;34m\u001b[0m\u001b[0;34m\u001b[0m\u001b[0m\n\u001b[0;32m----> 2\u001b[0;31m \u001b[0mmcd\u001b[0m\u001b[0;34m.\u001b[0m\u001b[0mtail\u001b[0m\u001b[0;34m(\u001b[0m\u001b[0;36m5\u001b[0m\u001b[0;34m)\u001b[0m\u001b[0;34m\u001b[0m\u001b[0;34m\u001b[0m\u001b[0m\n\u001b[0m",
      "\u001b[0;31mNameError\u001b[0m: name 'mcd' is not defined"
     ]
    }
   ],
   "source": [
    "# last 5 rows..\n",
    "mcd.tail(5)"
   ]
  },
  {
   "cell_type": "markdown",
   "id": "marine-catholic",
   "metadata": {},
   "source": [
    "### Selecting columns - can do just like with out simpler dataframe example above...\n",
    "* use column names..."
   ]
  },
  {
   "cell_type": "code",
   "execution_count": 26,
   "id": "naked-wisdom",
   "metadata": {},
   "outputs": [
    {
     "ename": "NameError",
     "evalue": "name 'mcd' is not defined",
     "output_type": "error",
     "traceback": [
      "\u001b[0;31m---------------------------------------------------------------------------\u001b[0m",
      "\u001b[0;31mNameError\u001b[0m                                 Traceback (most recent call last)",
      "\u001b[0;32m/var/folders/8y/scw4yk6d3g99kqbs49wp8q3r0000gn/T/ipykernel_48230/850099668.py\u001b[0m in \u001b[0;36m<module>\u001b[0;34m\u001b[0m\n\u001b[0;32m----> 1\u001b[0;31m \u001b[0mmcd\u001b[0m\u001b[0;34m[\u001b[0m\u001b[0;34m'Calories'\u001b[0m\u001b[0;34m]\u001b[0m\u001b[0;34m\u001b[0m\u001b[0;34m\u001b[0m\u001b[0m\n\u001b[0m",
      "\u001b[0;31mNameError\u001b[0m: name 'mcd' is not defined"
     ]
    }
   ],
   "source": [
    "mcd['Calories']"
   ]
  },
  {
   "cell_type": "code",
   "execution_count": 27,
   "id": "nonprofit-plymouth",
   "metadata": {},
   "outputs": [
    {
     "ename": "NameError",
     "evalue": "name 'mcd' is not defined",
     "output_type": "error",
     "traceback": [
      "\u001b[0;31m---------------------------------------------------------------------------\u001b[0m",
      "\u001b[0;31mNameError\u001b[0m                                 Traceback (most recent call last)",
      "\u001b[0;32m/var/folders/8y/scw4yk6d3g99kqbs49wp8q3r0000gn/T/ipykernel_48230/528057998.py\u001b[0m in \u001b[0;36m<module>\u001b[0;34m\u001b[0m\n\u001b[1;32m      1\u001b[0m \u001b[0;31m# multiple columns - can be non-contiguous\u001b[0m\u001b[0;34m\u001b[0m\u001b[0;34m\u001b[0m\u001b[0m\n\u001b[0;32m----> 2\u001b[0;31m \u001b[0mmcd\u001b[0m\u001b[0;34m[\u001b[0m\u001b[0;34m[\u001b[0m\u001b[0;34m'Calories'\u001b[0m\u001b[0;34m,\u001b[0m \u001b[0;34m'Saturated Fat'\u001b[0m\u001b[0;34m]\u001b[0m\u001b[0;34m]\u001b[0m\u001b[0;34m\u001b[0m\u001b[0;34m\u001b[0m\u001b[0m\n\u001b[0m",
      "\u001b[0;31mNameError\u001b[0m: name 'mcd' is not defined"
     ]
    }
   ],
   "source": [
    "# multiple columns - can be non-contiguous\n",
    "mcd[['Calories', 'Saturated Fat']]"
   ]
  },
  {
   "cell_type": "markdown",
   "id": "missing-overhead",
   "metadata": {},
   "source": [
    "### Selecting rows by position\n",
    "* can also select by row label using `.loc` as described above, but since we're using numerial index labels here it makes sense to use `.iloc`"
   ]
  },
  {
   "cell_type": "code",
   "execution_count": 28,
   "id": "social-chemistry",
   "metadata": {},
   "outputs": [
    {
     "ename": "NameError",
     "evalue": "name 'mcd' is not defined",
     "output_type": "error",
     "traceback": [
      "\u001b[0;31m---------------------------------------------------------------------------\u001b[0m",
      "\u001b[0;31mNameError\u001b[0m                                 Traceback (most recent call last)",
      "\u001b[0;32m/var/folders/8y/scw4yk6d3g99kqbs49wp8q3r0000gn/T/ipykernel_48230/1688310341.py\u001b[0m in \u001b[0;36m<module>\u001b[0;34m\u001b[0m\n\u001b[1;32m      1\u001b[0m \u001b[0;31m# first two rows...\u001b[0m\u001b[0;34m\u001b[0m\u001b[0;34m\u001b[0m\u001b[0m\n\u001b[0;32m----> 2\u001b[0;31m \u001b[0mmcd\u001b[0m\u001b[0;34m.\u001b[0m\u001b[0miloc\u001b[0m\u001b[0;34m[\u001b[0m\u001b[0;36m0\u001b[0m\u001b[0;34m:\u001b[0m\u001b[0;36m2\u001b[0m\u001b[0;34m]\u001b[0m\u001b[0;34m\u001b[0m\u001b[0;34m\u001b[0m\u001b[0m\n\u001b[0m",
      "\u001b[0;31mNameError\u001b[0m: name 'mcd' is not defined"
     ]
    }
   ],
   "source": [
    "# first two rows...\n",
    "mcd.iloc[0:2]"
   ]
  },
  {
   "cell_type": "markdown",
   "id": "directed-appraisal",
   "metadata": {},
   "source": [
    "### Selecting cells\n",
    "* above we selected into specific columns and or rows. \n",
    "* we can also select a subset of rows from a specific column, etc..."
   ]
  },
  {
   "cell_type": "code",
   "execution_count": 29,
   "id": "popular-valuable",
   "metadata": {},
   "outputs": [
    {
     "ename": "NameError",
     "evalue": "name 'mcd' is not defined",
     "output_type": "error",
     "traceback": [
      "\u001b[0;31m---------------------------------------------------------------------------\u001b[0m",
      "\u001b[0;31mNameError\u001b[0m                                 Traceback (most recent call last)",
      "\u001b[0;32m/var/folders/8y/scw4yk6d3g99kqbs49wp8q3r0000gn/T/ipykernel_48230/1551876365.py\u001b[0m in \u001b[0;36m<module>\u001b[0;34m\u001b[0m\n\u001b[1;32m      1\u001b[0m \u001b[0;31m# print out a few rows so we can see the column names...\u001b[0m\u001b[0;34m\u001b[0m\u001b[0;34m\u001b[0m\u001b[0m\n\u001b[0;32m----> 2\u001b[0;31m \u001b[0mmcd\u001b[0m\u001b[0;34m.\u001b[0m\u001b[0mhead\u001b[0m\u001b[0;34m(\u001b[0m\u001b[0;36m2\u001b[0m\u001b[0;34m)\u001b[0m\u001b[0;34m\u001b[0m\u001b[0;34m\u001b[0m\u001b[0m\n\u001b[0m",
      "\u001b[0;31mNameError\u001b[0m: name 'mcd' is not defined"
     ]
    }
   ],
   "source": [
    "# print out a few rows so we can see the column names...\n",
    "mcd.head(2)"
   ]
  },
  {
   "cell_type": "code",
   "execution_count": 30,
   "id": "solid-index",
   "metadata": {},
   "outputs": [
    {
     "ename": "NameError",
     "evalue": "name 'mcd' is not defined",
     "output_type": "error",
     "traceback": [
      "\u001b[0;31m---------------------------------------------------------------------------\u001b[0m",
      "\u001b[0;31mNameError\u001b[0m                                 Traceback (most recent call last)",
      "\u001b[0;32m/var/folders/8y/scw4yk6d3g99kqbs49wp8q3r0000gn/T/ipykernel_48230/2992656076.py\u001b[0m in \u001b[0;36m<module>\u001b[0;34m\u001b[0m\n\u001b[1;32m      1\u001b[0m \u001b[0;31m# this will give us the first entry in the 'Calories' column\u001b[0m\u001b[0;34m\u001b[0m\u001b[0;34m\u001b[0m\u001b[0m\n\u001b[0;32m----> 2\u001b[0;31m \u001b[0mmcd\u001b[0m\u001b[0;34m[\u001b[0m\u001b[0;34m'Calories'\u001b[0m\u001b[0;34m]\u001b[0m\u001b[0;34m.\u001b[0m\u001b[0miloc\u001b[0m\u001b[0;34m[\u001b[0m\u001b[0;36m0\u001b[0m\u001b[0;34m]\u001b[0m\u001b[0;34m\u001b[0m\u001b[0;34m\u001b[0m\u001b[0m\n\u001b[0m",
      "\u001b[0;31mNameError\u001b[0m: name 'mcd' is not defined"
     ]
    }
   ],
   "source": [
    "# this will give us the first entry in the 'Calories' column\n",
    "mcd['Calories'].iloc[0]"
   ]
  },
  {
   "cell_type": "code",
   "execution_count": 31,
   "id": "martial-shanghai",
   "metadata": {},
   "outputs": [
    {
     "ename": "NameError",
     "evalue": "name 'mcd' is not defined",
     "output_type": "error",
     "traceback": [
      "\u001b[0;31m---------------------------------------------------------------------------\u001b[0m",
      "\u001b[0;31mNameError\u001b[0m                                 Traceback (most recent call last)",
      "\u001b[0;32m/var/folders/8y/scw4yk6d3g99kqbs49wp8q3r0000gn/T/ipykernel_48230/613171193.py\u001b[0m in \u001b[0;36m<module>\u001b[0;34m\u001b[0m\n\u001b[1;32m      1\u001b[0m \u001b[0;31m# shorthand for above...can leave off the explicit .iloc\u001b[0m\u001b[0;34m\u001b[0m\u001b[0;34m\u001b[0m\u001b[0m\n\u001b[0;32m----> 2\u001b[0;31m \u001b[0mmcd\u001b[0m\u001b[0;34m[\u001b[0m\u001b[0;34m'Calories'\u001b[0m\u001b[0;34m]\u001b[0m\u001b[0;34m[\u001b[0m\u001b[0;36m0\u001b[0m\u001b[0;34m]\u001b[0m\u001b[0;34m\u001b[0m\u001b[0;34m\u001b[0m\u001b[0m\n\u001b[0m",
      "\u001b[0;31mNameError\u001b[0m: name 'mcd' is not defined"
     ]
    }
   ],
   "source": [
    "# shorthand for above...can leave off the explicit .iloc\n",
    "mcd['Calories'][0]"
   ]
  },
  {
   "cell_type": "markdown",
   "id": "040a821c",
   "metadata": {},
   "source": [
    "## Getting subset of rows and colums\n",
    "* If asking for a non-contiguous set of columns, we can pass in a list defined with `[]`\n",
    "* If asking for a contiguous set of columns, we can use `:`\n",
    "* Note: need to be super careful using `.loc` (e.g., if you sorted the dataframe, then the following code would return all rows between the one labeled 0 and the one labeled 10...and if they are not in ascending order anymore then that might give you something unexpected!)"
   ]
  },
  {
   "cell_type": "code",
   "execution_count": 32,
   "id": "a4d36671",
   "metadata": {},
   "outputs": [
    {
     "ename": "NameError",
     "evalue": "name 'mcd' is not defined",
     "output_type": "error",
     "traceback": [
      "\u001b[0;31m---------------------------------------------------------------------------\u001b[0m",
      "\u001b[0;31mNameError\u001b[0m                                 Traceback (most recent call last)",
      "\u001b[0;32m/var/folders/8y/scw4yk6d3g99kqbs49wp8q3r0000gn/T/ipykernel_48230/1740593815.py\u001b[0m in \u001b[0;36m<module>\u001b[0;34m\u001b[0m\n\u001b[1;32m      1\u001b[0m \u001b[0;31m# first 10 rows, Calories and Total Fat columns\u001b[0m\u001b[0;34m\u001b[0m\u001b[0;34m\u001b[0m\u001b[0m\n\u001b[1;32m      2\u001b[0m \u001b[0;31m# index + name\u001b[0m\u001b[0;34m\u001b[0m\u001b[0;34m\u001b[0m\u001b[0m\n\u001b[0;32m----> 3\u001b[0;31m \u001b[0mmcd\u001b[0m\u001b[0;34m.\u001b[0m\u001b[0mloc\u001b[0m\u001b[0;34m[\u001b[0m\u001b[0;36m0\u001b[0m\u001b[0;34m:\u001b[0m\u001b[0;36m10\u001b[0m\u001b[0;34m,\u001b[0m \u001b[0;34m[\u001b[0m\u001b[0;34m'Calories'\u001b[0m\u001b[0;34m,\u001b[0m\u001b[0;34m'Total Fat'\u001b[0m\u001b[0;34m]\u001b[0m\u001b[0;34m]\u001b[0m\u001b[0;34m\u001b[0m\u001b[0;34m\u001b[0m\u001b[0m\n\u001b[0m",
      "\u001b[0;31mNameError\u001b[0m: name 'mcd' is not defined"
     ]
    }
   ],
   "source": [
    "# first 10 rows, Calories and Total Fat columns\n",
    "# index + name\n",
    "mcd.loc[0:10, ['Calories','Total Fat']]"
   ]
  },
  {
   "cell_type": "code",
   "execution_count": 33,
   "id": "de71abf2",
   "metadata": {},
   "outputs": [
    {
     "ename": "NameError",
     "evalue": "name 'mcd' is not defined",
     "output_type": "error",
     "traceback": [
      "\u001b[0;31m---------------------------------------------------------------------------\u001b[0m",
      "\u001b[0;31mNameError\u001b[0m                                 Traceback (most recent call last)",
      "\u001b[0;32m/var/folders/8y/scw4yk6d3g99kqbs49wp8q3r0000gn/T/ipykernel_48230/2556445165.py\u001b[0m in \u001b[0;36m<module>\u001b[0;34m\u001b[0m\n\u001b[1;32m      1\u001b[0m \u001b[0;31m# first 10 rows, all columns between 'Calories' and 'Total Fat'\u001b[0m\u001b[0;34m\u001b[0m\u001b[0;34m\u001b[0m\u001b[0m\n\u001b[0;32m----> 2\u001b[0;31m \u001b[0mmcd\u001b[0m\u001b[0;34m.\u001b[0m\u001b[0mloc\u001b[0m\u001b[0;34m[\u001b[0m\u001b[0;36m0\u001b[0m\u001b[0;34m:\u001b[0m\u001b[0;36m10\u001b[0m\u001b[0;34m,\u001b[0m \u001b[0;34m'Calories'\u001b[0m\u001b[0;34m:\u001b[0m\u001b[0;34m'Total Fat'\u001b[0m\u001b[0;34m]\u001b[0m\u001b[0;34m\u001b[0m\u001b[0;34m\u001b[0m\u001b[0m\n\u001b[0m",
      "\u001b[0;31mNameError\u001b[0m: name 'mcd' is not defined"
     ]
    }
   ],
   "source": [
    "# first 10 rows, all columns between 'Calories' and 'Total Fat'\n",
    "mcd.loc[0:10, 'Calories':'Total Fat']"
   ]
  },
  {
   "cell_type": "markdown",
   "id": "unnecessary-float",
   "metadata": {},
   "source": [
    "## Filtering rows via logical indexing\n",
    "* logical indexing (boolean indexing) will filter dataframes based on whether certain conditions are met\n",
    "* we did some of this with lists, and the concepts are the same, but it can get a little more complex because now we're dealing with larger and multi-dimensional data sets. \n",
    "* start by filtering the dataframe based on the values of entries in a specific row. "
   ]
  },
  {
   "cell_type": "code",
   "execution_count": 34,
   "id": "double-conspiracy",
   "metadata": {},
   "outputs": [
    {
     "ename": "NameError",
     "evalue": "name 'mcd' is not defined",
     "output_type": "error",
     "traceback": [
      "\u001b[0;31m---------------------------------------------------------------------------\u001b[0m",
      "\u001b[0;31mNameError\u001b[0m                                 Traceback (most recent call last)",
      "\u001b[0;32m/var/folders/8y/scw4yk6d3g99kqbs49wp8q3r0000gn/T/ipykernel_48230/1791741490.py\u001b[0m in \u001b[0;36m<module>\u001b[0;34m\u001b[0m\n\u001b[1;32m      1\u001b[0m \u001b[0;31m# return a version of the dataframe with just rows\u001b[0m\u001b[0;34m\u001b[0m\u001b[0;34m\u001b[0m\u001b[0m\n\u001b[1;32m      2\u001b[0m \u001b[0;31m# where 'Calories' are greater than 1000\u001b[0m\u001b[0;34m\u001b[0m\u001b[0;34m\u001b[0m\u001b[0m\n\u001b[0;32m----> 3\u001b[0;31m \u001b[0mmcd\u001b[0m\u001b[0;34m[\u001b[0m \u001b[0mmcd\u001b[0m\u001b[0;34m[\u001b[0m\u001b[0;34m'Calories'\u001b[0m\u001b[0;34m]\u001b[0m \u001b[0;34m>=\u001b[0m \u001b[0;36m1000\u001b[0m \u001b[0;34m]\u001b[0m\u001b[0;34m\u001b[0m\u001b[0;34m\u001b[0m\u001b[0m\n\u001b[0m",
      "\u001b[0;31mNameError\u001b[0m: name 'mcd' is not defined"
     ]
    }
   ],
   "source": [
    "# return a version of the dataframe with just rows\n",
    "# where 'Calories' are greater than 1000\n",
    "mcd[ mcd['Calories'] >= 1000 ]"
   ]
  },
  {
   "cell_type": "code",
   "execution_count": 35,
   "id": "b3225e1e",
   "metadata": {},
   "outputs": [
    {
     "ename": "NameError",
     "evalue": "name 'mcd' is not defined",
     "output_type": "error",
     "traceback": [
      "\u001b[0;31m---------------------------------------------------------------------------\u001b[0m",
      "\u001b[0;31mNameError\u001b[0m                                 Traceback (most recent call last)",
      "\u001b[0;32m/var/folders/8y/scw4yk6d3g99kqbs49wp8q3r0000gn/T/ipykernel_48230/3790260420.py\u001b[0m in \u001b[0;36m<module>\u001b[0;34m\u001b[0m\n\u001b[1;32m      4\u001b[0m \u001b[0;31m# if we want to store the output of this filtering operation\u001b[0m\u001b[0;34m\u001b[0m\u001b[0;34m\u001b[0m\u001b[0m\n\u001b[1;32m      5\u001b[0m \u001b[0;31m# we need to assign the output (LHS)\u001b[0m\u001b[0;34m\u001b[0m\u001b[0;34m\u001b[0m\u001b[0m\n\u001b[0;32m----> 6\u001b[0;31m \u001b[0mfat40\u001b[0m \u001b[0;34m=\u001b[0m \u001b[0mmcd\u001b[0m\u001b[0;34m[\u001b[0m \u001b[0mmcd\u001b[0m\u001b[0;34m[\u001b[0m\u001b[0;34m'Total Fat'\u001b[0m\u001b[0;34m]\u001b[0m \u001b[0;34m>=\u001b[0m \u001b[0;36m40\u001b[0m \u001b[0;34m]\u001b[0m\u001b[0;34m\u001b[0m\u001b[0;34m\u001b[0m\u001b[0m\n\u001b[0m\u001b[1;32m      7\u001b[0m \u001b[0mfat40\u001b[0m\u001b[0;34m.\u001b[0m\u001b[0mhead\u001b[0m\u001b[0;34m(\u001b[0m\u001b[0;36m10\u001b[0m\u001b[0;34m)\u001b[0m\u001b[0;34m\u001b[0m\u001b[0;34m\u001b[0m\u001b[0m\n",
      "\u001b[0;31mNameError\u001b[0m: name 'mcd' is not defined"
     ]
    }
   ],
   "source": [
    "# return a version of the dataframe with just rows\n",
    "# where 'Total Fat' is greater than or equal to 40\n",
    "\n",
    "# if we want to store the output of this filtering operation\n",
    "# we need to assign the output (LHS)\n",
    "fat40 = mcd[ mcd['Total Fat'] >= 40 ]\n",
    "fat40.head(10)"
   ]
  },
  {
   "cell_type": "markdown",
   "id": "55ff2b7b",
   "metadata": {},
   "source": [
    "### This also works on non-numerical categories..."
   ]
  },
  {
   "cell_type": "code",
   "execution_count": 36,
   "id": "lyric-purchase",
   "metadata": {},
   "outputs": [
    {
     "ename": "NameError",
     "evalue": "name 'mcd' is not defined",
     "output_type": "error",
     "traceback": [
      "\u001b[0;31m---------------------------------------------------------------------------\u001b[0m",
      "\u001b[0;31mNameError\u001b[0m                                 Traceback (most recent call last)",
      "\u001b[0;32m/var/folders/8y/scw4yk6d3g99kqbs49wp8q3r0000gn/T/ipykernel_48230/1436923657.py\u001b[0m in \u001b[0;36m<module>\u001b[0;34m\u001b[0m\n\u001b[0;32m----> 1\u001b[0;31m \u001b[0mmcd\u001b[0m\u001b[0;34m[\u001b[0m \u001b[0mmcd\u001b[0m\u001b[0;34m[\u001b[0m\u001b[0;34m'Category'\u001b[0m\u001b[0;34m]\u001b[0m \u001b[0;34m==\u001b[0m \u001b[0;34m'Breakfast'\u001b[0m \u001b[0;34m]\u001b[0m\u001b[0;34m\u001b[0m\u001b[0;34m\u001b[0m\u001b[0m\n\u001b[0m",
      "\u001b[0;31mNameError\u001b[0m: name 'mcd' is not defined"
     ]
    }
   ],
   "source": [
    "mcd[ mcd['Category'] == 'Breakfast' ]"
   ]
  },
  {
   "cell_type": "markdown",
   "id": "1d84fe4e",
   "metadata": {},
   "source": [
    "### And we chain together multiple conditions as well...\n",
    "* Example: all entries where Category is Breakfast, Calories greater than 300, and Calories less than 500"
   ]
  },
  {
   "cell_type": "code",
   "execution_count": 37,
   "id": "desirable-european",
   "metadata": {},
   "outputs": [
    {
     "ename": "NameError",
     "evalue": "name 'mcd' is not defined",
     "output_type": "error",
     "traceback": [
      "\u001b[0;31m---------------------------------------------------------------------------\u001b[0m",
      "\u001b[0;31mNameError\u001b[0m                                 Traceback (most recent call last)",
      "\u001b[0;32m/var/folders/8y/scw4yk6d3g99kqbs49wp8q3r0000gn/T/ipykernel_48230/993875421.py\u001b[0m in \u001b[0;36m<module>\u001b[0;34m\u001b[0m\n\u001b[0;32m----> 1\u001b[0;31m mcd[ (mcd['Category'] == 'Breakfast') & \n\u001b[0m\u001b[1;32m      2\u001b[0m   \u001b[0;34m(\u001b[0m\u001b[0mmcd\u001b[0m\u001b[0;34m[\u001b[0m\u001b[0;34m'Calories'\u001b[0m\u001b[0;34m]\u001b[0m \u001b[0;34m>\u001b[0m \u001b[0;36m300\u001b[0m\u001b[0;34m)\u001b[0m \u001b[0;34m&\u001b[0m\u001b[0;34m\u001b[0m\u001b[0;34m\u001b[0m\u001b[0m\n\u001b[1;32m      3\u001b[0m   (mcd['Calories'] < 500) ]\n",
      "\u001b[0;31mNameError\u001b[0m: name 'mcd' is not defined"
     ]
    }
   ],
   "source": [
    "mcd[ (mcd['Category'] == 'Breakfast') & \n",
    "  (mcd['Calories'] > 300) & \n",
    "  (mcd['Calories'] < 500) ]"
   ]
  },
  {
   "cell_type": "markdown",
   "id": "d177009e",
   "metadata": {},
   "source": [
    "### How does this work? \n",
    "* If we take a look at the filtering conditionals, they will determine all rows where the given condition is met\n",
    "* If they are met, you'll get a `True` value returned, and if they are not met, you'll get a `False` value returned...\n",
    "* Take a look if we just specify the conditionals...\n",
    "* Note that the length of the output matches the length of our dataframe (the number of rows)...i.e., every row has either a `True` or a `False`"
   ]
  },
  {
   "cell_type": "code",
   "execution_count": 38,
   "id": "actual-fifth",
   "metadata": {},
   "outputs": [
    {
     "ename": "NameError",
     "evalue": "name 'mcd' is not defined",
     "output_type": "error",
     "traceback": [
      "\u001b[0;31m---------------------------------------------------------------------------\u001b[0m",
      "\u001b[0;31mNameError\u001b[0m                                 Traceback (most recent call last)",
      "\u001b[0;32m/var/folders/8y/scw4yk6d3g99kqbs49wp8q3r0000gn/T/ipykernel_48230/2788010356.py\u001b[0m in \u001b[0;36m<module>\u001b[0;34m\u001b[0m\n\u001b[0;32m----> 1\u001b[0;31m \u001b[0;34m(\u001b[0m\u001b[0mmcd\u001b[0m\u001b[0;34m[\u001b[0m\u001b[0;34m'Category'\u001b[0m\u001b[0;34m]\u001b[0m \u001b[0;34m==\u001b[0m \u001b[0;34m'Breakfast'\u001b[0m\u001b[0;34m)\u001b[0m \u001b[0;34m&\u001b[0m \u001b[0;34m(\u001b[0m\u001b[0mmcd\u001b[0m\u001b[0;34m[\u001b[0m\u001b[0;34m'Calories'\u001b[0m\u001b[0;34m]\u001b[0m \u001b[0;34m>\u001b[0m \u001b[0;36m300\u001b[0m\u001b[0;34m)\u001b[0m\u001b[0;34m\u001b[0m\u001b[0;34m\u001b[0m\u001b[0m\n\u001b[0m",
      "\u001b[0;31mNameError\u001b[0m: name 'mcd' is not defined"
     ]
    }
   ],
   "source": [
    "(mcd['Category'] == 'Breakfast') & (mcd['Calories'] > 300)"
   ]
  },
  {
   "cell_type": "code",
   "execution_count": 39,
   "id": "billion-longer",
   "metadata": {},
   "outputs": [
    {
     "ename": "NameError",
     "evalue": "name 'mcd' is not defined",
     "output_type": "error",
     "traceback": [
      "\u001b[0;31m---------------------------------------------------------------------------\u001b[0m",
      "\u001b[0;31mNameError\u001b[0m                                 Traceback (most recent call last)",
      "\u001b[0;32m/var/folders/8y/scw4yk6d3g99kqbs49wp8q3r0000gn/T/ipykernel_48230/677839478.py\u001b[0m in \u001b[0;36m<module>\u001b[0;34m\u001b[0m\n\u001b[1;32m      1\u001b[0m \u001b[0;31m# now lets assign this list of booleans to another variable\u001b[0m\u001b[0;34m\u001b[0m\u001b[0;34m\u001b[0m\u001b[0m\n\u001b[0;32m----> 2\u001b[0;31m \u001b[0mindex\u001b[0m \u001b[0;34m=\u001b[0m \u001b[0;34m(\u001b[0m\u001b[0mmcd\u001b[0m\u001b[0;34m[\u001b[0m\u001b[0;34m'Category'\u001b[0m\u001b[0;34m]\u001b[0m \u001b[0;34m==\u001b[0m \u001b[0;34m'Breakfast'\u001b[0m\u001b[0;34m)\u001b[0m \u001b[0;34m&\u001b[0m \u001b[0;34m(\u001b[0m\u001b[0mmcd\u001b[0m\u001b[0;34m[\u001b[0m\u001b[0;34m'Calories'\u001b[0m\u001b[0;34m]\u001b[0m \u001b[0;34m>\u001b[0m \u001b[0;36m300\u001b[0m\u001b[0;34m)\u001b[0m\u001b[0;34m\u001b[0m\u001b[0;34m\u001b[0m\u001b[0m\n\u001b[0m",
      "\u001b[0;31mNameError\u001b[0m: name 'mcd' is not defined"
     ]
    }
   ],
   "source": [
    "# now lets assign this list of booleans to another variable\n",
    "index = (mcd['Category'] == 'Breakfast') & (mcd['Calories'] > 300)"
   ]
  },
  {
   "cell_type": "code",
   "execution_count": 40,
   "id": "polar-theater",
   "metadata": {},
   "outputs": [
    {
     "ename": "NameError",
     "evalue": "name 'mcd' is not defined",
     "output_type": "error",
     "traceback": [
      "\u001b[0;31m---------------------------------------------------------------------------\u001b[0m",
      "\u001b[0;31mNameError\u001b[0m                                 Traceback (most recent call last)",
      "\u001b[0;32m/var/folders/8y/scw4yk6d3g99kqbs49wp8q3r0000gn/T/ipykernel_48230/3519258248.py\u001b[0m in \u001b[0;36m<module>\u001b[0;34m\u001b[0m\n\u001b[1;32m      1\u001b[0m \u001b[0;31m# and by substitution, we get...\u001b[0m\u001b[0;34m\u001b[0m\u001b[0;34m\u001b[0m\u001b[0m\n\u001b[0;32m----> 2\u001b[0;31m \u001b[0mmcd\u001b[0m \u001b[0;34m[\u001b[0m \u001b[0mindex\u001b[0m \u001b[0;34m]\u001b[0m\u001b[0;34m\u001b[0m\u001b[0;34m\u001b[0m\u001b[0m\n\u001b[0m",
      "\u001b[0;31mNameError\u001b[0m: name 'mcd' is not defined"
     ]
    }
   ],
   "source": [
    "# and by substitution, we get...\n",
    "mcd [ index ]"
   ]
  },
  {
   "cell_type": "markdown",
   "id": "pleased-scotland",
   "metadata": {},
   "source": [
    "## Review of logical indexing...\n",
    "* make conjunctions by combining arrays of logical values with & (and operations)\n",
    "* make disjunctions with |  (or operations)\n",
    "* and we need to put comparison operations in () before combining"
   ]
  },
  {
   "cell_type": "markdown",
   "id": "55c11776",
   "metadata": {},
   "source": [
    "## Other handy methods..."
   ]
  },
  {
   "cell_type": "markdown",
   "id": "4a453d17",
   "metadata": {},
   "source": [
    "### Basic math operations...\n",
    "* describe is a handy way to get summary stats...\n",
    "* mean, std, etc..."
   ]
  },
  {
   "cell_type": "code",
   "execution_count": 41,
   "id": "b56690f3",
   "metadata": {},
   "outputs": [
    {
     "ename": "NameError",
     "evalue": "name 'mcd' is not defined",
     "output_type": "error",
     "traceback": [
      "\u001b[0;31m---------------------------------------------------------------------------\u001b[0m",
      "\u001b[0;31mNameError\u001b[0m                                 Traceback (most recent call last)",
      "\u001b[0;32m/var/folders/8y/scw4yk6d3g99kqbs49wp8q3r0000gn/T/ipykernel_48230/2398496133.py\u001b[0m in \u001b[0;36m<module>\u001b[0;34m\u001b[0m\n\u001b[0;32m----> 1\u001b[0;31m \u001b[0mmcd\u001b[0m\u001b[0;34m.\u001b[0m\u001b[0mdescribe\u001b[0m\u001b[0;34m(\u001b[0m\u001b[0;34m)\u001b[0m\u001b[0;34m\u001b[0m\u001b[0;34m\u001b[0m\u001b[0m\n\u001b[0m",
      "\u001b[0;31mNameError\u001b[0m: name 'mcd' is not defined"
     ]
    }
   ],
   "source": [
    "mcd.describe()"
   ]
  },
  {
   "cell_type": "code",
   "execution_count": 42,
   "id": "477da752",
   "metadata": {},
   "outputs": [
    {
     "ename": "NameError",
     "evalue": "name 'mcd' is not defined",
     "output_type": "error",
     "traceback": [
      "\u001b[0;31m---------------------------------------------------------------------------\u001b[0m",
      "\u001b[0;31mNameError\u001b[0m                                 Traceback (most recent call last)",
      "\u001b[0;32m/var/folders/8y/scw4yk6d3g99kqbs49wp8q3r0000gn/T/ipykernel_48230/2954269324.py\u001b[0m in \u001b[0;36m<module>\u001b[0;34m\u001b[0m\n\u001b[1;32m      1\u001b[0m \u001b[0;31m# mean Calories...\u001b[0m\u001b[0;34m\u001b[0m\u001b[0;34m\u001b[0m\u001b[0m\n\u001b[0;32m----> 2\u001b[0;31m \u001b[0mmcd\u001b[0m\u001b[0;34m.\u001b[0m\u001b[0mCalories\u001b[0m\u001b[0;34m.\u001b[0m\u001b[0mmean\u001b[0m\u001b[0;34m(\u001b[0m\u001b[0;34m)\u001b[0m\u001b[0;34m\u001b[0m\u001b[0;34m\u001b[0m\u001b[0m\n\u001b[0m\u001b[1;32m      3\u001b[0m \u001b[0;34m\u001b[0m\u001b[0m\n\u001b[1;32m      4\u001b[0m \u001b[0;31m# or\u001b[0m\u001b[0;34m\u001b[0m\u001b[0;34m\u001b[0m\u001b[0m\n\u001b[1;32m      5\u001b[0m \u001b[0;31m# mcd['Calories'].mean()\u001b[0m\u001b[0;34m\u001b[0m\u001b[0;34m\u001b[0m\u001b[0m\n",
      "\u001b[0;31mNameError\u001b[0m: name 'mcd' is not defined"
     ]
    }
   ],
   "source": [
    "# mean Calories...\n",
    "mcd.Calories.mean()\n",
    "\n",
    "# or\n",
    "# mcd['Calories'].mean()"
   ]
  },
  {
   "cell_type": "code",
   "execution_count": 43,
   "id": "bf37568e",
   "metadata": {},
   "outputs": [
    {
     "ename": "NameError",
     "evalue": "name 'mcd' is not defined",
     "output_type": "error",
     "traceback": [
      "\u001b[0;31m---------------------------------------------------------------------------\u001b[0m",
      "\u001b[0;31mNameError\u001b[0m                                 Traceback (most recent call last)",
      "\u001b[0;32m/var/folders/8y/scw4yk6d3g99kqbs49wp8q3r0000gn/T/ipykernel_48230/2610412596.py\u001b[0m in \u001b[0;36m<module>\u001b[0;34m\u001b[0m\n\u001b[1;32m      1\u001b[0m \u001b[0;31m# standard deviation\u001b[0m\u001b[0;34m\u001b[0m\u001b[0;34m\u001b[0m\u001b[0m\n\u001b[0;32m----> 2\u001b[0;31m \u001b[0mmcd\u001b[0m\u001b[0;34m.\u001b[0m\u001b[0mCalories\u001b[0m\u001b[0;34m.\u001b[0m\u001b[0mstd\u001b[0m\u001b[0;34m(\u001b[0m\u001b[0;34m)\u001b[0m\u001b[0;34m\u001b[0m\u001b[0;34m\u001b[0m\u001b[0m\n\u001b[0m",
      "\u001b[0;31mNameError\u001b[0m: name 'mcd' is not defined"
     ]
    }
   ],
   "source": [
    "# standard deviation\n",
    "mcd.Calories.std()"
   ]
  },
  {
   "cell_type": "markdown",
   "id": "martial-cheese",
   "metadata": {},
   "source": [
    "### Sorting entire dataframe based on values in one column\n",
    "* here we can easily find the menu item with the fewest calories\n",
    "* sort by the 'Calories' column, then pull out the name of the item\n",
    "* default behavior is to not sort in place, so we need to reassign!"
   ]
  },
  {
   "cell_type": "code",
   "execution_count": 44,
   "id": "elementary-floating",
   "metadata": {},
   "outputs": [
    {
     "ename": "NameError",
     "evalue": "name 'mcd' is not defined",
     "output_type": "error",
     "traceback": [
      "\u001b[0;31m---------------------------------------------------------------------------\u001b[0m",
      "\u001b[0;31mNameError\u001b[0m                                 Traceback (most recent call last)",
      "\u001b[0;32m/var/folders/8y/scw4yk6d3g99kqbs49wp8q3r0000gn/T/ipykernel_48230/625453910.py\u001b[0m in \u001b[0;36m<module>\u001b[0;34m\u001b[0m\n\u001b[1;32m      1\u001b[0m \u001b[0;31m# sort - ascending order by default\u001b[0m\u001b[0;34m\u001b[0m\u001b[0;34m\u001b[0m\u001b[0m\n\u001b[0;32m----> 2\u001b[0;31m \u001b[0mmcd\u001b[0m\u001b[0;34m.\u001b[0m\u001b[0msort_values\u001b[0m\u001b[0;34m(\u001b[0m\u001b[0;34m'Calories'\u001b[0m\u001b[0;34m)\u001b[0m\u001b[0;34m\u001b[0m\u001b[0;34m\u001b[0m\u001b[0m\n\u001b[0m",
      "\u001b[0;31mNameError\u001b[0m: name 'mcd' is not defined"
     ]
    }
   ],
   "source": [
    "# sort - ascending order by default\n",
    "mcd.sort_values('Calories')"
   ]
  },
  {
   "cell_type": "code",
   "execution_count": 45,
   "id": "killing-cylinder",
   "metadata": {},
   "outputs": [
    {
     "ename": "NameError",
     "evalue": "name 'mcd' is not defined",
     "output_type": "error",
     "traceback": [
      "\u001b[0;31m---------------------------------------------------------------------------\u001b[0m",
      "\u001b[0;31mNameError\u001b[0m                                 Traceback (most recent call last)",
      "\u001b[0;32m/var/folders/8y/scw4yk6d3g99kqbs49wp8q3r0000gn/T/ipykernel_48230/2365056318.py\u001b[0m in \u001b[0;36m<module>\u001b[0;34m\u001b[0m\n\u001b[1;32m      1\u001b[0m \u001b[0;31m# descending order (ascending = False)\u001b[0m\u001b[0;34m\u001b[0m\u001b[0;34m\u001b[0m\u001b[0m\n\u001b[0;32m----> 2\u001b[0;31m \u001b[0mmcd\u001b[0m\u001b[0;34m.\u001b[0m\u001b[0msort_values\u001b[0m\u001b[0;34m(\u001b[0m\u001b[0;34m'Calories'\u001b[0m\u001b[0;34m,\u001b[0m \u001b[0mascending\u001b[0m \u001b[0;34m=\u001b[0m \u001b[0;32mFalse\u001b[0m\u001b[0;34m)\u001b[0m\u001b[0;34m\u001b[0m\u001b[0;34m\u001b[0m\u001b[0m\n\u001b[0m",
      "\u001b[0;31mNameError\u001b[0m: name 'mcd' is not defined"
     ]
    }
   ],
   "source": [
    "# descending order (ascending = False)\n",
    "mcd.sort_values('Calories', ascending = False)"
   ]
  },
  {
   "cell_type": "markdown",
   "id": "4e3381dc",
   "metadata": {},
   "source": [
    "### Chaining together methods\n",
    "* Possible to apply multiple methods in one line of code...\n",
    "* Careful here...can be super effecient and compact, but you can get carried away and make your code really confusing and hard to understand (even to yourself!)"
   ]
  },
  {
   "cell_type": "code",
   "execution_count": 46,
   "id": "rural-michigan",
   "metadata": {},
   "outputs": [
    {
     "ename": "NameError",
     "evalue": "name 'mcd' is not defined",
     "output_type": "error",
     "traceback": [
      "\u001b[0;31m---------------------------------------------------------------------------\u001b[0m",
      "\u001b[0;31mNameError\u001b[0m                                 Traceback (most recent call last)",
      "\u001b[0;32m/var/folders/8y/scw4yk6d3g99kqbs49wp8q3r0000gn/T/ipykernel_48230/3570931540.py\u001b[0m in \u001b[0;36m<module>\u001b[0;34m\u001b[0m\n\u001b[1;32m      1\u001b[0m \u001b[0;31m# sort and then display the last three rows\u001b[0m\u001b[0;34m\u001b[0m\u001b[0;34m\u001b[0m\u001b[0m\n\u001b[0;32m----> 2\u001b[0;31m \u001b[0mmcd\u001b[0m\u001b[0;34m.\u001b[0m\u001b[0msort_values\u001b[0m\u001b[0;34m(\u001b[0m\u001b[0;34m'Total Fat'\u001b[0m\u001b[0;34m)\u001b[0m\u001b[0;34m.\u001b[0m\u001b[0mtail\u001b[0m\u001b[0;34m(\u001b[0m\u001b[0;36m3\u001b[0m\u001b[0;34m)\u001b[0m\u001b[0;34m\u001b[0m\u001b[0;34m\u001b[0m\u001b[0m\n\u001b[0m",
      "\u001b[0;31mNameError\u001b[0m: name 'mcd' is not defined"
     ]
    }
   ],
   "source": [
    "# sort and then display the last three rows\n",
    "mcd.sort_values('Total Fat').tail(3)"
   ]
  },
  {
   "cell_type": "code",
   "execution_count": 47,
   "id": "stunning-canadian",
   "metadata": {},
   "outputs": [
    {
     "ename": "NameError",
     "evalue": "name 'mcd' is not defined",
     "output_type": "error",
     "traceback": [
      "\u001b[0;31m---------------------------------------------------------------------------\u001b[0m",
      "\u001b[0;31mNameError\u001b[0m                                 Traceback (most recent call last)",
      "\u001b[0;32m/var/folders/8y/scw4yk6d3g99kqbs49wp8q3r0000gn/T/ipykernel_48230/3329325847.py\u001b[0m in \u001b[0;36m<module>\u001b[0;34m\u001b[0m\n\u001b[1;32m      1\u001b[0m \u001b[0;31m# another way to achieve the same outcome...\u001b[0m\u001b[0;34m\u001b[0m\u001b[0;34m\u001b[0m\u001b[0m\n\u001b[0;32m----> 2\u001b[0;31m \u001b[0mmcd\u001b[0m\u001b[0;34m.\u001b[0m\u001b[0msort_values\u001b[0m\u001b[0;34m(\u001b[0m\u001b[0;34m'Total Fat'\u001b[0m\u001b[0;34m)\u001b[0m\u001b[0;34m.\u001b[0m\u001b[0miloc\u001b[0m\u001b[0;34m[\u001b[0m\u001b[0;34m-\u001b[0m\u001b[0;36m3\u001b[0m\u001b[0;34m:\u001b[0m\u001b[0;34m]\u001b[0m\u001b[0;34m\u001b[0m\u001b[0;34m\u001b[0m\u001b[0m\n\u001b[0m",
      "\u001b[0;31mNameError\u001b[0m: name 'mcd' is not defined"
     ]
    }
   ],
   "source": [
    "# another way to achieve the same outcome...\n",
    "mcd.sort_values('Total Fat').iloc[-3:]"
   ]
  },
  {
   "cell_type": "code",
   "execution_count": 48,
   "id": "mexican-curve",
   "metadata": {},
   "outputs": [
    {
     "ename": "NameError",
     "evalue": "name 'mcd' is not defined",
     "output_type": "error",
     "traceback": [
      "\u001b[0;31m---------------------------------------------------------------------------\u001b[0m",
      "\u001b[0;31mNameError\u001b[0m                                 Traceback (most recent call last)",
      "\u001b[0;32m/var/folders/8y/scw4yk6d3g99kqbs49wp8q3r0000gn/T/ipykernel_48230/976184802.py\u001b[0m in \u001b[0;36m<module>\u001b[0;34m\u001b[0m\n\u001b[1;32m      1\u001b[0m \u001b[0;31m# three highest fat items in descending order\u001b[0m\u001b[0;34m\u001b[0m\u001b[0;34m\u001b[0m\u001b[0m\n\u001b[0;32m----> 2\u001b[0;31m \u001b[0mmcd\u001b[0m\u001b[0;34m.\u001b[0m\u001b[0msort_values\u001b[0m\u001b[0;34m(\u001b[0m\u001b[0;34m'Total Fat'\u001b[0m\u001b[0;34m,\u001b[0m \u001b[0mascending\u001b[0m \u001b[0;34m=\u001b[0m \u001b[0;32mFalse\u001b[0m\u001b[0;34m)\u001b[0m\u001b[0;34m.\u001b[0m\u001b[0miloc\u001b[0m\u001b[0;34m[\u001b[0m\u001b[0;34m:\u001b[0m\u001b[0;36m3\u001b[0m\u001b[0;34m]\u001b[0m\u001b[0;34m\u001b[0m\u001b[0;34m\u001b[0m\u001b[0m\n\u001b[0m",
      "\u001b[0;31mNameError\u001b[0m: name 'mcd' is not defined"
     ]
    }
   ],
   "source": [
    "# three highest fat items in descending order\n",
    "mcd.sort_values('Total Fat', ascending = False).iloc[:3]"
   ]
  },
  {
   "cell_type": "markdown",
   "id": "professional-catch",
   "metadata": {},
   "source": [
    "## Solving simple tasks - examples\n",
    "\n",
    "### Find the breakfast menu item with the fewest calories"
   ]
  },
  {
   "cell_type": "code",
   "execution_count": 49,
   "id": "sensitive-cradle",
   "metadata": {},
   "outputs": [
    {
     "ename": "NameError",
     "evalue": "name 'mcd' is not defined",
     "output_type": "error",
     "traceback": [
      "\u001b[0;31m---------------------------------------------------------------------------\u001b[0m",
      "\u001b[0;31mNameError\u001b[0m                                 Traceback (most recent call last)",
      "\u001b[0;32m/var/folders/8y/scw4yk6d3g99kqbs49wp8q3r0000gn/T/ipykernel_48230/3698975362.py\u001b[0m in \u001b[0;36m<module>\u001b[0;34m\u001b[0m\n\u001b[0;32m----> 1\u001b[0;31m \u001b[0mmcd\u001b[0m\u001b[0;34m[\u001b[0m \u001b[0mmcd\u001b[0m\u001b[0;34m[\u001b[0m\u001b[0;34m'Category'\u001b[0m\u001b[0;34m]\u001b[0m \u001b[0;34m==\u001b[0m \u001b[0;34m'Breakfast'\u001b[0m\u001b[0;34m]\u001b[0m\u001b[0;34m.\u001b[0m\u001b[0msort_values\u001b[0m\u001b[0;34m(\u001b[0m\u001b[0;34m'Calories'\u001b[0m\u001b[0;34m)\u001b[0m\u001b[0;34m.\u001b[0m\u001b[0mhead\u001b[0m\u001b[0;34m(\u001b[0m\u001b[0;36m1\u001b[0m\u001b[0;34m)\u001b[0m\u001b[0;34m\u001b[0m\u001b[0;34m\u001b[0m\u001b[0m\n\u001b[0m",
      "\u001b[0;31mNameError\u001b[0m: name 'mcd' is not defined"
     ]
    }
   ],
   "source": [
    "mcd[ mcd['Category'] == 'Breakfast'].sort_values('Calories').head(1)"
   ]
  },
  {
   "cell_type": "markdown",
   "id": "informative-africa",
   "metadata": {},
   "source": [
    "### Find the highest john_index food\n",
    "\n",
    "* often times we're asked to filter data based on some parameters (e.g., marketing tells you to define some index and find all items that fall into that category).  \n",
    "\n",
    "* define some index: `john_index = 12*(protein grams + fiber grams)/calories`\n",
    "* make it a new column in our dataframe...then we can sort by it (or filter by it)\n",
    "* All we have to do to make a new column is give it a name and give it some values - just like we can make new `key:value` pairs in a dictionary..."
   ]
  },
  {
   "cell_type": "code",
   "execution_count": 50,
   "id": "lightweight-toronto",
   "metadata": {},
   "outputs": [
    {
     "ename": "NameError",
     "evalue": "name 'mcd' is not defined",
     "output_type": "error",
     "traceback": [
      "\u001b[0;31m---------------------------------------------------------------------------\u001b[0m",
      "\u001b[0;31mNameError\u001b[0m                                 Traceback (most recent call last)",
      "\u001b[0;32m/var/folders/8y/scw4yk6d3g99kqbs49wp8q3r0000gn/T/ipykernel_48230/530421911.py\u001b[0m in \u001b[0;36m<module>\u001b[0;34m\u001b[0m\n\u001b[1;32m      1\u001b[0m \u001b[0;31m# this will define a new column on the fly and compute the john-index\u001b[0m\u001b[0;34m\u001b[0m\u001b[0;34m\u001b[0m\u001b[0m\n\u001b[0;32m----> 2\u001b[0;31m \u001b[0mmcd\u001b[0m\u001b[0;34m[\u001b[0m\u001b[0;34m'john_index'\u001b[0m\u001b[0;34m]\u001b[0m \u001b[0;34m=\u001b[0m \u001b[0;36m12\u001b[0m \u001b[0;34m*\u001b[0m \u001b[0;34m(\u001b[0m\u001b[0mmcd\u001b[0m\u001b[0;34m[\u001b[0m\u001b[0;34m'Protein'\u001b[0m\u001b[0;34m]\u001b[0m \u001b[0;34m+\u001b[0m \u001b[0mmcd\u001b[0m\u001b[0;34m[\u001b[0m\u001b[0;34m'Dietary Fiber'\u001b[0m\u001b[0;34m]\u001b[0m\u001b[0;34m)\u001b[0m\u001b[0;34m/\u001b[0m\u001b[0mmcd\u001b[0m\u001b[0;34m[\u001b[0m\u001b[0;34m'Calories'\u001b[0m\u001b[0;34m]\u001b[0m\u001b[0;34m\u001b[0m\u001b[0;34m\u001b[0m\u001b[0m\n\u001b[0m",
      "\u001b[0;31mNameError\u001b[0m: name 'mcd' is not defined"
     ]
    }
   ],
   "source": [
    "# this will define a new column on the fly and compute the john-index\n",
    "mcd['john_index'] = 12 * (mcd['Protein'] + mcd['Dietary Fiber'])/mcd['Calories']"
   ]
  },
  {
   "cell_type": "markdown",
   "id": "6c62b376",
   "metadata": {},
   "source": [
    "### Note the resulting column has some funny stuff in it!"
   ]
  },
  {
   "cell_type": "code",
   "execution_count": 51,
   "id": "fcd55918",
   "metadata": {},
   "outputs": [
    {
     "ename": "NameError",
     "evalue": "name 'mcd' is not defined",
     "output_type": "error",
     "traceback": [
      "\u001b[0;31m---------------------------------------------------------------------------\u001b[0m",
      "\u001b[0;31mNameError\u001b[0m                                 Traceback (most recent call last)",
      "\u001b[0;32m/var/folders/8y/scw4yk6d3g99kqbs49wp8q3r0000gn/T/ipykernel_48230/2665868690.py\u001b[0m in \u001b[0;36m<module>\u001b[0;34m\u001b[0m\n\u001b[0;32m----> 1\u001b[0;31m \u001b[0mmcd\u001b[0m\u001b[0;34m[\u001b[0m\u001b[0;34m'john_index'\u001b[0m\u001b[0;34m]\u001b[0m\u001b[0;34m.\u001b[0m\u001b[0munique\u001b[0m\u001b[0;34m(\u001b[0m\u001b[0;34m)\u001b[0m\u001b[0;34m\u001b[0m\u001b[0;34m\u001b[0m\u001b[0m\n\u001b[0m",
      "\u001b[0;31mNameError\u001b[0m: name 'mcd' is not defined"
     ]
    }
   ],
   "source": [
    "mcd['john_index'].unique()"
   ]
  },
  {
   "cell_type": "markdown",
   "id": "e8040e4b",
   "metadata": {},
   "source": [
    "### Why? \n",
    "* `inf` == infinity...happens when you divide by zero!\n",
    "    * for Diet Dr. Pepper, john_index == (1 + 0) / 0\n",
    "* `nan` == not-a-number...happens when the thing you try to do isn't a number (like 0/0)\n",
    "    * for Coffee and Tea, john_index == (0 + 0) / 0"
   ]
  },
  {
   "cell_type": "code",
   "execution_count": 52,
   "id": "92987b80",
   "metadata": {},
   "outputs": [
    {
     "ename": "NameError",
     "evalue": "name 'mcd' is not defined",
     "output_type": "error",
     "traceback": [
      "\u001b[0;31m---------------------------------------------------------------------------\u001b[0m",
      "\u001b[0;31mNameError\u001b[0m                                 Traceback (most recent call last)",
      "\u001b[0;32m/var/folders/8y/scw4yk6d3g99kqbs49wp8q3r0000gn/T/ipykernel_48230/1424899345.py\u001b[0m in \u001b[0;36m<module>\u001b[0;34m\u001b[0m\n\u001b[0;32m----> 1\u001b[0;31m \u001b[0mmcd\u001b[0m\u001b[0;34m.\u001b[0m\u001b[0mhead\u001b[0m\u001b[0;34m(\u001b[0m\u001b[0;36m2\u001b[0m\u001b[0;34m)\u001b[0m\u001b[0;34m\u001b[0m\u001b[0;34m\u001b[0m\u001b[0m\n\u001b[0m",
      "\u001b[0;31mNameError\u001b[0m: name 'mcd' is not defined"
     ]
    }
   ],
   "source": [
    "mcd.head(2)"
   ]
  },
  {
   "cell_type": "code",
   "execution_count": 53,
   "id": "948d21f2",
   "metadata": {},
   "outputs": [],
   "source": [
    "# import numpy for np.isinf() to weed out the inf entries\n",
    "import numpy as np"
   ]
  },
  {
   "cell_type": "code",
   "execution_count": 54,
   "id": "straight-johnston",
   "metadata": {},
   "outputs": [
    {
     "ename": "NameError",
     "evalue": "name 'mcd' is not defined",
     "output_type": "error",
     "traceback": [
      "\u001b[0;31m---------------------------------------------------------------------------\u001b[0m",
      "\u001b[0;31mNameError\u001b[0m                                 Traceback (most recent call last)",
      "\u001b[0;32m/var/folders/8y/scw4yk6d3g99kqbs49wp8q3r0000gn/T/ipykernel_48230/1771791176.py\u001b[0m in \u001b[0;36m<module>\u001b[0;34m\u001b[0m\n\u001b[0;32m----> 1\u001b[0;31m (mcd [ ~ mcd['john_index'].isna() & ~np.isinf(mcd['john_index'])]\n\u001b[0m\u001b[1;32m      2\u001b[0m  .sort_values('john_index', ascending=False) )\n",
      "\u001b[0;31mNameError\u001b[0m: name 'mcd' is not defined"
     ]
    }
   ],
   "source": [
    "(mcd [ ~ mcd['john_index'].isna() & ~np.isinf(mcd['john_index'])]\n",
    " .sort_values('john_index', ascending=False) )"
   ]
  },
  {
   "cell_type": "markdown",
   "id": "798d30c0",
   "metadata": {},
   "source": [
    "### Alternate approach using `.replace()`\n",
    "* can also directly replace nan/infs with other values"
   ]
  },
  {
   "cell_type": "code",
   "execution_count": 55,
   "id": "87f637d3",
   "metadata": {},
   "outputs": [
    {
     "ename": "NameError",
     "evalue": "name 'mcd' is not defined",
     "output_type": "error",
     "traceback": [
      "\u001b[0;31m---------------------------------------------------------------------------\u001b[0m",
      "\u001b[0;31mNameError\u001b[0m                                 Traceback (most recent call last)",
      "\u001b[0;32m/var/folders/8y/scw4yk6d3g99kqbs49wp8q3r0000gn/T/ipykernel_48230/170787121.py\u001b[0m in \u001b[0;36m<module>\u001b[0;34m\u001b[0m\n\u001b[0;32m----> 1\u001b[0;31m \u001b[0mmcd\u001b[0m\u001b[0;34m[\u001b[0m\u001b[0;34m'john_index'\u001b[0m\u001b[0;34m]\u001b[0m\u001b[0;34m.\u001b[0m\u001b[0mreplace\u001b[0m\u001b[0;34m(\u001b[0m\u001b[0mnp\u001b[0m\u001b[0;34m.\u001b[0m\u001b[0mnan\u001b[0m\u001b[0;34m,\u001b[0m \u001b[0;36m0\u001b[0m\u001b[0;34m)\u001b[0m\u001b[0;34m.\u001b[0m\u001b[0munique\u001b[0m\u001b[0;34m(\u001b[0m\u001b[0;34m)\u001b[0m\u001b[0;34m\u001b[0m\u001b[0;34m\u001b[0m\u001b[0m\n\u001b[0m",
      "\u001b[0;31mNameError\u001b[0m: name 'mcd' is not defined"
     ]
    }
   ],
   "source": [
    "mcd['john_index'].replace(np.nan, 0).unique()"
   ]
  },
  {
   "cell_type": "code",
   "execution_count": 56,
   "id": "c0655a8f",
   "metadata": {},
   "outputs": [
    {
     "ename": "NameError",
     "evalue": "name 'mcd' is not defined",
     "output_type": "error",
     "traceback": [
      "\u001b[0;31m---------------------------------------------------------------------------\u001b[0m",
      "\u001b[0;31mNameError\u001b[0m                                 Traceback (most recent call last)",
      "\u001b[0;32m/var/folders/8y/scw4yk6d3g99kqbs49wp8q3r0000gn/T/ipykernel_48230/1824865141.py\u001b[0m in \u001b[0;36m<module>\u001b[0;34m\u001b[0m\n\u001b[0;32m----> 1\u001b[0;31m \u001b[0mmcd\u001b[0m\u001b[0;34m[\u001b[0m\u001b[0;34m'john_index'\u001b[0m\u001b[0;34m]\u001b[0m\u001b[0;34m.\u001b[0m\u001b[0mreplace\u001b[0m\u001b[0;34m(\u001b[0m\u001b[0mnp\u001b[0m\u001b[0;34m.\u001b[0m\u001b[0minf\u001b[0m\u001b[0;34m,\u001b[0m \u001b[0;36m0\u001b[0m\u001b[0;34m)\u001b[0m\u001b[0;34m.\u001b[0m\u001b[0munique\u001b[0m\u001b[0;34m(\u001b[0m\u001b[0;34m)\u001b[0m\u001b[0;34m\u001b[0m\u001b[0;34m\u001b[0m\u001b[0m\n\u001b[0m",
      "\u001b[0;31mNameError\u001b[0m: name 'mcd' is not defined"
     ]
    }
   ],
   "source": [
    "mcd['john_index'].replace(np.inf, 0).unique()"
   ]
  },
  {
   "cell_type": "markdown",
   "id": "f724de87",
   "metadata": {},
   "source": [
    "### Or you can fill missing values using fillna...\n",
    "* For example, can replace all nans with the mean of all other values..."
   ]
  },
  {
   "cell_type": "code",
   "execution_count": 57,
   "id": "a44ead4f",
   "metadata": {},
   "outputs": [
    {
     "ename": "NameError",
     "evalue": "name 'mcd' is not defined",
     "output_type": "error",
     "traceback": [
      "\u001b[0;31m---------------------------------------------------------------------------\u001b[0m",
      "\u001b[0;31mNameError\u001b[0m                                 Traceback (most recent call last)",
      "\u001b[0;32m/var/folders/8y/scw4yk6d3g99kqbs49wp8q3r0000gn/T/ipykernel_48230/896243391.py\u001b[0m in \u001b[0;36m<module>\u001b[0;34m\u001b[0m\n\u001b[0;32m----> 1\u001b[0;31m \u001b[0mmcd\u001b[0m\u001b[0;34m[\u001b[0m\u001b[0;34m'john_index'\u001b[0m\u001b[0;34m]\u001b[0m\u001b[0;34m.\u001b[0m\u001b[0mfillna\u001b[0m\u001b[0;34m(\u001b[0m\u001b[0mmcd\u001b[0m\u001b[0;34m[\u001b[0m\u001b[0;34m'john_index'\u001b[0m\u001b[0;34m]\u001b[0m\u001b[0;34m.\u001b[0m\u001b[0mmean\u001b[0m\u001b[0;34m(\u001b[0m\u001b[0;34m)\u001b[0m\u001b[0;34m)\u001b[0m\u001b[0;34m.\u001b[0m\u001b[0munique\u001b[0m\u001b[0;34m(\u001b[0m\u001b[0;34m)\u001b[0m\u001b[0;34m\u001b[0m\u001b[0;34m\u001b[0m\u001b[0m\n\u001b[0m\u001b[1;32m      2\u001b[0m \u001b[0;31m# remember you need to overwrite mcd or make a new dataframe in order for these changes to 'stick'\u001b[0m\u001b[0;34m\u001b[0m\u001b[0;34m\u001b[0m\u001b[0m\n",
      "\u001b[0;31mNameError\u001b[0m: name 'mcd' is not defined"
     ]
    }
   ],
   "source": [
    "mcd['john_index'].fillna(mcd['john_index'].mean()).unique()\n",
    "# remember you need to overwrite mcd or make a new dataframe in order for these changes to 'stick'"
   ]
  },
  {
   "cell_type": "code",
   "execution_count": 58,
   "id": "japanese-affiliation",
   "metadata": {},
   "outputs": [
    {
     "ename": "NameError",
     "evalue": "name 'mcd' is not defined",
     "output_type": "error",
     "traceback": [
      "\u001b[0;31m---------------------------------------------------------------------------\u001b[0m",
      "\u001b[0;31mNameError\u001b[0m                                 Traceback (most recent call last)",
      "\u001b[0;32m/var/folders/8y/scw4yk6d3g99kqbs49wp8q3r0000gn/T/ipykernel_48230/2547548355.py\u001b[0m in \u001b[0;36m<module>\u001b[0;34m\u001b[0m\n\u001b[0;32m----> 1\u001b[0;31m (mcd[mcd['Calories'] > 0]\n\u001b[0m\u001b[1;32m      2\u001b[0m \u001b[0;34m.\u001b[0m\u001b[0msort_values\u001b[0m\u001b[0;34m(\u001b[0m\u001b[0;34m'john_index'\u001b[0m\u001b[0;34m,\u001b[0m \u001b[0mascending\u001b[0m \u001b[0;34m=\u001b[0m \u001b[0;32mFalse\u001b[0m\u001b[0;34m)\u001b[0m\u001b[0;34m\u001b[0m\u001b[0;34m\u001b[0m\u001b[0m\n\u001b[1;32m      3\u001b[0m .head(1))\n",
      "\u001b[0;31mNameError\u001b[0m: name 'mcd' is not defined"
     ]
    }
   ],
   "source": [
    "(mcd[mcd['Calories'] > 0]\n",
    ".sort_values('john_index', ascending = False)\n",
    ".head(1))"
   ]
  }
 ],
 "metadata": {
  "kernelspec": {
   "display_name": "Python 3 (ipykernel)",
   "language": "python",
   "name": "python3"
  },
  "language_info": {
   "codemirror_mode": {
    "name": "ipython",
    "version": 3
   },
   "file_extension": ".py",
   "mimetype": "text/x-python",
   "name": "python",
   "nbconvert_exporter": "python",
   "pygments_lexer": "ipython3",
   "version": "3.9.7"
  }
 },
 "nbformat": 4,
 "nbformat_minor": 5
}