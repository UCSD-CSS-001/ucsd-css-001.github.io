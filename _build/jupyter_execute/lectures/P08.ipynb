{
 "cells": [
  {
   "cell_type": "markdown",
   "metadata": {
    "collapsed": true,
    "pycharm": {
     "name": "#%% md\n"
    }
   },
   "source": [
    "# P08: plotting with matplotlib\n",
    "\n",
    "In which we cover:\n",
    "\n",
    "- visualization\n",
    "- matplotlib\n",
    "\n",
    "## Concepts\n",
    "\n",
    "### Visualization\n",
    "\n",
    "principles\n",
    "\n",
    "canonical types of displays\n",
    "\n",
    "## Python\n",
    "\n",
    "### Matplotlib\n"
   ]
  }
 ],
 "metadata": {
  "kernelspec": {
   "display_name": "Python 3",
   "language": "python",
   "name": "python3"
  },
  "language_info": {
   "codemirror_mode": {
    "name": "ipython",
    "version": 3
   },
   "file_extension": ".py",
   "mimetype": "text/x-python",
   "name": "python",
   "nbconvert_exporter": "python",
   "pygments_lexer": "ipython3",
   "version": "3.8.5"
  }
 },
 "nbformat": 4,
 "nbformat_minor": 0
}