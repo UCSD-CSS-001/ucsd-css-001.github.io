{
 "cells": [
  {
   "cell_type": "markdown",
   "metadata": {},
   "source": [
    "# CSS 1. L02: Control, logic\n",
    "\n",
    "Computer programs can be very powerful once we can command their flow of execution.  This is done via assorted control structures."
   ]
  },
  {
   "cell_type": "markdown",
   "metadata": {},
   "source": [
    "## Control: if..else\n",
    "\n",
    "The basic control structure allows branching: do something only if a condition is met."
   ]
  },
  {
   "cell_type": "code",
   "execution_count": 1,
   "metadata": {},
   "outputs": [
    {
     "name": "stdout",
     "output_type": "stream",
     "text": [
      "My name is Ed\n"
     ]
    }
   ],
   "source": [
    "polite = False\n",
    "\n",
    "if polite:\n",
    "    print(\"hello!\")\n",
    "    print(\"it is a pleasure to meet you!\")\n",
    "\n",
    "print(\"My name is Ed\")"
   ]
  },
  {
   "cell_type": "markdown",
   "metadata": {},
   "source": [
    "What this code is doing is:\n",
    "- set the variable `polite` to the boolean value True\n",
    "- if statement checks if the expression (`polite`) evaluates to True  \n",
    "- if `polite` is True then it runs the code block (indicated by indentation) comparised of two print statements; if `polite` is not true (i.e., False) then it does not run those two print statements.     \n",
    "- execution then moves on to the next line outside of the `if` block\n",
    "\n",
    "### Code blocks\n",
    "\n",
    "Note that here we are creating a code block via indentation.  We would get different results with different indentation.  Below, the indentation indicates that the second print statement is *outside* of the if block, and it will be run regardless of whether greet is true or false."
   ]
  },
  {
   "cell_type": "code",
   "execution_count": 2,
   "metadata": {},
   "outputs": [
    {
     "name": "stdout",
     "output_type": "stream",
     "text": [
      "it is a pleasure to meet you!\n",
      "My name is Ed\n"
     ]
    }
   ],
   "source": [
    "polite = False\n",
    "\n",
    "if polite:\n",
    "    print(\"hello!\")\n",
    "print(\"it is a pleasure to meet you!\")\n",
    "\n",
    "print(\"My name is Ed\")"
   ]
  },
  {
   "cell_type": "markdown",
   "metadata": {},
   "source": [
    "### else\n",
    "\n",
    "If we wanted to print one thing if `polite` is true, and a different thing if `polite` is false, when we would want to set up an `else` block:"
   ]
  },
  {
   "cell_type": "code",
   "execution_count": 3,
   "metadata": {},
   "outputs": [
    {
     "name": "stdout",
     "output_type": "stream",
     "text": [
      "hey.\n",
      "My name is Ed\n"
     ]
    }
   ],
   "source": [
    "polite = False\n",
    "\n",
    "if polite:\n",
    "    print(\"hello!\")\n",
    "else:\n",
    "    print(\"hey.\")\n",
    "\n",
    "print(\"My name is Ed\")"
   ]
  },
  {
   "cell_type": "markdown",
   "metadata": {},
   "source": [
    "### elif\n",
    "\n",
    "Sometimes we want to have more than two branches, so we would want a control structure that can accomodate that:"
   ]
  },
  {
   "cell_type": "code",
   "execution_count": 4,
   "metadata": {},
   "outputs": [
    {
     "name": "stdout",
     "output_type": "stream",
     "text": [
      "Good day to you!\n",
      "My name is Ed\n"
     ]
    }
   ],
   "source": [
    "verbose = True\n",
    "polite = True\n",
    "\n",
    "if verbose:\n",
    "    print('Good day to you!')\n",
    "elif polite:\n",
    "    print('Hello!')\n",
    "else:\n",
    "    print('hey.')\n",
    "    \n",
    "print('My name is Ed')\n",
    "    "
   ]
  },
  {
   "cell_type": "markdown",
   "metadata": {},
   "source": [
    "Note that execution of the `if..elif..else` statement takes the first available branch, and then does not execute the other branches.  Here, `verbose` evaluated to True, so the first branch was taken (and no other branches were, even though `polite` also evaluated to true).  Thus an `if..elif..else` block sets up a mutually exclusive branching structure.\n",
    "\n",
    "This is contrasted with a series of independent `if` statements, that each presents an optional branch, independent of the others."
   ]
  },
  {
   "cell_type": "markdown",
   "metadata": {},
   "source": [
    "### if..elif vs if..if..\n",
    "\n",
    "Consider the two blocks of code below.  What will each print?"
   ]
  },
  {
   "cell_type": "code",
   "execution_count": 5,
   "metadata": {},
   "outputs": [],
   "source": [
    "A = True\n",
    "B = True\n",
    "C = False"
   ]
  },
  {
   "cell_type": "code",
   "execution_count": 6,
   "metadata": {},
   "outputs": [
    {
     "name": "stdout",
     "output_type": "stream",
     "text": [
      "A is true\n"
     ]
    }
   ],
   "source": [
    "if A:\n",
    "    print('A is true')\n",
    "elif B:\n",
    "    print('B is true')\n",
    "elif C:\n",
    "    print('C is true')"
   ]
  },
  {
   "cell_type": "code",
   "execution_count": 7,
   "metadata": {},
   "outputs": [
    {
     "name": "stdout",
     "output_type": "stream",
     "text": [
      "A is true\n",
      "B is true\n"
     ]
    }
   ],
   "source": [
    "if A:\n",
    "    print('A is true')\n",
    "if B:\n",
    "    print('B is true')\n",
    "if C:\n",
    "    print('C is true')"
   ]
  },
  {
   "cell_type": "markdown",
   "metadata": {},
   "source": [
    "Note also that an else statement is attached to exactly one if..elif.. statement.  So what will the code below do?"
   ]
  },
  {
   "cell_type": "code",
   "execution_count": 8,
   "metadata": {},
   "outputs": [
    {
     "name": "stdout",
     "output_type": "stream",
     "text": [
      "A is true\n",
      "B is true\n",
      "nothing is true\n"
     ]
    }
   ],
   "source": [
    "if A:\n",
    "    print('A is true')\n",
    "if B:\n",
    "    print('B is true')\n",
    "if C:\n",
    "    print('C is true')\n",
    "else:\n",
    "    print('nothing is true')"
   ]
  },
  {
   "cell_type": "markdown",
   "metadata": {},
   "source": [
    "## Comparison operators\n",
    "\n",
    "So far we have written if..else statements to evaluate based on pre-defined boolean variables, but a much more common scenario is to compare values, and define new boolean variables that way.  To this end, Python has a number of comparison operators:\n",
    "\n",
    "`A == B`: returns True if A and B are equal   \n",
    "`A != B`: returns True if A and B are not equal   \n",
    "`A < B` (or  `A > B`): return True is A is less than B (or greater than B)   \n",
    "`A <= B` (or `A >= B`): return True is A is less than or equal to B (or greater than or equal to B)    "
   ]
  },
  {
   "cell_type": "code",
   "execution_count": 9,
   "metadata": {},
   "outputs": [
    {
     "data": {
      "text/plain": [
       "True"
      ]
     },
     "execution_count": 9,
     "metadata": {},
     "output_type": "execute_result"
    }
   ],
   "source": [
    "5 == 5.0"
   ]
  },
  {
   "cell_type": "code",
   "execution_count": 10,
   "metadata": {},
   "outputs": [
    {
     "data": {
      "text/plain": [
       "False"
      ]
     },
     "execution_count": 10,
     "metadata": {},
     "output_type": "execute_result"
    }
   ],
   "source": [
    "5 != 5.0"
   ]
  },
  {
   "cell_type": "code",
   "execution_count": 11,
   "metadata": {},
   "outputs": [
    {
     "data": {
      "text/plain": [
       "False"
      ]
     },
     "execution_count": 11,
     "metadata": {},
     "output_type": "execute_result"
    }
   ],
   "source": [
    "5 > 5"
   ]
  },
  {
   "cell_type": "code",
   "execution_count": 12,
   "metadata": {},
   "outputs": [
    {
     "data": {
      "text/plain": [
       "True"
      ]
     },
     "execution_count": 12,
     "metadata": {},
     "output_type": "execute_result"
    }
   ],
   "source": [
    "5 >= 5"
   ]
  },
  {
   "cell_type": "markdown",
   "metadata": {},
   "source": [
    "### Comparison operators on strings\n",
    "\n",
    "Comparison operators are also overloaded for strings.  Equality is case sensitive, and greater/less than correspond to ascii alphabetical order. "
   ]
  },
  {
   "cell_type": "code",
   "execution_count": 13,
   "metadata": {},
   "outputs": [
    {
     "data": {
      "text/plain": [
       "True"
      ]
     },
     "execution_count": 13,
     "metadata": {},
     "output_type": "execute_result"
    }
   ],
   "source": [
    "'abracadabra' == 'abracadabra'"
   ]
  },
  {
   "cell_type": "code",
   "execution_count": 14,
   "metadata": {},
   "outputs": [
    {
     "data": {
      "text/plain": [
       "False"
      ]
     },
     "execution_count": 14,
     "metadata": {},
     "output_type": "execute_result"
    }
   ],
   "source": [
    "'Abracadabra' == 'abracadabra'"
   ]
  },
  {
   "cell_type": "code",
   "execution_count": 15,
   "metadata": {},
   "outputs": [
    {
     "data": {
      "text/plain": [
       "False"
      ]
     },
     "execution_count": 15,
     "metadata": {},
     "output_type": "execute_result"
    }
   ],
   "source": [
    "'a' > 'b'"
   ]
  },
  {
   "cell_type": "code",
   "execution_count": 16,
   "metadata": {},
   "outputs": [
    {
     "data": {
      "text/plain": [
       "True"
      ]
     },
     "execution_count": 16,
     "metadata": {},
     "output_type": "execute_result"
    }
   ],
   "source": [
    "'a' < 'b'"
   ]
  },
  {
   "cell_type": "markdown",
   "metadata": {},
   "source": [
    "**Case and ascii**   However, note that behavior for lower/uppercase letters and symbols may be unintuitive. "
   ]
  },
  {
   "cell_type": "code",
   "execution_count": 17,
   "metadata": {},
   "outputs": [
    {
     "data": {
      "text/plain": [
       "True"
      ]
     },
     "execution_count": 17,
     "metadata": {},
     "output_type": "execute_result"
    }
   ],
   "source": [
    "'A' < 'a'"
   ]
  },
  {
   "cell_type": "code",
   "execution_count": 18,
   "metadata": {},
   "outputs": [
    {
     "data": {
      "text/plain": [
       "True"
      ]
     },
     "execution_count": 18,
     "metadata": {},
     "output_type": "execute_result"
    }
   ],
   "source": [
    "'Z' < 'a'"
   ]
  },
  {
   "cell_type": "code",
   "execution_count": 19,
   "metadata": {},
   "outputs": [
    {
     "data": {
      "text/plain": [
       "True"
      ]
     },
     "execution_count": 19,
     "metadata": {},
     "output_type": "execute_result"
    }
   ],
   "source": [
    "'[' < 'a' "
   ]
  },
  {
   "cell_type": "code",
   "execution_count": 20,
   "metadata": {},
   "outputs": [
    {
     "data": {
      "text/plain": [
       "True"
      ]
     },
     "execution_count": 20,
     "metadata": {},
     "output_type": "execute_result"
    }
   ],
   "source": [
    "'Z' < '['"
   ]
  },
  {
   "cell_type": "markdown",
   "metadata": {},
   "source": [
    "Comparison of characters is underpinned by comparing the [UTF-8 integer code of each character](https://www.utf8-chartable.de/unicode-utf8-table.pl?utf8=dec).  Which can be obtained for a given character via the `ord()` function."
   ]
  },
  {
   "cell_type": "code",
   "execution_count": 21,
   "metadata": {},
   "outputs": [
    {
     "data": {
      "text/plain": [
       "97"
      ]
     },
     "execution_count": 21,
     "metadata": {},
     "output_type": "execute_result"
    }
   ],
   "source": [
    "ord('a')"
   ]
  },
  {
   "cell_type": "markdown",
   "metadata": {},
   "source": [
    "## Logical operators\n",
    "\n",
    "While obtaining a single boolean value can solve some problems, often we want to specify a more complicated logical expression by combining boolean values from many comparisons.  \n",
    "\n",
    "For instance, if we want to see if someone's age (in years) is an odd number and greater than 20, we are looking for a conjunction of two comparisons.\n",
    "\n",
    "These kinds of boolean operations can be done with \n",
    "\n",
    "`A and B`: returns True if both A and B are true.    \n",
    "`A or B`: returns True if either A or B are true.    \n",
    "`not A`: returns True if A is False.   "
   ]
  },
  {
   "cell_type": "code",
   "execution_count": 22,
   "metadata": {},
   "outputs": [
    {
     "name": "stdout",
     "output_type": "stream",
     "text": [
      "age is odd and greater than 20\n"
     ]
    }
   ],
   "source": [
    "age = 37\n",
    "\n",
    "if (age % 2) == 1 and age > 20:\n",
    "    print('age is odd and greater than 20')"
   ]
  },
  {
   "cell_type": "markdown",
   "metadata": {},
   "source": [
    "**Note 1**: Here we are using the `%` \"modulus\" operator.  `A % B` returns the remainder after dividing A by B (and taking only a whole quotient).    \n",
    "e.g., `17 % 3` returns 2.  The closest multiple of 3 closest to, but smaller than, 17 is $3 \\cdot 5 = 15$, and 17-15 = 2).    \n",
    "e.g., `15 % 3` will return 0.    \n",
    "We have to be careful with negative numbers: (`-17 % 3` = 1 because $3 \\cdot -6 = -18$ is the closest multiple of 3 less than -17.   \n",
    "Even weirder things happen with negative divisors: `17 % -3 = -1` because the smallest quotient that is closest to 17 is -6 ($-3 \\cdot -6 = 18$).  Generally, I try to avoid negative divisors in the modulus operator, as that always creates confusion and I have never seen it be worthwhile.\n",
    "\n",
    "**Note 2** What will happen if `age=37.6`?  What *should* happen in that case?"
   ]
  },
  {
   "cell_type": "markdown",
   "metadata": {},
   "source": [
    "## While loops\n",
    "\n",
    "The next control structure we ought to master is the `while` loop.  A while loop is a block of code with a condition, and that block of code is executed over and over and over again  so long as the condition is satisfied.  While loops create an opportunity for an infinite loop.  If you are using a while loop and your code is running for a long time."
   ]
  },
  {
   "cell_type": "code",
   "execution_count": 23,
   "metadata": {},
   "outputs": [
    {
     "name": "stdout",
     "output_type": "stream",
     "text": [
      "0\n",
      "1\n",
      "2\n",
      "3\n",
      "4\n",
      "5\n",
      "6\n",
      "7\n",
      "8\n",
      "9\n"
     ]
    }
   ],
   "source": [
    "x = 0\n",
    "\n",
    "while x < 10:\n",
    "    print(x)\n",
    "    x += 1"
   ]
  },
  {
   "cell_type": "markdown",
   "metadata": {},
   "source": [
    "**Note** here we are using the `+=` assignment operator, which is a convenient shorthand.  `A += B` is equivalent to writing `A = A + B`.  Because this kind of operation -- increment the value of a variable, and assign it back to the variable -- is so common, python has a whole bunch of similar shortcut operators: `+=`, `-=`, `*=`, `/=`, `**=`, `%=`."
   ]
  },
  {
   "cell_type": "markdown",
   "metadata": {},
   "source": [
    "### Fizz Buzz\n",
    "\n",
    "A very simple programming challenge is to implement the kids game [\"Fizz Buzz\"](https://en.wikipedia.org/wiki/Fizz_buzz).  Count from 1 to 100.  For each number, if it is divizible by 3 print \"Fizz\", if it is divisible by 5 print \"Buzz\", (thus print \"Fizz Buzz\" for numbers divisible by 15).  For all other numbers, just print that number."
   ]
  },
  {
   "cell_type": "code",
   "execution_count": 24,
   "metadata": {},
   "outputs": [
    {
     "name": "stdout",
     "output_type": "stream",
     "text": [
      "1\n",
      "2\n",
      "Fizz\n",
      "4\n",
      "Buzz\n",
      "Fizz\n",
      "7\n",
      "8\n",
      "Fizz\n",
      "Buzz\n",
      "11\n",
      "Fizz\n",
      "13\n",
      "14\n",
      "Fizz Buzz\n",
      "16\n",
      "17\n",
      "Fizz\n",
      "19\n",
      "Buzz\n",
      "Fizz\n",
      "22\n",
      "23\n",
      "Fizz\n",
      "Buzz\n",
      "26\n",
      "Fizz\n",
      "28\n",
      "29\n",
      "Fizz Buzz\n",
      "31\n",
      "32\n",
      "Fizz\n",
      "34\n",
      "Buzz\n",
      "Fizz\n",
      "37\n",
      "38\n",
      "Fizz\n",
      "Buzz\n",
      "41\n",
      "Fizz\n",
      "43\n",
      "44\n",
      "Fizz Buzz\n",
      "46\n",
      "47\n",
      "Fizz\n",
      "49\n",
      "Buzz\n",
      "Fizz\n",
      "52\n",
      "53\n",
      "Fizz\n",
      "Buzz\n",
      "56\n",
      "Fizz\n",
      "58\n",
      "59\n",
      "Fizz Buzz\n",
      "61\n",
      "62\n",
      "Fizz\n",
      "64\n",
      "Buzz\n",
      "Fizz\n",
      "67\n",
      "68\n",
      "Fizz\n",
      "Buzz\n",
      "71\n",
      "Fizz\n",
      "73\n",
      "74\n",
      "Fizz Buzz\n",
      "76\n",
      "77\n",
      "Fizz\n",
      "79\n",
      "Buzz\n",
      "Fizz\n",
      "82\n",
      "83\n",
      "Fizz\n",
      "Buzz\n",
      "86\n",
      "Fizz\n",
      "88\n",
      "89\n",
      "Fizz Buzz\n",
      "91\n",
      "92\n",
      "Fizz\n",
      "94\n",
      "Buzz\n",
      "Fizz\n",
      "97\n",
      "98\n",
      "Fizz\n",
      "Buzz\n"
     ]
    }
   ],
   "source": [
    "x = 1\n",
    "while x <= 100:\n",
    "    if x % 3 == 0 and x % 5 == 0:\n",
    "        print(\"Fizz Buzz\")\n",
    "    elif x % 3 == 0:\n",
    "        print(\"Fizz\")\n",
    "    elif x % 5 == 0:\n",
    "        print(\"Buzz\")\n",
    "    else:\n",
    "        print(x)\n",
    "    x += 1"
   ]
  },
  {
   "cell_type": "markdown",
   "metadata": {},
   "source": [
    "## Sequences and indexing\n",
    "\n",
    "We have seen string types before, but strings are a special kind of \"sequence\" data type.  Specifically, a string is a sequence of characters.  Sequences are a list of many objects of the same type."
   ]
  },
  {
   "cell_type": "code",
   "execution_count": 25,
   "metadata": {},
   "outputs": [],
   "source": [
    "sentence = 'This is a sentence about string sequences!'"
   ]
  },
  {
   "cell_type": "markdown",
   "metadata": {},
   "source": [
    "The string stored in `sentence` is represented as a sequence of characters.  We can get the *length* of that sequence using the `len()` function:"
   ]
  },
  {
   "cell_type": "code",
   "execution_count": 26,
   "metadata": {},
   "outputs": [
    {
     "data": {
      "text/plain": [
       "42"
      ]
     },
     "execution_count": 26,
     "metadata": {},
     "output_type": "execute_result"
    }
   ],
   "source": [
    "len(sentence)"
   ]
  },
  {
   "cell_type": "markdown",
   "metadata": {},
   "source": [
    "### Indexing\n",
    "\n",
    "We can pull out elements of that sequence by indexing and slicing.  \n",
    "Python has 0-indexed lists, which means that the first element has the index of 0, and the last element has an index of `len(x)-1`"
   ]
  },
  {
   "cell_type": "code",
   "execution_count": 27,
   "metadata": {},
   "outputs": [
    {
     "data": {
      "text/plain": [
       "'T'"
      ]
     },
     "execution_count": 27,
     "metadata": {},
     "output_type": "execute_result"
    }
   ],
   "source": [
    "sentence[0]"
   ]
  },
  {
   "cell_type": "markdown",
   "metadata": {},
   "source": [
    "We can pull out any letter by referring to its index.  For instance, the 6th letter of the string ('i' in 'is') has the index 5:"
   ]
  },
  {
   "cell_type": "code",
   "execution_count": 28,
   "metadata": {},
   "outputs": [
    {
     "data": {
      "text/plain": [
       "'i'"
      ]
     },
     "execution_count": 28,
     "metadata": {},
     "output_type": "execute_result"
    }
   ],
   "source": [
    "sentence[5]"
   ]
  },
  {
   "cell_type": "markdown",
   "metadata": {},
   "source": [
    "The last element of the sequence has an index of `len(x)-1`:"
   ]
  },
  {
   "cell_type": "code",
   "execution_count": 29,
   "metadata": {},
   "outputs": [
    {
     "data": {
      "text/plain": [
       "'!'"
      ]
     },
     "execution_count": 29,
     "metadata": {},
     "output_type": "execute_result"
    }
   ],
   "source": [
    "sentence[len(sentence)-1]"
   ]
  },
  {
   "cell_type": "markdown",
   "metadata": {},
   "source": [
    "But we can also refer to it with the helpful shortcut of `-1`.  In general, we can refer to elements by indexing from the beginning (starting with 0), or indexing from the end, starting with -1.  "
   ]
  },
  {
   "cell_type": "code",
   "execution_count": 30,
   "metadata": {},
   "outputs": [
    {
     "data": {
      "text/plain": [
       "'!'"
      ]
     },
     "execution_count": 30,
     "metadata": {},
     "output_type": "execute_result"
    }
   ],
   "source": [
    "sentence[-1]"
   ]
  },
  {
   "cell_type": "markdown",
   "metadata": {},
   "source": [
    "### Slicing\n",
    "\n",
    "We often want to pull out multiple elements of a sequence, for instance, maybe we want all the characters between the 6th ('i') and 12th (first 'e' in 'sentence').  We can do this with the slicing notation `5:12`."
   ]
  },
  {
   "cell_type": "code",
   "execution_count": 31,
   "metadata": {},
   "outputs": [
    {
     "data": {
      "text/plain": [
       "'is a se'"
      ]
     },
     "execution_count": 31,
     "metadata": {},
     "output_type": "execute_result"
    }
   ],
   "source": [
    "sentence[5:12]"
   ]
  },
  {
   "cell_type": "markdown",
   "metadata": {},
   "source": [
    "Note that this slicing notation includes the first index (5) through the second index -1 (i.e., it pulls out index 5, 6, 7, 8, 9, 10, and 11, but not 12).  This is convenient because `0:len(x)` will yield the full sequence.  It is also useful that the number of elements in the slice defined by `start:stop` is equal to `stop-slice` (because `stop` defines the first element that is *not* included)"
   ]
  },
  {
   "cell_type": "markdown",
   "metadata": {},
   "source": [
    "#### Slice step\n",
    "\n",
    "When slicing, we can also specify a 3rd argument, indicating how to increment the indices we include.  By default (when it is omitted) this value is 1.  \n",
    "\n",
    "The full way of writing out our slicing is `5:12:1` (which yields the indices `[5, 6, 7, 8, 9, 10, 11]`).  \n",
    "\n",
    "However, we could also replace the default of `1` with something else:\n",
    "\n",
    "`5:12:2` will yield the indices `[5, 7, 9, 11]` -- every other letter."
   ]
  },
  {
   "cell_type": "code",
   "execution_count": 32,
   "metadata": {},
   "outputs": [
    {
     "data": {
      "text/plain": [
       "'i  e'"
      ]
     },
     "execution_count": 32,
     "metadata": {},
     "output_type": "execute_result"
    }
   ],
   "source": [
    "sentence[5:12:2]"
   ]
  },
  {
   "cell_type": "markdown",
   "metadata": {},
   "source": [
    "We can also increment in reverse.  But note that the second bound is still excluded, so we get slightly different behavior:\n",
    "\n",
    "`5:12:1` yields `[5, 6, 7, 8, 9, 10, 11]`  while   \n",
    "`12:5:-1` yields `[12, 11, 10, 9, 8, 7, 6]`."
   ]
  },
  {
   "cell_type": "code",
   "execution_count": 33,
   "metadata": {},
   "outputs": [
    {
     "data": {
      "text/plain": [
       "'nes a s'"
      ]
     },
     "execution_count": 33,
     "metadata": {},
     "output_type": "execute_result"
    }
   ],
   "source": [
    "sentence[12:5:-1]"
   ]
  },
  {
   "cell_type": "markdown",
   "metadata": {},
   "source": [
    "#### Implicit start and stop.\n",
    "\n",
    "The general slice syntax is `start:stop:step` which will return indices from `start` to `stop-1` incrementing by `step`.  \n",
    "\n",
    "If we are being completely explicit, slicing to get the full sequence would mean writing out: `0:len(x):1`.  \n",
    "But all of these arguments are the defaults for their respective positions.  \n",
    "Consequently, an equivalent statement is `0:len(x)` (as we saw above, because if `step` is omitted, Python uses the default of 1).  \n",
    "Likewise, `0` is the default start argument.  Consequently `:len(x)` is equivalent.   \n",
    "Furthermore, `len(x)` is the default stop argument.  So `:` is equivalent.  "
   ]
  },
  {
   "cell_type": "code",
   "execution_count": 34,
   "metadata": {},
   "outputs": [
    {
     "data": {
      "text/plain": [
       "'This is a sentence about string sequences!'"
      ]
     },
     "execution_count": 34,
     "metadata": {},
     "output_type": "execute_result"
    }
   ],
   "source": [
    "sentence[0:len(sentence):1]"
   ]
  },
  {
   "cell_type": "code",
   "execution_count": 35,
   "metadata": {},
   "outputs": [
    {
     "data": {
      "text/plain": [
       "'This is a sentence about string sequences!'"
      ]
     },
     "execution_count": 35,
     "metadata": {},
     "output_type": "execute_result"
    }
   ],
   "source": [
    "sentence[:len(sentence):]"
   ]
  },
  {
   "cell_type": "code",
   "execution_count": 36,
   "metadata": {},
   "outputs": [
    {
     "data": {
      "text/plain": [
       "'This is a sentence about string sequences!'"
      ]
     },
     "execution_count": 36,
     "metadata": {},
     "output_type": "execute_result"
    }
   ],
   "source": [
    "sentence[0:]"
   ]
  },
  {
   "cell_type": "code",
   "execution_count": 37,
   "metadata": {},
   "outputs": [
    {
     "data": {
      "text/plain": [
       "'This is a sentence about string sequences!'"
      ]
     },
     "execution_count": 37,
     "metadata": {},
     "output_type": "execute_result"
    }
   ],
   "source": [
    "sentence[:]"
   ]
  },
  {
   "cell_type": "markdown",
   "metadata": {},
   "source": [
    "\n",
    "In general it is customary to omit default arguments, so you will often see slicing like the following: \n",
    "`a[:5]`: get the first 5 elements of `a` (indices 0, 1, 2, 3, 4)   \n",
    "`a[5:]`: get all the elements starting from 5 through the end.   \n",
    "`a[:-3]`: get all the elements from the start until the 4th to last element.   \n",
    "`a[-3:]`: get the last 3 elements"
   ]
  },
  {
   "cell_type": "code",
   "execution_count": 38,
   "metadata": {},
   "outputs": [
    {
     "data": {
      "text/plain": [
       "'This is a sentence about string sequenc'"
      ]
     },
     "execution_count": 38,
     "metadata": {},
     "output_type": "execute_result"
    }
   ],
   "source": [
    "sentence[:-3]"
   ]
  },
  {
   "cell_type": "markdown",
   "metadata": {},
   "source": [
    "This also means that an easy way to reverse a sequence is to just index it with a step size of -1\""
   ]
  },
  {
   "cell_type": "code",
   "execution_count": 39,
   "metadata": {},
   "outputs": [
    {
     "data": {
      "text/plain": [
       "'!secneuqes gnirts tuoba ecnetnes a si sihT'"
      ]
     },
     "execution_count": 39,
     "metadata": {},
     "output_type": "execute_result"
    }
   ],
   "source": [
    "sentence[::-1]"
   ]
  },
  {
   "cell_type": "markdown",
   "metadata": {},
   "source": [
    "## for loops\n",
    "\n",
    "Given that we have a sequence, we might want to iterate through it, and do something to each element.  To accomplish this, we will use the `for` loop control structure:\n",
    "\n",
    "`for x in iterable:\n",
    "    do stuff\n",
    "    fo more stuff\n",
    "`"
   ]
  },
  {
   "cell_type": "code",
   "execution_count": 40,
   "metadata": {},
   "outputs": [
    {
     "name": "stdout",
     "output_type": "stream",
     "text": [
      "T\n",
      "h\n",
      "i\n",
      "s\n",
      " \n",
      "i\n",
      "s\n",
      " \n",
      "a\n",
      " \n",
      "s\n",
      "e\n",
      "n\n",
      "t\n",
      "e\n",
      "n\n",
      "c\n",
      "e\n",
      " \n",
      "a\n",
      "b\n",
      "o\n",
      "u\n",
      "t\n",
      " \n",
      "s\n",
      "t\n",
      "r\n",
      "i\n",
      "n\n",
      "g\n",
      " \n",
      "s\n",
      "e\n",
      "q\n",
      "u\n",
      "e\n",
      "n\n",
      "c\n",
      "e\n",
      "s\n",
      "!\n"
     ]
    }
   ],
   "source": [
    "for letter in sentence:\n",
    "    print(letter)"
   ]
  },
  {
   "cell_type": "markdown",
   "metadata": {},
   "source": [
    "What this notation is doing is generating a \"loop\", which iterates over all the elements in `sentence`.  On each iteration it assigns the next item from the sentence sequence to `letter`, and then executes the for loop code block (indicating by indentation).  Basically, this prints each letter in the sentence, one at a time.   But we could do a number of other things"
   ]
  },
  {
   "cell_type": "markdown",
   "metadata": {},
   "source": [
    "#### Caesar cipher\n",
    "\n",
    "Here we will do some (really primitive) encryption with a \"[Caeser cipher](https://en.wikipedia.org/wiki/Caesar_cipher)\", or \"shift cipher\" -- basically a glorified encoder/decoder ring.  We will encrypt our sentence using a particular shift key.  "
   ]
  },
  {
   "cell_type": "code",
   "execution_count": 41,
   "metadata": {},
   "outputs": [
    {
     "name": "stdout",
     "output_type": "stream",
     "text": [
      "k!\",7\",7x7,|'-|'z|7xy(.-7,-+\"' 7,|*.|'z|,8\n"
     ]
    }
   ],
   "source": [
    "utf_min = 32\n",
    "utf_range = 126 - utf_min\n",
    "shift = 5465465\n",
    "\n",
    "encrypted = ''\n",
    "\n",
    "for letter in sentence:\n",
    "    encrypted += chr(((ord(letter) - utf_min + shift) % utf_range) + utf_min)\n",
    "    \n",
    "print(encrypted)"
   ]
  },
  {
   "cell_type": "markdown",
   "metadata": {},
   "source": [
    "The core of this little program is the body of this for loop:\n",
    "\n",
    "`for letter in sentence:\n",
    "    encrypted += chr(((ord(letter) - utf_min + shift) % utf_range) + utf_min)`\n",
    "    \n",
    "At an abstract level, what this is doing is, taking each letter from the string sequence `sentence` one at a time.  For each letter it:\n",
    "\n",
    "1. use the `ord()` command to obtain the utf-8 integer associated with that letter (see table [here](https://www.utf8-chartable.de/unicode-utf8-table.pl?utf8=dec)).  \n",
    "1. add a constant offset (our encryption shift key) to that letter, then take the modulus of the sum to obtain an integer into one of the printable utf-8 characters (32 through 126 in that table)   \n",
    "1. use the `chr()` command to obtain the character associated with that new, shifted integer.   \n",
    "1. concatenate the new encoded character to the string `encoded` using the `+=` assignment operator."
   ]
  },
  {
   "cell_type": "markdown",
   "metadata": {},
   "source": [
    "To really sort out how this works, let's break down that one line:\n",
    "\n",
    "`encrypted += chr(((ord(letter) - utf_min + shift) % utf_range) + utf_min)`\n",
    "\n",
    "The basic thing being done in this line is incrementally adding to `encrypted`:   \n",
    "`encrypted += X` \n",
    "so on each iteration of the loop, we will add something to the `encrypted` string.   \n",
    "\n",
    "What will we add?  X:    \n",
    "`chr(((ord(letter) - utf_min + shift) % utf_range) + utf_min)`   \n",
    "which we can break apart into:   \n",
    "`chr(Y)`    \n",
    "so on each iteration we will add some character, specified by the integer Y.   \n",
    "\n",
    "What is that integer?   \n",
    "`((ord(letter) - utf_min + shift) % utf_range) + utf_min`   \n",
    "which we can break apart into more manageable chunks:   \n",
    "`(Z % utf_range) + utf_min`   \n",
    "we will take some other integer, calculate its modulus with respect to the range of printable utf characters, and then add an offset.  This particular pattern means that whatever integer `Z` starts off as, the particular transformation will yield an integer between 32 (`utf_min`) and 126 (`utf_min + utf_range`).    \n",
    "Basically, this code is taking some integer, and via the modulus operation, projecting it onto the range of printable utf characters.    \n",
    "\n",
    "What is the integer that we project onto the range of printable utf characters?   \n",
    "`ord(letter) - utf_min + shift`    \n",
    "This is the integer encording of the original letter (`ord(letter)`) minus the lower bound of the printable utf range, plus an offset shift, which is our secret key.   \n",
    "\n",
    "To figure out what this code will do we have to work from the innermost execution, outward: consider the first letter of our string (`T`, when `encrypted=''`):       \n",
    "`ord('T')` -> 84     \n",
    "`(84 - utf_min + shift)` -> 5465517 (given our offset key of 5465465)   \n",
    "`(5465517 % utf_range)` -> 75    \n",
    "`75 + utf_min` -> 107   \n",
    "`chr(107)` -> 'k'\n",
    "`encrypted += 'k'` ->  encrypted now = '' + 'k' (or just 'k')\n",
    "\n",
    "We will do this for every letter, and incrementally concatenate them to the `encrypted` variable.\n",
    "\n",
    "Below, we write this out again, but we unpack the line that'd doing all the work.  This is not very efficient (since we are creating a lot of unused variables), but it is much easier to read"
   ]
  },
  {
   "cell_type": "code",
   "execution_count": 42,
   "metadata": {},
   "outputs": [
    {
     "name": "stdout",
     "output_type": "stream",
     "text": [
      "k!\",7\",7x7,|'-|'z|7xy(.-7,-+\"' 7,|*.|'z|,8\n"
     ]
    }
   ],
   "source": [
    "encrypted = ''\n",
    "\n",
    "for letter in sentence:\n",
    "    # get the utf-8 integer associated with the letter\n",
    "    letter_integer = ord(letter)\n",
    "    # add cipher shift (and subtract printable character min integer)\n",
    "    shifted_letter_integer = letter_integer - utf_min + shift\n",
    "    # rescale shifted integer to integer range corresponding to printable utf characters\n",
    "    new_letter_integer = (shifted_letter_integer % utf_range) + utf_min\n",
    "    # get the character representation associated with that new integer\n",
    "    new_letter = chr(new_letter_integer)\n",
    "    # append new letter to encrypted string\n",
    "    encrypted += new_letter\n",
    "    \n",
    "print(encrypted)"
   ]
  },
  {
   "cell_type": "markdown",
   "metadata": {},
   "source": [
    "Finally, we can flip the offset sign to reverse our shift and extract the original text from the encrypted string."
   ]
  },
  {
   "cell_type": "code",
   "execution_count": 43,
   "metadata": {},
   "outputs": [
    {
     "name": "stdout",
     "output_type": "stream",
     "text": [
      "This is a sentence about string sequences!\n"
     ]
    }
   ],
   "source": [
    "decrypted = ''\n",
    "\n",
    "for letter in encrypted:\n",
    "    decrypted += chr(((ord(letter) - utf_min - shift) % utf_range) + utf_min)\n",
    "    \n",
    "print(decrypted)"
   ]
  },
  {
   "cell_type": "markdown",
   "metadata": {},
   "source": [
    "## Lists\n",
    "\n",
    "We have dealt with strings, but a list is a more general type of sequence.  We can create a list with square brackets:"
   ]
  },
  {
   "cell_type": "code",
   "execution_count": 44,
   "metadata": {},
   "outputs": [],
   "source": [
    "x = [6, 12, 34, 22, 10]"
   ]
  },
  {
   "cell_type": "code",
   "execution_count": 45,
   "metadata": {},
   "outputs": [
    {
     "name": "stdout",
     "output_type": "stream",
     "text": [
      "[6, 12, 34, 22, 10]\n"
     ]
    }
   ],
   "source": [
    "print(x)"
   ]
  },
  {
   "cell_type": "markdown",
   "metadata": {},
   "source": [
    "`x` is now a list of integers, and we can index and slice it the same way we did to a string (list of characters)."
   ]
  },
  {
   "cell_type": "code",
   "execution_count": 46,
   "metadata": {},
   "outputs": [
    {
     "data": {
      "text/plain": [
       "34"
      ]
     },
     "execution_count": 46,
     "metadata": {},
     "output_type": "execute_result"
    }
   ],
   "source": [
    "x[2]"
   ]
  },
  {
   "cell_type": "code",
   "execution_count": 47,
   "metadata": {},
   "outputs": [
    {
     "data": {
      "text/plain": [
       "[34, 22, 10]"
      ]
     },
     "execution_count": 47,
     "metadata": {},
     "output_type": "execute_result"
    }
   ],
   "source": [
    "x[-3:]"
   ]
  },
  {
   "cell_type": "markdown",
   "metadata": {},
   "source": [
    "## Fibonacci variants\n",
    "\n",
    "The fibonacci sequence starts with 0, 1, and then every subsequent number is the sum of the preceding two.  So $x_i = x_{i-1} + x_{i-2}$.  Let's write something that prints out the first 20 fibonacci sequence numbers."
   ]
  },
  {
   "cell_type": "markdown",
   "metadata": {},
   "source": [
    "### While loop\n",
    "\n",
    "First, let's do this via a while loop, and no lists"
   ]
  },
  {
   "cell_type": "code",
   "execution_count": 48,
   "metadata": {},
   "outputs": [
    {
     "name": "stdout",
     "output_type": "stream",
     "text": [
      "0\n",
      "1\n",
      "1\n",
      "2\n",
      "3\n",
      "5\n",
      "8\n",
      "13\n",
      "21\n",
      "34\n",
      "55\n",
      "89\n",
      "144\n",
      "233\n",
      "377\n",
      "610\n",
      "987\n",
      "1597\n",
      "2584\n",
      "4181\n"
     ]
    }
   ],
   "source": [
    "a, b = 0, 1\n",
    "print(a, b, sep='\\n')\n",
    "i = 2\n",
    "while(i < 20):\n",
    "    a, b = b, (a+b)\n",
    "    print(b)\n",
    "    i += 1\n"
   ]
  },
  {
   "cell_type": "markdown",
   "metadata": {},
   "source": [
    "Here we have introduced two new maneuver:\n",
    "\n",
    "`print(a,b,sep='\\n')` passing multiple items to print via the comma allows us to print many variables at once.  the named `sep` argument tells Python what to print to separate the different items listed.  the string `'\\n'` is a special \"escape character\" that means \"newline\".  So the command as a whole tells Python to print a, and b, and to separate them with a new line.\n",
    "\n",
    "\n",
    "`a,b = c,d` what this does is do multiple assignment simultaneously.  The sequence of operations Python undertakes are: evalute c, evaluate d, assign c to a and d to b.  This sequence of operations means that we can easily reassign variables, via a move like `a,b = b,a`.  Without this syntax, we would need to create a temporary variable to ensure that all information is preserved:  \n",
    "`tmp = a\n",
    "a = b\n",
    "b = tmp`\n",
    "\n",
    "Although the specific `a,b = c,d` syntax is fairly straight-forward, the algorithm as a whole might require some explanation:  \n",
    "we start with a=0, b=1 -- the first two items of the sequence.    \n",
    "the line `a, b = b, (a+b)` does three things simultaneously:    \n",
    "- calculates the next item in the sequence `(a+b)`,    \n",
    "- assigns the previous value of `b` to `a`,    \n",
    "- assigns the next item in the sequence to `b`.     \n",
    "thus, on the first pass through the body of the while loop, we end up with a=1, b=1.   \n",
    "On the second pass, we end up with a=1, b=2.\n",
    "\n",
    "After each pass, the current item in the sequence is stored in the variable `b`.\n"
   ]
  },
  {
   "cell_type": "markdown",
   "metadata": {},
   "source": [
    "### for loop, lists\n",
    "\n",
    "now, let's do this using a for loop, and construct a list of the first 20 numbers."
   ]
  },
  {
   "cell_type": "code",
   "execution_count": 49,
   "metadata": {},
   "outputs": [
    {
     "name": "stdout",
     "output_type": "stream",
     "text": [
      "[0, 1, 1, 2, 3, 5, 8, 13, 21, 34, 55, 89, 144, 233, 377, 610, 987, 1597, 2584, 4181]\n"
     ]
    }
   ],
   "source": [
    "fib = [0, 1]\n",
    "\n",
    "for idx in range(2, 20):\n",
    "    fib += [ fib[idx-2] + fib[idx-1] ]\n",
    "    \n",
    "print(fib)"
   ]
  },
  {
   "cell_type": "markdown",
   "metadata": {},
   "source": [
    "Here we have introduced a few new maneuvers:\n",
    "\n",
    "`range(start, stop, step)` creates an iterable sequence of numbers, and works just like the slice notation we had previously used.   So the very common command `for i in range(start,stop):` iterates for all values of idx from `start` to `stop-1`.\n",
    "\n",
    "`list1 += list2` appends list2 to list1, so that if list1=[1, 2, 3], and list2=[4, 5, 6], after the line shown list1 will be [1, 2, 3, 4, 5, 6].  In our case, we calculate the current list item by summing the two prior list items, and then we append that item to the list."
   ]
  }
 ],
 "metadata": {
  "kernelspec": {
   "display_name": "Python 3",
   "language": "python",
   "name": "python3"
  },
  "language_info": {
   "codemirror_mode": {
    "name": "ipython",
    "version": 3
   },
   "file_extension": ".py",
   "mimetype": "text/x-python",
   "name": "python",
   "nbconvert_exporter": "python",
   "pygments_lexer": "ipython3",
   "version": "3.8.5"
  }
 },
 "nbformat": 4,
 "nbformat_minor": 4
}