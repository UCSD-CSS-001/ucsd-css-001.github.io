{
 "cells": [
  {
   "cell_type": "markdown",
   "metadata": {
    "collapsed": true,
    "pycharm": {
     "name": "#%% md\n"
    }
   },
   "source": [
    "# P09: more data: joins and file types\n",
    "\n",
    "In which we cover:\n",
    "\n",
    "- more elaborate data operations\n",
    "\n",
    "## Concepts\n",
    "\n",
    "### File format\n",
    "\n",
    "### Joins\n",
    "\n",
    "\n",
    "## Python\n",
    "\n",
    "\n",
    "### reading different file formats\n",
    "\n",
    "### pandas joins\n",
    "\n",
    "### pandas reshaping\n",
    "\n",
    "\n",
    "\n",
    "\n",
    "\n"
   ]
  }
 ],
 "metadata": {
  "kernelspec": {
   "display_name": "Python 3",
   "language": "python",
   "name": "python3"
  },
  "language_info": {
   "codemirror_mode": {
    "name": "ipython",
    "version": 3
   },
   "file_extension": ".py",
   "mimetype": "text/x-python",
   "name": "python",
   "nbconvert_exporter": "python",
   "pygments_lexer": "ipython3",
   "version": "3.8.5"
  }
 },
 "nbformat": 4,
 "nbformat_minor": 0
}