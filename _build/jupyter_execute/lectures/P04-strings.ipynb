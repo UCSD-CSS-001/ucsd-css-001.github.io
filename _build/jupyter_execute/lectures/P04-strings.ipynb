{
 "cells": [
  {
   "cell_type": "markdown",
   "metadata": {
    "collapsed": false
   },
   "source": [
    "#  P04: Strings\n",
    "\n",
    "## Strings: defining / creating\n",
    "\n",
    "Strings are immutable sequences of characters.\n",
    "\n",
    "A string can be created in python by putting some text in quotes.\n",
    "- You can use either single quotes (`'string'`), or double quotes (`\"string\"`), it does not matter so long as the start and end of the string match. The choice of single vs double quotes is arbitrary. Pick one and use it consistently.\n",
    "- Tripple quotes, where you repeat three quotes of the same type to start the string (e.g., : `'''string'''` or `\"\"\"string\"\"\"`) are a special string definition that allows the string to span multiple lines."
   ]
  },
  {
   "cell_type": "code",
   "execution_count": 1,
   "metadata": {
    "collapsed": false,
    "pycharm": {
     "name": "#%%\n"
    }
   },
   "outputs": [
    {
     "name": "stdout",
     "output_type": "stream",
     "text": [
      "this is a string\n",
      "this is another string\n",
      "\n",
      "this is a\n",
      "3rd string\n",
      "\n",
      "\n",
      "this is a\n",
      "fourth string\n",
      "\n"
     ]
    }
   ],
   "source": [
    "a = 'this is a string'\n",
    "b = \"this is another string\"\n",
    "c = '''\n",
    "this is a\n",
    "3rd string\n",
    "'''\n",
    "d = \"\"\"\n",
    "this is a\n",
    "fourth string\n",
    "\"\"\"\n",
    "print(a,b,c,d, sep='\\n')"
   ]
  },
  {
   "cell_type": "markdown",
   "metadata": {
    "collapsed": false
   },
   "source": [
    "One reason to favor single or double quotes is if you have to have quotes in your own string,\n",
    "in which case use one type of quote to indicate the string, and another type of quote inside.\n",
    "Alternatively, you can *escape* quotes inside a string, to tell Python that the quote in the\n",
    "string should be treated as a character, rather than the end of the string."
   ]
  },
  {
   "cell_type": "code",
   "execution_count": 2,
   "metadata": {
    "collapsed": false,
    "pycharm": {
     "name": "#%%\n"
    }
   },
   "outputs": [
    {
     "ename": "SyntaxError",
     "evalue": "invalid syntax (<ipython-input-2-9cabf25dbbfc>, line 8)",
     "output_type": "error",
     "traceback": [
      "\u001b[0;36m  File \u001b[0;32m\"<ipython-input-2-9cabf25dbbfc>\"\u001b[0;36m, line \u001b[0;32m8\u001b[0m\n\u001b[0;31m    print(\"5: Alice said \"Hello!\"\")\u001b[0m\n\u001b[0m                          ^\u001b[0m\n\u001b[0;31mSyntaxError\u001b[0m\u001b[0;31m:\u001b[0m invalid syntax\n"
     ]
    }
   ],
   "source": [
    "# these are ok because different quotes are used inside the string.\n",
    "print('1: Alice said \"Hello!\"')\n",
    "print(\"2: Alice said 'Hello!'\")\n",
    "# these are ok because the inside quote is escaped.\n",
    "print(\"3: Alice said \\\"Hello!\\\"\")\n",
    "print('4: Alice said \\'Hello!\\'')\n",
    "# this is a syntax error because Python thinks the string ends before the H\n",
    "print(\"5: Alice said \"Hello!\"\")"
   ]
  },
  {
   "cell_type": "markdown",
   "metadata": {
    "collapsed": false
   },
   "source": [
    "### Common sequence operations\n",
    "\n",
    "First we will go over some common methods that all sequences (strings, lists, and more) share.\n",
    "\n",
    "To do so, we will use the following two sequences.  Note that the list contains a mixture of types -- integers, floats, strings, and even another list."
   ]
  },
  {
   "cell_type": "code",
   "execution_count": 3,
   "metadata": {
    "collapsed": false,
    "pycharm": {
     "name": "#%%\n"
    }
   },
   "outputs": [
    {
     "name": "stdout",
     "output_type": "stream",
     "text": [
      "alphabet:  abcdefghijklmnopqrstuvqxyz\n",
      "some_numbers: [0, 1, 1.4142135623730951, 1.7320508075688772, 2, 'e', 3, 'pi', 4, 5, [2, 3, 5, 7]]\n"
     ]
    }
   ],
   "source": [
    "alphabet = 'abcdefghijklmnopqrstuvqxyz'\n",
    "some_numbers = [0, 1, 2**(1/2), 3**(1/2), 2, 'e', 3, 'pi', 4, 5, [2, 3, 5, 7], ]\n",
    "print('alphabet: ', alphabet)\n",
    "print('some_numbers:', some_numbers)"
   ]
  },
  {
   "cell_type": "markdown",
   "metadata": {
    "collapsed": false
   },
   "source": [
    "#### len()\n",
    "\n",
    "Every collection (and thus, also every sequence) has a size property, indicating how many elements it has.  This can be polled with the `len()` function.  Note that the list inside the `some_numbers` list counts as one item."
   ]
  },
  {
   "cell_type": "code",
   "execution_count": 4,
   "metadata": {
    "collapsed": false,
    "pycharm": {
     "name": "#%%\n"
    }
   },
   "outputs": [
    {
     "name": "stdout",
     "output_type": "stream",
     "text": [
      "26\n",
      "11\n"
     ]
    }
   ],
   "source": [
    "print(len(alphabet))\n",
    "print(len(some_numbers))"
   ]
  },
  {
   "cell_type": "markdown",
   "metadata": {
    "collapsed": false
   },
   "source": [
    "#### in\n",
    "\n",
    "The contents of every container, (and thus every collection, and thus every sequence) can be probed with the `in` operation.  `x in container` returns `True` if x is one of the items in the container."
   ]
  },
  {
   "cell_type": "code",
   "execution_count": 5,
   "metadata": {
    "collapsed": false,
    "pycharm": {
     "name": "#%%\n"
    }
   },
   "outputs": [
    {
     "name": "stdout",
     "output_type": "stream",
     "text": [
      "True\n",
      "False\n",
      "True\n",
      "False\n",
      "True\n",
      "False\n"
     ]
    }
   ],
   "source": [
    "print('b' in alphabet) # True\n",
    "print('@' in alphabet) # False\n",
    "print('pi' in some_numbers) # True\n",
    "print(7 in some_numbers) # False -- it only probes immediate members, not elements of elements.\n",
    "print([2, 3, 5, 7] in some_numbers) # True\n",
    "print(1.41421356237 in some_numbers) # False Exact equality of floats is complicated"
   ]
  },
  {
   "cell_type": "markdown",
   "metadata": {
    "collapsed": false
   },
   "source": [
    "For strings, the `in` operation is special because it can also evaluate if a given string contains a particular *substring*, rather than a specific character.  This does not work for other sequence types."
   ]
  },
  {
   "cell_type": "code",
   "execution_count": 6,
   "metadata": {
    "collapsed": false,
    "pycharm": {
     "name": "#%%\n"
    }
   },
   "outputs": [
    {
     "name": "stdout",
     "output_type": "stream",
     "text": [
      "True\n",
      "False\n",
      "False\n",
      "False\n",
      "False\n"
     ]
    }
   ],
   "source": [
    "print('hijk' in alphabet) # True\n",
    "print('cba' in alphabet) # False\n",
    "print('Abc' in alphabet) # False -- case sensitive\n",
    "print(' abc' in alphabet) # False\n",
    "print([0, 1] in some_numbers) # False: this asks if one of the elements is the list [0,1]"
   ]
  },
  {
   "cell_type": "markdown",
   "metadata": {
    "collapsed": false
   },
   "source": [
    "\n",
    "#### indexing\n",
    "\n",
    "Because sequences have a deterministic ordering, we can retrieve particular items from them with square bracket numerical indexing.  This applies to both lists and strings."
   ]
  },
  {
   "cell_type": "code",
   "execution_count": 7,
   "metadata": {
    "collapsed": false,
    "pycharm": {
     "name": "#%%\n"
    }
   },
   "outputs": [
    {
     "name": "stdout",
     "output_type": "stream",
     "text": [
      "a\n",
      "1.7320508075688772\n",
      "z\n",
      "pi\n"
     ]
    }
   ],
   "source": [
    "print(alphabet[0])\n",
    "print(some_numbers[3])\n",
    "print(alphabet[-1]) # same as len(alphabet)-1, or 25\n",
    "print(some_numbers[-4]) # same as len(some_numbers)-4, or 7"
   ]
  },
  {
   "cell_type": "markdown",
   "metadata": {
    "collapsed": false
   },
   "source": [
    "Note:\n",
    "- this is zero-indexed, so the initial item of the sequence has an index of 0,\n",
    "- the last item of the sequence has an index of `len(seq)-1`\n",
    "- negative indexing `-1` is a shortcut for indexing from the end of the sequence by omitting the `len(seq)` part, so `x[-1]` has the same meaning as `x[len(x)-1]`\n",
    "\n",
    "\n",
    "#### slicing\n",
    "\n",
    "Indexing pulls out one item from a sequence, but slicing can pull out multiple elements.\n",
    "\n",
    "The full slicing notation is `x[start:stop:step]`, where we can pull out elements beginning with `start`, through `step-1`, incrementing by `step`."
   ]
  },
  {
   "cell_type": "code",
   "execution_count": 8,
   "metadata": {
    "collapsed": false,
    "pycharm": {
     "name": "#%%\n"
    }
   },
   "outputs": [
    {
     "name": "stdout",
     "output_type": "stream",
     "text": [
      "abcdefghijklmnopqrstuvqxyz\n",
      "f\n",
      "abcde\n",
      "ace\n",
      "fedcb\n",
      "xy\n"
     ]
    }
   ],
   "source": [
    "print(alphabet)\n",
    "print(alphabet[5]) # [5]\n",
    "print(alphabet[0:5:1]) # [0, 1, 2, 3, 4] note, this omits the letter at index stop [5]='f'\n",
    "print(alphabet[0:5:2]) # [0, 2, 4] we are counting by 2, so getting indices\n",
    "print(alphabet[5:0:-1]) # [5, 4, 3, 2] we are counting by -1! note [0] omitted\n",
    "print(alphabet[-3:-1:1]) # we can use negative indices here too. [-3, -2] = [23, 24]"
   ]
  },
  {
   "cell_type": "markdown",
   "metadata": {
    "collapsed": false
   },
   "source": [
    "##### Slicing defaults.\n",
    "\n",
    "There are very commonly used values for `start`, `stop` and `step`, so these are set to be the defaults if that value is omitted.\n",
    "\n",
    "- default `start=0`: `x[:b:1]` means `x[0:b:1]` because if the start value is omitted, the default of 0 -- initial element of sequence -- is used\n",
    "- default `stop = len(x)`:  `x[a::1]` means `x[a:len(x):1]` which yields all the items from index `a` through the end of the list\n",
    "- default `step = 1`: so `x[a:b:]` and `x[a:b]` both mean `x[a:b:1]`\n",
    "\n",
    "These defaults make a few concise expressions possible:\n",
    "- `x[a:]` gets all the items from `a` through the end of the sequence (since it defaults to `x[a:len(x):1]`\n",
    "- `x[:b]` gets all the items from the start of the sequence through `b-1`\n",
    "- `x[::k]` gets every kth item from index 0 through the end.\n",
    "\n",
    "```{note}\n",
    "**Default slicing parameters with negative indexing**\n",
    "\n",
    "One subtlety is that the default start and stop values change depending on the *step sign*:\n",
    "when incrementing positively defaults are as described above. When incrementing negatively,\n",
    "default start is `len(x)-1` (or just -1 -- the last item), and default stop is the item before 0, so that the last included item has index 0.\n",
    "\n",
    "However, note that you cannot yourself indicate \"the item before 0\" because that would be -1, which has a different meaning (shorthand for `len(x)-1`).\n",
    "Consequently, if you want to end at the initial sequence item with negative indexing, you have to either omit it, or provide the argument `None`\n",
    "\n",
    "Altogether, `x[::-1]` is the same as `x[-1:None:-1]`\n",
    "```"
   ]
  },
  {
   "cell_type": "code",
   "execution_count": 9,
   "metadata": {
    "collapsed": false,
    "pycharm": {
     "name": "#%%\n"
    }
   },
   "outputs": [
    {
     "name": "stdout",
     "output_type": "stream",
     "text": [
      "abcde\n",
      "vqxyz\n",
      "acegikmoqsuqy\n",
      "zyxqvutsrqponmlkjihgfedcba\n",
      "zyxqvutsrqponmlkjihgfedcba\n"
     ]
    }
   ],
   "source": [
    "print(alphabet[:5]) # [0, 1, 2, 3, 4]\n",
    "print(alphabet[-5:]) # [21, 22, 23, 24, 25]\n",
    "print(alphabet[::2]) # [0, 2, 4, 6, 8, 10, 12, 14, 16, 18, 20, 22, 24]\n",
    "print(alphabet[::-1]) # [25, 24, 23, ... 0]\n",
    "print(alphabet[-1:None:-1]) # same as above."
   ]
  },
  {
   "cell_type": "markdown",
   "metadata": {
    "collapsed": false
   },
   "source": [
    "We can do the same things with a list:"
   ]
  },
  {
   "cell_type": "code",
   "execution_count": 10,
   "metadata": {
    "collapsed": false,
    "pycharm": {
     "name": "#%%\n"
    }
   },
   "outputs": [
    {
     "name": "stdout",
     "output_type": "stream",
     "text": [
      "['e', 3, 'pi', 4, 5, [2, 3, 5, 7]]\n",
      "[0, 1, 1.4142135623730951, 1.7320508075688772, 2, 'e', 3, 'pi']\n",
      "[0, 1.7320508075688772, 3, 5]\n"
     ]
    }
   ],
   "source": [
    "print(some_numbers[5:]) # [5, 6, 7, 8, 9, 10]\n",
    "print(some_numbers[:-3]) # [0, 1, 2, 3, 4, 5, 6, 7] (note index 8 (11-3) excluded!)\n",
    "print(some_numbers[::3]) # [0, 3, 6, 9]"
   ]
  },
  {
   "cell_type": "markdown",
   "metadata": {
    "collapsed": false
   },
   "source": [
    "#### + concatenation\n",
    "\n",
    "Often you will want to concatenate two sequences.  This can be done with the `+` operator.  This works for strings and all other sequences."
   ]
  },
  {
   "cell_type": "code",
   "execution_count": 11,
   "metadata": {
    "collapsed": false,
    "pycharm": {
     "name": "#%%\n"
    }
   },
   "outputs": [
    {
     "name": "stdout",
     "output_type": "stream",
     "text": [
      "hello world\n",
      "[1, 2, 'a', 35, 46]\n"
     ]
    }
   ],
   "source": [
    "a = \"hello\"\n",
    "b = \" world\"\n",
    "print(a + b)\n",
    "\n",
    "c = [1, 2, 'a']\n",
    "d = [35, 46]\n",
    "print(c + d)"
   ]
  },
  {
   "cell_type": "markdown",
   "metadata": {
    "collapsed": false
   },
   "source": [
    "Note that this does not work for different types.  You cannot `+` a string and an integer (later we will see that to do this we must first convert the integer to a string).  Nor can you `+ a string and a list, even though they are both sequence types.\n"
   ]
  },
  {
   "cell_type": "code",
   "execution_count": 12,
   "metadata": {
    "collapsed": false,
    "pycharm": {
     "name": "#%%\n"
    }
   },
   "outputs": [
    {
     "ename": "TypeError",
     "evalue": "can only concatenate str (not \"int\") to str",
     "output_type": "error",
     "traceback": [
      "\u001b[0;31m---------------------------------------------------------------------------\u001b[0m",
      "\u001b[0;31mTypeError\u001b[0m                                 Traceback (most recent call last)",
      "\u001b[0;32m<ipython-input-12-4fda98c5ffd8>\u001b[0m in \u001b[0;36m<module>\u001b[0;34m\u001b[0m\n\u001b[0;32m----> 1\u001b[0;31m \u001b[0mprint\u001b[0m\u001b[0;34m(\u001b[0m\u001b[0;34m'boo'\u001b[0m \u001b[0;34m+\u001b[0m \u001b[0;36m3\u001b[0m\u001b[0;34m)\u001b[0m \u001b[0;31m# TypeError\u001b[0m\u001b[0;34m\u001b[0m\u001b[0;34m\u001b[0m\u001b[0m\n\u001b[0m",
      "\u001b[0;31mTypeError\u001b[0m: can only concatenate str (not \"int\") to str"
     ]
    }
   ],
   "source": [
    "print('boo' + 3) # TypeError"
   ]
  },
  {
   "cell_type": "code",
   "execution_count": 13,
   "metadata": {
    "collapsed": false,
    "pycharm": {
     "name": "#%%\n"
    }
   },
   "outputs": [
    {
     "ename": "TypeError",
     "evalue": "can only concatenate list (not \"str\") to list",
     "output_type": "error",
     "traceback": [
      "\u001b[0;31m---------------------------------------------------------------------------\u001b[0m",
      "\u001b[0;31mTypeError\u001b[0m                                 Traceback (most recent call last)",
      "\u001b[0;32m<ipython-input-13-ac93501d4e85>\u001b[0m in \u001b[0;36m<module>\u001b[0;34m\u001b[0m\n\u001b[0;32m----> 1\u001b[0;31m \u001b[0mprint\u001b[0m\u001b[0;34m(\u001b[0m\u001b[0;34m[\u001b[0m\u001b[0;36m1\u001b[0m\u001b[0;34m,\u001b[0m \u001b[0;36m2\u001b[0m\u001b[0;34m,\u001b[0m \u001b[0;36m3\u001b[0m\u001b[0;34m]\u001b[0m \u001b[0;34m+\u001b[0m \u001b[0;34m'boo'\u001b[0m\u001b[0;34m)\u001b[0m \u001b[0;31m# TypeError\u001b[0m\u001b[0;34m\u001b[0m\u001b[0;34m\u001b[0m\u001b[0m\n\u001b[0m",
      "\u001b[0;31mTypeError\u001b[0m: can only concatenate list (not \"str\") to list"
     ]
    }
   ],
   "source": [
    "print([1, 2, 3] + 'boo') # TypeError"
   ]
  },
  {
   "cell_type": "markdown",
   "metadata": {
    "collapsed": false
   },
   "source": [
    "##### * replication\n",
    "\n",
    "Relatedly, if string/sequence \"addition\" means concatenating the two strings, what might string \"multiplication\" be? Repeated concatenation!\n",
    "\n",
    "The operator `*` applied to a sequence (such as a string) and an integer `n` repeats the string/sequence `n` times."
   ]
  },
  {
   "cell_type": "code",
   "execution_count": 14,
   "metadata": {
    "collapsed": false,
    "pycharm": {
     "name": "#%%\n"
    }
   },
   "outputs": [
    {
     "name": "stdout",
     "output_type": "stream",
     "text": [
      "Go Go Go Ole Ole Ole \n",
      "[1, 2, 1, 2, 1, 2, 1, 2, 1, 2]\n"
     ]
    }
   ],
   "source": [
    "print('Go '*3 + 'Ole '*3)\n",
    "print([1, 2]*5)"
   ]
  },
  {
   "cell_type": "markdown",
   "metadata": {
    "collapsed": false
   },
   "source": [
    "(You cannot `*` two strings, or two sequences of any other type, or a sequence and a float)\n",
    "\n",
    "## Strings\n",
    "\n",
    "In addition to inheriting properties from the generic \"sequence\" type, strings have many of their own unique methods that are particularly helpful for dealing with text.\n",
    "\n",
    "### inserting variables into strings via concatenation\n",
    "\n",
    "We can use string concatenation to put variable values into strings.  For instance:"
   ]
  },
  {
   "cell_type": "code",
   "execution_count": 15,
   "metadata": {
    "collapsed": false,
    "pycharm": {
     "name": "#%%\n"
    }
   },
   "outputs": [
    {
     "name": "stdout",
     "output_type": "stream",
     "text": [
      "Hello Bob!\n",
      "Your age is 67.\n"
     ]
    }
   ],
   "source": [
    "name = \"Bob\"\n",
    "age = 67\n",
    "print(\"Hello \" + name + \"!\")\n",
    "print(\"Your age is \" + str(age) + \".\")"
   ]
  },
  {
   "cell_type": "markdown",
   "metadata": {
    "collapsed": false
   },
   "source": [
    "Note two things about the code above:\n",
    "- because age is an integer, not a string, we have to convert it into a string\n",
    "first before we can use `+` concatenation to it. After all `+` applied to integers means something\n",
    "completely different than `+` applied to strings, so we have to make sure we are doing the right thing. (If we try to `+` a string and an integer, we get a TypeError.)\n",
    "- It is a bit ugly, there are all these quotes and `+` signs scattered about. There is a better way"
   ]
  },
  {
   "cell_type": "code",
   "execution_count": 16,
   "metadata": {
    "collapsed": false,
    "pycharm": {
     "name": "#%%\n"
    }
   },
   "outputs": [
    {
     "ename": "TypeError",
     "evalue": "unsupported operand type(s) for +: 'int' and 'str'",
     "output_type": "error",
     "traceback": [
      "\u001b[0;31m---------------------------------------------------------------------------\u001b[0m",
      "\u001b[0;31mTypeError\u001b[0m                                 Traceback (most recent call last)",
      "\u001b[0;32m<ipython-input-16-e22be3441218>\u001b[0m in \u001b[0;36m<module>\u001b[0;34m\u001b[0m\n\u001b[0;32m----> 1\u001b[0;31m \u001b[0;36m67\u001b[0m \u001b[0;34m+\u001b[0m \u001b[0;34m'years'\u001b[0m\u001b[0;34m\u001b[0m\u001b[0;34m\u001b[0m\u001b[0m\n\u001b[0m",
      "\u001b[0;31mTypeError\u001b[0m: unsupported operand type(s) for +: 'int' and 'str'"
     ]
    }
   ],
   "source": [
    "67 + 'years'"
   ]
  },
  {
   "cell_type": "markdown",
   "metadata": {
    "collapsed": false
   },
   "source": [
    "### inserting variables into strings via f-strings\n",
    "\n",
    "f-strings, or formatted strings, are a special kind of string that allows for a nice way to\n",
    "include variables inside a string.  An f-string is defined with the special string notation: (`f''`)\n",
    "For instance, the example above can be written more elegantly with f-strings:"
   ]
  },
  {
   "cell_type": "code",
   "execution_count": 17,
   "metadata": {
    "collapsed": false,
    "pycharm": {
     "name": "#%%\n"
    }
   },
   "outputs": [
    {
     "name": "stdout",
     "output_type": "stream",
     "text": [
      "Hello Bob!\n",
      "Your age is 67.\n"
     ]
    }
   ],
   "source": [
    "name = \"Bob\"\n",
    "age = 67\n",
    "print(f'Hello {name}!')\n",
    "print(f\"Your age is {age}.\")"
   ]
  },
  {
   "cell_type": "markdown",
   "metadata": {
    "collapsed": false
   },
   "source": [
    "Note that the f strings look much tidier, and also do the conversion of different data types into strings for you.\n",
    "\n",
    "There are lots of details about how to refine formatting inside the f-string\n",
    "(e.g., how many decimals to print in a float? pad a string with space? etc.)\n",
    "But for now we can just use them as a tidy way of sticking variables into strings.\n",
    "\n",
    "### String methods\n",
    "\n",
    "Everything in python is an object, and strings are no exception. What it means for strings to be objects, is that each string has *methods* defined by the string class.  For an exhaustive list, and explanations, look at the [python string documentation](https://docs.python.org/3/library/stdtypes.html#string-methods).\n",
    "\n",
    "#### String modification methods\n",
    "\n",
    "These methods are many, but a few helpful ones alter the string in various common ways:\n",
    "- `'string'.lower()` converts it to lower case\n",
    "- `'string'.upper()` converts to upper case\n",
    "- `'string'.replace(old,new)` replaces every instance of the string stored in the parameter `old` with a copy of the `new` string.\n",
    "\n",
    "Note that I use the f-string shortcut f'{var=}' which prints \"var='contents of var'\", so we can easily see what each line below is doing."
   ]
  },
  {
   "cell_type": "code",
   "execution_count": 18,
   "metadata": {
    "collapsed": false,
    "pycharm": {
     "name": "#%%\n"
    }
   },
   "outputs": [
    {
     "name": "stdout",
     "output_type": "stream",
     "text": [
      "sentence='When angry it helps to WRITE IN ALL CAPS!'\n",
      "sentence.lower()='when angry it helps to write in all caps!'\n",
      "sentence.upper()='WHEN ANGRY IT HELPS TO WRITE IN ALL CAPS!'\n",
      "sentence.title()='When Angry It Helps To Write In All Caps!'\n",
      "sentence.replace(\"angry\", \"excited\")='When excited it helps to WRITE IN ALL CAPS!'\n"
     ]
    }
   ],
   "source": [
    "sentence = 'When angry it helps to WRITE IN ALL CAPS!'\n",
    "print(f'{sentence=}')\n",
    "print(f'{sentence.lower()=}')\n",
    "print(f'{sentence.upper()=}')\n",
    "print(f'{sentence.title()=}')\n",
    "print(f'{sentence.replace(\"angry\", \"excited\")=}')"
   ]
  },
  {
   "cell_type": "markdown",
   "metadata": {
    "collapsed": false
   },
   "source": [
    "Note that strings are **immutable**, so any method that changes a string does not change the existing string, but instead makes a new, altered string."
   ]
  },
  {
   "cell_type": "code",
   "execution_count": 19,
   "metadata": {
    "collapsed": false,
    "pycharm": {
     "name": "#%%\n"
    }
   },
   "outputs": [
    {
     "name": "stdout",
     "output_type": "stream",
     "text": [
      "when angry it helps to write in all caps!\n",
      "When angry it helps to WRITE IN ALL CAPS!\n",
      "when angry it helps to write in all caps!\n"
     ]
    }
   ],
   "source": [
    "sentence = 'When angry it helps to WRITE IN ALL CAPS!'\n",
    "print(sentence.lower())\n",
    "print(sentence) # original not changed!\n",
    "sentence = sentence.lower() # to change it, we have to overwrite it\n",
    "print(sentence)"
   ]
  },
  {
   "cell_type": "markdown",
   "metadata": {
    "collapsed": false
   },
   "source": [
    "#### String evaluation methods\n",
    "\n",
    "There is also a large family of string evaluation methods of the form `'string'.isXXX()` where\n",
    "XXX is something you might care about.  For instance\n",
    "- `.isdigit()` returns True if a string is composed  entirely of digits {0...9}.\n",
    "- `.isalpha()` returns  True if a string is composed entirely of alphabetic letters {a-zA-Z}.\n",
    "\n",
    "### String encoding\n"
   ]
  }
 ],
 "metadata": {
  "kernelspec": {
   "display_name": "Python 3",
   "language": "python",
   "name": "python3"
  },
  "language_info": {
   "codemirror_mode": {
    "name": "ipython",
    "version": 3
   },
   "file_extension": ".py",
   "mimetype": "text/x-python",
   "name": "python",
   "nbconvert_exporter": "python",
   "pygments_lexer": "ipython3",
   "version": "3.8.5"
  }
 },
 "nbformat": 4,
 "nbformat_minor": 0
}