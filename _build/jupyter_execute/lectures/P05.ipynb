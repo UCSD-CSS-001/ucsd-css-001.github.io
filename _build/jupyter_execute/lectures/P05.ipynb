{
 "cells": [
  {
   "cell_type": "markdown",
   "metadata": {
    "collapsed": false
   },
   "source": [
    "# P05: functions\n",
    "\n",
    "In which we cover functions:\n",
    "\n",
    "- defining functions\n",
    "- calling functions\n",
    "- positional and named arguments\n",
    "- default argument values\n",
    "- variable arguments"
   ]
  }
 ],
 "metadata": {
  "kernelspec": {
   "display_name": "Python 3",
   "language": "python",
   "name": "python3"
  },
  "language_info": {
   "codemirror_mode": {
    "name": "ipython",
    "version": 3
   },
   "file_extension": ".py",
   "mimetype": "text/x-python",
   "name": "python",
   "nbconvert_exporter": "python",
   "pygments_lexer": "ipython3",
   "version": "3.8.5"
  }
 },
 "nbformat": 4,
 "nbformat_minor": 0
}