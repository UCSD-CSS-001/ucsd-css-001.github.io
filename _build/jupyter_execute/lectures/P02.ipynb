{
 "cells": [
  {
   "cell_type": "markdown",
   "metadata": {
    "collapsed": false
   },
   "source": [
    "# P02: Control flow and logic\n",
    "\n",
    "Computer programs become very powerful once we can command their flow of execution.  This is done via two primary control structures:\n",
    "\n",
    "- Conditionals (`if...elif...else`) statements that allow the program execution to *branch*, and\n",
    "- Loops (`for` and `while`) that allow the program execution to *repeat*.\n",
    "\n",
    "\n",
    "- conditionals (`if`, `elif`, `else`)\n",
    "- comparison operators\n",
    "- logic operators\n",
    "- for loops\n",
    "- while loops"
   ]
  }
 ],
 "metadata": {
  "kernelspec": {
   "display_name": "Python 3",
   "language": "python",
   "name": "python3"
  },
  "language_info": {
   "codemirror_mode": {
    "name": "ipython",
    "version": 3
   },
   "file_extension": ".py",
   "mimetype": "text/x-python",
   "name": "python",
   "nbconvert_exporter": "python",
   "pygments_lexer": "ipython3",
   "version": "3.8.5"
  }
 },
 "nbformat": 4,
 "nbformat_minor": 4
}