{
 "cells": [
  {
   "cell_type": "markdown",
   "metadata": {
    "collapsed": false
   },
   "source": [
    "# P02: Control flow and logic\n",
    "\n",
    "Computer programs can be very powerful once we can command their flow of execution.  This is done via assorted control structures."
   ]
  },
  {
   "cell_type": "markdown",
   "metadata": {
    "collapsed": false
   },
   "source": [
    "## Control: if..else\n",
    "\n",
    "The basic control structure allows branching: do something only if a condition is met."
   ]
  },
  {
   "cell_type": "code",
   "execution_count": 1,
   "metadata": {
    "collapsed": false,
    "pycharm": {
     "name": "#%%\n"
    }
   },
   "outputs": [
    {
     "name": "stdout",
     "output_type": "stream",
     "text": [
      "My name is Ed\n"
     ]
    }
   ],
   "source": [
    "polite = False\n",
    "\n",
    "if polite:\n",
    "    print(\"hello!\")\n",
    "    print(\"it is a pleasure to meet you!\")\n",
    "\n",
    "print(\"My name is Ed\")"
   ]
  },
  {
   "cell_type": "markdown",
   "metadata": {
    "collapsed": false
   },
   "source": [
    "What this code is doing is:\n",
    "- set the variable `polite` to the boolean value True\n",
    "- if statement checks if the expression (`polite`) evaluates to True  \n",
    "    - if `polite` is True then it runs the code block (indicated by indentation) comprised of two print statements;\n",
    "    - if `polite` is not true (i.e., False) then it does not run those two print statements.\n",
    "- execution then moves on to the next line outside of the `if` block (the 3rd print statement)\n",
    "\n",
    "### Code blocks\n",
    "\n",
    "Note that here we are creating a code block via indentation.  We would get different results with different indentation.  Below, the indentation indicates that the second print statement is *outside* of the if block, and it will be run regardless of whether greet is true or false."
   ]
  },
  {
   "cell_type": "code",
   "execution_count": 2,
   "metadata": {
    "collapsed": false,
    "pycharm": {
     "name": "#%%\n"
    }
   },
   "outputs": [
    {
     "name": "stdout",
     "output_type": "stream",
     "text": [
      "it is a pleasure to meet you!\n",
      "My name is Ed\n"
     ]
    }
   ],
   "source": [
    "polite = False\n",
    "\n",
    "if polite:\n",
    "    print(\"hello!\")\n",
    "print(\"it is a pleasure to meet you!\")\n",
    "\n",
    "print(\"My name is Ed\")"
   ]
  },
  {
   "cell_type": "markdown",
   "metadata": {
    "collapsed": false
   },
   "source": [
    "### else\n",
    "\n",
    "If we wanted to print one thing if `polite` is true, and a different thing if `polite` is false, when we would want to set up an `else` block:"
   ]
  },
  {
   "cell_type": "code",
   "execution_count": 3,
   "metadata": {
    "collapsed": false,
    "pycharm": {
     "name": "#%%\n"
    }
   },
   "outputs": [
    {
     "name": "stdout",
     "output_type": "stream",
     "text": [
      "hey.\n",
      "My name is Ed\n"
     ]
    }
   ],
   "source": [
    "polite = False\n",
    "\n",
    "if polite:\n",
    "    print(\"hello!\")\n",
    "else:\n",
    "    print(\"hey.\")\n",
    "\n",
    "print(\"My name is Ed\")"
   ]
  },
  {
   "cell_type": "markdown",
   "metadata": {
    "collapsed": false
   },
   "source": [
    "### elif\n",
    "\n",
    "Sometimes we want to have more than two branches, so we would want a control structure that can accomodate that:"
   ]
  },
  {
   "cell_type": "code",
   "execution_count": 4,
   "metadata": {
    "collapsed": false,
    "pycharm": {
     "name": "#%%\n"
    }
   },
   "outputs": [
    {
     "name": "stdout",
     "output_type": "stream",
     "text": [
      "Good day to you!\n",
      "My name is Ed\n"
     ]
    }
   ],
   "source": [
    "verbose = True\n",
    "polite = True\n",
    "\n",
    "if verbose:\n",
    "    print('Good day to you!')\n",
    "elif polite:\n",
    "    print('Hello!')\n",
    "else:\n",
    "    print('hey.')\n",
    "    \n",
    "print('My name is Ed')\n",
    "    "
   ]
  },
  {
   "cell_type": "markdown",
   "metadata": {
    "collapsed": false
   },
   "source": [
    "\n",
    "Note that execution of the `if..elif..else` statement takes the first available branch, and then does not execute the other branches.  Here, `verbose` evaluated to True, so the first branch was taken and no other branches were (even though `polite` also evaluated to true).  Thus an `if..elif..else` block sets up a mutually exclusive branching structure.\n",
    "\n",
    "We can have as many `elif` after an `if` as we see fit, but it only makes sense to have one `else`.  (Note that an `else:` is logically equivalent to `elif True:`)\n"
   ]
  },
  {
   "cell_type": "markdown",
   "metadata": {
    "collapsed": false
   },
   "source": [
    "### if..elif vs if..if..\n",
    "\n",
    "The mutually exclusive branching structure of `if..elif` is contrasted with a series of independent `if` statements, that each presents an optional branch, independent of the others.\n",
    "\n",
    "Consider the two blocks of code below.  What will each print?"
   ]
  },
  {
   "cell_type": "code",
   "execution_count": 5,
   "metadata": {
    "collapsed": false,
    "pycharm": {
     "name": "#%%\n"
    }
   },
   "outputs": [],
   "source": [
    "A = True\n",
    "B = True\n",
    "C = False"
   ]
  },
  {
   "cell_type": "code",
   "execution_count": 6,
   "metadata": {
    "collapsed": false,
    "pycharm": {
     "name": "#%%\n"
    }
   },
   "outputs": [
    {
     "name": "stdout",
     "output_type": "stream",
     "text": [
      "A is true\n"
     ]
    }
   ],
   "source": [
    "if A:\n",
    "    print('A is true')\n",
    "elif B:\n",
    "    print('B is true')\n",
    "elif C:\n",
    "    print('C is true')"
   ]
  },
  {
   "cell_type": "code",
   "execution_count": 7,
   "metadata": {
    "collapsed": false,
    "pycharm": {
     "name": "#%%\n"
    }
   },
   "outputs": [
    {
     "name": "stdout",
     "output_type": "stream",
     "text": [
      "A is true\n",
      "B is true\n"
     ]
    }
   ],
   "source": [
    "if A:\n",
    "    print('A is true')\n",
    "if B:\n",
    "    print('B is true')\n",
    "if C:\n",
    "    print('C is true')"
   ]
  },
  {
   "cell_type": "markdown",
   "metadata": {
    "collapsed": false
   },
   "source": [
    "Note also that an else statement is attached to exactly one if..elif.. statement.  So what will the code below do?"
   ]
  },
  {
   "cell_type": "code",
   "execution_count": 8,
   "metadata": {
    "collapsed": false,
    "pycharm": {
     "name": "#%%\n"
    }
   },
   "outputs": [
    {
     "name": "stdout",
     "output_type": "stream",
     "text": [
      "A is true\n",
      "B is true\n",
      "neither A nor B nor C are true\n"
     ]
    }
   ],
   "source": [
    "if A:\n",
    "    print('A is true')\n",
    "if B:\n",
    "    print('B is true')\n",
    "if C:\n",
    "    print('C is true')\n",
    "else:\n",
    "    print('neither A nor B nor C are true')"
   ]
  },
  {
   "cell_type": "markdown",
   "metadata": {
    "collapsed": false
   },
   "source": [
    "Note that what the code above *prints* deviates from reality!  The code runs just fine, but it will print \"neither A nor B nor C are true\" even when A or B are true!  This is the trickiest sort of bug to fix, because the computer does not know that anything is wrong, so it cheerfully does the incorrect thing.\n",
    "\n",
    "How would we fix the code above to do work correctly?\n",
    "\n",
    "## Logical operators\n",
    "\n",
    "While working with a single boolean value can solve some problems, often we want to specify a more complicated logical expression by combining boolean values from many comparisons.  For instance, to make the code above work, we need to figure out if A, B, and C are all False.\n",
    "\n",
    "These kinds of boolean operations can be done with\n",
    "\n",
    "`A and B`: returns True if both A and B are true.\n",
    "`A or B`: returns True if either A or B are true.\n",
    "`not A`: returns True if A is False."
   ]
  },
  {
   "cell_type": "code",
   "execution_count": 9,
   "metadata": {
    "collapsed": false,
    "pycharm": {
     "name": "#%%\n"
    }
   },
   "outputs": [
    {
     "name": "stdout",
     "output_type": "stream",
     "text": [
      "A is true\n",
      "B is true\n"
     ]
    }
   ],
   "source": [
    "if A:\n",
    "    print('A is true')\n",
    "if B:\n",
    "    print('B is true')\n",
    "if C:\n",
    "    print('C is true')\n",
    "if not A and not B and not C:\n",
    "    # alternatively:  not (A or B or C)\n",
    "    print('neither A nor B nor C are true')"
   ]
  },
  {
   "cell_type": "markdown",
   "metadata": {
    "collapsed": false
   },
   "source": [
    "## Comparison operators\n",
    "\n",
    "So far we have written if..else statements to evaluate based on pre-defined boolean variables, but a much more common scenario is to compare values, and define new boolean variables that way.  To this end, Python has a number of comparison operators:\n",
    "\n",
    "`A == B`: returns True if A and B are equal   \n",
    "`A != B`: returns True if A and B are not equal   \n",
    "`A < B` (or  `A > B`): return True is A is less than B (or greater than B)   \n",
    "`A <= B` (or `A >= B`): return True is A is less than or equal to B (or greater than or equal to B)    "
   ]
  },
  {
   "cell_type": "code",
   "execution_count": 10,
   "metadata": {
    "collapsed": false,
    "pycharm": {
     "name": "#%%\n"
    }
   },
   "outputs": [
    {
     "data": {
      "text/plain": [
       "True"
      ]
     },
     "execution_count": 10,
     "metadata": {},
     "output_type": "execute_result"
    }
   ],
   "source": [
    "5 == 5.0"
   ]
  },
  {
   "cell_type": "code",
   "execution_count": 11,
   "metadata": {
    "collapsed": false,
    "pycharm": {
     "name": "#%%\n"
    }
   },
   "outputs": [
    {
     "data": {
      "text/plain": [
       "False"
      ]
     },
     "execution_count": 11,
     "metadata": {},
     "output_type": "execute_result"
    }
   ],
   "source": [
    "5 != 5.0"
   ]
  },
  {
   "cell_type": "code",
   "execution_count": 12,
   "metadata": {
    "collapsed": false,
    "pycharm": {
     "name": "#%%\n"
    }
   },
   "outputs": [
    {
     "data": {
      "text/plain": [
       "False"
      ]
     },
     "execution_count": 12,
     "metadata": {},
     "output_type": "execute_result"
    }
   ],
   "source": [
    "5 > 5"
   ]
  },
  {
   "cell_type": "code",
   "execution_count": 13,
   "metadata": {
    "collapsed": false,
    "pycharm": {
     "name": "#%%\n"
    }
   },
   "outputs": [
    {
     "data": {
      "text/plain": [
       "True"
      ]
     },
     "execution_count": 13,
     "metadata": {},
     "output_type": "execute_result"
    }
   ],
   "source": [
    "5 >= 5"
   ]
  },
  {
   "cell_type": "markdown",
   "metadata": {
    "collapsed": false
   },
   "source": [
    "### Comparison operators on strings\n",
    "\n",
    "Comparison operators are also overloaded for strings.  Equality is case sensitive, and greater/less than correspond to unicode character index order."
   ]
  },
  {
   "cell_type": "code",
   "execution_count": 14,
   "metadata": {
    "collapsed": false,
    "pycharm": {
     "name": "#%%\n"
    }
   },
   "outputs": [
    {
     "data": {
      "text/plain": [
       "True"
      ]
     },
     "execution_count": 14,
     "metadata": {},
     "output_type": "execute_result"
    }
   ],
   "source": [
    "'abracadabra' == 'abracadabra'"
   ]
  },
  {
   "cell_type": "code",
   "execution_count": 15,
   "metadata": {
    "collapsed": false,
    "pycharm": {
     "name": "#%%\n"
    }
   },
   "outputs": [
    {
     "data": {
      "text/plain": [
       "False"
      ]
     },
     "execution_count": 15,
     "metadata": {},
     "output_type": "execute_result"
    }
   ],
   "source": [
    "'Abracadabra' == 'abracadabra'"
   ]
  },
  {
   "cell_type": "code",
   "execution_count": 16,
   "metadata": {
    "collapsed": false,
    "pycharm": {
     "name": "#%%\n"
    }
   },
   "outputs": [
    {
     "data": {
      "text/plain": [
       "False"
      ]
     },
     "execution_count": 16,
     "metadata": {},
     "output_type": "execute_result"
    }
   ],
   "source": [
    "'a' > 'b'"
   ]
  },
  {
   "cell_type": "code",
   "execution_count": 17,
   "metadata": {
    "collapsed": false,
    "pycharm": {
     "name": "#%%\n"
    }
   },
   "outputs": [
    {
     "data": {
      "text/plain": [
       "True"
      ]
     },
     "execution_count": 17,
     "metadata": {},
     "output_type": "execute_result"
    }
   ],
   "source": [
    "'a' < 'b'"
   ]
  },
  {
   "cell_type": "markdown",
   "metadata": {
    "collapsed": false
   },
   "source": [
    "**Case and unicode character index**   However, note that behavior for lower/uppercase letters and symbols may be unintuitive."
   ]
  },
  {
   "cell_type": "code",
   "execution_count": 18,
   "metadata": {
    "collapsed": false,
    "pycharm": {
     "name": "#%%\n"
    }
   },
   "outputs": [
    {
     "data": {
      "text/plain": [
       "True"
      ]
     },
     "execution_count": 18,
     "metadata": {},
     "output_type": "execute_result"
    }
   ],
   "source": [
    "'A' < 'a'"
   ]
  },
  {
   "cell_type": "code",
   "execution_count": 19,
   "metadata": {
    "collapsed": false,
    "pycharm": {
     "name": "#%%\n"
    }
   },
   "outputs": [
    {
     "data": {
      "text/plain": [
       "True"
      ]
     },
     "execution_count": 19,
     "metadata": {},
     "output_type": "execute_result"
    }
   ],
   "source": [
    "'Z' < 'a'"
   ]
  },
  {
   "cell_type": "code",
   "execution_count": 20,
   "metadata": {
    "collapsed": false,
    "pycharm": {
     "name": "#%%\n"
    }
   },
   "outputs": [
    {
     "data": {
      "text/plain": [
       "True"
      ]
     },
     "execution_count": 20,
     "metadata": {},
     "output_type": "execute_result"
    }
   ],
   "source": [
    "'[' < 'a' "
   ]
  },
  {
   "cell_type": "code",
   "execution_count": 21,
   "metadata": {
    "collapsed": false,
    "pycharm": {
     "name": "#%%\n"
    }
   },
   "outputs": [
    {
     "data": {
      "text/plain": [
       "True"
      ]
     },
     "execution_count": 21,
     "metadata": {},
     "output_type": "execute_result"
    }
   ],
   "source": [
    "'Z' < '['"
   ]
  },
  {
   "cell_type": "markdown",
   "metadata": {
    "collapsed": false
   },
   "source": [
    "Comparison of characters is underpinned by comparing the [UTF-8 integer code of each character](https://www.utf8-chartable.de/unicode-utf8-table.pl?utf8=dec).  Which can be obtained for a given character via the `ord()` function."
   ]
  },
  {
   "cell_type": "code",
   "execution_count": 22,
   "metadata": {
    "collapsed": false,
    "pycharm": {
     "name": "#%%\n"
    }
   },
   "outputs": [
    {
     "data": {
      "text/plain": [
       "97"
      ]
     },
     "execution_count": 22,
     "metadata": {},
     "output_type": "execute_result"
    }
   ],
   "source": [
    "ord('a')"
   ]
  },
  {
   "cell_type": "markdown",
   "metadata": {
    "collapsed": false
   },
   "source": [
    "## Logical operators\n",
    "\n",
    "Let's combine comparisons and logical operators.  Let's say we want to see if someone's age (in years) is an odd number and greater than 20, we are looking for a conjunction of two comparisons.\n",
    "\n",
    "These kinds of boolean operations can be done with \n",
    "\n",
    "`A and B`: returns True if both A and B are true.    \n",
    "`A or B`: returns True if either A or B are true.    \n",
    "`not A`: returns True if A is False.   "
   ]
  },
  {
   "cell_type": "code",
   "execution_count": 23,
   "metadata": {
    "collapsed": false,
    "pycharm": {
     "name": "#%%\n"
    }
   },
   "outputs": [
    {
     "name": "stdout",
     "output_type": "stream",
     "text": [
      "age is odd and greater than 20\n"
     ]
    }
   ],
   "source": [
    "age = 37\n",
    "\n",
    "if (age % 2) == 1 and age > 20:\n",
    "    print('age is odd and greater than 20')"
   ]
  },
  {
   "cell_type": "markdown",
   "metadata": {
    "collapsed": false
   },
   "source": [
    "**Note 1**: Here we are using the `%` \"modulus\" operator.  `A % B` returns the remainder after dividing A by B (and taking only a whole quotient).    \n",
    "e.g., `17 % 3` returns 2.  The closest multiple of 3 closest to, but smaller than, 17 is $3 \\cdot 5 = 15$, and 17-15 = 2).    \n",
    "e.g., `15 % 3` will return 0.    \n",
    "We have to be careful with negative numbers: (`-17 % 3` = 1 because $3 \\cdot -6 = -18$ is the closest multiple of 3 less than -17.   \n",
    "Even weirder things happen with negative divisors: `17 % -3 = -1` because the smallest quotient that is closest to 17 is -6 ($-3 \\cdot -6 = 18$).  Generally, I try to avoid negative divisors in the modulus operator, as that always creates confusion and I have never seen it be worthwhile.\n",
    "\n",
    "**Note 2** What will happen if `age=37.6`?  What *should* happen in that case?"
   ]
  },
  {
   "cell_type": "markdown",
   "metadata": {
    "collapsed": false
   },
   "source": [
    "## Lists\n",
    "\n",
    "So far we have dealt with *atomic* data types.  We will also want to work with compound data types that contain lots of things.  The most common compound data type in Python is a **list**.  A list is a **sequence** of objects, which can be created with square brackets: `[1, 2, 3]`"
   ]
  },
  {
   "cell_type": "code",
   "execution_count": 24,
   "metadata": {
    "collapsed": false,
    "pycharm": {
     "name": "#%%\n"
    }
   },
   "outputs": [
    {
     "name": "stdout",
     "output_type": "stream",
     "text": [
      "[1, 2, 'a', 3]\n"
     ]
    }
   ],
   "source": [
    "my_list = [1, 2, 'a', 3]\n",
    "print(my_list)"
   ]
  },
  {
   "cell_type": "markdown",
   "metadata": {
    "collapsed": false,
    "pycharm": {
     "name": "#%% md\n"
    }
   },
   "source": [
    "we will talk much more about lists and sequences later, but for the sake of this week's problem set, we need to learn how to *add* items to a list, and how to *loop* through a list.\n",
    "\n",
    "### adding to a list\n",
    "\n",
    "We can add to an existing list with the `.append()` method."
   ]
  },
  {
   "cell_type": "code",
   "execution_count": 25,
   "metadata": {
    "collapsed": false,
    "pycharm": {
     "name": "#%%\n"
    }
   },
   "outputs": [
    {
     "name": "stdout",
     "output_type": "stream",
     "text": [
      "[1, 2, 'a', 3]\n",
      "[1, 2, 'a', 3, 'cow']\n"
     ]
    }
   ],
   "source": [
    "print(my_list)\n",
    "my_list.append('cow')\n",
    "print(my_list)"
   ]
  },
  {
   "cell_type": "markdown",
   "metadata": {
    "collapsed": false,
    "pycharm": {
     "name": "#%% md\n"
    }
   },
   "source": [
    "## for loop iteration over a list\n",
    "\n",
    "If we want to do something to each member of a list, we want to *iterate* over that list in a *for* loop.   To accomplish this, we will use the `for` loop control structure:\n",
    "\n",
    "```python\n",
    "for x in iterable:\n",
    "    do stuff\n",
    "    do more stuff\n",
    "```\n",
    "\n",
    "What this notation is doing is generating a \"loop\", which iterates over all the elements in `iterable`.  On each iteration it assigns the next item from the iterable to `x`, and then executes the for loop code block (indicating by indentation)."
   ]
  },
  {
   "cell_type": "code",
   "execution_count": 26,
   "metadata": {
    "collapsed": false,
    "pycharm": {
     "name": "#%%\n"
    }
   },
   "outputs": [
    {
     "name": "stdout",
     "output_type": "stream",
     "text": [
      "1\n",
      "2\n",
      "a\n",
      "3\n"
     ]
    }
   ],
   "source": [
    "my_list = [1, 2, 'a', 3]\n",
    "for item in my_list:\n",
    "    print(item)"
   ]
  },
  {
   "cell_type": "markdown",
   "metadata": {
    "collapsed": false
   },
   "source": [
    "### range()\n",
    "\n",
    "It is very common to run a for loop over some sequence of integers.  So it would be helpful to have a function that defines a sequence of integers for us.\n",
    "\n",
    "The command `range` does that.\n",
    "\n",
    "The syntax for the range command is\n",
    "`range(first, last_plus_one)`\n",
    "\n",
    "and it generates an *iterable* that we can *iterate* over (such as in a for loop) with the integers starting with `first` and ending at `last_plus_one`-1 (in steps of 1 -- default if no 3rd argument is provided)"
   ]
  },
  {
   "cell_type": "code",
   "execution_count": 27,
   "metadata": {
    "collapsed": false,
    "pycharm": {
     "name": "#%%\n"
    }
   },
   "outputs": [
    {
     "name": "stdout",
     "output_type": "stream",
     "text": [
      "5\n",
      "6\n",
      "7\n",
      "8\n",
      "9\n",
      "10\n",
      "11\n",
      "12\n",
      "13\n",
      "14\n",
      "15\n",
      "16\n",
      "17\n",
      "18\n",
      "19\n",
      "20\n"
     ]
    }
   ],
   "source": [
    "for i in range(5, 21):\n",
    "    print(i)"
   ]
  },
  {
   "cell_type": "markdown",
   "metadata": {
    "collapsed": false,
    "pycharm": {
     "name": "#%% md\n"
    }
   },
   "source": [
    "Note that 21 was not printed!\n",
    "\n",
    "If we provide only one argument, it assumes that `first=0` and treats the argument we provide as `last_plus_one`."
   ]
  },
  {
   "cell_type": "code",
   "execution_count": 28,
   "metadata": {
    "collapsed": false,
    "pycharm": {
     "name": "#%%\n"
    }
   },
   "outputs": [
    {
     "name": "stdout",
     "output_type": "stream",
     "text": [
      "0\n",
      "1\n",
      "2\n",
      "3\n",
      "4\n",
      "5\n",
      "6\n",
      "7\n",
      "8\n",
      "9\n"
     ]
    }
   ],
   "source": [
    "for i in range(10):\n",
    "    print(i)"
   ]
  },
  {
   "cell_type": "markdown",
   "metadata": {
    "collapsed": false,
    "pycharm": {
     "name": "#%% md\n"
    }
   },
   "source": [
    "Note that 10 was not printed!"
   ]
  }
 ],
 "metadata": {
  "kernelspec": {
   "display_name": "Python 3",
   "language": "python",
   "name": "python3"
  },
  "language_info": {
   "codemirror_mode": {
    "name": "ipython",
    "version": 3
   },
   "file_extension": ".py",
   "mimetype": "text/x-python",
   "name": "python",
   "nbconvert_exporter": "python",
   "pygments_lexer": "ipython3",
   "version": "3.8.5"
  }
 },
 "nbformat": 4,
 "nbformat_minor": 4
}