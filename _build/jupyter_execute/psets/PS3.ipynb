{
 "cells": [
  {
   "cell_type": "markdown",
   "metadata": {
    "collapsed": true,
    "pycharm": {
     "name": "#%% md\n"
    }
   },
   "source": [
    "# Agent based simulations\n",
    "\n",
    "## ugly solution"
   ]
  },
  {
   "cell_type": "code",
   "execution_count": 1,
   "metadata": {
    "collapsed": false,
    "pycharm": {
     "name": "#%%\n"
    }
   },
   "outputs": [
    {
     "name": "stdout",
     "output_type": "stream",
     "text": [
      "o o o o o o o . x x \n",
      "o o o o o o . x x x \n",
      "o o o o o . x . x x \n",
      ". o o o o . x x x x \n",
      "o o o o o . x x x x \n",
      "o o o o o . x x x x \n",
      "o o o o o x x x x x \n",
      "o o . . . . x x x x \n",
      "o . x x . . x x x x \n",
      ". . x x . . x . x x \n",
      "[0.4986607142857141, 0.6470238095238096, 0.7198809523809523, 0.7839880952380949, 0.8056398809523809, 0.8411011904761905, 0.8601339285714286, 0.8779315476190475, 0.8804464285714285, 0.8752678571428572, 0.8656696428571428, 0.9081845238095239, 0.9108035714285716, 0.9229166666666668, 0.9084821428571429, 0.9402976190476192, 0.9346726190476193, 0.9385416666666669, 0.9203869047619048, 0.9274255952380953, 0.9192559523809525, 0.9135119047619048, 0.9141071428571428, 0.9216220238095236, 0.9475, 0.9614583333333334, 0.9513392857142857, 0.9727083333333335, 0.9727083333333335, 0.9727083333333335]"
     ]
    },
    {
     "name": "stdout",
     "output_type": "stream",
     "text": [
      "\n"
     ]
    }
   ],
   "source": [
    "from IPython.display import clear_output\n",
    "import random\n",
    "import time\n",
    "N = 80\n",
    "types = ['x', 'o']\n",
    "K = 10\n",
    "threshold = 0.6\n",
    "positions = [['.' for x in range(K)] for y in range(K)]\n",
    "\n",
    "def display(positions):\n",
    "    for row in positions:\n",
    "        for cell in row:\n",
    "            print(cell, end=' ')\n",
    "        print('')\n",
    "\n",
    "def get_available(positions):\n",
    "    return [(i,j) for i in range(K) for j in range(K) if positions[i][j] == '.']\n",
    "\n",
    "def get_neighbors(i,j):\n",
    "    return [positions[a][b]\n",
    "     for a in range(max(0, i-1), min(K, i+2))\n",
    "     for b in range(max(0, j-1), min(K, j+2))\n",
    "    if not (a==i and b==j) and positions[a][b] != '.']\n",
    "\n",
    "\n",
    "free = get_available(positions)\n",
    "random.shuffle(free)\n",
    "agent_positions = free[:N]\n",
    "agent_types = random.choices(types, k=N)\n",
    "for (i,j),c in zip(agent_positions, agent_types):\n",
    "    positions[i][j] = c\n",
    "\n",
    "display(positions)\n",
    "\n",
    "# update agents\n",
    "def p_same(c, neighbors):\n",
    "    if len(neighbors) == 0:\n",
    "        return 0.5\n",
    "    else:\n",
    "        similar = 0\n",
    "        for n in neighbors:\n",
    "            if n == c:\n",
    "                similar += 1\n",
    "        return similar/len(neighbors)\n",
    "\n",
    "def choose(c, neighbors):\n",
    "    return p_same(c, neighbors) < threshold\n",
    "\n",
    "def calc_segregation(positions):\n",
    "    agents = [(i, j, positions[i][j])\n",
    "     for i in range(K)\n",
    "     for j in range(K)\n",
    "     if positions[i][j] != '.']\n",
    "    n = len(agents)\n",
    "    tot = 0\n",
    "    for i,j,c in agents:\n",
    "        tot += p_same(c, get_neighbors(i,j))\n",
    "    return tot/n\n",
    "\n",
    "timesteps = 30\n",
    "record = [0]*timesteps\n",
    "for timestep in range(timesteps):\n",
    "    moved = False\n",
    "    record[timestep] = calc_segregation(positions)\n",
    "    for i in range(len(agent_types)):\n",
    "        prior_pos = agent_positions[i]\n",
    "        if choose(agent_types[i], get_neighbors(*prior_pos)):\n",
    "            free = get_available(positions)\n",
    "            pos = random.choice(free)\n",
    "            agent_positions[i] = pos\n",
    "            positions[pos[0]][pos[1]] = agent_types[i]\n",
    "            positions[prior_pos[0]][prior_pos[1]] = '.'\n",
    "            moved = True\n",
    "            clear_output(wait=True)\n",
    "            display(positions)\n",
    "\n",
    "print(record)"
   ]
  },
  {
   "cell_type": "markdown",
   "metadata": {
    "collapsed": false,
    "pycharm": {
     "name": "#%% md\n"
    }
   },
   "source": [
    "Why is it ugly?\n",
    "\n",
    "well, the agent_position and agent_types lists are totally superfluous.  In effect they just create two places where we need to keep track of stuff.\n",
    "\n",
    "Second, we have no need to ever look at a list of free positions, so why not just make one method that picks a free position, and use it when needed.\n",
    "\n",
    "## better no class solution"
   ]
  },
  {
   "cell_type": "code",
   "execution_count": 2,
   "metadata": {
    "collapsed": false,
    "pycharm": {
     "name": "#%%\n"
    }
   },
   "outputs": [
    {
     "name": "stdout",
     "output_type": "stream",
     "text": [
      ". o . x x x x x x x \n",
      "o o . x x x x x x x \n",
      "o o . . x x x x x x \n",
      "o o o . . . x x x x \n",
      "o o o o . . . x x x \n",
      ". o o . o . x x x x \n",
      "o o o o o . x x x . \n",
      "o o o o o x . x x x \n",
      "o o o o . x x "
     ]
    },
    {
     "name": "stdout",
     "output_type": "stream",
     "text": [
      "x x x \n",
      "o o o . . x x x x x \n",
      "[0.5087053571428573, 0.641279761904762, 0.7902380952380954, 0.8675446428571426, 0.8676488095238094, 0.9247470238095238, 0.9247172619047618, 0.9486309523809522, 0.9858333333333332]\n"
     ]
    }
   ],
   "source": [
    "from IPython.display import clear_output\n",
    "import random\n",
    "import time\n",
    "N = 80\n",
    "types = ['x', 'o']\n",
    "K = 10\n",
    "threshold = 0.6\n",
    "positions = [['.' for x in range(K)] for y in range(K)]\n",
    "\n",
    "def display(positions):\n",
    "    for row in positions:\n",
    "        for cell in row:\n",
    "            print(cell, end=' ')\n",
    "        print('')\n",
    "\n",
    "def get_rand_available(positions):\n",
    "    free_positions = [(i,j)\n",
    "     for i in range(K)\n",
    "     for j in range(K)\n",
    "     if positions[i][j] == '.']\n",
    "    return random.choice(free_positions)\n",
    "\n",
    "def get_neighbors(i,j):\n",
    "    return [positions[a][b]\n",
    "     for a in range(max(0, i-1), min(K, i+2))\n",
    "     for b in range(max(0, j-1), min(K, j+2))\n",
    "    if not (a==i and b==j) and positions[a][b] != '.']\n",
    "\n",
    "# initialize\n",
    "for i in range(N):\n",
    "    c = random.choice(types)\n",
    "    i,j = get_rand_available(positions)\n",
    "    positions[i][j] = c\n",
    "\n",
    "display(positions)\n",
    "\n",
    "# update agents\n",
    "def p_same(c, neighbors):\n",
    "    if len(neighbors) == 0:\n",
    "        return 0.5\n",
    "    else:\n",
    "        return neighbors.count(c) / len(neighbors)\n",
    "\n",
    "def choose(c, neighbors):\n",
    "    return p_same(c, neighbors) < threshold\n",
    "\n",
    "def get_agents(positions):\n",
    "    return [(i, j, positions[i][j])\n",
    "     for i in range(K)\n",
    "     for j in range(K)\n",
    "     if positions[i][j] != '.']\n",
    "\n",
    "def calc_segregation(positions):\n",
    "    agents = get_agents(positions)\n",
    "    n = len(agents)\n",
    "    tot = 0\n",
    "    for i,j,c in agents:\n",
    "        tot += p_same(c, get_neighbors(i,j))\n",
    "    return tot/n\n",
    "\n",
    "timesteps = 30\n",
    "record = []\n",
    "moved = True\n",
    "while moved:\n",
    "    moved = False\n",
    "    record.append(calc_segregation(positions))\n",
    "    agents = get_agents(positions)\n",
    "    for i,j,c in agents:\n",
    "        if choose(c, get_neighbors(i,j)):\n",
    "            new_i, new_j = get_rand_available(positions)\n",
    "            positions[new_i][new_j] = c\n",
    "            positions[i][j] = '.'\n",
    "            moved = True\n",
    "            clear_output(wait=True)\n",
    "            display(positions)\n",
    "\n",
    "print(record)"
   ]
  },
  {
   "cell_type": "markdown",
   "metadata": {
    "collapsed": false
   },
   "source": [
    "This is still a bit suboptimal."
   ]
  },
  {
   "cell_type": "code",
   "execution_count": 3,
   "metadata": {
    "collapsed": false,
    "pycharm": {
     "name": "#%%\n"
    }
   },
   "outputs": [
    {
     "name": "stdout",
     "output_type": "stream",
     "text": [
      ". o o o o o . . o o o x x x . o o o o o \n",
      ". . o o o . x x . o . x x x x . o o . o \n",
      "o o o o o x x x x x x x . x x x x o o o \n",
      "o . o o o x x x x x x o o o x x . x . . \n",
      "o o o o . . x x x x o o o o . x x x x x \n",
      "o o o o o o o o o o o o o o x x . . x x \n",
      "o . o o o o o o o o o o o . . x x . o o \n",
      "x x x o o o . o o o o o x x x x x x o o \n",
      "x x x x o . o o o o o x x x x x x . o o \n",
      "x . x . x . o o o o o x x x x x x x o o \n",
      ". x x x x . o o o o o x x . x x x x o o \n",
      "x . x x x x . . o o o o x x x x x x o o \n",
      "x x x x x . o o o o o . o x x x x x o o \n",
      ". . x . o o o o o o o o o . x . . o . o \n",
      ". o o o o o . . o . o o . . . x o o o o \n",
      "o o o . o o . x x x x x x x x x o o o o \n",
      "o x x x x x . x x x x x x x x x . . o o \n",
      ". x x x . x x . x x . o o x x x x . o o \n",
      "x x . x x x x x x x o o o o x x . o o o \n",
      "x x x x x x x x x x o o o o . x x o o o \n",
      "\n"
     ]
    },
    {
     "data": {
      "text/plain": [
       "[0.47918783986423225,\n",
       " 0.6348465861623768,\n",
       " 0.712678951165793,\n",
       " 0.7839133819396974,\n",
       " 0.814857313738893,\n",
       " 0.837250797448166,\n",
       " 0.8424374382927017,\n",
       " 0.862108775727197,\n",
       " 0.8582864357864359,\n",
       " 0.86663230044809,\n",
       " 0.8640278727120829,\n",
       " 0.8654324257613732,\n",
       " 0.8675000949343056]"
      ]
     },
     "execution_count": 3,
     "metadata": {},
     "output_type": "execute_result"
    }
   ],
   "source": [
    "class agent():\n",
    "    types = ['x', 'o']\n",
    "    def __init__(self, i, j, min_same=0.5, max_same=1):\n",
    "        self.pos = (i, j)\n",
    "        self.type = random.choice(self.types)\n",
    "        self.min_same = min_same\n",
    "        self.max_same = max_same\n",
    "\n",
    "    def choice(self, neighbors):\n",
    "        if len(neighbors) == 0:\n",
    "            return False\n",
    "        else:\n",
    "            p_same = (neighbors.count(self.type) / len(neighbors))\n",
    "            return p_same < self.min_same or p_same > self.max_same\n",
    "\n",
    "class environment():\n",
    "    agents = []\n",
    "    def __init__(self, K, N, min_same=0.5, max_same=1):\n",
    "        self.K = K\n",
    "        self.positions = set([(i,j) for i in range(K) for j in range(K)])\n",
    "        self.agents = [agent(*self.get_position(), min_same, max_same)\n",
    "                       for _ in range(N)]\n",
    "        self.record = [self.summary()]\n",
    "\n",
    "    def __str__(self):\n",
    "        string = ''\n",
    "        a_tuple = {a.pos:a.type for a in self.agents}\n",
    "        for i in range(self.K):\n",
    "            for j in range(self.K):\n",
    "                try:\n",
    "                    string += a_tuple[(i,j)] + ' '\n",
    "                except KeyError:\n",
    "                    string += '. '\n",
    "            string += '\\n'\n",
    "        return string\n",
    "\n",
    "    def get_position(self):\n",
    "        used_positions = set([a.pos for a in self.agents])\n",
    "        return random.choice(list(self.positions - used_positions))\n",
    "\n",
    "    def get_neighbors(self, i, j):\n",
    "        neighborhood = set([(a,b)\n",
    "                             for a in range(max(0, i-1), min(self.K, i+2))\n",
    "                             for b in range(max(0, j-1), min(self.K, j+2))\n",
    "                             if (a,b) != (i,j)])\n",
    "        return [agent.type for agent in self.agents if agent.pos in neighborhood]\n",
    "\n",
    "    def summary(self):\n",
    "        \"\"\"\n",
    "        Return average (across agents) proportion of neighbors of the same type.\n",
    "        \"\"\"\n",
    "        t = 0\n",
    "        n = 0\n",
    "        for agent in self.agents:\n",
    "            neighbors = self.get_neighbors(*agent.pos)\n",
    "            if neighbors:\n",
    "                t += neighbors.count(agent.type) / len(neighbors)\n",
    "                n += 1\n",
    "        return t/n\n",
    "\n",
    "    def step(self):\n",
    "        \"\"\"\n",
    "        simulate one timestep by looping through all agents and moving if they so choose.\n",
    "        :return: True if any agent moved\n",
    "        \"\"\"\n",
    "        moved = False\n",
    "        for agent in self.agents:\n",
    "            if agent.choice(self.get_neighbors(*agent.pos)):\n",
    "                agent.pos = self.get_position()\n",
    "                moved = True\n",
    "        return moved\n",
    "\n",
    "    def simulate(self, fps=True):\n",
    "        if fps:\n",
    "            print(self)\n",
    "        while self.step():\n",
    "            self.record.append(self.summary())\n",
    "            if fps:\n",
    "                time.sleep(1/fps)\n",
    "                clear_output(wait=True)\n",
    "                print(self)\n",
    "\n",
    "e = environment(K=20,N=380, min_same=0.5, max_same=1)\n",
    "e.simulate(30)\n",
    "e.record"
   ]
  },
  {
   "cell_type": "markdown",
   "metadata": {
    "collapsed": false,
    "pycharm": {
     "name": "#%% md\n"
    }
   },
   "source": []
  }
 ],
 "metadata": {
  "kernelspec": {
   "display_name": "Python 3",
   "language": "python",
   "name": "python3"
  },
  "language_info": {
   "codemirror_mode": {
    "name": "ipython",
    "version": 3
   },
   "file_extension": ".py",
   "mimetype": "text/x-python",
   "name": "python",
   "nbconvert_exporter": "python",
   "pygments_lexer": "ipython3",
   "version": "3.8.5"
  }
 },
 "nbformat": 4,
 "nbformat_minor": 0
}