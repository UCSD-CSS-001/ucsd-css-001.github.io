{
 "cells": [
  {
   "cell_type": "markdown",
   "id": "solved-litigation",
   "metadata": {},
   "source": [
    "# Modules\n",
    "\n",
    "`import` `from` `as`\n",
    "\n",
    "statistics\n"
   ]
  },
  {
   "cell_type": "markdown",
   "id": "after-scope",
   "metadata": {},
   "source": [
    "# Pandas\n",
    "\n",
    "Will use this data: \n",
    "[https://raw.githubusercontent.com/UCSD-CSS-001/ucsd-css-001.github.io/main/live/mcd-menu.csv](https://raw.githubusercontent.com/UCSD-CSS-001/ucsd-css-001.github.io/main/live/mcd-menu.csv)\n",
    "\n",
    "- import as pd\n",
    "\n",
    "## Tabular data and DataFrame\n",
    "\n",
    "why tabular data?\n",
    "\n",
    "how to make a dataframe from lists"
   ]
  },
  {
   "cell_type": "markdown",
   "id": "accessory-mississippi",
   "metadata": {},
   "source": [
    "dataframe.shape\n",
    "\n",
    "dataframe.head()  .tail()  .columns\n",
    "\n",
    "How to pull out a column.\n",
    "\n",
    "A dataframe column is a \"series\".  Looks like a list, but default indexing more like a dictionary.\n",
    "\n",
    "index  `.set_index` and `.reset_index`\n",
    "\n",
    "How to pull out rows.  (.loc, .iloc)\n",
    "\n",
    "Several ways to get a particular 'cell':\n",
    "- get column, then get item in column\n",
    "- .loc() index based reference\n",
    "- .iloc() integer index based reference"
   ]
  },
  {
   "cell_type": "markdown",
   "id": "developmental-matter",
   "metadata": {},
   "source": [
    "## csv, and read_csv()\n",
    "\n",
    "- why csv?\n",
    "\n",
    "\n",
    "## logical indexing\n",
    "\n",
    "\n",
    "## agg to summarize\n",
    "\n",
    "## groupby\n",
    "\n",
    "## chaining\n",
    "\n",
    "## sorting\n",
    "\n",
    "## make a new column\n"
   ]
  },
  {
   "cell_type": "markdown",
   "id": "acquired-closing",
   "metadata": {},
   "source": [
    "# Tasks\n",
    "\n",
    "- find the item with the most calories\n",
    "\n",
    "- calculate 'vul' index, and find highest vul_index food (after filtering out nonsense)\n",
    "\n",
    "- calculate mean, max, and n for each category\n",
    "\n",
    "- pull out max calorie item for each category "
   ]
  },
  {
   "cell_type": "code",
   "execution_count": null,
   "id": "covered-lightweight",
   "metadata": {},
   "outputs": [],
   "source": []
  }
 ],
 "metadata": {
  "kernelspec": {
   "display_name": "Python 3",
   "language": "python",
   "name": "python3"
  },
  "language_info": {
   "codemirror_mode": {
    "name": "ipython",
    "version": 3
   },
   "file_extension": ".py",
   "mimetype": "text/x-python",
   "name": "python",
   "nbconvert_exporter": "python",
   "pygments_lexer": "ipython3",
   "version": "3.8.6"
  }
 },
 "nbformat": 4,
 "nbformat_minor": 5
}
