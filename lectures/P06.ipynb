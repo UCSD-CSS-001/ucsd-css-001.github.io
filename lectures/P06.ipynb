{
 "cells": [
  {
   "cell_type": "markdown",
   "metadata": {
    "collapsed": true,
    "pycharm": {
     "name": "#%% md\n"
    }
   },
   "source": [
    "# P06: classes and objects\n",
    "\n",
    "## Concepts\n",
    "\n",
    "### Classes\n",
    "\n",
    "### Objects\n",
    "\n",
    "## Python\n",
    "\n",
    "### Classes and objects\n",
    "\n",
    "#### attributes\n",
    "\n",
    "#### methods\n",
    "\n",
    "### Class definitions\n",
    "\n",
    "#### __init__()\n",
    "\n",
    "#### self\n",
    "\n",
    "### double underscore methods, duck-typing\n",
    "\n",
    "### Inheritance and extending existing classes.\n"
   ]
  }
 ],
 "metadata": {
  "kernelspec": {
   "display_name": "Python 3",
   "language": "python",
   "name": "python3"
  },
  "language_info": {
   "codemirror_mode": {
    "name": "ipython",
    "version": 2
   },
   "file_extension": ".py",
   "mimetype": "text/x-python",
   "name": "python",
   "nbconvert_exporter": "python",
   "pygments_lexer": "ipython2",
   "version": "2.7.6"
  }
 },
 "nbformat": 4,
 "nbformat_minor": 0
}