{
 "cells": [
  {
   "cell_type": "markdown",
   "metadata": {
    "collapsed": true,
    "pycharm": {
     "name": "#%% md\n"
    }
   },
   "source": [
    "# P05: functions\n",
    "- **Concepts**: abstraction, functions, scope, mutable/immutable\n",
    "- **Python functions**: writing, scope, pass by reference implications\n",
    "\n",
    "## Concepts\n",
    "\n",
    "### Abstraction into procedures\n",
    "\n",
    "### Variable scope in functions\n",
    "\n",
    "## Python functions\n",
    "\n",
    "### reading through function calls"
   ]
  },
  {
   "cell_type": "code",
   "execution_count": 13,
   "outputs": [
    {
     "name": "stdout",
     "output_type": "stream",
     "text": [
      "hello there!\n",
      "Glad to make your acquaintance.\n",
      "I will show you a picture anyway, I like it so much:\n",
      "                               mMNM&%w\n",
      "                         mkMH$MUMFPM,NM#Z%%\n",
      "                     :!.:x )!!X)$MMWWMM$**$$Nx~~`\n",
      "                    !<!*R@@MNR$$$B$WWXXtdn.\"?XT!:\n",
      "                   :~` tH!~!!MBT5$$$$$$$WRHb!\"! !.\n",
      "                    .<.$f <!!HR$$$$$$$$$$$X?`>!)X?~(\n",
      "                   ~-!#@\\~/!!!@$$$$$$$$$$$R! `<!M>-!%.\n",
      "                    .!!\"X  !XXM$$$$$$$$$$$R!! !X!!i\"~ `:\n",
      "                   :!t! <: !?X***$$$$$$$***~!  ??>X    `\n",
      "                  '  `!~~:  ~x.  !R$$$$* . x   W`   - >\n",
      "                        ~! ::\" `L?X#$F.uC\"L\" . $      `n\n",
      "                     %   ~<%!.#mT$\"<$k\"$$Q?:xW \"      '\n",
      "                      ~   4BhU@$W$?!$$ \"$$WdN\"'.\n",
      "                           R$$$$$$* $$k'$$$$$ !&!x\n",
      "      Albert               !T$$$$6n'$$$ $$$(T  .?\"\n",
      "     Einstein              @!M$$$$ec.\")d$$$$!   `.\n",
      "                           !!8$f\"` \"   `^T$!~\n",
      "                           !!R$  :xxox..o:d\"\n",
      "                            \" #@!$WN@W$$$~\"  \\\n",
      "                               \"~R$$$$$$\"     N.\n",
      "                    .             \"#\"\"\"\" :X   `Wmu.\n",
      "               '<:<!!                  .u$M    $!$$$bou.\n",
      "            .:!!!~!!?         .     :ud$$$!   ~@XR$$$$$$$eu.\n",
      "           <!!!!RnL`\"% ~\\    X~ti   `$RM$R~ :`  #W$$$R$$$T$$$c\n",
      "         <!!!!XX?*> ~    .-`  `% XxU@$R~  ~: . ^*$M\"$$B$$$\"$!:Mm\n",
      "        m!!!!!M8X!   :`.:L      ~UT?8$F .!-.x!:  \"N `9$$$\":\"$LFDSA\n",
      "       HDFB<FLOYDXM  ~:X. `\"X:.   '*$$\" :?ud$RW:~<x %'$$$# $s$EYNRBx\n"
     ]
    }
   ],
   "source": [
    "def print_einstein():\n",
    "    print(\"                               mMNM&%w\")\n",
    "    print(\"                         mkMH$MUMFPM,NM#Z%%\")\n",
    "    print(\"                     :!.:x )!!X)$MMWWMM$**$$Nx~~`\")\n",
    "    print(\"                    !<!*R@@MNR$$$B$WWXXtdn.\\\"?XT!:\")\n",
    "    print(\"                   :~` tH!~!!MBT5$$$$$$$WRHb!\\\"! !.\")\n",
    "    print(\"                    .<.$f <!!HR$$$$$$$$$$$X?`>!)X?~(\")\n",
    "    print(\"                   ~-!#@\\~/!!!@$$$$$$$$$$$R! `<!M>-!%.\")\n",
    "    print(\"                    .!!\\\"X  !XXM$$$$$$$$$$$R!! !X!!i\\\"~ `:\")\n",
    "    print(\"                   :!t! <: !?X***$$$$$$$***~!  ??>X    `\")\n",
    "    print(\"                  '  `!~~:  ~x.  !R$$$$* . x   W`   - >\")\n",
    "    print(\"                        ~! ::\\\" `L?X#$F.uC\\\"L\\\" . $      `n\")\n",
    "    print(\"                     %   ~<%!.#mT$\\\"<$k\\\"$$Q?:xW \\\"      '\")\n",
    "    print(\"                      ~   4BhU@$W$?!$$ \\\"$$WdN\\\"'.\")\n",
    "    print(\"                           R$$$$$$* $$k'$$$$$ !&!x\")\n",
    "    print(\"      Albert               !T$$$$6n'$$$ $$$(T  .?\\\"\")\n",
    "    print(\"     Einstein              @!M$$$$ec.\\\")d$$$$!   `.\")\n",
    "    print(\"                           !!8$f\\\"` \\\"   `^T$!~\")\n",
    "    print(\"                           !!R$  :xxox..o:d\\\"\")\n",
    "    print(\"                            \\\" #@!$WN@W$$$~\\\"  \\\\\")\n",
    "    print(\"                               \\\"~R$$$$$$\\\"     N.\")\n",
    "    print(\"                    .             \\\"#\\\"\\\"\\\"\\\" :X   `Wmu.\")\n",
    "    print(\"               '<:<!!                  .u$M    $!$$$bou.\")\n",
    "    print(\"            .:!!!~!!?         .     :ud$$$!   ~@XR$$$$$$$eu.\")\n",
    "    print(\"           <!!!!RnL`\\\"% ~\\    X~ti   `$RM$R~ :`  #W$$$R$$$T$$$c\")\n",
    "    print(\"         <!!!!XX?*> ~    .-`  `% XxU@$R~  ~: . ^*$M\\\"$$B$$$\\\"$!:Mm\")\n",
    "    print(\"        m!!!!!M8X!   :`.:L      ~UT?8$F .!-.x!:  \\\"N `9$$$\\\":\\\"$LFDSA\")\n",
    "    print(\"       HDFB<FLOYDXM  ~:X. `\\\"X:.   '*$$\\\" :?ud$RW:~<x %'$$$# $s$EYNRBx\")\n",
    "\n",
    "def print_greeting():\n",
    "    print(\"hello there!\")\n",
    "    print(\"Glad to make your acquaintance.\")\n",
    "\n",
    "def send_pic():\n",
    "    print(\"Let me show you a picture of myself (SFW, I promise!)\")\n",
    "    print_einstein()\n",
    "\n",
    "\n",
    "picture = False\n",
    "print_greeting()\n",
    "if picture:\n",
    "    send_pic()\n",
    "else:\n",
    "    print(\"I will show you a picture anyway, I like it so much:\")\n",
    "    print_einstein()\n"
   ],
   "metadata": {
    "collapsed": false,
    "pycharm": {
     "name": "#%%\n"
    }
   }
  },
  {
   "cell_type": "markdown",
   "source": [
    "### arguments\n"
   ],
   "metadata": {
    "collapsed": false
   }
  },
  {
   "cell_type": "code",
   "execution_count": null,
   "outputs": [],
   "source": [
    "def double(x):\n",
    "    return x*2\n",
    "\n",
    "double(5)"
   ],
   "metadata": {
    "collapsed": false,
    "pycharm": {
     "name": "#%%\n"
    }
   }
  },
  {
   "cell_type": "markdown",
   "source": [
    "\n",
    "#### position vs keyword\n",
    "\n",
    "#### default values\n",
    "\n",
    "#### variable arguments"
   ],
   "metadata": {
    "collapsed": false
   }
  },
  {
   "cell_type": "code",
   "execution_count": null,
   "outputs": [],
   "source": [
    "def everything(*args, **kwargs):\n",
    "    for arg in args:\n",
    "        print(arg)\n",
    "    for k,v in kwargs.items():\n",
    "        print(f'{k}:{v}')\n",
    "\n",
    "everything('a', 'abra', [1, 2, 3, ], falafel = 'large', fries = 'small', soda='diet')"
   ],
   "metadata": {
    "collapsed": false,
    "pycharm": {
     "name": "#%%\n"
    }
   }
  },
  {
   "cell_type": "markdown",
   "source": [
    "#### required arguments\n",
    "\n",
    "### return\n",
    "\n",
    "### variable scope, call by assignment"
   ],
   "metadata": {
    "collapsed": false,
    "pycharm": {
     "name": "#%% md\n"
    }
   }
  },
  {
   "cell_type": "code",
   "execution_count": 14,
   "outputs": [
    {
     "name": "stdout",
     "output_type": "stream",
     "text": [
      "Before function call: \n",
      "string  ['string in list'] ['string in list']\n",
      "Inside function: \n",
      "string  addition ['string in list', 'addition'] ['string in list', 'addition']\n",
      "After function call: \n",
      "string  ['string in list', 'addition'] ['string in list']\n"
     ]
    }
   ],
   "source": [
    "def dostuff(a, b, c):\n",
    "    a = a + ' addition'  # immutable string, therefore assign, therefore local\n",
    "    b.append('addition') # mutable list, being mutated.  change is global\n",
    "    c = c + ['addition'] # mutable list, but being assigned, so change is local.\n",
    "    print(\"Inside function: \")\n",
    "    print(a, b, c)\n",
    "\n",
    "a = 'string '\n",
    "b = ['string in list', ]\n",
    "c = ['string in list', ]\n",
    "\n",
    "print(\"Before function call: \")\n",
    "print(a, b, c)\n",
    "\n",
    "dostuff(a, b, c)\n",
    "\n",
    "print(\"After function call: \")\n",
    "print(a, b, c)"
   ],
   "metadata": {
    "collapsed": false,
    "pycharm": {
     "name": "#%%\n"
    }
   }
  }
 ],
 "metadata": {
  "kernelspec": {
   "display_name": "Python 3",
   "language": "python",
   "name": "python3"
  },
  "language_info": {
   "codemirror_mode": {
    "name": "ipython",
    "version": 2
   },
   "file_extension": ".py",
   "mimetype": "text/x-python",
   "name": "python",
   "nbconvert_exporter": "python",
   "pygments_lexer": "ipython2",
   "version": "2.7.6"
  }
 },
 "nbformat": 4,
 "nbformat_minor": 0
}