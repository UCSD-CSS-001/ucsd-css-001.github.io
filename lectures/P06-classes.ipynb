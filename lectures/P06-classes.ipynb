{
 "cells": [
  {
   "cell_type": "markdown",
   "metadata": {},
   "source": [
    "# P06: classes and objects\n",
    "\n",
    "- objects\n",
    "- `class`\n",
    "    - attributes\n",
    "    - methods\n",
    "- instances\n",
    "    - `__init__`"
   ]
  },
  {
   "cell_type": "markdown",
   "metadata": {},
   "source": [
    "## Objects and object oriented programming (OOP)\n",
    "\n",
    "* Objects have special properties and data...these are referred to as **attributes** of an object\n",
    "    * **Methods**: Methods are functions that are defined for a specific object type\n",
    "    * **Data**: Some attributes of an object store data that is updated and stored in the object"
   ]
  },
  {
   "cell_type": "markdown",
   "metadata": {},
   "source": [
    "### Storing Dates (Motivation)"
   ]
  },
  {
   "cell_type": "code",
   "execution_count": null,
   "metadata": {
    "pycharm": {
     "name": "#%%\n"
    }
   },
   "outputs": [],
   "source": [
    "# A date, stored as a string\n",
    "date_string = '29/09/1988'\n",
    "print(date_string)"
   ]
  },
  {
   "cell_type": "code",
   "execution_count": null,
   "metadata": {
    "pycharm": {
     "name": "#%%\n"
    }
   },
   "outputs": [],
   "source": [
    "# A date, stored as a list of numbers\n",
    "date_list = ['29', '09', '1988']\n",
    "date_list"
   ]
  },
  {
   "cell_type": "code",
   "execution_count": null,
   "metadata": {
    "pycharm": {
     "name": "#%%\n"
    }
   },
   "outputs": [],
   "source": [
    "# A date, stored as a series of numbers\n",
    "day = 29\n",
    "month = 9\n",
    "year = 1988\n",
    "\n",
    "print(day)"
   ]
  },
  {
   "cell_type": "code",
   "execution_count": null,
   "metadata": {
    "pycharm": {
     "name": "#%%\n"
    }
   },
   "outputs": [],
   "source": [
    "# A date, stored as a dictionary\n",
    "date_dictionary = {'day': 29, 'month': 9, 'year': 1988}\n",
    "date_dictionary"
   ]
  },
  {
   "cell_type": "markdown",
   "metadata": {},
   "source": [
    "Ways to organize data (variables) and functions together."
   ]
  },
  {
   "cell_type": "markdown",
   "metadata": {},
   "source": [
    "### Example Object: Date"
   ]
  },
  {
   "cell_type": "code",
   "execution_count": null,
   "metadata": {
    "pycharm": {
     "name": "#%%\n"
    }
   },
   "outputs": [],
   "source": [
    "# Import a date object\n",
    "from datetime import date"
   ]
  },
  {
   "cell_type": "code",
   "execution_count": null,
   "metadata": {
    "pycharm": {
     "name": "#%%\n"
    }
   },
   "outputs": [],
   "source": [
    "date?"
   ]
  },
  {
   "cell_type": "code",
   "execution_count": null,
   "metadata": {
    "pycharm": {
     "name": "#%%\n"
    }
   },
   "outputs": [],
   "source": [
    "# Set the data we want to store in our date object\n",
    "day = 29\n",
    "month = 9\n",
    "year = 1988\n",
    "\n",
    "# Create a date object\n",
    "my_date = date(year, month, day)\n",
    "print(my_date)"
   ]
  },
  {
   "cell_type": "code",
   "execution_count": null,
   "metadata": {
    "pycharm": {
     "name": "#%%\n"
    }
   },
   "outputs": [],
   "source": [
    "# Check what type of thing `my_date` is\n",
    "type(my_date)"
   ]
  },
  {
   "cell_type": "markdown",
   "metadata": {},
   "source": [
    "## Accessing Attributes & Methods"
   ]
  },
  {
   "cell_type": "markdown",
   "metadata": {},
   "source": [
    "### Date - Attributes\n",
    "\n",
    "Attributes look up & return information about the object."
   ]
  },
  {
   "cell_type": "markdown",
   "metadata": {},
   "source": [
    "**Attributes** maintain the object's data, or the object's state - these simply return information about the object to you...attributes are the data associated with an instance of an object "
   ]
  },
  {
   "cell_type": "code",
   "execution_count": null,
   "metadata": {
    "pycharm": {
     "name": "#%%\n"
    }
   },
   "outputs": [],
   "source": [
    "# Get the day attribute\n",
    "my_date.day"
   ]
  },
  {
   "cell_type": "code",
   "execution_count": null,
   "metadata": {
    "pycharm": {
     "name": "#%%\n"
    }
   },
   "outputs": [],
   "source": [
    "# Get the month attribute\n",
    "my_date.month"
   ]
  },
  {
   "cell_type": "code",
   "execution_count": null,
   "metadata": {
    "pycharm": {
     "name": "#%%\n"
    }
   },
   "outputs": [],
   "source": [
    "# Get the year attribute\n",
    "my_date.year"
   ]
  },
  {
   "cell_type": "markdown",
   "metadata": {},
   "source": [
    "### Date - Methods\n",
    "\n",
    "* These are **functions** that **belong** to and operate on the object directly.\n",
    "* Methods modify the state of the object\n",
    "* Methods are accessed with a `.`, followed by the method name\n",
    "* Can get a list of all available methods by typing `object.` followed by the `tab` key"
   ]
  },
  {
   "cell_type": "code",
   "execution_count": null,
   "metadata": {
    "pycharm": {
     "name": "#%%\n"
    }
   },
   "outputs": [],
   "source": [
    "# Method to return what day of the week the date is\n",
    "my_date.weekday()"
   ]
  },
  {
   "cell_type": "code",
   "execution_count": null,
   "metadata": {
    "pycharm": {
     "name": "#%%\n"
    }
   },
   "outputs": [],
   "source": [
    "# Reminder: check documentation with '?'\n",
    "date.weekday?"
   ]
  },
  {
   "cell_type": "markdown",
   "metadata": {},
   "source": [
    "It's also possible to carry out operations on multiple date objects."
   ]
  },
  {
   "cell_type": "code",
   "execution_count": null,
   "metadata": {
    "pycharm": {
     "name": "#%%\n"
    }
   },
   "outputs": [],
   "source": [
    "# define a second date\n",
    "my_date2 = date(1980, 7, 29)\n",
    "print(my_date, my_date2)"
   ]
  },
  {
   "cell_type": "code",
   "execution_count": null,
   "metadata": {
    "pycharm": {
     "name": "#%%\n"
    }
   },
   "outputs": [],
   "source": [
    "# calculate the difference between times\n",
    "time_diff = my_date - my_date2\n",
    "print(time_diff.days,  \"days\") #in days\n",
    "print(time_diff.days/365, \"years\") #in years"
   ]
  },
  {
   "cell_type": "markdown",
   "metadata": {},
   "source": [
    "### Listing Attributes & Methods : `dir`"
   ]
  },
  {
   "cell_type": "code",
   "execution_count": null,
   "metadata": {
    "pycharm": {
     "name": "#%%\n"
    }
   },
   "outputs": [],
   "source": [
    "# tab complete to access\n",
    "# methods and attributes\n",
    "my_date.\n",
    "\n",
    "# works to find attributes and methods\n",
    "# for date type objects generally\n",
    "date."
   ]
  },
  {
   "cell_type": "code",
   "execution_count": null,
   "metadata": {
    "pycharm": {
     "name": "#%%\n"
    }
   },
   "outputs": [],
   "source": [
    "## dir ouputs all methods and attributes\n",
    "## we'll talk about the double underscores later in these notes...\n",
    "dir(my_date)"
   ]
  },
  {
   "cell_type": "markdown",
   "metadata": {},
   "source": [
    "### Objects Summary\n",
    "\n",
    "- Objects allow for data (attributes) and functions (methods) to be organized together\n",
    "    - methods operate on the object type (modify state)\n",
    "    - attributes store and return information (data) about the object (maintain state)\n",
    "- `dir()` returns methods & attributes for an object\n",
    "- Syntax:\n",
    "    - `obj.method()`\n",
    "    - `obj.attribute`\n",
    "- `date` and `datetime` are two types of objects in Python"
   ]
  },
  {
   "cell_type": "markdown",
   "metadata": {},
   "source": [
    "## Classes"
   ]
  },
  {
   "cell_type": "markdown",
   "metadata": {},
   "source": [
    "**Classes** define objects. The `class` keyword opens a code block for instructions on how to create objects of a particular type."
   ]
  },
  {
   "cell_type": "markdown",
   "metadata": {},
   "source": [
    "Think of classes as the _blueprint_ for creating and defining objects and their properties (methods, attributes, etc.). They keep related things together and organized.\n",
    "\n",
    "* See this [link](https://betterprogramming.pub/string-case-styles-camel-pascal-snake-and-kebab-case-981407998841) for more on Pascal case vs. snake_case (and other conventions)"
   ]
  },
  {
   "cell_type": "markdown",
   "metadata": {},
   "source": [
    "## Example Class: Dog"
   ]
  },
  {
   "cell_type": "code",
   "execution_count": null,
   "metadata": {
    "pycharm": {
     "name": "#%%\n"
    }
   },
   "outputs": [],
   "source": [
    "# Define a class with `class`.\n",
    "# By convention, class definitions use CapWords (Pascal case)\n",
    "class Dog():\n",
    "\n",
    "    # Class attributes for objects of type Dog\n",
    "    sound = 'Woof'\n",
    "\n",
    "    # Class methods for objects of type Dog\n",
    "    # default number of times assigned 2\n",
    "    def speak(self, n_times=2):\n",
    "        \n",
    "        # we assigned the sound variable \n",
    "        # above and it belongs to this \n",
    "        # object...so we access that variable (attribute)\n",
    "        # by calling self.attribute_name (self.sound in this case!)\n",
    "        return self.sound * n_times"
   ]
  },
  {
   "cell_type": "markdown",
   "metadata": {},
   "source": [
    "A reminder:\n",
    "- **attributes** maintain the object's state; they lookup information about an object\n",
    "- **methods** usually alter the object's state; they run a function on an object"
   ]
  },
  {
   "cell_type": "markdown",
   "metadata": {},
   "source": [
    "**`class`** notes:\n",
    "\n",
    "- classes tend to use **CapWords** convention (Pascal Case)\n",
    "    - instead of snake_case (functions and variable names)\n",
    "- `()` after `Dog` indicate that this is callable\n",
    "    - like functions, Classes must be executed before they take effect\n",
    "- can define **attributes** & **methods** within `class`\n",
    "- `self` is a special parameter for use by an object\n",
    "    - refers to the thing (object) itself\n",
    "- like functions, a new namespace is created within a Class\n"
   ]
  },
  {
   "cell_type": "code",
   "execution_count": null,
   "metadata": {
    "pycharm": {
     "name": "#%%\n"
    }
   },
   "outputs": [],
   "source": [
    "# Initialize a dog object\n",
    "ricki = Dog()"
   ]
  },
  {
   "cell_type": "code",
   "execution_count": null,
   "metadata": {
    "pycharm": {
     "name": "#%%\n"
    }
   },
   "outputs": [],
   "source": [
    "# ricki has the 'sound' attribute from the class Dog()\n",
    "ricki.sound"
   ]
  },
  {
   "cell_type": "code",
   "execution_count": null,
   "metadata": {
    "pycharm": {
     "name": "#%%\n"
    }
   },
   "outputs": [],
   "source": [
    "# ricki, has 'Dog' method(s)\n",
    "# remember how we used `self` in our \n",
    "# method definition in the class Dog()\n",
    "ricki.speak()"
   ]
  },
  {
   "cell_type": "markdown",
   "metadata": {},
   "source": [
    "## Instances & self"
   ]
  },
  {
   "cell_type": "markdown",
   "metadata": {},
   "source": [
    "* An **instance** is particular instantiation of a class object. `self` refers to the current instance.\n",
    "* If you have two instances of an object, they can have different values for attributes...\n",
    "    * For example, if we wrote a variant of our `Dog()` class that keeps track of how many times it barks, then difference instances of `Dog()` can have different values for the attribute that keeps track of barking..."
   ]
  },
  {
   "cell_type": "code",
   "execution_count": null,
   "metadata": {},
   "outputs": [],
   "source": [
    "# make a slightly more sophicated Dog...\n",
    "class Dog():\n",
    "\n",
    "    # Class attributes for objects of type Dog\n",
    "    sound = 'Woof'\n",
    "    barks = 0    # how many times has the Dog barked?\n",
    "    \n",
    "    # Class methods for objects of type Dog\n",
    "    def speak(self, n_times=2):\n",
    "        # update self.barks to keep track of\n",
    "        # of how many woofs...\n",
    "        self.barks += n_times\n",
    "        \n",
    "        # then make the sound the desired number of times\n",
    "        return self.sound * n_times"
   ]
  },
  {
   "cell_type": "code",
   "execution_count": null,
   "metadata": {
    "pycharm": {
     "name": "#%%\n"
    }
   },
   "outputs": [],
   "source": [
    "# Initialize two instances of class Dog()\n",
    "ricki = Dog()\n",
    "punky = Dog()"
   ]
  },
  {
   "cell_type": "code",
   "execution_count": null,
   "metadata": {},
   "outputs": [],
   "source": [
    "print(f'First ricki says: {ricki.speak(5)}')\n",
    "print(f'Then punky responds: {punky.speak(2)}')\n",
    "print(f'Ricki agrees to chase the rabbit by saying: {ricki.speak(2)}')"
   ]
  },
  {
   "cell_type": "code",
   "execution_count": null,
   "metadata": {},
   "outputs": [],
   "source": [
    "print(f'Punky barked {punky.barks} times during the conversation')\n",
    "print(f'Ricki barked {ricki.barks} times during the conversation')"
   ]
  },
  {
   "cell_type": "markdown",
   "metadata": {},
   "source": [
    "From our example above:\n",
    "\n",
    "- Dog is the Class we created\n",
    "- `ricki` is one _instance_ of the class, `punky` is another _instance_\n",
    "- The class Dog has two attributes - sound ('Woof') and `barks` (number of times each **instance** of Dog has barked)\n",
    "- `self` refers to whatever the _current_ instance is..."
   ]
  },
  {
   "cell_type": "markdown",
   "metadata": {},
   "source": [
    "\n",
    "## Instance Attributes\n",
    "\n",
    "An instance attribute specific to the instance we're on. This allows different instances of the same class to be unique (have different values stored in attributes and use those in methods)."
   ]
  },
  {
   "cell_type": "code",
   "execution_count": null,
   "metadata": {
    "pycharm": {
     "name": "#%%\n"
    }
   },
   "outputs": [],
   "source": [
    "# Initialize an empty list to store a pack of dogs\n",
    "pack_of_dogs = []\n",
    "\n",
    "# make 4 instances of Dog()\n",
    "for dog in range(4):\n",
    "    pack_of_dogs.append(Dog())\n",
    "    \n",
    "# note that all instances of Dog()\n",
    "# have the same attributes (sound and barks)\n",
    "# e.g. all Dogs say 'Woof'\n",
    "for dog in pack_of_dogs:\n",
    "    print(dog.sound)"
   ]
  },
  {
   "cell_type": "markdown",
   "metadata": {},
   "source": [
    "This creates four different `Dog` type objects and stores them in a list. So even though we could separately keep track of how many times each dog barked, every dog starts with the same two attributes (`sound` and `barks` and they all start off being assigned `'Woof'` and `0`..."
   ]
  },
  {
   "cell_type": "markdown",
   "metadata": {},
   "source": [
    "What if we want to have attributes that are different for diffgerent instances of a class? \n",
    "\n",
    "These are called **instance attributes** and `__init__` is a special method used to define them.\n",
    "\n",
    "## Example Class: Dog Revisited\n",
    "\n",
    "- Two trailing underscores (a `dunder`, or double underscore) is used to indicate something Python recognizes and knows what to do every time it sees it.\n",
    "- Here, we use `__init__` to execute the code within it every time you initialize an object."
   ]
  },
  {
   "cell_type": "code",
   "execution_count": null,
   "metadata": {
    "pycharm": {
     "name": "#%%\n"
    }
   },
   "outputs": [],
   "source": [
    "class Dog():\n",
    "\n",
    "    # Class attributes for *all* Dogs\n",
    "    # these are shared by all instances \n",
    "    # of Dog\n",
    "    sound = 'Woof'\n",
    "    barks = 0\n",
    "    \n",
    "    # __init__ method allows us to specify instance-specific attributes\n",
    "    # leading and trailing double underscores indicates that this is special to Python\n",
    "    # in this case we can give each instance of Dog a different name...\n",
    "    def __init__(self, name):\n",
    "        self.name = name\n",
    "\n",
    "    def speak(self, n_times=2):\n",
    "        self.barks += n_times\n",
    "        return self.sound * n_times"
   ]
  },
  {
   "cell_type": "code",
   "execution_count": null,
   "metadata": {
    "pycharm": {
     "name": "#%%\n"
    }
   },
   "outputs": [],
   "source": [
    "# Initialize a dog\n",
    "# what goes in the parentheses is defined in the __init__\n",
    "dog1 = Dog(name='Ricki')\n",
    "dog2 = Dog(name='Punky')"
   ]
  },
  {
   "cell_type": "code",
   "execution_count": null,
   "metadata": {
    "pycharm": {
     "name": "#%%\n"
    }
   },
   "outputs": [],
   "source": [
    "# Check dog1's attributes\n",
    "print(dog1.sound)    # This is an class attribute\n",
    "print(dog1.name)     # This is a instance attribute"
   ]
  },
  {
   "cell_type": "code",
   "execution_count": null,
   "metadata": {
    "pycharm": {
     "name": "#%%\n"
    }
   },
   "outputs": [],
   "source": [
    "# Check dog2's methods\n",
    "dog2.name"
   ]
  },
  {
   "cell_type": "markdown",
   "metadata": {},
   "source": [
    "## Everything in Python is an Object!"
   ]
  },
  {
   "cell_type": "markdown",
   "metadata": {},
   "source": [
    "### Data variables are objects"
   ]
  },
  {
   "cell_type": "code",
   "execution_count": null,
   "metadata": {
    "pycharm": {
     "name": "#%%\n"
    }
   },
   "outputs": [],
   "source": [
    "print(isinstance(True, object))\n",
    "print(isinstance(1, object))\n",
    "print(isinstance('word', object))\n",
    "print(isinstance(None, object))\n",
    "\n",
    "a = 3\n",
    "print(isinstance(a, object))"
   ]
  },
  {
   "cell_type": "markdown",
   "metadata": {},
   "source": [
    "### Functions are objects"
   ]
  },
  {
   "cell_type": "code",
   "execution_count": null,
   "metadata": {
    "pycharm": {
     "name": "#%%\n"
    }
   },
   "outputs": [],
   "source": [
    "print(isinstance(sum, object))\n",
    "print(isinstance(max, object))"
   ]
  },
  {
   "cell_type": "code",
   "execution_count": null,
   "metadata": {
    "pycharm": {
     "name": "#%%\n"
    }
   },
   "outputs": [],
   "source": [
    "# Custom function are also objects\n",
    "def my_function():\n",
    "    print('yay Python!')\n",
    "\n",
    "isinstance(my_function, object)"
   ]
  },
  {
   "cell_type": "markdown",
   "metadata": {},
   "source": [
    "### Class definitions & instances are objects"
   ]
  },
  {
   "cell_type": "code",
   "execution_count": null,
   "metadata": {
    "pycharm": {
     "name": "#%%\n"
    }
   },
   "outputs": [],
   "source": [
    "class MyClass():\n",
    "    def __init__(self):\n",
    "        self.data = 13\n",
    "\n",
    "my_instance = MyClass()\n",
    "\n",
    "print(isinstance(MyClass, object))\n",
    "print(isinstance(my_instance, object))"
   ]
  },
  {
   "cell_type": "markdown",
   "metadata": {},
   "source": [
    "## More complex example\n",
    "* Here we'll make something a little more complex and useful...this will be a `RealEstate` object that keeps track of how much money you have and whether you want to buy or sell a property. \n",
    "    * You start with `seed_money` dollars - this will be stored in the attribute `money` and `seed_money` will be defined when you create an instance of `RealEstate`. \n",
    "    * You also start with an empty dictionary named `properties` that will store the address, size (in sq ft) and cost of properties that you purchase and now own. \n",
    "    * Based on your real estate acumen, you will buy any property that is over 1900 sq ft in size as long as it costs less than 1 million dollars. If it over 1900 sq ft and costs more than 1 million dollars, you will not buy it. \n",
    "    * You will have a method that determines whether you will buy the house, we'll call this method `purchase`\n",
    "    * We will pass `purchase` the address of the house, the house size (in sq ft) and the cost. \n",
    "    * If the house satisfies your criteria, **and you have enough money**, then you will buy the house, subtract the cost of the house from the `money` attribute, and you will update the `properties` dictionary. \n",
    "    * If the house meets the size and cost requirements, but you do not have enough money, print the message `\"Sorry - nice house but you don't have enough money\"`\n",
    "    * If the house does not meet your criteria, then print `\"Not interested\"`\n"
   ]
  },
  {
   "cell_type": "code",
   "execution_count": null,
   "metadata": {},
   "outputs": [],
   "source": [
    "class RealEstate():\n",
    "    \n",
    "    # Init instance attributes \n",
    "    def __init__(self, params):\n",
    "        \n",
    "        # initialize a dictionary to store \n",
    "        # address, size, cost of purchased properties\n",
    "        self.properties = dict()\n",
    "        \n",
    "        # initialize seed_money, default is 0\n",
    "        self.money = params.get('seed_money', 0)\n",
    "        \n",
    "        # initialize min_size of house, default is 1000\n",
    "        self.min_size = params.get('min_size', 1000)\n",
    "        \n",
    "        # initialize max_price, default is 500000\n",
    "        self.max_price = params.get('max_price', 500000)\n",
    "                \n",
    "            \n",
    "    # purchase method to determine if  you buy, update dictionary, etc. \n",
    "    def purchase(self, address, size, cost):\n",
    "        \n",
    "        # see if the size is acceptable, if the cost is acceptable, and if we \n",
    "        # have enough money...\n",
    "        if size >= self.min_size and cost <= self.max_price and self.money >= cost:\n",
    "                        \n",
    "            # subtract the cost from total amount of money\n",
    "            self.money -= cost\n",
    "            \n",
    "            # update dictionary\n",
    "            self.properties['address'] = address\n",
    "            self.properties['size'] = size\n",
    "            self.properties['cost'] = cost\n",
    "            \n",
    "            print(f'You now own: {address}')\n",
    "        \n",
    "        elif size >= self.min_size and cost <= self.max_price and self.money <= cost:\n",
    "            print(\"Sorry - nice house but you don't have enough money\")\n",
    "        \n",
    "        else:\n",
    "            print(\"Not interested - too small or too much money!\")"
   ]
  },
  {
   "cell_type": "code",
   "execution_count": null,
   "metadata": {},
   "outputs": [],
   "source": [
    "# create an instance of RealEstate\n",
    "params = {'seed_money' : 3000000, 'min_size' : 1900, 'max_price' : 1000000}\n",
    "re = RealEstate(params)\n",
    "\n",
    "# check to make sure we initialized everything correctly in __init__\n",
    "print(re.money)\n",
    "print(re.properties)\n",
    "print(re.max_price)"
   ]
  },
  {
   "cell_type": "markdown",
   "metadata": {},
   "source": [
    "### Now we can pass in some properties to see if we want to buy them..."
   ]
  },
  {
   "cell_type": "code",
   "execution_count": null,
   "metadata": {},
   "outputs": [],
   "source": [
    "re.purchase('203 N Amity St. Baltimore, MD, 21223', 2100, 999000)"
   ]
  },
  {
   "cell_type": "code",
   "execution_count": null,
   "metadata": {},
   "outputs": [],
   "source": [
    "# see if we decremented our money correctly\n",
    "print(re.money)\n",
    "print(re.properties)"
   ]
  },
  {
   "cell_type": "code",
   "execution_count": null,
   "metadata": {},
   "outputs": [],
   "source": [
    "# See what happens when our criteria are not met - cost too high\n",
    "re.purchase('110 Calle Iglesia, San Clemente, CA 92672', 2100, 4000000)"
   ]
  },
  {
   "cell_type": "code",
   "execution_count": null,
   "metadata": {},
   "outputs": [],
   "source": [
    "# Buy another one to run down our money...\n",
    "re.purchase('9826 La Jolla Farms Rd La Jolla, CA', 10500, 999999)\n",
    "re.purchase('2808 Ocean Front, Del Mar, CA, 92014', 5800, 900000)"
   ]
  },
  {
   "cell_type": "code",
   "execution_count": null,
   "metadata": {},
   "outputs": [],
   "source": [
    "# check our cash...\n",
    "re.money"
   ]
  },
  {
   "cell_type": "code",
   "execution_count": null,
   "metadata": {},
   "outputs": [],
   "source": [
    "# now try to buy a house that meets our criteria but that we can't afford...\n",
    "re.purchase('9630 La Jolla Farms Rd, La Jolla, CA 92037', 3290, 875000)"
   ]
  },
  {
   "cell_type": "markdown",
   "metadata": {},
   "source": [
    "## Text analysis example\n",
    "* recall the functions that we used for cleaning text...lets write a class that can do all of those operations for us!"
   ]
  },
  {
   "cell_type": "code",
   "execution_count": null,
   "metadata": {},
   "outputs": [],
   "source": [
    "class CleanText():\n",
    "    \n",
    "    def __init__(self, params):\n",
    "        \n",
    "        # if search target is defined...else '\\n'\n",
    "        self.search_target = params.get('search_target', '\\n')\n",
    "        \n",
    "        # keep how many lines after search target? \n",
    "        # default 0 which will mean \"keep till end of book\"\n",
    "        self.keep_lines = params.get('keep_lines', '')\n",
    "        \n",
    "        \n",
    "    # segment text...\n",
    "    def segment_text(self, text):\n",
    "        \n",
    "        for cnt, line in enumerate(text):\n",
    "    \n",
    "            # test to see if the current line has search_target in it\n",
    "            if self.search_target in line:\n",
    "                # grab the line where chapter 5 starts\n",
    "                start_index = cnt\n",
    "        \n",
    "                # exit the loop by calling 'break'\n",
    "                break\n",
    "        \n",
    "        # slice\n",
    "        if self.keep_lines:\n",
    "            text = text[start_index:start_index + self.keep_lines]\n",
    "        else: \n",
    "            # go from start to end of book\n",
    "            text = text[start_index:]\n",
    "            \n",
    "        return text\n",
    "    \n",
    "    \n",
    "    # turn to lower case \n",
    "    def clean_text(self, text):\n",
    "        \n",
    "        # join text list into a string\n",
    "        text_string = ' '.join(text)\n",
    "        \n",
    "        # lower case it\n",
    "        text_string = text_string.lower()\n",
    "        \n",
    "        # remove newlines\n",
    "        text_string = text_string.replace('\\n', '')\n",
    "\n",
    "        # remove all unwanted characters (punctuation...)\n",
    "        for c in set(text_string):\n",
    "            if c not in ' abcdefghijklmnopqrstuvwxyz':\n",
    "                text_string = text_string.replace(c, '')\n",
    "        \n",
    "        # convert back to list...\n",
    "        return text_string.split(' ')\n",
    "\n",
    "    \n",
    "    # count the words...\n",
    "    def count_words(self, text):\n",
    "        \n",
    "        # first clean the text...\n",
    "        text = self.clean_text(text)\n",
    "        \n",
    "        # then count the words!\n",
    "        wc = {}   # or you can use dict()\n",
    "\n",
    "        # now loop over **all** words in the book\n",
    "        for w in text:\n",
    "\n",
    "            # if w is not a word (i.e. it is an empty string)\n",
    "            # then continue\n",
    "            if not w:\n",
    "                continue\n",
    "\n",
    "            # if w is a word, and its not already in our dictionary\n",
    "            # then make a new key\n",
    "            if w not in wc:\n",
    "                wc[w] = 0\n",
    "\n",
    "            # increment a counter each time the word w appears...\n",
    "            wc[w] += 1\n",
    "            \n",
    "        return wc"
   ]
  },
  {
   "cell_type": "code",
   "execution_count": null,
   "metadata": {},
   "outputs": [],
   "source": [
    "# open our file for reading...\n",
    "with open('frankenstein.txt', 'r') as f:\n",
    "    # read the entire file...with each line \n",
    "    # returned as a string in a list\n",
    "    # we'll call the list 'book'\n",
    "    text = f.readlines()"
   ]
  },
  {
   "cell_type": "code",
   "execution_count": null,
   "metadata": {},
   "outputs": [],
   "source": [
    "# set up our object...specifying search target but not keep lines \n",
    "# (will use the default value for that...)\n",
    "params = {'search_target': 'It was on a dreary night'}\n",
    "\n",
    "# make an instance of a CleanText object...\n",
    "ct = CleanText(params)"
   ]
  },
  {
   "cell_type": "code",
   "execution_count": null,
   "metadata": {},
   "outputs": [],
   "source": [
    "# segment text\n",
    "text = ct.segment_text(text)\n",
    "print(text)"
   ]
  },
  {
   "cell_type": "code",
   "execution_count": null,
   "metadata": {},
   "outputs": [],
   "source": [
    "# count the words!\n",
    "wc = ct.count_words(text)\n",
    "print(wc)"
   ]
  },
  {
   "cell_type": "code",
   "execution_count": null,
   "metadata": {},
   "outputs": [],
   "source": [
    "# importantly - this class can handle processing any text!\n",
    "with open('alice-in-wonderland.txt', 'r') as f:\n",
    "    # read the entire file...with each line \n",
    "    # returned as a string in a list\n",
    "    # we'll call the list 'book'\n",
    "    text = f.readlines()"
   ]
  },
  {
   "cell_type": "code",
   "execution_count": null,
   "metadata": {},
   "outputs": [],
   "source": [
    "# set up our object...specifying search target but not keep lines \n",
    "# (will use the default value for that...)\n",
    "params = {'search_target':'Down the Rabbit-Hole', 'keep_lines':100}\n",
    "ct = CleanText(params)"
   ]
  },
  {
   "cell_type": "code",
   "execution_count": null,
   "metadata": {},
   "outputs": [],
   "source": [
    "# segment text\n",
    "text = ct.segment_text(text)\n",
    "print(text)"
   ]
  },
  {
   "cell_type": "code",
   "execution_count": null,
   "metadata": {},
   "outputs": [],
   "source": [
    "# count the words!\n",
    "wc = ct.count_words(text)\n",
    "print(wc)"
   ]
  },
  {
   "cell_type": "markdown",
   "metadata": {},
   "source": [
    "## Importing a class that you've defined\n",
    "* Once you have written a class to define an object, you can import it and use it in any of your other projects without re-typing all the code or copying and pasting it into a notebook...\n",
    "* Here we can use the writefile cell magic to write a text file with our code ( a .py file is just a text file that is associated with python code). "
   ]
  },
  {
   "cell_type": "code",
   "execution_count": null,
   "metadata": {},
   "outputs": [],
   "source": [
    "%%writefile MyMath.py\n",
    "class MyMath():\n",
    "    \n",
    "    def multiply(self, num1, num2):\n",
    "        return num1 * num2\n",
    "        \n",
    "    def minus(self, num1, num2):\n",
    "        return num1 - num2\n",
    "    \n",
    "    def add(self, num1, num2):\n",
    "        return num1 + num2\n",
    "    \n",
    "    def divide(self, num1, num2):\n",
    "        return num1 / num2 \n",
    "    \n",
    "    # of course we have a built-in ** operator \n",
    "    # to do this, but see how we can call another \n",
    "    # method in this class using self...\n",
    "    def square(self, num1):\n",
    "        return self.multiply(num1, num1)"
   ]
  },
  {
   "cell_type": "markdown",
   "metadata": {},
   "source": [
    "### Now we can import the object and use it..."
   ]
  },
  {
   "cell_type": "code",
   "execution_count": null,
   "metadata": {},
   "outputs": [],
   "source": [
    "# import the contents of the file...* means \"everything\"\n",
    "from MyMath import *\n",
    "\n",
    "# make our object...\n",
    "mm = MyMath()\n",
    "\n",
    "# then we can use it!\n",
    "mm.square(10)"
   ]
  },
  {
   "cell_type": "markdown",
   "metadata": {},
   "source": [
    "\n",
    "## Classes Review\n",
    "\n",
    "- `class` creates a new class type\n",
    "    - names tend to use CapWords case\n",
    "    - can have attributes (including instance attributes) and methods\n",
    "        - `obj.attribute` accesses data stored in attribute\n",
    "        - `obj.method()` carries out code defined within method\n"
   ]
  },
  {
   "cell_type": "markdown",
   "metadata": {},
   "source": [
    "- instance attributes defined with `__init__`\n",
    "    - `__init__` is a reserved method in Python\n",
    "    - This \"binds the attributes with the given arguments\"\n",
    "    - `self` refers to current instance"
   ]
  },
  {
   "cell_type": "markdown",
   "metadata": {},
   "source": [
    "- to create an object (instance) of a specified class type (`ClassType`):\n",
    "    - `object_name = ClassType(input1, input2)`\n",
    "    - `self` is not given an input when creating an object of a specified class"
   ]
  }
 ],
 "metadata": {
  "kernelspec": {
   "display_name": "Python 3 (ipykernel)",
   "language": "python",
   "name": "python3"
  },
  "language_info": {
   "codemirror_mode": {
    "name": "ipython",
    "version": 3
   },
   "file_extension": ".py",
   "mimetype": "text/x-python",
   "name": "python",
   "nbconvert_exporter": "python",
   "pygments_lexer": "ipython3",
   "version": "3.9.7"
  }
 },
 "nbformat": 4,
 "nbformat_minor": 1
}
