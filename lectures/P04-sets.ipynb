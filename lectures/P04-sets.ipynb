{
 "cells": [
  {
   "cell_type": "markdown",
   "source": [
    "# P04: dictionaries, sets, and files\n",
    "- **Concepts**: ordered vs not, hash\n",
    "- **Python dict, set**: hashable, set, dict, .update(), del\n",
    "- **Python files**: open, close, with open as fp\n",
    "\n",
    "## Python\n",
    "\n",
    "### Sets\n",
    "\n",
    "Sets are *unordered*, *mutable*, *collections*, of *distinct*, *hashable* elements.\n",
    "\n",
    "In Python sets are like lists in that they:\n",
    " - are *mutable* (so you can change them),\n",
    " - are *collections* of other objects (so you can iterate over them, get their `len()`, check membership with `in`).\n",
    "\n",
    "However, they are unlike lists in that:\n",
    "- they are *unordered* so they cannot be indexed or sliced.\n",
    "- they may contain only *hashable* items (so they cannot contain things like lists, dictionaries, sets).\n",
    "- every item they contain must be *distinct*.\n",
    "\n",
    "Sets are created with `set(vals)` where `vals` is typically a list or some other kind of iterable entity."
   ],
   "metadata": {
    "collapsed": false
   }
  },
  {
   "cell_type": "code",
   "execution_count": null,
   "outputs": [],
   "source": [
    "x = set(['a', 'b', 3, 4])\n",
    "print(x)"
   ],
   "metadata": {
    "collapsed": false,
    "pycharm": {
     "name": "#%%\n"
    }
   }
  },
  {
   "cell_type": "markdown",
   "source": [
    "Sets can be modified with the methods `.add()` or `.remove()`\n"
   ],
   "metadata": {
    "collapsed": false
   }
  },
  {
   "cell_type": "code",
   "execution_count": null,
   "outputs": [],
   "source": [
    "print(x)\n",
    "x.add('abs')\n",
    "x.add(10)\n",
    "print(x)\n",
    "\n",
    "x.add(3) # no effect\n",
    "print(x)"
   ],
   "metadata": {
    "collapsed": false,
    "pycharm": {
     "name": "#%%\n"
    }
   }
  },
  {
   "cell_type": "markdown",
   "source": [
    "Note: sets are presented in some kind of order, but that order changes when the set is changed.\n",
    "\n",
    "Note: adding an existing item has no effect, since sets have only disctinct items.\n"
   ],
   "metadata": {
    "collapsed": false
   }
  },
  {
   "cell_type": "code",
   "execution_count": null,
   "outputs": [],
   "source": [
    "print(x)\n",
    "x.remove(5)\n",
    "print(x)"
   ],
   "metadata": {
    "collapsed": false,
    "pycharm": {
     "name": "#%%\n"
    }
   }
  },
  {
   "cell_type": "markdown",
   "source": [
    "Set membership can be evaluated with `in`"
   ],
   "metadata": {
    "collapsed": false
   }
  },
  {
   "cell_type": "code",
   "execution_count": null,
   "outputs": [],
   "source": [
    "6 in x"
   ],
   "metadata": {
    "collapsed": false,
    "pycharm": {
     "name": "#%%\n"
    }
   }
  },
  {
   "cell_type": "markdown",
   "source": [
    "Sets can be iterated over with a `for loop`"
   ],
   "metadata": {
    "collapsed": false
   }
  },
  {
   "cell_type": "code",
   "execution_count": null,
   "outputs": [],
   "source": [
    "for item in x:\n",
    "    print(item)"
   ],
   "metadata": {
    "collapsed": false,
    "pycharm": {
     "name": "#%%\n"
    }
   }
  },
  {
   "cell_type": "markdown",
   "source": [
    "Sets are useful because:\n",
    "2. they are efficient for keeping track of unique things.\n",
    "1. they support *set operations* (union, intersection, difference\n",
    "\n",
    "#### Set operations"
   ],
   "metadata": {
    "collapsed": false
   }
  },
  {
   "cell_type": "code",
   "execution_count": null,
   "outputs": [],
   "source": [
    "A = set('panda')\n",
    "B = set('conga')\n",
    "print(A)\n",
    "print(B)"
   ],
   "metadata": {
    "collapsed": false,
    "pycharm": {
     "name": "#%%\n"
    }
   }
  },
  {
   "cell_type": "markdown",
   "source": [
    "Set union: items in A or B"
   ],
   "metadata": {
    "collapsed": false
   }
  },
  {
   "cell_type": "code",
   "execution_count": null,
   "outputs": [],
   "source": [
    "print(A | B)"
   ],
   "metadata": {
    "collapsed": false,
    "pycharm": {
     "name": "#%%\n"
    }
   }
  },
  {
   "cell_type": "markdown",
   "source": [
    "Set intersections: items in A and B"
   ],
   "metadata": {
    "collapsed": false
   }
  },
  {
   "cell_type": "code",
   "execution_count": null,
   "outputs": [],
   "source": [
    "print(A & B)"
   ],
   "metadata": {
    "collapsed": false,
    "pycharm": {
     "name": "#%%\n"
    }
   }
  },
  {
   "cell_type": "markdown",
   "source": [
    "Set difference: items in A but not B"
   ],
   "metadata": {
    "collapsed": false
   }
  },
  {
   "cell_type": "code",
   "execution_count": null,
   "outputs": [],
   "source": [
    "print(A - B)"
   ],
   "metadata": {
    "collapsed": false,
    "pycharm": {
     "name": "#%%\n"
    }
   }
  },
  {
   "cell_type": "markdown",
   "source": [
    "Set symmetric difference: items in either set but *not both* sets.  (items in union but not in intersection)"
   ],
   "metadata": {
    "collapsed": false
   }
  },
  {
   "cell_type": "code",
   "execution_count": null,
   "outputs": [],
   "source": [
    "print(A ^ B)"
   ],
   "metadata": {
    "collapsed": false,
    "pycharm": {
     "name": "#%%\n"
    }
   }
  },
  {
   "cell_type": "markdown",
   "source": [],
   "metadata": {
    "collapsed": false
   }
  }
 ],
 "metadata": {
  "kernelspec": {
   "display_name": "Python 3",
   "language": "python",
   "name": "python3"
  },
  "language_info": {
   "codemirror_mode": {
    "name": "ipython",
    "version": 2
   },
   "file_extension": ".py",
   "mimetype": "text/x-python",
   "name": "python",
   "nbconvert_exporter": "python",
   "pygments_lexer": "ipython2",
   "version": "2.7.6"
  }
 },
 "nbformat": 4,
 "nbformat_minor": 0
}