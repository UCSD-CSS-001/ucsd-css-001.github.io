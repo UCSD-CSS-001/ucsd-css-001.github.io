{
 "cells": [
  {
   "cell_type": "markdown",
   "metadata": {
    "collapsed": true,
    "pycharm": {
     "name": "#%% md\n"
    }
   },
   "source": [
    "#  P03: Sequence types\n",
    "\n",
    "## Conceptual overview\n",
    "\n",
    "### Container data types in Python\n",
    "\n",
    "**Atomic types** such as integers, floats, booleans, and a few other types in Python, are data types that have no substructure -- they are the smallest possible unit.  A boolean like True is a basic unit in Python: it has no parts.  Ditto for integers, floats, etc. (even though, mathematically, we could define \"parts\" to an integer, in the Python representation they have no parts).\n",
    "\n",
    "**Containers** are data types in Python that that **contain** multiple other objects.  Every container has the ability to be probed with the expression `x in container` (which will return True if `x` is an item in the container, and False otherwise).\n",
    "\n",
    "**Collections** Are *containers* that have a few further properties: they have a *size*, indicating how many elements it contains (obtained via `len(x)`); and they can be *iterated* over (e.g., you can loop through all the items in a collection via a for loop `for item in collection:`...).\n",
    "\n",
    "**Sequences** are *collections* with a **deterministic order**, which means they can be **indexed** via an integer indicating the order of an element, with the notation `x[3]` and **sliced** via integer expressions to obtain subsequences.  Sequences can also be concatenated with the `+` operator.\n",
    "For instance, a list is a sequence, so you can ask for the initial item of a list via `x[3]`.  (In contrast, a `set` is a collection but not a sequence, so you cannot ask for a particular item via an index.)\n",
    "\n",
    "**Mutable sequences** are *sequences* that can be changed after they are created (in contrast, immutable sequences cannot be changed, they can only be overwritten with a newly created immutable sequence). Mutable sequences have useful methods like `seq.append(item)` (add an item to the end of the sequence), `seq_1.extend(seq_2)` (add the items in seq_2 to the end of seq_1), `seq.pop(index)` (return the value of the item at index, and remove that item from the sequence), `seq.remove(item)` (remove the first item in the sequence that is equal to item), `seq.reverse()` to reverse the order of the sequence.  These are \"in place\" methods, in that they change the list in place, without returning a copy of the list.  In contrast, *immutable* sequence methods (such as those for *string*, have to return a new string with the change, because the original string cannot be changed).\n",
    "\n",
    "**Strings** are immutable *sequences* of characters.  Each element of a string is a character.  Since they are a sequence, they can be indexed and sliced. Because they are immutable, you cannot change an element of a string, you can only create a new, different string.  Strings also have a number of very helpful methods for dealing with the text they represent, which we will cover below (since strings are immutable, methods that modify the string return a copy of a string with the modification, rather than changing the existing string in place).\n",
    "\n",
    "**Lists** are *mutable sequences*, which can contain items of any type. They not only support indexing and slicing, but they can also be changed, reversed, appended to, extended, sorted, inserted into, and more.\n",
    "\n",
    "**Tuples** are *immutable sequences*.  They have a number of uses which we may cover eventually.\n",
    "\n",
    "**Sets** are *collections* of *unique* items.  They support useful [set operations](https://docs.python.org/3/library/stdtypes.html#set-types-set-frozenset) like set union, set difference, subset evaluations, etc.\n",
    "\n",
    "**Dictionaries** are *collections* that are mappings.  They do not have a particular *order*, but items in a dictionary have a unique *key* which need not be an integer.\n",
    "\n",
    "### Indexing and slicing sequences.\n",
    "\n",
    "Specific elements of a sequence can be obtained by **indexing** -- referring to the specific order of that element in the sequence.  Python uses zero-based indexing, which means that the item at the start of the index has an index of 0, the next item has an index of 1, and so on. There are some [good reasons](https://www.cs.utexas.edu/users/EWD/transcriptions/EWD08xx/EWD831.html) to index starting with 0, although not all programming languages adopt this convention.\n",
    "\n",
    "A subsequence can be obtained from a sequence by **slicing** -- referring to the set of indexes that you want to pull out.  A slice is defined with the notation `[start:stop:step]`, which we will cover in great detail below.\n",
    "\n",
    "\n",
    "## Sequences\n",
    "\n",
    "### Strings: defining / creating\n",
    "\n",
    "Strings are immutable sequences of characters.\n",
    "\n",
    "A string can be created in python by putting some text in quotes.\n",
    "- You can use either single quotes (`'string'`), or double quotes (`\"string\"`), it does not matter so long as the start and end of the string match. The choice of single vs double quotes is arbitrary. Pick one and use it consistently.\n",
    "- Tripple quotes, where you repeat three quotes of the same type to start the string (e.g., : `'''string'''` or `\"\"\"string\"\"\"`) are a special string definition that allows the string to span multiple lines."
   ]
  },
  {
   "cell_type": "code",
   "execution_count": null,
   "outputs": [],
   "source": [
    "a = 'this is a string'\n",
    "b = \"this is another string\"\n",
    "c = '''\n",
    "this is a\n",
    "3rd string\n",
    "'''\n",
    "d = \"\"\"\n",
    "this is a\n",
    "fourth string\n",
    "\"\"\"\n",
    "print(a,b,c,d, sep='\\n')"
   ],
   "metadata": {
    "collapsed": false,
    "pycharm": {
     "name": "#%%\n"
    }
   }
  },
  {
   "cell_type": "markdown",
   "source": [
    "One reason to favor single or double quotes is if you have to have quotes in your own string,\n",
    "in which case use one type of quote to indicate the string, and another type of quote inside.\n",
    "Alternatively, you can *escape* quotes inside a string, to tell Python that the quote in the\n",
    "string should be treated as a character, rather than the end of the string."
   ],
   "metadata": {
    "collapsed": false
   }
  },
  {
   "cell_type": "code",
   "execution_count": null,
   "outputs": [],
   "source": [
    "# these are ok because different quotes are used inside the string.\n",
    "print('1: Alice said \"Hello!\"')\n",
    "print(\"2: Alice said 'Hello!'\")\n",
    "# these are ok because the inside quote is escaped.\n",
    "print(\"3: Alice said \\\"Hello!\\\"\")\n",
    "print('4: Alice said \\'Hello!\\'')\n",
    "# this is a syntax error because Python thinks the string ends before the H\n",
    "print(\"5: Alice said \"Hello!\"\")"
   ],
   "metadata": {
    "collapsed": false,
    "pycharm": {
     "name": "#%%\n"
    }
   }
  },
  {
   "cell_type": "markdown",
   "source": [
    "### Lists: defining\n",
    "\n",
    "Lists are a general purpose, mutable sequence types for storing a bunch of objects in a deterministic order.\n",
    "\n",
    "A list can be created with square brackets: `[item1, item2]`.  A list can contain all sorts of objects, and those objects need not be of the same type.  A list can even contain more lists."
   ],
   "metadata": {
    "collapsed": false
   }
  },
  {
   "cell_type": "code",
   "execution_count": null,
   "outputs": [],
   "source": [
    "list_of_stuff = ['hello', 'goodbye', 'ciao', 'salut', 'adios', 3.14159, 1200, ['a', 'b', 3, ], ]\n",
    "print(list_of_stuff)"
   ],
   "metadata": {
    "collapsed": false,
    "pycharm": {
     "name": "#%%\n"
    }
   }
  },
  {
   "cell_type": "markdown",
   "source": [
    "### Common sequence operations\n",
    "\n",
    "First we will go over some common methods that all sequences (strings, lists, and more) share.\n",
    "\n",
    "To do so, we will use the following two sequences.  Note that the list contains a mixture of types -- integers, floats, strings, and even another list."
   ],
   "metadata": {
    "collapsed": false
   }
  },
  {
   "cell_type": "code",
   "execution_count": 46,
   "outputs": [
    {
     "name": "stdout",
     "output_type": "stream",
     "text": [
      "alphabet:  abcdefghijklmnopqrstuvqxyz\n",
      "some_numbers: [0, 1, 1.4142135623730951, 1.7320508075688772, 2, 'e', 3, 'pi', 4, 5, [2, 3, 5, 7]]\n"
     ]
    }
   ],
   "source": [
    "alphabet = 'abcdefghijklmnopqrstuvqxyz'\n",
    "some_numbers = [0, 1, 2**(1/2), 3**(1/2), 2, 'e', 3, 'pi', 4, 5, [2, 3, 5, 7], ]\n",
    "print('alphabet: ', alphabet)\n",
    "print('some_numbers:', some_numbers)"
   ],
   "metadata": {
    "collapsed": false,
    "pycharm": {
     "name": "#%%\n"
    }
   }
  },
  {
   "cell_type": "markdown",
   "source": [
    "#### len()\n",
    "\n",
    "Every collection (and thus, also every sequence) has a size property, indicating how many elements it has.  This can be polled with the `len()` function.  Note that the list inside the `some_numbers` list counts as one item."
   ],
   "metadata": {
    "collapsed": false
   }
  },
  {
   "cell_type": "code",
   "execution_count": 47,
   "outputs": [
    {
     "name": "stdout",
     "output_type": "stream",
     "text": [
      "26\n",
      "11\n"
     ]
    }
   ],
   "source": [
    "print(len(alphabet))\n",
    "print(len(some_numbers))"
   ],
   "metadata": {
    "collapsed": false,
    "pycharm": {
     "name": "#%%\n"
    }
   }
  },
  {
   "cell_type": "markdown",
   "source": [
    "#### in\n",
    "\n",
    "The contents of every container, (and thus every collection, and thus every sequence) can be probed with the `in` operation.  `x in container` returns `True` if x is one of the items in the container."
   ],
   "metadata": {
    "collapsed": false
   }
  },
  {
   "cell_type": "code",
   "execution_count": 54,
   "outputs": [
    {
     "name": "stdout",
     "output_type": "stream",
     "text": [
      "True\n",
      "False\n",
      "True\n",
      "False\n",
      "True\n",
      "False\n"
     ]
    }
   ],
   "source": [
    "print('b' in alphabet) # True\n",
    "print('@' in alphabet) # False\n",
    "print('pi' in some_numbers) # True\n",
    "print(7 in some_numbers) # False -- it only probes immediate members, not elements of elements.\n",
    "print([2, 3, 5, 7] in some_numbers) # True\n",
    "print(1.41421356237 in some_numbers) # False Exact equality of floats is complicated"
   ],
   "metadata": {
    "collapsed": false,
    "pycharm": {
     "name": "#%%\n"
    }
   }
  },
  {
   "cell_type": "markdown",
   "source": [
    "For strings, the `in` operation is special because it can also evaluate if a given string contains a particular *substring*, rather than a specific character.  This does not work for other sequence types."
   ],
   "metadata": {
    "collapsed": false
   }
  },
  {
   "cell_type": "code",
   "execution_count": 55,
   "outputs": [
    {
     "name": "stdout",
     "output_type": "stream",
     "text": [
      "True\n",
      "False\n",
      "False\n"
     ]
    }
   ],
   "source": [
    "print('hijk' in alphabet) # True\n",
    "print('cba' in alphabet) # False\n",
    "print('Abc' in alphabet) # False -- case sensitive\n",
    "print(' abc' in alphabet) # False\n",
    "print([0, 1] in some_numbers) # False: this asks if one of the elements is the list [0,1]"
   ],
   "metadata": {
    "collapsed": false,
    "pycharm": {
     "name": "#%%\n"
    }
   }
  },
  {
   "cell_type": "markdown",
   "source": [
    "\n",
    "#### indexing\n",
    "\n",
    "Because sequences have a deterministic ordering, we can retrieve particular items from them with square bracket numerical indexing.  This applies to both lists and strings."
   ],
   "metadata": {
    "collapsed": false
   }
  },
  {
   "cell_type": "code",
   "execution_count": 60,
   "outputs": [
    {
     "name": "stdout",
     "output_type": "stream",
     "text": [
      "a\n",
      "1.7320508075688772\n",
      "z\n",
      "pi\n"
     ]
    }
   ],
   "source": [
    "print(alphabet[0])\n",
    "print(some_numbers[3])\n",
    "print(alphabet[-1]) # same as len(alphabet)-1, or 25\n",
    "print(some_numbers[-4]) # same as len(some_numbers)-4, or 7"
   ],
   "metadata": {
    "collapsed": false,
    "pycharm": {
     "name": "#%%\n"
    }
   }
  },
  {
   "cell_type": "markdown",
   "source": [
    "Note:\n",
    "- this is zero-indexed, so the initial item of the sequence has an index of 0,\n",
    "- the last item of the sequence has an index of `len(seq)-1`\n",
    "- negative indexing `-1` is a shortcut for indexing from the end of the sequence by omitting the `len(seq)` part, so `x[-1]` has the same meaning as `x[len(x)-1]`\n",
    "\n",
    "\n",
    "#### slicing\n",
    "\n",
    "Indexing pulls out one item from a sequence, but slicing can pull out multiple elements.\n",
    "\n",
    "The full slicing notation is `x[start:stop:step]`, where we can pull out elements beginning with `start`, through `step-1`, incrementing by `step`."
   ],
   "metadata": {
    "collapsed": false
   }
  },
  {
   "cell_type": "code",
   "execution_count": 62,
   "outputs": [
    {
     "name": "stdout",
     "output_type": "stream",
     "text": [
      "abcdefghijklmnopqrstuvqxyz\n",
      "f\n",
      "abcde\n",
      "ace\n",
      "fedcb\n",
      "xy\n"
     ]
    }
   ],
   "source": [
    "print(alphabet)\n",
    "print(alphabet[5]) # [5]\n",
    "print(alphabet[0:5:1]) # [0, 1, 2, 3, 4] note, this omits the letter at index stop [5]='f'\n",
    "print(alphabet[0:5:2]) # [0, 2, 4] we are counting by 2, so getting indices\n",
    "print(alphabet[5:0:-1]) # [5, 4, 3, 2] we are counting by -1! note [0] omitted\n",
    "print(alphabet[-3:-1:1]) # we can use negative indices here too. [-3, -2] = [23, 24]"
   ],
   "metadata": {
    "collapsed": false,
    "pycharm": {
     "name": "#%%\n"
    }
   }
  },
  {
   "cell_type": "markdown",
   "source": [
    "##### Slicing defaults.\n",
    "\n",
    "There are very commonly used values for `start`, `stop` and `step`, so these are set to be the defaults if that value is omitted.\n",
    "\n",
    "- default `start=0`: `x[:b:1]` means `x[0:b:1]` because if the start value is omitted, the default of 0 -- initial element of sequence -- is used\n",
    "- default `stop = len(x)`:  `x[a::1]` means `x[a:len(x):1]` which yields all the items from index `a` through the end of the list\n",
    "- default `step = 1`: so `x[a:b:]` and `x[a:b]` both mean `x[a:b:1]`\n",
    "\n",
    "These defaults make a few concise expressions possible:\n",
    "- `x[a:]` gets all the items from `a` through the end of the sequence (since it defaults to `x[a:len(x):1]`\n",
    "- `x[:b]` gets all the items from the start of the sequence through `b-1`\n",
    "- `x[::k]` gets every kth item from index 0 through the end.\n",
    "\n",
    "```{note}\n",
    "**Default slicing parameters with negative indexing**\n",
    "\n",
    "One subtlety is that the default start and stop values change depending on the *step sign*:\n",
    "when incrementing positively defaults are as described above. When incrementing negatively,\n",
    "default start is `len(x)-1` (or just -1 -- the last item), and default stop is the item before 0, so that the last included item has index 0.\n",
    "\n",
    "However, note that you cannot yourself indicate \"the item before 0\" because that would be -1, which has a different meaning (shorthand for `len(x)-1`).\n",
    "Consequently, if you want to end at the initial sequence item with negative indexing, you have to either omit it, or provide the argument `None`\n",
    "\n",
    "Altogether, `x[::-1]` is the same as `x[-1:None:-1]`\n",
    "```"
   ],
   "metadata": {
    "collapsed": false
   }
  },
  {
   "cell_type": "code",
   "execution_count": null,
   "outputs": [],
   "source": [
    "print(alphabet[:5]) # [0, 1, 2, 3, 4]\n",
    "print(alphabet[-5:]) # [21, 22, 23, 24, 25]\n",
    "print(alphabet[::2]) # [0, 2, 4, 6, 8, 10, 12, 14, 16, 18, 20, 22, 24]\n",
    "print(alphabet[::-1]) # [25, 24, 23, ... 0]\n",
    "print(alphabet[-1:None:-1]) # same as above."
   ],
   "metadata": {
    "collapsed": false,
    "pycharm": {
     "name": "#%%\n"
    }
   }
  },
  {
   "cell_type": "markdown",
   "source": [
    "We can do the same things with a list:"
   ],
   "metadata": {
    "collapsed": false
   }
  },
  {
   "cell_type": "code",
   "execution_count": null,
   "outputs": [],
   "source": [
    "print(some_numbers[5:]) # [5, 6, 7, 8, 9, 10]\n",
    "print(some_numbers[:-3]) # [0, 1, 2, 3, 4, 5, 6, 7] (note index 8 (11-3) excluded!)\n",
    "print(some_numbers[::3]) # [0, 3, 6, 9]"
   ],
   "metadata": {
    "collapsed": false,
    "pycharm": {
     "name": "#%%\n"
    }
   }
  },
  {
   "cell_type": "markdown",
   "source": [
    "#### + concatenation\n",
    "\n",
    "Often you will want to concatenate two sequences.  This can be done with the `+` operator.  This works for strings and all other sequences."
   ],
   "metadata": {
    "collapsed": false
   }
  },
  {
   "cell_type": "code",
   "execution_count": null,
   "outputs": [],
   "source": [
    "a = \"hello\"\n",
    "b = \" world\"\n",
    "print(a + b)\n",
    "\n",
    "c = [1, 2, 'a']\n",
    "d = [35, 46]\n",
    "print(c + d)"
   ],
   "metadata": {
    "collapsed": false,
    "pycharm": {
     "name": "#%%\n"
    }
   }
  },
  {
   "cell_type": "markdown",
   "source": [
    "Note that this does not work for different types.  You cannot `+` a string and an integer (later we will see that to do this we must first convert the integer to a string).  Nor can you `+ a string and a list, even though they are both sequence types.\n"
   ],
   "metadata": {
    "collapsed": false
   }
  },
  {
   "cell_type": "code",
   "execution_count": 63,
   "outputs": [
    {
     "ename": "TypeError",
     "evalue": "can only concatenate str (not \"int\") to str",
     "output_type": "error",
     "traceback": [
      "\u001B[0;31m---------------------------------------------------------------------------\u001B[0m",
      "\u001B[0;31mTypeError\u001B[0m                                 Traceback (most recent call last)",
      "\u001B[0;32m<ipython-input-63-04ead3aea7af>\u001B[0m in \u001B[0;36m<module>\u001B[0;34m\u001B[0m\n\u001B[0;32m----> 1\u001B[0;31m \u001B[0mprint\u001B[0m\u001B[0;34m(\u001B[0m\u001B[0;34m'boo'\u001B[0m \u001B[0;34m+\u001B[0m \u001B[0;36m3\u001B[0m\u001B[0;34m)\u001B[0m \u001B[0;31m# Error\u001B[0m\u001B[0;34m\u001B[0m\u001B[0;34m\u001B[0m\u001B[0m\n\u001B[0m",
      "\u001B[0;31mTypeError\u001B[0m: can only concatenate str (not \"int\") to str"
     ]
    }
   ],
   "source": [
    "print('boo' + 3) # TypeError"
   ],
   "metadata": {
    "collapsed": false,
    "pycharm": {
     "name": "#%%\n"
    }
   }
  },
  {
   "cell_type": "code",
   "execution_count": 64,
   "outputs": [
    {
     "ename": "TypeError",
     "evalue": "can only concatenate list (not \"str\") to list",
     "output_type": "error",
     "traceback": [
      "\u001B[0;31m---------------------------------------------------------------------------\u001B[0m",
      "\u001B[0;31mTypeError\u001B[0m                                 Traceback (most recent call last)",
      "\u001B[0;32m<ipython-input-64-b73338bfe5f7>\u001B[0m in \u001B[0;36m<module>\u001B[0;34m\u001B[0m\n\u001B[0;32m----> 1\u001B[0;31m \u001B[0mprint\u001B[0m\u001B[0;34m(\u001B[0m\u001B[0;34m[\u001B[0m\u001B[0;36m1\u001B[0m\u001B[0;34m,\u001B[0m \u001B[0;36m2\u001B[0m\u001B[0;34m,\u001B[0m \u001B[0;36m3\u001B[0m\u001B[0;34m]\u001B[0m \u001B[0;34m+\u001B[0m \u001B[0;34m'boo'\u001B[0m\u001B[0;34m)\u001B[0m \u001B[0;31m# Error\u001B[0m\u001B[0;34m\u001B[0m\u001B[0;34m\u001B[0m\u001B[0m\n\u001B[0m",
      "\u001B[0;31mTypeError\u001B[0m: can only concatenate list (not \"str\") to list"
     ]
    }
   ],
   "source": [
    "print([1, 2, 3] + 'boo') # TypeError"
   ],
   "metadata": {
    "collapsed": false,
    "pycharm": {
     "name": "#%%\n"
    }
   }
  },
  {
   "cell_type": "markdown",
   "source": [
    "##### * replication\n",
    "\n",
    "Relatedly, if string/sequence \"addition\" means concatenating the two strings, what might string \"multiplication\" be? Repeated concatenation!\n",
    "\n",
    "The operator `*` applied to a sequence (such as a string) and an integer `n` repeats the string/sequence `n` times."
   ],
   "metadata": {
    "collapsed": false,
    "pycharm": {
     "name": "#%% md\n"
    }
   }
  },
  {
   "cell_type": "code",
   "execution_count": 66,
   "outputs": [
    {
     "name": "stdout",
     "output_type": "stream",
     "text": [
      "Go Go Go Ole Ole Ole \n",
      "[1, 2, 1, 2, 1, 2, 1, 2, 1, 2]\n"
     ]
    }
   ],
   "source": [
    "print('Go '*3 + 'Ole '*3)\n",
    "print([1, 2]*5)"
   ],
   "metadata": {
    "collapsed": false,
    "pycharm": {
     "name": "#%%\n"
    }
   }
  },
  {
   "cell_type": "markdown",
   "source": [
    "(You cannot `*` two strings, or two sequences of any other type, or a sequence and a float)\n",
    "\n",
    "## Strings\n",
    "\n",
    "In addition to inheriting properties from the generic \"sequence\" type, strings have many of their own unique methods that are particularly helpful for dealing with text.\n",
    "\n",
    "### inserting variables into strings via concatenation\n",
    "\n",
    "We can use string concatenation to put variable values into strings.  For instance:"
   ],
   "metadata": {
    "collapsed": false,
    "pycharm": {
     "name": "#%% md\n"
    }
   }
  },
  {
   "cell_type": "code",
   "source": [
    "name = \"Bob\"\n",
    "age = 67\n",
    "print(\"Hello \" + name + \"!\")\n",
    "print(\"Your age is \" + str(age) + \".\")"
   ],
   "metadata": {
    "collapsed": false,
    "pycharm": {
     "name": "#%%\n"
    }
   },
   "execution_count": 11,
   "outputs": [
    {
     "name": "stdout",
     "output_type": "stream",
     "text": [
      "Hello Bob!\n",
      "Your age is 67.\n"
     ]
    }
   ]
  },
  {
   "cell_type": "markdown",
   "source": [
    "Note two things about the code above:\n",
    "- because age is an integer, not a string, we have to convert it into a string\n",
    "first before we can use `+` concatenation to it. After all `+` applied to integers means something\n",
    "completely different than `+` applied to strings, so we have to make sure we are doing the right thing. (If we try to `+` a string and an integer, we get a TypeError.)\n",
    "- It is a bit ugly, there are all these quotes and `+` signs scattered about. There is a better way"
   ],
   "metadata": {
    "collapsed": false
   }
  },
  {
   "cell_type": "code",
   "execution_count": 12,
   "outputs": [
    {
     "ename": "TypeError",
     "evalue": "unsupported operand type(s) for +: 'int' and 'str'",
     "output_type": "error",
     "traceback": [
      "\u001B[0;31m---------------------------------------------------------------------------\u001B[0m",
      "\u001B[0;31mTypeError\u001B[0m                                 Traceback (most recent call last)",
      "\u001B[0;32m<ipython-input-12-68f357c3c37d>\u001B[0m in \u001B[0;36m<module>\u001B[0;34m\u001B[0m\n\u001B[0;32m----> 1\u001B[0;31m \u001B[0mage\u001B[0m \u001B[0;34m=\u001B[0m \u001B[0;36m67\u001B[0m \u001B[0;34m+\u001B[0m \u001B[0;34m'years'\u001B[0m\u001B[0;34m\u001B[0m\u001B[0;34m\u001B[0m\u001B[0m\n\u001B[0m",
      "\u001B[0;31mTypeError\u001B[0m: unsupported operand type(s) for +: 'int' and 'str'"
     ]
    }
   ],
   "source": [
    "67 + 'years'"
   ],
   "metadata": {
    "collapsed": false,
    "pycharm": {
     "name": "#%%\n"
    }
   }
  },
  {
   "cell_type": "markdown",
   "source": [
    "### inserting variables into strings via f-strings\n",
    "\n",
    "f-strings, or formatted strings, are a special kind of string that allows for a nice way to\n",
    "include variables inside a string.  An f-string is defined with the special string notation: (`f''`)\n",
    "For instance, the example above can be written more elegantly with f-strings:"
   ],
   "metadata": {
    "collapsed": false
   }
  },
  {
   "cell_type": "code",
   "execution_count": 13,
   "outputs": [
    {
     "name": "stdout",
     "output_type": "stream",
     "text": [
      "Hello Bob!\n",
      "Your age is 67.\n"
     ]
    }
   ],
   "source": [
    "name = \"Bob\"\n",
    "age = 67\n",
    "print(f'Hello {name}!')\n",
    "print(f\"Your age is {age}.\")"
   ],
   "metadata": {
    "collapsed": false,
    "pycharm": {
     "name": "#%%\n"
    }
   }
  },
  {
   "cell_type": "markdown",
   "source": [
    "Note that the f strings look much tidier, and also do the conversion of different data types into strings for you.\n",
    "\n",
    "There are lots of details about how to refine formatting inside the f-string\n",
    "(e.g., how many decimals to print in a float? pad a string with space? etc.)\n",
    "But for now we can just use them as a tidy way of sticking variables into strings.\n",
    "\n",
    "### String methods\n",
    "\n",
    "Everything in python is an object, and strings are no exception. What it means for strings to be objects, is that each string has *methods* defined by the string class.  For an exhaustive list, and explanations, look at the [python string documentation](https://docs.python.org/3/library/stdtypes.html#string-methods).\n",
    "\n",
    "#### String modification methods\n",
    "\n",
    "These methods are many, but a few helpful ones alter the string in various common ways:\n",
    "- `'string'.lower()` converts it to lower case\n",
    "- `'string'.upper()` converts to upper case\n",
    "- `'string'.replace(old,new)` replaces every instance of the string stored in the parameter `old` with a copy of the `new` string.\n",
    "\n",
    "Note that I use the f-string shortcut f'{var=}' which prints \"var='contents of var'\", so we can easily see what each line below is doing."
   ],
   "metadata": {
    "collapsed": false
   }
  },
  {
   "cell_type": "code",
   "execution_count": 67,
   "outputs": [
    {
     "name": "stdout",
     "output_type": "stream",
     "text": [
      "sentence='When angry it helps to WRITE IN ALL CAPS!'\n",
      "sentence.lower()='when angry it helps to write in all caps!'\n",
      "sentence.upper()='WHEN ANGRY IT HELPS TO WRITE IN ALL CAPS!'\n",
      "sentence.title()='When Angry It Helps To Write In All Caps!'\n",
      "sentence.replace(\"angry\", \"excited\")='When excited it helps to WRITE IN ALL CAPS!'\n"
     ]
    }
   ],
   "source": [
    "sentence = 'When angry it helps to WRITE IN ALL CAPS!'\n",
    "print(f'{sentence=}')\n",
    "print(f'{sentence.lower()=}')\n",
    "print(f'{sentence.upper()=}')\n",
    "print(f'{sentence.title()=}')\n",
    "print(f'{sentence.replace(\"angry\", \"excited\")=}')"
   ],
   "metadata": {
    "collapsed": false,
    "pycharm": {
     "name": "#%%\n"
    }
   }
  },
  {
   "cell_type": "markdown",
   "source": [
    "Note that strings are **immutable**, so any method that changes a string does not change the existing string, but instead makes a new, altered string."
   ],
   "metadata": {
    "collapsed": false
   }
  },
  {
   "cell_type": "code",
   "execution_count": 68,
   "outputs": [
    {
     "name": "stdout",
     "output_type": "stream",
     "text": [
      "when angry it helps to write in all caps!\n",
      "When angry it helps to WRITE IN ALL CAPS!\n",
      "when angry it helps to write in all caps!\n"
     ]
    }
   ],
   "source": [
    "sentence = 'When angry it helps to WRITE IN ALL CAPS!'\n",
    "print(sentence.lower())\n",
    "print(sentence) # original not changed!\n",
    "sentence = sentence.lower() # to change it, we have to overwrite it\n",
    "print(sentence)"
   ],
   "metadata": {
    "collapsed": false,
    "pycharm": {
     "name": "#%%\n"
    }
   }
  },
  {
   "cell_type": "markdown",
   "source": [
    "#### String evaluation methods\n",
    "\n",
    "There is also a large family of string evaluation methods of the form `'string'.isXXX()` where\n",
    "XXX is something you might care about.  For instance\n",
    "- `.isdigit()` returns True if a string is composed  entirely of digits {0...9}.\n",
    "- `.isalpha()` returns  True if a string is composed entirely of alphabetic letters {a-zA-Z}.\n",
    "\n",
    "## Lists\n",
    "\n",
    "Lists are **mutable** sequences, so they have a number of methods for modifying the list \"in place\".  Which means that the method changes the existing list, rather than creates a new list with the change made (the only way to change immutable sequences, like strings).\n",
    "\n",
    "### growing a list in place\n",
    "\n",
    "You could make a new list by concatenating two existing lists via `+`.  However, usually it is more efficient to add onto an existing list, rather than create a new, larger list.  This can be done via append and extend which change the list in place, and do not return anything:\n",
    "\n",
    "- `list_1.append(item)` adds the item to the end of list_1.\n",
    "- `list_1.extend(list_2)` adds the items in list_2 to the end of list_1"
   ],
   "metadata": {
    "collapsed": false
   }
  },
  {
   "cell_type": "code",
   "execution_count": 71,
   "outputs": [
    {
     "name": "stdout",
     "output_type": "stream",
     "text": [
      "[1, 2, 'e', 3]\n",
      "[1, 2, 'e', 3, 'pi']\n",
      "[1, 2, 'e', 3, 'pi', 4, 5, 6]\n"
     ]
    }
   ],
   "source": [
    "my_list = [1, 2, 'e', 3, ]\n",
    "print(my_list)\n",
    "my_list.append('pi')\n",
    "print(my_list)\n",
    "my_list.extend([4, 5, 6])\n",
    "print(my_list)"
   ],
   "metadata": {
    "collapsed": false,
    "pycharm": {
     "name": "#%%\n"
    }
   }
  },
  {
   "cell_type": "markdown",
   "source": [
    "### shrinking a list in place\n",
    "\n",
    "You can make a new, subset of a list via slicing.  But sometimes that is cumbersome, and the creation of a new list is inefficient.  Alternatively, we can modify the list in place via `pop` and `remove`.\n",
    "\n",
    "- `list_1.pop(idx)` returns the element at index `idx` and also removes that element from the list.\n",
    "- `list_1.remove(item)` removes the first occurrence of `item` from the list, i.e., it removes the first element that has the same value as `item`."
   ],
   "metadata": {
    "collapsed": false,
    "pycharm": {
     "name": "#%% md\n"
    }
   }
  },
  {
   "cell_type": "code",
   "execution_count": 75,
   "outputs": [
    {
     "name": "stdout",
     "output_type": "stream",
     "text": [
      "green\n",
      "['red', 'blue', 'tomato', 'tomato', 'tomato', 'purple']\n",
      "['red', 'blue', 'tomato', 'tomato', 'purple']\n"
     ]
    }
   ],
   "source": [
    "my_list = ['red', 'blue', 'green', 'tomato', 'tomato', 'tomato', 'purple']\n",
    "item = my_list.pop(2) # assigns 'green' (index 2!) to item, and removes it from the list\n",
    "print(item)\n",
    "print(my_list)\n",
    "my_list.remove('tomato') # removes the first 'tomato'\n",
    "print(my_list)\n",
    "\n",
    "\n"
   ],
   "metadata": {
    "collapsed": false,
    "pycharm": {
     "name": "#%%\n"
    }
   }
  }
 ],
 "metadata": {
  "kernelspec": {
   "display_name": "Python 3",
   "language": "python",
   "name": "python3"
  },
  "language_info": {
   "codemirror_mode": {
    "name": "ipython",
    "version": 2
   },
   "file_extension": ".py",
   "mimetype": "text/x-python",
   "name": "python",
   "nbconvert_exporter": "python",
   "pygments_lexer": "ipython2",
   "version": "2.7.6"
  }
 },
 "nbformat": 4,
 "nbformat_minor": 0
}