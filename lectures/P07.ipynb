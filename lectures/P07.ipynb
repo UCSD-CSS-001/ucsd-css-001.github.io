{
 "cells": [
  {
   "cell_type": "markdown",
   "metadata": {
    "collapsed": true,
    "pycharm": {
     "name": "#%% md\n"
    }
   },
   "source": [
    "# P07: data tables and pandas\n",
    "\n",
    "## Concepts\n",
    "\n",
    "### Modules / libraries\n",
    "\n",
    "### data tables\n",
    "\n",
    "### Operations on data tables\n",
    "\n",
    "## Python\n",
    "\n",
    "### libraries\n",
    "\n",
    "import, as, from .. import .. as ..\n",
    "\n",
    "### pandas\n",
    "\n",
    "Series\n",
    "\n",
    "data frame\n",
    "\n",
    "slicing/indexing: [], .loc[,], .iloc[,],\n",
    "\n",
    "selecting, filtering, summarizing, grouping\n",
    "\n",
    "\n"
   ]
  }
 ],
 "metadata": {
  "kernelspec": {
   "display_name": "Python 3",
   "language": "python",
   "name": "python3"
  },
  "language_info": {
   "codemirror_mode": {
    "name": "ipython",
    "version": 2
   },
   "file_extension": ".py",
   "mimetype": "text/x-python",
   "name": "python",
   "nbconvert_exporter": "python",
   "pygments_lexer": "ipython2",
   "version": "2.7.6"
  }
 },
 "nbformat": 4,
 "nbformat_minor": 0
}