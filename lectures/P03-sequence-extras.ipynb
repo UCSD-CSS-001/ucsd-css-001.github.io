{
 "cells": [
  {
   "cell_type": "markdown",
   "source": [
    "\n",
    "## Sequences and indexing\n",
    "\n",
    "We have seen string types before, but strings are a special kind of \"sequence\" data type.  Specifically, a string is a sequence of characters.  Sequences are a list of many objects of the same type."
   ],
   "metadata": {
    "collapsed": false,
    "pycharm": {
     "name": "#%% md\n"
    }
   }
  },
  {
   "cell_type": "code",
   "execution_count": 1,
   "outputs": [],
   "source": [
    "sentence = 'This is a sentence about string sequences!'"
   ],
   "metadata": {
    "collapsed": false,
    "pycharm": {
     "name": "#%%\n"
    }
   }
  },
  {
   "cell_type": "markdown",
   "source": [
    "The string stored in `sentence` is represented as a sequence of characters.  We can get the *length* of that sequence using the `len()` function:"
   ],
   "metadata": {
    "collapsed": false
   }
  },
  {
   "cell_type": "code",
   "execution_count": null,
   "outputs": [],
   "source": [
    "len(sentence)"
   ],
   "metadata": {
    "collapsed": false,
    "pycharm": {
     "name": "#%%\n"
    }
   }
  },
  {
   "cell_type": "markdown",
   "source": [
    "### Indexing\n",
    "\n",
    "We can pull out elements of that sequence by indexing and slicing.\n",
    "Python has 0-indexed lists, which means that the first element has the index of 0, and the last element has an index of `len(x)-1`"
   ],
   "metadata": {
    "collapsed": false
   }
  },
  {
   "cell_type": "code",
   "execution_count": null,
   "outputs": [],
   "source": [
    "sentence[0]"
   ],
   "metadata": {
    "collapsed": false,
    "pycharm": {
     "name": "#%%\n"
    }
   }
  },
  {
   "cell_type": "markdown",
   "source": [
    "We can pull out any letter by referring to its index.  For instance, the 6th letter of the string ('i' in 'is') has the index 5:"
   ],
   "metadata": {
    "collapsed": false
   }
  },
  {
   "cell_type": "code",
   "execution_count": null,
   "outputs": [],
   "source": [
    "sentence[5]"
   ],
   "metadata": {
    "collapsed": false,
    "pycharm": {
     "name": "#%%\n"
    }
   }
  },
  {
   "cell_type": "markdown",
   "source": [
    "The last element of the sequence has an index of `len(x)-1`:"
   ],
   "metadata": {
    "collapsed": false
   }
  },
  {
   "cell_type": "code",
   "execution_count": null,
   "outputs": [],
   "source": [
    "sentence[len(sentence)-1]"
   ],
   "metadata": {
    "collapsed": false,
    "pycharm": {
     "name": "#%%\n"
    }
   }
  },
  {
   "cell_type": "markdown",
   "source": [
    "But we can also refer to it with the helpful shortcut of `-1`.  In general, we can refer to elements by indexing from the beginning (starting with 0), or indexing from the end, starting with -1."
   ],
   "metadata": {
    "collapsed": false
   }
  },
  {
   "cell_type": "code",
   "execution_count": null,
   "outputs": [],
   "source": [
    "sentence[-1]"
   ],
   "metadata": {
    "collapsed": false,
    "pycharm": {
     "name": "#%%\n"
    }
   }
  },
  {
   "cell_type": "markdown",
   "source": [
    "### Slicing\n",
    "\n",
    "We often want to pull out multiple elements of a sequence, for instance, maybe we want all the characters between the 6th ('i') and 12th (first 'e' in 'sentence').  We can do this with the slicing notation `5:12`."
   ],
   "metadata": {
    "collapsed": false
   }
  },
  {
   "cell_type": "code",
   "execution_count": null,
   "outputs": [],
   "source": [
    "sentence[5:12]"
   ],
   "metadata": {
    "collapsed": false,
    "pycharm": {
     "name": "#%%\n"
    }
   }
  },
  {
   "cell_type": "markdown",
   "source": [
    "Note that this slicing notation includes the first index (5) through the second index -1 (i.e., it pulls out index 5, 6, 7, 8, 9, 10, and 11, but not 12).  This is convenient because `0:len(x)` will yield the full sequence.  It is also useful that the number of elements in the slice defined by `start:stop` is equal to `stop-slice` (because `stop` defines the first element that is *not* included)"
   ],
   "metadata": {
    "collapsed": false
   }
  },
  {
   "cell_type": "markdown",
   "source": [
    "#### Slice step\n",
    "\n",
    "When slicing, we can also specify a 3rd argument, indicating how to increment the indices we include.  By default (when it is omitted) this value is 1.\n",
    "\n",
    "The full way of writing out our slicing is `5:12:1` (which yields the indices `[5, 6, 7, 8, 9, 10, 11]`).\n",
    "\n",
    "However, we could also replace the default of `1` with something else:\n",
    "\n",
    "`5:12:2` will yield the indices `[5, 7, 9, 11]` -- every other letter."
   ],
   "metadata": {
    "collapsed": false
   }
  },
  {
   "cell_type": "code",
   "execution_count": null,
   "outputs": [],
   "source": [
    "sentence[5:12:2]"
   ],
   "metadata": {
    "collapsed": false,
    "pycharm": {
     "name": "#%%\n"
    }
   }
  },
  {
   "cell_type": "markdown",
   "source": [
    "We can also increment in reverse.  But note that the second bound is still excluded, so we get slightly different behavior:\n",
    "\n",
    "`5:12:1` yields `[5, 6, 7, 8, 9, 10, 11]`  while\n",
    "`12:5:-1` yields `[12, 11, 10, 9, 8, 7, 6]`."
   ],
   "metadata": {
    "collapsed": false
   }
  },
  {
   "cell_type": "code",
   "execution_count": null,
   "outputs": [],
   "source": [
    "sentence[12:5:-1]"
   ],
   "metadata": {
    "collapsed": false,
    "pycharm": {
     "name": "#%%\n"
    }
   }
  },
  {
   "cell_type": "markdown",
   "source": [
    "#### Implicit start and stop.\n",
    "\n",
    "The general slice syntax is `start:stop:step` which will return indices from `start` to `stop-1` incrementing by `step`.\n",
    "\n",
    "If we are being completely explicit, slicing to get the full sequence would mean writing out: `0:len(x):1`.\n",
    "But all of these arguments are the defaults for their respective positions.\n",
    "Consequently, an equivalent statement is `0:len(x)` (as we saw above, because if `step` is omitted, Python uses the default of 1).\n",
    "Likewise, `0` is the default start argument.  Consequently `:len(x)` is equivalent.\n",
    "Furthermore, `len(x)` is the default stop argument.  So `:` is equivalent."
   ],
   "metadata": {
    "collapsed": false
   }
  },
  {
   "cell_type": "code",
   "execution_count": null,
   "outputs": [],
   "source": [
    "sentence[0:len(sentence):1]"
   ],
   "metadata": {
    "collapsed": false,
    "pycharm": {
     "name": "#%%\n"
    }
   }
  },
  {
   "cell_type": "code",
   "execution_count": null,
   "outputs": [],
   "source": [
    "sentence[:len(sentence):]"
   ],
   "metadata": {
    "collapsed": false,
    "pycharm": {
     "name": "#%%\n"
    }
   }
  },
  {
   "cell_type": "code",
   "execution_count": null,
   "outputs": [],
   "source": [
    "sentence[0:]"
   ],
   "metadata": {
    "collapsed": false,
    "pycharm": {
     "name": "#%%\n"
    }
   }
  },
  {
   "cell_type": "code",
   "execution_count": null,
   "outputs": [],
   "source": [
    "sentence[:]"
   ],
   "metadata": {
    "collapsed": false,
    "pycharm": {
     "name": "#%%\n"
    }
   }
  },
  {
   "cell_type": "markdown",
   "source": [
    "\n",
    "In general it is customary to omit default arguments, so you will often see slicing like the following:\n",
    "`a[:5]`: get the first 5 elements of `a` (indices 0, 1, 2, 3, 4)\n",
    "`a[5:]`: get all the elements starting from 5 through the end.\n",
    "`a[:-3]`: get all the elements from the start until the 4th to last element.\n",
    "`a[-3:]`: get the last 3 elements"
   ],
   "metadata": {
    "collapsed": false
   }
  },
  {
   "cell_type": "code",
   "execution_count": null,
   "outputs": [],
   "source": [
    "sentence[:-3]"
   ],
   "metadata": {
    "collapsed": false,
    "pycharm": {
     "name": "#%%\n"
    }
   }
  },
  {
   "cell_type": "markdown",
   "source": [
    "This also means that an easy way to reverse a sequence is to just index it with a step size of -1\""
   ],
   "metadata": {
    "collapsed": false
   }
  },
  {
   "cell_type": "code",
   "execution_count": null,
   "outputs": [],
   "source": [
    "sentence[::-1]"
   ],
   "metadata": {
    "collapsed": false,
    "pycharm": {
     "name": "#%%\n"
    }
   }
  },
  {
   "cell_type": "markdown",
   "source": [
    "## for loops\n",
    "\n",
    "Given that we have a sequence, we might want to iterate through it, and do something to each element.  To accomplish this, we will use the `for` loop control structure:\n",
    "\n",
    "`for x in iterable:\n",
    "    do stuff\n",
    "    fo more stuff\n",
    "`"
   ],
   "metadata": {
    "collapsed": false
   }
  },
  {
   "cell_type": "code",
   "execution_count": 2,
   "outputs": [
    {
     "name": "stdout",
     "output_type": "stream",
     "text": [
      "T\n",
      "h\n",
      "i\n",
      "s\n",
      " \n",
      "i\n",
      "s\n",
      " \n",
      "a\n",
      " \n",
      "s\n",
      "e\n",
      "n\n",
      "t\n",
      "e\n",
      "n\n",
      "c\n",
      "e\n",
      " \n",
      "a\n",
      "b\n",
      "o\n",
      "u\n",
      "t\n",
      " \n",
      "s\n",
      "t\n",
      "r\n",
      "i\n",
      "n\n",
      "g\n",
      " \n",
      "s\n",
      "e\n",
      "q\n",
      "u\n",
      "e\n",
      "n\n",
      "c\n",
      "e\n",
      "s\n",
      "!\n"
     ]
    }
   ],
   "source": [
    "for letter in sentence:\n",
    "    print(letter)"
   ],
   "metadata": {
    "collapsed": false,
    "pycharm": {
     "name": "#%%\n"
    }
   }
  },
  {
   "cell_type": "markdown",
   "source": [
    "What this notation is doing is generating a \"loop\", which iterates over all the elements in `sentence`.  On each iteration it assigns the next item from the sentence sequence to `letter`, and then executes the for loop code block (indicating by indentation).  Basically, this prints each letter in the sentence, one at a time.   But we could do a number of other things"
   ],
   "metadata": {
    "collapsed": false
   }
  },
  {
   "cell_type": "markdown",
   "source": [
    "#### Caesar cipher\n",
    "\n",
    "Here we will do some (really primitive) encryption with a \"[Caeser cipher](https://en.wikipedia.org/wiki/Caesar_cipher)\", or \"shift cipher\" -- basically a glorified encoder/decoder ring.  We will encrypt our sentence using a particular shift key."
   ],
   "metadata": {
    "collapsed": false
   }
  },
  {
   "cell_type": "code",
   "execution_count": 3,
   "outputs": [
    {
     "name": "stdout",
     "output_type": "stream",
     "text": [
      "k!\",7\",7x7,|'-|'z|7xy(.-7,-+\"' 7,|*.|'z|,8\n"
     ]
    }
   ],
   "source": [
    "utf_min = 32\n",
    "utf_range = 126 - utf_min\n",
    "shift = 5465465\n",
    "\n",
    "encrypted = ''\n",
    "\n",
    "for letter in sentence:\n",
    "    encrypted += chr(((ord(letter) - utf_min + shift) % utf_range) + utf_min)\n",
    "\n",
    "print(encrypted)"
   ],
   "metadata": {
    "collapsed": false,
    "pycharm": {
     "name": "#%%\n"
    }
   }
  },
  {
   "cell_type": "markdown",
   "source": [
    "The core of this little program is the body of this for loop:\n",
    "\n",
    "`for letter in sentence:\n",
    "    encrypted += chr(((ord(letter) - utf_min + shift) % utf_range) + utf_min)`\n",
    "\n",
    "At an abstract level, what this is doing is, taking each letter from the string sequence `sentence` one at a time.  For each letter it:\n",
    "\n",
    "1. use the `ord()` command to obtain the utf-8 integer associated with that letter (see table [here](https://www.utf8-chartable.de/unicode-utf8-table.pl?utf8=dec)).\n",
    "1. add a constant offset (our encryption shift key) to that letter, then take the modulus of the sum to obtain an integer into one of the printable utf-8 characters (32 through 126 in that table)\n",
    "1. use the `chr()` command to obtain the character associated with that new, shifted integer.\n",
    "1. concatenate the new encoded character to the string `encoded` using the `+=` assignment operator."
   ],
   "metadata": {
    "collapsed": false
   }
  },
  {
   "cell_type": "markdown",
   "source": [
    "To really sort out how this works, let's break down that one line:\n",
    "\n",
    "`encrypted += chr(((ord(letter) - utf_min + shift) % utf_range) + utf_min)`\n",
    "\n",
    "The basic thing being done in this line is incrementally adding to `encrypted`:\n",
    "`encrypted += X`\n",
    "so on each iteration of the loop, we will add something to the `encrypted` string.\n",
    "\n",
    "What will we add?  X:\n",
    "`chr(((ord(letter) - utf_min + shift) % utf_range) + utf_min)`\n",
    "which we can break apart into:\n",
    "`chr(Y)`\n",
    "so on each iteration we will add some character, specified by the integer Y.\n",
    "\n",
    "What is that integer?\n",
    "`((ord(letter) - utf_min + shift) % utf_range) + utf_min`\n",
    "which we can break apart into more manageable chunks:\n",
    "`(Z % utf_range) + utf_min`\n",
    "we will take some other integer, calculate its modulus with respect to the range of printable utf characters, and then add an offset.  This particular pattern means that whatever integer `Z` starts off as, the particular transformation will yield an integer between 32 (`utf_min`) and 126 (`utf_min + utf_range`).\n",
    "Basically, this code is taking some integer, and via the modulus operation, projecting it onto the range of printable utf characters.\n",
    "\n",
    "What is the integer that we project onto the range of printable utf characters?\n",
    "`ord(letter) - utf_min + shift`\n",
    "This is the integer encording of the original letter (`ord(letter)`) minus the lower bound of the printable utf range, plus an offset shift, which is our secret key.\n",
    "\n",
    "To figure out what this code will do we have to work from the innermost execution, outward: consider the first letter of our string (`T`, when `encrypted=''`):\n",
    "`ord('T')` -> 84\n",
    "`(84 - utf_min + shift)` -> 5465517 (given our offset key of 5465465)\n",
    "`(5465517 % utf_range)` -> 75\n",
    "`75 + utf_min` -> 107\n",
    "`chr(107)` -> 'k'\n",
    "`encrypted += 'k'` ->  encrypted now = '' + 'k' (or just 'k')\n",
    "\n",
    "We will do this for every letter, and incrementally concatenate them to the `encrypted` variable.\n",
    "\n",
    "Below, we write this out again, but we unpack the line that'd doing all the work.  This is not very efficient (since we are creating a lot of unused variables), but it is much easier to read"
   ],
   "metadata": {
    "collapsed": false
   }
  },
  {
   "cell_type": "code",
   "execution_count": null,
   "outputs": [],
   "source": [
    "encrypted = ''\n",
    "\n",
    "for letter in sentence:\n",
    "    # get the utf-8 integer associated with the letter\n",
    "    letter_integer = ord(letter)\n",
    "    # add cipher shift (and subtract printable character min integer)\n",
    "    shifted_letter_integer = letter_integer - utf_min + shift\n",
    "    # rescale shifted integer to integer range corresponding to printable utf characters\n",
    "    new_letter_integer = (shifted_letter_integer % utf_range) + utf_min\n",
    "    # get the character representation associated with that new integer\n",
    "    new_letter = chr(new_letter_integer)\n",
    "    # append new letter to encrypted string\n",
    "    encrypted += new_letter\n",
    "\n",
    "print(encrypted)"
   ],
   "metadata": {
    "collapsed": false,
    "pycharm": {
     "name": "#%%\n"
    }
   }
  },
  {
   "cell_type": "markdown",
   "source": [
    "Finally, we can flip the offset sign to reverse our shift and extract the original text from the encrypted string."
   ],
   "metadata": {
    "collapsed": false
   }
  },
  {
   "cell_type": "code",
   "execution_count": 4,
   "outputs": [
    {
     "name": "stdout",
     "output_type": "stream",
     "text": [
      "This is a sentence about string sequences!\n"
     ]
    }
   ],
   "source": [
    "decrypted = ''\n",
    "\n",
    "for letter in encrypted:\n",
    "    decrypted += chr(((ord(letter) - utf_min - shift) % utf_range) + utf_min)\n",
    "\n",
    "print(decrypted)"
   ],
   "metadata": {
    "collapsed": false,
    "pycharm": {
     "name": "#%%\n"
    }
   }
  },
  {
   "cell_type": "markdown",
   "source": [
    "## Lists\n",
    "\n",
    "We have dealt with strings, but a list is a more general type of sequence.  We can create a list with square brackets:"
   ],
   "metadata": {
    "collapsed": false
   }
  },
  {
   "cell_type": "code",
   "execution_count": null,
   "outputs": [],
   "source": [
    "x = [6, 12, 34, 22, 10]"
   ],
   "metadata": {
    "collapsed": false,
    "pycharm": {
     "name": "#%%\n"
    }
   }
  },
  {
   "cell_type": "code",
   "execution_count": null,
   "outputs": [],
   "source": [
    "print(x)"
   ],
   "metadata": {
    "collapsed": false,
    "pycharm": {
     "name": "#%%\n"
    }
   }
  },
  {
   "cell_type": "markdown",
   "source": [
    "`x` is now a list of integers, and we can index and slice it the same way we did to a string (list of characters)."
   ],
   "metadata": {
    "collapsed": false
   }
  },
  {
   "cell_type": "code",
   "execution_count": null,
   "outputs": [],
   "source": [
    "x[2]"
   ],
   "metadata": {
    "collapsed": false,
    "pycharm": {
     "name": "#%%\n"
    }
   }
  },
  {
   "cell_type": "code",
   "execution_count": null,
   "outputs": [],
   "source": [
    "x[-3:]"
   ],
   "metadata": {
    "collapsed": false,
    "pycharm": {
     "name": "#%%\n"
    }
   }
  },
  {
   "cell_type": "markdown",
   "source": [
    "## Fibonacci variants\n",
    "\n",
    "The fibonacci sequence starts with 0, 1, and then every subsequent number is the sum of the preceding two.  So $x_i = x_{i-1} + x_{i-2}$.  Let's write something that prints out the first 20 fibonacci sequence numbers."
   ],
   "metadata": {
    "collapsed": false
   }
  },
  {
   "cell_type": "markdown",
   "source": [
    "### While loop\n",
    "\n",
    "First, let's do this via a while loop, and no lists"
   ],
   "metadata": {
    "collapsed": false
   }
  },
  {
   "cell_type": "code",
   "execution_count": null,
   "outputs": [],
   "source": [
    "a, b = 0, 1\n",
    "print(a, b, sep='\\n')\n",
    "i = 2\n",
    "while(i < 20):\n",
    "    a, b = b, (a+b)\n",
    "    print(b)\n",
    "    i += 1\n"
   ],
   "metadata": {
    "collapsed": false,
    "pycharm": {
     "name": "#%%\n"
    }
   }
  },
  {
   "cell_type": "markdown",
   "source": [
    "Here we have introduced two new maneuver:\n",
    "\n",
    "`print(a,b,sep='\\n')` passing multiple items to print via the comma allows us to print many variables at once.  the named `sep` argument tells Python what to print to separate the different items listed.  the string `'\\n'` is a special \"escape character\" that means \"newline\".  So the command as a whole tells Python to print a, and b, and to separate them with a new line.\n",
    "\n",
    "\n",
    "`a,b = c,d` what this does is do multiple assignment simultaneously.  The sequence of operations Python undertakes are: evalute c, evaluate d, assign c to a and d to b.  This sequence of operations means that we can easily reassign variables, via a move like `a,b = b,a`.  Without this syntax, we would need to create a temporary variable to ensure that all information is preserved:\n",
    "`tmp = a\n",
    "a = b\n",
    "b = tmp`\n",
    "\n",
    "Although the specific `a,b = c,d` syntax is fairly straight-forward, the algorithm as a whole might require some explanation:\n",
    "we start with a=0, b=1 -- the first two items of the sequence.\n",
    "the line `a, b = b, (a+b)` does three things simultaneously:\n",
    "- calculates the next item in the sequence `(a+b)`,\n",
    "- assigns the previous value of `b` to `a`,\n",
    "- assigns the next item in the sequence to `b`.\n",
    "thus, on the first pass through the body of the while loop, we end up with a=1, b=1.\n",
    "On the second pass, we end up with a=1, b=2.\n",
    "\n",
    "After each pass, the current item in the sequence is stored in the variable `b`.\n"
   ],
   "metadata": {
    "collapsed": false
   }
  },
  {
   "cell_type": "markdown",
   "source": [
    "### for loop, lists\n",
    "\n",
    "now, let's do this using a for loop, and construct a list of the first 20 numbers."
   ],
   "metadata": {
    "collapsed": false
   }
  },
  {
   "cell_type": "code",
   "execution_count": null,
   "outputs": [],
   "source": [
    "fib = [0, 1]\n",
    "\n",
    "for idx in range(2, 20):\n",
    "    fib += [ fib[idx-2] + fib[idx-1] ]\n",
    "\n",
    "print(fib)"
   ],
   "metadata": {
    "collapsed": false,
    "pycharm": {
     "name": "#%%\n"
    }
   }
  },
  {
   "cell_type": "markdown",
   "source": [
    "Here we have introduced a few new maneuvers:\n",
    "\n",
    "`range(start, stop, step)` creates an iterable sequence of numbers, and works just like the slice notation we had previously used.   So the very common command `for i in range(start,stop):` iterates for all values of idx from `start` to `stop-1`.\n",
    "\n",
    "`list1 += list2` appends list2 to list1, so that if list1=[1, 2, 3], and list2=[4, 5, 6], after the line shown list1 will be [1, 2, 3, 4, 5, 6].  In our case, we calculate the current list item by summing the two prior list items, and then we append that item to the list.\n",
    "\n",
    "\n",
    "\n",
    "## While loops\n",
    "\n",
    "The next control structure we ought to master is the `while` loop.  A while loop is a block of code with a condition, and that block of code is executed over and over and over again  so long as the condition is satisfied.  While loops create an opportunity for an infinite loop.  If you are using a while loop and your code is running for a long time, try to think through when you expect the while condition to turn false, and why it may not be doing so."
   ],
   "metadata": {
    "collapsed": false
   }
  },
  {
   "cell_type": "code",
   "execution_count": null,
   "outputs": [],
   "source": [
    "x = 0\n",
    "\n",
    "while x < 10:\n",
    "    print(x)\n",
    "    x = x + 1"
   ],
   "metadata": {
    "collapsed": false,
    "pycharm": {
     "name": "#%%\n"
    }
   }
  },
  {
   "cell_type": "markdown",
   "source": [
    "**Note** here we are using the `+=` assignment operator, which is a convenient shorthand.  `A += B` is equivalent to writing `A = A + B`.  Because this kind of operation -- increment the value of a variable, and assign it back to the variable -- is so common, python has a whole bunch of similar shortcut operators: `+=`, `-=`, `*=`, `/=`, `**=`, `%=`."
   ],
   "metadata": {
    "collapsed": false
   }
  },
  {
   "cell_type": "markdown",
   "source": [],
   "metadata": {
    "collapsed": false,
    "pycharm": {
     "name": "#%% md\n"
    }
   }
  }
 ],
 "metadata": {
  "kernelspec": {
   "display_name": "Python 3",
   "language": "python",
   "name": "python3"
  },
  "language_info": {
   "codemirror_mode": {
    "name": "ipython",
    "version": 2
   },
   "file_extension": ".py",
   "mimetype": "text/x-python",
   "name": "python",
   "nbconvert_exporter": "python",
   "pygments_lexer": "ipython2",
   "version": "2.7.6"
  }
 },
 "nbformat": 4,
 "nbformat_minor": 0
}