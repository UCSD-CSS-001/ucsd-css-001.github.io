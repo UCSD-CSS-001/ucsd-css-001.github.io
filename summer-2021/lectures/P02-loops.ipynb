{
 "cells": [
  {
   "cell_type": "markdown",
   "source": [
    "# P02: Loops!\n",
    "\n",
    "Loops are a control structure that allows repeated execution of the same instructions.  The canonical loop is a `while` loop.  It checks if a condition is met, and executes its code block if it is met.  If the condition is not met, it proceeds to the instructions following its code block.  All loops basically have this structure, however, some are a bit more convenient, and less error prone than while loops.  In particular `for` loops are a great convenience which we will cover here.\n",
    "\n",
    "Here is a picture of the loop control flow:\n",
    "\n",
    "![loop](img/loop-flow.jpg)"
   ],
   "metadata": {
    "collapsed": false
   }
  },
  {
   "cell_type": "markdown",
   "source": [
    "## Lists\n",
    "\n",
    "So far we have dealt with *atomic* data types.  We will also want to work with compound data types that contain lots of things.  The most common compound data type in Python is a **list**.  A list is a **sequence** of objects, which can be created with square brackets: `[1, 2, 3]`."
   ],
   "metadata": {
    "collapsed": false
   }
  },
  {
   "cell_type": "code",
   "execution_count": null,
   "outputs": [],
   "source": [
    "my_list = [1, 2, 'a', 3]\n",
    "print(my_list)"
   ],
   "metadata": {
    "collapsed": false,
    "pycharm": {
     "name": "#%%\n"
    }
   }
  },
  {
   "cell_type": "markdown",
   "source": [
    "we will talk much more about lists and sequences later, but for the sake of this week's problem set, we need to learn how to *add* items to a list, and how to *loop* through a list.\n",
    "\n",
    "### adding to a list\n",
    "\n",
    "We can add to an existing list with the `.append()` method."
   ],
   "metadata": {
    "collapsed": false
   }
  },
  {
   "cell_type": "code",
   "execution_count": null,
   "outputs": [],
   "source": [
    "print(my_list)\n",
    "my_list.append('cow')\n",
    "print(my_list)"
   ],
   "metadata": {
    "collapsed": false,
    "pycharm": {
     "name": "#%%\n"
    }
   }
  },
  {
   "cell_type": "markdown",
   "source": [
    "## for loop iteration over a list\n",
    "\n",
    "If we want to do something to each member of a list, we want to *iterate* over that list in a *for* loop.   To accomplish this, we will use the `for` loop control structure:\n",
    "\n",
    "```python\n",
    "for x in iterable:\n",
    "    do stuff\n",
    "    do more stuff\n",
    "```\n",
    "\n",
    "What this notation is doing is generating a \"loop\", which iterates over all the elements in `iterable`.  On each iteration it assigns the next item from the iterable to `x`, and then executes the for loop code block (indicating by indentation).  We need not worry about what an \"iterable\" is exactly just yet.  For now, it is sufficient to say that a list is an iterable, so it can be iterated over with a for loop like the above."
   ],
   "metadata": {
    "collapsed": false
   }
  },
  {
   "cell_type": "code",
   "execution_count": null,
   "outputs": [],
   "source": [
    "my_list = [1, 2, 'a', 3]\n",
    "for item in my_list:\n",
    "    print('current item is: ', item)"
   ],
   "metadata": {
    "collapsed": false,
    "pycharm": {
     "name": "#%%\n"
    }
   }
  },
  {
   "cell_type": "markdown",
   "source": [
    "### range()\n",
    "\n",
    "It is very common to run a for loop over some sequence of integers.  So it would be helpful to have a function that defines a sequence of integers for us.\n",
    "\n",
    "The command `range` does that.\n",
    "\n",
    "The syntax for the range command is\n",
    "`range(start, stop)`\n",
    "\n",
    "and it generates an *iterable* that we can *iterate* over (such as in a for loop) with the integers starting with `start` and ending at `stop`-1 (in steps of 1 -- default if no 3rd argument is provided)"
   ],
   "metadata": {
    "collapsed": false
   }
  },
  {
   "cell_type": "code",
   "execution_count": null,
   "outputs": [],
   "source": [
    "for i in range(5, 21):\n",
    "    print(i)"
   ],
   "metadata": {
    "collapsed": false,
    "pycharm": {
     "name": "#%%\n"
    }
   }
  },
  {
   "cell_type": "markdown",
   "source": [
    "Note that 5 was printed, but 21 was not!\n",
    "\n",
    "If we provide only one argument, it assumes that `first=0` and treats the argument we provide as `stop`."
   ],
   "metadata": {
    "collapsed": false
   }
  },
  {
   "cell_type": "code",
   "execution_count": null,
   "outputs": [],
   "source": [
    "for i in range(10):\n",
    "    print(i)"
   ],
   "metadata": {
    "collapsed": false,
    "pycharm": {
     "name": "#%%\n"
    }
   }
  },
  {
   "cell_type": "markdown",
   "source": [
    "Note that 0 was printed, but 10 was not!\n"
   ],
   "metadata": {
    "collapsed": false
   }
  },
  {
   "cell_type": "markdown",
   "source": [
    "\n",
    "## `continue`\n",
    "\n",
    "`continue` is a special operator to jump ahead to the next iteration of a loop."
   ],
   "metadata": {
    "collapsed": false
   }
  },
  {
   "cell_type": "code",
   "execution_count": null,
   "outputs": [],
   "source": [
    "for item in range(6):\n",
    "    if item == 2:\n",
    "        continue\n",
    "    print(item)"
   ],
   "metadata": {
    "collapsed": false,
    "pycharm": {
     "name": "#%%\n"
    }
   }
  },
  {
   "cell_type": "markdown",
   "source": [
    "note that we \"skipped 2\".  In practice what happened is that we stopped the iteration (and moved onto the next one) before the print statement was reached."
   ],
   "metadata": {
    "collapsed": false,
    "pycharm": {
     "name": "#%% md\n"
    }
   }
  },
  {
   "cell_type": "code",
   "execution_count": null,
   "outputs": [],
   "source": [
    "for item in  range(6):\n",
    "    print(\"start of for block for:\", item)\n",
    "    if item == 2:\n",
    "        continue\n",
    "    print(\"end of for block for:\", item)"
   ],
   "metadata": {
    "collapsed": false,
    "pycharm": {
     "name": "#%%\n"
    }
   }
  },
  {
   "cell_type": "markdown",
   "source": [
    "## `break`\n",
    "\n",
    "`break` is a special operator to get out of the loop.\n",
    "\n",
    "### `break` example"
   ],
   "metadata": {
    "collapsed": false
   }
  },
  {
   "cell_type": "code",
   "execution_count": null,
   "outputs": [],
   "source": [
    "for item in range(6):\n",
    "\n",
    "    if item == 2:\n",
    "        break\n",
    "\n",
    "    print(item)"
   ],
   "metadata": {
    "collapsed": false,
    "pycharm": {
     "name": "#%%\n"
    }
   }
  },
  {
   "cell_type": "code",
   "execution_count": null,
   "outputs": [],
   "source": [],
   "metadata": {
    "collapsed": false,
    "pycharm": {
     "name": "#%%"
    }
   }
  }
 ],
 "metadata": {
  "kernelspec": {
   "display_name": "Python 3",
   "language": "python",
   "name": "python3"
  },
  "language_info": {
   "codemirror_mode": {
    "name": "ipython",
    "version": 3
   },
   "file_extension": ".py",
   "mimetype": "text/x-python",
   "name": "python",
   "nbconvert_exporter": "python",
   "pygments_lexer": "ipython3",
   "version": "3.8.5"
  }
 },
 "nbformat": 4,
 "nbformat_minor": 4
}